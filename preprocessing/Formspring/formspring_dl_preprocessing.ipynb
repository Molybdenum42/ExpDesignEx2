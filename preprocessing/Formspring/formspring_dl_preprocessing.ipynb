{
 "cells": [
  {
   "cell_type": "code",
   "execution_count": 65,
   "id": "45d67a1b",
   "metadata": {},
   "outputs": [],
   "source": [
    "import numpy as np\n",
    "import pandas as pd\n",
    "import pickle\n",
    "from urllib.parse import urlparse\n",
    "import nltk\n",
    "from nltk.corpus import stopwords\n",
    "from nltk.tokenize import TweetTokenizer\n",
    "from imblearn.over_sampling import RandomOverSampler"
   ]
  },
  {
   "cell_type": "code",
   "execution_count": 66,
   "id": "8ac4c41f",
   "metadata": {},
   "outputs": [],
   "source": [
    "import string\n",
    "\n",
    "def load_data():\n",
    "    filename = \"../../data/formspring_data_fixed.pkl\"\n",
    "    print(\"Loading data from file: \" + filename)\n",
    "    data = pickle.load(open(filename, 'rb'))\n",
    "    x_text = []\n",
    "    labels = []\n",
    "    ids = []\n",
    "    for i in range(len(data)):\n",
    "        text = \"\".join(l for l in data[i]['text'] if l not in string.punctuation)\n",
    "        x_text.append((data[i]['text']).encode('utf-8'))\n",
    "        labels.append(data[i]['label'])\n",
    "    return x_text,labels"
   ]
  },
  {
   "cell_type": "code",
   "execution_count": 67,
   "id": "0d4d4dfd",
   "metadata": {},
   "outputs": [
    {
     "name": "stdout",
     "output_type": "stream",
     "text": [
      "Loading data from file: ../../data/formspring_data_fixed.pkl\n"
     ]
    }
   ],
   "source": [
    "x_text, labels = load_data()"
   ]
  },
  {
   "cell_type": "code",
   "execution_count": 68,
   "id": "3e4a0161",
   "metadata": {},
   "outputs": [],
   "source": [
    "labels, uniques = pd.factorize(labels)"
   ]
  },
  {
   "cell_type": "code",
   "execution_count": 69,
   "id": "8f96b256",
   "metadata": {},
   "outputs": [],
   "source": [
    "comments = pd.DataFrame({'comment': x_text, 'attack': labels})\n",
    "\n",
    "comments['comment'] = comments['comment'].str.decode(\"utf-8\")\n",
    "\n",
    "#Replace empty comments with np.nan\n",
    "comments['comment'].replace('', np.NaN, inplace=True)\n",
    "\n",
    "#Drop nan(empty) comments\n",
    "comments = comments[comments.comment.notna()]\n",
    "\n",
    "# lower case everything\n",
    "comments['comment'] = comments['comment'].str.lower()\n",
    "\n",
    "#Remove stop words\n",
    "comments['comment'] = comments['comment'].apply(lambda x: ' '.join([word for word in x.split() if word not in stopwords.words('english')]))\n",
    "\n",
    "# Tokenize\n",
    "comments['comment'] = comments.apply(lambda row: nltk.word_tokenize(row['comment']), axis=1)\n",
    "\n",
    "# Remove punctuations\n",
    "\n",
    "comments['comment'] = [list(filter(lambda x: x not in string.punctuation, sentence)) for sentence in comments['comment']]"
   ]
  },
  {
   "cell_type": "code",
   "execution_count": 72,
   "id": "99f1bed1",
   "metadata": {},
   "outputs": [],
   "source": [
    "comments.to_csv(\"../../data/formspring_data_DLpreprocessed.csv\", index=False)"
   ]
  },
  {
   "cell_type": "code",
   "execution_count": 73,
   "id": "f2353544",
   "metadata": {},
   "outputs": [],
   "source": [
    "# triple oversample in original paper is similar to equalizing numbers\n",
    "\n",
    "def oversample(df):\n",
    "    classes = df.attack.value_counts().to_dict()\n",
    "    most = max(classes.values())\n",
    "    classes_list = []\n",
    "    for key in classes:\n",
    "        classes_list.append(df[df['attack'] == key])\n",
    "    classes_sample = []\n",
    "    for i in range(1,len(classes_list)):\n",
    "        classes_sample.append(classes_list[i].sample(most, replace=True))\n",
    "    df_maybe = pd.concat(classes_sample)\n",
    "    final_df = pd.concat([df_maybe,classes_list[0]], axis=0)\n",
    "    final_df = final_df.reset_index(drop=True)\n",
    "    return final_df\n",
    "\n",
    "comments_oversampled  = oversample(comments)"
   ]
  },
  {
   "cell_type": "code",
   "execution_count": 74,
   "id": "4abdb605",
   "metadata": {},
   "outputs": [
    {
     "data": {
      "text/html": [
       "<div>\n",
       "<style scoped>\n",
       "    .dataframe tbody tr th:only-of-type {\n",
       "        vertical-align: middle;\n",
       "    }\n",
       "\n",
       "    .dataframe tbody tr th {\n",
       "        vertical-align: top;\n",
       "    }\n",
       "\n",
       "    .dataframe thead th {\n",
       "        text-align: right;\n",
       "    }\n",
       "</style>\n",
       "<table border=\"1\" class=\"dataframe\">\n",
       "  <thead>\n",
       "    <tr style=\"text-align: right;\">\n",
       "      <th></th>\n",
       "      <th>comment</th>\n",
       "      <th>attack</th>\n",
       "    </tr>\n",
       "  </thead>\n",
       "  <tbody>\n",
       "    <tr>\n",
       "      <th>0</th>\n",
       "      <td>[one, calling, hoe, shit, cuz, bitch, justin, ...</td>\n",
       "      <td>1</td>\n",
       "    </tr>\n",
       "    <tr>\n",
       "      <th>1</th>\n",
       "      <td>[kum, den, wit, dat, big, dick, yew, got, ta, ...</td>\n",
       "      <td>1</td>\n",
       "    </tr>\n",
       "    <tr>\n",
       "      <th>2</th>\n",
       "      <td>[beautiful, girl, dont, think, shoul, things, ...</td>\n",
       "      <td>1</td>\n",
       "    </tr>\n",
       "    <tr>\n",
       "      <th>3</th>\n",
       "      <td>[wait, nevermind, signed, dumb, ass]</td>\n",
       "      <td>1</td>\n",
       "    </tr>\n",
       "    <tr>\n",
       "      <th>4</th>\n",
       "      <td>[bitchezz, beloww, would, say, ur, name, yeww,...</td>\n",
       "      <td>1</td>\n",
       "    </tr>\n",
       "    <tr>\n",
       "      <th>...</th>\n",
       "      <td>...</td>\n",
       "      <td>...</td>\n",
       "    </tr>\n",
       "    <tr>\n",
       "      <th>23963</th>\n",
       "      <td>[youre, party, friend, drove, drunk, wo, give,...</td>\n",
       "      <td>0</td>\n",
       "    </tr>\n",
       "    <tr>\n",
       "      <th>23964</th>\n",
       "      <td>[youu2019re, awesome, give, compliment, deserv...</td>\n",
       "      <td>0</td>\n",
       "    </tr>\n",
       "    <tr>\n",
       "      <th>23965</th>\n",
       "      <td>[yu, play, yurself, time, sometimes, day]</td>\n",
       "      <td>0</td>\n",
       "    </tr>\n",
       "    <tr>\n",
       "      <th>23966</th>\n",
       "      <td>[yukk, beer, disgusting, drink, i, 'm, already...</td>\n",
       "      <td>0</td>\n",
       "    </tr>\n",
       "    <tr>\n",
       "      <th>23967</th>\n",
       "      <td>[told, u, den, would, make, less, fun, would, ...</td>\n",
       "      <td>0</td>\n",
       "    </tr>\n",
       "  </tbody>\n",
       "</table>\n",
       "<p>23968 rows × 2 columns</p>\n",
       "</div>"
      ],
      "text/plain": [
       "                                                 comment  attack\n",
       "0      [one, calling, hoe, shit, cuz, bitch, justin, ...       1\n",
       "1      [kum, den, wit, dat, big, dick, yew, got, ta, ...       1\n",
       "2      [beautiful, girl, dont, think, shoul, things, ...       1\n",
       "3                   [wait, nevermind, signed, dumb, ass]       1\n",
       "4      [bitchezz, beloww, would, say, ur, name, yeww,...       1\n",
       "...                                                  ...     ...\n",
       "23963  [youre, party, friend, drove, drunk, wo, give,...       0\n",
       "23964  [youu2019re, awesome, give, compliment, deserv...       0\n",
       "23965          [yu, play, yurself, time, sometimes, day]       0\n",
       "23966  [yukk, beer, disgusting, drink, i, 'm, already...       0\n",
       "23967  [told, u, den, would, make, less, fun, would, ...       0\n",
       "\n",
       "[23968 rows x 2 columns]"
      ]
     },
     "execution_count": 74,
     "metadata": {},
     "output_type": "execute_result"
    }
   ],
   "source": [
    "comments_oversampled"
   ]
  },
  {
   "cell_type": "code",
   "execution_count": 75,
   "id": "df468e3a",
   "metadata": {},
   "outputs": [],
   "source": [
    "comments_oversampled.to_csv(\"../../data/formspring_data_DLpreprocessed_oversampled.csv\", index=False)"
   ]
  },
  {
   "cell_type": "code",
   "execution_count": null,
   "id": "8bd15c60",
   "metadata": {},
   "outputs": [],
   "source": []
  }
 ],
 "metadata": {
  "kernelspec": {
   "display_name": "Python 3 (ipykernel)",
   "language": "python",
   "name": "python3"
  },
  "language_info": {
   "codemirror_mode": {
    "name": "ipython",
    "version": 3
   },
   "file_extension": ".py",
   "mimetype": "text/x-python",
   "name": "python",
   "nbconvert_exporter": "python",
   "pygments_lexer": "ipython3",
   "version": "3.9.7"
  }
 },
 "nbformat": 4,
 "nbformat_minor": 5
}
