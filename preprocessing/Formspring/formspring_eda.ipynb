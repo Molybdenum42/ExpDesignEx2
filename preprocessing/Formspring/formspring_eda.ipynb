{
 "cells": [
  {
   "cell_type": "code",
   "execution_count": 129,
   "id": "155952f2-83e5-4a7f-829c-ec7922e2ad12",
   "metadata": {},
   "outputs": [],
   "source": [
    "import pandas as pd\n",
    "\n",
    "import pickle\n",
    "import preprocessor as p\n",
    "import numpy as np\n",
    "import nltk\n",
    "import string\n",
    "from textblob import TextBlob"
   ]
  },
  {
   "cell_type": "code",
   "execution_count": 130,
   "id": "4a41cd28-f649-4036-b596-8e0fe28fcf01",
   "metadata": {},
   "outputs": [],
   "source": [
    "data = pd.read_csv('../../data/formspring_data_1.csv', sep = '\\t')"
   ]
  },
  {
   "cell_type": "code",
   "execution_count": 131,
   "id": "28ce5cad-a628-496a-a697-908f7e5b95f5",
   "metadata": {},
   "outputs": [],
   "source": [
    "def get_label(post):\n",
    "    label = 1 if ((post.ans1 == \"Yes\" and post.ans2 == \"Yes\") or (post.ans2 == \"Yes\" and post.ans3 == \"Yes\") or (post.ans1 == \"Yes\" and post.ans3 == \"Yes\")) else 0\n",
    "    return label\n",
    "\n",
    "data['attack'] = data.apply(get_label, axis=1)"
   ]
  },
  {
   "cell_type": "code",
   "execution_count": 132,
   "id": "cf827f1b-9bd3-49b6-9624-030177d7c3e3",
   "metadata": {},
   "outputs": [
    {
     "data": {
      "text/html": [
       "<div>\n",
       "<style scoped>\n",
       "    .dataframe tbody tr th:only-of-type {\n",
       "        vertical-align: middle;\n",
       "    }\n",
       "\n",
       "    .dataframe tbody tr th {\n",
       "        vertical-align: top;\n",
       "    }\n",
       "\n",
       "    .dataframe thead th {\n",
       "        text-align: right;\n",
       "    }\n",
       "</style>\n",
       "<table border=\"1\" class=\"dataframe\">\n",
       "  <thead>\n",
       "    <tr style=\"text-align: right;\">\n",
       "      <th></th>\n",
       "      <th>userid</th>\n",
       "      <th>post</th>\n",
       "      <th>ques</th>\n",
       "      <th>ans</th>\n",
       "      <th>asker</th>\n",
       "      <th>ans1</th>\n",
       "      <th>severity1</th>\n",
       "      <th>ans2</th>\n",
       "      <th>severity2</th>\n",
       "      <th>ans3</th>\n",
       "      <th>severity3</th>\n",
       "      <th>attack</th>\n",
       "    </tr>\n",
       "  </thead>\n",
       "  <tbody>\n",
       "    <tr>\n",
       "      <th>0</th>\n",
       "      <td>aguitarplayer94</td>\n",
       "      <td>Q: what&amp;#039;s your favorite song? :D&lt;br&gt;A: I ...</td>\n",
       "      <td>what&amp;#039;s your favorite song? :D&lt;br&gt;</td>\n",
       "      <td>I like too many songs to have a favorite</td>\n",
       "      <td>None</td>\n",
       "      <td>No</td>\n",
       "      <td>0</td>\n",
       "      <td>No</td>\n",
       "      <td>0</td>\n",
       "      <td>No</td>\n",
       "      <td>0</td>\n",
       "      <td>0</td>\n",
       "    </tr>\n",
       "    <tr>\n",
       "      <th>1</th>\n",
       "      <td>aprilpooh15</td>\n",
       "      <td>Q: &lt;3&lt;br&gt;A: &lt;/3 ? haha jk! &lt;33</td>\n",
       "      <td>&lt;3</td>\n",
       "      <td>&lt;/3 ? haha jk! &lt;33</td>\n",
       "      <td>None</td>\n",
       "      <td>No</td>\n",
       "      <td>0</td>\n",
       "      <td>No</td>\n",
       "      <td>0</td>\n",
       "      <td>No</td>\n",
       "      <td>0</td>\n",
       "      <td>0</td>\n",
       "    </tr>\n",
       "    <tr>\n",
       "      <th>2</th>\n",
       "      <td>aprilpooh15</td>\n",
       "      <td>Q: &amp;quot;hey angel  you duh sexy&amp;quot;&lt;br&gt;A: R...</td>\n",
       "      <td>&amp;quot;hey angel  you duh sexy&amp;quot;</td>\n",
       "      <td>Really?!?! Thanks?! haha</td>\n",
       "      <td>None</td>\n",
       "      <td>No</td>\n",
       "      <td>0</td>\n",
       "      <td>No</td>\n",
       "      <td>0</td>\n",
       "      <td>No</td>\n",
       "      <td>0</td>\n",
       "      <td>0</td>\n",
       "    </tr>\n",
       "    <tr>\n",
       "      <th>3</th>\n",
       "      <td>aprilpooh15</td>\n",
       "      <td>Q: (:&lt;br&gt;A: ;(</td>\n",
       "      <td>(:</td>\n",
       "      <td>;(</td>\n",
       "      <td>None</td>\n",
       "      <td>No</td>\n",
       "      <td>0</td>\n",
       "      <td>No</td>\n",
       "      <td>0</td>\n",
       "      <td>No</td>\n",
       "      <td>0</td>\n",
       "      <td>0</td>\n",
       "    </tr>\n",
       "    <tr>\n",
       "      <th>4</th>\n",
       "      <td>aprilpooh15</td>\n",
       "      <td>Q: ******************MEOWWW*******************...</td>\n",
       "      <td>******************MEOWWW*************************</td>\n",
       "      <td>*RAWR*?</td>\n",
       "      <td>None</td>\n",
       "      <td>No</td>\n",
       "      <td>0</td>\n",
       "      <td>No</td>\n",
       "      <td>0</td>\n",
       "      <td>No</td>\n",
       "      <td>0</td>\n",
       "      <td>0</td>\n",
       "    </tr>\n",
       "  </tbody>\n",
       "</table>\n",
       "</div>"
      ],
      "text/plain": [
       "            userid                                               post  \\\n",
       "0  aguitarplayer94  Q: what&#039;s your favorite song? :D<br>A: I ...   \n",
       "1      aprilpooh15                     Q: <3<br>A: </3 ? haha jk! <33   \n",
       "2      aprilpooh15  Q: &quot;hey angel  you duh sexy&quot;<br>A: R...   \n",
       "3      aprilpooh15                                     Q: (:<br>A: ;(   \n",
       "4      aprilpooh15  Q: ******************MEOWWW*******************...   \n",
       "\n",
       "                                                ques  \\\n",
       "0             what&#039;s your favorite song? :D<br>   \n",
       "1                                                 <3   \n",
       "2                &quot;hey angel  you duh sexy&quot;   \n",
       "3                                                 (:   \n",
       "4  ******************MEOWWW*************************   \n",
       "\n",
       "                                         ans asker ans1 severity1 ans2  \\\n",
       "0   I like too many songs to have a favorite  None   No         0   No   \n",
       "1                         </3 ? haha jk! <33  None   No         0   No   \n",
       "2                   Really?!?! Thanks?! haha  None   No         0   No   \n",
       "3                                         ;(  None   No         0   No   \n",
       "4                                    *RAWR*?  None   No         0   No   \n",
       "\n",
       "  severity2 ans3 severity3  attack  \n",
       "0         0   No         0       0  \n",
       "1         0   No         0       0  \n",
       "2         0   No         0       0  \n",
       "3         0   No         0       0  \n",
       "4         0   No         0       0  "
      ]
     },
     "execution_count": 132,
     "metadata": {},
     "output_type": "execute_result"
    }
   ],
   "source": [
    "data.head()"
   ]
  },
  {
   "cell_type": "code",
   "execution_count": 133,
   "id": "cd287e54-280f-4b99-9e0d-bfdead72b4f5",
   "metadata": {},
   "outputs": [],
   "source": [
    "data['post'] = data['post'].apply(lambda x: x.replace('Q:',' ').replace('A:',' ').replace('<br>',' '))\n",
    "data['comment'] = data['post'].apply(lambda x: \"\".join(l for l in x if l not in string.punctuation))\n",
    "data['length'] = data[\"comment\"].apply(lambda x: len(x.split()))"
   ]
  },
  {
   "cell_type": "code",
   "execution_count": 134,
   "id": "b6a9d98e-a86c-4f50-a73d-79a53c78e75c",
   "metadata": {},
   "outputs": [],
   "source": [
    "commentlength = data[\"comment\"].apply(lambda x: len(x.split()))\n",
    "lengthlimit = commentlength.quantile(.95)\n",
    "\n",
    "table1dict = {'# Posts: ': [len(data)], '# Classes:': [len(data[\"attack\"].unique())], '95% length:': [lengthlimit], \"max length:\": [commentlength.max()]}"
   ]
  },
  {
   "cell_type": "code",
   "execution_count": 135,
   "id": "62dbcec9-1c63-4385-be85-1a4cdf093b21",
   "metadata": {},
   "outputs": [
    {
     "data": {
      "text/html": [
       "<div>\n",
       "<style scoped>\n",
       "    .dataframe tbody tr th:only-of-type {\n",
       "        vertical-align: middle;\n",
       "    }\n",
       "\n",
       "    .dataframe tbody tr th {\n",
       "        vertical-align: top;\n",
       "    }\n",
       "\n",
       "    .dataframe thead th {\n",
       "        text-align: right;\n",
       "    }\n",
       "</style>\n",
       "<table border=\"1\" class=\"dataframe\">\n",
       "  <thead>\n",
       "    <tr style=\"text-align: right;\">\n",
       "      <th></th>\n",
       "      <th># Posts:</th>\n",
       "      <th># Classes:</th>\n",
       "      <th>95% length:</th>\n",
       "      <th>max length:</th>\n",
       "    </tr>\n",
       "  </thead>\n",
       "  <tbody>\n",
       "    <tr>\n",
       "      <th>0</th>\n",
       "      <td>12773</td>\n",
       "      <td>2</td>\n",
       "      <td>58.0</td>\n",
       "      <td>1076</td>\n",
       "    </tr>\n",
       "  </tbody>\n",
       "</table>\n",
       "</div>"
      ],
      "text/plain": [
       "   # Posts:   # Classes:  95% length:  max length:\n",
       "0      12773           2         58.0         1076"
      ]
     },
     "execution_count": 135,
     "metadata": {},
     "output_type": "execute_result"
    }
   ],
   "source": [
    "pd.DataFrame(table1dict)"
   ]
  },
  {
   "cell_type": "code",
   "execution_count": 136,
   "id": "de22f705-1278-4891-a1fc-d995cefb3d1c",
   "metadata": {},
   "outputs": [
    {
     "name": "stdout",
     "output_type": "stream",
     "text": [
      "# Posts: 12773\n",
      "# Classes: 2\n",
      "95% length: 58.0\n",
      "max length: 1076\n"
     ]
    }
   ],
   "source": [
    "# table 1 info\n",
    "print(\"# Posts:\", len(data))\n",
    "print(\"# Classes:\", len(data[\"attack\"].unique()))\n",
    "commentlength = data[\"comment\"].apply(lambda x: len(x.split()))\n",
    "lengthlimit = commentlength.quantile(.95)\n",
    "print(\"95% length:\", lengthlimit)\n",
    "print(\"max length:\", commentlength.max())"
   ]
  },
  {
   "cell_type": "code",
   "execution_count": 137,
   "id": "615f7028-6825-48b9-9132-2c9f1fca7fb7",
   "metadata": {},
   "outputs": [],
   "source": [
    "data.to_csv('../../data/formspring_data_preprocessed.csv', index=False)"
   ]
  },
  {
   "cell_type": "code",
   "execution_count": 138,
   "id": "8d03a2a6-95ac-4aca-a158-d75270fbedd0",
   "metadata": {},
   "outputs": [],
   "source": [
    "data = data[['comment','asker','attack']]"
   ]
  },
  {
   "cell_type": "code",
   "execution_count": 139,
   "id": "2cd86d5f-783c-4abd-a8c2-3d9c7258253a",
   "metadata": {},
   "outputs": [],
   "source": [
    "swear_words = \"../../swear_words.txt\"\n",
    "word_list = []\n",
    "with open(swear_words) as f:\n",
    "    word_list = f.read().splitlines()"
   ]
  },
  {
   "cell_type": "code",
   "execution_count": 140,
   "id": "b84b4073-01c8-4ba0-99b9-1ee6e5b7d162",
   "metadata": {},
   "outputs": [],
   "source": [
    "def tokens(post):\n",
    "    return TextBlob(post).words\n",
    "    \n",
    "def get_bad_word_count(post):\n",
    "    x = tokens(post)\n",
    "    count = 0\n",
    "    bad_words = []\n",
    "    for word in x:\n",
    "        if word in word_list:\n",
    "            count+=1\n",
    "            bad_words.append(word)\n",
    "    return count, str(bad_words)\n",
    "\n",
    "data['bad_word_count'],data['bad_word_list']= zip(*data['comment'].map(get_bad_word_count)) "
   ]
  },
  {
   "cell_type": "code",
   "execution_count": 141,
   "id": "cf1a37f8-2684-4fd3-8b78-4d762f77a253",
   "metadata": {},
   "outputs": [],
   "source": [
    "bwc, bwl = zip(*data[\"comment\"].map(get_bad_word_count))\n",
    "has_bw = pd.Series(np.array(bwc) > 0, index=data.index)\n",
    "has_swears = data[\"comment\"].apply(lambda x: any([swear in x for swear in word_list]))\n",
    "swears = pd.concat([has_bw, has_swears], axis=1, keys=[\"original\", \"new\"])"
   ]
  },
  {
   "cell_type": "code",
   "execution_count": 142,
   "id": "5997c47e-1fe9-4da9-ba14-2159a124546d",
   "metadata": {},
   "outputs": [],
   "source": [
    "def data_analysis(comments):\n",
    "    total = len(comments)\n",
    "    bully = len(comments[comments['attack']==1])\n",
    "    swear = len(comments[comments['bad_word_count']>0])\n",
    "    anonymous = len(comments[comments['asker']=='None'])\n",
    "    swear_bully = len(comments[(comments['bad_word_count']>0) & (comments['attack']==1) ])\n",
    "    anonymous_bully = len(comments[(comments['attack']==1) & (comments['asker']=='None')])\n",
    "    anonymous_swear = len(comments[(comments['bad_word_count']>0)  & (comments['asker']=='None')])\n",
    "    anonymous_bully_swear = len(comments[(comments['attack']==1) & (comments['bad_word_count']>0)  & (comments['asker']=='None')])\n",
    "    \n",
    "    P_B = float(bully)/total\n",
    "    P_S = float(swear)/total\n",
    "    P_A = float(anonymous)/total\n",
    "    P_B_S = float(swear_bully)/swear\n",
    "    P_S_B = float(swear_bully)/bully\n",
    "    P_B_A = float(anonymous_bully)/anonymous\n",
    "    P_A_B = float(anonymous_bully)/bully\n",
    "    P_S_A = float(anonymous_swear)/anonymous\n",
    "    P_A_S = float(anonymous_swear)/total\n",
    "    P_B_A_S = float(anonymous_bully_swear)/ anonymous_swear\n",
    "    \n",
    "    probs = pd.DataFrame({'P(B):': [round(P_B,2)],\n",
    "                        'P(S):': [round(P_S, 2)],\n",
    "                        'P(A):': [round(P_A, 2)],\n",
    "                        'P(B|S):': [round(P_B_S, 2)],\n",
    "                        'P(S|B):':[round( P_S_B, 2)],\n",
    "                        'P(B|A):':[round(P_B_A, 2)],\n",
    "                        'P(A|B):': [round(P_A_B, 2)],\n",
    "                        'P(S|A):': [round(P_S_A, 2)],\n",
    "                        'P(B|A & S)': [round(P_B_A_S, 2)]})\n",
    "    return probs"
   ]
  },
  {
   "cell_type": "code",
   "execution_count": 143,
   "id": "a8cc24a1-c237-47c1-911e-478d99f40fa7",
   "metadata": {},
   "outputs": [],
   "source": [
    "probs = data_analysis(data)"
   ]
  },
  {
   "cell_type": "code",
   "execution_count": 144,
   "id": "e24b0e82-cd1c-4875-8f24-e3ccb25015ab",
   "metadata": {},
   "outputs": [
    {
     "data": {
      "text/html": [
       "<div>\n",
       "<style scoped>\n",
       "    .dataframe tbody tr th:only-of-type {\n",
       "        vertical-align: middle;\n",
       "    }\n",
       "\n",
       "    .dataframe tbody tr th {\n",
       "        vertical-align: top;\n",
       "    }\n",
       "\n",
       "    .dataframe thead th {\n",
       "        text-align: right;\n",
       "    }\n",
       "</style>\n",
       "<table border=\"1\" class=\"dataframe\">\n",
       "  <thead>\n",
       "    <tr style=\"text-align: right;\">\n",
       "      <th></th>\n",
       "      <th>P(B):</th>\n",
       "      <th>P(S):</th>\n",
       "      <th>P(A):</th>\n",
       "      <th>P(B|S):</th>\n",
       "      <th>P(S|B):</th>\n",
       "      <th>P(B|A):</th>\n",
       "      <th>P(A|B):</th>\n",
       "      <th>P(S|A):</th>\n",
       "      <th>P(B|A &amp; S)</th>\n",
       "    </tr>\n",
       "  </thead>\n",
       "  <tbody>\n",
       "    <tr>\n",
       "      <th>0</th>\n",
       "      <td>0.06</td>\n",
       "      <td>0.16</td>\n",
       "      <td>0.53</td>\n",
       "      <td>0.22</td>\n",
       "      <td>0.59</td>\n",
       "      <td>0.08</td>\n",
       "      <td>0.71</td>\n",
       "      <td>0.2</td>\n",
       "      <td>0.25</td>\n",
       "    </tr>\n",
       "  </tbody>\n",
       "</table>\n",
       "</div>"
      ],
      "text/plain": [
       "   P(B):  P(S):  P(A):  P(B|S):  P(S|B):  P(B|A):  P(A|B):  P(S|A):  \\\n",
       "0   0.06   0.16   0.53     0.22     0.59     0.08     0.71      0.2   \n",
       "\n",
       "   P(B|A & S)  \n",
       "0        0.25  "
      ]
     },
     "execution_count": 144,
     "metadata": {},
     "output_type": "execute_result"
    }
   ],
   "source": [
    "probs"
   ]
  }
 ],
 "metadata": {
  "kernelspec": {
   "display_name": "Python 3 (ipykernel)",
   "language": "python",
   "name": "python3"
  },
  "language_info": {
   "codemirror_mode": {
    "name": "ipython",
    "version": 3
   },
   "file_extension": ".py",
   "mimetype": "text/x-python",
   "name": "python",
   "nbconvert_exporter": "python",
   "pygments_lexer": "ipython3",
   "version": "3.9.7"
  }
 },
 "nbformat": 4,
 "nbformat_minor": 5
}
