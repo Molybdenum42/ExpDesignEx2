{
 "cells": [
  {
   "cell_type": "code",
   "execution_count": 1,
   "metadata": {
    "collapsed": true,
    "jupyter": {
     "outputs_hidden": true
    }
   },
   "outputs": [],
   "source": [
    "import pandas as pd\n",
    "import numpy as np\n",
    "import string"
   ]
  },
  {
   "cell_type": "code",
   "execution_count": 2,
   "metadata": {
    "collapsed": false,
    "jupyter": {
     "outputs_hidden": false
    },
    "pycharm": {
     "name": "#%%\n"
    }
   },
   "outputs": [],
   "source": [
    "comments = pd.read_csv('../../data/attack_annotated_comments.tsv', sep = '\\t', index_col = 0)\n",
    "annotations = pd.read_csv('../../data/attack_annotations.tsv',  sep = '\\t')"
   ]
  },
  {
   "cell_type": "code",
   "execution_count": 3,
   "metadata": {
    "collapsed": false,
    "jupyter": {
     "outputs_hidden": false
    },
    "pycharm": {
     "name": "#%%\n"
    }
   },
   "outputs": [],
   "source": [
    "labels = annotations.groupby('rev_id')['attack'].mean() > 0.5\n",
    "comments['attack'] = labels"
   ]
  },
  {
   "cell_type": "code",
   "execution_count": 16,
   "metadata": {
    "collapsed": false,
    "jupyter": {
     "outputs_hidden": false
    },
    "pycharm": {
     "name": "#%%\n"
    }
   },
   "outputs": [],
   "source": [
    "comments['comment'] = comments['comment'].apply(lambda x: x.replace(\"NEWLINE_TOKEN\", \" \"))\n",
    "comments['comment'] = comments['comment'].apply(lambda x: x.replace(\"TAB_TOKEN\", \" \"))\n",
    "comments['comment'] = comments['comment'].apply(lambda x: x.lower())\n",
    "comments['comment'] = comments['comment'].apply(lambda x: \"\".join(l for l in x if l not in string.punctuation))"
   ]
  },
  {
   "cell_type": "code",
   "execution_count": 18,
   "metadata": {
    "collapsed": false,
    "jupyter": {
     "outputs_hidden": false
    },
    "pycharm": {
     "name": "#%%\n"
    }
   },
   "outputs": [
    {
     "name": "stdout",
     "output_type": "stream",
     "text": [
      "# Posts: 115864\n",
      "# Classes: 2\n",
      "95% length: 224.0\n",
      "max length: 2832\n"
     ]
    }
   ],
   "source": [
    "# table 1 info\n",
    "print(\"# Posts:\", len(comments))\n",
    "print(\"# Classes:\", len(comments[\"attack\"].unique()))\n",
    "commentlength = comments[\"comment\"].apply(lambda x: len(x.split()))\n",
    "lengthlimit = commentlength.quantile(.95)\n",
    "print(\"95% length:\", lengthlimit)\n",
    "print(\"max length:\", commentlength.max())"
   ]
  },
  {
   "cell_type": "code",
   "execution_count": 14,
   "metadata": {
    "collapsed": false,
    "jupyter": {
     "outputs_hidden": false
    },
    "pycharm": {
     "name": "#%%\n"
    }
   },
   "outputs": [
    {
     "name": "stdout",
     "output_type": "stream",
     "text": [
      "180407\n"
     ]
    }
   ],
   "source": [
    "\n",
    "words = {word for c in comments[\"comment\"].values for word in c.split() if \"http\" not in word\n",
    "                                                                        and \"www\" not in word}\n",
    "print(len(words))\n",
    "# far too many words compared to their method - but no code is available to check it."
   ]
  },
  {
   "cell_type": "code",
   "execution_count": 63,
   "metadata": {
    "collapsed": false,
    "jupyter": {
     "outputs_hidden": false
    },
    "pycharm": {
     "name": "#%%\n"
    }
   },
   "outputs": [
    {
     "name": "stdout",
     "output_type": "stream",
     "text": [
      "185800\n"
     ]
    }
   ],
   "source": []
  },
  {
   "cell_type": "code",
   "execution_count": 20,
   "metadata": {
    "collapsed": false,
    "jupyter": {
     "outputs_hidden": false
    },
    "pycharm": {
     "name": "#%%\n"
    }
   },
   "outputs": [],
   "source": [
    "truncated = comments[\"comment\"].apply(lambda x: \" \".join(x.split()[:int(lengthlimit)]))\n",
    "df = pd.concat([truncated, comments.iloc[:,1:]], axis=1)"
   ]
  },
  {
   "cell_type": "code",
   "execution_count": 62,
   "metadata": {
    "collapsed": false,
    "jupyter": {
     "outputs_hidden": false
    },
    "pycharm": {
     "name": "#%%\n"
    }
   },
   "outputs": [
    {
     "name": "stdout",
     "output_type": "stream",
     "text": [
      "is 'fuckshit' a swearword? False\n",
      "but are swearwords in 'fuckshit'? True\n"
     ]
    }
   ],
   "source": [
    "swearwordsfile = \"../../swear_words.txt\"\n",
    "with open(swearwordsfile, \"r\") as f:\n",
    "        swearwords = {x.strip() for x in f.readlines()}\n",
    "\n",
    "print(\"is 'fuckshit' a swearword?\", \"fuckshit\" in swearwords)\n",
    "print(\"but are swearwords in 'fuckshit'?\", any([x in 'fuckshit' for x in swearwords]))"
   ]
  },
  {
   "cell_type": "code",
   "execution_count": 64,
   "metadata": {
    "collapsed": false,
    "jupyter": {
     "outputs_hidden": false
    },
    "pycharm": {
     "name": "#%%\n"
    }
   },
   "outputs": [],
   "source": [
    "from textblob import TextBlob\n",
    "\n",
    "def tokens(post):\n",
    "    return TextBlob(post).words\n",
    "\n",
    "def get_bad_word_count(post):\n",
    "    x = tokens(post)\n",
    "    count = 0\n",
    "    bad_words = []\n",
    "    for word in x:\n",
    "        if word in swearwords:\n",
    "            count+=1\n",
    "            bad_words.append(word)\n",
    "    return count, str(bad_words)\n",
    "\n",
    "bwc, bwl = zip(*comments[\"comment\"].map(get_bad_word_count))\n",
    "has_bw = pd.Series(np.array(bwc) > 0, index=df.index)\n",
    "has_swears = df[\"comment\"].apply(lambda x: any([swear in x for swear in swearwords]))\n",
    "swears = pd.concat([has_bw, has_swears], axis=1, keys=[\"original\", \"new\"])"
   ]
  },
  {
   "cell_type": "code",
   "execution_count": 55,
   "metadata": {
    "collapsed": false,
    "jupyter": {
     "outputs_hidden": false
    },
    "pycharm": {
     "name": "#%%\n"
    }
   },
   "outputs": [
    {
     "name": "stdout",
     "output_type": "stream",
     "text": [
      "Comparison value for swear share:  0.41\n"
     ]
    }
   ],
   "source": [
    "np.sum(np.array(bwc) > 0) / len(bwc)\n",
    "print(\"Comparison value for swear share: \", has_swears.value_counts(normalize=True).round(2)[True])\n",
    "# df[\"has_swears\"] = np.array(bwc) > 0"
   ]
  },
  {
   "cell_type": "code",
   "execution_count": 68,
   "metadata": {
    "collapsed": false,
    "jupyter": {
     "outputs_hidden": false
    },
    "pycharm": {
     "name": "#%%\n"
    }
   },
   "outputs": [
    {
     "name": "stdout",
     "output_type": "stream",
     "text": [
      "           original    new\n",
      "P(B)          0.117  0.117\n",
      "P(S)          0.165  0.407\n",
      "P(A)          0.267  0.267\n",
      "P(B|S)        0.496  0.235\n",
      "P(S|B)        0.696  0.815\n",
      "P(B|A)        0.247  0.247\n",
      "P(A|B)        0.562  0.562\n",
      "P(S|A)        0.270  0.481\n",
      "P(B| A&S)     0.653  0.428\n"
     ]
    }
   ],
   "source": [
    "pb = df[\"attack\"].value_counts(normalize=True)[True]\n",
    "ps1 = swears[\"original\"].value_counts(normalize=True)[True]\n",
    "ps2 = swears[\"new\"].value_counts(normalize=True)[True]\n",
    "pa = df[\"logged_in\"].value_counts(normalize=True)[False]\n",
    "# print(pb, ps, pa)\n",
    "\n",
    "pb_s1 = df[\"attack\"][swears[\"original\"]].value_counts(normalize=True)[True]\n",
    "pb_s2 = df[\"attack\"][swears[\"new\"]].value_counts(normalize=True)[True]\n",
    "ps1_b = swears[\"original\"][df[\"attack\"]].value_counts(normalize=True)[True]\n",
    "ps2_b = swears[\"new\"][df[\"attack\"]].value_counts(normalize=True)[True]\n",
    "pb_a = df[\"attack\"][~df[\"logged_in\"]].value_counts(normalize=True)[True]\n",
    "pa_b = df[\"logged_in\"][df[\"attack\"]].value_counts(normalize=True)[False]\n",
    "ps1_a = swears[\"original\"][~df[\"logged_in\"]].value_counts(normalize=True)[True]\n",
    "ps2_a = swears[\"new\"][~df[\"logged_in\"]].value_counts(normalize=True)[True]\n",
    "pb_as1 = df[\"attack\"][~df[\"logged_in\"] & swears[\"original\"]].value_counts(normalize=True)[True]\n",
    "pb_as2 = df[\"attack\"][~df[\"logged_in\"] & swears[\"new\"]].value_counts(normalize=True)[True]\n",
    "\n",
    "# print(pb_s, ps_b, pb_a, pa_b, ps_a, pb_as)\n",
    "\n",
    "table2 = pd.DataFrame([[pb, ps1, pa, pb_s1, ps1_b, pb_a, pa_b, ps1_a, pb_as1],\n",
    "                    [pb, ps2, pa, pb_s2, ps2_b, pb_a, pa_b, ps2_a, pb_as2]],\n",
    "                   columns = [\"P(B)\", \"P(S)\", \"P(A)\", \"P(B|S)\", \"P(S|B)\", \"P(B|A)\", \"P(A|B)\", \"P(S|A)\", \"P(B|(A&S))\"],\n",
    "                   index = [\"original\", \"new\"])\n",
    "print(table2.T.round(3))"
   ]
  },
  {
   "cell_type": "code",
   "execution_count": 35,
   "metadata": {
    "collapsed": false,
    "jupyter": {
     "outputs_hidden": false
    },
    "pycharm": {
     "name": "#%%\n"
    }
   },
   "outputs": [
    {
     "data": {
      "text/html": [
       "<div>\n",
       "<style scoped>\n",
       "    .dataframe tbody tr th:only-of-type {\n",
       "        vertical-align: middle;\n",
       "    }\n",
       "\n",
       "    .dataframe tbody tr th {\n",
       "        vertical-align: top;\n",
       "    }\n",
       "\n",
       "    .dataframe thead th {\n",
       "        text-align: right;\n",
       "    }\n",
       "</style>\n",
       "<table border=\"1\" class=\"dataframe\">\n",
       "  <thead>\n",
       "    <tr style=\"text-align: right;\">\n",
       "      <th></th>\n",
       "      <th>comment</th>\n",
       "      <th>year</th>\n",
       "      <th>logged_in</th>\n",
       "      <th>ns</th>\n",
       "      <th>sample</th>\n",
       "      <th>split</th>\n",
       "      <th>attack</th>\n",
       "      <th>has_swears</th>\n",
       "    </tr>\n",
       "    <tr>\n",
       "      <th>rev_id</th>\n",
       "      <th></th>\n",
       "      <th></th>\n",
       "      <th></th>\n",
       "      <th></th>\n",
       "      <th></th>\n",
       "      <th></th>\n",
       "      <th></th>\n",
       "      <th></th>\n",
       "    </tr>\n",
       "  </thead>\n",
       "  <tbody>\n",
       "    <tr>\n",
       "      <th>37675</th>\n",
       "      <td>this is not creative those are the dictionary ...</td>\n",
       "      <td>2002</td>\n",
       "      <td>False</td>\n",
       "      <td>article</td>\n",
       "      <td>random</td>\n",
       "      <td>train</td>\n",
       "      <td>False</td>\n",
       "      <td>True</td>\n",
       "    </tr>\n",
       "    <tr>\n",
       "      <th>44816</th>\n",
       "      <td>the term standard model is itself less npov th...</td>\n",
       "      <td>2002</td>\n",
       "      <td>False</td>\n",
       "      <td>article</td>\n",
       "      <td>random</td>\n",
       "      <td>train</td>\n",
       "      <td>False</td>\n",
       "      <td>True</td>\n",
       "    </tr>\n",
       "    <tr>\n",
       "      <th>49851</th>\n",
       "      <td>true or false the situation as of march was su...</td>\n",
       "      <td>2002</td>\n",
       "      <td>False</td>\n",
       "      <td>article</td>\n",
       "      <td>random</td>\n",
       "      <td>train</td>\n",
       "      <td>False</td>\n",
       "      <td>False</td>\n",
       "    </tr>\n",
       "    <tr>\n",
       "      <th>89320</th>\n",
       "      <td>next maybe you could work on being less condes...</td>\n",
       "      <td>2002</td>\n",
       "      <td>True</td>\n",
       "      <td>article</td>\n",
       "      <td>random</td>\n",
       "      <td>dev</td>\n",
       "      <td>False</td>\n",
       "      <td>True</td>\n",
       "    </tr>\n",
       "    <tr>\n",
       "      <th>93890</th>\n",
       "      <td>this page will need disambiguation</td>\n",
       "      <td>2002</td>\n",
       "      <td>True</td>\n",
       "      <td>article</td>\n",
       "      <td>random</td>\n",
       "      <td>train</td>\n",
       "      <td>False</td>\n",
       "      <td>False</td>\n",
       "    </tr>\n",
       "    <tr>\n",
       "      <th>...</th>\n",
       "      <td>...</td>\n",
       "      <td>...</td>\n",
       "      <td>...</td>\n",
       "      <td>...</td>\n",
       "      <td>...</td>\n",
       "      <td>...</td>\n",
       "      <td>...</td>\n",
       "      <td>...</td>\n",
       "    </tr>\n",
       "    <tr>\n",
       "      <th>699848324</th>\n",
       "      <td>these sources dont exactly exude a sense of im...</td>\n",
       "      <td>2016</td>\n",
       "      <td>True</td>\n",
       "      <td>article</td>\n",
       "      <td>blocked</td>\n",
       "      <td>train</td>\n",
       "      <td>False</td>\n",
       "      <td>True</td>\n",
       "    </tr>\n",
       "    <tr>\n",
       "      <th>699851288</th>\n",
       "      <td>the institute for historical review is a peerr...</td>\n",
       "      <td>2016</td>\n",
       "      <td>True</td>\n",
       "      <td>article</td>\n",
       "      <td>blocked</td>\n",
       "      <td>test</td>\n",
       "      <td>False</td>\n",
       "      <td>True</td>\n",
       "    </tr>\n",
       "    <tr>\n",
       "      <th>699857133</th>\n",
       "      <td>the way youre trying to describe it in this ar...</td>\n",
       "      <td>2016</td>\n",
       "      <td>True</td>\n",
       "      <td>article</td>\n",
       "      <td>blocked</td>\n",
       "      <td>train</td>\n",
       "      <td>False</td>\n",
       "      <td>True</td>\n",
       "    </tr>\n",
       "    <tr>\n",
       "      <th>699891012</th>\n",
       "      <td>warning there is clearly a protectionist regim...</td>\n",
       "      <td>2016</td>\n",
       "      <td>True</td>\n",
       "      <td>user</td>\n",
       "      <td>blocked</td>\n",
       "      <td>dev</td>\n",
       "      <td>False</td>\n",
       "      <td>True</td>\n",
       "    </tr>\n",
       "    <tr>\n",
       "      <th>699897151</th>\n",
       "      <td>alternate option is there perhaps enough newsw...</td>\n",
       "      <td>2016</td>\n",
       "      <td>True</td>\n",
       "      <td>article</td>\n",
       "      <td>blocked</td>\n",
       "      <td>train</td>\n",
       "      <td>False</td>\n",
       "      <td>True</td>\n",
       "    </tr>\n",
       "  </tbody>\n",
       "</table>\n",
       "<p>115864 rows × 8 columns</p>\n",
       "</div>"
      ],
      "text/plain": [
       "                                                     comment  year  logged_in  \\\n",
       "rev_id                                                                          \n",
       "37675      this is not creative those are the dictionary ...  2002      False   \n",
       "44816      the term standard model is itself less npov th...  2002      False   \n",
       "49851      true or false the situation as of march was su...  2002      False   \n",
       "89320      next maybe you could work on being less condes...  2002       True   \n",
       "93890                     this page will need disambiguation  2002       True   \n",
       "...                                                      ...   ...        ...   \n",
       "699848324  these sources dont exactly exude a sense of im...  2016       True   \n",
       "699851288  the institute for historical review is a peerr...  2016       True   \n",
       "699857133  the way youre trying to describe it in this ar...  2016       True   \n",
       "699891012  warning there is clearly a protectionist regim...  2016       True   \n",
       "699897151  alternate option is there perhaps enough newsw...  2016       True   \n",
       "\n",
       "                ns   sample  split  attack  has_swears  \n",
       "rev_id                                                  \n",
       "37675      article   random  train   False        True  \n",
       "44816      article   random  train   False        True  \n",
       "49851      article   random  train   False       False  \n",
       "89320      article   random    dev   False        True  \n",
       "93890      article   random  train   False       False  \n",
       "...            ...      ...    ...     ...         ...  \n",
       "699848324  article  blocked  train   False        True  \n",
       "699851288  article  blocked   test   False        True  \n",
       "699857133  article  blocked  train   False        True  \n",
       "699891012     user  blocked    dev   False        True  \n",
       "699897151  article  blocked  train   False        True  \n",
       "\n",
       "[115864 rows x 8 columns]"
      ]
     },
     "execution_count": 35,
     "metadata": {},
     "output_type": "execute_result"
    }
   ],
   "source": [
    "df"
   ]
  }
 ],
 "metadata": {
  "kernelspec": {
   "display_name": "Python 3 (ipykernel)",
   "language": "python",
   "name": "python3"
  },
  "language_info": {
   "codemirror_mode": {
    "name": "ipython",
    "version": 3
   },
   "file_extension": ".py",
   "mimetype": "text/x-python",
   "name": "python",
   "nbconvert_exporter": "python",
   "pygments_lexer": "ipython3",
   "version": "3.9.7"
  }
 },
 "nbformat": 4,
 "nbformat_minor": 4
}
