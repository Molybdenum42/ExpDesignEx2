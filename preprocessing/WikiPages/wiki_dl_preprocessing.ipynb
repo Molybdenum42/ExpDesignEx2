{
 "cells": [
  {
   "cell_type": "code",
   "execution_count": 88,
   "id": "547deb1b",
   "metadata": {},
   "outputs": [],
   "source": [
    "import numpy as np\n",
    "import pandas as pd\n",
    "import pickle\n",
    "from urllib.parse import urlparse\n",
    "import nltk\n",
    "from nltk.corpus import stopwords\n",
    "from nltk.tokenize import TweetTokenizer\n",
    "from imblearn.over_sampling import RandomOverSampler"
   ]
  },
  {
   "cell_type": "code",
   "execution_count": 89,
   "id": "acca545b",
   "metadata": {},
   "outputs": [],
   "source": [
    "comments = pd.read_csv('../WikiPages/wikipedia_preprocessed.csv')"
   ]
  },
  {
   "cell_type": "code",
   "execution_count": 90,
   "id": "f4ec90c0",
   "metadata": {},
   "outputs": [],
   "source": [
    "x_text = list(comments['comment'])\n",
    "labels = list(comments['attack'])\n",
    "\n",
    "labels, uniques = pd.factorize(labels)"
   ]
  },
  {
   "cell_type": "code",
   "execution_count": 91,
   "id": "f43ecc68",
   "metadata": {},
   "outputs": [],
   "source": [
    "comments = pd.DataFrame({'comment': x_text, 'attack': labels})"
   ]
  },
  {
   "cell_type": "code",
   "execution_count": 92,
   "id": "2337a3fd",
   "metadata": {},
   "outputs": [],
   "source": [
    "#drop nulls\n",
    "comments = comments[comments['comment'].notna()]\n",
    "\n",
    "#lower case\n",
    "comments['comment'] = comments['comment'].str.lower()\n",
    "\n",
    "#remove stop words\n",
    "comments['comment'] = comments['comment'].apply(lambda x: ' '.join([word for word in x.split() if word not in stopwords.words('english')]))\n",
    "\n",
    "#tokenize\n",
    "comments['comment'] = comments.apply(lambda row: nltk.word_tokenize(row['comment']), axis=1)\n",
    "\n",
    "#remove punctiations\n",
    "comments['comment'] = [list(filter(lambda x: x not in string.punctuation, sentence)) for sentence in comments['comment']]"
   ]
  },
  {
   "cell_type": "code",
   "execution_count": 95,
   "id": "1a52746e",
   "metadata": {},
   "outputs": [],
   "source": [
    "comments.to_csv(\"../../data/wiki_data_DLpreprocessed.csv\", index=False)"
   ]
  },
  {
   "cell_type": "code",
   "execution_count": 96,
   "id": "7bef88ae",
   "metadata": {},
   "outputs": [],
   "source": [
    "# triple oversample in original paper is similar to equalizing numbers\n",
    "\n",
    "def oversample(df):\n",
    "    classes = df.attack.value_counts().to_dict()\n",
    "    most = max(classes.values())\n",
    "    classes_list = []\n",
    "    for key in classes:\n",
    "        classes_list.append(df[df['attack'] == key])\n",
    "    classes_sample = []\n",
    "    for i in range(1,len(classes_list)):\n",
    "        classes_sample.append(classes_list[i].sample(most, replace=True))\n",
    "    df_maybe = pd.concat(classes_sample)\n",
    "    final_df = pd.concat([df_maybe,classes_list[0]], axis=0)\n",
    "    final_df = final_df.reset_index(drop=True)\n",
    "    return final_df\n",
    "\n",
    "comments_oversampled  = oversample(comments)"
   ]
  },
  {
   "cell_type": "code",
   "execution_count": 99,
   "id": "97e7e4d8",
   "metadata": {},
   "outputs": [],
   "source": [
    "comments_oversampled.to_csv(\"../../data/wiki_data_DLpreprocessed_oversampled.csv\", index=False)"
   ]
  },
  {
   "cell_type": "code",
   "execution_count": null,
   "id": "4a7ffc83",
   "metadata": {},
   "outputs": [],
   "source": []
  }
 ],
 "metadata": {
  "kernelspec": {
   "display_name": "Python 3 (ipykernel)",
   "language": "python",
   "name": "python3"
  },
  "language_info": {
   "codemirror_mode": {
    "name": "ipython",
    "version": 3
   },
   "file_extension": ".py",
   "mimetype": "text/x-python",
   "name": "python",
   "nbconvert_exporter": "python",
   "pygments_lexer": "ipython3",
   "version": "3.9.7"
  }
 },
 "nbformat": 4,
 "nbformat_minor": 5
}
