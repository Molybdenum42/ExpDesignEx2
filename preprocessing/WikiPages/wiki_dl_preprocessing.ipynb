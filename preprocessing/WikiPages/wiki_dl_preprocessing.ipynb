{
 "cells": [
  {
   "cell_type": "code",
   "execution_count": 37,
   "id": "547deb1b",
   "metadata": {},
   "outputs": [
    {
     "name": "stderr",
     "output_type": "stream",
     "text": [
      "[nltk_data] Downloading package stopwords to\n",
      "[nltk_data]     C:\\Users\\dgiov\\AppData\\Roaming\\nltk_data...\n",
      "[nltk_data]   Package stopwords is already up-to-date!\n"
     ]
    }
   ],
   "source": [
    "import numpy as np\n",
    "import pandas as pd\n",
    "import pickle\n",
    "from urllib.parse import urlparse\n",
    "import nltk\n",
    "#from nltk.corpus import stopwords\n",
    "nltk.download('stopwords')\n",
    "import string\n",
    "from urllib.parse import urlparse\n",
    "from nltk.tokenize import TweetTokenizer\n",
    "# from imblearn.over_sampling import RandomOverSampler"
   ]
  },
  {
   "cell_type": "code",
   "execution_count": 38,
   "id": "acca545b",
   "metadata": {},
   "outputs": [],
   "source": [
    "def load_data(dataset):\n",
    "    filename = '../../data/{}_data.pkl'.format(dataset)#\"../data/twitter_data_fixed.pkl\"\n",
    "    print(\"Loading data from file: \" + filename)\n",
    "    data = pickle.load(open(filename, 'rb'))\n",
    "    x_text = []\n",
    "    labels = []\n",
    "    ids = []\n",
    "    for i in range(len(data)):\n",
    "        text = \"\".join(l for l in data[i]['text'] if l not in string.punctuation)\n",
    "        x_text.append((data[i]['text']).encode('utf-8'))\n",
    "        labels.append(data[i]['label'])\n",
    "    return x_text,labels"
   ]
  },
  {
   "cell_type": "code",
   "execution_count": 39,
   "outputs": [
    {
     "name": "stdout",
     "output_type": "stream",
     "text": [
      "Loading data from file: ../../data/wiki_data.pkl\n"
     ]
    }
   ],
   "source": [
    "x_text, labels = load_data(\"wiki\")\n",
    "labels, uniques = pd.factorize(labels)"
   ],
   "metadata": {
    "collapsed": false,
    "pycharm": {
     "name": "#%%\n"
    }
   }
  },
  {
   "cell_type": "code",
   "execution_count": 45,
   "id": "f43ecc68",
   "metadata": {},
   "outputs": [],
   "source": [
    "comments = pd.DataFrame({'comment': x_text, 'attack': labels})"
   ]
  },
  {
   "cell_type": "code",
   "execution_count": 46,
   "outputs": [],
   "source": [
    "def is_url(url):\n",
    "  try:\n",
    "    result = urlparse(url)\n",
    "    return all([result.scheme, result.netloc])\n",
    "  except ValueError:\n",
    "    return False"
   ],
   "metadata": {
    "collapsed": false,
    "pycharm": {
     "name": "#%%\n"
    }
   }
  },
  {
   "cell_type": "code",
   "execution_count": 47,
   "id": "2337a3fd",
   "metadata": {},
   "outputs": [
    {
     "name": "stdout",
     "output_type": "stream",
     "text": [
      "decode\n",
      "drop na\n",
      "remove usernames\n",
      "lower case\n",
      "remove urls\n",
      "remove stopwords\n"
     ]
    }
   ],
   "source": [
    "# decode to UTF-8\n",
    "print(\"decode\")\n",
    "comments['comment'] = comments['comment'].str.decode(\"utf-8\")\n",
    "\n",
    "# remove missing rows\n",
    "print(\"drop na\")\n",
    "comments['comment'].dropna(inplace=True)\n",
    "\n",
    "# remove usernames\n",
    "print(\"remove usernames\")\n",
    "comments['comment'] = comments['comment'].str.replace('(\\@\\w+.*?)',\"\", regex=True)\n",
    "\n",
    "# lower case everything\n",
    "print(\"lower case\")\n",
    "comments['comment'] = comments['comment'].str.lower()\n",
    "\n",
    "# remove URLs\n",
    "print(\"remove urls\")\n",
    "comments['comment'] = [' '.join(y for y in x.split() if not is_url(y)) for x in comments['comment']]\n",
    "\n",
    "# remove stop words\n",
    "print(\"remove stopwords\")\n",
    "comments['comment'] = comments['comment'].apply(lambda x: ' '.join([word for word in x.split() if word not in stopwords.words('english')]))"
   ]
  },
  {
   "cell_type": "code",
   "execution_count": 48,
   "outputs": [
    {
     "name": "stdout",
     "output_type": "stream",
     "text": [
      "                                                  comment  attack\n",
      "0       `- ``creative``. dictionary definitions terms ...       0\n",
      "1       ` :: term ``standard model`` less npov think w...       0\n",
      "2       true false, situation march 2002 such: saudi p...       0\n",
      "3       next, maybe could work less condescending sugg...       0\n",
      "4                               page need disambiguation.       0\n",
      "...                                                   ...     ...\n",
      "115859  ` sources exactly exude sense impartiality. ne...       0\n",
      "115860  institute historical review peer-reviewed jour...       0\n",
      "115861  :the way trying describe article serious step ...       0\n",
      "115862  == warning == clearly protectionist regime goi...       0\n",
      "115863  alternate option=== perhaps enough newsworthy ...       0\n",
      "\n",
      "[115864 rows x 2 columns]\n"
     ]
    }
   ],
   "source": [
    "print(comments)"
   ],
   "metadata": {
    "collapsed": false,
    "pycharm": {
     "name": "#%%\n"
    }
   }
  },
  {
   "cell_type": "code",
   "execution_count": 95,
   "id": "1a52746e",
   "metadata": {},
   "outputs": [],
   "source": [
    "#comments.to_csv(\"../../data/wiki_data_DLpreprocessed.csv\", index=False)"
   ]
  },
  {
   "cell_type": "code",
   "execution_count": 96,
   "id": "7bef88ae",
   "metadata": {},
   "outputs": [],
   "source": [
    "# triple oversample in original paper is similar to equalizing numbers\n",
    "\n",
    "def oversample(df):\n",
    "    classes = df.attack.value_counts().to_dict()\n",
    "    most = max(classes.values())\n",
    "    classes_list = []\n",
    "    for key in classes:\n",
    "        classes_list.append(df[df['attack'] == key])\n",
    "    classes_sample = []\n",
    "    for i in range(1,len(classes_list)):\n",
    "        classes_sample.append(classes_list[i].sample(most, replace=True))\n",
    "    df_maybe = pd.concat(classes_sample)\n",
    "    final_df = pd.concat([df_maybe,classes_list[0]], axis=0)\n",
    "    final_df = final_df.reset_index(drop=True)\n",
    "    return final_df\n",
    "\n",
    "comments_oversampled  = oversample(comments)"
   ]
  },
  {
   "cell_type": "code",
   "execution_count": 99,
   "id": "97e7e4d8",
   "metadata": {},
   "outputs": [],
   "source": [
    "#comments_oversampled.to_csv(\"../../data/wiki_data_DLpreprocessed_oversampled.csv\", index=False)"
   ]
  },
  {
   "cell_type": "code",
   "execution_count": null,
   "id": "4a7ffc83",
   "metadata": {},
   "outputs": [],
   "source": []
  }
 ],
 "metadata": {
  "kernelspec": {
   "display_name": "Python 3 (ipykernel)",
   "language": "python",
   "name": "python3"
  },
  "language_info": {
   "codemirror_mode": {
    "name": "ipython",
    "version": 3
   },
   "file_extension": ".py",
   "mimetype": "text/x-python",
   "name": "python",
   "nbconvert_exporter": "python",
   "pygments_lexer": "ipython3",
   "version": "3.9.7"
  }
 },
 "nbformat": 4,
 "nbformat_minor": 5
}