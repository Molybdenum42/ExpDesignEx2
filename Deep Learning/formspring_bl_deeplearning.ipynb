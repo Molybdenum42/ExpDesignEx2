{
 "cells": [
  {
   "cell_type": "code",
   "execution_count": null,
   "metadata": {
    "collapsed": true,
    "colab": {
     "base_uri": "https://localhost:8080/"
    },
    "id": "xW6U8Bqkmseh",
    "outputId": "9dca3ad1-539d-4c50-ae84-cce715509523",
    "executionInfo": {
     "status": "ok",
     "timestamp": 1643228767992,
     "user_tz": -60,
     "elapsed": 302,
     "user": {
      "displayName": "Benjamin Lee",
      "photoUrl": "https://lh3.googleusercontent.com/a-/AOh14GiH530quYi9k5DQRCxWoJT7cVVCjzMOGgFrkXEr=s64",
      "userId": "05206156339145726048"
     }
    }
   },
   "outputs": [
    {
     "output_type": "stream",
     "name": "stdout",
     "text": [
      "[nltk_data] Downloading package stopwords to /root/nltk_data...\n",
      "[nltk_data]   Package stopwords is already up-to-date!\n"
     ]
    }
   ],
   "source": [
    "import numpy as np\n",
    "import pandas as pd\n",
    "import pickle\n",
    "from matplotlib import pyplot as plt\n",
    "import seaborn as sns\n",
    "\n",
    "import string\n",
    "from urllib.parse import urlparse\n",
    "from nltk.corpus import stopwords\n",
    "import nltk\n",
    "nltk.download('stopwords')\n",
    "\n",
    "from sklearn.metrics import confusion_matrix, classification_report\n",
    "from sklearn.model_selection import train_test_split\n",
    "from tensorflow.keras import preprocessing as tfkp\n",
    "from tensorflow.keras.utils import to_categorical\n",
    "\n",
    "import gensim.downloader as api\n",
    "from imblearn.over_sampling import RandomOverSampler\n",
    "\n",
    "#if on Google Colab, put the DL_model files in root\n",
    "from DL_models import lstm_keras, cnn_keras, blstm, blstm_att"
   ]
  },
  {
   "cell_type": "code",
   "source": [
    "from google.colab import drive\n",
    "drive.mount('/content/drive')"
   ],
   "metadata": {
    "id": "x0Up6ytCmwaS"
   },
   "execution_count": null,
   "outputs": []
  },
  {
   "cell_type": "code",
   "execution_count": 13,
   "outputs": [],
   "source": [
    "def load_data():\n",
    "    filename = '/content/drive/MyDrive/Uni/Experiment Design/Ass2/data/formspring_data_fixed.pkl'#\"../data/formspring_data_fixed.pkl\"\n",
    "    print(\"Loading data from file: \" + filename)\n",
    "    data = pickle.load(open(filename, 'rb'))\n",
    "    x_text = []\n",
    "    labels = []\n",
    "    ids = []\n",
    "    for i in range(len(data)):\n",
    "        text = \"\".join(l for l in data[i]['text'] if l not in string.punctuation)\n",
    "        x_text.append((data[i]['text']).encode('utf-8'))\n",
    "        labels.append(data[i]['label'])\n",
    "    return x_text,labels"
   ],
   "metadata": {
    "pycharm": {
     "name": "#%%\n"
    },
    "id": "E6kH9AXBmsel",
    "executionInfo": {
     "status": "ok",
     "timestamp": 1643229774034,
     "user_tz": -60,
     "elapsed": 278,
     "user": {
      "displayName": "Benjamin Lee",
      "photoUrl": "https://lh3.googleusercontent.com/a-/AOh14GiH530quYi9k5DQRCxWoJT7cVVCjzMOGgFrkXEr=s64",
      "userId": "05206156339145726048"
     }
    }
   }
  },
  {
   "cell_type": "code",
   "execution_count": null,
   "outputs": [],
   "source": [
    "def is_url(url):\n",
    "  try:\n",
    "    result = urlparse(url)\n",
    "    return all([result.scheme, result.netloc])\n",
    "  except ValueError:\n",
    "    return False"
   ],
   "metadata": {
    "pycharm": {
     "name": "#%%\n"
    },
    "id": "uEBiRX4Rmsem"
   }
  },
  {
   "cell_type": "code",
   "execution_count": null,
   "outputs": [],
   "source": [
    "def indiv_eval(model, X_test, y_test, target_names=['Normal', 'Cyberbullying']):\n",
    "    preds_probs = model.predict(X_test)\n",
    "    preds = [np.argmax(p) for p in preds_probs]\n",
    "\n",
    "    print(classification_report(y_test, preds))\n",
    "\n",
    "    plt.figure()\n",
    "    sns.heatmap(confusion_matrix(y_test, preds, normalize='true'), fmt='.2%', annot=True ,linewidths=.5,cmap='YlOrRd', annot_kws={\"fontsize\":10}, yticklabels=target_names, xticklabels=target_names)\n",
    "    plt.xticks(rotation=45, ha='right')\n",
    "\n",
    "    plt.show()\n",
    "\n",
    "    return preds"
   ],
   "metadata": {
    "pycharm": {
     "name": "#%%\n"
    },
    "id": "gVlUfZVNmsew"
   }
  },
  {
   "cell_type": "code",
   "source": [
    "from mlxtend.evaluate import cochrans_q\n",
    "from mlxtend.evaluate import mcnemar\n",
    "from mlxtend.evaluate import mcnemar_tables\n",
    "from prettytable import PrettyTable\n",
    "\n",
    "def model_compare(key, model_list):\n",
    "\n",
    "    two_models = key.split(' vs ')\n",
    "    first_model = int(two_models[0].split('_')[-1])\n",
    "    second_model = int(two_models[1].split('_')[-1])\n",
    "\n",
    "    return model_list[first_model], model_list[second_model]\n",
    "\n",
    "def multiple_mcnemar(model_name_list, preds_array, y, sig_level):\n",
    "\n",
    "    # creates the 'correct' value for use in the McNemar table\n",
    "    y_true = np.array([1] * len(y))\n",
    "\n",
    "    converted_pred_array = []\n",
    "\n",
    "    for i in range(len(preds_array)):\n",
    "        converted_pred_array.append((preds_array[i]==y).astype(int))\n",
    "\n",
    "    '''q, p_value = cochrans_q(y_true,*converted_pred_array)\n",
    "\n",
    "    significance = p_value < sig_level\n",
    "\n",
    "    scientific_notation=\"{:.2e}\".format(p_value)\n",
    "\n",
    "    print(f\"-----Cochran's Q Test-----\")\n",
    "    print(f'============================')\n",
    "    print(f'Q-Score         {q:.4f}')\n",
    "    print(f'p-value         {scientific_notation}')\n",
    "    print(f'Reject? ({1-sig_level:.0%})      {significance}')\n",
    "    print('\\n')'''\n",
    "\n",
    "    mctable = mcnemar_tables(y_true, *converted_pred_array)\n",
    "\n",
    "    pairwise_table = PrettyTable()\n",
    "    pairwise_table.field_names = ['Model 1', 'Model 2', 'Chi²', 'p-Value', 'Reject?']\n",
    "\n",
    "    for key, value in mctable.items():\n",
    "        chi2, p = mcnemar(ary=value, corrected=True)\n",
    "        first_model, second_model = model_compare(key, model_name_list)\n",
    "        reject_null = p < sig_level\n",
    "\n",
    "        pairwise_table.add_row([first_model, second_model, chi2, p, reject_null])\n",
    "        pairwise_table.float_format[\"Chi²\"] = '.2E'\n",
    "        pairwise_table.float_format[\"p-Value\"] = '.2E'\n",
    "\n",
    "    print(pairwise_table)"
   ],
   "metadata": {
    "id": "F4e6WLR337HU"
   },
   "execution_count": null,
   "outputs": []
  },
  {
   "cell_type": "code",
   "execution_count": null,
   "outputs": [],
   "source": [
    "# embedding stuff\n",
    "def map_weights(embed_dict, vocab, embed_size): # embed size is embedding dim\n",
    "    vocab_size = len(vocab) + 1\n",
    "    weights = np.zeros((vocab_size, embed_size))\n",
    "\n",
    "    n_missed = 0\n",
    "    words_missed = []\n",
    "    for k,v in vocab.items():\n",
    "        try:\n",
    "            weights[v] = embed_dict[k]  # weights[v] is an index, embed_dict[k] is the list of weights\n",
    "        except:\n",
    "            n_missed += 1\n",
    "            words_missed.append(k)\n",
    "    print(f\"{n_missed} embeddings missed of {vocab_size}\")\n",
    "    return weights, words_missed"
   ],
   "metadata": {
    "pycharm": {
     "name": "#%%\n"
    },
    "id": "v4XrbujPmsem"
   }
  },
  {
   "cell_type": "markdown",
   "source": [
    "### Loading Data"
   ],
   "metadata": {
    "collapsed": false,
    "pycharm": {
     "name": "#%% md\n"
    },
    "id": "auaqnEnxmsen"
   }
  },
  {
   "cell_type": "code",
   "execution_count": 14,
   "outputs": [
    {
     "output_type": "stream",
     "name": "stdout",
     "text": [
      "Loading data from file: /content/drive/MyDrive/Uni/Experiment Design/Ass2/data/formspring_data_fixed.pkl\n"
     ]
    }
   ],
   "source": [
    "import pickle\n",
    "\n",
    "x_text, labels_og = load_data()\n",
    "labels, uniques = pd.factorize(labels_og)"
   ],
   "metadata": {
    "pycharm": {
     "name": "#%%\n"
    },
    "colab": {
     "base_uri": "https://localhost:8080/"
    },
    "id": "nZtSuQQnmseo",
    "outputId": "62786946-aa64-4572-be3a-fe1672033d98",
    "executionInfo": {
     "status": "ok",
     "timestamp": 1643229778127,
     "user_tz": -60,
     "elapsed": 1029,
     "user": {
      "displayName": "Benjamin Lee",
      "photoUrl": "https://lh3.googleusercontent.com/a-/AOh14GiH530quYi9k5DQRCxWoJT7cVVCjzMOGgFrkXEr=s64",
      "userId": "05206156339145726048"
     }
    }
   }
  },
  {
   "cell_type": "markdown",
   "source": [
    "### Intitial Twitter-Specific Pre-processing"
   ],
   "metadata": {
    "collapsed": false,
    "pycharm": {
     "name": "#%% md\n"
    },
    "id": "zsveYtexmseo"
   }
  },
  {
   "cell_type": "code",
   "execution_count": 15,
   "outputs": [],
   "source": [
    "import re\n",
    "comments = pd.DataFrame({'comment': x_text, 'attack': labels})\n",
    "\n",
    "# decode to UTF-8\n",
    "comments['comment'] = comments['comment'].str.decode(\"utf-8\")\n",
    "\n",
    "# lower case everything\n",
    "comments['comment'] = comments['comment'].str.lower()\n",
    "\n",
    "# Remove punctuation\n",
    "comments['comment'] = comments['comment'].apply(lambda x: re.sub('[%s]' % re.escape(string.punctuation), '', x))\n",
    "\n",
    "#Remove words containing numbers\n",
    "comments['comment'] = comments['comment'].apply(lambda x: re.sub('\\w*\\d\\w*', '', x))\n",
    "\n",
    "#Remove in sentece white spaces\n",
    "comments['comment'] = comments['comment'].apply(lambda x: re.sub(' +', ' ', x))\n",
    "\n",
    "#Remove whitespaces at begining and end of sentence\n",
    "comments['comment'] = comments['comment'].str.strip()\n",
    "\n",
    "# remove stop words\n",
    "comments['comment'] = comments['comment'].apply(lambda x: ' '.join([word for word in x.split() if word not in stopwords.words('english')]))\n",
    "\n",
    "# remove empty string rows\n",
    "comments = comments[comments['comment'] != \"\"]"
   ],
   "metadata": {
    "pycharm": {
     "name": "#%%\n"
    },
    "id": "ACapB15_msep",
    "executionInfo": {
     "status": "ok",
     "timestamp": 1643229819652,
     "user_tz": -60,
     "elapsed": 28090,
     "user": {
      "displayName": "Benjamin Lee",
      "photoUrl": "https://lh3.googleusercontent.com/a-/AOh14GiH530quYi9k5DQRCxWoJT7cVVCjzMOGgFrkXEr=s64",
      "userId": "05206156339145726048"
     }
    }
   }
  },
  {
   "cell_type": "code",
   "execution_count": 16,
   "outputs": [
    {
     "output_type": "execute_result",
     "data": {
      "text/html": [
       "\n",
       "  <div id=\"df-88a9fa57-2dbc-4b79-92ca-9d0ac9eac525\">\n",
       "    <div class=\"colab-df-container\">\n",
       "      <div>\n",
       "<style scoped>\n",
       "    .dataframe tbody tr th:only-of-type {\n",
       "        vertical-align: middle;\n",
       "    }\n",
       "\n",
       "    .dataframe tbody tr th {\n",
       "        vertical-align: top;\n",
       "    }\n",
       "\n",
       "    .dataframe thead th {\n",
       "        text-align: right;\n",
       "    }\n",
       "</style>\n",
       "<table border=\"1\" class=\"dataframe\">\n",
       "  <thead>\n",
       "    <tr style=\"text-align: right;\">\n",
       "      <th></th>\n",
       "      <th>comment</th>\n",
       "      <th>attack</th>\n",
       "    </tr>\n",
       "  </thead>\n",
       "  <tbody>\n",
       "    <tr>\n",
       "      <th>0</th>\n",
       "      <td>favorite song like many songs favorite</td>\n",
       "      <td>0</td>\n",
       "    </tr>\n",
       "    <tr>\n",
       "      <th>1</th>\n",
       "      <td>haha jk</td>\n",
       "      <td>0</td>\n",
       "    </tr>\n",
       "    <tr>\n",
       "      <th>2</th>\n",
       "      <td>hey angel duh sexy really thanks haha</td>\n",
       "      <td>0</td>\n",
       "    </tr>\n",
       "    <tr>\n",
       "      <th>4</th>\n",
       "      <td>meowww rawr</td>\n",
       "      <td>0</td>\n",
       "    </tr>\n",
       "    <tr>\n",
       "      <th>5</th>\n",
       "      <td>makeup tips suck makeup lol sure like tell wht...</td>\n",
       "      <td>0</td>\n",
       "    </tr>\n",
       "  </tbody>\n",
       "</table>\n",
       "</div>\n",
       "      <button class=\"colab-df-convert\" onclick=\"convertToInteractive('df-88a9fa57-2dbc-4b79-92ca-9d0ac9eac525')\"\n",
       "              title=\"Convert this dataframe to an interactive table.\"\n",
       "              style=\"display:none;\">\n",
       "        \n",
       "  <svg xmlns=\"http://www.w3.org/2000/svg\" height=\"24px\"viewBox=\"0 0 24 24\"\n",
       "       width=\"24px\">\n",
       "    <path d=\"M0 0h24v24H0V0z\" fill=\"none\"/>\n",
       "    <path d=\"M18.56 5.44l.94 2.06.94-2.06 2.06-.94-2.06-.94-.94-2.06-.94 2.06-2.06.94zm-11 1L8.5 8.5l.94-2.06 2.06-.94-2.06-.94L8.5 2.5l-.94 2.06-2.06.94zm10 10l.94 2.06.94-2.06 2.06-.94-2.06-.94-.94-2.06-.94 2.06-2.06.94z\"/><path d=\"M17.41 7.96l-1.37-1.37c-.4-.4-.92-.59-1.43-.59-.52 0-1.04.2-1.43.59L10.3 9.45l-7.72 7.72c-.78.78-.78 2.05 0 2.83L4 21.41c.39.39.9.59 1.41.59.51 0 1.02-.2 1.41-.59l7.78-7.78 2.81-2.81c.8-.78.8-2.07 0-2.86zM5.41 20L4 18.59l7.72-7.72 1.47 1.35L5.41 20z\"/>\n",
       "  </svg>\n",
       "      </button>\n",
       "      \n",
       "  <style>\n",
       "    .colab-df-container {\n",
       "      display:flex;\n",
       "      flex-wrap:wrap;\n",
       "      gap: 12px;\n",
       "    }\n",
       "\n",
       "    .colab-df-convert {\n",
       "      background-color: #E8F0FE;\n",
       "      border: none;\n",
       "      border-radius: 50%;\n",
       "      cursor: pointer;\n",
       "      display: none;\n",
       "      fill: #1967D2;\n",
       "      height: 32px;\n",
       "      padding: 0 0 0 0;\n",
       "      width: 32px;\n",
       "    }\n",
       "\n",
       "    .colab-df-convert:hover {\n",
       "      background-color: #E2EBFA;\n",
       "      box-shadow: 0px 1px 2px rgba(60, 64, 67, 0.3), 0px 1px 3px 1px rgba(60, 64, 67, 0.15);\n",
       "      fill: #174EA6;\n",
       "    }\n",
       "\n",
       "    [theme=dark] .colab-df-convert {\n",
       "      background-color: #3B4455;\n",
       "      fill: #D2E3FC;\n",
       "    }\n",
       "\n",
       "    [theme=dark] .colab-df-convert:hover {\n",
       "      background-color: #434B5C;\n",
       "      box-shadow: 0px 1px 3px 1px rgba(0, 0, 0, 0.15);\n",
       "      filter: drop-shadow(0px 1px 2px rgba(0, 0, 0, 0.3));\n",
       "      fill: #FFFFFF;\n",
       "    }\n",
       "  </style>\n",
       "\n",
       "      <script>\n",
       "        const buttonEl =\n",
       "          document.querySelector('#df-88a9fa57-2dbc-4b79-92ca-9d0ac9eac525 button.colab-df-convert');\n",
       "        buttonEl.style.display =\n",
       "          google.colab.kernel.accessAllowed ? 'block' : 'none';\n",
       "\n",
       "        async function convertToInteractive(key) {\n",
       "          const element = document.querySelector('#df-88a9fa57-2dbc-4b79-92ca-9d0ac9eac525');\n",
       "          const dataTable =\n",
       "            await google.colab.kernel.invokeFunction('convertToInteractive',\n",
       "                                                     [key], {});\n",
       "          if (!dataTable) return;\n",
       "\n",
       "          const docLinkHtml = 'Like what you see? Visit the ' +\n",
       "            '<a target=\"_blank\" href=https://colab.research.google.com/notebooks/data_table.ipynb>data table notebook</a>'\n",
       "            + ' to learn more about interactive tables.';\n",
       "          element.innerHTML = '';\n",
       "          dataTable['output_type'] = 'display_data';\n",
       "          await google.colab.output.renderOutput(dataTable, element);\n",
       "          const docLink = document.createElement('div');\n",
       "          docLink.innerHTML = docLinkHtml;\n",
       "          element.appendChild(docLink);\n",
       "        }\n",
       "      </script>\n",
       "    </div>\n",
       "  </div>\n",
       "  "
      ],
      "text/plain": [
       "                                             comment  attack\n",
       "0             favorite song like many songs favorite       0\n",
       "1                                            haha jk       0\n",
       "2              hey angel duh sexy really thanks haha       0\n",
       "4                                        meowww rawr       0\n",
       "5  makeup tips suck makeup lol sure like tell wht...       0"
      ]
     },
     "metadata": {},
     "execution_count": 16
    }
   ],
   "source": [
    "comments.head()"
   ],
   "metadata": {
    "pycharm": {
     "name": "#%%\n"
    },
    "colab": {
     "base_uri": "https://localhost:8080/",
     "height": 206
    },
    "id": "0MVxd5Spmseq",
    "outputId": "6facba0a-591b-422f-b2f7-fb51fcf0e5a4",
    "executionInfo": {
     "status": "ok",
     "timestamp": 1643229819653,
     "user_tz": -60,
     "elapsed": 16,
     "user": {
      "displayName": "Benjamin Lee",
      "photoUrl": "https://lh3.googleusercontent.com/a-/AOh14GiH530quYi9k5DQRCxWoJT7cVVCjzMOGgFrkXEr=s64",
      "userId": "05206156339145726048"
     }
    }
   }
  },
  {
   "cell_type": "markdown",
   "source": [
    "### Train-Test Split and Tokenization"
   ],
   "metadata": {
    "collapsed": false,
    "pycharm": {
     "name": "#%% md\n"
    },
    "id": "rDo3WQOlmseq"
   }
  },
  {
   "cell_type": "code",
   "execution_count": 17,
   "outputs": [],
   "source": [
    "X_train_pretoken, X_midway_pretoken, y_train, y_midway = train_test_split(comments['comment'], comments['attack'], random_state = 42, test_size=0.2)"
   ],
   "metadata": {
    "pycharm": {
     "name": "#%%\n"
    },
    "id": "G2KkWpTOmser",
    "executionInfo": {
     "status": "ok",
     "timestamp": 1643229839657,
     "user_tz": -60,
     "elapsed": 267,
     "user": {
      "displayName": "Benjamin Lee",
      "photoUrl": "https://lh3.googleusercontent.com/a-/AOh14GiH530quYi9k5DQRCxWoJT7cVVCjzMOGgFrkXEr=s64",
      "userId": "05206156339145726048"
     }
    }
   }
  },
  {
   "cell_type": "code",
   "source": [
    "comments['number_of_words'] = comments.comment.apply(lambda x: len(x.split()))"
   ],
   "metadata": {
    "id": "xdjVcY3DIaOe",
    "executionInfo": {
     "status": "ok",
     "timestamp": 1643230181438,
     "user_tz": -60,
     "elapsed": 274,
     "user": {
      "displayName": "Benjamin Lee",
      "photoUrl": "https://lh3.googleusercontent.com/a-/AOh14GiH530quYi9k5DQRCxWoJT7cVVCjzMOGgFrkXEr=s64",
      "userId": "05206156339145726048"
     }
    }
   },
   "execution_count": 20,
   "outputs": []
  },
  {
   "cell_type": "code",
   "source": [
    "comments['number_of_words'].quantile(0.95)"
   ],
   "metadata": {
    "colab": {
     "base_uri": "https://localhost:8080/"
    },
    "id": "93WPdwMfJqjl",
    "executionInfo": {
     "status": "ok",
     "timestamp": 1643230272532,
     "user_tz": -60,
     "elapsed": 431,
     "user": {
      "displayName": "Benjamin Lee",
      "photoUrl": "https://lh3.googleusercontent.com/a-/AOh14GiH530quYi9k5DQRCxWoJT7cVVCjzMOGgFrkXEr=s64",
      "userId": "05206156339145726048"
     }
    },
    "outputId": "bb43d715-3b88-4664-cfe0-b39b327ddbeb"
   },
   "execution_count": 28,
   "outputs": [
    {
     "output_type": "execute_result",
     "data": {
      "text/plain": [
       "30.0"
      ]
     },
     "metadata": {},
     "execution_count": 28
    }
   ]
  },
  {
   "cell_type": "code",
   "execution_count": 29,
   "outputs": [],
   "source": [
    "dim = 30 #manually set to 95th percentile\n",
    "n_classes = len(np.unique(y_train.values))\n",
    "\n",
    "tokenizer = tfkp.text.Tokenizer(oov_token=\"<UNK>\", filters='!\"$%&()*+,-./:;<=>?@[\\\\]^_`{|}~\\t\\n',)\n",
    "tokenizer.fit_on_texts(X_train_pretoken)\n",
    "\n",
    "convert = lambda x: tfkp.sequence.pad_sequences(tokenizer.texts_to_sequences(x),\n",
    "                                                    maxlen=dim,\n",
    "                                                    padding='post', truncating='post')\n",
    "\n",
    "X_train = convert(X_train_pretoken)\n",
    "X_midway = convert(X_midway_pretoken)"
   ],
   "metadata": {
    "pycharm": {
     "name": "#%%\n"
    },
    "id": "4X3puStVmser",
    "executionInfo": {
     "status": "ok",
     "timestamp": 1643230331056,
     "user_tz": -60,
     "elapsed": 643,
     "user": {
      "displayName": "Benjamin Lee",
      "photoUrl": "https://lh3.googleusercontent.com/a-/AOh14GiH530quYi9k5DQRCxWoJT7cVVCjzMOGgFrkXEr=s64",
      "userId": "05206156339145726048"
     }
    }
   }
  },
  {
   "cell_type": "code",
   "execution_count": 30,
   "outputs": [],
   "source": [
    "X_test, X_val, y_test, y_val = train_test_split(X_midway, y_midway, random_state = 42, test_size=0.5)"
   ],
   "metadata": {
    "pycharm": {
     "name": "#%%\n"
    },
    "id": "QQjUCtiemser",
    "executionInfo": {
     "status": "ok",
     "timestamp": 1643230338320,
     "user_tz": -60,
     "elapsed": 264,
     "user": {
      "displayName": "Benjamin Lee",
      "photoUrl": "https://lh3.googleusercontent.com/a-/AOh14GiH530quYi9k5DQRCxWoJT7cVVCjzMOGgFrkXEr=s64",
      "userId": "05206156339145726048"
     }
    }
   }
  },
  {
   "cell_type": "markdown",
   "source": [
    "### Oversampling"
   ],
   "metadata": {
    "collapsed": false,
    "pycharm": {
     "name": "#%% md\n"
    },
    "id": "zLDikbecmser"
   }
  },
  {
   "cell_type": "code",
   "execution_count": 31,
   "outputs": [],
   "source": [
    "oversample = RandomOverSampler(random_state=42)\n",
    "X_train_over, y_train_over = oversample.fit_resample(X_train, y_train)"
   ],
   "metadata": {
    "pycharm": {
     "name": "#%%\n"
    },
    "id": "mFihkQ_Tmses",
    "executionInfo": {
     "status": "ok",
     "timestamp": 1643230341685,
     "user_tz": -60,
     "elapsed": 264,
     "user": {
      "displayName": "Benjamin Lee",
      "photoUrl": "https://lh3.googleusercontent.com/a-/AOh14GiH530quYi9k5DQRCxWoJT7cVVCjzMOGgFrkXEr=s64",
      "userId": "05206156339145726048"
     }
    }
   }
  },
  {
   "cell_type": "markdown",
   "source": [
    "### Reshaping for input"
   ],
   "metadata": {
    "collapsed": false,
    "pycharm": {
     "name": "#%% md\n"
    },
    "id": "S-K6zr5omses"
   }
  },
  {
   "cell_type": "code",
   "execution_count": 32,
   "outputs": [],
   "source": [
    "y_train_onehot = to_categorical(y_train, n_classes)\n",
    "y_val_onehot = to_categorical(y_val, n_classes)\n",
    "y_test_onehot = to_categorical(y_test, n_classes)\n",
    "y_train_over_onehot = to_categorical(y_train_over, n_classes)"
   ],
   "metadata": {
    "pycharm": {
     "name": "#%%\n"
    },
    "id": "nFbtTSW1mses",
    "executionInfo": {
     "status": "ok",
     "timestamp": 1643230343510,
     "user_tz": -60,
     "elapsed": 264,
     "user": {
      "displayName": "Benjamin Lee",
      "photoUrl": "https://lh3.googleusercontent.com/a-/AOh14GiH530quYi9k5DQRCxWoJT7cVVCjzMOGgFrkXEr=s64",
      "userId": "05206156339145726048"
     }
    }
   }
  },
  {
   "cell_type": "markdown",
   "source": [
    "### Glove Embedding Weights"
   ],
   "metadata": {
    "collapsed": false,
    "pycharm": {
     "name": "#%% md\n"
    },
    "id": "QDKmxA6Imses"
   }
  },
  {
   "cell_type": "code",
   "source": [
    "glove_dict = api.load(\"glove-wiki-gigaword-200\")\n",
    "glove_weights, glove_words_missed = map_weights(glove_dict, tokenizer.word_index, 200)"
   ],
   "metadata": {
    "pycharm": {
     "name": "#%%\n"
    },
    "colab": {
     "base_uri": "https://localhost:8080/"
    },
    "id": "d9p88KFemset",
    "outputId": "6a614b11-b124-4c8d-abf3-48536081c833",
    "executionInfo": {
     "status": "ok",
     "timestamp": 1643230565364,
     "user_tz": -60,
     "elapsed": 126725,
     "user": {
      "displayName": "Benjamin Lee",
      "photoUrl": "https://lh3.googleusercontent.com/a-/AOh14GiH530quYi9k5DQRCxWoJT7cVVCjzMOGgFrkXEr=s64",
      "userId": "05206156339145726048"
     }
    }
   },
   "execution_count": 33,
   "outputs": [
    {
     "output_type": "stream",
     "name": "stdout",
     "text": [
      "[==================================================] 100.0% 252.1/252.1MB downloaded\n",
      "4737 embeddings missed of 15475\n"
     ]
    }
   ]
  },
  {
   "cell_type": "markdown",
   "source": [
    "### Word2vec Weights"
   ],
   "metadata": {
    "collapsed": false,
    "pycharm": {
     "name": "#%% md\n"
    },
    "id": "1L8gwyzimset"
   }
  },
  {
   "cell_type": "code",
   "execution_count": 34,
   "outputs": [
    {
     "output_type": "stream",
     "name": "stdout",
     "text": [
      "[==================================================] 100.0% 1662.8/1662.8MB downloaded\n",
      "4852 embeddings missed of 15475\n"
     ]
    }
   ],
   "source": [
    "word_dict = api.load(\"word2vec-google-news-300\")\n",
    "word2vec_weights, word2vec_words_missed = map_weights(word_dict, tokenizer.word_index, 300)"
   ],
   "metadata": {
    "pycharm": {
     "name": "#%%\n"
    },
    "colab": {
     "base_uri": "https://localhost:8080/"
    },
    "id": "l7UD2362mset",
    "outputId": "9bdd1610-cab9-412b-a115-2628ee8b4ec7",
    "executionInfo": {
     "status": "ok",
     "timestamp": 1643231012422,
     "user_tz": -60,
     "elapsed": 447060,
     "user": {
      "displayName": "Benjamin Lee",
      "photoUrl": "https://lh3.googleusercontent.com/a-/AOh14GiH530quYi9k5DQRCxWoJT7cVVCjzMOGgFrkXEr=s64",
      "userId": "05206156339145726048"
     }
    }
   }
  },
  {
   "cell_type": "markdown",
   "source": [
    "#### Checks"
   ],
   "metadata": {
    "collapsed": false,
    "pycharm": {
     "name": "#%% md\n"
    },
    "id": "UVQTBfaTmset"
   }
  },
  {
   "cell_type": "code",
   "execution_count": 35,
   "outputs": [
    {
     "output_type": "stream",
     "name": "stdout",
     "text": [
      "Counter({0: 9580, 1: 608})\n",
      "Counter({0: 9580, 1: 9580})\n"
     ]
    }
   ],
   "source": [
    "# check number of oversampling\n",
    "from collections import Counter\n",
    "print(Counter(y_train))\n",
    "print(Counter(y_train_over))"
   ],
   "metadata": {
    "pycharm": {
     "name": "#%%\n"
    },
    "colab": {
     "base_uri": "https://localhost:8080/"
    },
    "id": "_sFKYpyzmset",
    "outputId": "e5a172e2-9a51-4db6-82d0-ad20745a5d48",
    "executionInfo": {
     "status": "ok",
     "timestamp": 1643231012422,
     "user_tz": -60,
     "elapsed": 4,
     "user": {
      "displayName": "Benjamin Lee",
      "photoUrl": "https://lh3.googleusercontent.com/a-/AOh14GiH530quYi9k5DQRCxWoJT7cVVCjzMOGgFrkXEr=s64",
      "userId": "05206156339145726048"
     }
    }
   }
  },
  {
   "cell_type": "markdown",
   "source": [
    "### Write Embedders"
   ],
   "metadata": {
    "collapsed": false,
    "pycharm": {
     "name": "#%% md\n"
    },
    "id": "nKSTOAKImseu"
   }
  },
  {
   "cell_type": "code",
   "execution_count": 36,
   "outputs": [],
   "source": [
    "from keras.layers import Embedding\n",
    "from tensorflow.keras import initializers\n",
    "\n",
    "vocab_size = len(tokenizer.word_index)+1\n",
    "\n",
    "random_embedder = Embedding(vocab_size, 200, input_length=dim, trainable=True)\n",
    "glove_embedding = Embedding(vocab_size, 200, input_length=dim, embeddings_initializer=initializers.Constant(glove_weights),\n",
    "                            trainable=False)\n",
    "word2vec_embedding = Embedding(vocab_size, 300, input_length=dim, embeddings_initializer=initializers.Constant(word2vec_weights),\n",
    "                              trainable=False)"
   ],
   "metadata": {
    "pycharm": {
     "name": "#%%\n"
    },
    "id": "LRDBB4KSmseu",
    "executionInfo": {
     "status": "ok",
     "timestamp": 1643231012423,
     "user_tz": -60,
     "elapsed": 3,
     "user": {
      "displayName": "Benjamin Lee",
      "photoUrl": "https://lh3.googleusercontent.com/a-/AOh14GiH530quYi9k5DQRCxWoJT7cVVCjzMOGgFrkXEr=s64",
      "userId": "05206156339145726048"
     }
    }
   }
  },
  {
   "cell_type": "markdown",
   "source": [
    "### Load DL Models and Run Them"
   ],
   "metadata": {
    "collapsed": false,
    "pycharm": {
     "name": "#%% md\n"
    },
    "id": "cdCOlM6Emseu"
   }
  },
  {
   "cell_type": "code",
   "execution_count": 37,
   "outputs": [],
   "source": [
    "lstm_random = lstm_keras(dim,n_classes,random_embedder)\n",
    "lstm_random_over = lstm_keras(dim,n_classes,random_embedder)\n",
    "lstm_glove = lstm_keras(dim,n_classes,glove_embedding)\n",
    "lstm_glove_over = lstm_keras(dim,n_classes,glove_embedding)\n",
    "lstm_word2vec = lstm_keras(dim,n_classes,word2vec_embedding)\n",
    "lstm_word2vec_over = lstm_keras(dim,n_classes,word2vec_embedding)"
   ],
   "metadata": {
    "pycharm": {
     "name": "#%%\n"
    },
    "id": "0cjwVFK-mseu",
    "executionInfo": {
     "status": "ok",
     "timestamp": 1643231016457,
     "user_tz": -60,
     "elapsed": 1588,
     "user": {
      "displayName": "Benjamin Lee",
      "photoUrl": "https://lh3.googleusercontent.com/a-/AOh14GiH530quYi9k5DQRCxWoJT7cVVCjzMOGgFrkXEr=s64",
      "userId": "05206156339145726048"
     }
    }
   }
  },
  {
   "cell_type": "code",
   "execution_count": 38,
   "outputs": [],
   "source": [
    "blstm_random = blstm(dim,n_classes,random_embedder)\n",
    "blstm_random_over = blstm(dim,n_classes,random_embedder)\n",
    "blstm_glove = blstm(dim,n_classes,glove_embedding)\n",
    "blstm_glove_over = blstm(dim,n_classes,glove_embedding)\n",
    "blstm_word2vec = blstm(dim,n_classes,word2vec_embedding)\n",
    "blstm_word2vec_over = blstm(dim,n_classes,word2vec_embedding)"
   ],
   "metadata": {
    "pycharm": {
     "name": "#%%\n"
    },
    "id": "YfAp2aqpmseu",
    "executionInfo": {
     "status": "ok",
     "timestamp": 1643231019134,
     "user_tz": -60,
     "elapsed": 2680,
     "user": {
      "displayName": "Benjamin Lee",
      "photoUrl": "https://lh3.googleusercontent.com/a-/AOh14GiH530quYi9k5DQRCxWoJT7cVVCjzMOGgFrkXEr=s64",
      "userId": "05206156339145726048"
     }
    }
   }
  },
  {
   "cell_type": "code",
   "execution_count": 39,
   "outputs": [],
   "source": [
    "blstm_att_random = blstm_att(dim,n_classes,random_embedder)\n",
    "blstm_att_random_over = blstm_att(dim,n_classes,random_embedder)\n",
    "blstm_att_glove = blstm_att(dim,n_classes,glove_embedding)\n",
    "blstm_att_glove_over = blstm_att(dim,n_classes,glove_embedding)\n",
    "blstm_att_word2vec = blstm_att(dim,n_classes,word2vec_embedding)\n",
    "blstm_att_word2vec_over = blstm_att(dim,n_classes,word2vec_embedding)"
   ],
   "metadata": {
    "pycharm": {
     "name": "#%%\n"
    },
    "id": "pe0_vauOmsev",
    "executionInfo": {
     "status": "ok",
     "timestamp": 1643231022255,
     "user_tz": -60,
     "elapsed": 3123,
     "user": {
      "displayName": "Benjamin Lee",
      "photoUrl": "https://lh3.googleusercontent.com/a-/AOh14GiH530quYi9k5DQRCxWoJT7cVVCjzMOGgFrkXEr=s64",
      "userId": "05206156339145726048"
     }
    }
   }
  },
  {
   "cell_type": "code",
   "execution_count": 40,
   "outputs": [],
   "source": [
    "cnn_random = cnn_keras(dim,n_classes,random_embedder)\n",
    "cnn_random_over = cnn_keras(dim,n_classes,random_embedder)\n",
    "cnn_glove = cnn_keras(dim,n_classes,glove_embedding)\n",
    "cnn_glove_over = cnn_keras(dim,n_classes,glove_embedding)\n",
    "cnn_word2vec = cnn_keras(dim,n_classes,word2vec_embedding)\n",
    "cnn_word2vec_over = cnn_keras(dim,n_classes,word2vec_embedding)"
   ],
   "metadata": {
    "pycharm": {
     "name": "#%%\n"
    },
    "id": "uk7T0YSkmsev",
    "executionInfo": {
     "status": "ok",
     "timestamp": 1643231022256,
     "user_tz": -60,
     "elapsed": 9,
     "user": {
      "displayName": "Benjamin Lee",
      "photoUrl": "https://lh3.googleusercontent.com/a-/AOh14GiH530quYi9k5DQRCxWoJT7cVVCjzMOGgFrkXEr=s64",
      "userId": "05206156339145726048"
     }
    }
   }
  },
  {
   "cell_type": "markdown",
   "source": [
    "### Big Blob of Fits"
   ],
   "metadata": {
    "collapsed": false,
    "pycharm": {
     "name": "#%% md\n"
    },
    "id": "V7HlUJilmsev"
   }
  },
  {
   "cell_type": "code",
   "execution_count": 42,
   "outputs": [
    {
     "output_type": "stream",
     "name": "stdout",
     "text": [
      "Epoch 1/30\n",
      "319/319 [==============================] - 6s 6ms/step - loss: 0.2263 - accuracy: 0.9403 - val_loss: 0.2069 - val_accuracy: 0.9356\n",
      "Epoch 2/30\n",
      "319/319 [==============================] - 2s 5ms/step - loss: 0.1362 - accuracy: 0.9599 - val_loss: 0.2292 - val_accuracy: 0.9364\n",
      "Epoch 3/30\n",
      "319/319 [==============================] - 2s 5ms/step - loss: 0.0842 - accuracy: 0.9740 - val_loss: 0.2391 - val_accuracy: 0.9356\n",
      "Epoch 4/30\n",
      "319/319 [==============================] - 2s 5ms/step - loss: 0.0507 - accuracy: 0.9859 - val_loss: 0.2765 - val_accuracy: 0.9278\n",
      "Epoch 5/30\n",
      "319/319 [==============================] - 2s 5ms/step - loss: 0.0370 - accuracy: 0.9886 - val_loss: 0.3314 - val_accuracy: 0.9380\n",
      "Epoch 6/30\n",
      "319/319 [==============================] - 2s 5ms/step - loss: 0.0253 - accuracy: 0.9923 - val_loss: 0.3287 - val_accuracy: 0.9239\n",
      "Epoch 7/30\n",
      "319/319 [==============================] - 2s 5ms/step - loss: 0.0218 - accuracy: 0.9937 - val_loss: 0.3086 - val_accuracy: 0.9356\n",
      "Epoch 8/30\n",
      "319/319 [==============================] - 2s 5ms/step - loss: 0.0160 - accuracy: 0.9962 - val_loss: 0.4008 - val_accuracy: 0.9388\n",
      "Epoch 9/30\n",
      "319/319 [==============================] - 2s 5ms/step - loss: 0.0164 - accuracy: 0.9961 - val_loss: 0.4457 - val_accuracy: 0.9349\n",
      "Epoch 10/30\n",
      "319/319 [==============================] - 2s 5ms/step - loss: 0.0199 - accuracy: 0.9945 - val_loss: 0.4331 - val_accuracy: 0.9317\n",
      "Epoch 11/30\n",
      "319/319 [==============================] - 2s 5ms/step - loss: 0.0099 - accuracy: 0.9976 - val_loss: 0.4565 - val_accuracy: 0.9341\n",
      "Epoch 12/30\n",
      "319/319 [==============================] - 2s 5ms/step - loss: 0.0113 - accuracy: 0.9970 - val_loss: 0.4032 - val_accuracy: 0.9325\n",
      "Epoch 13/30\n",
      "319/319 [==============================] - 2s 5ms/step - loss: 0.0074 - accuracy: 0.9978 - val_loss: 0.5696 - val_accuracy: 0.9223\n",
      "Epoch 14/30\n",
      "319/319 [==============================] - 2s 5ms/step - loss: 0.0113 - accuracy: 0.9973 - val_loss: 0.4584 - val_accuracy: 0.9239\n",
      "Epoch 15/30\n",
      "319/319 [==============================] - 2s 5ms/step - loss: 0.0099 - accuracy: 0.9977 - val_loss: 0.5207 - val_accuracy: 0.9215\n",
      "Epoch 16/30\n",
      "319/319 [==============================] - 2s 5ms/step - loss: 0.0063 - accuracy: 0.9984 - val_loss: 0.5049 - val_accuracy: 0.9388\n",
      "Epoch 17/30\n",
      "319/319 [==============================] - 2s 5ms/step - loss: 0.0076 - accuracy: 0.9976 - val_loss: 0.5995 - val_accuracy: 0.9239\n",
      "Epoch 18/30\n",
      "319/319 [==============================] - 2s 5ms/step - loss: 0.0063 - accuracy: 0.9979 - val_loss: 0.6363 - val_accuracy: 0.9192\n",
      "Epoch 19/30\n",
      "319/319 [==============================] - 2s 5ms/step - loss: 0.0049 - accuracy: 0.9988 - val_loss: 0.6629 - val_accuracy: 0.9199\n",
      "Epoch 20/30\n",
      "319/319 [==============================] - 2s 5ms/step - loss: 0.0037 - accuracy: 0.9989 - val_loss: 0.7206 - val_accuracy: 0.9184\n",
      "Epoch 21/30\n",
      "319/319 [==============================] - 2s 5ms/step - loss: 0.0041 - accuracy: 0.9991 - val_loss: 0.4280 - val_accuracy: 0.9113\n",
      "Epoch 22/30\n",
      "319/319 [==============================] - 2s 5ms/step - loss: 0.0067 - accuracy: 0.9985 - val_loss: 0.6853 - val_accuracy: 0.9184\n",
      "Epoch 23/30\n",
      "319/319 [==============================] - 2s 5ms/step - loss: 0.0025 - accuracy: 0.9993 - val_loss: 0.7165 - val_accuracy: 0.9184\n",
      "Epoch 24/30\n",
      "319/319 [==============================] - 2s 5ms/step - loss: 0.0077 - accuracy: 0.9979 - val_loss: 0.5341 - val_accuracy: 0.9262\n",
      "Epoch 25/30\n",
      "319/319 [==============================] - 2s 5ms/step - loss: 0.0142 - accuracy: 0.9971 - val_loss: 0.5088 - val_accuracy: 0.9176\n",
      "Epoch 26/30\n",
      "319/319 [==============================] - 2s 5ms/step - loss: 0.0080 - accuracy: 0.9977 - val_loss: 0.6200 - val_accuracy: 0.9129\n",
      "Epoch 27/30\n",
      "319/319 [==============================] - 2s 5ms/step - loss: 0.0047 - accuracy: 0.9986 - val_loss: 0.6591 - val_accuracy: 0.9192\n",
      "Epoch 28/30\n",
      "319/319 [==============================] - 2s 5ms/step - loss: 0.0043 - accuracy: 0.9990 - val_loss: 0.5778 - val_accuracy: 0.9286\n",
      "Epoch 29/30\n",
      "319/319 [==============================] - 2s 5ms/step - loss: 0.0027 - accuracy: 0.9996 - val_loss: 0.6770 - val_accuracy: 0.9239\n",
      "Epoch 30/30\n",
      "319/319 [==============================] - 2s 5ms/step - loss: 0.0023 - accuracy: 0.9995 - val_loss: 0.7139 - val_accuracy: 0.9231\n",
      "Epoch 1/30\n",
      "599/599 [==============================] - 5s 5ms/step - loss: 0.0866 - accuracy: 0.9735 - val_loss: 0.4749 - val_accuracy: 0.9207\n",
      "Epoch 2/30\n",
      "599/599 [==============================] - 3s 5ms/step - loss: 0.0328 - accuracy: 0.9950 - val_loss: 0.9277 - val_accuracy: 0.8250\n",
      "Epoch 3/30\n",
      "599/599 [==============================] - 3s 5ms/step - loss: 0.1017 - accuracy: 0.9777 - val_loss: 0.5291 - val_accuracy: 0.8987\n",
      "Epoch 4/30\n",
      "599/599 [==============================] - 3s 5ms/step - loss: 0.0273 - accuracy: 0.9950 - val_loss: 0.5639 - val_accuracy: 0.9097\n",
      "Epoch 5/30\n",
      "599/599 [==============================] - 3s 5ms/step - loss: 0.0132 - accuracy: 0.9975 - val_loss: 0.6164 - val_accuracy: 0.9129\n",
      "Epoch 6/30\n",
      "599/599 [==============================] - 3s 5ms/step - loss: 0.0265 - accuracy: 0.9963 - val_loss: 0.5105 - val_accuracy: 0.9144\n",
      "Epoch 7/30\n",
      "599/599 [==============================] - 3s 5ms/step - loss: 0.0481 - accuracy: 0.9923 - val_loss: 0.5307 - val_accuracy: 0.8846\n",
      "Epoch 8/30\n",
      "599/599 [==============================] - 3s 5ms/step - loss: 0.0456 - accuracy: 0.9920 - val_loss: 0.5923 - val_accuracy: 0.9137\n",
      "Epoch 9/30\n",
      "599/599 [==============================] - 3s 5ms/step - loss: 0.0289 - accuracy: 0.9954 - val_loss: 0.4630 - val_accuracy: 0.9286\n",
      "Epoch 10/30\n",
      "599/599 [==============================] - 3s 5ms/step - loss: 0.0224 - accuracy: 0.9938 - val_loss: 0.5463 - val_accuracy: 0.9231\n",
      "Epoch 11/30\n",
      "599/599 [==============================] - 3s 5ms/step - loss: 0.0204 - accuracy: 0.9940 - val_loss: 0.6325 - val_accuracy: 0.9199\n",
      "Epoch 12/30\n",
      "599/599 [==============================] - 3s 5ms/step - loss: 0.0061 - accuracy: 0.9984 - val_loss: 0.6809 - val_accuracy: 0.9184\n",
      "Epoch 13/30\n",
      "599/599 [==============================] - 3s 5ms/step - loss: 0.0056 - accuracy: 0.9985 - val_loss: 0.6940 - val_accuracy: 0.9192\n",
      "Epoch 14/30\n",
      "599/599 [==============================] - 3s 5ms/step - loss: 0.0088 - accuracy: 0.9974 - val_loss: 0.5687 - val_accuracy: 0.9184\n",
      "Epoch 15/30\n",
      "599/599 [==============================] - 3s 5ms/step - loss: 0.0049 - accuracy: 0.9988 - val_loss: 0.6400 - val_accuracy: 0.9262\n",
      "Epoch 16/30\n",
      "599/599 [==============================] - 3s 5ms/step - loss: 0.0027 - accuracy: 0.9995 - val_loss: 0.7015 - val_accuracy: 0.9254\n",
      "Epoch 17/30\n",
      "599/599 [==============================] - 3s 5ms/step - loss: 0.0022 - accuracy: 0.9998 - val_loss: 0.7779 - val_accuracy: 0.9239\n",
      "Epoch 18/30\n",
      "599/599 [==============================] - 3s 5ms/step - loss: 0.0127 - accuracy: 0.9980 - val_loss: 0.5301 - val_accuracy: 0.9207\n",
      "Epoch 19/30\n",
      "599/599 [==============================] - 3s 5ms/step - loss: 0.0050 - accuracy: 0.9986 - val_loss: 0.6903 - val_accuracy: 0.9199\n",
      "Epoch 20/30\n",
      "599/599 [==============================] - 3s 5ms/step - loss: 0.0037 - accuracy: 0.9994 - val_loss: 0.7449 - val_accuracy: 0.9215\n",
      "Epoch 21/30\n",
      "599/599 [==============================] - 3s 5ms/step - loss: 0.0062 - accuracy: 0.9989 - val_loss: 0.5911 - val_accuracy: 0.9254\n",
      "Epoch 22/30\n",
      "599/599 [==============================] - 3s 5ms/step - loss: 0.0044 - accuracy: 0.9991 - val_loss: 0.7599 - val_accuracy: 0.9160\n",
      "Epoch 23/30\n",
      "599/599 [==============================] - 3s 5ms/step - loss: 0.0020 - accuracy: 0.9996 - val_loss: 0.7994 - val_accuracy: 0.9215\n",
      "Epoch 24/30\n",
      "599/599 [==============================] - 3s 5ms/step - loss: 0.0012 - accuracy: 0.9998 - val_loss: 0.8013 - val_accuracy: 0.9246\n",
      "Epoch 25/30\n",
      "599/599 [==============================] - 3s 5ms/step - loss: 0.0011 - accuracy: 0.9999 - val_loss: 0.8457 - val_accuracy: 0.9231\n",
      "Epoch 26/30\n",
      "599/599 [==============================] - 3s 5ms/step - loss: 7.7126e-04 - accuracy: 0.9999 - val_loss: 0.8973 - val_accuracy: 0.9199\n",
      "Epoch 27/30\n",
      "599/599 [==============================] - 3s 5ms/step - loss: 9.5955e-04 - accuracy: 0.9999 - val_loss: 0.9389 - val_accuracy: 0.9176\n",
      "Epoch 28/30\n",
      "599/599 [==============================] - 3s 5ms/step - loss: 0.0085 - accuracy: 0.9989 - val_loss: 0.5525 - val_accuracy: 0.9199\n",
      "Epoch 29/30\n",
      "599/599 [==============================] - 3s 5ms/step - loss: 0.0031 - accuracy: 0.9992 - val_loss: 0.6421 - val_accuracy: 0.9286\n",
      "Epoch 30/30\n",
      "599/599 [==============================] - 3s 5ms/step - loss: 0.0094 - accuracy: 0.9970 - val_loss: 0.6886 - val_accuracy: 0.9152\n",
      "Epoch 1/30\n",
      "319/319 [==============================] - 3s 5ms/step - loss: 0.2518 - accuracy: 0.9387 - val_loss: 0.2642 - val_accuracy: 0.9254\n",
      "Epoch 2/30\n",
      "319/319 [==============================] - 1s 4ms/step - loss: 0.1864 - accuracy: 0.9415 - val_loss: 0.2260 - val_accuracy: 0.9309\n",
      "Epoch 3/30\n",
      "319/319 [==============================] - 1s 4ms/step - loss: 0.1708 - accuracy: 0.9457 - val_loss: 0.2032 - val_accuracy: 0.9333\n",
      "Epoch 4/30\n",
      "319/319 [==============================] - 1s 4ms/step - loss: 0.1609 - accuracy: 0.9468 - val_loss: 0.2014 - val_accuracy: 0.9333\n",
      "Epoch 5/30\n",
      "319/319 [==============================] - 1s 4ms/step - loss: 0.1539 - accuracy: 0.9487 - val_loss: 0.2010 - val_accuracy: 0.9349\n",
      "Epoch 6/30\n",
      "319/319 [==============================] - 1s 4ms/step - loss: 0.1483 - accuracy: 0.9513 - val_loss: 0.1895 - val_accuracy: 0.9356\n",
      "Epoch 7/30\n",
      "319/319 [==============================] - 1s 4ms/step - loss: 0.1373 - accuracy: 0.9532 - val_loss: 0.1917 - val_accuracy: 0.9403\n",
      "Epoch 8/30\n",
      "319/319 [==============================] - 1s 4ms/step - loss: 0.1292 - accuracy: 0.9547 - val_loss: 0.1980 - val_accuracy: 0.9419\n",
      "Epoch 9/30\n",
      "319/319 [==============================] - 1s 4ms/step - loss: 0.1239 - accuracy: 0.9556 - val_loss: 0.1829 - val_accuracy: 0.9396\n",
      "Epoch 10/30\n",
      "319/319 [==============================] - 1s 4ms/step - loss: 0.1157 - accuracy: 0.9591 - val_loss: 0.2525 - val_accuracy: 0.9403\n",
      "Epoch 11/30\n",
      "319/319 [==============================] - 1s 4ms/step - loss: 0.1105 - accuracy: 0.9627 - val_loss: 0.1876 - val_accuracy: 0.9443\n",
      "Epoch 12/30\n",
      "319/319 [==============================] - 1s 4ms/step - loss: 0.1009 - accuracy: 0.9645 - val_loss: 0.2197 - val_accuracy: 0.9372\n",
      "Epoch 13/30\n",
      "319/319 [==============================] - 1s 4ms/step - loss: 0.0968 - accuracy: 0.9676 - val_loss: 0.2092 - val_accuracy: 0.9427\n",
      "Epoch 14/30\n",
      "319/319 [==============================] - 1s 4ms/step - loss: 0.0861 - accuracy: 0.9707 - val_loss: 0.2720 - val_accuracy: 0.9427\n",
      "Epoch 15/30\n",
      "319/319 [==============================] - 1s 4ms/step - loss: 0.0850 - accuracy: 0.9697 - val_loss: 0.2377 - val_accuracy: 0.9372\n",
      "Epoch 16/30\n",
      "319/319 [==============================] - 1s 4ms/step - loss: 0.0781 - accuracy: 0.9717 - val_loss: 0.2185 - val_accuracy: 0.9246\n",
      "Epoch 17/30\n",
      "319/319 [==============================] - 1s 4ms/step - loss: 0.0712 - accuracy: 0.9732 - val_loss: 0.2735 - val_accuracy: 0.9403\n",
      "Epoch 18/30\n",
      "319/319 [==============================] - 1s 4ms/step - loss: 0.0686 - accuracy: 0.9759 - val_loss: 0.2793 - val_accuracy: 0.9372\n",
      "Epoch 19/30\n",
      "319/319 [==============================] - 1s 4ms/step - loss: 0.0656 - accuracy: 0.9774 - val_loss: 0.2455 - val_accuracy: 0.9443\n",
      "Epoch 20/30\n",
      "319/319 [==============================] - 1s 4ms/step - loss: 0.0612 - accuracy: 0.9787 - val_loss: 0.3247 - val_accuracy: 0.9435\n",
      "Epoch 21/30\n",
      "319/319 [==============================] - 1s 4ms/step - loss: 0.0583 - accuracy: 0.9792 - val_loss: 0.2581 - val_accuracy: 0.9380\n",
      "Epoch 22/30\n",
      "319/319 [==============================] - 1s 4ms/step - loss: 0.0558 - accuracy: 0.9802 - val_loss: 0.2834 - val_accuracy: 0.9388\n",
      "Epoch 23/30\n",
      "319/319 [==============================] - 1s 4ms/step - loss: 0.0548 - accuracy: 0.9803 - val_loss: 0.3026 - val_accuracy: 0.9372\n",
      "Epoch 24/30\n",
      "319/319 [==============================] - 1s 4ms/step - loss: 0.0517 - accuracy: 0.9821 - val_loss: 0.2552 - val_accuracy: 0.9419\n",
      "Epoch 25/30\n",
      "319/319 [==============================] - 1s 4ms/step - loss: 0.0494 - accuracy: 0.9837 - val_loss: 0.2557 - val_accuracy: 0.9396\n",
      "Epoch 26/30\n",
      "319/319 [==============================] - 1s 4ms/step - loss: 0.0481 - accuracy: 0.9812 - val_loss: 0.2876 - val_accuracy: 0.9364\n",
      "Epoch 27/30\n",
      "319/319 [==============================] - 1s 4ms/step - loss: 0.0462 - accuracy: 0.9840 - val_loss: 0.3129 - val_accuracy: 0.9356\n",
      "Epoch 28/30\n",
      "319/319 [==============================] - 1s 4ms/step - loss: 0.0431 - accuracy: 0.9858 - val_loss: 0.3121 - val_accuracy: 0.9411\n",
      "Epoch 29/30\n",
      "319/319 [==============================] - 1s 4ms/step - loss: 0.0427 - accuracy: 0.9853 - val_loss: 0.3470 - val_accuracy: 0.9372\n",
      "Epoch 30/30\n",
      "319/319 [==============================] - 1s 4ms/step - loss: 0.0437 - accuracy: 0.9852 - val_loss: 0.3438 - val_accuracy: 0.9317\n",
      "Epoch 1/30\n",
      "599/599 [==============================] - 4s 5ms/step - loss: 0.4628 - accuracy: 0.7745 - val_loss: 0.3462 - val_accuracy: 0.8493\n",
      "Epoch 2/30\n",
      "599/599 [==============================] - 2s 4ms/step - loss: 0.3065 - accuracy: 0.8695 - val_loss: 0.2897 - val_accuracy: 0.8830\n",
      "Epoch 3/30\n",
      "599/599 [==============================] - 2s 4ms/step - loss: 0.2244 - accuracy: 0.9138 - val_loss: 0.3312 - val_accuracy: 0.8830\n",
      "Epoch 4/30\n",
      "599/599 [==============================] - 2s 4ms/step - loss: 0.1715 - accuracy: 0.9383 - val_loss: 0.3226 - val_accuracy: 0.9011\n",
      "Epoch 5/30\n",
      "599/599 [==============================] - 2s 4ms/step - loss: 0.1478 - accuracy: 0.9497 - val_loss: 0.3601 - val_accuracy: 0.8909\n",
      "Epoch 6/30\n",
      "599/599 [==============================] - 2s 4ms/step - loss: 0.1199 - accuracy: 0.9589 - val_loss: 0.3248 - val_accuracy: 0.9027\n",
      "Epoch 7/30\n",
      "599/599 [==============================] - 2s 4ms/step - loss: 0.1097 - accuracy: 0.9641 - val_loss: 0.3714 - val_accuracy: 0.9042\n",
      "Epoch 8/30\n",
      "599/599 [==============================] - 2s 4ms/step - loss: 0.0950 - accuracy: 0.9676 - val_loss: 0.3895 - val_accuracy: 0.9215\n",
      "Epoch 9/30\n",
      "599/599 [==============================] - 2s 4ms/step - loss: 0.0842 - accuracy: 0.9731 - val_loss: 0.3889 - val_accuracy: 0.9113\n",
      "Epoch 10/30\n",
      "599/599 [==============================] - 2s 4ms/step - loss: 0.0835 - accuracy: 0.9727 - val_loss: 0.3509 - val_accuracy: 0.9105\n",
      "Epoch 11/30\n",
      "599/599 [==============================] - 2s 4ms/step - loss: 0.0691 - accuracy: 0.9773 - val_loss: 0.4329 - val_accuracy: 0.9192\n",
      "Epoch 12/30\n",
      "599/599 [==============================] - 2s 4ms/step - loss: 0.0644 - accuracy: 0.9787 - val_loss: 0.4466 - val_accuracy: 0.8956\n",
      "Epoch 13/30\n",
      "599/599 [==============================] - 2s 4ms/step - loss: 0.0659 - accuracy: 0.9785 - val_loss: 0.4044 - val_accuracy: 0.9089\n",
      "Epoch 14/30\n",
      "599/599 [==============================] - 2s 4ms/step - loss: 0.0597 - accuracy: 0.9795 - val_loss: 0.4757 - val_accuracy: 0.9050\n",
      "Epoch 15/30\n",
      "599/599 [==============================] - 2s 4ms/step - loss: 0.0542 - accuracy: 0.9826 - val_loss: 0.4478 - val_accuracy: 0.9254\n",
      "Epoch 16/30\n",
      "599/599 [==============================] - 2s 4ms/step - loss: 0.0497 - accuracy: 0.9828 - val_loss: 0.4773 - val_accuracy: 0.9254\n",
      "Epoch 17/30\n",
      "599/599 [==============================] - 2s 4ms/step - loss: 0.0506 - accuracy: 0.9837 - val_loss: 0.4812 - val_accuracy: 0.8893\n",
      "Epoch 18/30\n",
      "599/599 [==============================] - 2s 4ms/step - loss: 0.0484 - accuracy: 0.9834 - val_loss: 0.4528 - val_accuracy: 0.9231\n",
      "Epoch 19/30\n",
      "599/599 [==============================] - 2s 4ms/step - loss: 0.0434 - accuracy: 0.9854 - val_loss: 0.4758 - val_accuracy: 0.9262\n",
      "Epoch 20/30\n",
      "599/599 [==============================] - 2s 4ms/step - loss: 0.0479 - accuracy: 0.9844 - val_loss: 0.5084 - val_accuracy: 0.9207\n",
      "Epoch 21/30\n",
      "599/599 [==============================] - 2s 4ms/step - loss: 0.0403 - accuracy: 0.9871 - val_loss: 0.4266 - val_accuracy: 0.9364\n",
      "Epoch 22/30\n",
      "599/599 [==============================] - 2s 4ms/step - loss: 0.0434 - accuracy: 0.9856 - val_loss: 0.4831 - val_accuracy: 0.9309\n",
      "Epoch 23/30\n",
      "599/599 [==============================] - 2s 4ms/step - loss: 0.0380 - accuracy: 0.9871 - val_loss: 0.4418 - val_accuracy: 0.9231\n",
      "Epoch 24/30\n",
      "599/599 [==============================] - 2s 4ms/step - loss: 0.0375 - accuracy: 0.9874 - val_loss: 0.4606 - val_accuracy: 0.9349\n",
      "Epoch 25/30\n",
      "599/599 [==============================] - 2s 4ms/step - loss: 0.0371 - accuracy: 0.9866 - val_loss: 0.5411 - val_accuracy: 0.9262\n",
      "Epoch 26/30\n",
      "599/599 [==============================] - 2s 4ms/step - loss: 0.0357 - accuracy: 0.9885 - val_loss: 0.4974 - val_accuracy: 0.9341\n",
      "Epoch 27/30\n",
      "599/599 [==============================] - 2s 4ms/step - loss: 0.0328 - accuracy: 0.9888 - val_loss: 0.5288 - val_accuracy: 0.9286\n",
      "Epoch 28/30\n",
      "599/599 [==============================] - 2s 4ms/step - loss: 0.0349 - accuracy: 0.9891 - val_loss: 0.4086 - val_accuracy: 0.9270\n",
      "Epoch 29/30\n",
      "599/599 [==============================] - 2s 4ms/step - loss: 0.0335 - accuracy: 0.9898 - val_loss: 0.5286 - val_accuracy: 0.9215\n",
      "Epoch 30/30\n",
      "599/599 [==============================] - 2s 4ms/step - loss: 0.0318 - accuracy: 0.9892 - val_loss: 0.5338 - val_accuracy: 0.9278\n",
      "Epoch 1/30\n",
      "319/319 [==============================] - 3s 5ms/step - loss: 0.2583 - accuracy: 0.9398 - val_loss: 0.2354 - val_accuracy: 0.9286\n",
      "Epoch 2/30\n",
      "319/319 [==============================] - 1s 4ms/step - loss: 0.1769 - accuracy: 0.9435 - val_loss: 0.1974 - val_accuracy: 0.9286\n",
      "Epoch 3/30\n",
      "319/319 [==============================] - 1s 4ms/step - loss: 0.1595 - accuracy: 0.9481 - val_loss: 0.1980 - val_accuracy: 0.9396\n",
      "Epoch 4/30\n",
      "319/319 [==============================] - 1s 4ms/step - loss: 0.1554 - accuracy: 0.9497 - val_loss: 0.1865 - val_accuracy: 0.9388\n",
      "Epoch 5/30\n",
      "319/319 [==============================] - 1s 4ms/step - loss: 0.1503 - accuracy: 0.9500 - val_loss: 0.1910 - val_accuracy: 0.9396\n",
      "Epoch 6/30\n",
      "319/319 [==============================] - 1s 4ms/step - loss: 0.1419 - accuracy: 0.9523 - val_loss: 0.1857 - val_accuracy: 0.9396\n",
      "Epoch 7/30\n",
      "319/319 [==============================] - 1s 4ms/step - loss: 0.1400 - accuracy: 0.9536 - val_loss: 0.2119 - val_accuracy: 0.9388\n",
      "Epoch 8/30\n",
      "319/319 [==============================] - 1s 4ms/step - loss: 0.1376 - accuracy: 0.9537 - val_loss: 0.1808 - val_accuracy: 0.9411\n",
      "Epoch 9/30\n",
      "319/319 [==============================] - 1s 4ms/step - loss: 0.1337 - accuracy: 0.9543 - val_loss: 0.2019 - val_accuracy: 0.9388\n",
      "Epoch 10/30\n",
      "319/319 [==============================] - 1s 4ms/step - loss: 0.1293 - accuracy: 0.9567 - val_loss: 0.1918 - val_accuracy: 0.9380\n",
      "Epoch 11/30\n",
      "319/319 [==============================] - 1s 4ms/step - loss: 0.1244 - accuracy: 0.9599 - val_loss: 0.2084 - val_accuracy: 0.9349\n",
      "Epoch 12/30\n",
      "319/319 [==============================] - 1s 4ms/step - loss: 0.1215 - accuracy: 0.9602 - val_loss: 0.1938 - val_accuracy: 0.9372\n",
      "Epoch 13/30\n",
      "319/319 [==============================] - 1s 4ms/step - loss: 0.1146 - accuracy: 0.9619 - val_loss: 0.1886 - val_accuracy: 0.9388\n",
      "Epoch 14/30\n",
      "319/319 [==============================] - 1s 4ms/step - loss: 0.1134 - accuracy: 0.9610 - val_loss: 0.2018 - val_accuracy: 0.9388\n",
      "Epoch 15/30\n",
      "319/319 [==============================] - 1s 4ms/step - loss: 0.1070 - accuracy: 0.9631 - val_loss: 0.2063 - val_accuracy: 0.9396\n",
      "Epoch 16/30\n",
      "319/319 [==============================] - 1s 4ms/step - loss: 0.1066 - accuracy: 0.9654 - val_loss: 0.1960 - val_accuracy: 0.9356\n",
      "Epoch 17/30\n",
      "319/319 [==============================] - 1s 4ms/step - loss: 0.0997 - accuracy: 0.9642 - val_loss: 0.2059 - val_accuracy: 0.9396\n",
      "Epoch 18/30\n",
      "319/319 [==============================] - 1s 4ms/step - loss: 0.1015 - accuracy: 0.9646 - val_loss: 0.2008 - val_accuracy: 0.9388\n",
      "Epoch 19/30\n",
      "319/319 [==============================] - 1s 4ms/step - loss: 0.0964 - accuracy: 0.9657 - val_loss: 0.1995 - val_accuracy: 0.9396\n",
      "Epoch 20/30\n",
      "319/319 [==============================] - 1s 4ms/step - loss: 0.0888 - accuracy: 0.9679 - val_loss: 0.2159 - val_accuracy: 0.9403\n",
      "Epoch 21/30\n",
      "319/319 [==============================] - 1s 4ms/step - loss: 0.0840 - accuracy: 0.9708 - val_loss: 0.2220 - val_accuracy: 0.9341\n",
      "Epoch 22/30\n",
      "319/319 [==============================] - 1s 4ms/step - loss: 0.0798 - accuracy: 0.9702 - val_loss: 0.2366 - val_accuracy: 0.9396\n",
      "Epoch 23/30\n",
      "319/319 [==============================] - 1s 4ms/step - loss: 0.0771 - accuracy: 0.9736 - val_loss: 0.3082 - val_accuracy: 0.9364\n",
      "Epoch 24/30\n",
      "319/319 [==============================] - 1s 4ms/step - loss: 0.0740 - accuracy: 0.9735 - val_loss: 0.2807 - val_accuracy: 0.9380\n",
      "Epoch 25/30\n",
      "319/319 [==============================] - 1s 4ms/step - loss: 0.0661 - accuracy: 0.9755 - val_loss: 0.2428 - val_accuracy: 0.9325\n",
      "Epoch 26/30\n",
      "319/319 [==============================] - 1s 4ms/step - loss: 0.0670 - accuracy: 0.9767 - val_loss: 0.2280 - val_accuracy: 0.9356\n",
      "Epoch 27/30\n",
      "319/319 [==============================] - 1s 4ms/step - loss: 0.0649 - accuracy: 0.9762 - val_loss: 0.2890 - val_accuracy: 0.9356\n",
      "Epoch 28/30\n",
      "319/319 [==============================] - 1s 4ms/step - loss: 0.0643 - accuracy: 0.9764 - val_loss: 0.2340 - val_accuracy: 0.9372\n",
      "Epoch 29/30\n",
      "319/319 [==============================] - 1s 4ms/step - loss: 0.0585 - accuracy: 0.9794 - val_loss: 0.2684 - val_accuracy: 0.9388\n",
      "Epoch 30/30\n",
      "319/319 [==============================] - 1s 4ms/step - loss: 0.0548 - accuracy: 0.9805 - val_loss: 0.2741 - val_accuracy: 0.9372\n",
      "Epoch 1/30\n",
      "599/599 [==============================] - 4s 5ms/step - loss: 0.4495 - accuracy: 0.7825 - val_loss: 0.3979 - val_accuracy: 0.7959\n",
      "Epoch 2/30\n",
      "599/599 [==============================] - 2s 4ms/step - loss: 0.3221 - accuracy: 0.8598 - val_loss: 0.3229 - val_accuracy: 0.8564\n",
      "Epoch 3/30\n",
      "599/599 [==============================] - 2s 4ms/step - loss: 0.2636 - accuracy: 0.8943 - val_loss: 0.4391 - val_accuracy: 0.8336\n",
      "Epoch 4/30\n",
      "599/599 [==============================] - 2s 4ms/step - loss: 0.2106 - accuracy: 0.9188 - val_loss: 0.2656 - val_accuracy: 0.8948\n",
      "Epoch 5/30\n",
      "599/599 [==============================] - 2s 4ms/step - loss: 0.1714 - accuracy: 0.9380 - val_loss: 0.3504 - val_accuracy: 0.8940\n",
      "Epoch 6/30\n",
      "599/599 [==============================] - 2s 4ms/step - loss: 0.1492 - accuracy: 0.9475 - val_loss: 0.2846 - val_accuracy: 0.9215\n",
      "Epoch 7/30\n",
      "599/599 [==============================] - 2s 4ms/step - loss: 0.1348 - accuracy: 0.9540 - val_loss: 0.3258 - val_accuracy: 0.9019\n",
      "Epoch 8/30\n",
      "599/599 [==============================] - 2s 4ms/step - loss: 0.1128 - accuracy: 0.9631 - val_loss: 0.3197 - val_accuracy: 0.9152\n",
      "Epoch 9/30\n",
      "599/599 [==============================] - 2s 4ms/step - loss: 0.1008 - accuracy: 0.9663 - val_loss: 0.3398 - val_accuracy: 0.9168\n",
      "Epoch 10/30\n",
      "599/599 [==============================] - 2s 4ms/step - loss: 0.0962 - accuracy: 0.9674 - val_loss: 0.3283 - val_accuracy: 0.9199\n",
      "Epoch 11/30\n",
      "599/599 [==============================] - 2s 4ms/step - loss: 0.0879 - accuracy: 0.9722 - val_loss: 0.3379 - val_accuracy: 0.9168\n",
      "Epoch 12/30\n",
      "599/599 [==============================] - 2s 4ms/step - loss: 0.0736 - accuracy: 0.9760 - val_loss: 0.3830 - val_accuracy: 0.9192\n",
      "Epoch 13/30\n",
      "599/599 [==============================] - 2s 4ms/step - loss: 0.0699 - accuracy: 0.9776 - val_loss: 0.3975 - val_accuracy: 0.9223\n",
      "Epoch 14/30\n",
      "599/599 [==============================] - 2s 4ms/step - loss: 0.0685 - accuracy: 0.9779 - val_loss: 0.3978 - val_accuracy: 0.9231\n",
      "Epoch 15/30\n",
      "599/599 [==============================] - 2s 4ms/step - loss: 0.0616 - accuracy: 0.9801 - val_loss: 0.4689 - val_accuracy: 0.9199\n",
      "Epoch 16/30\n",
      "599/599 [==============================] - 2s 4ms/step - loss: 0.0552 - accuracy: 0.9813 - val_loss: 0.4311 - val_accuracy: 0.9349\n",
      "Epoch 17/30\n",
      "599/599 [==============================] - 2s 4ms/step - loss: 0.0542 - accuracy: 0.9818 - val_loss: 0.4480 - val_accuracy: 0.9262\n",
      "Epoch 18/30\n",
      "599/599 [==============================] - 2s 4ms/step - loss: 0.0522 - accuracy: 0.9827 - val_loss: 0.4516 - val_accuracy: 0.9239\n",
      "Epoch 19/30\n",
      "599/599 [==============================] - 2s 4ms/step - loss: 0.0497 - accuracy: 0.9842 - val_loss: 0.5134 - val_accuracy: 0.9262\n",
      "Epoch 20/30\n",
      "599/599 [==============================] - 2s 4ms/step - loss: 0.0459 - accuracy: 0.9854 - val_loss: 0.4477 - val_accuracy: 0.9341\n",
      "Epoch 21/30\n",
      "599/599 [==============================] - 2s 4ms/step - loss: 0.0461 - accuracy: 0.9842 - val_loss: 0.4838 - val_accuracy: 0.9246\n",
      "Epoch 22/30\n",
      "599/599 [==============================] - 2s 4ms/step - loss: 0.0453 - accuracy: 0.9847 - val_loss: 0.4488 - val_accuracy: 0.9309\n",
      "Epoch 23/30\n",
      "599/599 [==============================] - 2s 4ms/step - loss: 0.0403 - accuracy: 0.9864 - val_loss: 0.4373 - val_accuracy: 0.9309\n",
      "Epoch 24/30\n",
      "599/599 [==============================] - 2s 4ms/step - loss: 0.0347 - accuracy: 0.9883 - val_loss: 0.4244 - val_accuracy: 0.9325\n",
      "Epoch 25/30\n",
      "599/599 [==============================] - 2s 4ms/step - loss: 0.0372 - accuracy: 0.9878 - val_loss: 0.4405 - val_accuracy: 0.9317\n",
      "Epoch 26/30\n",
      "599/599 [==============================] - 2s 4ms/step - loss: 0.0341 - accuracy: 0.9891 - val_loss: 0.4717 - val_accuracy: 0.9246\n",
      "Epoch 27/30\n",
      "599/599 [==============================] - 2s 4ms/step - loss: 0.0346 - accuracy: 0.9888 - val_loss: 0.4050 - val_accuracy: 0.9349\n",
      "Epoch 28/30\n",
      "599/599 [==============================] - 2s 4ms/step - loss: 0.0342 - accuracy: 0.9887 - val_loss: 0.4473 - val_accuracy: 0.9356\n",
      "Epoch 29/30\n",
      "599/599 [==============================] - 2s 4ms/step - loss: 0.0320 - accuracy: 0.9897 - val_loss: 0.5414 - val_accuracy: 0.9254\n",
      "Epoch 30/30\n",
      "599/599 [==============================] - 2s 4ms/step - loss: 0.0296 - accuracy: 0.9909 - val_loss: 0.5202 - val_accuracy: 0.9349\n",
      "Epoch 1/30\n",
      "319/319 [==============================] - 6s 9ms/step - loss: 0.0581 - accuracy: 0.9786 - val_loss: 0.3726 - val_accuracy: 0.9333\n",
      "Epoch 2/30\n",
      "319/319 [==============================] - 2s 7ms/step - loss: 0.0103 - accuracy: 0.9965 - val_loss: 0.4664 - val_accuracy: 0.9301\n",
      "Epoch 3/30\n",
      "319/319 [==============================] - 2s 7ms/step - loss: 0.0044 - accuracy: 0.9983 - val_loss: 0.5399 - val_accuracy: 0.9262\n",
      "Epoch 4/30\n",
      "319/319 [==============================] - 2s 7ms/step - loss: 0.0035 - accuracy: 0.9989 - val_loss: 0.5951 - val_accuracy: 0.9349\n",
      "Epoch 5/30\n",
      "319/319 [==============================] - 2s 7ms/step - loss: 0.0020 - accuracy: 0.9991 - val_loss: 0.6118 - val_accuracy: 0.9254\n",
      "Epoch 6/30\n",
      "319/319 [==============================] - 2s 7ms/step - loss: 0.0026 - accuracy: 0.9989 - val_loss: 0.6544 - val_accuracy: 0.9278\n",
      "Epoch 7/30\n",
      "319/319 [==============================] - 2s 7ms/step - loss: 7.2839e-04 - accuracy: 0.9998 - val_loss: 0.7111 - val_accuracy: 0.9278\n",
      "Epoch 8/30\n",
      "319/319 [==============================] - 2s 7ms/step - loss: 9.6944e-04 - accuracy: 0.9996 - val_loss: 0.7556 - val_accuracy: 0.9286\n",
      "Epoch 9/30\n",
      "319/319 [==============================] - 2s 7ms/step - loss: 8.7249e-04 - accuracy: 0.9997 - val_loss: 0.7946 - val_accuracy: 0.9286\n",
      "Epoch 10/30\n",
      "319/319 [==============================] - 2s 7ms/step - loss: 5.6519e-04 - accuracy: 0.9998 - val_loss: 0.8134 - val_accuracy: 0.9278\n",
      "Epoch 11/30\n",
      "319/319 [==============================] - 2s 7ms/step - loss: 4.2434e-04 - accuracy: 0.9999 - val_loss: 0.8531 - val_accuracy: 0.9246\n",
      "Epoch 12/30\n",
      "319/319 [==============================] - 2s 7ms/step - loss: 0.0012 - accuracy: 0.9998 - val_loss: 0.8015 - val_accuracy: 0.9286\n",
      "Epoch 13/30\n",
      "319/319 [==============================] - 2s 7ms/step - loss: 0.0034 - accuracy: 0.9986 - val_loss: 0.6068 - val_accuracy: 0.9239\n",
      "Epoch 14/30\n",
      "319/319 [==============================] - 2s 7ms/step - loss: 0.0021 - accuracy: 0.9996 - val_loss: 0.7180 - val_accuracy: 0.9301\n",
      "Epoch 15/30\n",
      "319/319 [==============================] - 2s 7ms/step - loss: 5.3659e-04 - accuracy: 0.9998 - val_loss: 0.7679 - val_accuracy: 0.9317\n",
      "Epoch 16/30\n",
      "319/319 [==============================] - 2s 7ms/step - loss: 8.4917e-04 - accuracy: 0.9997 - val_loss: 0.7861 - val_accuracy: 0.9294\n",
      "Epoch 17/30\n",
      "319/319 [==============================] - 2s 7ms/step - loss: 4.2921e-04 - accuracy: 0.9997 - val_loss: 0.8300 - val_accuracy: 0.9301\n",
      "Epoch 18/30\n",
      "319/319 [==============================] - 2s 7ms/step - loss: 2.9235e-04 - accuracy: 0.9999 - val_loss: 0.8597 - val_accuracy: 0.9301\n",
      "Epoch 19/30\n",
      "319/319 [==============================] - 2s 7ms/step - loss: 3.8467e-04 - accuracy: 0.9998 - val_loss: 0.8905 - val_accuracy: 0.9309\n",
      "Epoch 20/30\n",
      "319/319 [==============================] - 2s 7ms/step - loss: 3.6109e-04 - accuracy: 0.9999 - val_loss: 0.9117 - val_accuracy: 0.9309\n",
      "Epoch 21/30\n",
      "319/319 [==============================] - 2s 7ms/step - loss: 2.7227e-04 - accuracy: 0.9999 - val_loss: 0.9300 - val_accuracy: 0.9294\n",
      "Epoch 22/30\n",
      "319/319 [==============================] - 2s 7ms/step - loss: 7.9670e-04 - accuracy: 0.9996 - val_loss: 0.9067 - val_accuracy: 0.9286\n",
      "Epoch 23/30\n",
      "319/319 [==============================] - 2s 7ms/step - loss: 4.2245e-04 - accuracy: 0.9998 - val_loss: 0.9437 - val_accuracy: 0.9301\n",
      "Epoch 24/30\n",
      "319/319 [==============================] - 2s 7ms/step - loss: 0.0013 - accuracy: 0.9995 - val_loss: 0.9368 - val_accuracy: 0.9317\n",
      "Epoch 25/30\n",
      "319/319 [==============================] - 2s 7ms/step - loss: 6.6592e-04 - accuracy: 0.9998 - val_loss: 0.9986 - val_accuracy: 0.9317\n",
      "Epoch 26/30\n",
      "319/319 [==============================] - 2s 7ms/step - loss: 3.4510e-04 - accuracy: 0.9999 - val_loss: 1.0274 - val_accuracy: 0.9301\n",
      "Epoch 27/30\n",
      "319/319 [==============================] - 2s 7ms/step - loss: 4.5491e-04 - accuracy: 0.9999 - val_loss: 1.0457 - val_accuracy: 0.9278\n",
      "Epoch 28/30\n",
      "319/319 [==============================] - 2s 7ms/step - loss: 0.0049 - accuracy: 0.9989 - val_loss: 0.8276 - val_accuracy: 0.9246\n",
      "Epoch 29/30\n",
      "319/319 [==============================] - 2s 7ms/step - loss: 0.0035 - accuracy: 0.9991 - val_loss: 0.8487 - val_accuracy: 0.9286\n",
      "Epoch 30/30\n",
      "319/319 [==============================] - 2s 7ms/step - loss: 4.3802e-04 - accuracy: 0.9999 - val_loss: 0.8798 - val_accuracy: 0.9294\n",
      "Epoch 1/30\n",
      "599/599 [==============================] - 7s 8ms/step - loss: 0.0361 - accuracy: 0.9896 - val_loss: 0.4802 - val_accuracy: 0.9349\n",
      "Epoch 2/30\n",
      "599/599 [==============================] - 4s 7ms/step - loss: 0.0023 - accuracy: 0.9994 - val_loss: 0.5838 - val_accuracy: 0.9333\n",
      "Epoch 3/30\n",
      "599/599 [==============================] - 4s 7ms/step - loss: 0.0020 - accuracy: 0.9994 - val_loss: 0.6491 - val_accuracy: 0.9270\n",
      "Epoch 4/30\n",
      "599/599 [==============================] - 4s 7ms/step - loss: 9.5746e-04 - accuracy: 0.9997 - val_loss: 0.6907 - val_accuracy: 0.9294\n",
      "Epoch 5/30\n",
      "599/599 [==============================] - 4s 7ms/step - loss: 3.7187e-04 - accuracy: 0.9999 - val_loss: 0.7469 - val_accuracy: 0.9286\n",
      "Epoch 6/30\n",
      "599/599 [==============================] - 4s 7ms/step - loss: 0.0023 - accuracy: 0.9992 - val_loss: 0.6454 - val_accuracy: 0.9294\n",
      "Epoch 7/30\n",
      "599/599 [==============================] - 4s 7ms/step - loss: 0.0020 - accuracy: 0.9994 - val_loss: 0.7085 - val_accuracy: 0.9254\n",
      "Epoch 8/30\n",
      "599/599 [==============================] - 4s 7ms/step - loss: 0.0015 - accuracy: 0.9995 - val_loss: 0.6922 - val_accuracy: 0.9286\n",
      "Epoch 9/30\n",
      "599/599 [==============================] - 4s 7ms/step - loss: 5.9638e-04 - accuracy: 0.9998 - val_loss: 0.7539 - val_accuracy: 0.9278\n",
      "Epoch 10/30\n",
      "599/599 [==============================] - 4s 7ms/step - loss: 7.7600e-04 - accuracy: 0.9998 - val_loss: 0.8244 - val_accuracy: 0.9294\n",
      "Epoch 11/30\n",
      "599/599 [==============================] - 4s 7ms/step - loss: 0.0014 - accuracy: 0.9996 - val_loss: 0.8117 - val_accuracy: 0.9223\n",
      "Epoch 12/30\n",
      "599/599 [==============================] - 4s 7ms/step - loss: 8.4728e-04 - accuracy: 0.9998 - val_loss: 0.8497 - val_accuracy: 0.9270\n",
      "Epoch 13/30\n",
      "599/599 [==============================] - 4s 7ms/step - loss: 5.6886e-04 - accuracy: 0.9998 - val_loss: 0.8742 - val_accuracy: 0.9286\n",
      "Epoch 14/30\n",
      "599/599 [==============================] - 4s 7ms/step - loss: 5.1177e-04 - accuracy: 0.9998 - val_loss: 0.9129 - val_accuracy: 0.9239\n",
      "Epoch 15/30\n",
      "599/599 [==============================] - 4s 7ms/step - loss: 4.1778e-04 - accuracy: 0.9998 - val_loss: 0.9554 - val_accuracy: 0.9270\n",
      "Epoch 16/30\n",
      "599/599 [==============================] - 4s 7ms/step - loss: 3.8802e-04 - accuracy: 0.9999 - val_loss: 1.0209 - val_accuracy: 0.9231\n",
      "Epoch 17/30\n",
      "599/599 [==============================] - 4s 7ms/step - loss: 9.8048e-04 - accuracy: 0.9997 - val_loss: 0.9812 - val_accuracy: 0.9239\n",
      "Epoch 18/30\n",
      "599/599 [==============================] - 4s 7ms/step - loss: 0.0013 - accuracy: 0.9997 - val_loss: 1.0105 - val_accuracy: 0.9207\n",
      "Epoch 19/30\n",
      "599/599 [==============================] - 4s 7ms/step - loss: 0.0011 - accuracy: 0.9997 - val_loss: 0.9571 - val_accuracy: 0.9231\n",
      "Epoch 20/30\n",
      "599/599 [==============================] - 4s 7ms/step - loss: 9.0636e-04 - accuracy: 0.9997 - val_loss: 0.9692 - val_accuracy: 0.9270\n",
      "Epoch 21/30\n",
      "599/599 [==============================] - 4s 7ms/step - loss: 5.6920e-04 - accuracy: 0.9998 - val_loss: 0.9201 - val_accuracy: 0.9270\n",
      "Epoch 22/30\n",
      "599/599 [==============================] - 4s 7ms/step - loss: 6.4459e-04 - accuracy: 0.9999 - val_loss: 0.9400 - val_accuracy: 0.9278\n",
      "Epoch 23/30\n",
      "599/599 [==============================] - 4s 7ms/step - loss: 3.2382e-04 - accuracy: 0.9999 - val_loss: 0.9497 - val_accuracy: 0.9278\n",
      "Epoch 24/30\n",
      "599/599 [==============================] - 4s 7ms/step - loss: 4.2694e-04 - accuracy: 0.9999 - val_loss: 1.0140 - val_accuracy: 0.9286\n",
      "Epoch 25/30\n",
      "599/599 [==============================] - 4s 7ms/step - loss: 2.4203e-04 - accuracy: 0.9999 - val_loss: 1.0585 - val_accuracy: 0.9278\n",
      "Epoch 26/30\n",
      "599/599 [==============================] - 4s 7ms/step - loss: 3.5272e-04 - accuracy: 0.9999 - val_loss: 1.0856 - val_accuracy: 0.9286\n",
      "Epoch 27/30\n",
      "599/599 [==============================] - 4s 7ms/step - loss: 3.5198e-04 - accuracy: 0.9999 - val_loss: 1.1252 - val_accuracy: 0.9309\n",
      "Epoch 28/30\n",
      "599/599 [==============================] - 4s 7ms/step - loss: 2.4236e-04 - accuracy: 0.9999 - val_loss: 1.1652 - val_accuracy: 0.9294\n",
      "Epoch 29/30\n",
      "599/599 [==============================] - 4s 7ms/step - loss: 3.3187e-04 - accuracy: 0.9998 - val_loss: 1.2511 - val_accuracy: 0.9129\n",
      "Epoch 30/30\n",
      "599/599 [==============================] - 4s 7ms/step - loss: 7.2956e-04 - accuracy: 0.9998 - val_loss: 1.1038 - val_accuracy: 0.9294\n",
      "Epoch 1/30\n",
      "319/319 [==============================] - 5s 8ms/step - loss: 0.2130 - accuracy: 0.9383 - val_loss: 0.2202 - val_accuracy: 0.9309\n",
      "Epoch 2/30\n",
      "319/319 [==============================] - 2s 6ms/step - loss: 0.1720 - accuracy: 0.9446 - val_loss: 0.1946 - val_accuracy: 0.9325\n",
      "Epoch 3/30\n",
      "319/319 [==============================] - 2s 6ms/step - loss: 0.1601 - accuracy: 0.9488 - val_loss: 0.1919 - val_accuracy: 0.9325\n",
      "Epoch 4/30\n",
      "319/319 [==============================] - 2s 6ms/step - loss: 0.1533 - accuracy: 0.9494 - val_loss: 0.1957 - val_accuracy: 0.9349\n",
      "Epoch 5/30\n",
      "319/319 [==============================] - 2s 6ms/step - loss: 0.1450 - accuracy: 0.9514 - val_loss: 0.1986 - val_accuracy: 0.9341\n",
      "Epoch 6/30\n",
      "319/319 [==============================] - 2s 6ms/step - loss: 0.1375 - accuracy: 0.9534 - val_loss: 0.1930 - val_accuracy: 0.9349\n",
      "Epoch 7/30\n",
      "319/319 [==============================] - 2s 6ms/step - loss: 0.1244 - accuracy: 0.9564 - val_loss: 0.1967 - val_accuracy: 0.9403\n",
      "Epoch 8/30\n",
      "319/319 [==============================] - 2s 6ms/step - loss: 0.1177 - accuracy: 0.9585 - val_loss: 0.2168 - val_accuracy: 0.9356\n",
      "Epoch 9/30\n",
      "319/319 [==============================] - 2s 6ms/step - loss: 0.1081 - accuracy: 0.9629 - val_loss: 0.1949 - val_accuracy: 0.9411\n",
      "Epoch 10/30\n",
      "319/319 [==============================] - 2s 6ms/step - loss: 0.0994 - accuracy: 0.9649 - val_loss: 0.1912 - val_accuracy: 0.9372\n",
      "Epoch 11/30\n",
      "319/319 [==============================] - 2s 6ms/step - loss: 0.0869 - accuracy: 0.9690 - val_loss: 0.1957 - val_accuracy: 0.9427\n",
      "Epoch 12/30\n",
      "319/319 [==============================] - 2s 6ms/step - loss: 0.0810 - accuracy: 0.9710 - val_loss: 0.2341 - val_accuracy: 0.9396\n",
      "Epoch 13/30\n",
      "319/319 [==============================] - 2s 6ms/step - loss: 0.0745 - accuracy: 0.9733 - val_loss: 0.2275 - val_accuracy: 0.9403\n",
      "Epoch 14/30\n",
      "319/319 [==============================] - 2s 6ms/step - loss: 0.0724 - accuracy: 0.9745 - val_loss: 0.2417 - val_accuracy: 0.9435\n",
      "Epoch 15/30\n",
      "319/319 [==============================] - 2s 7ms/step - loss: 0.0655 - accuracy: 0.9764 - val_loss: 0.3041 - val_accuracy: 0.9419\n",
      "Epoch 16/30\n",
      "319/319 [==============================] - 2s 6ms/step - loss: 0.0627 - accuracy: 0.9777 - val_loss: 0.2426 - val_accuracy: 0.9419\n",
      "Epoch 17/30\n",
      "319/319 [==============================] - 2s 6ms/step - loss: 0.0512 - accuracy: 0.9827 - val_loss: 0.3146 - val_accuracy: 0.9356\n",
      "Epoch 18/30\n",
      "319/319 [==============================] - 2s 6ms/step - loss: 0.0511 - accuracy: 0.9823 - val_loss: 0.3095 - val_accuracy: 0.9411\n",
      "Epoch 19/30\n",
      "319/319 [==============================] - 2s 6ms/step - loss: 0.0480 - accuracy: 0.9829 - val_loss: 0.2783 - val_accuracy: 0.9341\n",
      "Epoch 20/30\n",
      "319/319 [==============================] - 2s 6ms/step - loss: 0.0420 - accuracy: 0.9850 - val_loss: 0.3075 - val_accuracy: 0.9341\n",
      "Epoch 21/30\n",
      "319/319 [==============================] - 2s 6ms/step - loss: 0.0398 - accuracy: 0.9865 - val_loss: 0.3432 - val_accuracy: 0.9411\n",
      "Epoch 22/30\n",
      "319/319 [==============================] - 2s 6ms/step - loss: 0.0418 - accuracy: 0.9854 - val_loss: 0.3393 - val_accuracy: 0.9427\n",
      "Epoch 23/30\n",
      "319/319 [==============================] - 2s 6ms/step - loss: 0.0365 - accuracy: 0.9860 - val_loss: 0.3221 - val_accuracy: 0.9356\n",
      "Epoch 24/30\n",
      "319/319 [==============================] - 2s 6ms/step - loss: 0.0361 - accuracy: 0.9879 - val_loss: 0.3659 - val_accuracy: 0.9341\n",
      "Epoch 25/30\n",
      "319/319 [==============================] - 2s 6ms/step - loss: 0.0372 - accuracy: 0.9861 - val_loss: 0.3544 - val_accuracy: 0.9396\n",
      "Epoch 26/30\n",
      "319/319 [==============================] - 2s 6ms/step - loss: 0.0356 - accuracy: 0.9887 - val_loss: 0.3361 - val_accuracy: 0.9396\n",
      "Epoch 27/30\n",
      "319/319 [==============================] - 2s 6ms/step - loss: 0.0305 - accuracy: 0.9897 - val_loss: 0.3511 - val_accuracy: 0.9372\n",
      "Epoch 28/30\n",
      "319/319 [==============================] - 2s 6ms/step - loss: 0.0298 - accuracy: 0.9896 - val_loss: 0.3564 - val_accuracy: 0.9403\n",
      "Epoch 29/30\n",
      "319/319 [==============================] - 2s 6ms/step - loss: 0.0282 - accuracy: 0.9906 - val_loss: 0.3687 - val_accuracy: 0.9403\n",
      "Epoch 30/30\n",
      "319/319 [==============================] - 2s 6ms/step - loss: 0.0282 - accuracy: 0.9913 - val_loss: 0.3750 - val_accuracy: 0.9419\n",
      "Epoch 1/30\n",
      "599/599 [==============================] - 7s 7ms/step - loss: 0.4520 - accuracy: 0.7816 - val_loss: 0.3537 - val_accuracy: 0.8462\n",
      "Epoch 2/30\n",
      "599/599 [==============================] - 4s 6ms/step - loss: 0.2757 - accuracy: 0.8871 - val_loss: 0.3141 - val_accuracy: 0.8823\n",
      "Epoch 3/30\n",
      "599/599 [==============================] - 4s 6ms/step - loss: 0.1734 - accuracy: 0.9369 - val_loss: 0.3298 - val_accuracy: 0.8948\n",
      "Epoch 4/30\n",
      "599/599 [==============================] - 4s 6ms/step - loss: 0.1280 - accuracy: 0.9539 - val_loss: 0.3186 - val_accuracy: 0.8940\n",
      "Epoch 5/30\n",
      "599/599 [==============================] - 4s 6ms/step - loss: 0.0974 - accuracy: 0.9672 - val_loss: 0.3626 - val_accuracy: 0.9011\n",
      "Epoch 6/30\n",
      "599/599 [==============================] - 4s 6ms/step - loss: 0.0825 - accuracy: 0.9710 - val_loss: 0.3266 - val_accuracy: 0.9270\n",
      "Epoch 7/30\n",
      "599/599 [==============================] - 4s 6ms/step - loss: 0.0662 - accuracy: 0.9777 - val_loss: 0.4377 - val_accuracy: 0.9301\n",
      "Epoch 8/30\n",
      "599/599 [==============================] - 4s 6ms/step - loss: 0.0605 - accuracy: 0.9788 - val_loss: 0.4137 - val_accuracy: 0.9317\n",
      "Epoch 9/30\n",
      "599/599 [==============================] - 4s 6ms/step - loss: 0.0541 - accuracy: 0.9815 - val_loss: 0.3976 - val_accuracy: 0.9294\n",
      "Epoch 10/30\n",
      "599/599 [==============================] - 4s 6ms/step - loss: 0.0479 - accuracy: 0.9842 - val_loss: 0.4304 - val_accuracy: 0.9082\n",
      "Epoch 11/30\n",
      "599/599 [==============================] - 4s 6ms/step - loss: 0.0416 - accuracy: 0.9858 - val_loss: 0.4671 - val_accuracy: 0.9270\n",
      "Epoch 12/30\n",
      "599/599 [==============================] - 4s 6ms/step - loss: 0.0400 - accuracy: 0.9863 - val_loss: 0.4772 - val_accuracy: 0.9286\n",
      "Epoch 13/30\n",
      "599/599 [==============================] - 4s 6ms/step - loss: 0.0394 - accuracy: 0.9870 - val_loss: 0.5084 - val_accuracy: 0.9246\n",
      "Epoch 14/30\n",
      "599/599 [==============================] - 4s 6ms/step - loss: 0.0385 - accuracy: 0.9865 - val_loss: 0.4232 - val_accuracy: 0.9152\n",
      "Epoch 15/30\n",
      "599/599 [==============================] - 4s 6ms/step - loss: 0.0289 - accuracy: 0.9905 - val_loss: 0.4900 - val_accuracy: 0.9270\n",
      "Epoch 16/30\n",
      "599/599 [==============================] - 4s 6ms/step - loss: 0.0314 - accuracy: 0.9887 - val_loss: 0.5313 - val_accuracy: 0.9223\n",
      "Epoch 17/30\n",
      "599/599 [==============================] - 4s 6ms/step - loss: 0.0313 - accuracy: 0.9892 - val_loss: 0.4386 - val_accuracy: 0.9231\n",
      "Epoch 18/30\n",
      "599/599 [==============================] - 4s 6ms/step - loss: 0.0281 - accuracy: 0.9902 - val_loss: 0.5598 - val_accuracy: 0.9286\n",
      "Epoch 19/30\n",
      "599/599 [==============================] - 4s 6ms/step - loss: 0.0265 - accuracy: 0.9905 - val_loss: 0.5532 - val_accuracy: 0.9270\n",
      "Epoch 20/30\n",
      "599/599 [==============================] - 4s 6ms/step - loss: 0.0242 - accuracy: 0.9914 - val_loss: 0.5358 - val_accuracy: 0.9309\n",
      "Epoch 21/30\n",
      "599/599 [==============================] - 4s 6ms/step - loss: 0.0237 - accuracy: 0.9909 - val_loss: 0.5149 - val_accuracy: 0.9223\n",
      "Epoch 22/30\n",
      "599/599 [==============================] - 4s 6ms/step - loss: 0.0271 - accuracy: 0.9905 - val_loss: 0.5467 - val_accuracy: 0.9309\n",
      "Epoch 23/30\n",
      "599/599 [==============================] - 4s 6ms/step - loss: 0.0234 - accuracy: 0.9919 - val_loss: 0.5422 - val_accuracy: 0.9082\n",
      "Epoch 24/30\n",
      "599/599 [==============================] - 4s 6ms/step - loss: 0.0222 - accuracy: 0.9912 - val_loss: 0.4933 - val_accuracy: 0.9309\n",
      "Epoch 25/30\n",
      "599/599 [==============================] - 4s 6ms/step - loss: 0.0237 - accuracy: 0.9910 - val_loss: 0.5244 - val_accuracy: 0.9270\n",
      "Epoch 26/30\n",
      "599/599 [==============================] - 4s 6ms/step - loss: 0.0236 - accuracy: 0.9915 - val_loss: 0.5985 - val_accuracy: 0.9278\n",
      "Epoch 27/30\n",
      "599/599 [==============================] - 4s 6ms/step - loss: 0.0217 - accuracy: 0.9920 - val_loss: 0.6044 - val_accuracy: 0.9239\n",
      "Epoch 28/30\n",
      "599/599 [==============================] - 3s 6ms/step - loss: 0.0213 - accuracy: 0.9926 - val_loss: 0.5693 - val_accuracy: 0.9278\n",
      "Epoch 29/30\n",
      "599/599 [==============================] - 4s 6ms/step - loss: 0.0167 - accuracy: 0.9944 - val_loss: 0.5727 - val_accuracy: 0.9231\n",
      "Epoch 30/30\n",
      "599/599 [==============================] - 4s 6ms/step - loss: 0.0219 - accuracy: 0.9924 - val_loss: 0.5473 - val_accuracy: 0.9294\n",
      "Epoch 1/30\n",
      "319/319 [==============================] - 5s 8ms/step - loss: 0.2181 - accuracy: 0.9360 - val_loss: 0.2016 - val_accuracy: 0.9325\n",
      "Epoch 2/30\n",
      "319/319 [==============================] - 2s 6ms/step - loss: 0.1607 - accuracy: 0.9458 - val_loss: 0.1877 - val_accuracy: 0.9341\n",
      "Epoch 3/30\n",
      "319/319 [==============================] - 2s 6ms/step - loss: 0.1536 - accuracy: 0.9500 - val_loss: 0.1832 - val_accuracy: 0.9380\n",
      "Epoch 4/30\n",
      "319/319 [==============================] - 2s 6ms/step - loss: 0.1483 - accuracy: 0.9499 - val_loss: 0.1837 - val_accuracy: 0.9372\n",
      "Epoch 5/30\n",
      "319/319 [==============================] - 2s 6ms/step - loss: 0.1423 - accuracy: 0.9517 - val_loss: 0.2045 - val_accuracy: 0.9372\n",
      "Epoch 6/30\n",
      "319/319 [==============================] - 2s 6ms/step - loss: 0.1331 - accuracy: 0.9552 - val_loss: 0.1967 - val_accuracy: 0.9380\n",
      "Epoch 7/30\n",
      "319/319 [==============================] - 2s 6ms/step - loss: 0.1323 - accuracy: 0.9548 - val_loss: 0.1909 - val_accuracy: 0.9372\n",
      "Epoch 8/30\n",
      "319/319 [==============================] - 2s 6ms/step - loss: 0.1241 - accuracy: 0.9567 - val_loss: 0.1996 - val_accuracy: 0.9372\n",
      "Epoch 9/30\n",
      "319/319 [==============================] - 2s 6ms/step - loss: 0.1185 - accuracy: 0.9574 - val_loss: 0.2092 - val_accuracy: 0.9356\n",
      "Epoch 10/30\n",
      "319/319 [==============================] - 2s 6ms/step - loss: 0.1138 - accuracy: 0.9608 - val_loss: 0.2081 - val_accuracy: 0.9364\n",
      "Epoch 11/30\n",
      "319/319 [==============================] - 2s 6ms/step - loss: 0.1094 - accuracy: 0.9606 - val_loss: 0.2377 - val_accuracy: 0.9317\n",
      "Epoch 12/30\n",
      "319/319 [==============================] - 2s 6ms/step - loss: 0.1032 - accuracy: 0.9635 - val_loss: 0.2247 - val_accuracy: 0.9341\n",
      "Epoch 13/30\n",
      "319/319 [==============================] - 2s 6ms/step - loss: 0.0946 - accuracy: 0.9661 - val_loss: 0.2714 - val_accuracy: 0.9364\n",
      "Epoch 14/30\n",
      "319/319 [==============================] - 2s 6ms/step - loss: 0.0897 - accuracy: 0.9683 - val_loss: 0.2236 - val_accuracy: 0.9333\n",
      "Epoch 15/30\n",
      "319/319 [==============================] - 2s 6ms/step - loss: 0.0857 - accuracy: 0.9691 - val_loss: 0.2451 - val_accuracy: 0.9356\n",
      "Epoch 16/30\n",
      "319/319 [==============================] - 2s 6ms/step - loss: 0.0758 - accuracy: 0.9727 - val_loss: 0.2533 - val_accuracy: 0.9294\n",
      "Epoch 17/30\n",
      "319/319 [==============================] - 2s 6ms/step - loss: 0.0729 - accuracy: 0.9720 - val_loss: 0.2583 - val_accuracy: 0.9325\n",
      "Epoch 18/30\n",
      "319/319 [==============================] - 2s 6ms/step - loss: 0.0679 - accuracy: 0.9755 - val_loss: 0.2496 - val_accuracy: 0.9278\n",
      "Epoch 19/30\n",
      "319/319 [==============================] - 2s 6ms/step - loss: 0.0649 - accuracy: 0.9765 - val_loss: 0.2936 - val_accuracy: 0.9325\n",
      "Epoch 20/30\n",
      "319/319 [==============================] - 2s 6ms/step - loss: 0.0594 - accuracy: 0.9789 - val_loss: 0.2994 - val_accuracy: 0.9301\n",
      "Epoch 21/30\n",
      "319/319 [==============================] - 2s 6ms/step - loss: 0.0617 - accuracy: 0.9783 - val_loss: 0.2957 - val_accuracy: 0.9294\n",
      "Epoch 22/30\n",
      "319/319 [==============================] - 2s 6ms/step - loss: 0.0538 - accuracy: 0.9803 - val_loss: 0.3124 - val_accuracy: 0.9325\n",
      "Epoch 23/30\n",
      "319/319 [==============================] - 2s 6ms/step - loss: 0.0495 - accuracy: 0.9840 - val_loss: 0.3146 - val_accuracy: 0.9349\n",
      "Epoch 24/30\n",
      "319/319 [==============================] - 2s 6ms/step - loss: 0.0498 - accuracy: 0.9813 - val_loss: 0.3673 - val_accuracy: 0.9309\n",
      "Epoch 25/30\n",
      "319/319 [==============================] - 2s 6ms/step - loss: 0.0444 - accuracy: 0.9849 - val_loss: 0.3401 - val_accuracy: 0.9294\n",
      "Epoch 26/30\n",
      "319/319 [==============================] - 2s 6ms/step - loss: 0.0436 - accuracy: 0.9844 - val_loss: 0.3553 - val_accuracy: 0.9278\n",
      "Epoch 27/30\n",
      "319/319 [==============================] - 2s 6ms/step - loss: 0.0443 - accuracy: 0.9852 - val_loss: 0.3611 - val_accuracy: 0.9301\n",
      "Epoch 28/30\n",
      "319/319 [==============================] - 2s 6ms/step - loss: 0.0404 - accuracy: 0.9862 - val_loss: 0.3758 - val_accuracy: 0.9294\n",
      "Epoch 29/30\n",
      "319/319 [==============================] - 2s 6ms/step - loss: 0.0403 - accuracy: 0.9864 - val_loss: 0.3316 - val_accuracy: 0.9309\n",
      "Epoch 30/30\n",
      "319/319 [==============================] - 2s 6ms/step - loss: 0.0347 - accuracy: 0.9881 - val_loss: 0.3464 - val_accuracy: 0.9246\n",
      "Epoch 1/30\n",
      "599/599 [==============================] - 7s 7ms/step - loss: 0.4254 - accuracy: 0.7984 - val_loss: 0.3506 - val_accuracy: 0.8540\n",
      "Epoch 2/30\n",
      "599/599 [==============================] - 4s 6ms/step - loss: 0.2925 - accuracy: 0.8757 - val_loss: 0.3973 - val_accuracy: 0.8297\n",
      "Epoch 3/30\n",
      "599/599 [==============================] - 4s 6ms/step - loss: 0.2160 - accuracy: 0.9182 - val_loss: 0.2962 - val_accuracy: 0.8917\n",
      "Epoch 4/30\n",
      "599/599 [==============================] - 4s 6ms/step - loss: 0.1648 - accuracy: 0.9397 - val_loss: 0.3130 - val_accuracy: 0.8948\n",
      "Epoch 5/30\n",
      "599/599 [==============================] - 4s 6ms/step - loss: 0.1372 - accuracy: 0.9509 - val_loss: 0.3260 - val_accuracy: 0.9215\n",
      "Epoch 6/30\n",
      "599/599 [==============================] - 4s 6ms/step - loss: 0.1149 - accuracy: 0.9601 - val_loss: 0.3272 - val_accuracy: 0.8932\n",
      "Epoch 7/30\n",
      "599/599 [==============================] - 4s 6ms/step - loss: 0.0972 - accuracy: 0.9667 - val_loss: 0.3676 - val_accuracy: 0.9050\n",
      "Epoch 8/30\n",
      "599/599 [==============================] - 4s 6ms/step - loss: 0.0828 - accuracy: 0.9709 - val_loss: 0.3999 - val_accuracy: 0.9113\n",
      "Epoch 9/30\n",
      "599/599 [==============================] - 4s 6ms/step - loss: 0.0715 - accuracy: 0.9743 - val_loss: 0.3656 - val_accuracy: 0.9207\n",
      "Epoch 10/30\n",
      "599/599 [==============================] - 4s 6ms/step - loss: 0.0619 - accuracy: 0.9778 - val_loss: 0.3843 - val_accuracy: 0.9207\n",
      "Epoch 11/30\n",
      "599/599 [==============================] - 4s 6ms/step - loss: 0.0606 - accuracy: 0.9792 - val_loss: 0.4611 - val_accuracy: 0.9207\n",
      "Epoch 12/30\n",
      "599/599 [==============================] - 4s 6ms/step - loss: 0.0594 - accuracy: 0.9793 - val_loss: 0.4034 - val_accuracy: 0.9270\n",
      "Epoch 13/30\n",
      "599/599 [==============================] - 4s 6ms/step - loss: 0.0459 - accuracy: 0.9842 - val_loss: 0.4657 - val_accuracy: 0.9176\n",
      "Epoch 14/30\n",
      "599/599 [==============================] - 4s 6ms/step - loss: 0.0456 - accuracy: 0.9836 - val_loss: 0.4917 - val_accuracy: 0.9270\n",
      "Epoch 15/30\n",
      "599/599 [==============================] - 4s 6ms/step - loss: 0.0413 - accuracy: 0.9849 - val_loss: 0.4966 - val_accuracy: 0.9262\n",
      "Epoch 16/30\n",
      "599/599 [==============================] - 4s 6ms/step - loss: 0.0381 - accuracy: 0.9864 - val_loss: 0.4786 - val_accuracy: 0.9184\n",
      "Epoch 17/30\n",
      "599/599 [==============================] - 4s 6ms/step - loss: 0.0351 - accuracy: 0.9876 - val_loss: 0.4438 - val_accuracy: 0.9199\n",
      "Epoch 18/30\n",
      "599/599 [==============================] - 4s 6ms/step - loss: 0.0368 - accuracy: 0.9874 - val_loss: 0.5148 - val_accuracy: 0.9294\n",
      "Epoch 19/30\n",
      "599/599 [==============================] - 4s 6ms/step - loss: 0.0337 - accuracy: 0.9875 - val_loss: 0.5018 - val_accuracy: 0.9231\n",
      "Epoch 20/30\n",
      "599/599 [==============================] - 4s 6ms/step - loss: 0.0306 - accuracy: 0.9889 - val_loss: 0.4909 - val_accuracy: 0.9286\n",
      "Epoch 21/30\n",
      "599/599 [==============================] - 4s 6ms/step - loss: 0.0279 - accuracy: 0.9891 - val_loss: 0.4934 - val_accuracy: 0.9278\n",
      "Epoch 22/30\n",
      "599/599 [==============================] - 4s 6ms/step - loss: 0.0244 - accuracy: 0.9916 - val_loss: 0.5509 - val_accuracy: 0.9176\n",
      "Epoch 23/30\n",
      "599/599 [==============================] - 4s 6ms/step - loss: 0.0281 - accuracy: 0.9900 - val_loss: 0.4460 - val_accuracy: 0.9309\n",
      "Epoch 24/30\n",
      "599/599 [==============================] - 4s 6ms/step - loss: 0.0242 - accuracy: 0.9913 - val_loss: 0.5722 - val_accuracy: 0.9301\n",
      "Epoch 25/30\n",
      "599/599 [==============================] - 4s 6ms/step - loss: 0.0237 - accuracy: 0.9921 - val_loss: 0.6017 - val_accuracy: 0.9309\n",
      "Epoch 26/30\n",
      "599/599 [==============================] - 4s 6ms/step - loss: 0.0279 - accuracy: 0.9901 - val_loss: 0.5121 - val_accuracy: 0.9192\n",
      "Epoch 27/30\n",
      "599/599 [==============================] - 4s 6ms/step - loss: 0.0232 - accuracy: 0.9919 - val_loss: 0.5021 - val_accuracy: 0.9144\n",
      "Epoch 28/30\n",
      "599/599 [==============================] - 4s 6ms/step - loss: 0.0231 - accuracy: 0.9916 - val_loss: 0.4995 - val_accuracy: 0.9262\n",
      "Epoch 29/30\n",
      "599/599 [==============================] - 4s 6ms/step - loss: 0.0234 - accuracy: 0.9917 - val_loss: 0.5059 - val_accuracy: 0.9192\n",
      "Epoch 30/30\n",
      "599/599 [==============================] - 4s 6ms/step - loss: 0.0211 - accuracy: 0.9923 - val_loss: 0.5131 - val_accuracy: 0.9317\n",
      "Epoch 1/30\n",
      "319/319 [==============================] - 6s 10ms/step - loss: 0.0566 - accuracy: 0.9843 - val_loss: 0.5503 - val_accuracy: 0.8972\n",
      "Epoch 2/30\n",
      "319/319 [==============================] - 2s 7ms/step - loss: 0.0084 - accuracy: 0.9982 - val_loss: 0.4268 - val_accuracy: 0.9262\n",
      "Epoch 3/30\n",
      "319/319 [==============================] - 2s 7ms/step - loss: 0.0027 - accuracy: 0.9995 - val_loss: 0.5113 - val_accuracy: 0.9223\n",
      "Epoch 4/30\n",
      "319/319 [==============================] - 2s 7ms/step - loss: 0.0014 - accuracy: 0.9997 - val_loss: 0.5702 - val_accuracy: 0.9223\n",
      "Epoch 5/30\n",
      "319/319 [==============================] - 2s 7ms/step - loss: 0.0016 - accuracy: 0.9996 - val_loss: 0.5810 - val_accuracy: 0.9231\n",
      "Epoch 6/30\n",
      "319/319 [==============================] - 2s 7ms/step - loss: 6.1234e-04 - accuracy: 0.9998 - val_loss: 0.6526 - val_accuracy: 0.9207\n",
      "Epoch 7/30\n",
      "319/319 [==============================] - 2s 7ms/step - loss: 3.5101e-04 - accuracy: 0.9998 - val_loss: 0.6980 - val_accuracy: 0.9192\n",
      "Epoch 8/30\n",
      "319/319 [==============================] - 2s 7ms/step - loss: 0.0014 - accuracy: 0.9996 - val_loss: 0.5438 - val_accuracy: 0.9325\n",
      "Epoch 9/30\n",
      "319/319 [==============================] - 2s 7ms/step - loss: 0.0026 - accuracy: 0.9990 - val_loss: 0.6945 - val_accuracy: 0.9192\n",
      "Epoch 10/30\n",
      "319/319 [==============================] - 2s 7ms/step - loss: 4.5084e-04 - accuracy: 0.9999 - val_loss: 0.7586 - val_accuracy: 0.9215\n",
      "Epoch 11/30\n",
      "319/319 [==============================] - 2s 8ms/step - loss: 3.0723e-04 - accuracy: 0.9999 - val_loss: 0.7782 - val_accuracy: 0.9223\n",
      "Epoch 12/30\n",
      "319/319 [==============================] - 2s 7ms/step - loss: 2.8717e-04 - accuracy: 0.9998 - val_loss: 0.7967 - val_accuracy: 0.9223\n",
      "Epoch 13/30\n",
      "319/319 [==============================] - 2s 7ms/step - loss: 0.0042 - accuracy: 0.9984 - val_loss: 0.4958 - val_accuracy: 0.9333\n",
      "Epoch 14/30\n",
      "319/319 [==============================] - 2s 7ms/step - loss: 0.0019 - accuracy: 0.9994 - val_loss: 0.5816 - val_accuracy: 0.9294\n",
      "Epoch 15/30\n",
      "319/319 [==============================] - 2s 7ms/step - loss: 4.7946e-04 - accuracy: 0.9999 - val_loss: 0.6272 - val_accuracy: 0.9301\n",
      "Epoch 16/30\n",
      "319/319 [==============================] - 2s 7ms/step - loss: 2.6159e-04 - accuracy: 0.9999 - val_loss: 0.6613 - val_accuracy: 0.9286\n",
      "Epoch 17/30\n",
      "319/319 [==============================] - 2s 7ms/step - loss: 2.8955e-04 - accuracy: 0.9998 - val_loss: 0.6741 - val_accuracy: 0.9294\n",
      "Epoch 18/30\n",
      "319/319 [==============================] - 2s 7ms/step - loss: 3.4284e-04 - accuracy: 0.9999 - val_loss: 0.6978 - val_accuracy: 0.9294\n",
      "Epoch 19/30\n",
      "319/319 [==============================] - 2s 7ms/step - loss: 1.7027e-04 - accuracy: 0.9999 - val_loss: 0.7249 - val_accuracy: 0.9301\n",
      "Epoch 20/30\n",
      "319/319 [==============================] - 2s 7ms/step - loss: 2.9746e-04 - accuracy: 0.9999 - val_loss: 0.7441 - val_accuracy: 0.9294\n",
      "Epoch 21/30\n",
      "319/319 [==============================] - 2s 8ms/step - loss: 2.9797e-04 - accuracy: 0.9998 - val_loss: 0.7445 - val_accuracy: 0.9301\n",
      "Epoch 22/30\n",
      "319/319 [==============================] - 2s 8ms/step - loss: 1.4489e-04 - accuracy: 1.0000 - val_loss: 0.7965 - val_accuracy: 0.9301\n",
      "Epoch 23/30\n",
      "319/319 [==============================] - 2s 8ms/step - loss: 2.3621e-04 - accuracy: 0.9999 - val_loss: 0.8108 - val_accuracy: 0.9301\n",
      "Epoch 24/30\n",
      "319/319 [==============================] - 2s 7ms/step - loss: 2.1747e-04 - accuracy: 0.9998 - val_loss: 0.8117 - val_accuracy: 0.9301\n",
      "Epoch 25/30\n",
      "319/319 [==============================] - 2s 7ms/step - loss: 0.0017 - accuracy: 0.9998 - val_loss: 0.7517 - val_accuracy: 0.9309\n",
      "Epoch 26/30\n",
      "319/319 [==============================] - 2s 7ms/step - loss: 9.3603e-04 - accuracy: 0.9999 - val_loss: 0.6952 - val_accuracy: 0.9301\n",
      "Epoch 27/30\n",
      "319/319 [==============================] - 2s 7ms/step - loss: 5.8243e-04 - accuracy: 0.9998 - val_loss: 0.7266 - val_accuracy: 0.9317\n",
      "Epoch 28/30\n",
      "319/319 [==============================] - 2s 7ms/step - loss: 0.0013 - accuracy: 0.9996 - val_loss: 0.6601 - val_accuracy: 0.9294\n",
      "Epoch 29/30\n",
      "319/319 [==============================] - 2s 7ms/step - loss: 5.9934e-04 - accuracy: 0.9998 - val_loss: 0.7433 - val_accuracy: 0.9309\n",
      "Epoch 30/30\n",
      "319/319 [==============================] - 2s 7ms/step - loss: 6.3001e-04 - accuracy: 0.9997 - val_loss: 0.7486 - val_accuracy: 0.9309\n",
      "Epoch 1/30\n",
      "599/599 [==============================] - 8s 8ms/step - loss: 0.0346 - accuracy: 0.9899 - val_loss: 0.5539 - val_accuracy: 0.9176\n",
      "Epoch 2/30\n",
      "599/599 [==============================] - 4s 7ms/step - loss: 0.0080 - accuracy: 0.9978 - val_loss: 0.5482 - val_accuracy: 0.9066\n",
      "Epoch 3/30\n",
      "599/599 [==============================] - 4s 7ms/step - loss: 0.0031 - accuracy: 0.9991 - val_loss: 0.6134 - val_accuracy: 0.9199\n",
      "Epoch 4/30\n",
      "599/599 [==============================] - 4s 7ms/step - loss: 6.4501e-04 - accuracy: 0.9999 - val_loss: 0.6794 - val_accuracy: 0.9168\n",
      "Epoch 5/30\n",
      "599/599 [==============================] - 4s 7ms/step - loss: 4.0318e-04 - accuracy: 0.9999 - val_loss: 0.7245 - val_accuracy: 0.9176\n",
      "Epoch 6/30\n",
      "599/599 [==============================] - 4s 7ms/step - loss: 0.0011 - accuracy: 0.9996 - val_loss: 0.6563 - val_accuracy: 0.9294\n",
      "Epoch 7/30\n",
      "599/599 [==============================] - 4s 7ms/step - loss: 9.1602e-04 - accuracy: 0.9996 - val_loss: 0.6637 - val_accuracy: 0.9184\n",
      "Epoch 8/30\n",
      "599/599 [==============================] - 4s 7ms/step - loss: 0.0013 - accuracy: 0.9996 - val_loss: 0.6804 - val_accuracy: 0.9184\n",
      "Epoch 9/30\n",
      "599/599 [==============================] - 4s 7ms/step - loss: 6.9837e-04 - accuracy: 0.9998 - val_loss: 0.7370 - val_accuracy: 0.9231\n",
      "Epoch 10/30\n",
      "599/599 [==============================] - 4s 7ms/step - loss: 7.8199e-04 - accuracy: 0.9998 - val_loss: 0.7021 - val_accuracy: 0.9215\n",
      "Epoch 11/30\n",
      "599/599 [==============================] - 4s 7ms/step - loss: 7.8897e-04 - accuracy: 0.9998 - val_loss: 0.7290 - val_accuracy: 0.9160\n",
      "Epoch 12/30\n",
      "599/599 [==============================] - 4s 7ms/step - loss: 5.1882e-04 - accuracy: 0.9999 - val_loss: 0.7484 - val_accuracy: 0.9246\n",
      "Epoch 13/30\n",
      "599/599 [==============================] - 4s 7ms/step - loss: 2.8588e-04 - accuracy: 0.9999 - val_loss: 0.8190 - val_accuracy: 0.9176\n",
      "Epoch 14/30\n",
      "599/599 [==============================] - 4s 7ms/step - loss: 3.9651e-04 - accuracy: 0.9999 - val_loss: 0.8141 - val_accuracy: 0.9239\n",
      "Epoch 15/30\n",
      "599/599 [==============================] - 4s 7ms/step - loss: 3.1760e-04 - accuracy: 0.9999 - val_loss: 0.8413 - val_accuracy: 0.9223\n",
      "Epoch 16/30\n",
      "599/599 [==============================] - 4s 7ms/step - loss: 0.0019 - accuracy: 0.9996 - val_loss: 0.7691 - val_accuracy: 0.9270\n",
      "Epoch 17/30\n",
      "599/599 [==============================] - 4s 7ms/step - loss: 5.0780e-04 - accuracy: 0.9999 - val_loss: 0.8339 - val_accuracy: 0.9254\n",
      "Epoch 18/30\n",
      "599/599 [==============================] - 4s 7ms/step - loss: 4.1525e-04 - accuracy: 0.9999 - val_loss: 0.8782 - val_accuracy: 0.9207\n",
      "Epoch 19/30\n",
      "599/599 [==============================] - 4s 7ms/step - loss: 3.5287e-04 - accuracy: 0.9999 - val_loss: 0.8816 - val_accuracy: 0.9215\n",
      "Epoch 20/30\n",
      "599/599 [==============================] - 4s 7ms/step - loss: 3.3985e-04 - accuracy: 0.9999 - val_loss: 0.8844 - val_accuracy: 0.9199\n",
      "Epoch 21/30\n",
      "599/599 [==============================] - 4s 7ms/step - loss: 3.5270e-04 - accuracy: 0.9999 - val_loss: 0.8979 - val_accuracy: 0.9215\n",
      "Epoch 22/30\n",
      "599/599 [==============================] - 4s 7ms/step - loss: 4.6100e-04 - accuracy: 0.9999 - val_loss: 0.9052 - val_accuracy: 0.9168\n",
      "Epoch 23/30\n",
      "599/599 [==============================] - 4s 7ms/step - loss: 3.6925e-04 - accuracy: 0.9999 - val_loss: 0.9303 - val_accuracy: 0.9223\n",
      "Epoch 24/30\n",
      "599/599 [==============================] - 4s 7ms/step - loss: 3.5678e-04 - accuracy: 0.9999 - val_loss: 0.9065 - val_accuracy: 0.9239\n",
      "Epoch 25/30\n",
      "599/599 [==============================] - 4s 7ms/step - loss: 3.9016e-04 - accuracy: 0.9999 - val_loss: 0.9174 - val_accuracy: 0.9215\n",
      "Epoch 26/30\n",
      "599/599 [==============================] - 4s 7ms/step - loss: 6.3904e-04 - accuracy: 0.9998 - val_loss: 0.9543 - val_accuracy: 0.9184\n",
      "Epoch 27/30\n",
      "599/599 [==============================] - 4s 7ms/step - loss: 0.0013 - accuracy: 0.9997 - val_loss: 0.8727 - val_accuracy: 0.9199\n",
      "Epoch 28/30\n",
      "599/599 [==============================] - 4s 7ms/step - loss: 2.5640e-04 - accuracy: 0.9999 - val_loss: 0.8871 - val_accuracy: 0.9199\n",
      "Epoch 29/30\n",
      "599/599 [==============================] - 4s 7ms/step - loss: 3.2889e-04 - accuracy: 0.9999 - val_loss: 0.9101 - val_accuracy: 0.9192\n",
      "Epoch 30/30\n",
      "599/599 [==============================] - 4s 7ms/step - loss: 4.6412e-04 - accuracy: 0.9998 - val_loss: 0.8674 - val_accuracy: 0.9176\n",
      "Epoch 1/30\n",
      "319/319 [==============================] - 6s 9ms/step - loss: 0.2262 - accuracy: 0.9386 - val_loss: 0.2086 - val_accuracy: 0.9286\n",
      "Epoch 2/30\n",
      "319/319 [==============================] - 2s 7ms/step - loss: 0.1710 - accuracy: 0.9440 - val_loss: 0.1992 - val_accuracy: 0.9325\n",
      "Epoch 3/30\n",
      "319/319 [==============================] - 2s 7ms/step - loss: 0.1575 - accuracy: 0.9473 - val_loss: 0.2006 - val_accuracy: 0.9317\n",
      "Epoch 4/30\n",
      "319/319 [==============================] - 2s 6ms/step - loss: 0.1514 - accuracy: 0.9491 - val_loss: 0.1836 - val_accuracy: 0.9356\n",
      "Epoch 5/30\n",
      "319/319 [==============================] - 2s 6ms/step - loss: 0.1440 - accuracy: 0.9527 - val_loss: 0.1926 - val_accuracy: 0.9396\n",
      "Epoch 6/30\n",
      "319/319 [==============================] - 2s 7ms/step - loss: 0.1369 - accuracy: 0.9551 - val_loss: 0.1925 - val_accuracy: 0.9380\n",
      "Epoch 7/30\n",
      "319/319 [==============================] - 2s 6ms/step - loss: 0.1282 - accuracy: 0.9569 - val_loss: 0.2061 - val_accuracy: 0.9349\n",
      "Epoch 8/30\n",
      "319/319 [==============================] - 2s 6ms/step - loss: 0.1208 - accuracy: 0.9588 - val_loss: 0.2283 - val_accuracy: 0.9356\n",
      "Epoch 9/30\n",
      "319/319 [==============================] - 2s 7ms/step - loss: 0.1124 - accuracy: 0.9634 - val_loss: 0.2110 - val_accuracy: 0.9364\n",
      "Epoch 10/30\n",
      "319/319 [==============================] - 2s 6ms/step - loss: 0.1045 - accuracy: 0.9649 - val_loss: 0.2027 - val_accuracy: 0.9388\n",
      "Epoch 11/30\n",
      "319/319 [==============================] - 2s 7ms/step - loss: 0.0990 - accuracy: 0.9664 - val_loss: 0.2120 - val_accuracy: 0.9411\n",
      "Epoch 12/30\n",
      "319/319 [==============================] - 2s 7ms/step - loss: 0.0928 - accuracy: 0.9674 - val_loss: 0.2072 - val_accuracy: 0.9372\n",
      "Epoch 13/30\n",
      "319/319 [==============================] - 2s 7ms/step - loss: 0.0807 - accuracy: 0.9731 - val_loss: 0.2329 - val_accuracy: 0.9364\n",
      "Epoch 14/30\n",
      "319/319 [==============================] - 2s 7ms/step - loss: 0.0785 - accuracy: 0.9729 - val_loss: 0.2589 - val_accuracy: 0.9380\n",
      "Epoch 15/30\n",
      "319/319 [==============================] - 2s 7ms/step - loss: 0.0729 - accuracy: 0.9739 - val_loss: 0.2330 - val_accuracy: 0.9341\n",
      "Epoch 16/30\n",
      "319/319 [==============================] - 2s 7ms/step - loss: 0.0633 - accuracy: 0.9789 - val_loss: 0.2674 - val_accuracy: 0.9356\n",
      "Epoch 17/30\n",
      "319/319 [==============================] - 2s 7ms/step - loss: 0.0631 - accuracy: 0.9794 - val_loss: 0.2722 - val_accuracy: 0.9333\n",
      "Epoch 18/30\n",
      "319/319 [==============================] - 2s 6ms/step - loss: 0.0575 - accuracy: 0.9807 - val_loss: 0.2387 - val_accuracy: 0.9411\n",
      "Epoch 19/30\n",
      "319/319 [==============================] - 2s 7ms/step - loss: 0.0523 - accuracy: 0.9825 - val_loss: 0.2780 - val_accuracy: 0.9396\n",
      "Epoch 20/30\n",
      "319/319 [==============================] - 2s 7ms/step - loss: 0.0518 - accuracy: 0.9818 - val_loss: 0.2609 - val_accuracy: 0.9364\n",
      "Epoch 21/30\n",
      "319/319 [==============================] - 2s 7ms/step - loss: 0.0481 - accuracy: 0.9836 - val_loss: 0.2806 - val_accuracy: 0.9309\n",
      "Epoch 22/30\n",
      "319/319 [==============================] - 2s 7ms/step - loss: 0.0444 - accuracy: 0.9845 - val_loss: 0.2844 - val_accuracy: 0.9301\n",
      "Epoch 23/30\n",
      "319/319 [==============================] - 2s 6ms/step - loss: 0.0424 - accuracy: 0.9856 - val_loss: 0.2881 - val_accuracy: 0.9388\n",
      "Epoch 24/30\n",
      "319/319 [==============================] - 2s 6ms/step - loss: 0.0380 - accuracy: 0.9859 - val_loss: 0.2937 - val_accuracy: 0.9294\n",
      "Epoch 25/30\n",
      "319/319 [==============================] - 2s 7ms/step - loss: 0.0428 - accuracy: 0.9840 - val_loss: 0.3170 - val_accuracy: 0.9364\n",
      "Epoch 26/30\n",
      "319/319 [==============================] - 2s 7ms/step - loss: 0.0345 - accuracy: 0.9887 - val_loss: 0.2965 - val_accuracy: 0.9372\n",
      "Epoch 27/30\n",
      "319/319 [==============================] - 2s 7ms/step - loss: 0.0342 - accuracy: 0.9882 - val_loss: 0.3246 - val_accuracy: 0.9333\n",
      "Epoch 28/30\n",
      "319/319 [==============================] - 2s 7ms/step - loss: 0.0304 - accuracy: 0.9898 - val_loss: 0.3352 - val_accuracy: 0.9341\n",
      "Epoch 29/30\n",
      "319/319 [==============================] - 2s 7ms/step - loss: 0.0293 - accuracy: 0.9903 - val_loss: 0.3451 - val_accuracy: 0.9341\n",
      "Epoch 30/30\n",
      "319/319 [==============================] - 2s 7ms/step - loss: 0.0339 - accuracy: 0.9881 - val_loss: 0.3389 - val_accuracy: 0.9333\n",
      "Epoch 1/30\n",
      "599/599 [==============================] - 7s 8ms/step - loss: 0.4395 - accuracy: 0.7914 - val_loss: 0.3079 - val_accuracy: 0.8438\n",
      "Epoch 2/30\n",
      "599/599 [==============================] - 4s 7ms/step - loss: 0.2802 - accuracy: 0.8870 - val_loss: 0.2837 - val_accuracy: 0.8799\n",
      "Epoch 3/30\n",
      "599/599 [==============================] - 4s 6ms/step - loss: 0.1939 - accuracy: 0.9284 - val_loss: 0.3223 - val_accuracy: 0.8697\n",
      "Epoch 4/30\n",
      "599/599 [==============================] - 4s 6ms/step - loss: 0.1453 - accuracy: 0.9502 - val_loss: 0.2721 - val_accuracy: 0.9152\n",
      "Epoch 5/30\n",
      "599/599 [==============================] - 4s 6ms/step - loss: 0.1146 - accuracy: 0.9609 - val_loss: 0.2945 - val_accuracy: 0.9097\n",
      "Epoch 6/30\n",
      "599/599 [==============================] - 4s 6ms/step - loss: 0.0969 - accuracy: 0.9688 - val_loss: 0.3139 - val_accuracy: 0.9215\n",
      "Epoch 7/30\n",
      "599/599 [==============================] - 4s 6ms/step - loss: 0.0824 - accuracy: 0.9723 - val_loss: 0.3408 - val_accuracy: 0.9082\n",
      "Epoch 8/30\n",
      "599/599 [==============================] - 4s 7ms/step - loss: 0.0671 - accuracy: 0.9781 - val_loss: 0.3533 - val_accuracy: 0.9207\n",
      "Epoch 9/30\n",
      "599/599 [==============================] - 4s 6ms/step - loss: 0.0611 - accuracy: 0.9801 - val_loss: 0.3545 - val_accuracy: 0.9294\n",
      "Epoch 10/30\n",
      "599/599 [==============================] - 4s 6ms/step - loss: 0.0577 - accuracy: 0.9804 - val_loss: 0.3406 - val_accuracy: 0.9137\n",
      "Epoch 11/30\n",
      "599/599 [==============================] - 4s 6ms/step - loss: 0.0550 - accuracy: 0.9815 - val_loss: 0.3728 - val_accuracy: 0.8987\n",
      "Epoch 12/30\n",
      "599/599 [==============================] - 4s 6ms/step - loss: 0.0474 - accuracy: 0.9844 - val_loss: 0.3850 - val_accuracy: 0.9215\n",
      "Epoch 13/30\n",
      "599/599 [==============================] - 4s 6ms/step - loss: 0.0440 - accuracy: 0.9855 - val_loss: 0.4283 - val_accuracy: 0.9184\n",
      "Epoch 14/30\n",
      "599/599 [==============================] - 4s 6ms/step - loss: 0.0414 - accuracy: 0.9860 - val_loss: 0.4009 - val_accuracy: 0.9168\n",
      "Epoch 15/30\n",
      "599/599 [==============================] - 4s 6ms/step - loss: 0.0381 - accuracy: 0.9864 - val_loss: 0.4201 - val_accuracy: 0.9223\n",
      "Epoch 16/30\n",
      "599/599 [==============================] - 4s 6ms/step - loss: 0.0329 - accuracy: 0.9894 - val_loss: 0.4212 - val_accuracy: 0.9246\n",
      "Epoch 17/30\n",
      "599/599 [==============================] - 4s 6ms/step - loss: 0.0336 - accuracy: 0.9886 - val_loss: 0.4115 - val_accuracy: 0.9294\n",
      "Epoch 18/30\n",
      "599/599 [==============================] - 4s 6ms/step - loss: 0.0297 - accuracy: 0.9895 - val_loss: 0.3927 - val_accuracy: 0.9325\n",
      "Epoch 19/30\n",
      "599/599 [==============================] - 4s 6ms/step - loss: 0.0297 - accuracy: 0.9896 - val_loss: 0.4654 - val_accuracy: 0.9207\n",
      "Epoch 20/30\n",
      "599/599 [==============================] - 4s 6ms/step - loss: 0.0318 - accuracy: 0.9885 - val_loss: 0.4276 - val_accuracy: 0.9207\n",
      "Epoch 21/30\n",
      "599/599 [==============================] - 4s 6ms/step - loss: 0.0259 - accuracy: 0.9915 - val_loss: 0.4752 - val_accuracy: 0.9254\n",
      "Epoch 22/30\n",
      "599/599 [==============================] - 4s 6ms/step - loss: 0.0263 - accuracy: 0.9910 - val_loss: 0.4299 - val_accuracy: 0.9301\n",
      "Epoch 23/30\n",
      "599/599 [==============================] - 4s 6ms/step - loss: 0.0254 - accuracy: 0.9911 - val_loss: 0.4883 - val_accuracy: 0.9301\n",
      "Epoch 24/30\n",
      "599/599 [==============================] - 4s 6ms/step - loss: 0.0267 - accuracy: 0.9913 - val_loss: 0.4554 - val_accuracy: 0.9184\n",
      "Epoch 25/30\n",
      "599/599 [==============================] - 4s 6ms/step - loss: 0.0243 - accuracy: 0.9910 - val_loss: 0.4090 - val_accuracy: 0.9286\n",
      "Epoch 26/30\n",
      "599/599 [==============================] - 4s 6ms/step - loss: 0.0247 - accuracy: 0.9921 - val_loss: 0.4244 - val_accuracy: 0.9356\n",
      "Epoch 27/30\n",
      "599/599 [==============================] - 4s 7ms/step - loss: 0.0232 - accuracy: 0.9920 - val_loss: 0.4429 - val_accuracy: 0.9301\n",
      "Epoch 28/30\n",
      "599/599 [==============================] - 4s 6ms/step - loss: 0.0206 - accuracy: 0.9934 - val_loss: 0.4324 - val_accuracy: 0.9309\n",
      "Epoch 29/30\n",
      "599/599 [==============================] - 4s 6ms/step - loss: 0.0213 - accuracy: 0.9927 - val_loss: 0.4409 - val_accuracy: 0.9270\n",
      "Epoch 30/30\n",
      "599/599 [==============================] - 4s 6ms/step - loss: 0.0229 - accuracy: 0.9926 - val_loss: 0.4459 - val_accuracy: 0.9223\n",
      "Epoch 1/30\n",
      "319/319 [==============================] - 6s 9ms/step - loss: 0.2306 - accuracy: 0.9390 - val_loss: 0.1967 - val_accuracy: 0.9301\n",
      "Epoch 2/30\n",
      "319/319 [==============================] - 2s 7ms/step - loss: 0.1655 - accuracy: 0.9443 - val_loss: 0.2010 - val_accuracy: 0.9356\n",
      "Epoch 3/30\n",
      "319/319 [==============================] - 2s 7ms/step - loss: 0.1559 - accuracy: 0.9480 - val_loss: 0.1859 - val_accuracy: 0.9380\n",
      "Epoch 4/30\n",
      "319/319 [==============================] - 2s 7ms/step - loss: 0.1470 - accuracy: 0.9502 - val_loss: 0.1832 - val_accuracy: 0.9380\n",
      "Epoch 5/30\n",
      "319/319 [==============================] - 2s 7ms/step - loss: 0.1429 - accuracy: 0.9497 - val_loss: 0.1940 - val_accuracy: 0.9403\n",
      "Epoch 6/30\n",
      "319/319 [==============================] - 2s 7ms/step - loss: 0.1405 - accuracy: 0.9495 - val_loss: 0.1905 - val_accuracy: 0.9372\n",
      "Epoch 7/30\n",
      "319/319 [==============================] - 2s 7ms/step - loss: 0.1364 - accuracy: 0.9518 - val_loss: 0.1859 - val_accuracy: 0.9372\n",
      "Epoch 8/30\n",
      "319/319 [==============================] - 2s 7ms/step - loss: 0.1318 - accuracy: 0.9539 - val_loss: 0.1952 - val_accuracy: 0.9364\n",
      "Epoch 9/30\n",
      "319/319 [==============================] - 2s 7ms/step - loss: 0.1268 - accuracy: 0.9571 - val_loss: 0.1950 - val_accuracy: 0.9317\n",
      "Epoch 10/30\n",
      "319/319 [==============================] - 2s 7ms/step - loss: 0.1265 - accuracy: 0.9572 - val_loss: 0.2024 - val_accuracy: 0.9372\n",
      "Epoch 11/30\n",
      "319/319 [==============================] - 2s 7ms/step - loss: 0.1196 - accuracy: 0.9576 - val_loss: 0.1973 - val_accuracy: 0.9364\n",
      "Epoch 12/30\n",
      "319/319 [==============================] - 2s 7ms/step - loss: 0.1111 - accuracy: 0.9596 - val_loss: 0.2043 - val_accuracy: 0.9341\n",
      "Epoch 13/30\n",
      "319/319 [==============================] - 2s 7ms/step - loss: 0.1082 - accuracy: 0.9618 - val_loss: 0.1996 - val_accuracy: 0.9349\n",
      "Epoch 14/30\n",
      "319/319 [==============================] - 2s 7ms/step - loss: 0.1000 - accuracy: 0.9646 - val_loss: 0.2083 - val_accuracy: 0.9364\n",
      "Epoch 15/30\n",
      "319/319 [==============================] - 2s 7ms/step - loss: 0.0976 - accuracy: 0.9650 - val_loss: 0.2004 - val_accuracy: 0.9341\n",
      "Epoch 16/30\n",
      "319/319 [==============================] - 2s 7ms/step - loss: 0.0956 - accuracy: 0.9668 - val_loss: 0.2023 - val_accuracy: 0.9356\n",
      "Epoch 17/30\n",
      "319/319 [==============================] - 2s 7ms/step - loss: 0.0880 - accuracy: 0.9681 - val_loss: 0.2247 - val_accuracy: 0.9301\n",
      "Epoch 18/30\n",
      "319/319 [==============================] - 2s 7ms/step - loss: 0.0846 - accuracy: 0.9687 - val_loss: 0.2403 - val_accuracy: 0.9341\n",
      "Epoch 19/30\n",
      "319/319 [==============================] - 2s 7ms/step - loss: 0.0766 - accuracy: 0.9703 - val_loss: 0.2579 - val_accuracy: 0.9341\n",
      "Epoch 20/30\n",
      "319/319 [==============================] - 2s 7ms/step - loss: 0.0753 - accuracy: 0.9740 - val_loss: 0.2392 - val_accuracy: 0.9294\n",
      "Epoch 21/30\n",
      "319/319 [==============================] - 2s 7ms/step - loss: 0.0689 - accuracy: 0.9757 - val_loss: 0.2600 - val_accuracy: 0.9309\n",
      "Epoch 22/30\n",
      "319/319 [==============================] - 2s 7ms/step - loss: 0.0650 - accuracy: 0.9759 - val_loss: 0.2454 - val_accuracy: 0.9270\n",
      "Epoch 23/30\n",
      "319/319 [==============================] - 2s 7ms/step - loss: 0.0607 - accuracy: 0.9770 - val_loss: 0.2589 - val_accuracy: 0.9301\n",
      "Epoch 24/30\n",
      "319/319 [==============================] - 2s 7ms/step - loss: 0.0636 - accuracy: 0.9764 - val_loss: 0.2883 - val_accuracy: 0.9301\n",
      "Epoch 25/30\n",
      "319/319 [==============================] - 2s 7ms/step - loss: 0.0554 - accuracy: 0.9784 - val_loss: 0.3043 - val_accuracy: 0.9294\n",
      "Epoch 26/30\n",
      "319/319 [==============================] - 2s 7ms/step - loss: 0.0538 - accuracy: 0.9810 - val_loss: 0.2991 - val_accuracy: 0.9317\n",
      "Epoch 27/30\n",
      "319/319 [==============================] - 2s 7ms/step - loss: 0.0506 - accuracy: 0.9831 - val_loss: 0.2977 - val_accuracy: 0.9301\n",
      "Epoch 28/30\n",
      "319/319 [==============================] - 2s 7ms/step - loss: 0.0469 - accuracy: 0.9829 - val_loss: 0.3194 - val_accuracy: 0.9270\n",
      "Epoch 29/30\n",
      "319/319 [==============================] - 2s 7ms/step - loss: 0.0481 - accuracy: 0.9825 - val_loss: 0.2811 - val_accuracy: 0.9262\n",
      "Epoch 30/30\n",
      "319/319 [==============================] - 2s 7ms/step - loss: 0.0453 - accuracy: 0.9837 - val_loss: 0.2983 - val_accuracy: 0.9254\n",
      "Epoch 1/30\n",
      "599/599 [==============================] - 7s 8ms/step - loss: 0.4386 - accuracy: 0.7954 - val_loss: 0.4497 - val_accuracy: 0.7818\n",
      "Epoch 2/30\n",
      "599/599 [==============================] - 4s 7ms/step - loss: 0.3161 - accuracy: 0.8648 - val_loss: 0.2868 - val_accuracy: 0.8807\n",
      "Epoch 3/30\n",
      "599/599 [==============================] - 4s 7ms/step - loss: 0.2412 - accuracy: 0.9026 - val_loss: 0.2698 - val_accuracy: 0.8917\n",
      "Epoch 4/30\n",
      "599/599 [==============================] - 4s 7ms/step - loss: 0.1832 - accuracy: 0.9310 - val_loss: 0.2889 - val_accuracy: 0.9105\n",
      "Epoch 5/30\n",
      "599/599 [==============================] - 4s 7ms/step - loss: 0.1520 - accuracy: 0.9446 - val_loss: 0.2913 - val_accuracy: 0.9089\n",
      "Epoch 6/30\n",
      "599/599 [==============================] - 4s 7ms/step - loss: 0.1237 - accuracy: 0.9581 - val_loss: 0.3272 - val_accuracy: 0.9176\n",
      "Epoch 7/30\n",
      "599/599 [==============================] - 4s 7ms/step - loss: 0.1059 - accuracy: 0.9635 - val_loss: 0.3751 - val_accuracy: 0.9027\n",
      "Epoch 8/30\n",
      "599/599 [==============================] - 4s 7ms/step - loss: 0.0906 - accuracy: 0.9689 - val_loss: 0.3480 - val_accuracy: 0.9066\n",
      "Epoch 9/30\n",
      "599/599 [==============================] - 4s 7ms/step - loss: 0.0799 - accuracy: 0.9740 - val_loss: 0.3826 - val_accuracy: 0.8901\n",
      "Epoch 10/30\n",
      "599/599 [==============================] - 4s 7ms/step - loss: 0.0703 - accuracy: 0.9771 - val_loss: 0.3811 - val_accuracy: 0.9207\n",
      "Epoch 11/30\n",
      "599/599 [==============================] - 4s 6ms/step - loss: 0.0617 - accuracy: 0.9796 - val_loss: 0.3797 - val_accuracy: 0.9309\n",
      "Epoch 12/30\n",
      "599/599 [==============================] - 4s 7ms/step - loss: 0.0624 - accuracy: 0.9791 - val_loss: 0.4203 - val_accuracy: 0.9207\n",
      "Epoch 13/30\n",
      "599/599 [==============================] - 4s 6ms/step - loss: 0.0513 - accuracy: 0.9829 - val_loss: 0.4352 - val_accuracy: 0.9160\n",
      "Epoch 14/30\n",
      "599/599 [==============================] - 4s 7ms/step - loss: 0.0475 - accuracy: 0.9842 - val_loss: 0.4193 - val_accuracy: 0.9050\n",
      "Epoch 15/30\n",
      "599/599 [==============================] - 4s 7ms/step - loss: 0.0475 - accuracy: 0.9839 - val_loss: 0.3999 - val_accuracy: 0.9231\n",
      "Epoch 16/30\n",
      "599/599 [==============================] - 4s 6ms/step - loss: 0.0421 - accuracy: 0.9856 - val_loss: 0.4418 - val_accuracy: 0.9223\n",
      "Epoch 17/30\n",
      "599/599 [==============================] - 4s 7ms/step - loss: 0.0371 - accuracy: 0.9876 - val_loss: 0.4363 - val_accuracy: 0.9278\n",
      "Epoch 18/30\n",
      "599/599 [==============================] - 4s 7ms/step - loss: 0.0400 - accuracy: 0.9867 - val_loss: 0.4198 - val_accuracy: 0.9184\n",
      "Epoch 19/30\n",
      "599/599 [==============================] - 4s 7ms/step - loss: 0.0353 - accuracy: 0.9888 - val_loss: 0.4423 - val_accuracy: 0.9082\n",
      "Epoch 20/30\n",
      "599/599 [==============================] - 4s 7ms/step - loss: 0.0332 - accuracy: 0.9889 - val_loss: 0.5058 - val_accuracy: 0.9074\n",
      "Epoch 21/30\n",
      "599/599 [==============================] - 4s 7ms/step - loss: 0.0351 - accuracy: 0.9878 - val_loss: 0.4775 - val_accuracy: 0.9089\n",
      "Epoch 22/30\n",
      "599/599 [==============================] - 4s 7ms/step - loss: 0.0328 - accuracy: 0.9895 - val_loss: 0.4535 - val_accuracy: 0.9239\n",
      "Epoch 23/30\n",
      "599/599 [==============================] - 4s 7ms/step - loss: 0.0292 - accuracy: 0.9903 - val_loss: 0.4443 - val_accuracy: 0.9192\n",
      "Epoch 24/30\n",
      "599/599 [==============================] - 4s 6ms/step - loss: 0.0251 - accuracy: 0.9919 - val_loss: 0.4488 - val_accuracy: 0.9254\n",
      "Epoch 25/30\n",
      "599/599 [==============================] - 4s 7ms/step - loss: 0.0297 - accuracy: 0.9896 - val_loss: 0.4933 - val_accuracy: 0.9286\n",
      "Epoch 26/30\n",
      "599/599 [==============================] - 4s 7ms/step - loss: 0.0244 - accuracy: 0.9914 - val_loss: 0.4684 - val_accuracy: 0.9184\n",
      "Epoch 27/30\n",
      "599/599 [==============================] - 4s 7ms/step - loss: 0.0249 - accuracy: 0.9922 - val_loss: 0.4800 - val_accuracy: 0.9184\n",
      "Epoch 28/30\n",
      "599/599 [==============================] - 4s 6ms/step - loss: 0.0216 - accuracy: 0.9930 - val_loss: 0.4920 - val_accuracy: 0.9231\n",
      "Epoch 29/30\n",
      "599/599 [==============================] - 4s 7ms/step - loss: 0.0230 - accuracy: 0.9921 - val_loss: 0.5044 - val_accuracy: 0.9215\n",
      "Epoch 30/30\n",
      "599/599 [==============================] - 5s 8ms/step - loss: 0.0228 - accuracy: 0.9920 - val_loss: 0.4946 - val_accuracy: 0.9215\n",
      "Epoch 1/30\n",
      "319/319 [==============================] - 7s 5ms/step - loss: 0.0370 - accuracy: 0.9867 - val_loss: 0.4884 - val_accuracy: 0.9239\n",
      "Epoch 2/30\n",
      "319/319 [==============================] - 1s 4ms/step - loss: 0.0086 - accuracy: 0.9973 - val_loss: 0.5852 - val_accuracy: 0.9246\n",
      "Epoch 3/30\n",
      "319/319 [==============================] - 1s 4ms/step - loss: 0.0085 - accuracy: 0.9972 - val_loss: 0.7483 - val_accuracy: 0.9301\n",
      "Epoch 4/30\n",
      "319/319 [==============================] - 1s 4ms/step - loss: 0.0064 - accuracy: 0.9978 - val_loss: 0.6957 - val_accuracy: 0.9113\n",
      "Epoch 5/30\n",
      "319/319 [==============================] - 1s 4ms/step - loss: 0.0049 - accuracy: 0.9985 - val_loss: 0.8230 - val_accuracy: 0.9223\n",
      "Epoch 6/30\n",
      "319/319 [==============================] - 1s 4ms/step - loss: 0.0027 - accuracy: 0.9994 - val_loss: 0.8486 - val_accuracy: 0.9129\n",
      "Epoch 7/30\n",
      "319/319 [==============================] - 1s 4ms/step - loss: 0.0046 - accuracy: 0.9987 - val_loss: 0.9225 - val_accuracy: 0.9160\n",
      "Epoch 8/30\n",
      "319/319 [==============================] - 1s 4ms/step - loss: 0.0044 - accuracy: 0.9988 - val_loss: 0.9434 - val_accuracy: 0.9137\n",
      "Epoch 9/30\n",
      "319/319 [==============================] - 1s 4ms/step - loss: 0.0034 - accuracy: 0.9991 - val_loss: 1.1206 - val_accuracy: 0.9105\n",
      "Epoch 10/30\n",
      "319/319 [==============================] - 1s 4ms/step - loss: 0.0046 - accuracy: 0.9990 - val_loss: 1.1173 - val_accuracy: 0.9207\n",
      "Epoch 11/30\n",
      "319/319 [==============================] - 1s 4ms/step - loss: 0.0048 - accuracy: 0.9995 - val_loss: 1.0854 - val_accuracy: 0.9207\n",
      "Epoch 12/30\n",
      "319/319 [==============================] - 1s 4ms/step - loss: 0.0049 - accuracy: 0.9990 - val_loss: 1.1995 - val_accuracy: 0.9223\n",
      "Epoch 13/30\n",
      "319/319 [==============================] - 1s 4ms/step - loss: 0.0050 - accuracy: 0.9994 - val_loss: 1.2001 - val_accuracy: 0.9184\n",
      "Epoch 14/30\n",
      "319/319 [==============================] - 1s 4ms/step - loss: 0.0036 - accuracy: 0.9993 - val_loss: 1.2164 - val_accuracy: 0.9231\n",
      "Epoch 15/30\n",
      "319/319 [==============================] - 1s 4ms/step - loss: 0.0049 - accuracy: 0.9994 - val_loss: 1.2516 - val_accuracy: 0.9192\n",
      "Epoch 16/30\n",
      "319/319 [==============================] - 1s 4ms/step - loss: 0.0025 - accuracy: 0.9992 - val_loss: 1.3432 - val_accuracy: 0.9215\n",
      "Epoch 17/30\n",
      "319/319 [==============================] - 1s 4ms/step - loss: 0.0014 - accuracy: 0.9996 - val_loss: 1.2781 - val_accuracy: 0.9105\n",
      "Epoch 18/30\n",
      "319/319 [==============================] - 1s 4ms/step - loss: 0.0023 - accuracy: 0.9994 - val_loss: 1.4026 - val_accuracy: 0.9058\n",
      "Epoch 19/30\n",
      "319/319 [==============================] - 1s 4ms/step - loss: 0.0050 - accuracy: 0.9992 - val_loss: 1.3609 - val_accuracy: 0.9152\n",
      "Epoch 20/30\n",
      "319/319 [==============================] - 1s 4ms/step - loss: 0.0046 - accuracy: 0.9994 - val_loss: 1.4864 - val_accuracy: 0.9231\n",
      "Epoch 21/30\n",
      "319/319 [==============================] - 1s 4ms/step - loss: 0.0054 - accuracy: 0.9995 - val_loss: 1.4303 - val_accuracy: 0.9184\n",
      "Epoch 22/30\n",
      "319/319 [==============================] - 1s 4ms/step - loss: 6.0755e-04 - accuracy: 0.9997 - val_loss: 1.5093 - val_accuracy: 0.9137\n",
      "Epoch 23/30\n",
      "319/319 [==============================] - 1s 4ms/step - loss: 0.0030 - accuracy: 0.9993 - val_loss: 1.5116 - val_accuracy: 0.9144\n",
      "Epoch 24/30\n",
      "319/319 [==============================] - 1s 4ms/step - loss: 0.0027 - accuracy: 0.9995 - val_loss: 1.5974 - val_accuracy: 0.9074\n",
      "Epoch 25/30\n",
      "319/319 [==============================] - 1s 4ms/step - loss: 0.0025 - accuracy: 0.9996 - val_loss: 1.5733 - val_accuracy: 0.9168\n",
      "Epoch 26/30\n",
      "319/319 [==============================] - 1s 4ms/step - loss: 0.0048 - accuracy: 0.9994 - val_loss: 1.6250 - val_accuracy: 0.9129\n",
      "Epoch 27/30\n",
      "319/319 [==============================] - 1s 4ms/step - loss: 0.0045 - accuracy: 0.9995 - val_loss: 1.7119 - val_accuracy: 0.9105\n",
      "Epoch 28/30\n",
      "319/319 [==============================] - 1s 4ms/step - loss: 0.0030 - accuracy: 0.9997 - val_loss: 1.6780 - val_accuracy: 0.9129\n",
      "Epoch 29/30\n",
      "319/319 [==============================] - 1s 4ms/step - loss: 0.0014 - accuracy: 0.9994 - val_loss: 1.7331 - val_accuracy: 0.9160\n",
      "Epoch 30/30\n",
      "319/319 [==============================] - 1s 4ms/step - loss: 0.0059 - accuracy: 0.9995 - val_loss: 1.7349 - val_accuracy: 0.9152\n",
      "Epoch 1/30\n",
      "599/599 [==============================] - 3s 4ms/step - loss: 0.0140 - accuracy: 0.9962 - val_loss: 0.7581 - val_accuracy: 0.9097\n",
      "Epoch 2/30\n",
      "599/599 [==============================] - 2s 4ms/step - loss: 0.0039 - accuracy: 0.9993 - val_loss: 0.9381 - val_accuracy: 0.9066\n",
      "Epoch 3/30\n",
      "599/599 [==============================] - 2s 4ms/step - loss: 0.0017 - accuracy: 0.9996 - val_loss: 1.0892 - val_accuracy: 0.9160\n",
      "Epoch 4/30\n",
      "599/599 [==============================] - 2s 4ms/step - loss: 0.0020 - accuracy: 0.9996 - val_loss: 1.2607 - val_accuracy: 0.9129\n",
      "Epoch 5/30\n",
      "599/599 [==============================] - 2s 4ms/step - loss: 0.0039 - accuracy: 0.9993 - val_loss: 1.5088 - val_accuracy: 0.9176\n",
      "Epoch 6/30\n",
      "599/599 [==============================] - 2s 4ms/step - loss: 0.0038 - accuracy: 0.9992 - val_loss: 1.6380 - val_accuracy: 0.9074\n",
      "Epoch 7/30\n",
      "599/599 [==============================] - 2s 4ms/step - loss: 0.0033 - accuracy: 0.9996 - val_loss: 1.5490 - val_accuracy: 0.9105\n",
      "Epoch 8/30\n",
      "599/599 [==============================] - 2s 4ms/step - loss: 0.0027 - accuracy: 0.9995 - val_loss: 1.7265 - val_accuracy: 0.9066\n",
      "Epoch 9/30\n",
      "599/599 [==============================] - 2s 4ms/step - loss: 0.0021 - accuracy: 0.9997 - val_loss: 1.6774 - val_accuracy: 0.9121\n",
      "Epoch 10/30\n",
      "599/599 [==============================] - 2s 4ms/step - loss: 0.0035 - accuracy: 0.9998 - val_loss: 1.7869 - val_accuracy: 0.9160\n",
      "Epoch 11/30\n",
      "599/599 [==============================] - 2s 4ms/step - loss: 0.0054 - accuracy: 0.9994 - val_loss: 1.7427 - val_accuracy: 0.9097\n",
      "Epoch 12/30\n",
      "599/599 [==============================] - 2s 4ms/step - loss: 0.0023 - accuracy: 0.9996 - val_loss: 1.8597 - val_accuracy: 0.9192\n",
      "Epoch 13/30\n",
      "599/599 [==============================] - 2s 4ms/step - loss: 0.0045 - accuracy: 0.9995 - val_loss: 1.8591 - val_accuracy: 0.9129\n",
      "Epoch 14/30\n",
      "599/599 [==============================] - 2s 4ms/step - loss: 0.0024 - accuracy: 0.9999 - val_loss: 1.8683 - val_accuracy: 0.9121\n",
      "Epoch 15/30\n",
      "599/599 [==============================] - 2s 4ms/step - loss: 0.0022 - accuracy: 0.9996 - val_loss: 1.8258 - val_accuracy: 0.9152\n",
      "Epoch 16/30\n",
      "599/599 [==============================] - 2s 4ms/step - loss: 0.0026 - accuracy: 0.9998 - val_loss: 1.8870 - val_accuracy: 0.9152\n",
      "Epoch 17/30\n",
      "599/599 [==============================] - 2s 4ms/step - loss: 0.0034 - accuracy: 0.9995 - val_loss: 1.9024 - val_accuracy: 0.9113\n",
      "Epoch 18/30\n",
      "599/599 [==============================] - 2s 4ms/step - loss: 0.0035 - accuracy: 0.9997 - val_loss: 1.8295 - val_accuracy: 0.9192\n",
      "Epoch 19/30\n",
      "599/599 [==============================] - 2s 4ms/step - loss: 0.0021 - accuracy: 0.9997 - val_loss: 2.1890 - val_accuracy: 0.9223\n",
      "Epoch 20/30\n",
      "599/599 [==============================] - 2s 4ms/step - loss: 0.0016 - accuracy: 0.9998 - val_loss: 2.0759 - val_accuracy: 0.9113\n",
      "Epoch 21/30\n",
      "599/599 [==============================] - 2s 4ms/step - loss: 0.0017 - accuracy: 0.9996 - val_loss: 2.2212 - val_accuracy: 0.9168\n",
      "Epoch 22/30\n",
      "599/599 [==============================] - 2s 4ms/step - loss: 0.0015 - accuracy: 0.9998 - val_loss: 2.1905 - val_accuracy: 0.9082\n",
      "Epoch 23/30\n",
      "599/599 [==============================] - 2s 4ms/step - loss: 0.0034 - accuracy: 0.9999 - val_loss: 2.1742 - val_accuracy: 0.9035\n",
      "Epoch 24/30\n",
      "599/599 [==============================] - 2s 4ms/step - loss: 0.0023 - accuracy: 0.9997 - val_loss: 2.3156 - val_accuracy: 0.9184\n",
      "Epoch 25/30\n",
      "599/599 [==============================] - 2s 4ms/step - loss: 0.0026 - accuracy: 0.9997 - val_loss: 2.2927 - val_accuracy: 0.9184\n",
      "Epoch 26/30\n",
      "599/599 [==============================] - 2s 4ms/step - loss: 0.0035 - accuracy: 0.9998 - val_loss: 2.2314 - val_accuracy: 0.9121\n",
      "Epoch 27/30\n",
      "599/599 [==============================] - 2s 4ms/step - loss: 0.0017 - accuracy: 0.9998 - val_loss: 2.3221 - val_accuracy: 0.9121\n",
      "Epoch 28/30\n",
      "599/599 [==============================] - 2s 4ms/step - loss: 0.0028 - accuracy: 0.9997 - val_loss: 2.3129 - val_accuracy: 0.9137\n",
      "Epoch 29/30\n",
      "599/599 [==============================] - 2s 4ms/step - loss: 0.0028 - accuracy: 0.9996 - val_loss: 2.3706 - val_accuracy: 0.9129\n",
      "Epoch 30/30\n",
      "599/599 [==============================] - 2s 4ms/step - loss: 0.0018 - accuracy: 0.9997 - val_loss: 2.4394 - val_accuracy: 0.9152\n",
      "Epoch 1/30\n",
      "319/319 [==============================] - 2s 4ms/step - loss: 0.2498 - accuracy: 0.9302 - val_loss: 0.2231 - val_accuracy: 0.9286\n",
      "Epoch 2/30\n",
      "319/319 [==============================] - 1s 3ms/step - loss: 0.1843 - accuracy: 0.9422 - val_loss: 0.2080 - val_accuracy: 0.9317\n",
      "Epoch 3/30\n",
      "319/319 [==============================] - 1s 3ms/step - loss: 0.1586 - accuracy: 0.9488 - val_loss: 0.2162 - val_accuracy: 0.9309\n",
      "Epoch 4/30\n",
      "319/319 [==============================] - 1s 3ms/step - loss: 0.1449 - accuracy: 0.9526 - val_loss: 0.2086 - val_accuracy: 0.9317\n",
      "Epoch 5/30\n",
      "319/319 [==============================] - 1s 3ms/step - loss: 0.1352 - accuracy: 0.9544 - val_loss: 0.2055 - val_accuracy: 0.9325\n",
      "Epoch 6/30\n",
      "319/319 [==============================] - 1s 3ms/step - loss: 0.1144 - accuracy: 0.9600 - val_loss: 0.2264 - val_accuracy: 0.9301\n",
      "Epoch 7/30\n",
      "319/319 [==============================] - 1s 3ms/step - loss: 0.1076 - accuracy: 0.9645 - val_loss: 0.2332 - val_accuracy: 0.9325\n",
      "Epoch 8/30\n",
      "319/319 [==============================] - 1s 3ms/step - loss: 0.1035 - accuracy: 0.9620 - val_loss: 0.2250 - val_accuracy: 0.9325\n",
      "Epoch 9/30\n",
      "319/319 [==============================] - 1s 3ms/step - loss: 0.0954 - accuracy: 0.9658 - val_loss: 0.2349 - val_accuracy: 0.9333\n",
      "Epoch 10/30\n",
      "319/319 [==============================] - 1s 3ms/step - loss: 0.0897 - accuracy: 0.9680 - val_loss: 0.2573 - val_accuracy: 0.9301\n",
      "Epoch 11/30\n",
      "319/319 [==============================] - 1s 3ms/step - loss: 0.0789 - accuracy: 0.9732 - val_loss: 0.2655 - val_accuracy: 0.9301\n",
      "Epoch 12/30\n",
      "319/319 [==============================] - 1s 3ms/step - loss: 0.0746 - accuracy: 0.9743 - val_loss: 0.2560 - val_accuracy: 0.9333\n",
      "Epoch 13/30\n",
      "319/319 [==============================] - 1s 3ms/step - loss: 0.0757 - accuracy: 0.9743 - val_loss: 0.2407 - val_accuracy: 0.9341\n",
      "Epoch 14/30\n",
      "319/319 [==============================] - 1s 3ms/step - loss: 0.0708 - accuracy: 0.9749 - val_loss: 0.2644 - val_accuracy: 0.9341\n",
      "Epoch 15/30\n",
      "319/319 [==============================] - 1s 3ms/step - loss: 0.0647 - accuracy: 0.9755 - val_loss: 0.3120 - val_accuracy: 0.9278\n",
      "Epoch 16/30\n",
      "319/319 [==============================] - 1s 3ms/step - loss: 0.0645 - accuracy: 0.9773 - val_loss: 0.3024 - val_accuracy: 0.9301\n",
      "Epoch 17/30\n",
      "319/319 [==============================] - 1s 3ms/step - loss: 0.0626 - accuracy: 0.9783 - val_loss: 0.2951 - val_accuracy: 0.9294\n",
      "Epoch 18/30\n",
      "319/319 [==============================] - 1s 3ms/step - loss: 0.0645 - accuracy: 0.9772 - val_loss: 0.2909 - val_accuracy: 0.9309\n",
      "Epoch 19/30\n",
      "319/319 [==============================] - 1s 3ms/step - loss: 0.0572 - accuracy: 0.9807 - val_loss: 0.3142 - val_accuracy: 0.9294\n",
      "Epoch 20/30\n",
      "319/319 [==============================] - 1s 3ms/step - loss: 0.0532 - accuracy: 0.9814 - val_loss: 0.3197 - val_accuracy: 0.9317\n",
      "Epoch 21/30\n",
      "319/319 [==============================] - 1s 3ms/step - loss: 0.0594 - accuracy: 0.9808 - val_loss: 0.2961 - val_accuracy: 0.9294\n",
      "Epoch 22/30\n",
      "319/319 [==============================] - 1s 3ms/step - loss: 0.0518 - accuracy: 0.9814 - val_loss: 0.3030 - val_accuracy: 0.9309\n",
      "Epoch 23/30\n",
      "319/319 [==============================] - 1s 3ms/step - loss: 0.0535 - accuracy: 0.9818 - val_loss: 0.2860 - val_accuracy: 0.9325\n",
      "Epoch 24/30\n",
      "319/319 [==============================] - 1s 3ms/step - loss: 0.0493 - accuracy: 0.9832 - val_loss: 0.3009 - val_accuracy: 0.9317\n",
      "Epoch 25/30\n",
      "319/319 [==============================] - 1s 3ms/step - loss: 0.0461 - accuracy: 0.9830 - val_loss: 0.2942 - val_accuracy: 0.9317\n",
      "Epoch 26/30\n",
      "319/319 [==============================] - 1s 3ms/step - loss: 0.0519 - accuracy: 0.9820 - val_loss: 0.3102 - val_accuracy: 0.9317\n",
      "Epoch 27/30\n",
      "319/319 [==============================] - 1s 3ms/step - loss: 0.0505 - accuracy: 0.9819 - val_loss: 0.3667 - val_accuracy: 0.9278\n",
      "Epoch 28/30\n",
      "319/319 [==============================] - 1s 3ms/step - loss: 0.0411 - accuracy: 0.9857 - val_loss: 0.3517 - val_accuracy: 0.9286\n",
      "Epoch 29/30\n",
      "319/319 [==============================] - 1s 3ms/step - loss: 0.0512 - accuracy: 0.9836 - val_loss: 0.3361 - val_accuracy: 0.9262\n",
      "Epoch 30/30\n",
      "319/319 [==============================] - 1s 3ms/step - loss: 0.0444 - accuracy: 0.9853 - val_loss: 0.3426 - val_accuracy: 0.9333\n",
      "Epoch 1/30\n",
      "599/599 [==============================] - 2s 3ms/step - loss: 0.4284 - accuracy: 0.8032 - val_loss: 0.3282 - val_accuracy: 0.8854\n",
      "Epoch 2/30\n",
      "599/599 [==============================] - 2s 3ms/step - loss: 0.2366 - accuracy: 0.9096 - val_loss: 0.2570 - val_accuracy: 0.9129\n",
      "Epoch 3/30\n",
      "599/599 [==============================] - 2s 3ms/step - loss: 0.1604 - accuracy: 0.9432 - val_loss: 0.2452 - val_accuracy: 0.9192\n",
      "Epoch 4/30\n",
      "599/599 [==============================] - 2s 3ms/step - loss: 0.1301 - accuracy: 0.9520 - val_loss: 0.2528 - val_accuracy: 0.9294\n",
      "Epoch 5/30\n",
      "599/599 [==============================] - 2s 3ms/step - loss: 0.1077 - accuracy: 0.9633 - val_loss: 0.2643 - val_accuracy: 0.9270\n",
      "Epoch 6/30\n",
      "599/599 [==============================] - 2s 3ms/step - loss: 0.1067 - accuracy: 0.9623 - val_loss: 0.2801 - val_accuracy: 0.9239\n",
      "Epoch 7/30\n",
      "599/599 [==============================] - 2s 3ms/step - loss: 0.0906 - accuracy: 0.9673 - val_loss: 0.2894 - val_accuracy: 0.9246\n",
      "Epoch 8/30\n",
      "599/599 [==============================] - 2s 3ms/step - loss: 0.0838 - accuracy: 0.9704 - val_loss: 0.3172 - val_accuracy: 0.9294\n",
      "Epoch 9/30\n",
      "599/599 [==============================] - 2s 3ms/step - loss: 0.0803 - accuracy: 0.9737 - val_loss: 0.3014 - val_accuracy: 0.9286\n",
      "Epoch 10/30\n",
      "599/599 [==============================] - 2s 3ms/step - loss: 0.0772 - accuracy: 0.9740 - val_loss: 0.3223 - val_accuracy: 0.9301\n",
      "Epoch 11/30\n",
      "599/599 [==============================] - 2s 3ms/step - loss: 0.0764 - accuracy: 0.9752 - val_loss: 0.3304 - val_accuracy: 0.9254\n",
      "Epoch 12/30\n",
      "599/599 [==============================] - 2s 3ms/step - loss: 0.0706 - accuracy: 0.9755 - val_loss: 0.3473 - val_accuracy: 0.9262\n",
      "Epoch 13/30\n",
      "599/599 [==============================] - 2s 3ms/step - loss: 0.0674 - accuracy: 0.9787 - val_loss: 0.3561 - val_accuracy: 0.9215\n",
      "Epoch 14/30\n",
      "599/599 [==============================] - 2s 3ms/step - loss: 0.0690 - accuracy: 0.9767 - val_loss: 0.3498 - val_accuracy: 0.9246\n",
      "Epoch 15/30\n",
      "599/599 [==============================] - 2s 3ms/step - loss: 0.0680 - accuracy: 0.9788 - val_loss: 0.3592 - val_accuracy: 0.9286\n",
      "Epoch 16/30\n",
      "599/599 [==============================] - 2s 3ms/step - loss: 0.0660 - accuracy: 0.9789 - val_loss: 0.3514 - val_accuracy: 0.9215\n",
      "Epoch 17/30\n",
      "599/599 [==============================] - 2s 3ms/step - loss: 0.0605 - accuracy: 0.9793 - val_loss: 0.3679 - val_accuracy: 0.9262\n",
      "Epoch 18/30\n",
      "599/599 [==============================] - 2s 3ms/step - loss: 0.0620 - accuracy: 0.9803 - val_loss: 0.3627 - val_accuracy: 0.9246\n",
      "Epoch 19/30\n",
      "599/599 [==============================] - 2s 3ms/step - loss: 0.0616 - accuracy: 0.9786 - val_loss: 0.3663 - val_accuracy: 0.9309\n",
      "Epoch 20/30\n",
      "599/599 [==============================] - 2s 3ms/step - loss: 0.0564 - accuracy: 0.9810 - val_loss: 0.3697 - val_accuracy: 0.9309\n",
      "Epoch 21/30\n",
      "599/599 [==============================] - 2s 3ms/step - loss: 0.0530 - accuracy: 0.9829 - val_loss: 0.3842 - val_accuracy: 0.9294\n",
      "Epoch 22/30\n",
      "599/599 [==============================] - 2s 3ms/step - loss: 0.0552 - accuracy: 0.9822 - val_loss: 0.3859 - val_accuracy: 0.9207\n",
      "Epoch 23/30\n",
      "599/599 [==============================] - 2s 3ms/step - loss: 0.0497 - accuracy: 0.9827 - val_loss: 0.3969 - val_accuracy: 0.9262\n",
      "Epoch 24/30\n",
      "599/599 [==============================] - 2s 3ms/step - loss: 0.0558 - accuracy: 0.9823 - val_loss: 0.4054 - val_accuracy: 0.9231\n",
      "Epoch 25/30\n",
      "599/599 [==============================] - 2s 3ms/step - loss: 0.0531 - accuracy: 0.9829 - val_loss: 0.4074 - val_accuracy: 0.9184\n",
      "Epoch 26/30\n",
      "599/599 [==============================] - 2s 3ms/step - loss: 0.0498 - accuracy: 0.9839 - val_loss: 0.4311 - val_accuracy: 0.9262\n",
      "Epoch 27/30\n",
      "599/599 [==============================] - 2s 3ms/step - loss: 0.0467 - accuracy: 0.9840 - val_loss: 0.4280 - val_accuracy: 0.9278\n",
      "Epoch 28/30\n",
      "599/599 [==============================] - 2s 3ms/step - loss: 0.0436 - accuracy: 0.9856 - val_loss: 0.4412 - val_accuracy: 0.9294\n",
      "Epoch 29/30\n",
      "599/599 [==============================] - 2s 3ms/step - loss: 0.0490 - accuracy: 0.9840 - val_loss: 0.4227 - val_accuracy: 0.9246\n",
      "Epoch 30/30\n",
      "599/599 [==============================] - 2s 3ms/step - loss: 0.0467 - accuracy: 0.9851 - val_loss: 0.4405 - val_accuracy: 0.9262\n",
      "Epoch 1/30\n",
      "319/319 [==============================] - 2s 4ms/step - loss: 0.2113 - accuracy: 0.9402 - val_loss: 0.1959 - val_accuracy: 0.9341\n",
      "Epoch 2/30\n",
      "319/319 [==============================] - 1s 3ms/step - loss: 0.1563 - accuracy: 0.9504 - val_loss: 0.2070 - val_accuracy: 0.9364\n",
      "Epoch 3/30\n",
      "319/319 [==============================] - 1s 3ms/step - loss: 0.1377 - accuracy: 0.9529 - val_loss: 0.1934 - val_accuracy: 0.9388\n",
      "Epoch 4/30\n",
      "319/319 [==============================] - 1s 3ms/step - loss: 0.1216 - accuracy: 0.9582 - val_loss: 0.1907 - val_accuracy: 0.9380\n",
      "Epoch 5/30\n",
      "319/319 [==============================] - 1s 3ms/step - loss: 0.1049 - accuracy: 0.9626 - val_loss: 0.2080 - val_accuracy: 0.9356\n",
      "Epoch 6/30\n",
      "319/319 [==============================] - 1s 3ms/step - loss: 0.0910 - accuracy: 0.9692 - val_loss: 0.2123 - val_accuracy: 0.9341\n",
      "Epoch 7/30\n",
      "319/319 [==============================] - 1s 3ms/step - loss: 0.0824 - accuracy: 0.9705 - val_loss: 0.2099 - val_accuracy: 0.9333\n",
      "Epoch 8/30\n",
      "319/319 [==============================] - 1s 3ms/step - loss: 0.0732 - accuracy: 0.9746 - val_loss: 0.2063 - val_accuracy: 0.9364\n",
      "Epoch 9/30\n",
      "319/319 [==============================] - 1s 3ms/step - loss: 0.0647 - accuracy: 0.9774 - val_loss: 0.2505 - val_accuracy: 0.9341\n",
      "Epoch 10/30\n",
      "319/319 [==============================] - 1s 3ms/step - loss: 0.0588 - accuracy: 0.9787 - val_loss: 0.2334 - val_accuracy: 0.9356\n",
      "Epoch 11/30\n",
      "319/319 [==============================] - 1s 3ms/step - loss: 0.0549 - accuracy: 0.9799 - val_loss: 0.2604 - val_accuracy: 0.9341\n",
      "Epoch 12/30\n",
      "319/319 [==============================] - 1s 3ms/step - loss: 0.0505 - accuracy: 0.9828 - val_loss: 0.2561 - val_accuracy: 0.9349\n",
      "Epoch 13/30\n",
      "319/319 [==============================] - 1s 3ms/step - loss: 0.0489 - accuracy: 0.9834 - val_loss: 0.2702 - val_accuracy: 0.9301\n",
      "Epoch 14/30\n",
      "319/319 [==============================] - 1s 3ms/step - loss: 0.0463 - accuracy: 0.9851 - val_loss: 0.2882 - val_accuracy: 0.9356\n",
      "Epoch 15/30\n",
      "319/319 [==============================] - 1s 3ms/step - loss: 0.0443 - accuracy: 0.9843 - val_loss: 0.2939 - val_accuracy: 0.9325\n",
      "Epoch 16/30\n",
      "319/319 [==============================] - 1s 3ms/step - loss: 0.0394 - accuracy: 0.9856 - val_loss: 0.3074 - val_accuracy: 0.9333\n",
      "Epoch 17/30\n",
      "319/319 [==============================] - 1s 3ms/step - loss: 0.0395 - accuracy: 0.9867 - val_loss: 0.3125 - val_accuracy: 0.9309\n",
      "Epoch 18/30\n",
      "319/319 [==============================] - 1s 3ms/step - loss: 0.0428 - accuracy: 0.9860 - val_loss: 0.2923 - val_accuracy: 0.9309\n",
      "Epoch 19/30\n",
      "319/319 [==============================] - 1s 3ms/step - loss: 0.0403 - accuracy: 0.9863 - val_loss: 0.2867 - val_accuracy: 0.9364\n",
      "Epoch 20/30\n",
      "319/319 [==============================] - 1s 3ms/step - loss: 0.0329 - accuracy: 0.9886 - val_loss: 0.2675 - val_accuracy: 0.9349\n",
      "Epoch 21/30\n",
      "319/319 [==============================] - 1s 3ms/step - loss: 0.0345 - accuracy: 0.9882 - val_loss: 0.2808 - val_accuracy: 0.9349\n",
      "Epoch 22/30\n",
      "319/319 [==============================] - 1s 3ms/step - loss: 0.0336 - accuracy: 0.9892 - val_loss: 0.3156 - val_accuracy: 0.9349\n",
      "Epoch 23/30\n",
      "319/319 [==============================] - 1s 3ms/step - loss: 0.0359 - accuracy: 0.9885 - val_loss: 0.3056 - val_accuracy: 0.9349\n",
      "Epoch 24/30\n",
      "319/319 [==============================] - 1s 3ms/step - loss: 0.0339 - accuracy: 0.9890 - val_loss: 0.3007 - val_accuracy: 0.9356\n",
      "Epoch 25/30\n",
      "319/319 [==============================] - 1s 3ms/step - loss: 0.0287 - accuracy: 0.9900 - val_loss: 0.4168 - val_accuracy: 0.9309\n",
      "Epoch 26/30\n",
      "319/319 [==============================] - 1s 3ms/step - loss: 0.0315 - accuracy: 0.9906 - val_loss: 0.3390 - val_accuracy: 0.9317\n",
      "Epoch 27/30\n",
      "319/319 [==============================] - 1s 3ms/step - loss: 0.0298 - accuracy: 0.9904 - val_loss: 0.3054 - val_accuracy: 0.9364\n",
      "Epoch 28/30\n",
      "319/319 [==============================] - 1s 3ms/step - loss: 0.0330 - accuracy: 0.9895 - val_loss: 0.3831 - val_accuracy: 0.9325\n",
      "Epoch 29/30\n",
      "319/319 [==============================] - 1s 3ms/step - loss: 0.0292 - accuracy: 0.9912 - val_loss: 0.3441 - val_accuracy: 0.9294\n",
      "Epoch 30/30\n",
      "319/319 [==============================] - 1s 3ms/step - loss: 0.0283 - accuracy: 0.9899 - val_loss: 0.3664 - val_accuracy: 0.9325\n",
      "Epoch 1/30\n",
      "599/599 [==============================] - 2s 3ms/step - loss: 0.3541 - accuracy: 0.8426 - val_loss: 0.3083 - val_accuracy: 0.8893\n",
      "Epoch 2/30\n",
      "599/599 [==============================] - 2s 3ms/step - loss: 0.1696 - accuracy: 0.9414 - val_loss: 0.2338 - val_accuracy: 0.9262\n",
      "Epoch 3/30\n",
      "599/599 [==============================] - 2s 3ms/step - loss: 0.1153 - accuracy: 0.9614 - val_loss: 0.2460 - val_accuracy: 0.9325\n",
      "Epoch 4/30\n",
      "599/599 [==============================] - 2s 3ms/step - loss: 0.0883 - accuracy: 0.9719 - val_loss: 0.2674 - val_accuracy: 0.9262\n",
      "Epoch 5/30\n",
      "599/599 [==============================] - 2s 3ms/step - loss: 0.0738 - accuracy: 0.9755 - val_loss: 0.2658 - val_accuracy: 0.9254\n",
      "Epoch 6/30\n",
      "599/599 [==============================] - 2s 3ms/step - loss: 0.0647 - accuracy: 0.9791 - val_loss: 0.3046 - val_accuracy: 0.9294\n",
      "Epoch 7/30\n",
      "599/599 [==============================] - 2s 3ms/step - loss: 0.0539 - accuracy: 0.9827 - val_loss: 0.3082 - val_accuracy: 0.9317\n",
      "Epoch 8/30\n",
      "599/599 [==============================] - 2s 3ms/step - loss: 0.0546 - accuracy: 0.9820 - val_loss: 0.2995 - val_accuracy: 0.9309\n",
      "Epoch 9/30\n",
      "599/599 [==============================] - 2s 3ms/step - loss: 0.0526 - accuracy: 0.9832 - val_loss: 0.3048 - val_accuracy: 0.9349\n",
      "Epoch 10/30\n",
      "599/599 [==============================] - 2s 3ms/step - loss: 0.0440 - accuracy: 0.9857 - val_loss: 0.3088 - val_accuracy: 0.9325\n",
      "Epoch 11/30\n",
      "599/599 [==============================] - 2s 3ms/step - loss: 0.0459 - accuracy: 0.9841 - val_loss: 0.2969 - val_accuracy: 0.9325\n",
      "Epoch 12/30\n",
      "599/599 [==============================] - 2s 3ms/step - loss: 0.0429 - accuracy: 0.9852 - val_loss: 0.3131 - val_accuracy: 0.9294\n",
      "Epoch 13/30\n",
      "599/599 [==============================] - 2s 3ms/step - loss: 0.0412 - accuracy: 0.9854 - val_loss: 0.3318 - val_accuracy: 0.9278\n",
      "Epoch 14/30\n",
      "599/599 [==============================] - 2s 3ms/step - loss: 0.0390 - accuracy: 0.9861 - val_loss: 0.3343 - val_accuracy: 0.9309\n",
      "Epoch 15/30\n",
      "599/599 [==============================] - 2s 3ms/step - loss: 0.0366 - accuracy: 0.9864 - val_loss: 0.3702 - val_accuracy: 0.9356\n",
      "Epoch 16/30\n",
      "599/599 [==============================] - 2s 3ms/step - loss: 0.0365 - accuracy: 0.9873 - val_loss: 0.3937 - val_accuracy: 0.9333\n",
      "Epoch 17/30\n",
      "599/599 [==============================] - 2s 3ms/step - loss: 0.0356 - accuracy: 0.9878 - val_loss: 0.3577 - val_accuracy: 0.9317\n",
      "Epoch 18/30\n",
      "599/599 [==============================] - 2s 3ms/step - loss: 0.0339 - accuracy: 0.9882 - val_loss: 0.3925 - val_accuracy: 0.9270\n",
      "Epoch 19/30\n",
      "599/599 [==============================] - 2s 3ms/step - loss: 0.0349 - accuracy: 0.9882 - val_loss: 0.3901 - val_accuracy: 0.9317\n",
      "Epoch 20/30\n",
      "599/599 [==============================] - 2s 3ms/step - loss: 0.0325 - accuracy: 0.9891 - val_loss: 0.4202 - val_accuracy: 0.9278\n",
      "Epoch 21/30\n",
      "599/599 [==============================] - 2s 3ms/step - loss: 0.0298 - accuracy: 0.9895 - val_loss: 0.4341 - val_accuracy: 0.9333\n",
      "Epoch 22/30\n",
      "599/599 [==============================] - 2s 3ms/step - loss: 0.0328 - accuracy: 0.9887 - val_loss: 0.3875 - val_accuracy: 0.9333\n",
      "Epoch 23/30\n",
      "599/599 [==============================] - 2s 3ms/step - loss: 0.0315 - accuracy: 0.9884 - val_loss: 0.4180 - val_accuracy: 0.9317\n",
      "Epoch 24/30\n",
      "599/599 [==============================] - 2s 3ms/step - loss: 0.0304 - accuracy: 0.9891 - val_loss: 0.4192 - val_accuracy: 0.9349\n",
      "Epoch 25/30\n",
      "599/599 [==============================] - 2s 3ms/step - loss: 0.0318 - accuracy: 0.9883 - val_loss: 0.3915 - val_accuracy: 0.9333\n",
      "Epoch 26/30\n",
      "599/599 [==============================] - 2s 3ms/step - loss: 0.0290 - accuracy: 0.9899 - val_loss: 0.4310 - val_accuracy: 0.9294\n",
      "Epoch 27/30\n",
      "599/599 [==============================] - 2s 3ms/step - loss: 0.0280 - accuracy: 0.9899 - val_loss: 0.3876 - val_accuracy: 0.9341\n",
      "Epoch 28/30\n",
      "599/599 [==============================] - 2s 3ms/step - loss: 0.0323 - accuracy: 0.9889 - val_loss: 0.4266 - val_accuracy: 0.9364\n",
      "Epoch 29/30\n",
      "599/599 [==============================] - 2s 3ms/step - loss: 0.0302 - accuracy: 0.9887 - val_loss: 0.4064 - val_accuracy: 0.9372\n",
      "Epoch 30/30\n",
      "599/599 [==============================] - 2s 3ms/step - loss: 0.0294 - accuracy: 0.9901 - val_loss: 0.4346 - val_accuracy: 0.9317\n"
     ]
    },
    {
     "output_type": "execute_result",
     "data": {
      "text/plain": [
       "<keras.callbacks.History at 0x7f0620e58690>"
      ]
     },
     "metadata": {},
     "execution_count": 42
    }
   ],
   "source": [
    "lstm_random.fit(X_train, y_train_onehot, epochs=30, validation_data=(X_val, y_val_onehot))\n",
    "lstm_random_over.fit(X_train_over, y_train_over_onehot, epochs=30, validation_data=(X_val, y_val_onehot))\n",
    "lstm_glove.fit(X_train, y_train_onehot, epochs=30, validation_data=(X_val, y_val_onehot))\n",
    "lstm_glove_over.fit(X_train_over, y_train_over_onehot, epochs=30, validation_data=(X_val, y_val_onehot))\n",
    "lstm_word2vec.fit(X_train, y_train_onehot, epochs=30, validation_data=(X_val, y_val_onehot))\n",
    "lstm_word2vec_over.fit(X_train_over, y_train_over_onehot, epochs=30, validation_data=(X_val, y_val_onehot))\n",
    "blstm_random.fit(X_train, y_train_onehot, epochs=30, validation_data=(X_val, y_val_onehot))\n",
    "blstm_random_over.fit(X_train_over, y_train_over_onehot, epochs=30, validation_data=(X_val, y_val_onehot))\n",
    "blstm_glove.fit(X_train, y_train_onehot, epochs=30, validation_data=(X_val, y_val_onehot))\n",
    "blstm_glove_over.fit(X_train_over, y_train_over_onehot, epochs=30, validation_data=(X_val, y_val_onehot))\n",
    "blstm_word2vec.fit(X_train, y_train_onehot, epochs=30, validation_data=(X_val, y_val_onehot))\n",
    "blstm_word2vec_over.fit(X_train_over, y_train_over_onehot, epochs=30, validation_data=(X_val, y_val_onehot))\n",
    "blstm_att_random.fit(X_train, y_train_onehot, epochs=30, validation_data=(X_val, y_val_onehot))\n",
    "blstm_att_random_over.fit(X_train_over, y_train_over_onehot, epochs=30, validation_data=(X_val, y_val_onehot))\n",
    "blstm_att_glove.fit(X_train, y_train_onehot, epochs=30, validation_data=(X_val, y_val_onehot))\n",
    "blstm_att_glove_over.fit(X_train_over, y_train_over_onehot, epochs=30, validation_data=(X_val, y_val_onehot))\n",
    "blstm_att_word2vec.fit(X_train, y_train_onehot, epochs=30, validation_data=(X_val, y_val_onehot))\n",
    "blstm_att_word2vec_over.fit(X_train_over, y_train_over_onehot, epochs=30, validation_data=(X_val, y_val_onehot))\n",
    "cnn_random.fit(X_train, y_train_onehot, epochs=30, validation_data=(X_val, y_val_onehot))\n",
    "cnn_random_over.fit(X_train_over, y_train_over_onehot, epochs=30, validation_data=(X_val, y_val_onehot))\n",
    "cnn_glove.fit(X_train, y_train_onehot, epochs=30, validation_data=(X_val, y_val_onehot))\n",
    "cnn_glove_over.fit(X_train_over, y_train_over_onehot, epochs=30, validation_data=(X_val, y_val_onehot))\n",
    "cnn_word2vec.fit(X_train, y_train_onehot, epochs=30, validation_data=(X_val, y_val_onehot))\n",
    "cnn_word2vec_over.fit(X_train_over, y_train_over_onehot, epochs=30, validation_data=(X_val, y_val_onehot))"
   ],
   "metadata": {
    "pycharm": {
     "name": "#%%\n"
    },
    "id": "95ONmz__msev",
    "colab": {
     "base_uri": "https://localhost:8080/"
    },
    "executionInfo": {
     "status": "ok",
     "timestamp": 1643232960787,
     "user_tz": -60,
     "elapsed": 1912623,
     "user": {
      "displayName": "Benjamin Lee",
      "photoUrl": "https://lh3.googleusercontent.com/a-/AOh14GiH530quYi9k5DQRCxWoJT7cVVCjzMOGgFrkXEr=s64",
      "userId": "05206156339145726048"
     }
    },
    "outputId": "18a1eb3c-8bb1-45e7-e0e6-027345436821"
   }
  },
  {
   "cell_type": "code",
   "execution_count": 43,
   "outputs": [],
   "source": [
    "model_list = [lstm_random,\n",
    "lstm_random_over,\n",
    "lstm_glove,\n",
    "lstm_glove_over,\n",
    "lstm_word2vec,\n",
    "lstm_word2vec_over,\n",
    "blstm_random,\n",
    "blstm_random_over,\n",
    "blstm_glove,\n",
    "blstm_glove_over,\n",
    "blstm_word2vec,\n",
    "blstm_word2vec_over,\n",
    "blstm_att_random,\n",
    "blstm_att_random_over,\n",
    "blstm_att_glove,\n",
    "blstm_att_glove_over,\n",
    "blstm_att_word2vec,\n",
    "blstm_att_word2vec_over,\n",
    "cnn_random,\n",
    "cnn_random_over,\n",
    "cnn_glove,\n",
    "cnn_glove_over,\n",
    "cnn_word2vec,\n",
    "cnn_word2vec_over]"
   ],
   "metadata": {
    "pycharm": {
     "name": "#%%\n"
    },
    "id": "-QZ-y1yZmsev",
    "executionInfo": {
     "status": "ok",
     "timestamp": 1643232960787,
     "user_tz": -60,
     "elapsed": 4,
     "user": {
      "displayName": "Benjamin Lee",
      "photoUrl": "https://lh3.googleusercontent.com/a-/AOh14GiH530quYi9k5DQRCxWoJT7cVVCjzMOGgFrkXEr=s64",
      "userId": "05206156339145726048"
     }
    }
   }
  },
  {
   "cell_type": "code",
   "source": [
    "model_name_list = ['lstm_random',\n",
    "'lstm_random_over',\n",
    "'lstm_glove',\n",
    "'lstm_glove_over',\n",
    "'lstm_word2vec',\n",
    "'lstm_word2vec_over',\n",
    "'blstm_random',\n",
    "'blstm_random_over',\n",
    "'blstm_glove',\n",
    "'blstm_glove_over',\n",
    "'blstm_word2vec',\n",
    "'blstm_word2vec_over',\n",
    "'blstm_att_random',\n",
    "'blstm_att_random_over',\n",
    "'blstm_att_glove',\n",
    "'blstm_att_glove_over',\n",
    "'blstm_att_word2vec',\n",
    "'blstm_att_word2vec_over',\n",
    "'cnn_random',\n",
    "'cnn_random_over',\n",
    "'cnn_glove',\n",
    "'cnn_glove_over',\n",
    "'cnn_word2vec',\n",
    "'cnn_word2vec_over']"
   ],
   "metadata": {
    "id": "FB0wJzabsYFD",
    "executionInfo": {
     "status": "ok",
     "timestamp": 1643231022256,
     "user_tz": -60,
     "elapsed": 8,
     "user": {
      "displayName": "Benjamin Lee",
      "photoUrl": "https://lh3.googleusercontent.com/a-/AOh14GiH530quYi9k5DQRCxWoJT7cVVCjzMOGgFrkXEr=s64",
      "userId": "05206156339145726048"
     }
    }
   },
   "execution_count": 41,
   "outputs": []
  },
  {
   "cell_type": "code",
   "source": [
    "# facility to save the fitted model\n",
    "import shutil\n",
    "from google.colab import files\n",
    "\n",
    "for model in model_list:\n",
    "    index = model_list.index(model)\n",
    "    model_name = model_name_list[index]\n",
    "    model.save(model_name)\n",
    "\n",
    "    shutil.make_archive(model_name, 'zip', model_name)\n",
    "    shutil.move(f\"{model_name}.zip\", f\"/content/drive/MyDrive/Uni/Experiment Design/Ass2/Deep Learning/models_formspring/{model_name}.zip\")"
   ],
   "metadata": {
    "id": "pUatc9FVsbri",
    "colab": {
     "base_uri": "https://localhost:8080/"
    },
    "executionInfo": {
     "status": "ok",
     "timestamp": 1643233588538,
     "user_tz": -60,
     "elapsed": 519499,
     "user": {
      "displayName": "Benjamin Lee",
      "photoUrl": "https://lh3.googleusercontent.com/a-/AOh14GiH530quYi9k5DQRCxWoJT7cVVCjzMOGgFrkXEr=s64",
      "userId": "05206156339145726048"
     }
    },
    "outputId": "76d48475-3330-46dc-d52a-c03988c0b514"
   },
   "execution_count": 45,
   "outputs": [
    {
     "output_type": "stream",
     "name": "stderr",
     "text": [
      "WARNING:absl:Found untraced functions such as lstm_cell_layer_call_fn, lstm_cell_layer_call_and_return_conditional_losses, lstm_cell_layer_call_fn, lstm_cell_layer_call_and_return_conditional_losses, lstm_cell_layer_call_and_return_conditional_losses while saving (showing 5 of 5). These functions will not be directly callable after loading.\n"
     ]
    },
    {
     "output_type": "stream",
     "name": "stdout",
     "text": [
      "INFO:tensorflow:Assets written to: lstm_random/assets\n"
     ]
    },
    {
     "output_type": "stream",
     "name": "stderr",
     "text": [
      "INFO:tensorflow:Assets written to: lstm_random/assets\n",
      "WARNING:absl:<keras.layers.recurrent.LSTMCell object at 0x7f071000f4d0> has the same name 'LSTMCell' as a built-in Keras object. Consider renaming <class 'keras.layers.recurrent.LSTMCell'> to avoid naming conflicts when loading with `tf.keras.models.load_model`. If renaming is not possible, pass the object in the `custom_objects` parameter of the load function.\n",
      "WARNING:absl:Found untraced functions such as lstm_cell_1_layer_call_fn, lstm_cell_1_layer_call_and_return_conditional_losses, lstm_cell_1_layer_call_fn, lstm_cell_1_layer_call_and_return_conditional_losses, lstm_cell_1_layer_call_and_return_conditional_losses while saving (showing 5 of 5). These functions will not be directly callable after loading.\n"
     ]
    },
    {
     "output_type": "stream",
     "name": "stdout",
     "text": [
      "INFO:tensorflow:Assets written to: lstm_random_over/assets\n"
     ]
    },
    {
     "output_type": "stream",
     "name": "stderr",
     "text": [
      "INFO:tensorflow:Assets written to: lstm_random_over/assets\n",
      "WARNING:absl:<keras.layers.recurrent.LSTMCell object at 0x7f068a765090> has the same name 'LSTMCell' as a built-in Keras object. Consider renaming <class 'keras.layers.recurrent.LSTMCell'> to avoid naming conflicts when loading with `tf.keras.models.load_model`. If renaming is not possible, pass the object in the `custom_objects` parameter of the load function.\n",
      "WARNING:absl:Found untraced functions such as lstm_cell_2_layer_call_fn, lstm_cell_2_layer_call_and_return_conditional_losses, lstm_cell_2_layer_call_fn, lstm_cell_2_layer_call_and_return_conditional_losses, lstm_cell_2_layer_call_and_return_conditional_losses while saving (showing 5 of 5). These functions will not be directly callable after loading.\n"
     ]
    },
    {
     "output_type": "stream",
     "name": "stdout",
     "text": [
      "INFO:tensorflow:Assets written to: lstm_glove/assets\n"
     ]
    },
    {
     "output_type": "stream",
     "name": "stderr",
     "text": [
      "INFO:tensorflow:Assets written to: lstm_glove/assets\n",
      "WARNING:absl:<keras.layers.recurrent.LSTMCell object at 0x7f068a64d6d0> has the same name 'LSTMCell' as a built-in Keras object. Consider renaming <class 'keras.layers.recurrent.LSTMCell'> to avoid naming conflicts when loading with `tf.keras.models.load_model`. If renaming is not possible, pass the object in the `custom_objects` parameter of the load function.\n",
      "WARNING:absl:Found untraced functions such as lstm_cell_3_layer_call_fn, lstm_cell_3_layer_call_and_return_conditional_losses, lstm_cell_3_layer_call_fn, lstm_cell_3_layer_call_and_return_conditional_losses, lstm_cell_3_layer_call_and_return_conditional_losses while saving (showing 5 of 5). These functions will not be directly callable after loading.\n"
     ]
    },
    {
     "output_type": "stream",
     "name": "stdout",
     "text": [
      "INFO:tensorflow:Assets written to: lstm_glove_over/assets\n"
     ]
    },
    {
     "output_type": "stream",
     "name": "stderr",
     "text": [
      "INFO:tensorflow:Assets written to: lstm_glove_over/assets\n",
      "WARNING:absl:<keras.layers.recurrent.LSTMCell object at 0x7f068a673c10> has the same name 'LSTMCell' as a built-in Keras object. Consider renaming <class 'keras.layers.recurrent.LSTMCell'> to avoid naming conflicts when loading with `tf.keras.models.load_model`. If renaming is not possible, pass the object in the `custom_objects` parameter of the load function.\n",
      "WARNING:absl:Found untraced functions such as lstm_cell_4_layer_call_fn, lstm_cell_4_layer_call_and_return_conditional_losses, lstm_cell_4_layer_call_fn, lstm_cell_4_layer_call_and_return_conditional_losses, lstm_cell_4_layer_call_and_return_conditional_losses while saving (showing 5 of 5). These functions will not be directly callable after loading.\n"
     ]
    },
    {
     "output_type": "stream",
     "name": "stdout",
     "text": [
      "INFO:tensorflow:Assets written to: lstm_word2vec/assets\n"
     ]
    },
    {
     "output_type": "stream",
     "name": "stderr",
     "text": [
      "INFO:tensorflow:Assets written to: lstm_word2vec/assets\n",
      "WARNING:absl:<keras.layers.recurrent.LSTMCell object at 0x7f068a569950> has the same name 'LSTMCell' as a built-in Keras object. Consider renaming <class 'keras.layers.recurrent.LSTMCell'> to avoid naming conflicts when loading with `tf.keras.models.load_model`. If renaming is not possible, pass the object in the `custom_objects` parameter of the load function.\n",
      "WARNING:absl:Found untraced functions such as lstm_cell_5_layer_call_fn, lstm_cell_5_layer_call_and_return_conditional_losses, lstm_cell_5_layer_call_fn, lstm_cell_5_layer_call_and_return_conditional_losses, lstm_cell_5_layer_call_and_return_conditional_losses while saving (showing 5 of 5). These functions will not be directly callable after loading.\n"
     ]
    },
    {
     "output_type": "stream",
     "name": "stdout",
     "text": [
      "INFO:tensorflow:Assets written to: lstm_word2vec_over/assets\n"
     ]
    },
    {
     "output_type": "stream",
     "name": "stderr",
     "text": [
      "INFO:tensorflow:Assets written to: lstm_word2vec_over/assets\n",
      "WARNING:absl:<keras.layers.recurrent.LSTMCell object at 0x7f068a454610> has the same name 'LSTMCell' as a built-in Keras object. Consider renaming <class 'keras.layers.recurrent.LSTMCell'> to avoid naming conflicts when loading with `tf.keras.models.load_model`. If renaming is not possible, pass the object in the `custom_objects` parameter of the load function.\n",
      "WARNING:absl:Found untraced functions such as lstm_cell_7_layer_call_fn, lstm_cell_7_layer_call_and_return_conditional_losses, lstm_cell_8_layer_call_fn, lstm_cell_8_layer_call_and_return_conditional_losses, lstm_cell_7_layer_call_fn while saving (showing 5 of 10). These functions will not be directly callable after loading.\n"
     ]
    },
    {
     "output_type": "stream",
     "name": "stdout",
     "text": [
      "INFO:tensorflow:Assets written to: blstm_random/assets\n"
     ]
    },
    {
     "output_type": "stream",
     "name": "stderr",
     "text": [
      "INFO:tensorflow:Assets written to: blstm_random/assets\n",
      "WARNING:absl:<keras.layers.recurrent.LSTMCell object at 0x7f068a35d790> has the same name 'LSTMCell' as a built-in Keras object. Consider renaming <class 'keras.layers.recurrent.LSTMCell'> to avoid naming conflicts when loading with `tf.keras.models.load_model`. If renaming is not possible, pass the object in the `custom_objects` parameter of the load function.\n",
      "WARNING:absl:<keras.layers.recurrent.LSTMCell object at 0x7f068a3e47d0> has the same name 'LSTMCell' as a built-in Keras object. Consider renaming <class 'keras.layers.recurrent.LSTMCell'> to avoid naming conflicts when loading with `tf.keras.models.load_model`. If renaming is not possible, pass the object in the `custom_objects` parameter of the load function.\n",
      "WARNING:absl:Found untraced functions such as lstm_cell_10_layer_call_fn, lstm_cell_10_layer_call_and_return_conditional_losses, lstm_cell_11_layer_call_fn, lstm_cell_11_layer_call_and_return_conditional_losses, lstm_cell_10_layer_call_fn while saving (showing 5 of 10). These functions will not be directly callable after loading.\n"
     ]
    },
    {
     "output_type": "stream",
     "name": "stdout",
     "text": [
      "INFO:tensorflow:Assets written to: blstm_random_over/assets\n"
     ]
    },
    {
     "output_type": "stream",
     "name": "stderr",
     "text": [
      "INFO:tensorflow:Assets written to: blstm_random_over/assets\n",
      "WARNING:absl:<keras.layers.recurrent.LSTMCell object at 0x7f068a268510> has the same name 'LSTMCell' as a built-in Keras object. Consider renaming <class 'keras.layers.recurrent.LSTMCell'> to avoid naming conflicts when loading with `tf.keras.models.load_model`. If renaming is not possible, pass the object in the `custom_objects` parameter of the load function.\n",
      "WARNING:absl:<keras.layers.recurrent.LSTMCell object at 0x7f068a2720d0> has the same name 'LSTMCell' as a built-in Keras object. Consider renaming <class 'keras.layers.recurrent.LSTMCell'> to avoid naming conflicts when loading with `tf.keras.models.load_model`. If renaming is not possible, pass the object in the `custom_objects` parameter of the load function.\n",
      "WARNING:absl:Found untraced functions such as lstm_cell_13_layer_call_fn, lstm_cell_13_layer_call_and_return_conditional_losses, lstm_cell_14_layer_call_fn, lstm_cell_14_layer_call_and_return_conditional_losses, lstm_cell_13_layer_call_fn while saving (showing 5 of 10). These functions will not be directly callable after loading.\n"
     ]
    },
    {
     "output_type": "stream",
     "name": "stdout",
     "text": [
      "INFO:tensorflow:Assets written to: blstm_glove/assets\n"
     ]
    },
    {
     "output_type": "stream",
     "name": "stderr",
     "text": [
      "INFO:tensorflow:Assets written to: blstm_glove/assets\n",
      "WARNING:absl:<keras.layers.recurrent.LSTMCell object at 0x7f068a03bf90> has the same name 'LSTMCell' as a built-in Keras object. Consider renaming <class 'keras.layers.recurrent.LSTMCell'> to avoid naming conflicts when loading with `tf.keras.models.load_model`. If renaming is not possible, pass the object in the `custom_objects` parameter of the load function.\n",
      "WARNING:absl:<keras.layers.recurrent.LSTMCell object at 0x7f068a0b4190> has the same name 'LSTMCell' as a built-in Keras object. Consider renaming <class 'keras.layers.recurrent.LSTMCell'> to avoid naming conflicts when loading with `tf.keras.models.load_model`. If renaming is not possible, pass the object in the `custom_objects` parameter of the load function.\n",
      "WARNING:absl:Found untraced functions such as lstm_cell_16_layer_call_fn, lstm_cell_16_layer_call_and_return_conditional_losses, lstm_cell_17_layer_call_fn, lstm_cell_17_layer_call_and_return_conditional_losses, lstm_cell_16_layer_call_fn while saving (showing 5 of 10). These functions will not be directly callable after loading.\n"
     ]
    },
    {
     "output_type": "stream",
     "name": "stdout",
     "text": [
      "INFO:tensorflow:Assets written to: blstm_glove_over/assets\n"
     ]
    },
    {
     "output_type": "stream",
     "name": "stderr",
     "text": [
      "INFO:tensorflow:Assets written to: blstm_glove_over/assets\n",
      "WARNING:absl:<keras.layers.recurrent.LSTMCell object at 0x7f0687e5b1d0> has the same name 'LSTMCell' as a built-in Keras object. Consider renaming <class 'keras.layers.recurrent.LSTMCell'> to avoid naming conflicts when loading with `tf.keras.models.load_model`. If renaming is not possible, pass the object in the `custom_objects` parameter of the load function.\n",
      "WARNING:absl:<keras.layers.recurrent.LSTMCell object at 0x7f0687e5bcd0> has the same name 'LSTMCell' as a built-in Keras object. Consider renaming <class 'keras.layers.recurrent.LSTMCell'> to avoid naming conflicts when loading with `tf.keras.models.load_model`. If renaming is not possible, pass the object in the `custom_objects` parameter of the load function.\n",
      "WARNING:absl:Found untraced functions such as lstm_cell_19_layer_call_fn, lstm_cell_19_layer_call_and_return_conditional_losses, lstm_cell_20_layer_call_fn, lstm_cell_20_layer_call_and_return_conditional_losses, lstm_cell_19_layer_call_fn while saving (showing 5 of 10). These functions will not be directly callable after loading.\n"
     ]
    },
    {
     "output_type": "stream",
     "name": "stdout",
     "text": [
      "INFO:tensorflow:Assets written to: blstm_word2vec/assets\n"
     ]
    },
    {
     "output_type": "stream",
     "name": "stderr",
     "text": [
      "INFO:tensorflow:Assets written to: blstm_word2vec/assets\n",
      "WARNING:absl:<keras.layers.recurrent.LSTMCell object at 0x7f0687cae1d0> has the same name 'LSTMCell' as a built-in Keras object. Consider renaming <class 'keras.layers.recurrent.LSTMCell'> to avoid naming conflicts when loading with `tf.keras.models.load_model`. If renaming is not possible, pass the object in the `custom_objects` parameter of the load function.\n",
      "WARNING:absl:<keras.layers.recurrent.LSTMCell object at 0x7f0687cae6d0> has the same name 'LSTMCell' as a built-in Keras object. Consider renaming <class 'keras.layers.recurrent.LSTMCell'> to avoid naming conflicts when loading with `tf.keras.models.load_model`. If renaming is not possible, pass the object in the `custom_objects` parameter of the load function.\n",
      "WARNING:absl:Found untraced functions such as lstm_cell_22_layer_call_fn, lstm_cell_22_layer_call_and_return_conditional_losses, lstm_cell_23_layer_call_fn, lstm_cell_23_layer_call_and_return_conditional_losses, lstm_cell_22_layer_call_fn while saving (showing 5 of 10). These functions will not be directly callable after loading.\n"
     ]
    },
    {
     "output_type": "stream",
     "name": "stdout",
     "text": [
      "INFO:tensorflow:Assets written to: blstm_word2vec_over/assets\n"
     ]
    },
    {
     "output_type": "stream",
     "name": "stderr",
     "text": [
      "INFO:tensorflow:Assets written to: blstm_word2vec_over/assets\n",
      "WARNING:absl:<keras.layers.recurrent.LSTMCell object at 0x7f0687a87ad0> has the same name 'LSTMCell' as a built-in Keras object. Consider renaming <class 'keras.layers.recurrent.LSTMCell'> to avoid naming conflicts when loading with `tf.keras.models.load_model`. If renaming is not possible, pass the object in the `custom_objects` parameter of the load function.\n",
      "WARNING:absl:<keras.layers.recurrent.LSTMCell object at 0x7f0687a8f610> has the same name 'LSTMCell' as a built-in Keras object. Consider renaming <class 'keras.layers.recurrent.LSTMCell'> to avoid naming conflicts when loading with `tf.keras.models.load_model`. If renaming is not possible, pass the object in the `custom_objects` parameter of the load function.\n",
      "WARNING:absl:Found untraced functions such as lstm_cell_25_layer_call_fn, lstm_cell_25_layer_call_and_return_conditional_losses, lstm_cell_26_layer_call_fn, lstm_cell_26_layer_call_and_return_conditional_losses, lstm_cell_25_layer_call_fn while saving (showing 5 of 10). These functions will not be directly callable after loading.\n"
     ]
    },
    {
     "output_type": "stream",
     "name": "stdout",
     "text": [
      "INFO:tensorflow:Assets written to: blstm_att_random/assets\n"
     ]
    },
    {
     "output_type": "stream",
     "name": "stderr",
     "text": [
      "INFO:tensorflow:Assets written to: blstm_att_random/assets\n",
      "WARNING:absl:<keras.layers.recurrent.LSTMCell object at 0x7f06878e8990> has the same name 'LSTMCell' as a built-in Keras object. Consider renaming <class 'keras.layers.recurrent.LSTMCell'> to avoid naming conflicts when loading with `tf.keras.models.load_model`. If renaming is not possible, pass the object in the `custom_objects` parameter of the load function.\n",
      "WARNING:absl:<keras.layers.recurrent.LSTMCell object at 0x7f06878f4390> has the same name 'LSTMCell' as a built-in Keras object. Consider renaming <class 'keras.layers.recurrent.LSTMCell'> to avoid naming conflicts when loading with `tf.keras.models.load_model`. If renaming is not possible, pass the object in the `custom_objects` parameter of the load function.\n",
      "WARNING:absl:Found untraced functions such as lstm_cell_28_layer_call_fn, lstm_cell_28_layer_call_and_return_conditional_losses, lstm_cell_29_layer_call_fn, lstm_cell_29_layer_call_and_return_conditional_losses, lstm_cell_28_layer_call_fn while saving (showing 5 of 10). These functions will not be directly callable after loading.\n"
     ]
    },
    {
     "output_type": "stream",
     "name": "stdout",
     "text": [
      "INFO:tensorflow:Assets written to: blstm_att_random_over/assets\n"
     ]
    },
    {
     "output_type": "stream",
     "name": "stderr",
     "text": [
      "INFO:tensorflow:Assets written to: blstm_att_random_over/assets\n",
      "WARNING:absl:<keras.layers.recurrent.LSTMCell object at 0x7f0687727510> has the same name 'LSTMCell' as a built-in Keras object. Consider renaming <class 'keras.layers.recurrent.LSTMCell'> to avoid naming conflicts when loading with `tf.keras.models.load_model`. If renaming is not possible, pass the object in the `custom_objects` parameter of the load function.\n",
      "WARNING:absl:<keras.layers.recurrent.LSTMCell object at 0x7f06876e87d0> has the same name 'LSTMCell' as a built-in Keras object. Consider renaming <class 'keras.layers.recurrent.LSTMCell'> to avoid naming conflicts when loading with `tf.keras.models.load_model`. If renaming is not possible, pass the object in the `custom_objects` parameter of the load function.\n",
      "WARNING:absl:Found untraced functions such as lstm_cell_31_layer_call_fn, lstm_cell_31_layer_call_and_return_conditional_losses, lstm_cell_32_layer_call_fn, lstm_cell_32_layer_call_and_return_conditional_losses, lstm_cell_31_layer_call_fn while saving (showing 5 of 10). These functions will not be directly callable after loading.\n"
     ]
    },
    {
     "output_type": "stream",
     "name": "stdout",
     "text": [
      "INFO:tensorflow:Assets written to: blstm_att_glove/assets\n"
     ]
    },
    {
     "output_type": "stream",
     "name": "stderr",
     "text": [
      "INFO:tensorflow:Assets written to: blstm_att_glove/assets\n",
      "WARNING:absl:<keras.layers.recurrent.LSTMCell object at 0x7f06874d8750> has the same name 'LSTMCell' as a built-in Keras object. Consider renaming <class 'keras.layers.recurrent.LSTMCell'> to avoid naming conflicts when loading with `tf.keras.models.load_model`. If renaming is not possible, pass the object in the `custom_objects` parameter of the load function.\n",
      "WARNING:absl:<keras.layers.recurrent.LSTMCell object at 0x7f06876ee9d0> has the same name 'LSTMCell' as a built-in Keras object. Consider renaming <class 'keras.layers.recurrent.LSTMCell'> to avoid naming conflicts when loading with `tf.keras.models.load_model`. If renaming is not possible, pass the object in the `custom_objects` parameter of the load function.\n",
      "WARNING:absl:Found untraced functions such as lstm_cell_34_layer_call_fn, lstm_cell_34_layer_call_and_return_conditional_losses, lstm_cell_35_layer_call_fn, lstm_cell_35_layer_call_and_return_conditional_losses, lstm_cell_34_layer_call_fn while saving (showing 5 of 10). These functions will not be directly callable after loading.\n"
     ]
    },
    {
     "output_type": "stream",
     "name": "stdout",
     "text": [
      "INFO:tensorflow:Assets written to: blstm_att_glove_over/assets\n"
     ]
    },
    {
     "output_type": "stream",
     "name": "stderr",
     "text": [
      "INFO:tensorflow:Assets written to: blstm_att_glove_over/assets\n",
      "WARNING:absl:<keras.layers.recurrent.LSTMCell object at 0x7f068732ee90> has the same name 'LSTMCell' as a built-in Keras object. Consider renaming <class 'keras.layers.recurrent.LSTMCell'> to avoid naming conflicts when loading with `tf.keras.models.load_model`. If renaming is not possible, pass the object in the `custom_objects` parameter of the load function.\n",
      "WARNING:absl:<keras.layers.recurrent.LSTMCell object at 0x7f0687338910> has the same name 'LSTMCell' as a built-in Keras object. Consider renaming <class 'keras.layers.recurrent.LSTMCell'> to avoid naming conflicts when loading with `tf.keras.models.load_model`. If renaming is not possible, pass the object in the `custom_objects` parameter of the load function.\n",
      "WARNING:absl:Found untraced functions such as lstm_cell_37_layer_call_fn, lstm_cell_37_layer_call_and_return_conditional_losses, lstm_cell_38_layer_call_fn, lstm_cell_38_layer_call_and_return_conditional_losses, lstm_cell_37_layer_call_fn while saving (showing 5 of 10). These functions will not be directly callable after loading.\n"
     ]
    },
    {
     "output_type": "stream",
     "name": "stdout",
     "text": [
      "INFO:tensorflow:Assets written to: blstm_att_word2vec/assets\n"
     ]
    },
    {
     "output_type": "stream",
     "name": "stderr",
     "text": [
      "INFO:tensorflow:Assets written to: blstm_att_word2vec/assets\n",
      "WARNING:absl:<keras.layers.recurrent.LSTMCell object at 0x7f0687112450> has the same name 'LSTMCell' as a built-in Keras object. Consider renaming <class 'keras.layers.recurrent.LSTMCell'> to avoid naming conflicts when loading with `tf.keras.models.load_model`. If renaming is not possible, pass the object in the `custom_objects` parameter of the load function.\n",
      "WARNING:absl:<keras.layers.recurrent.LSTMCell object at 0x7f06876cbc90> has the same name 'LSTMCell' as a built-in Keras object. Consider renaming <class 'keras.layers.recurrent.LSTMCell'> to avoid naming conflicts when loading with `tf.keras.models.load_model`. If renaming is not possible, pass the object in the `custom_objects` parameter of the load function.\n",
      "WARNING:absl:Found untraced functions such as lstm_cell_40_layer_call_fn, lstm_cell_40_layer_call_and_return_conditional_losses, lstm_cell_41_layer_call_fn, lstm_cell_41_layer_call_and_return_conditional_losses, lstm_cell_40_layer_call_fn while saving (showing 5 of 10). These functions will not be directly callable after loading.\n"
     ]
    },
    {
     "output_type": "stream",
     "name": "stdout",
     "text": [
      "INFO:tensorflow:Assets written to: blstm_att_word2vec_over/assets\n"
     ]
    },
    {
     "output_type": "stream",
     "name": "stderr",
     "text": [
      "INFO:tensorflow:Assets written to: blstm_att_word2vec_over/assets\n",
      "WARNING:absl:<keras.layers.recurrent.LSTMCell object at 0x7f0686f68b50> has the same name 'LSTMCell' as a built-in Keras object. Consider renaming <class 'keras.layers.recurrent.LSTMCell'> to avoid naming conflicts when loading with `tf.keras.models.load_model`. If renaming is not possible, pass the object in the `custom_objects` parameter of the load function.\n",
      "WARNING:absl:<keras.layers.recurrent.LSTMCell object at 0x7f0686f726d0> has the same name 'LSTMCell' as a built-in Keras object. Consider renaming <class 'keras.layers.recurrent.LSTMCell'> to avoid naming conflicts when loading with `tf.keras.models.load_model`. If renaming is not possible, pass the object in the `custom_objects` parameter of the load function.\n"
     ]
    },
    {
     "output_type": "stream",
     "name": "stdout",
     "text": [
      "INFO:tensorflow:Assets written to: cnn_random/assets\n"
     ]
    },
    {
     "output_type": "stream",
     "name": "stderr",
     "text": [
      "INFO:tensorflow:Assets written to: cnn_random/assets\n"
     ]
    },
    {
     "output_type": "stream",
     "name": "stdout",
     "text": [
      "INFO:tensorflow:Assets written to: cnn_random_over/assets\n"
     ]
    },
    {
     "output_type": "stream",
     "name": "stderr",
     "text": [
      "INFO:tensorflow:Assets written to: cnn_random_over/assets\n"
     ]
    },
    {
     "output_type": "stream",
     "name": "stdout",
     "text": [
      "INFO:tensorflow:Assets written to: cnn_glove/assets\n"
     ]
    },
    {
     "output_type": "stream",
     "name": "stderr",
     "text": [
      "INFO:tensorflow:Assets written to: cnn_glove/assets\n"
     ]
    },
    {
     "output_type": "stream",
     "name": "stdout",
     "text": [
      "INFO:tensorflow:Assets written to: cnn_glove_over/assets\n"
     ]
    },
    {
     "output_type": "stream",
     "name": "stderr",
     "text": [
      "INFO:tensorflow:Assets written to: cnn_glove_over/assets\n"
     ]
    },
    {
     "output_type": "stream",
     "name": "stdout",
     "text": [
      "INFO:tensorflow:Assets written to: cnn_word2vec/assets\n"
     ]
    },
    {
     "output_type": "stream",
     "name": "stderr",
     "text": [
      "INFO:tensorflow:Assets written to: cnn_word2vec/assets\n"
     ]
    },
    {
     "output_type": "stream",
     "name": "stdout",
     "text": [
      "INFO:tensorflow:Assets written to: cnn_word2vec_over/assets\n"
     ]
    },
    {
     "output_type": "stream",
     "name": "stderr",
     "text": [
      "INFO:tensorflow:Assets written to: cnn_word2vec_over/assets\n"
     ]
    }
   ]
  },
  {
   "cell_type": "code",
   "source": [
    "predictions = []\n",
    "\n",
    "for model in model_list:\n",
    "    index = model_list.index(model)\n",
    "    print(model_name_list[index])\n",
    "    model_prediction = indiv_eval(model, X_test, y_test)\n",
    "    predictions.append(model_prediction)"
   ],
   "metadata": {
    "colab": {
     "base_uri": "https://localhost:8080/",
     "height": 1000
    },
    "id": "rT7DN41yniKc",
    "outputId": "8222c5c6-a7ad-4ce2-c364-58f798cc1eb7",
    "executionInfo": {
     "status": "ok",
     "timestamp": 1643233835573,
     "user_tz": -60,
     "elapsed": 15932,
     "user": {
      "displayName": "Benjamin Lee",
      "photoUrl": "https://lh3.googleusercontent.com/a-/AOh14GiH530quYi9k5DQRCxWoJT7cVVCjzMOGgFrkXEr=s64",
      "userId": "05206156339145726048"
     }
    }
   },
   "execution_count": 46,
   "outputs": [
    {
     "output_type": "stream",
     "name": "stdout",
     "text": [
      "lstm_random\n",
      "              precision    recall  f1-score   support\n",
      "\n",
      "           0       0.99      0.58      0.73      1201\n",
      "           1       0.11      0.89      0.20        72\n",
      "\n",
      "    accuracy                           0.60      1273\n",
      "   macro avg       0.55      0.74      0.47      1273\n",
      "weighted avg       0.94      0.60      0.70      1273\n",
      "\n"
     ]
    },
    {
     "output_type": "display_data",
     "data": {
      "image/png": "[encoded data removed]",
      "text/plain": [
       "<Figure size 432x288 with 2 Axes>"
      ]
     },
     "metadata": {
      "needs_background": "light"
     }
    },
    {
     "output_type": "stream",
     "name": "stdout",
     "text": [
      "lstm_random_over\n",
      "              precision    recall  f1-score   support\n",
      "\n",
      "           0       0.97      0.87      0.92      1201\n",
      "           1       0.22      0.61      0.33        72\n",
      "\n",
      "    accuracy                           0.86      1273\n",
      "   macro avg       0.60      0.74      0.62      1273\n",
      "weighted avg       0.93      0.86      0.89      1273\n",
      "\n"
     ]
    },
    {
     "output_type": "display_data",
     "data": {
      "image/png": "[encoded data removed]",
      "text/plain": [
       "<Figure size 432x288 with 2 Axes>"
      ]
     },
     "metadata": {
      "needs_background": "light"
     }
    },
    {
     "output_type": "stream",
     "name": "stdout",
     "text": [
      "lstm_glove\n",
      "              precision    recall  f1-score   support\n",
      "\n",
      "           0       0.97      0.96      0.97      1201\n",
      "           1       0.45      0.50      0.47        72\n",
      "\n",
      "    accuracy                           0.94      1273\n",
      "   macro avg       0.71      0.73      0.72      1273\n",
      "weighted avg       0.94      0.94      0.94      1273\n",
      "\n"
     ]
    },
    {
     "output_type": "display_data",
     "data": {
      "image/png": "[encoded data removed]",
      "text/plain": [
       "<Figure size 432x288 with 2 Axes>"
      ]
     },
     "metadata": {
      "needs_background": "light"
     }
    },
    {
     "output_type": "stream",
     "name": "stdout",
     "text": [
      "lstm_glove_over\n",
      "              precision    recall  f1-score   support\n",
      "\n",
      "           0       0.97      0.96      0.97      1201\n",
      "           1       0.46      0.51      0.49        72\n",
      "\n",
      "    accuracy                           0.94      1273\n",
      "   macro avg       0.72      0.74      0.73      1273\n",
      "weighted avg       0.94      0.94      0.94      1273\n",
      "\n"
     ]
    },
    {
     "output_type": "display_data",
     "data": {
      "image/png": "[encoded data removed]",
      "text/plain": [
       "<Figure size 432x288 with 2 Axes>"
      ]
     },
     "metadata": {
      "needs_background": "light"
     }
    },
    {
     "output_type": "stream",
     "name": "stdout",
     "text": [
      "lstm_word2vec\n",
      "              precision    recall  f1-score   support\n",
      "\n",
      "           0       0.97      0.99      0.98      1201\n",
      "           1       0.66      0.40      0.50        72\n",
      "\n",
      "    accuracy                           0.95      1273\n",
      "   macro avg       0.81      0.70      0.74      1273\n",
      "weighted avg       0.95      0.95      0.95      1273\n",
      "\n"
     ]
    },
    {
     "output_type": "display_data",
     "data": {
      "image/png": "[encoded data removed]",
      "text/plain": [
       "<Figure size 432x288 with 2 Axes>"
      ]
     },
     "metadata": {
      "needs_background": "light"
     }
    },
    {
     "output_type": "stream",
     "name": "stdout",
     "text": [
      "lstm_word2vec_over\n",
      "              precision    recall  f1-score   support\n",
      "\n",
      "           0       0.98      0.97      0.98      1201\n",
      "           1       0.59      0.61      0.60        72\n",
      "\n",
      "    accuracy                           0.95      1273\n",
      "   macro avg       0.78      0.79      0.79      1273\n",
      "weighted avg       0.95      0.95      0.95      1273\n",
      "\n"
     ]
    },
    {
     "output_type": "display_data",
     "data": {
      "image/png": "[encoded data removed]",
      "text/plain": [
       "<Figure size 432x288 with 2 Axes>"
      ]
     },
     "metadata": {
      "needs_background": "light"
     }
    },
    {
     "output_type": "stream",
     "name": "stdout",
     "text": [
      "blstm_random\n",
      "              precision    recall  f1-score   support\n",
      "\n",
      "           0       0.97      0.69      0.81      1201\n",
      "           1       0.11      0.64      0.19        72\n",
      "\n",
      "    accuracy                           0.69      1273\n",
      "   macro avg       0.54      0.67      0.50      1273\n",
      "weighted avg       0.92      0.69      0.77      1273\n",
      "\n"
     ]
    },
    {
     "output_type": "display_data",
     "data": {
      "image/png": "[encoded data removed]",
      "text/plain": [
       "<Figure size 432x288 with 2 Axes>"
      ]
     },
     "metadata": {
      "needs_background": "light"
     }
    },
    {
     "output_type": "stream",
     "name": "stdout",
     "text": [
      "blstm_random_over\n",
      "              precision    recall  f1-score   support\n",
      "\n",
      "           0       0.97      0.96      0.96      1201\n",
      "           1       0.40      0.43      0.42        72\n",
      "\n",
      "    accuracy                           0.93      1273\n",
      "   macro avg       0.68      0.70      0.69      1273\n",
      "weighted avg       0.93      0.93      0.93      1273\n",
      "\n"
     ]
    },
    {
     "output_type": "display_data",
     "data": {
      "image/png": "[encoded data removed]",
      "text/plain": [
       "<Figure size 432x288 with 2 Axes>"
      ]
     },
     "metadata": {
      "needs_background": "light"
     }
    },
    {
     "output_type": "stream",
     "name": "stdout",
     "text": [
      "blstm_glove\n",
      "              precision    recall  f1-score   support\n",
      "\n",
      "           0       0.97      0.99      0.98      1201\n",
      "           1       0.65      0.44      0.53        72\n",
      "\n",
      "    accuracy                           0.96      1273\n",
      "   macro avg       0.81      0.72      0.75      1273\n",
      "weighted avg       0.95      0.96      0.95      1273\n",
      "\n"
     ]
    },
    {
     "output_type": "display_data",
     "data": {
      "image/png": "[encoded data removed]",
      "text/plain": [
       "<Figure size 432x288 with 2 Axes>"
      ]
     },
     "metadata": {
      "needs_background": "light"
     }
    },
    {
     "output_type": "stream",
     "name": "stdout",
     "text": [
      "blstm_glove_over\n",
      "              precision    recall  f1-score   support\n",
      "\n",
      "           0       0.97      0.98      0.97      1201\n",
      "           1       0.57      0.49      0.53        72\n",
      "\n",
      "    accuracy                           0.95      1273\n",
      "   macro avg       0.77      0.73      0.75      1273\n",
      "weighted avg       0.95      0.95      0.95      1273\n",
      "\n"
     ]
    },
    {
     "output_type": "display_data",
     "data": {
      "image/png": "[encoded data removed]",
      "text/plain": [
       "<Figure size 432x288 with 2 Axes>"
      ]
     },
     "metadata": {
      "needs_background": "light"
     }
    },
    {
     "output_type": "stream",
     "name": "stdout",
     "text": [
      "blstm_word2vec\n",
      "              precision    recall  f1-score   support\n",
      "\n",
      "           0       0.98      0.96      0.97      1201\n",
      "           1       0.51      0.65      0.57        72\n",
      "\n",
      "    accuracy                           0.95      1273\n",
      "   macro avg       0.74      0.81      0.77      1273\n",
      "weighted avg       0.95      0.95      0.95      1273\n",
      "\n"
     ]
    },
    {
     "output_type": "display_data",
     "data": {
      "image/png": "[encoded data removed]",
      "text/plain": [
       "<Figure size 432x288 with 2 Axes>"
      ]
     },
     "metadata": {
      "needs_background": "light"
     }
    },
    {
     "output_type": "stream",
     "name": "stdout",
     "text": [
      "blstm_word2vec_over\n",
      "              precision    recall  f1-score   support\n",
      "\n",
      "           0       0.97      0.97      0.97      1201\n",
      "           1       0.54      0.56      0.55        72\n",
      "\n",
      "    accuracy                           0.95      1273\n",
      "   macro avg       0.76      0.76      0.76      1273\n",
      "weighted avg       0.95      0.95      0.95      1273\n",
      "\n"
     ]
    },
    {
     "output_type": "display_data",
     "data": {
      "image/png": "[encoded data removed]",
      "text/plain": [
       "<Figure size 432x288 with 2 Axes>"
      ]
     },
     "metadata": {
      "needs_background": "light"
     }
    },
    {
     "output_type": "stream",
     "name": "stdout",
     "text": [
      "blstm_att_random\n",
      "              precision    recall  f1-score   support\n",
      "\n",
      "           0       0.97      0.95      0.96      1201\n",
      "           1       0.38      0.46      0.41        72\n",
      "\n",
      "    accuracy                           0.93      1273\n",
      "   macro avg       0.67      0.71      0.69      1273\n",
      "weighted avg       0.93      0.93      0.93      1273\n",
      "\n"
     ]
    },
    {
     "output_type": "display_data",
     "data": {
      "image/png": "[encoded data removed]",
      "text/plain": [
       "<Figure size 432x288 with 2 Axes>"
      ]
     },
     "metadata": {
      "needs_background": "light"
     }
    },
    {
     "output_type": "stream",
     "name": "stdout",
     "text": [
      "blstm_att_random_over\n",
      "              precision    recall  f1-score   support\n",
      "\n",
      "           0       0.95      1.00      0.97      1201\n",
      "           1       0.92      0.15      0.26        72\n",
      "\n",
      "    accuracy                           0.95      1273\n",
      "   macro avg       0.93      0.58      0.62      1273\n",
      "weighted avg       0.95      0.95      0.93      1273\n",
      "\n"
     ]
    },
    {
     "output_type": "display_data",
     "data": {
      "image/png": "[encoded data removed]",
      "text/plain": [
       "<Figure size 432x288 with 2 Axes>"
      ]
     },
     "metadata": {
      "needs_background": "light"
     }
    },
    {
     "output_type": "stream",
     "name": "stdout",
     "text": [
      "blstm_att_glove\n",
      "              precision    recall  f1-score   support\n",
      "\n",
      "           0       0.97      0.97      0.97      1201\n",
      "           1       0.48      0.49      0.48        72\n",
      "\n",
      "    accuracy                           0.94      1273\n",
      "   macro avg       0.72      0.73      0.73      1273\n",
      "weighted avg       0.94      0.94      0.94      1273\n",
      "\n"
     ]
    },
    {
     "output_type": "display_data",
     "data": {
      "image/png": "[encoded data removed]",
      "text/plain": [
       "<Figure size 432x288 with 2 Axes>"
      ]
     },
     "metadata": {
      "needs_background": "light"
     }
    },
    {
     "output_type": "stream",
     "name": "stdout",
     "text": [
      "blstm_att_glove_over\n",
      "              precision    recall  f1-score   support\n",
      "\n",
      "           0       0.97      0.97      0.97      1201\n",
      "           1       0.44      0.44      0.44        72\n",
      "\n",
      "    accuracy                           0.94      1273\n",
      "   macro avg       0.70      0.71      0.70      1273\n",
      "weighted avg       0.94      0.94      0.94      1273\n",
      "\n"
     ]
    },
    {
     "output_type": "display_data",
     "data": {
      "image/png": "[encoded data removed]",
      "text/plain": [
       "<Figure size 432x288 with 2 Axes>"
      ]
     },
     "metadata": {
      "needs_background": "light"
     }
    },
    {
     "output_type": "stream",
     "name": "stdout",
     "text": [
      "blstm_att_word2vec\n",
      "              precision    recall  f1-score   support\n",
      "\n",
      "           0       0.97      0.98      0.97      1201\n",
      "           1       0.56      0.49      0.52        72\n",
      "\n",
      "    accuracy                           0.95      1273\n",
      "   macro avg       0.76      0.73      0.75      1273\n",
      "weighted avg       0.95      0.95      0.95      1273\n",
      "\n"
     ]
    },
    {
     "output_type": "display_data",
     "data": {
      "image/png": "[encoded data removed]",
      "text/plain": [
       "<Figure size 432x288 with 2 Axes>"
      ]
     },
     "metadata": {
      "needs_background": "light"
     }
    },
    {
     "output_type": "stream",
     "name": "stdout",
     "text": [
      "blstm_att_word2vec_over\n",
      "              precision    recall  f1-score   support\n",
      "\n",
      "           0       0.97      0.96      0.97      1201\n",
      "           1       0.46      0.58      0.52        72\n",
      "\n",
      "    accuracy                           0.94      1273\n",
      "   macro avg       0.72      0.77      0.74      1273\n",
      "weighted avg       0.95      0.94      0.94      1273\n",
      "\n"
     ]
    },
    {
     "output_type": "display_data",
     "data": {
      "image/png": "[encoded data removed]",
      "text/plain": [
       "<Figure size 432x288 with 2 Axes>"
      ]
     },
     "metadata": {
      "needs_background": "light"
     }
    },
    {
     "output_type": "stream",
     "name": "stdout",
     "text": [
      "cnn_random\n",
      "              precision    recall  f1-score   support\n",
      "\n",
      "           0       0.97      0.94      0.96      1201\n",
      "           1       0.34      0.50      0.41        72\n",
      "\n",
      "    accuracy                           0.92      1273\n",
      "   macro avg       0.66      0.72      0.68      1273\n",
      "weighted avg       0.93      0.92      0.92      1273\n",
      "\n"
     ]
    },
    {
     "output_type": "display_data",
     "data": {
      "image/png": "[encoded data removed]",
      "text/plain": [
       "<Figure size 432x288 with 2 Axes>"
      ]
     },
     "metadata": {
      "needs_background": "light"
     }
    },
    {
     "output_type": "stream",
     "name": "stdout",
     "text": [
      "cnn_random_over\n",
      "              precision    recall  f1-score   support\n",
      "\n",
      "           0       0.97      0.96      0.96      1201\n",
      "           1       0.42      0.44      0.43        72\n",
      "\n",
      "    accuracy                           0.93      1273\n",
      "   macro avg       0.69      0.70      0.70      1273\n",
      "weighted avg       0.94      0.93      0.93      1273\n",
      "\n"
     ]
    },
    {
     "output_type": "display_data",
     "data": {
      "image/png": "[encoded data removed]",
      "text/plain": [
       "<Figure size 432x288 with 2 Axes>"
      ]
     },
     "metadata": {
      "needs_background": "light"
     }
    },
    {
     "output_type": "stream",
     "name": "stdout",
     "text": [
      "cnn_glove\n",
      "              precision    recall  f1-score   support\n",
      "\n",
      "           0       0.96      0.99      0.98      1201\n",
      "           1       0.67      0.31      0.42        72\n",
      "\n",
      "    accuracy                           0.95      1273\n",
      "   macro avg       0.81      0.65      0.70      1273\n",
      "weighted avg       0.94      0.95      0.94      1273\n",
      "\n"
     ]
    },
    {
     "output_type": "display_data",
     "data": {
      "image/png": "[encoded data removed]",
      "text/plain": [
       "<Figure size 432x288 with 2 Axes>"
      ]
     },
     "metadata": {
      "needs_background": "light"
     }
    },
    {
     "output_type": "stream",
     "name": "stdout",
     "text": [
      "cnn_glove_over\n",
      "              precision    recall  f1-score   support\n",
      "\n",
      "           0       0.97      0.98      0.97      1201\n",
      "           1       0.57      0.44      0.50        72\n",
      "\n",
      "    accuracy                           0.95      1273\n",
      "   macro avg       0.77      0.71      0.74      1273\n",
      "weighted avg       0.94      0.95      0.95      1273\n",
      "\n"
     ]
    },
    {
     "output_type": "display_data",
     "data": {
      "image/png": "[encoded data removed]",
      "text/plain": [
       "<Figure size 432x288 with 2 Axes>"
      ]
     },
     "metadata": {
      "needs_background": "light"
     }
    },
    {
     "output_type": "stream",
     "name": "stdout",
     "text": [
      "cnn_word2vec\n",
      "              precision    recall  f1-score   support\n",
      "\n",
      "           0       0.96      1.00      0.98      1201\n",
      "           1       0.90      0.39      0.54        72\n",
      "\n",
      "    accuracy                           0.96      1273\n",
      "   macro avg       0.93      0.69      0.76      1273\n",
      "weighted avg       0.96      0.96      0.96      1273\n",
      "\n"
     ]
    },
    {
     "output_type": "display_data",
     "data": {
      "image/png": "[encoded data removed]",
      "text/plain": [
       "<Figure size 432x288 with 2 Axes>"
      ]
     },
     "metadata": {
      "needs_background": "light"
     }
    },
    {
     "output_type": "stream",
     "name": "stdout",
     "text": [
      "cnn_word2vec_over\n",
      "              precision    recall  f1-score   support\n",
      "\n",
      "           0       0.97      0.97      0.97      1201\n",
      "           1       0.55      0.53      0.54        72\n",
      "\n",
      "    accuracy                           0.95      1273\n",
      "   macro avg       0.76      0.75      0.76      1273\n",
      "weighted avg       0.95      0.95      0.95      1273\n",
      "\n"
     ]
    },
    {
     "output_type": "display_data",
     "data": {
      "image/png": "[encoded data removed]",
      "text/plain": [
       "<Figure size 432x288 with 2 Axes>"
      ]
     },
     "metadata": {
      "needs_background": "light"
     }
    }
   ]
  },
  {
   "cell_type": "code",
   "source": [
    "import joblib\n",
    "joblib.dump(predictions, 'formspring_dl_preds.df')"
   ],
   "metadata": {
    "colab": {
     "base_uri": "https://localhost:8080/"
    },
    "id": "WfHOyDehO9xQ",
    "outputId": "6f6fb69d-85da-4371-8dc4-ab1ff759d994",
    "executionInfo": {
     "status": "ok",
     "timestamp": 1643233972597,
     "user_tz": -60,
     "elapsed": 661,
     "user": {
      "displayName": "Benjamin Lee",
      "photoUrl": "https://lh3.googleusercontent.com/a-/AOh14GiH530quYi9k5DQRCxWoJT7cVVCjzMOGgFrkXEr=s64",
      "userId": "05206156339145726048"
     }
    }
   },
   "execution_count": 47,
   "outputs": [
    {
     "output_type": "execute_result",
     "data": {
      "text/plain": [
       "['formspring_dl_preds.df']"
      ]
     },
     "metadata": {},
     "execution_count": 47
    }
   ]
  },
  {
   "cell_type": "code",
   "source": [
    "multiple_mcnemar(model_name_list, predictions, y_test, 0.01)"
   ],
   "metadata": {
    "id": "i6r0LL-34eeh",
    "colab": {
     "base_uri": "https://localhost:8080/"
    },
    "outputId": "27067f68-a07b-4ee9-b3ba-0abbe6f33679",
    "executionInfo": {
     "status": "ok",
     "timestamp": 1643234021356,
     "user_tz": -60,
     "elapsed": 720,
     "user": {
      "displayName": "Benjamin Lee",
      "photoUrl": "https://lh3.googleusercontent.com/a-/AOh14GiH530quYi9k5DQRCxWoJT7cVVCjzMOGgFrkXEr=s64",
      "userId": "05206156339145726048"
     }
    }
   },
   "execution_count": 48,
   "outputs": [
    {
     "output_type": "stream",
     "name": "stdout",
     "text": [
      "+-------------------------+-------------------------+-----------+-----------+---------+\n",
      "|         Model 1         |         Model 2         |    Chi²   |  p-Value  | Reject? |\n",
      "+-------------------------+-------------------------+-----------+-----------+---------+\n",
      "|       lstm_random       |     lstm_random_over    | 2.87E+02f | 1.89E-64f |   True  |\n",
      "|       lstm_random       |        lstm_glove       | 3.63E+02f | 5.49E-81f |   True  |\n",
      "|       lstm_random       |     lstm_glove_over     | 3.73E+02f | 5.34E-83f |   True  |\n",
      "|       lstm_random       |      lstm_word2vec      | 3.88E+02f | 2.66E-86f |   True  |\n",
      "|       lstm_random       |    lstm_word2vec_over   | 4.05E+02f | 4.10E-90f |   True  |\n",
      "|       lstm_random       |       blstm_random      | 6.14E+01f | 4.56E-15f |   True  |\n",
      "|       lstm_random       |    blstm_random_over    | 3.64E+02f | 4.46E-81f |   True  |\n",
      "|       lstm_random       |       blstm_glove       | 3.92E+02f | 3.67E-87f |   True  |\n",
      "|       lstm_random       |     blstm_glove_over    | 3.92E+02f | 3.39E-87f |   True  |\n",
      "|       lstm_random       |      blstm_word2vec     | 3.83E+02f | 2.30E-85f |   True  |\n",
      "|       lstm_random       |   blstm_word2vec_over   | 3.89E+02f | 1.49E-86f |   True  |\n",
      "|       lstm_random       |     blstm_att_random    | 3.61E+02f | 1.48E-80f |   True  |\n",
      "|       lstm_random       |  blstm_att_random_over  | 3.62E+02f | 1.24E-80f |   True  |\n",
      "|       lstm_random       |     blstm_att_glove     | 3.68E+02f | 4.75E-82f |   True  |\n",
      "|       lstm_random       |   blstm_att_glove_over  | 3.61E+02f | 1.83E-80f |   True  |\n",
      "|       lstm_random       |    blstm_att_word2vec   | 3.85E+02f | 8.90E-86f |   True  |\n",
      "|       lstm_random       | blstm_att_word2vec_over | 3.75E+02f | 1.94E-83f |   True  |\n",
      "|       lstm_random       |        cnn_random       | 3.54E+02f | 7.32E-79f |   True  |\n",
      "|       lstm_random       |     cnn_random_over     | 3.70E+02f | 2.28E-82f |   True  |\n",
      "|       lstm_random       |        cnn_glove        | 3.78E+02f | 4.29E-84f |   True  |\n",
      "|       lstm_random       |      cnn_glove_over     | 3.85E+02f | 1.15E-85f |   True  |\n",
      "|       lstm_random       |       cnn_word2vec      | 4.00E+02f | 5.67E-89f |   True  |\n",
      "|       lstm_random       |    cnn_word2vec_over    | 3.93E+02f | 1.93E-87f |   True  |\n",
      "|     lstm_random_over    |        lstm_glove       | 5.57E+01f | 8.50E-14f |   True  |\n",
      "|     lstm_random_over    |     lstm_glove_over     | 5.73E+01f | 3.72E-14f |   True  |\n",
      "|     lstm_random_over    |      lstm_word2vec      | 8.23E+01f | 1.20E-19f |   True  |\n",
      "|     lstm_random_over    |    lstm_word2vec_over   | 8.52E+01f | 2.69E-20f |   True  |\n",
      "|     lstm_random_over    |       blstm_random      | 1.37E+02f | 9.46E-32f |   True  |\n",
      "|     lstm_random_over    |    blstm_random_over    | 5.92E+01f | 1.43E-14f |   True  |\n",
      "|     lstm_random_over    |       blstm_glove       | 8.41E+01f | 4.73E-20f |   True  |\n",
      "|     lstm_random_over    |     blstm_glove_over    | 7.60E+01f | 2.80E-18f |   True  |\n",
      "|     lstm_random_over    |      blstm_word2vec     | 6.25E+01f | 2.62E-15f |   True  |\n",
      "|     lstm_random_over    |   blstm_word2vec_over   | 7.09E+01f | 3.68E-17f |   True  |\n",
      "|     lstm_random_over    |     blstm_att_random    | 6.02E+01f | 8.53E-15f |   True  |\n",
      "|     lstm_random_over    |  blstm_att_random_over  | 7.36E+01f | 9.58E-18f |   True  |\n",
      "|     lstm_random_over    |     blstm_att_glove     | 5.85E+01f | 2.07E-14f |   True  |\n",
      "|     lstm_random_over    |   blstm_att_glove_over  | 5.49E+01f | 1.28E-13f |   True  |\n",
      "|     lstm_random_over    |    blstm_att_word2vec   | 7.43E+01f | 6.84E-18f |   True  |\n",
      "|     lstm_random_over    | blstm_att_word2vec_over | 5.41E+01f | 1.95E-13f |   True  |\n",
      "|     lstm_random_over    |        cnn_random       | 4.53E+01f | 1.73E-11f |   True  |\n",
      "|     lstm_random_over    |     cnn_random_over     | 6.64E+01f | 3.76E-16f |   True  |\n",
      "|     lstm_random_over    |        cnn_glove        | 8.14E+01f | 1.82E-19f |   True  |\n",
      "|     lstm_random_over    |      cnn_glove_over     | 7.78E+01f | 1.14E-18f |   True  |\n",
      "|     lstm_random_over    |       cnn_word2vec      | 9.96E+01f | 1.90E-23f |   True  |\n",
      "|     lstm_random_over    |    cnn_word2vec_over    | 7.51E+01f | 4.43E-18f |   True  |\n",
      "|        lstm_glove       |     lstm_glove_over     | 1.52E-02f | 9.02E-01f |  False  |\n",
      "|        lstm_glove       |      lstm_word2vec      | 7.60E+00f | 5.83E-03f |   True  |\n",
      "|        lstm_glove       |    lstm_word2vec_over   | 7.27E+00f | 7.00E-03f |   True  |\n",
      "|        lstm_glove       |       blstm_random      | 2.51E+02f | 1.42E-56f |   True  |\n",
      "|        lstm_glove       |    blstm_random_over    | 4.04E-01f | 5.25E-01f |  False  |\n",
      "|        lstm_glove       |       blstm_glove       | 1.03E+01f | 1.33E-03f |   True  |\n",
      "|        lstm_glove       |     blstm_glove_over    | 4.49E+00f | 3.41E-02f |  False  |\n",
      "|        lstm_glove       |      blstm_word2vec     | 1.01E+00f | 3.14E-01f |  False  |\n",
      "|        lstm_glove       |   blstm_word2vec_over   | 2.73E+00f | 9.87E-02f |  False  |\n",
      "|        lstm_glove       |     blstm_att_random    | 1.84E+00f | 1.75E-01f |  False  |\n",
      "|        lstm_glove       |  blstm_att_random_over  | 4.13E+00f | 4.22E-02f |  False  |\n",
      "|        lstm_glove       |     blstm_att_glove     | 2.62E-01f | 6.09E-01f |  False  |\n",
      "|        lstm_glove       |   blstm_att_glove_over  | 0.00E+00f | 1.00E+00f |  False  |\n",
      "|        lstm_glove       |    blstm_att_word2vec   | 3.44E+00f | 6.37E-02f |  False  |\n",
      "|        lstm_glove       | blstm_att_word2vec_over | 0.00E+00f | 1.00E+00f |  False  |\n",
      "|        lstm_glove       |        cnn_random       | 5.49E+00f | 1.92E-02f |  False  |\n",
      "|        lstm_glove       |     cnn_random_over     | 1.07E-01f | 7.43E-01f |  False  |\n",
      "|        lstm_glove       |        cnn_glove        | 6.11E+00f | 1.34E-02f |  False  |\n",
      "|        lstm_glove       |      cnn_glove_over     | 4.02E+00f | 4.50E-02f |  False  |\n",
      "|        lstm_glove       |       cnn_word2vec      | 1.80E+01f | 2.25E-05f |   True  |\n",
      "|        lstm_glove       |    cnn_word2vec_over    | 2.84E+00f | 9.19E-02f |  False  |\n",
      "|     lstm_glove_over     |      lstm_word2vec      | 6.45E+00f | 1.11E-02f |  False  |\n",
      "|     lstm_glove_over     |    lstm_word2vec_over   | 5.14E+00f | 2.33E-02f |  False  |\n",
      "|     lstm_glove_over     |       blstm_random      | 2.53E+02f | 5.41E-57f |   True  |\n",
      "|     lstm_glove_over     |    blstm_random_over    | 7.19E-01f | 3.96E-01f |  False  |\n",
      "|     lstm_glove_over     |       blstm_glove       | 8.16E+00f | 4.27E-03f |   True  |\n",
      "|     lstm_glove_over     |     blstm_glove_over    | 4.17E+00f | 4.11E-02f |  False  |\n",
      "|     lstm_glove_over     |      blstm_word2vec     | 6.45E-01f | 4.22E-01f |  False  |\n",
      "|     lstm_glove_over     |   blstm_word2vec_over   | 2.02E+00f | 1.56E-01f |  False  |\n",
      "|     lstm_glove_over     |     blstm_att_random    | 2.56E+00f | 1.10E-01f |  False  |\n",
      "|     lstm_glove_over     |  blstm_att_random_over  | 3.31E+00f | 6.89E-02f |  False  |\n",
      "|     lstm_glove_over     |     blstm_att_glove     | 7.02E-02f | 7.91E-01f |  False  |\n",
      "|     lstm_glove_over     |   blstm_att_glove_over  | 5.80E-02f | 8.10E-01f |  False  |\n",
      "|     lstm_glove_over     |    blstm_att_word2vec   | 2.36E+00f | 1.24E-01f |  False  |\n",
      "|     lstm_glove_over     | blstm_att_word2vec_over | 0.00E+00f | 1.00E+00f |  False  |\n",
      "|     lstm_glove_over     |        cnn_random       | 5.98E+00f | 1.45E-02f |  False  |\n",
      "|     lstm_glove_over     |     cnn_random_over     | 2.84E-01f | 5.94E-01f |  False  |\n",
      "|     lstm_glove_over     |        cnn_glove        | 4.65E+00f | 3.10E-02f |  False  |\n",
      "|     lstm_glove_over     |      cnn_glove_over     | 2.82E+00f | 9.33E-02f |  False  |\n",
      "|     lstm_glove_over     |       cnn_word2vec      | 1.58E+01f | 7.08E-05f |   True  |\n",
      "|     lstm_glove_over     |    cnn_word2vec_over    | 2.03E+00f | 1.54E-01f |  False  |\n",
      "|      lstm_word2vec      |    lstm_word2vec_over   | 0.00E+00f | 1.00E+00f |  False  |\n",
      "|      lstm_word2vec      |       blstm_random      | 2.83E+02f | 1.37E-63f |   True  |\n",
      "|      lstm_word2vec      |    blstm_random_over    | 1.10E+01f | 8.91E-04f |   True  |\n",
      "|      lstm_word2vec      |       blstm_glove       | 0.00E+00f | 1.00E+00f |  False  |\n",
      "|      lstm_word2vec      |     blstm_glove_over    | 4.10E-01f | 5.22E-01f |  False  |\n",
      "|      lstm_word2vec      |      blstm_word2vec     | 2.02E+00f | 1.56E-01f |  False  |\n",
      "|      lstm_word2vec      |   blstm_word2vec_over   | 1.02E+00f | 3.12E-01f |  False  |\n",
      "|      lstm_word2vec      |     blstm_att_random    | 1.57E+01f | 7.40E-05f |   True  |\n",
      "|      lstm_word2vec      |  blstm_att_random_over  | 2.50E-01f | 6.17E-01f |  False  |\n",
      "|      lstm_word2vec      |     blstm_att_glove     | 4.65E+00f | 3.10E-02f |  False  |\n",
      "|      lstm_word2vec      |   blstm_att_glove_over  | 8.20E+00f | 4.18E-03f |   True  |\n",
      "|      lstm_word2vec      |    blstm_att_word2vec   | 1.09E+00f | 2.96E-01f |  False  |\n",
      "|      lstm_word2vec      | blstm_att_word2vec_over | 6.78E+00f | 9.22E-03f |   True  |\n",
      "|      lstm_word2vec      |        cnn_random       | 2.28E+01f | 1.84E-06f |   True  |\n",
      "|      lstm_word2vec      |     cnn_random_over     | 9.47E+00f | 2.09E-03f |   True  |\n",
      "|      lstm_word2vec      |        cnn_glove        | 1.29E-01f | 7.19E-01f |  False  |\n",
      "|      lstm_word2vec      |      cnn_glove_over     | 5.95E-01f | 4.40E-01f |  False  |\n",
      "|      lstm_word2vec      |       cnn_word2vec      | 3.45E+00f | 6.33E-02f |  False  |\n",
      "|      lstm_word2vec      |    cnn_word2vec_over    | 7.35E-01f | 3.91E-01f |  False  |\n",
      "|    lstm_word2vec_over   |       blstm_random      | 2.94E+02f | 5.63E-66f |   True  |\n",
      "|    lstm_word2vec_over   |    blstm_random_over    | 8.89E+00f | 2.87E-03f |   True  |\n",
      "|    lstm_word2vec_over   |       blstm_glove       | 2.17E-02f | 8.83E-01f |  False  |\n",
      "|    lstm_word2vec_over   |     blstm_glove_over    | 2.14E-01f | 6.43E-01f |  False  |\n",
      "|    lstm_word2vec_over   |      blstm_word2vec     | 1.96E+00f | 1.61E-01f |  False  |\n",
      "|    lstm_word2vec_over   |   blstm_word2vec_over   | 1.03E+00f | 3.10E-01f |  False  |\n",
      "|    lstm_word2vec_over   |     blstm_att_random    | 1.36E+01f | 2.26E-04f |   True  |\n",
      "|    lstm_word2vec_over   |  blstm_att_random_over  | 6.35E-02f | 8.01E-01f |  False  |\n",
      "|    lstm_word2vec_over   |     blstm_att_glove     | 3.63E+00f | 5.68E-02f |  False  |\n",
      "|    lstm_word2vec_over   |   blstm_att_glove_over  | 7.11E+00f | 7.65E-03f |   True  |\n",
      "|    lstm_word2vec_over   |    blstm_att_word2vec   | 7.35E-01f | 3.91E-01f |  False  |\n",
      "|    lstm_word2vec_over   | blstm_att_word2vec_over | 6.94E+00f | 8.42E-03f |   True  |\n",
      "|    lstm_word2vec_over   |        cnn_random       | 2.15E+01f | 3.46E-06f |   True  |\n",
      "|    lstm_word2vec_over   |     cnn_random_over     | 7.48E+00f | 6.24E-03f |   True  |\n",
      "|    lstm_word2vec_over   |        cnn_glove        | 2.17E-02f | 8.83E-01f |  False  |\n",
      "|    lstm_word2vec_over   |      cnn_glove_over     | 3.90E-01f | 5.32E-01f |  False  |\n",
      "|    lstm_word2vec_over   |       cnn_word2vec      | 2.63E+00f | 1.05E-01f |  False  |\n",
      "|    lstm_word2vec_over   |    cnn_word2vec_over    | 5.68E-01f | 4.51E-01f |  False  |\n",
      "|       blstm_random      |    blstm_random_over    | 2.78E+02f | 2.21E-62f |   True  |\n",
      "|       blstm_random      |       blstm_glove       | 2.86E+02f | 4.06E-64f |   True  |\n",
      "|       blstm_random      |     blstm_glove_over    | 2.76E+02f | 6.51E-62f |   True  |\n",
      "|       blstm_random      |      blstm_word2vec     | 2.60E+02f | 2.18E-58f |   True  |\n",
      "|       blstm_random      |   blstm_word2vec_over   | 2.70E+02f | 1.12E-60f |   True  |\n",
      "|       blstm_random      |     blstm_att_random    | 2.69E+02f | 1.63E-60f |   True  |\n",
      "|       blstm_random      |  blstm_att_random_over  | 2.73E+02f | 3.17E-61f |   True  |\n",
      "|       blstm_random      |     blstm_att_glove     | 2.63E+02f | 4.52E-59f |   True  |\n",
      "|       blstm_random      |   blstm_att_glove_over  | 2.58E+02f | 4.22E-58f |   True  |\n",
      "|       blstm_random      |    blstm_att_word2vec   | 2.74E+02f | 1.73E-61f |   True  |\n",
      "|       blstm_random      | blstm_att_word2vec_over | 2.62E+02f | 7.97E-59f |   True  |\n",
      "|       blstm_random      |        cnn_random       | 2.51E+02f | 1.93E-56f |   True  |\n",
      "|       blstm_random      |     cnn_random_over     | 2.73E+02f | 2.78E-61f |   True  |\n",
      "|       blstm_random      |        cnn_glove        | 2.76E+02f | 4.93E-62f |   True  |\n",
      "|       blstm_random      |      cnn_glove_over     | 2.78E+02f | 2.58E-62f |   True  |\n",
      "|       blstm_random      |       cnn_word2vec      | 3.05E+02f | 3.24E-68f |   True  |\n",
      "|       blstm_random      |    cnn_word2vec_over    | 2.78E+02f | 2.05E-62f |   True  |\n",
      "|    blstm_random_over    |       blstm_glove       | 1.20E+01f | 5.28E-04f |   True  |\n",
      "|    blstm_random_over    |     blstm_glove_over    | 6.78E+00f | 9.21E-03f |   True  |\n",
      "|    blstm_random_over    |      blstm_word2vec     | 2.49E+00f | 1.15E-01f |  False  |\n",
      "|    blstm_random_over    |   blstm_word2vec_over   | 4.60E+00f | 3.20E-02f |  False  |\n",
      "|    blstm_random_over    |     blstm_att_random    | 1.33E+00f | 2.48E-01f |  False  |\n",
      "|    blstm_random_over    |  blstm_att_random_over  | 8.35E+00f | 3.86E-03f |   True  |\n",
      "|    blstm_random_over    |     blstm_att_glove     | 1.51E+00f | 2.19E-01f |  False  |\n",
      "|    blstm_random_over    |   blstm_att_glove_over  | 2.84E-01f | 5.94E-01f |  False  |\n",
      "|    blstm_random_over    |    blstm_att_word2vec   | 5.38E+00f | 2.04E-02f |  False  |\n",
      "|    blstm_random_over    | blstm_att_word2vec_over | 5.00E-01f | 4.80E-01f |  False  |\n",
      "|    blstm_random_over    |        cnn_random       | 5.78E+00f | 1.62E-02f |  False  |\n",
      "|    blstm_random_over    |     cnn_random_over     | 1.03E-01f | 7.49E-01f |  False  |\n",
      "|    blstm_random_over    |        cnn_glove        | 8.45E+00f | 3.66E-03f |   True  |\n",
      "|    blstm_random_over    |      cnn_glove_over     | 5.98E+00f | 1.45E-02f |  False  |\n",
      "|    blstm_random_over    |       cnn_word2vec      | 2.30E+01f | 1.58E-06f |   True  |\n",
      "|    blstm_random_over    |    cnn_word2vec_over    | 5.01E+00f | 2.52E-02f |  False  |\n",
      "|       blstm_glove       |     blstm_glove_over    | 6.58E-01f | 4.17E-01f |  False  |\n",
      "|       blstm_glove       |      blstm_word2vec     | 2.15E+00f | 1.43E-01f |  False  |\n",
      "|       blstm_glove       |   blstm_word2vec_over   | 1.42E+00f | 2.33E-01f |  False  |\n",
      "|       blstm_glove       |     blstm_att_random    | 1.68E+01f | 4.09E-05f |   True  |\n",
      "|       blstm_glove       |  blstm_att_random_over  | 4.10E-01f | 5.22E-01f |  False  |\n",
      "|       blstm_glove       |     blstm_att_glove     | 6.57E+00f | 1.04E-02f |  False  |\n",
      "|       blstm_glove       |   blstm_att_glove_over  | 1.06E+01f | 1.14E-03f |   True  |\n",
      "|       blstm_glove       |    blstm_att_word2vec   | 1.11E+00f | 2.91E-01f |  False  |\n",
      "|       blstm_glove       | blstm_att_word2vec_over | 7.11E+00f | 7.65E-03f |   True  |\n",
      "|       blstm_glove       |        cnn_random       | 2.35E+01f | 1.25E-06f |   True  |\n",
      "|       blstm_glove       |     cnn_random_over     | 1.01E+01f | 1.49E-03f |   True  |\n",
      "|       blstm_glove       |        cnn_glove        | 3.21E-01f | 5.71E-01f |  False  |\n",
      "|       blstm_glove       |      cnn_glove_over     | 9.23E-01f | 3.37E-01f |  False  |\n",
      "|       blstm_glove       |       cnn_word2vec      | 2.70E+00f | 1.00E-01f |  False  |\n",
      "|       blstm_glove       |    cnn_word2vec_over    | 9.80E-01f | 3.22E-01f |  False  |\n",
      "|     blstm_glove_over    |      blstm_word2vec     | 5.71E-01f | 4.50E-01f |  False  |\n",
      "|     blstm_glove_over    |   blstm_word2vec_over   | 9.30E-02f | 7.60E-01f |  False  |\n",
      "|     blstm_glove_over    |     blstm_att_random    | 1.11E+01f | 8.58E-04f |   True  |\n",
      "|     blstm_glove_over    |  blstm_att_random_over  | 0.00E+00f | 1.00E+00f |  False  |\n",
      "|     blstm_glove_over    |     blstm_att_glove     | 2.42E+00f | 1.20E-01f |  False  |\n",
      "|     blstm_glove_over    |   blstm_att_glove_over  | 5.35E+00f | 2.07E-02f |  False  |\n",
      "|     blstm_glove_over    |    blstm_att_word2vec   | 2.50E-02f | 8.74E-01f |  False  |\n",
      "|     blstm_glove_over    | blstm_att_word2vec_over | 3.52E+00f | 6.08E-02f |  False  |\n",
      "|     blstm_glove_over    |        cnn_random       | 1.65E+01f | 4.92E-05f |   True  |\n",
      "|     blstm_glove_over    |     cnn_random_over     | 5.33E+00f | 2.09E-02f |  False  |\n",
      "|     blstm_glove_over    |        cnn_glove        | 2.78E-02f | 8.68E-01f |  False  |\n",
      "|     blstm_glove_over    |      cnn_glove_over     | 0.00E+00f | 1.00E+00f |  False  |\n",
      "|     blstm_glove_over    |       cnn_word2vec      | 5.36E+00f | 2.06E-02f |  False  |\n",
      "|     blstm_glove_over    |    cnn_word2vec_over    | 2.08E-02f | 8.85E-01f |  False  |\n",
      "|      blstm_word2vec     |   blstm_word2vec_over   | 1.88E-01f | 6.65E-01f |  False  |\n",
      "|      blstm_word2vec     |     blstm_att_random    | 4.81E+00f | 2.83E-02f |  False  |\n",
      "|      blstm_word2vec     |  blstm_att_random_over  | 5.98E-01f | 4.40E-01f |  False  |\n",
      "|      blstm_word2vec     |     blstm_att_glove     | 2.08E-01f | 6.49E-01f |  False  |\n",
      "|      blstm_word2vec     |   blstm_att_glove_over  | 1.20E+00f | 2.72E-01f |  False  |\n",
      "|      blstm_word2vec     |    blstm_att_word2vec   | 3.40E-01f | 5.60E-01f |  False  |\n",
      "|      blstm_word2vec     | blstm_att_word2vec_over | 9.01E-01f | 3.42E-01f |  False  |\n",
      "|      blstm_word2vec     |        cnn_random       | 9.71E+00f | 1.83E-03f |   True  |\n",
      "|      blstm_word2vec     |     cnn_random_over     | 1.66E+00f | 1.98E-01f |  False  |\n",
      "|      blstm_word2vec     |        cnn_glove        | 9.55E-01f | 3.28E-01f |  False  |\n",
      "|      blstm_word2vec     |      cnn_glove_over     | 3.91E-01f | 5.32E-01f |  False  |\n",
      "|      blstm_word2vec     |       cnn_word2vec      | 7.45E+00f | 6.36E-03f |   True  |\n",
      "|      blstm_word2vec     |    cnn_word2vec_over    | 2.39E-01f | 6.25E-01f |  False  |\n",
      "|   blstm_word2vec_over   |     blstm_att_random    | 8.48E+00f | 3.60E-03f |   True  |\n",
      "|   blstm_word2vec_over   |  blstm_att_random_over  | 1.45E-01f | 7.03E-01f |  False  |\n",
      "|   blstm_word2vec_over   |     blstm_att_glove     | 1.12E+00f | 2.89E-01f |  False  |\n",
      "|   blstm_word2vec_over   |   blstm_att_glove_over  | 3.21E+00f | 7.31E-02f |  False  |\n",
      "|   blstm_word2vec_over   |    blstm_att_word2vec   | 0.00E+00f | 1.00E+00f |  False  |\n",
      "|   blstm_word2vec_over   | blstm_att_word2vec_over | 2.62E+00f | 1.06E-01f |  False  |\n",
      "|   blstm_word2vec_over   |        cnn_random       | 1.35E+01f | 2.39E-04f |   True  |\n",
      "|   blstm_word2vec_over   |     cnn_random_over     | 3.52E+00f | 6.05E-02f |  False  |\n",
      "|   blstm_word2vec_over   |        cnn_glove        | 3.40E-01f | 5.60E-01f |  False  |\n",
      "|   blstm_word2vec_over   |      cnn_glove_over     | 2.38E-02f | 8.77E-01f |  False  |\n",
      "|   blstm_word2vec_over   |       cnn_word2vec      | 6.61E+00f | 1.01E-02f |  False  |\n",
      "|   blstm_word2vec_over   |    cnn_word2vec_over    | 0.00E+00f | 1.00E+00f |  False  |\n",
      "|     blstm_att_random    |  blstm_att_random_over  | 1.26E+01f | 3.77E-04f |   True  |\n",
      "|     blstm_att_random    |     blstm_att_glove     | 3.64E+00f | 5.64E-02f |  False  |\n",
      "|     blstm_att_random    |   blstm_att_glove_over  | 1.66E+00f | 1.98E-01f |  False  |\n",
      "|     blstm_att_random    |    blstm_att_word2vec   | 9.01E+00f | 2.68E-03f |   True  |\n",
      "|     blstm_att_random    | blstm_att_word2vec_over | 1.94E+00f | 1.64E-01f |  False  |\n",
      "|     blstm_att_random    |        cnn_random       | 2.33E+00f | 1.27E-01f |  False  |\n",
      "|     blstm_att_random    |     cnn_random_over     | 2.02E+00f | 1.55E-01f |  False  |\n",
      "|     blstm_att_random    |        cnn_glove        | 1.33E+01f | 2.66E-04f |   True  |\n",
      "|     blstm_att_random    |      cnn_glove_over     | 1.05E+01f | 1.19E-03f |   True  |\n",
      "|     blstm_att_random    |       cnn_word2vec      | 2.98E+01f | 4.78E-08f |   True  |\n",
      "|     blstm_att_random    |    cnn_word2vec_over    | 8.62E+00f | 3.33E-03f |   True  |\n",
      "|  blstm_att_random_over  |     blstm_att_glove     | 2.29E+00f | 1.31E-01f |  False  |\n",
      "|  blstm_att_random_over  |   blstm_att_glove_over  | 5.31E+00f | 2.12E-02f |  False  |\n",
      "|  blstm_att_random_over  |    blstm_att_word2vec   | 7.55E-02f | 7.84E-01f |  False  |\n",
      "|  blstm_att_random_over  | blstm_att_word2vec_over | 3.24E+00f | 7.18E-02f |  False  |\n",
      "|  blstm_att_random_over  |        cnn_random       | 1.90E+01f | 1.33E-05f |   True  |\n",
      "|  blstm_att_random_over  |     cnn_random_over     | 6.89E+00f | 8.66E-03f |   True  |\n",
      "|  blstm_att_random_over  |        cnn_glove        | 0.00E+00f | 1.00E+00f |  False  |\n",
      "|  blstm_att_random_over  |      cnn_glove_over     | 2.17E-02f | 8.83E-01f |  False  |\n",
      "|  blstm_att_random_over  |       cnn_word2vec      | 8.52E+00f | 3.51E-03f |   True  |\n",
      "|  blstm_att_random_over  |    cnn_word2vec_over    | 7.02E-02f | 7.91E-01f |  False  |\n",
      "|     blstm_att_glove     |   blstm_att_glove_over  | 3.91E-01f | 5.32E-01f |  False  |\n",
      "|     blstm_att_glove     |    blstm_att_word2vec   | 1.50E+00f | 2.21E-01f |  False  |\n",
      "|     blstm_att_glove     | blstm_att_word2vec_over | 1.25E-01f | 7.24E-01f |  False  |\n",
      "|     blstm_att_glove     |        cnn_random       | 7.93E+00f | 4.85E-03f |   True  |\n",
      "|     blstm_att_glove     |     cnn_random_over     | 8.31E-01f | 3.62E-01f |  False  |\n",
      "|     blstm_att_glove     |        cnn_glove        | 2.91E+00f | 8.78E-02f |  False  |\n",
      "|     blstm_att_glove     |      cnn_glove_over     | 1.69E+00f | 1.93E-01f |  False  |\n",
      "|     blstm_att_glove     |       cnn_word2vec      | 1.35E+01f | 2.39E-04f |   True  |\n",
      "|     blstm_att_glove     |    cnn_word2vec_over    | 1.35E+00f | 2.45E-01f |  False  |\n",
      "|   blstm_att_glove_over  |    blstm_att_word2vec   | 3.31E+00f | 6.89E-02f |  False  |\n",
      "|   blstm_att_glove_over  | blstm_att_word2vec_over | 1.39E-02f | 9.06E-01f |  False  |\n",
      "|   blstm_att_glove_over  |        cnn_random       | 4.99E+00f | 2.55E-02f |  False  |\n",
      "|   blstm_att_glove_over  |     cnn_random_over     | 4.94E-02f | 8.24E-01f |  False  |\n",
      "|   blstm_att_glove_over  |        cnn_glove        | 6.94E+00f | 8.42E-03f |   True  |\n",
      "|   blstm_att_glove_over  |      cnn_glove_over     | 4.65E+00f | 3.10E-02f |  False  |\n",
      "|   blstm_att_glove_over  |       cnn_word2vec      | 1.81E+01f | 2.04E-05f |   True  |\n",
      "|   blstm_att_glove_over  |    cnn_word2vec_over    | 3.52E+00f | 6.08E-02f |  False  |\n",
      "|    blstm_att_word2vec   | blstm_att_word2vec_over | 3.52E+00f | 6.06E-02f |  False  |\n",
      "|    blstm_att_word2vec   |        cnn_random       | 1.52E+01f | 9.62E-05f |   True  |\n",
      "|    blstm_att_word2vec   |     cnn_random_over     | 4.21E+00f | 4.02E-02f |  False  |\n",
      "|    blstm_att_word2vec   |        cnn_glove        | 2.25E-01f | 6.35E-01f |  False  |\n",
      "|    blstm_att_word2vec   |      cnn_glove_over     | 0.00E+00f | 1.00E+00f |  False  |\n",
      "|    blstm_att_word2vec   |       cnn_word2vec      | 8.03E+00f | 4.61E-03f |   True  |\n",
      "|    blstm_att_word2vec   |    cnn_word2vec_over    | 2.27E-02f | 8.80E-01f |  False  |\n",
      "| blstm_att_word2vec_over |        cnn_random       | 5.39E+00f | 2.03E-02f |  False  |\n",
      "| blstm_att_word2vec_over |     cnn_random_over     | 1.62E-01f | 6.88E-01f |  False  |\n",
      "| blstm_att_word2vec_over |        cnn_glove        | 4.52E+00f | 3.36E-02f |  False  |\n",
      "| blstm_att_word2vec_over |      cnn_glove_over     | 3.11E+00f | 7.78E-02f |  False  |\n",
      "| blstm_att_word2vec_over |       cnn_word2vec      | 1.50E+01f | 1.07E-04f |   True  |\n",
      "| blstm_att_word2vec_over |    cnn_word2vec_over    | 2.73E+00f | 9.87E-02f |  False  |\n",
      "|        cnn_random       |     cnn_random_over     | 1.38E+01f | 2.04E-04f |   True  |\n",
      "|        cnn_random       |        cnn_glove        | 1.93E+01f | 1.14E-05f |   True  |\n",
      "|        cnn_random       |      cnn_glove_over     | 1.58E+01f | 6.89E-05f |   True  |\n",
      "|        cnn_random       |       cnn_word2vec      | 3.69E+01f | 1.23E-09f |   True  |\n",
      "|        cnn_random       |    cnn_word2vec_over    | 1.43E+01f | 1.52E-04f |   True  |\n",
      "|     cnn_random_over     |        cnn_glove        | 7.01E+00f | 8.09E-03f |   True  |\n",
      "|     cnn_random_over     |      cnn_glove_over     | 4.75E+00f | 2.93E-02f |  False  |\n",
      "|     cnn_random_over     |       cnn_word2vec      | 2.12E+01f | 4.04E-06f |   True  |\n",
      "|     cnn_random_over     |    cnn_word2vec_over    | 3.81E+00f | 5.09E-02f |  False  |\n",
      "|        cnn_glove        |      cnn_glove_over     | 1.60E-01f | 6.89E-01f |  False  |\n",
      "|        cnn_glove        |       cnn_word2vec      | 8.45E+00f | 3.65E-03f |   True  |\n",
      "|        cnn_glove        |    cnn_word2vec_over    | 2.50E-01f | 6.17E-01f |  False  |\n",
      "|      cnn_glove_over     |       cnn_word2vec      | 7.31E+00f | 6.84E-03f |   True  |\n",
      "|      cnn_glove_over     |    cnn_word2vec_over    | 0.00E+00f | 1.00E+00f |  False  |\n",
      "|       cnn_word2vec      |    cnn_word2vec_over    | 7.61E+00f | 5.82E-03f |   True  |\n",
      "+-------------------------+-------------------------+-----------+-----------+---------+\n"
     ]
    }
   ]
  }
 ],
 "metadata": {
  "kernelspec": {
   "display_name": "Python 3",
   "language": "python",
   "name": "python3"
  },
  "language_info": {
   "codemirror_mode": {
    "name": "ipython",
    "version": 2
   },
   "file_extension": ".py",
   "mimetype": "text/x-python",
   "name": "python",
   "nbconvert_exporter": "python",
   "pygments_lexer": "ipython2",
   "version": "2.7.6"
  },
  "colab": {
   "name": "Copy of formspring_bl_deeplearning.ipynb",
   "provenance": [
    {
     "file_id": "11KEj0Ni7QAhKtI1cs9aMorJ3-kqNnLKO",
     "timestamp": 1643234038252
    }
   ],
   "collapsed_sections": [],
   "machine_shape": "hm"
  },
  "accelerator": "GPU"
 },
 "nbformat": 4,
 "nbformat_minor": 0
}