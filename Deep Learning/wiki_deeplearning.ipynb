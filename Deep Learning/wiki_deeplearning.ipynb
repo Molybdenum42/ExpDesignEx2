{
 "cells": [
  {
   "cell_type": "code",
   "source": [
    "!pip install auto-sklearn==0.14.3\n",
    "# run this first, then restart runtime, then run everything below"
   ],
   "metadata": {
    "colab": {
     "base_uri": "https://localhost:8080/"
    },
    "id": "XAZUU10D4hXd",
    "executionInfo": {
     "status": "ok",
     "timestamp": 1643279762457,
     "user_tz": -60,
     "elapsed": 3663,
     "user": {
      "displayName": "Benjamin Lee",
      "photoUrl": "https://lh3.googleusercontent.com/a-/AOh14GiH530quYi9k5DQRCxWoJT7cVVCjzMOGgFrkXEr=s64",
      "userId": "05206156339145726048"
     }
    },
    "outputId": "a9252cc8-a8d6-4522-f88c-d477f9efe72b"
   },
   "execution_count": 2,
   "outputs": [
    {
     "output_type": "stream",
     "name": "stdout",
     "text": [
      "Requirement already satisfied: auto-sklearn==0.14.3 in /usr/local/lib/python3.7/dist-packages (0.14.3)\n",
      "Requirement already satisfied: scipy>=1.7.0 in /usr/local/lib/python3.7/dist-packages (from auto-sklearn==0.14.3) (1.7.3)\n",
      "Requirement already satisfied: numpy>=1.9.0 in /usr/local/lib/python3.7/dist-packages (from auto-sklearn==0.14.3) (1.19.5)\n",
      "Requirement already satisfied: dask>=2021.12 in /usr/local/lib/python3.7/dist-packages (from auto-sklearn==0.14.3) (2022.1.0)\n",
      "Requirement already satisfied: distributed>=2012.12 in /usr/local/lib/python3.7/dist-packages (from auto-sklearn==0.14.3) (2022.1.0)\n",
      "Requirement already satisfied: pyyaml in /usr/local/lib/python3.7/dist-packages (from auto-sklearn==0.14.3) (6.0)\n",
      "Requirement already satisfied: threadpoolctl in /usr/local/lib/python3.7/dist-packages (from auto-sklearn==0.14.3) (3.0.0)\n",
      "Requirement already satisfied: ConfigSpace<0.5,>=0.4.14 in /usr/local/lib/python3.7/dist-packages (from auto-sklearn==0.14.3) (0.4.20)\n",
      "Requirement already satisfied: pynisher>=0.6.3 in /usr/local/lib/python3.7/dist-packages (from auto-sklearn==0.14.3) (0.6.4)\n",
      "Requirement already satisfied: pandas>=1.0 in /usr/local/lib/python3.7/dist-packages (from auto-sklearn==0.14.3) (1.1.5)\n",
      "Requirement already satisfied: scikit-learn<0.25.0,>=0.24.0 in /usr/local/lib/python3.7/dist-packages (from auto-sklearn==0.14.3) (0.24.2)\n",
      "Requirement already satisfied: setuptools in /usr/local/lib/python3.7/dist-packages (from auto-sklearn==0.14.3) (57.4.0)\n",
      "Requirement already satisfied: typing-extensions in /usr/local/lib/python3.7/dist-packages (from auto-sklearn==0.14.3) (3.10.0.2)\n",
      "Requirement already satisfied: pyrfr<0.9,>=0.8.1 in /usr/local/lib/python3.7/dist-packages (from auto-sklearn==0.14.3) (0.8.2)\n",
      "Requirement already satisfied: joblib in /usr/local/lib/python3.7/dist-packages (from auto-sklearn==0.14.3) (1.1.0)\n",
      "Requirement already satisfied: liac-arff in /usr/local/lib/python3.7/dist-packages (from auto-sklearn==0.14.3) (2.5.0)\n",
      "Requirement already satisfied: smac>=0.14 in /usr/local/lib/python3.7/dist-packages (from auto-sklearn==0.14.3) (1.1.1)\n",
      "Requirement already satisfied: pyparsing in /usr/local/lib/python3.7/dist-packages (from ConfigSpace<0.5,>=0.4.14->auto-sklearn==0.14.3) (3.0.7)\n",
      "Requirement already satisfied: cython in /usr/local/lib/python3.7/dist-packages (from ConfigSpace<0.5,>=0.4.14->auto-sklearn==0.14.3) (0.29.26)\n",
      "Requirement already satisfied: partd>=0.3.10 in /usr/local/lib/python3.7/dist-packages (from dask>=2021.12->auto-sklearn==0.14.3) (1.2.0)\n",
      "Requirement already satisfied: toolz>=0.8.2 in /usr/local/lib/python3.7/dist-packages (from dask>=2021.12->auto-sklearn==0.14.3) (0.11.2)\n",
      "Requirement already satisfied: packaging>=20.0 in /usr/local/lib/python3.7/dist-packages (from dask>=2021.12->auto-sklearn==0.14.3) (21.3)\n",
      "Requirement already satisfied: cloudpickle>=1.1.1 in /usr/local/lib/python3.7/dist-packages (from dask>=2021.12->auto-sklearn==0.14.3) (2.0.0)\n",
      "Requirement already satisfied: fsspec>=0.6.0 in /usr/local/lib/python3.7/dist-packages (from dask>=2021.12->auto-sklearn==0.14.3) (2022.1.0)\n",
      "Requirement already satisfied: sortedcontainers!=2.0.0,!=2.0.1 in /usr/local/lib/python3.7/dist-packages (from distributed>=2012.12->auto-sklearn==0.14.3) (2.4.0)\n",
      "Requirement already satisfied: psutil>=5.0 in /usr/local/lib/python3.7/dist-packages (from distributed>=2012.12->auto-sklearn==0.14.3) (5.4.8)\n",
      "Requirement already satisfied: msgpack>=0.6.0 in /usr/local/lib/python3.7/dist-packages (from distributed>=2012.12->auto-sklearn==0.14.3) (1.0.3)\n",
      "Requirement already satisfied: tblib>=1.6.0 in /usr/local/lib/python3.7/dist-packages (from distributed>=2012.12->auto-sklearn==0.14.3) (1.7.0)\n",
      "Requirement already satisfied: click>=6.6 in /usr/local/lib/python3.7/dist-packages (from distributed>=2012.12->auto-sklearn==0.14.3) (7.1.2)\n",
      "Requirement already satisfied: zict>=0.1.3 in /usr/local/lib/python3.7/dist-packages (from distributed>=2012.12->auto-sklearn==0.14.3) (2.0.0)\n",
      "Requirement already satisfied: jinja2 in /usr/local/lib/python3.7/dist-packages (from distributed>=2012.12->auto-sklearn==0.14.3) (2.11.3)\n",
      "Requirement already satisfied: tornado>=5 in /usr/local/lib/python3.7/dist-packages (from distributed>=2012.12->auto-sklearn==0.14.3) (5.1.1)\n",
      "Requirement already satisfied: python-dateutil>=2.7.3 in /usr/local/lib/python3.7/dist-packages (from pandas>=1.0->auto-sklearn==0.14.3) (2.8.2)\n",
      "Requirement already satisfied: pytz>=2017.2 in /usr/local/lib/python3.7/dist-packages (from pandas>=1.0->auto-sklearn==0.14.3) (2018.9)\n",
      "Requirement already satisfied: locket in /usr/local/lib/python3.7/dist-packages (from partd>=0.3.10->dask>=2021.12->auto-sklearn==0.14.3) (0.2.1)\n",
      "Requirement already satisfied: six>=1.5 in /usr/local/lib/python3.7/dist-packages (from python-dateutil>=2.7.3->pandas>=1.0->auto-sklearn==0.14.3) (1.15.0)\n",
      "Requirement already satisfied: emcee>=3.0.0 in /usr/local/lib/python3.7/dist-packages (from smac>=0.14->auto-sklearn==0.14.3) (3.1.1)\n",
      "Requirement already satisfied: heapdict in /usr/local/lib/python3.7/dist-packages (from zict>=0.1.3->distributed>=2012.12->auto-sklearn==0.14.3) (1.0.1)\n",
      "Requirement already satisfied: MarkupSafe>=0.23 in /usr/local/lib/python3.7/dist-packages (from jinja2->distributed>=2012.12->auto-sklearn==0.14.3) (2.0.1)\n"
     ]
    }
   ]
  },
  {
   "cell_type": "code",
   "execution_count": 3,
   "metadata": {
    "collapsed": true,
    "colab": {
     "base_uri": "https://localhost:8080/"
    },
    "id": "xW6U8Bqkmseh",
    "outputId": "61537935-5469-4d6f-e1b7-14ac1a965b3c",
    "executionInfo": {
     "status": "ok",
     "timestamp": 1643279767744,
     "user_tz": -60,
     "elapsed": 1667,
     "user": {
      "displayName": "Benjamin Lee",
      "photoUrl": "https://lh3.googleusercontent.com/a-/AOh14GiH530quYi9k5DQRCxWoJT7cVVCjzMOGgFrkXEr=s64",
      "userId": "05206156339145726048"
     }
    }
   },
   "outputs": [
    {
     "output_type": "stream",
     "name": "stdout",
     "text": [
      "[nltk_data] Downloading package stopwords to /root/nltk_data...\n",
      "[nltk_data]   Package stopwords is already up-to-date!\n"
     ]
    }
   ],
   "source": [
    "import numpy as np\n",
    "import pandas as pd\n",
    "import pickle\n",
    "from matplotlib import pyplot as plt\n",
    "import seaborn as sns\n",
    "\n",
    "import string\n",
    "from urllib.parse import urlparse\n",
    "from nltk.corpus import stopwords\n",
    "import nltk\n",
    "nltk.download('stopwords')\n",
    "\n",
    "from sklearn.metrics import confusion_matrix, classification_report\n",
    "from sklearn.model_selection import train_test_split\n",
    "from tensorflow.keras import preprocessing as tfkp\n",
    "from tensorflow.keras.utils import to_categorical\n",
    "\n",
    "import gensim.downloader as api\n",
    "from imblearn.over_sampling import RandomOverSampler\n",
    "\n",
    "#if on Google Colab, put the DL_model files in root\n",
    "from DL_models import lstm_keras, cnn_keras, blstm, blstm_att"
   ]
  },
  {
   "cell_type": "code",
   "source": [
    "from google.colab import drive\n",
    "drive.mount('/content/drive')"
   ],
   "metadata": {
    "id": "x0Up6ytCmwaS",
    "colab": {
     "base_uri": "https://localhost:8080/"
    },
    "executionInfo": {
     "status": "ok",
     "timestamp": 1643235768640,
     "user_tz": -60,
     "elapsed": 63322,
     "user": {
      "displayName": "Benjamin Lee",
      "photoUrl": "https://lh3.googleusercontent.com/a-/AOh14GiH530quYi9k5DQRCxWoJT7cVVCjzMOGgFrkXEr=s64",
      "userId": "05206156339145726048"
     }
    },
    "outputId": "a70da1b6-60bb-46e2-8671-3cb0939294c1"
   },
   "execution_count": null,
   "outputs": [
    {
     "output_type": "stream",
     "name": "stdout",
     "text": [
      "Mounted at /content/drive\n"
     ]
    }
   ]
  },
  {
   "cell_type": "code",
   "execution_count": 4,
   "outputs": [],
   "source": [
    "def indiv_eval(model, X_test, y_test, target_names=['Normal', 'Cyberbullying']):\n",
    "    preds_probs = model.predict(X_test)\n",
    "    preds = [np.argmax(p) for p in preds_probs]\n",
    "\n",
    "    print(classification_report(y_test, preds))\n",
    "\n",
    "    plt.figure()\n",
    "    sns.heatmap(confusion_matrix(y_test, preds, normalize='true'), fmt='.2%', annot=True ,linewidths=.5,cmap='YlOrRd', annot_kws={\"fontsize\":10}, yticklabels=target_names, xticklabels=target_names)\n",
    "    plt.xticks(rotation=45, ha='right')\n",
    "\n",
    "    plt.show()\n",
    "\n",
    "    return preds"
   ],
   "metadata": {
    "pycharm": {
     "name": "#%%\n"
    },
    "id": "gVlUfZVNmsew",
    "executionInfo": {
     "status": "ok",
     "timestamp": 1643279769122,
     "user_tz": -60,
     "elapsed": 255,
     "user": {
      "displayName": "Benjamin Lee",
      "photoUrl": "https://lh3.googleusercontent.com/a-/AOh14GiH530quYi9k5DQRCxWoJT7cVVCjzMOGgFrkXEr=s64",
      "userId": "05206156339145726048"
     }
    }
   }
  },
  {
   "cell_type": "code",
   "source": [
    "from mlxtend.evaluate import cochrans_q\n",
    "from mlxtend.evaluate import mcnemar\n",
    "from mlxtend.evaluate import mcnemar_tables\n",
    "from prettytable import PrettyTable\n",
    "\n",
    "def model_compare(key, model_list):\n",
    "\n",
    "    two_models = key.split(' vs ')\n",
    "    first_model = int(two_models[0].split('_')[-1])\n",
    "    second_model = int(two_models[1].split('_')[-1])\n",
    "\n",
    "    return model_list[first_model], model_list[second_model]\n",
    "\n",
    "def multiple_mcnemar(model_name_list, preds_array, y, sig_level):\n",
    "\n",
    "    # creates the 'correct' value for use in the McNemar table\n",
    "    y_true = np.array([1] * len(y))\n",
    "\n",
    "    converted_pred_array = []\n",
    "\n",
    "    for i in range(len(preds_array)):\n",
    "        converted_pred_array.append((preds_array[i]==y).astype(int))\n",
    "\n",
    "    '''q, p_value = cochrans_q(y_true,*converted_pred_array)\n",
    "\n",
    "    significance = p_value < sig_level\n",
    "\n",
    "    scientific_notation=\"{:.2e}\".format(p_value)\n",
    "\n",
    "    print(f\"-----Cochran's Q Test-----\")\n",
    "    print(f'============================')\n",
    "    print(f'Q-Score         {q:.4f}')\n",
    "    print(f'p-value         {scientific_notation}')\n",
    "    print(f'Reject? ({1-sig_level:.0%})      {significance}')\n",
    "    print('\\n')'''\n",
    "\n",
    "    mctable = mcnemar_tables(y_true, *converted_pred_array)\n",
    "\n",
    "    pairwise_table = PrettyTable()\n",
    "    pairwise_table.field_names = ['Model 1', 'Model 2', 'Chi²', 'p-Value', 'Reject?']\n",
    "\n",
    "    for key, value in mctable.items():\n",
    "        chi2, p = mcnemar(ary=value, corrected=True)\n",
    "        first_model, second_model = model_compare(key, model_name_list)\n",
    "        reject_null = p < sig_level\n",
    "\n",
    "        pairwise_table.add_row([first_model, second_model, chi2, p, reject_null])\n",
    "        pairwise_table.float_format[\"Chi²\"] = '.2E'\n",
    "        pairwise_table.float_format[\"p-Value\"] = '.2E'\n",
    "\n",
    "    print(pairwise_table)"
   ],
   "metadata": {
    "id": "F4e6WLR337HU",
    "executionInfo": {
     "status": "ok",
     "timestamp": 1643279770753,
     "user_tz": -60,
     "elapsed": 245,
     "user": {
      "displayName": "Benjamin Lee",
      "photoUrl": "https://lh3.googleusercontent.com/a-/AOh14GiH530quYi9k5DQRCxWoJT7cVVCjzMOGgFrkXEr=s64",
      "userId": "05206156339145726048"
     }
    }
   },
   "execution_count": 5,
   "outputs": []
  },
  {
   "cell_type": "code",
   "execution_count": 6,
   "outputs": [],
   "source": [
    "# embedding stuff\n",
    "def map_weights(embed_dict, vocab, embed_size): # embed size is embedding dim\n",
    "    vocab_size = len(vocab) + 1\n",
    "    weights = np.zeros((vocab_size, embed_size))\n",
    "\n",
    "    n_missed = 0\n",
    "    words_missed = []\n",
    "    for k,v in vocab.items():\n",
    "        try:\n",
    "            weights[v] = embed_dict[k]  # weights[v] is an index, embed_dict[k] is the list of weights\n",
    "        except:\n",
    "            n_missed += 1\n",
    "            words_missed.append(k)\n",
    "    print(f\"{n_missed} embeddings missed of {vocab_size}\")\n",
    "    return weights, words_missed"
   ],
   "metadata": {
    "pycharm": {
     "name": "#%%\n"
    },
    "id": "v4XrbujPmsem",
    "executionInfo": {
     "status": "ok",
     "timestamp": 1643279772628,
     "user_tz": -60,
     "elapsed": 229,
     "user": {
      "displayName": "Benjamin Lee",
      "photoUrl": "https://lh3.googleusercontent.com/a-/AOh14GiH530quYi9k5DQRCxWoJT7cVVCjzMOGgFrkXEr=s64",
      "userId": "05206156339145726048"
     }
    }
   }
  },
  {
   "cell_type": "markdown",
   "source": [
    "### Loading Data"
   ],
   "metadata": {
    "collapsed": false,
    "pycharm": {
     "name": "#%% md\n"
    },
    "id": "auaqnEnxmsen"
   }
  },
  {
   "cell_type": "code",
   "execution_count": 7,
   "outputs": [],
   "source": [
    "dataset = 'wiki'\n",
    "\n",
    "comments = pd.read_csv('/content/drive/MyDrive/Uni/Experiment Design/Ass2/preprocessing/WikiPages/wikipedia_preprocessed.csv')\n",
    "\n",
    "x_text = list(comments['comment'])\n",
    "labels = list(comments['attack'])\n",
    "\n",
    "labels, uniques = pd.factorize(labels)"
   ],
   "metadata": {
    "pycharm": {
     "name": "#%%\n"
    },
    "id": "nZtSuQQnmseo",
    "executionInfo": {
     "status": "ok",
     "timestamp": 1643279775424,
     "user_tz": -60,
     "elapsed": 1230,
     "user": {
      "displayName": "Benjamin Lee",
      "photoUrl": "https://lh3.googleusercontent.com/a-/AOh14GiH530quYi9k5DQRCxWoJT7cVVCjzMOGgFrkXEr=s64",
      "userId": "05206156339145726048"
     }
    }
   }
  },
  {
   "cell_type": "markdown",
   "source": [
    "### Intitial Twitter-Specific Pre-processing"
   ],
   "metadata": {
    "collapsed": false,
    "pycharm": {
     "name": "#%% md\n"
    },
    "id": "zsveYtexmseo"
   }
  },
  {
   "cell_type": "code",
   "execution_count": 8,
   "outputs": [],
   "source": [
    "import re\n",
    "comments = pd.DataFrame({'comment': x_text, 'attack': labels})\n",
    "\n",
    "#drop nulls\n",
    "comments = comments[comments['comment'].notna()]\n",
    "\n",
    "#lower case\n",
    "comments['comment'] = comments['comment'].str.lower()\n",
    "\n",
    "#remove stop words\n",
    "comments['comment'] = comments['comment'].apply(lambda x: ' '.join([word for word in x.split() if word not in stopwords.words('english')]))\n",
    "\n",
    "#tokenize\n",
    "#comments['comment'] = comments.apply(lambda row: nltk.word_tokenize(row['comment']), axis=1)\n",
    "\n",
    "#remove punctiations\n",
    "#comments['comment'] = [list(filter(lambda x: x not in string.punctuation, sentence)) for sentence in comments['comment']]"
   ],
   "metadata": {
    "pycharm": {
     "name": "#%%\n"
    },
    "id": "ACapB15_msep",
    "executionInfo": {
     "status": "ok",
     "timestamp": 1643280413528,
     "user_tz": -60,
     "elapsed": 637745,
     "user": {
      "displayName": "Benjamin Lee",
      "photoUrl": "https://lh3.googleusercontent.com/a-/AOh14GiH530quYi9k5DQRCxWoJT7cVVCjzMOGgFrkXEr=s64",
      "userId": "05206156339145726048"
     }
    }
   }
  },
  {
   "cell_type": "code",
   "execution_count": 9,
   "outputs": [
    {
     "output_type": "execute_result",
     "data": {
      "text/html": [
       "\n",
       "  <div id=\"df-d10b1cd7-a3dd-4d18-8da4-eb6799633b8e\">\n",
       "    <div class=\"colab-df-container\">\n",
       "      <div>\n",
       "<style scoped>\n",
       "    .dataframe tbody tr th:only-of-type {\n",
       "        vertical-align: middle;\n",
       "    }\n",
       "\n",
       "    .dataframe tbody tr th {\n",
       "        vertical-align: top;\n",
       "    }\n",
       "\n",
       "    .dataframe thead th {\n",
       "        text-align: right;\n",
       "    }\n",
       "</style>\n",
       "<table border=\"1\" class=\"dataframe\">\n",
       "  <thead>\n",
       "    <tr style=\"text-align: right;\">\n",
       "      <th></th>\n",
       "      <th>comment</th>\n",
       "      <th>attack</th>\n",
       "    </tr>\n",
       "  </thead>\n",
       "  <tbody>\n",
       "    <tr>\n",
       "      <th>0</th>\n",
       "      <td>creative dictionary definitions terms insuranc...</td>\n",
       "      <td>0</td>\n",
       "    </tr>\n",
       "    <tr>\n",
       "      <th>1</th>\n",
       "      <td>term standard model less npov think wed prefer...</td>\n",
       "      <td>0</td>\n",
       "    </tr>\n",
       "    <tr>\n",
       "      <th>2</th>\n",
       "      <td>true false situation march 2002 saudi proposal...</td>\n",
       "      <td>0</td>\n",
       "    </tr>\n",
       "    <tr>\n",
       "      <th>3</th>\n",
       "      <td>next maybe could work less condescending sugge...</td>\n",
       "      <td>0</td>\n",
       "    </tr>\n",
       "    <tr>\n",
       "      <th>4</th>\n",
       "      <td>page need disambiguation</td>\n",
       "      <td>0</td>\n",
       "    </tr>\n",
       "  </tbody>\n",
       "</table>\n",
       "</div>\n",
       "      <button class=\"colab-df-convert\" onclick=\"convertToInteractive('df-d10b1cd7-a3dd-4d18-8da4-eb6799633b8e')\"\n",
       "              title=\"Convert this dataframe to an interactive table.\"\n",
       "              style=\"display:none;\">\n",
       "        \n",
       "  <svg xmlns=\"http://www.w3.org/2000/svg\" height=\"24px\"viewBox=\"0 0 24 24\"\n",
       "       width=\"24px\">\n",
       "    <path d=\"M0 0h24v24H0V0z\" fill=\"none\"/>\n",
       "    <path d=\"M18.56 5.44l.94 2.06.94-2.06 2.06-.94-2.06-.94-.94-2.06-.94 2.06-2.06.94zm-11 1L8.5 8.5l.94-2.06 2.06-.94-2.06-.94L8.5 2.5l-.94 2.06-2.06.94zm10 10l.94 2.06.94-2.06 2.06-.94-2.06-.94-.94-2.06-.94 2.06-2.06.94z\"/><path d=\"M17.41 7.96l-1.37-1.37c-.4-.4-.92-.59-1.43-.59-.52 0-1.04.2-1.43.59L10.3 9.45l-7.72 7.72c-.78.78-.78 2.05 0 2.83L4 21.41c.39.39.9.59 1.41.59.51 0 1.02-.2 1.41-.59l7.78-7.78 2.81-2.81c.8-.78.8-2.07 0-2.86zM5.41 20L4 18.59l7.72-7.72 1.47 1.35L5.41 20z\"/>\n",
       "  </svg>\n",
       "      </button>\n",
       "      \n",
       "  <style>\n",
       "    .colab-df-container {\n",
       "      display:flex;\n",
       "      flex-wrap:wrap;\n",
       "      gap: 12px;\n",
       "    }\n",
       "\n",
       "    .colab-df-convert {\n",
       "      background-color: #E8F0FE;\n",
       "      border: none;\n",
       "      border-radius: 50%;\n",
       "      cursor: pointer;\n",
       "      display: none;\n",
       "      fill: #1967D2;\n",
       "      height: 32px;\n",
       "      padding: 0 0 0 0;\n",
       "      width: 32px;\n",
       "    }\n",
       "\n",
       "    .colab-df-convert:hover {\n",
       "      background-color: #E2EBFA;\n",
       "      box-shadow: 0px 1px 2px rgba(60, 64, 67, 0.3), 0px 1px 3px 1px rgba(60, 64, 67, 0.15);\n",
       "      fill: #174EA6;\n",
       "    }\n",
       "\n",
       "    [theme=dark] .colab-df-convert {\n",
       "      background-color: #3B4455;\n",
       "      fill: #D2E3FC;\n",
       "    }\n",
       "\n",
       "    [theme=dark] .colab-df-convert:hover {\n",
       "      background-color: #434B5C;\n",
       "      box-shadow: 0px 1px 3px 1px rgba(0, 0, 0, 0.15);\n",
       "      filter: drop-shadow(0px 1px 2px rgba(0, 0, 0, 0.3));\n",
       "      fill: #FFFFFF;\n",
       "    }\n",
       "  </style>\n",
       "\n",
       "      <script>\n",
       "        const buttonEl =\n",
       "          document.querySelector('#df-d10b1cd7-a3dd-4d18-8da4-eb6799633b8e button.colab-df-convert');\n",
       "        buttonEl.style.display =\n",
       "          google.colab.kernel.accessAllowed ? 'block' : 'none';\n",
       "\n",
       "        async function convertToInteractive(key) {\n",
       "          const element = document.querySelector('#df-d10b1cd7-a3dd-4d18-8da4-eb6799633b8e');\n",
       "          const dataTable =\n",
       "            await google.colab.kernel.invokeFunction('convertToInteractive',\n",
       "                                                     [key], {});\n",
       "          if (!dataTable) return;\n",
       "\n",
       "          const docLinkHtml = 'Like what you see? Visit the ' +\n",
       "            '<a target=\"_blank\" href=https://colab.research.google.com/notebooks/data_table.ipynb>data table notebook</a>'\n",
       "            + ' to learn more about interactive tables.';\n",
       "          element.innerHTML = '';\n",
       "          dataTable['output_type'] = 'display_data';\n",
       "          await google.colab.output.renderOutput(dataTable, element);\n",
       "          const docLink = document.createElement('div');\n",
       "          docLink.innerHTML = docLinkHtml;\n",
       "          element.appendChild(docLink);\n",
       "        }\n",
       "      </script>\n",
       "    </div>\n",
       "  </div>\n",
       "  "
      ],
      "text/plain": [
       "                                             comment  attack\n",
       "0  creative dictionary definitions terms insuranc...       0\n",
       "1  term standard model less npov think wed prefer...       0\n",
       "2  true false situation march 2002 saudi proposal...       0\n",
       "3  next maybe could work less condescending sugge...       0\n",
       "4                           page need disambiguation       0"
      ]
     },
     "metadata": {},
     "execution_count": 9
    }
   ],
   "source": [
    "comments.head()"
   ],
   "metadata": {
    "pycharm": {
     "name": "#%%\n"
    },
    "colab": {
     "base_uri": "https://localhost:8080/",
     "height": 206
    },
    "id": "0MVxd5Spmseq",
    "outputId": "c0411753-bae6-41a5-987a-8bab15d87026",
    "executionInfo": {
     "status": "ok",
     "timestamp": 1643280413529,
     "user_tz": -60,
     "elapsed": 9,
     "user": {
      "displayName": "Benjamin Lee",
      "photoUrl": "https://lh3.googleusercontent.com/a-/AOh14GiH530quYi9k5DQRCxWoJT7cVVCjzMOGgFrkXEr=s64",
      "userId": "05206156339145726048"
     }
    }
   }
  },
  {
   "cell_type": "markdown",
   "source": [
    "### Train-Test Split and Tokenization"
   ],
   "metadata": {
    "collapsed": false,
    "pycharm": {
     "name": "#%% md\n"
    },
    "id": "rDo3WQOlmseq"
   }
  },
  {
   "cell_type": "code",
   "execution_count": 10,
   "outputs": [],
   "source": [
    "X_train_pretoken, X_midway_pretoken, y_train, y_midway = train_test_split(comments['comment'], comments['attack'], random_state = 42, test_size=0.2)"
   ],
   "metadata": {
    "pycharm": {
     "name": "#%%\n"
    },
    "id": "G2KkWpTOmser",
    "executionInfo": {
     "status": "ok",
     "timestamp": 1643280413529,
     "user_tz": -60,
     "elapsed": 6,
     "user": {
      "displayName": "Benjamin Lee",
      "photoUrl": "https://lh3.googleusercontent.com/a-/AOh14GiH530quYi9k5DQRCxWoJT7cVVCjzMOGgFrkXEr=s64",
      "userId": "05206156339145726048"
     }
    }
   }
  },
  {
   "cell_type": "code",
   "source": [
    "comments['number_of_words'] = comments.comment.apply(lambda x: len(x.split()))"
   ],
   "metadata": {
    "id": "xdjVcY3DIaOe",
    "executionInfo": {
     "status": "ok",
     "timestamp": 1643280413932,
     "user_tz": -60,
     "elapsed": 408,
     "user": {
      "displayName": "Benjamin Lee",
      "photoUrl": "https://lh3.googleusercontent.com/a-/AOh14GiH530quYi9k5DQRCxWoJT7cVVCjzMOGgFrkXEr=s64",
      "userId": "05206156339145726048"
     }
    }
   },
   "execution_count": 11,
   "outputs": []
  },
  {
   "cell_type": "code",
   "source": [
    "comments['number_of_words'].quantile(0.95)"
   ],
   "metadata": {
    "colab": {
     "base_uri": "https://localhost:8080/"
    },
    "id": "93WPdwMfJqjl",
    "executionInfo": {
     "status": "ok",
     "timestamp": 1643280413932,
     "user_tz": -60,
     "elapsed": 3,
     "user": {
      "displayName": "Benjamin Lee",
      "photoUrl": "https://lh3.googleusercontent.com/a-/AOh14GiH530quYi9k5DQRCxWoJT7cVVCjzMOGgFrkXEr=s64",
      "userId": "05206156339145726048"
     }
    },
    "outputId": "f97ca501-2815-4c39-8e86-d8e7dcc40473"
   },
   "execution_count": 12,
   "outputs": [
    {
     "output_type": "execute_result",
     "data": {
      "text/plain": [
       "107.0"
      ]
     },
     "metadata": {},
     "execution_count": 12
    }
   ]
  },
  {
   "cell_type": "code",
   "execution_count": 13,
   "outputs": [],
   "source": [
    "dim = 100 #manually set to 95th percentile\n",
    "n_classes = len(np.unique(y_train.values))\n",
    "\n",
    "tokenizer = tfkp.text.Tokenizer(oov_token=\"<UNK>\", filters='!\"$%&()*+,-./:;<=>?@[\\\\]^_`{|}~\\t\\n',)\n",
    "tokenizer.fit_on_texts(X_train_pretoken)\n",
    "\n",
    "convert = lambda x: tfkp.sequence.pad_sequences(tokenizer.texts_to_sequences(x),\n",
    "                                                    maxlen=dim,\n",
    "                                                    padding='post', truncating='post')\n",
    "\n",
    "X_train = convert(X_train_pretoken)\n",
    "X_midway = convert(X_midway_pretoken)"
   ],
   "metadata": {
    "pycharm": {
     "name": "#%%\n"
    },
    "id": "4X3puStVmser",
    "executionInfo": {
     "status": "ok",
     "timestamp": 1643280421603,
     "user_tz": -60,
     "elapsed": 7673,
     "user": {
      "displayName": "Benjamin Lee",
      "photoUrl": "https://lh3.googleusercontent.com/a-/AOh14GiH530quYi9k5DQRCxWoJT7cVVCjzMOGgFrkXEr=s64",
      "userId": "05206156339145726048"
     }
    }
   }
  },
  {
   "cell_type": "code",
   "execution_count": 14,
   "outputs": [],
   "source": [
    "X_test, X_val, y_test, y_val = train_test_split(X_midway, y_midway, random_state = 42, test_size=0.5)"
   ],
   "metadata": {
    "pycharm": {
     "name": "#%%\n"
    },
    "id": "QQjUCtiemser",
    "executionInfo": {
     "status": "ok",
     "timestamp": 1643280421604,
     "user_tz": -60,
     "elapsed": 13,
     "user": {
      "displayName": "Benjamin Lee",
      "photoUrl": "https://lh3.googleusercontent.com/a-/AOh14GiH530quYi9k5DQRCxWoJT7cVVCjzMOGgFrkXEr=s64",
      "userId": "05206156339145726048"
     }
    }
   }
  },
  {
   "cell_type": "markdown",
   "source": [
    "### Oversampling"
   ],
   "metadata": {
    "collapsed": false,
    "pycharm": {
     "name": "#%% md\n"
    },
    "id": "zLDikbecmser"
   }
  },
  {
   "cell_type": "code",
   "execution_count": 15,
   "outputs": [],
   "source": [
    "oversample = RandomOverSampler(random_state=42)\n",
    "X_train_over, y_train_over = oversample.fit_resample(X_train, y_train)"
   ],
   "metadata": {
    "pycharm": {
     "name": "#%%\n"
    },
    "id": "mFihkQ_Tmses",
    "executionInfo": {
     "status": "ok",
     "timestamp": 1643280421604,
     "user_tz": -60,
     "elapsed": 12,
     "user": {
      "displayName": "Benjamin Lee",
      "photoUrl": "https://lh3.googleusercontent.com/a-/AOh14GiH530quYi9k5DQRCxWoJT7cVVCjzMOGgFrkXEr=s64",
      "userId": "05206156339145726048"
     }
    }
   }
  },
  {
   "cell_type": "markdown",
   "source": [
    "### Reshaping for input"
   ],
   "metadata": {
    "collapsed": false,
    "pycharm": {
     "name": "#%% md\n"
    },
    "id": "S-K6zr5omses"
   }
  },
  {
   "cell_type": "code",
   "execution_count": 16,
   "outputs": [],
   "source": [
    "y_train_onehot = to_categorical(y_train, n_classes)\n",
    "y_val_onehot = to_categorical(y_val, n_classes)\n",
    "y_test_onehot = to_categorical(y_test, n_classes)\n",
    "y_train_over_onehot = to_categorical(y_train_over, n_classes)"
   ],
   "metadata": {
    "pycharm": {
     "name": "#%%\n"
    },
    "id": "nFbtTSW1mses",
    "executionInfo": {
     "status": "ok",
     "timestamp": 1643280421604,
     "user_tz": -60,
     "elapsed": 12,
     "user": {
      "displayName": "Benjamin Lee",
      "photoUrl": "https://lh3.googleusercontent.com/a-/AOh14GiH530quYi9k5DQRCxWoJT7cVVCjzMOGgFrkXEr=s64",
      "userId": "05206156339145726048"
     }
    }
   }
  },
  {
   "cell_type": "markdown",
   "source": [
    "#### Fast Load DL Models"
   ],
   "metadata": {
    "id": "nIVi6xbCEL4g"
   }
  },
  {
   "cell_type": "code",
   "source": [
    "# Fast load DL models\n",
    "import keras\n",
    "import shutil\n",
    "from keras.models import Sequential\n",
    "\n",
    "lstm_random = Sequential()\n",
    "lstm_random_over = Sequential()\n",
    "lstm_glove = Sequential()\n",
    "lstm_glove_over = Sequential()\n",
    "lstm_word2vec = Sequential()\n",
    "lstm_word2vec_over = Sequential()\n",
    "\n",
    "blstm_random = Sequential()\n",
    "blstm_random_over = Sequential()\n",
    "blstm_glove = Sequential()\n",
    "blstm_glove_over = Sequential()\n",
    "blstm_word2vec = Sequential()\n",
    "blstm_word2vec_over = Sequential()\n",
    "\n",
    "blstm_att_random = Sequential()\n",
    "blstm_att_random_over = Sequential()\n",
    "blstm_att_glove = Sequential()\n",
    "blstm_att_glove_over = Sequential()\n",
    "blstm_att_word2vec = Sequential()\n",
    "blstm_att_word2vec_over = Sequential()\n",
    "\n",
    "cnn_random = Sequential()\n",
    "cnn_random_over = Sequential()\n",
    "cnn_glove = Sequential()\n",
    "cnn_glove_over = Sequential()\n",
    "cnn_word2vec = Sequential()\n",
    "cnn_word2vec_over = Sequential()\n",
    "\n",
    "model_list = [lstm_random,\n",
    "lstm_random_over,\n",
    "lstm_glove,\n",
    "lstm_glove_over,\n",
    "lstm_word2vec,\n",
    "lstm_word2vec_over,\n",
    "blstm_random,\n",
    "blstm_random_over,\n",
    "blstm_glove,\n",
    "blstm_glove_over,\n",
    "blstm_word2vec,\n",
    "blstm_word2vec_over,\n",
    "blstm_att_random,\n",
    "blstm_att_random_over,\n",
    "blstm_att_glove,\n",
    "blstm_att_glove_over,\n",
    "blstm_att_word2vec,\n",
    "blstm_att_word2vec_over,\n",
    "cnn_random,\n",
    "cnn_random_over,\n",
    "cnn_glove,\n",
    "cnn_glove_over,\n",
    "cnn_word2vec,\n",
    "cnn_word2vec_over]\n",
    "\n",
    "model_name_list = ['lstm_random',\n",
    "'lstm_random_over',\n",
    "'lstm_glove',\n",
    "'lstm_glove_over',\n",
    "'lstm_word2vec',\n",
    "'lstm_word2vec_over',\n",
    "'blstm_random',\n",
    "'blstm_random_over',\n",
    "'blstm_glove',\n",
    "'blstm_glove_over',\n",
    "'blstm_word2vec',\n",
    "'blstm_word2vec_over',\n",
    "'blstm_att_random',\n",
    "'blstm_att_random_over',\n",
    "'blstm_att_glove',\n",
    "'blstm_att_glove_over',\n",
    "'blstm_att_word2vec',\n",
    "'blstm_att_word2vec_over',\n",
    "'cnn_random',\n",
    "'cnn_random_over',\n",
    "'cnn_glove',\n",
    "'cnn_glove_over',\n",
    "'cnn_word2vec',\n",
    "'cnn_word2vec_over']\n",
    "\n",
    "for model in model_list:\n",
    "    index = model_list.index(model)\n",
    "    model_name = model_name_list[index]\n",
    "    print(model_name)\n",
    "    #shutil.unpack_archive(f'/content/drive/MyDrive/Uni/Experiment Design/Ass2/Deep Learning/models_wiki/{model_name}.zip', f'/content/{model_name}/')\n",
    "    model_list[index] = keras.models.load_model(f'/content/{model_name}/')"
   ],
   "metadata": {
    "colab": {
     "base_uri": "https://localhost:8080/",
     "height": 484
    },
    "id": "ku-dS5dEDBs6",
    "executionInfo": {
     "status": "error",
     "timestamp": 1643279740282,
     "user_tz": -60,
     "elapsed": 57450,
     "user": {
      "displayName": "Benjamin Lee",
      "photoUrl": "https://lh3.googleusercontent.com/a-/AOh14GiH530quYi9k5DQRCxWoJT7cVVCjzMOGgFrkXEr=s64",
      "userId": "05206156339145726048"
     }
    },
    "outputId": "1dd59391-9839-4817-e5f3-2f142ed0fbd7"
   },
   "execution_count": 1,
   "outputs": [
    {
     "output_type": "stream",
     "name": "stdout",
     "text": [
      "lstm_random\n",
      "lstm_random_over\n",
      "lstm_glove\n"
     ]
    },
    {
     "output_type": "stream",
     "name": "stderr",
     "text": [
      "Exception ignored in: <function ScopedTFGraph.__del__ at 0x7f45d01137a0>\n",
      "Traceback (most recent call last):\n",
      "  File \"/usr/local/lib/python3.7/dist-packages/tensorflow/python/framework/c_api_util.py\", line 57, in __del__\n",
      "    def __del__(self):\n",
      "KeyboardInterrupt\n"
     ]
    },
    {
     "output_type": "error",
     "ename": "KeyboardInterrupt",
     "evalue": "ignored",
     "traceback": [
      "\u001B[0;31m---------------------------------------------------------------------------\u001B[0m",
      "\u001B[0;31mKeyboardInterrupt\u001B[0m                         Traceback (most recent call last)",
      "\u001B[0;32m<ipython-input-1-52ba1d6ddd69>\u001B[0m in \u001B[0;36m<module>\u001B[0;34m()\u001B[0m\n\u001B[1;32m     87\u001B[0m     \u001B[0mprint\u001B[0m\u001B[0;34m(\u001B[0m\u001B[0mmodel_name\u001B[0m\u001B[0;34m)\u001B[0m\u001B[0;34m\u001B[0m\u001B[0;34m\u001B[0m\u001B[0m\n\u001B[1;32m     88\u001B[0m     \u001B[0;31m#shutil.unpack_archive(f'/content/drive/MyDrive/Uni/Experiment Design/Ass2/Deep Learning/models_wiki/{model_name}.zip', f'/content/{model_name}/')\u001B[0m\u001B[0;34m\u001B[0m\u001B[0;34m\u001B[0m\u001B[0;34m\u001B[0m\u001B[0m\n\u001B[0;32m---> 89\u001B[0;31m     \u001B[0mmodel_list\u001B[0m\u001B[0;34m[\u001B[0m\u001B[0mindex\u001B[0m\u001B[0;34m]\u001B[0m \u001B[0;34m=\u001B[0m \u001B[0mkeras\u001B[0m\u001B[0;34m.\u001B[0m\u001B[0mmodels\u001B[0m\u001B[0;34m.\u001B[0m\u001B[0mload_model\u001B[0m\u001B[0;34m(\u001B[0m\u001B[0;34mf'/content/{model_name}/'\u001B[0m\u001B[0;34m)\u001B[0m\u001B[0;34m\u001B[0m\u001B[0;34m\u001B[0m\u001B[0m\n\u001B[0m",
      "\u001B[0;32m/usr/local/lib/python3.7/dist-packages/keras/utils/traceback_utils.py\u001B[0m in \u001B[0;36merror_handler\u001B[0;34m(*args, **kwargs)\u001B[0m\n\u001B[1;32m     62\u001B[0m     \u001B[0mfiltered_tb\u001B[0m \u001B[0;34m=\u001B[0m \u001B[0;32mNone\u001B[0m\u001B[0;34m\u001B[0m\u001B[0;34m\u001B[0m\u001B[0m\n\u001B[1;32m     63\u001B[0m     \u001B[0;32mtry\u001B[0m\u001B[0;34m:\u001B[0m\u001B[0;34m\u001B[0m\u001B[0;34m\u001B[0m\u001B[0m\n\u001B[0;32m---> 64\u001B[0;31m       \u001B[0;32mreturn\u001B[0m \u001B[0mfn\u001B[0m\u001B[0;34m(\u001B[0m\u001B[0;34m*\u001B[0m\u001B[0margs\u001B[0m\u001B[0;34m,\u001B[0m \u001B[0;34m**\u001B[0m\u001B[0mkwargs\u001B[0m\u001B[0;34m)\u001B[0m\u001B[0;34m\u001B[0m\u001B[0;34m\u001B[0m\u001B[0m\n\u001B[0m\u001B[1;32m     65\u001B[0m     \u001B[0;32mexcept\u001B[0m \u001B[0mException\u001B[0m \u001B[0;32mas\u001B[0m \u001B[0me\u001B[0m\u001B[0;34m:\u001B[0m  \u001B[0;31m# pylint: disable=broad-except\u001B[0m\u001B[0;34m\u001B[0m\u001B[0;34m\u001B[0m\u001B[0m\n\u001B[1;32m     66\u001B[0m       \u001B[0mfiltered_tb\u001B[0m \u001B[0;34m=\u001B[0m \u001B[0m_process_traceback_frames\u001B[0m\u001B[0;34m(\u001B[0m\u001B[0me\u001B[0m\u001B[0;34m.\u001B[0m\u001B[0m__traceback__\u001B[0m\u001B[0;34m)\u001B[0m\u001B[0;34m\u001B[0m\u001B[0;34m\u001B[0m\u001B[0m\n",
      "\u001B[0;32m/usr/local/lib/python3.7/dist-packages/keras/saving/save.py\u001B[0m in \u001B[0;36mload_model\u001B[0;34m(filepath, custom_objects, compile, options)\u001B[0m\n\u001B[1;32m    212\u001B[0m                 \u001B[0;34m'Filepath looks like a hdf5 file but h5py is not available.'\u001B[0m\u001B[0;34m\u001B[0m\u001B[0;34m\u001B[0m\u001B[0m\n\u001B[1;32m    213\u001B[0m                 f' filepath={filepath}')\n\u001B[0;32m--> 214\u001B[0;31m           \u001B[0;32mreturn\u001B[0m \u001B[0msaved_model_load\u001B[0m\u001B[0;34m.\u001B[0m\u001B[0mload\u001B[0m\u001B[0;34m(\u001B[0m\u001B[0mfilepath\u001B[0m\u001B[0;34m,\u001B[0m \u001B[0mcompile\u001B[0m\u001B[0;34m,\u001B[0m \u001B[0moptions\u001B[0m\u001B[0;34m)\u001B[0m\u001B[0;34m\u001B[0m\u001B[0;34m\u001B[0m\u001B[0m\n\u001B[0m\u001B[1;32m    215\u001B[0m \u001B[0;34m\u001B[0m\u001B[0m\n\u001B[1;32m    216\u001B[0m   raise IOError(\n",
      "\u001B[0;32m/usr/local/lib/python3.7/dist-packages/keras/saving/saved_model/load.py\u001B[0m in \u001B[0;36mload\u001B[0;34m(path, compile, options)\u001B[0m\n\u001B[1;32m    134\u001B[0m   \u001B[0;31m# Recreate layers and metrics using the info stored in the metadata.\u001B[0m\u001B[0;34m\u001B[0m\u001B[0;34m\u001B[0m\u001B[0;34m\u001B[0m\u001B[0m\n\u001B[1;32m    135\u001B[0m   \u001B[0mkeras_loader\u001B[0m \u001B[0;34m=\u001B[0m \u001B[0mKerasObjectLoader\u001B[0m\u001B[0;34m(\u001B[0m\u001B[0mmetadata\u001B[0m\u001B[0;34m,\u001B[0m \u001B[0mobject_graph_def\u001B[0m\u001B[0;34m)\u001B[0m\u001B[0;34m\u001B[0m\u001B[0;34m\u001B[0m\u001B[0m\n\u001B[0;32m--> 136\u001B[0;31m   \u001B[0mkeras_loader\u001B[0m\u001B[0;34m.\u001B[0m\u001B[0mload_layers\u001B[0m\u001B[0;34m(\u001B[0m\u001B[0mcompile\u001B[0m\u001B[0;34m=\u001B[0m\u001B[0mcompile\u001B[0m\u001B[0;34m)\u001B[0m\u001B[0;34m\u001B[0m\u001B[0;34m\u001B[0m\u001B[0m\n\u001B[0m\u001B[1;32m    137\u001B[0m \u001B[0;34m\u001B[0m\u001B[0m\n\u001B[1;32m    138\u001B[0m   \u001B[0;31m# Generate a dictionary of all loaded nodes.\u001B[0m\u001B[0;34m\u001B[0m\u001B[0;34m\u001B[0m\u001B[0;34m\u001B[0m\u001B[0m\n",
      "\u001B[0;32m/usr/local/lib/python3.7/dist-packages/keras/saving/saved_model/load.py\u001B[0m in \u001B[0;36mload_layers\u001B[0;34m(self, compile)\u001B[0m\n\u001B[1;32m    399\u001B[0m       self.loaded_nodes[node_metadata.node_id] = self._load_layer(\n\u001B[1;32m    400\u001B[0m           \u001B[0mnode_metadata\u001B[0m\u001B[0;34m.\u001B[0m\u001B[0mnode_id\u001B[0m\u001B[0;34m,\u001B[0m \u001B[0mnode_metadata\u001B[0m\u001B[0;34m.\u001B[0m\u001B[0midentifier\u001B[0m\u001B[0;34m,\u001B[0m\u001B[0;34m\u001B[0m\u001B[0;34m\u001B[0m\u001B[0m\n\u001B[0;32m--> 401\u001B[0;31m           node_metadata.metadata)\n\u001B[0m\u001B[1;32m    402\u001B[0m \u001B[0;34m\u001B[0m\u001B[0m\n\u001B[1;32m    403\u001B[0m     \u001B[0;32mfor\u001B[0m \u001B[0mnode_metadata\u001B[0m \u001B[0;32min\u001B[0m \u001B[0mmetric_list\u001B[0m\u001B[0;34m:\u001B[0m\u001B[0;34m\u001B[0m\u001B[0;34m\u001B[0m\u001B[0m\n",
      "\u001B[0;32m/usr/local/lib/python3.7/dist-packages/keras/saving/saved_model/load.py\u001B[0m in \u001B[0;36m_load_layer\u001B[0;34m(self, node_id, identifier, metadata)\u001B[0m\n\u001B[1;32m    439\u001B[0m     \u001B[0;31m# Detect whether this object can be revived from the config. If not, then\u001B[0m\u001B[0;34m\u001B[0m\u001B[0;34m\u001B[0m\u001B[0;34m\u001B[0m\u001B[0m\n\u001B[1;32m    440\u001B[0m     \u001B[0;31m# revive from the SavedModel instead.\u001B[0m\u001B[0;34m\u001B[0m\u001B[0;34m\u001B[0m\u001B[0;34m\u001B[0m\u001B[0m\n\u001B[0;32m--> 441\u001B[0;31m     \u001B[0mobj\u001B[0m\u001B[0;34m,\u001B[0m \u001B[0msetter\u001B[0m \u001B[0;34m=\u001B[0m \u001B[0mself\u001B[0m\u001B[0;34m.\u001B[0m\u001B[0m_revive_from_config\u001B[0m\u001B[0;34m(\u001B[0m\u001B[0midentifier\u001B[0m\u001B[0;34m,\u001B[0m \u001B[0mmetadata\u001B[0m\u001B[0;34m,\u001B[0m \u001B[0mnode_id\u001B[0m\u001B[0;34m)\u001B[0m\u001B[0;34m\u001B[0m\u001B[0;34m\u001B[0m\u001B[0m\n\u001B[0m\u001B[1;32m    442\u001B[0m     \u001B[0;32mif\u001B[0m \u001B[0mobj\u001B[0m \u001B[0;32mis\u001B[0m \u001B[0;32mNone\u001B[0m\u001B[0;34m:\u001B[0m\u001B[0;34m\u001B[0m\u001B[0;34m\u001B[0m\u001B[0m\n\u001B[1;32m    443\u001B[0m       \u001B[0mobj\u001B[0m\u001B[0;34m,\u001B[0m \u001B[0msetter\u001B[0m \u001B[0;34m=\u001B[0m \u001B[0mrevive_custom_object\u001B[0m\u001B[0;34m(\u001B[0m\u001B[0midentifier\u001B[0m\u001B[0;34m,\u001B[0m \u001B[0mmetadata\u001B[0m\u001B[0;34m)\u001B[0m\u001B[0;34m\u001B[0m\u001B[0;34m\u001B[0m\u001B[0m\n",
      "\u001B[0;32m/usr/local/lib/python3.7/dist-packages/keras/saving/saved_model/load.py\u001B[0m in \u001B[0;36m_revive_from_config\u001B[0;34m(self, identifier, metadata, node_id)\u001B[0m\n\u001B[1;32m    464\u001B[0m     \u001B[0msetter\u001B[0m \u001B[0;34m=\u001B[0m \u001B[0mself\u001B[0m\u001B[0;34m.\u001B[0m\u001B[0m_config_node_setter\u001B[0m\u001B[0;34m(\u001B[0m\u001B[0m_revive_setter\u001B[0m\u001B[0;34m)\u001B[0m\u001B[0;34m\u001B[0m\u001B[0;34m\u001B[0m\u001B[0m\n\u001B[1;32m    465\u001B[0m     self._add_children_recreated_from_config(\n\u001B[0;32m--> 466\u001B[0;31m         obj, self._proto.nodes[node_id], node_id)\n\u001B[0m\u001B[1;32m    467\u001B[0m     \u001B[0;32mreturn\u001B[0m \u001B[0mobj\u001B[0m\u001B[0;34m,\u001B[0m \u001B[0msetter\u001B[0m\u001B[0;34m\u001B[0m\u001B[0;34m\u001B[0m\u001B[0m\n\u001B[1;32m    468\u001B[0m \u001B[0;34m\u001B[0m\u001B[0m\n",
      "\u001B[0;32m/usr/local/lib/python3.7/dist-packages/keras/saving/saved_model/load.py\u001B[0m in \u001B[0;36m_add_children_recreated_from_config\u001B[0;34m(self, obj, proto, node_id)\u001B[0m\n\u001B[1;32m    322\u001B[0m     \u001B[0mobj\u001B[0m\u001B[0;34m.\u001B[0m\u001B[0m_maybe_initialize_trackable\u001B[0m\u001B[0;34m(\u001B[0m\u001B[0;34m)\u001B[0m\u001B[0;34m\u001B[0m\u001B[0;34m\u001B[0m\u001B[0m\n\u001B[1;32m    323\u001B[0m     \u001B[0;32mif\u001B[0m \u001B[0misinstance\u001B[0m\u001B[0;34m(\u001B[0m\u001B[0mobj\u001B[0m\u001B[0;34m,\u001B[0m \u001B[0mbase_layer\u001B[0m\u001B[0;34m.\u001B[0m\u001B[0mLayer\u001B[0m\u001B[0;34m)\u001B[0m \u001B[0;32mand\u001B[0m \u001B[0;32mnot\u001B[0m \u001B[0mobj\u001B[0m\u001B[0;34m.\u001B[0m\u001B[0mbuilt\u001B[0m\u001B[0;34m:\u001B[0m\u001B[0;34m\u001B[0m\u001B[0;34m\u001B[0m\u001B[0m\n\u001B[0;32m--> 324\u001B[0;31m       \u001B[0mmetadata\u001B[0m \u001B[0;34m=\u001B[0m \u001B[0mjson_utils\u001B[0m\u001B[0;34m.\u001B[0m\u001B[0mdecode\u001B[0m\u001B[0;34m(\u001B[0m\u001B[0mself\u001B[0m\u001B[0;34m.\u001B[0m\u001B[0m_metadata\u001B[0m\u001B[0;34m[\u001B[0m\u001B[0mnode_id\u001B[0m\u001B[0;34m]\u001B[0m\u001B[0;34m.\u001B[0m\u001B[0mmetadata\u001B[0m\u001B[0;34m)\u001B[0m\u001B[0;34m\u001B[0m\u001B[0;34m\u001B[0m\u001B[0m\n\u001B[0m\u001B[1;32m    325\u001B[0m       \u001B[0mself\u001B[0m\u001B[0;34m.\u001B[0m\u001B[0m_try_build_layer\u001B[0m\u001B[0;34m(\u001B[0m\u001B[0mobj\u001B[0m\u001B[0;34m,\u001B[0m \u001B[0mnode_id\u001B[0m\u001B[0;34m,\u001B[0m \u001B[0mmetadata\u001B[0m\u001B[0;34m.\u001B[0m\u001B[0mget\u001B[0m\u001B[0;34m(\u001B[0m\u001B[0;34m'build_input_shape'\u001B[0m\u001B[0;34m)\u001B[0m\u001B[0;34m)\u001B[0m\u001B[0;34m\u001B[0m\u001B[0;34m\u001B[0m\u001B[0m\n\u001B[1;32m    326\u001B[0m \u001B[0;34m\u001B[0m\u001B[0m\n",
      "\u001B[0;32m/usr/local/lib/python3.7/dist-packages/keras/saving/saved_model/json_utils.py\u001B[0m in \u001B[0;36mdecode\u001B[0;34m(json_string)\u001B[0m\n\u001B[1;32m     59\u001B[0m \u001B[0;34m\u001B[0m\u001B[0m\n\u001B[1;32m     60\u001B[0m \u001B[0;32mdef\u001B[0m \u001B[0mdecode\u001B[0m\u001B[0;34m(\u001B[0m\u001B[0mjson_string\u001B[0m\u001B[0;34m)\u001B[0m\u001B[0;34m:\u001B[0m\u001B[0;34m\u001B[0m\u001B[0;34m\u001B[0m\u001B[0m\n\u001B[0;32m---> 61\u001B[0;31m   \u001B[0;32mreturn\u001B[0m \u001B[0mjson\u001B[0m\u001B[0;34m.\u001B[0m\u001B[0mloads\u001B[0m\u001B[0;34m(\u001B[0m\u001B[0mjson_string\u001B[0m\u001B[0;34m,\u001B[0m \u001B[0mobject_hook\u001B[0m\u001B[0;34m=\u001B[0m\u001B[0m_decode_helper\u001B[0m\u001B[0;34m)\u001B[0m\u001B[0;34m\u001B[0m\u001B[0;34m\u001B[0m\u001B[0m\n\u001B[0m\u001B[1;32m     62\u001B[0m \u001B[0;34m\u001B[0m\u001B[0m\n\u001B[1;32m     63\u001B[0m \u001B[0;34m\u001B[0m\u001B[0m\n",
      "\u001B[0;32m/usr/lib/python3.7/json/__init__.py\u001B[0m in \u001B[0;36mloads\u001B[0;34m(s, encoding, cls, object_hook, parse_float, parse_int, parse_constant, object_pairs_hook, **kw)\u001B[0m\n\u001B[1;32m    359\u001B[0m     \u001B[0;32mif\u001B[0m \u001B[0mparse_constant\u001B[0m \u001B[0;32mis\u001B[0m \u001B[0;32mnot\u001B[0m \u001B[0;32mNone\u001B[0m\u001B[0;34m:\u001B[0m\u001B[0;34m\u001B[0m\u001B[0;34m\u001B[0m\u001B[0m\n\u001B[1;32m    360\u001B[0m         \u001B[0mkw\u001B[0m\u001B[0;34m[\u001B[0m\u001B[0;34m'parse_constant'\u001B[0m\u001B[0;34m]\u001B[0m \u001B[0;34m=\u001B[0m \u001B[0mparse_constant\u001B[0m\u001B[0;34m\u001B[0m\u001B[0;34m\u001B[0m\u001B[0m\n\u001B[0;32m--> 361\u001B[0;31m     \u001B[0;32mreturn\u001B[0m \u001B[0mcls\u001B[0m\u001B[0;34m(\u001B[0m\u001B[0;34m**\u001B[0m\u001B[0mkw\u001B[0m\u001B[0;34m)\u001B[0m\u001B[0;34m.\u001B[0m\u001B[0mdecode\u001B[0m\u001B[0;34m(\u001B[0m\u001B[0ms\u001B[0m\u001B[0;34m)\u001B[0m\u001B[0;34m\u001B[0m\u001B[0;34m\u001B[0m\u001B[0m\n\u001B[0m",
      "\u001B[0;32m/usr/lib/python3.7/json/decoder.py\u001B[0m in \u001B[0;36mdecode\u001B[0;34m(self, s, _w)\u001B[0m\n\u001B[1;32m    335\u001B[0m \u001B[0;34m\u001B[0m\u001B[0m\n\u001B[1;32m    336\u001B[0m         \"\"\"\n\u001B[0;32m--> 337\u001B[0;31m         \u001B[0mobj\u001B[0m\u001B[0;34m,\u001B[0m \u001B[0mend\u001B[0m \u001B[0;34m=\u001B[0m \u001B[0mself\u001B[0m\u001B[0;34m.\u001B[0m\u001B[0mraw_decode\u001B[0m\u001B[0;34m(\u001B[0m\u001B[0ms\u001B[0m\u001B[0;34m,\u001B[0m \u001B[0midx\u001B[0m\u001B[0;34m=\u001B[0m\u001B[0m_w\u001B[0m\u001B[0;34m(\u001B[0m\u001B[0ms\u001B[0m\u001B[0;34m,\u001B[0m \u001B[0;36m0\u001B[0m\u001B[0;34m)\u001B[0m\u001B[0;34m.\u001B[0m\u001B[0mend\u001B[0m\u001B[0;34m(\u001B[0m\u001B[0;34m)\u001B[0m\u001B[0;34m)\u001B[0m\u001B[0;34m\u001B[0m\u001B[0;34m\u001B[0m\u001B[0m\n\u001B[0m\u001B[1;32m    338\u001B[0m         \u001B[0mend\u001B[0m \u001B[0;34m=\u001B[0m \u001B[0m_w\u001B[0m\u001B[0;34m(\u001B[0m\u001B[0ms\u001B[0m\u001B[0;34m,\u001B[0m \u001B[0mend\u001B[0m\u001B[0;34m)\u001B[0m\u001B[0;34m.\u001B[0m\u001B[0mend\u001B[0m\u001B[0;34m(\u001B[0m\u001B[0;34m)\u001B[0m\u001B[0;34m\u001B[0m\u001B[0;34m\u001B[0m\u001B[0m\n\u001B[1;32m    339\u001B[0m         \u001B[0;32mif\u001B[0m \u001B[0mend\u001B[0m \u001B[0;34m!=\u001B[0m \u001B[0mlen\u001B[0m\u001B[0;34m(\u001B[0m\u001B[0ms\u001B[0m\u001B[0;34m)\u001B[0m\u001B[0;34m:\u001B[0m\u001B[0;34m\u001B[0m\u001B[0;34m\u001B[0m\u001B[0m\n",
      "\u001B[0;32m/usr/lib/python3.7/json/decoder.py\u001B[0m in \u001B[0;36mraw_decode\u001B[0;34m(self, s, idx)\u001B[0m\n\u001B[1;32m    351\u001B[0m         \"\"\"\n\u001B[1;32m    352\u001B[0m         \u001B[0;32mtry\u001B[0m\u001B[0;34m:\u001B[0m\u001B[0;34m\u001B[0m\u001B[0;34m\u001B[0m\u001B[0m\n\u001B[0;32m--> 353\u001B[0;31m             \u001B[0mobj\u001B[0m\u001B[0;34m,\u001B[0m \u001B[0mend\u001B[0m \u001B[0;34m=\u001B[0m \u001B[0mself\u001B[0m\u001B[0;34m.\u001B[0m\u001B[0mscan_once\u001B[0m\u001B[0;34m(\u001B[0m\u001B[0ms\u001B[0m\u001B[0;34m,\u001B[0m \u001B[0midx\u001B[0m\u001B[0;34m)\u001B[0m\u001B[0;34m\u001B[0m\u001B[0;34m\u001B[0m\u001B[0m\n\u001B[0m\u001B[1;32m    354\u001B[0m         \u001B[0;32mexcept\u001B[0m \u001B[0mStopIteration\u001B[0m \u001B[0;32mas\u001B[0m \u001B[0merr\u001B[0m\u001B[0;34m:\u001B[0m\u001B[0;34m\u001B[0m\u001B[0;34m\u001B[0m\u001B[0m\n\u001B[1;32m    355\u001B[0m             \u001B[0;32mraise\u001B[0m \u001B[0mJSONDecodeError\u001B[0m\u001B[0;34m(\u001B[0m\u001B[0;34m\"Expecting value\"\u001B[0m\u001B[0;34m,\u001B[0m \u001B[0ms\u001B[0m\u001B[0;34m,\u001B[0m \u001B[0merr\u001B[0m\u001B[0;34m.\u001B[0m\u001B[0mvalue\u001B[0m\u001B[0;34m)\u001B[0m \u001B[0;32mfrom\u001B[0m \u001B[0;32mNone\u001B[0m\u001B[0;34m\u001B[0m\u001B[0;34m\u001B[0m\u001B[0m\n",
      "\u001B[0;32m/usr/local/lib/python3.7/dist-packages/keras/saving/saved_model/json_utils.py\u001B[0m in \u001B[0;36m_decode_helper\u001B[0;34m(obj)\u001B[0m\n\u001B[1;32m     62\u001B[0m \u001B[0;34m\u001B[0m\u001B[0m\n\u001B[1;32m     63\u001B[0m \u001B[0;34m\u001B[0m\u001B[0m\n\u001B[0;32m---> 64\u001B[0;31m \u001B[0;32mdef\u001B[0m \u001B[0m_decode_helper\u001B[0m\u001B[0;34m(\u001B[0m\u001B[0mobj\u001B[0m\u001B[0;34m)\u001B[0m\u001B[0;34m:\u001B[0m\u001B[0;34m\u001B[0m\u001B[0;34m\u001B[0m\u001B[0m\n\u001B[0m\u001B[1;32m     65\u001B[0m   \u001B[0;34m\"\"\"A decoding helper that is TF-object aware.\"\"\"\u001B[0m\u001B[0;34m\u001B[0m\u001B[0;34m\u001B[0m\u001B[0m\n\u001B[1;32m     66\u001B[0m   \u001B[0;32mif\u001B[0m \u001B[0misinstance\u001B[0m\u001B[0;34m(\u001B[0m\u001B[0mobj\u001B[0m\u001B[0;34m,\u001B[0m \u001B[0mdict\u001B[0m\u001B[0;34m)\u001B[0m \u001B[0;32mand\u001B[0m \u001B[0;34m'class_name'\u001B[0m \u001B[0;32min\u001B[0m \u001B[0mobj\u001B[0m\u001B[0;34m:\u001B[0m\u001B[0;34m\u001B[0m\u001B[0;34m\u001B[0m\u001B[0m\n",
      "\u001B[0;31mKeyboardInterrupt\u001B[0m: "
     ]
    }
   ]
  },
  {
   "cell_type": "markdown",
   "source": [
    "### Glove Embedding Weights"
   ],
   "metadata": {
    "collapsed": false,
    "pycharm": {
     "name": "#%% md\n"
    },
    "id": "QDKmxA6Imses"
   }
  },
  {
   "cell_type": "code",
   "source": [
    "glove_dict = api.load(\"glove-wiki-gigaword-200\")\n",
    "glove_weights, glove_words_missed = map_weights(glove_dict, tokenizer.word_index, 200)"
   ],
   "metadata": {
    "pycharm": {
     "name": "#%%\n"
    },
    "colab": {
     "base_uri": "https://localhost:8080/"
    },
    "id": "d9p88KFemset",
    "outputId": "9d1a5017-9083-4e51-a7b4-fc58ec7800d4",
    "executionInfo": {
     "status": "ok",
     "timestamp": 1643236639906,
     "user_tz": -60,
     "elapsed": 126783,
     "user": {
      "displayName": "Benjamin Lee",
      "photoUrl": "https://lh3.googleusercontent.com/a-/AOh14GiH530quYi9k5DQRCxWoJT7cVVCjzMOGgFrkXEr=s64",
      "userId": "05206156339145726048"
     }
    }
   },
   "execution_count": null,
   "outputs": [
    {
     "output_type": "stream",
     "name": "stdout",
     "text": [
      "[==================================================] 100.0% 252.1/252.1MB downloaded\n",
      "83056 embeddings missed of 154017\n"
     ]
    }
   ]
  },
  {
   "cell_type": "markdown",
   "source": [
    "### Word2vec Weights"
   ],
   "metadata": {
    "collapsed": false,
    "pycharm": {
     "name": "#%% md\n"
    },
    "id": "1L8gwyzimset"
   }
  },
  {
   "cell_type": "code",
   "execution_count": null,
   "outputs": [
    {
     "output_type": "stream",
     "name": "stdout",
     "text": [
      "[==================================================] 100.0% 1662.8/1662.8MB downloaded\n",
      "100606 embeddings missed of 154017\n"
     ]
    }
   ],
   "source": [
    "word_dict = api.load(\"word2vec-google-news-300\")\n",
    "word2vec_weights, word2vec_words_missed = map_weights(word_dict, tokenizer.word_index, 300)"
   ],
   "metadata": {
    "pycharm": {
     "name": "#%%\n"
    },
    "colab": {
     "base_uri": "https://localhost:8080/"
    },
    "id": "l7UD2362mset",
    "outputId": "527bd53b-db14-4a8d-d277-9d732125368b",
    "executionInfo": {
     "status": "ok",
     "timestamp": 1643237078648,
     "user_tz": -60,
     "elapsed": 438744,
     "user": {
      "displayName": "Benjamin Lee",
      "photoUrl": "https://lh3.googleusercontent.com/a-/AOh14GiH530quYi9k5DQRCxWoJT7cVVCjzMOGgFrkXEr=s64",
      "userId": "05206156339145726048"
     }
    }
   }
  },
  {
   "cell_type": "markdown",
   "source": [
    "#### Checks"
   ],
   "metadata": {
    "collapsed": false,
    "pycharm": {
     "name": "#%% md\n"
    },
    "id": "UVQTBfaTmset"
   }
  },
  {
   "cell_type": "code",
   "execution_count": null,
   "outputs": [
    {
     "output_type": "stream",
     "name": "stdout",
     "text": [
      "Counter({0: 81751, 1: 10922})\n",
      "Counter({0: 81751, 1: 81751})\n"
     ]
    }
   ],
   "source": [
    "# check number of oversampling\n",
    "from collections import Counter\n",
    "print(Counter(y_train))\n",
    "print(Counter(y_train_over))"
   ],
   "metadata": {
    "pycharm": {
     "name": "#%%\n"
    },
    "colab": {
     "base_uri": "https://localhost:8080/"
    },
    "id": "_sFKYpyzmset",
    "outputId": "29606d53-5522-4632-d6a5-7ee8951322ae",
    "executionInfo": {
     "status": "ok",
     "timestamp": 1643237078648,
     "user_tz": -60,
     "elapsed": 4,
     "user": {
      "displayName": "Benjamin Lee",
      "photoUrl": "https://lh3.googleusercontent.com/a-/AOh14GiH530quYi9k5DQRCxWoJT7cVVCjzMOGgFrkXEr=s64",
      "userId": "05206156339145726048"
     }
    }
   }
  },
  {
   "cell_type": "markdown",
   "source": [
    "### Write Embedders"
   ],
   "metadata": {
    "collapsed": false,
    "pycharm": {
     "name": "#%% md\n"
    },
    "id": "nKSTOAKImseu"
   }
  },
  {
   "cell_type": "code",
   "execution_count": null,
   "outputs": [],
   "source": [
    "from keras.layers import Embedding\n",
    "from tensorflow.keras import initializers\n",
    "\n",
    "vocab_size = len(tokenizer.word_index)+1\n",
    "\n",
    "random_embedder = Embedding(vocab_size, 200, input_length=dim, trainable=True)\n",
    "glove_embedding = Embedding(vocab_size, 200, input_length=dim, embeddings_initializer=initializers.Constant(glove_weights),\n",
    "                            trainable=False)\n",
    "word2vec_embedding = Embedding(vocab_size, 300, input_length=dim, embeddings_initializer=initializers.Constant(word2vec_weights),\n",
    "                              trainable=False)"
   ],
   "metadata": {
    "pycharm": {
     "name": "#%%\n"
    },
    "id": "LRDBB4KSmseu"
   }
  },
  {
   "cell_type": "markdown",
   "source": [
    "### Load DL Models and Run Them"
   ],
   "metadata": {
    "collapsed": false,
    "pycharm": {
     "name": "#%% md\n"
    },
    "id": "cdCOlM6Emseu"
   }
  },
  {
   "cell_type": "code",
   "execution_count": null,
   "outputs": [],
   "source": [
    "lstm_random = lstm_keras(dim,n_classes,random_embedder)\n",
    "lstm_random_over = lstm_keras(dim,n_classes,random_embedder)\n",
    "lstm_glove = lstm_keras(dim,n_classes,glove_embedding)\n",
    "lstm_glove_over = lstm_keras(dim,n_classes,glove_embedding)\n",
    "lstm_word2vec = lstm_keras(dim,n_classes,word2vec_embedding)\n",
    "lstm_word2vec_over = lstm_keras(dim,n_classes,word2vec_embedding)"
   ],
   "metadata": {
    "pycharm": {
     "name": "#%%\n"
    },
    "id": "0cjwVFK-mseu"
   }
  },
  {
   "cell_type": "code",
   "execution_count": null,
   "outputs": [],
   "source": [
    "blstm_random = blstm(dim,n_classes,random_embedder)\n",
    "blstm_random_over = blstm(dim,n_classes,random_embedder)\n",
    "blstm_glove = blstm(dim,n_classes,glove_embedding)\n",
    "blstm_glove_over = blstm(dim,n_classes,glove_embedding)\n",
    "blstm_word2vec = blstm(dim,n_classes,word2vec_embedding)\n",
    "blstm_word2vec_over = blstm(dim,n_classes,word2vec_embedding)"
   ],
   "metadata": {
    "pycharm": {
     "name": "#%%\n"
    },
    "id": "YfAp2aqpmseu"
   }
  },
  {
   "cell_type": "code",
   "execution_count": null,
   "outputs": [],
   "source": [
    "blstm_att_random = blstm_att(dim,n_classes,random_embedder)\n",
    "blstm_att_random_over = blstm_att(dim,n_classes,random_embedder)\n",
    "blstm_att_glove = blstm_att(dim,n_classes,glove_embedding)\n",
    "blstm_att_glove_over = blstm_att(dim,n_classes,glove_embedding)\n",
    "blstm_att_word2vec = blstm_att(dim,n_classes,word2vec_embedding)\n",
    "blstm_att_word2vec_over = blstm_att(dim,n_classes,word2vec_embedding)"
   ],
   "metadata": {
    "pycharm": {
     "name": "#%%\n"
    },
    "id": "pe0_vauOmsev"
   }
  },
  {
   "cell_type": "code",
   "execution_count": null,
   "outputs": [],
   "source": [
    "cnn_random = cnn_keras(dim,n_classes,random_embedder)\n",
    "cnn_random_over = cnn_keras(dim,n_classes,random_embedder)\n",
    "cnn_glove = cnn_keras(dim,n_classes,glove_embedding)\n",
    "cnn_glove_over = cnn_keras(dim,n_classes,glove_embedding)\n",
    "cnn_word2vec = cnn_keras(dim,n_classes,word2vec_embedding)\n",
    "cnn_word2vec_over = cnn_keras(dim,n_classes,word2vec_embedding)"
   ],
   "metadata": {
    "pycharm": {
     "name": "#%%\n"
    },
    "id": "uk7T0YSkmsev"
   }
  },
  {
   "cell_type": "markdown",
   "source": [
    "### Big Blob of Fits"
   ],
   "metadata": {
    "collapsed": false,
    "pycharm": {
     "name": "#%% md\n"
    },
    "id": "V7HlUJilmsev"
   }
  },
  {
   "cell_type": "code",
   "execution_count": null,
   "outputs": [
    {
     "output_type": "stream",
     "name": "stdout",
     "text": [
      "Epoch 1/30\n",
      "2897/2897 [==============================] - 47s 15ms/step - loss: 0.3617 - accuracy: 0.8841 - val_loss: 0.2887 - val_accuracy: 0.9153\n",
      "Epoch 2/30\n",
      "2897/2897 [==============================] - 42s 14ms/step - loss: 0.2719 - accuracy: 0.9025 - val_loss: 0.1845 - val_accuracy: 0.9351\n",
      "Epoch 3/30\n",
      "2897/2897 [==============================] - 42s 14ms/step - loss: 0.1497 - accuracy: 0.9476 - val_loss: 0.1443 - val_accuracy: 0.9504\n",
      "Epoch 4/30\n",
      "2897/2897 [==============================] - 42s 14ms/step - loss: 0.1011 - accuracy: 0.9627 - val_loss: 0.1633 - val_accuracy: 0.9441\n",
      "Epoch 5/30\n",
      "2897/2897 [==============================] - 42s 14ms/step - loss: 0.0717 - accuracy: 0.9737 - val_loss: 0.1729 - val_accuracy: 0.9406\n",
      "Epoch 6/30\n",
      "2897/2897 [==============================] - 42s 15ms/step - loss: 0.0516 - accuracy: 0.9812 - val_loss: 0.2204 - val_accuracy: 0.9340\n",
      "Epoch 7/30\n",
      "2897/2897 [==============================] - 42s 15ms/step - loss: 0.0372 - accuracy: 0.9866 - val_loss: 0.2581 - val_accuracy: 0.9242\n",
      "Epoch 8/30\n",
      "2897/2897 [==============================] - 42s 14ms/step - loss: 0.0253 - accuracy: 0.9911 - val_loss: 0.3468 - val_accuracy: 0.9275\n",
      "Epoch 9/30\n",
      "2897/2897 [==============================] - 42s 15ms/step - loss: 0.0193 - accuracy: 0.9931 - val_loss: 0.3479 - val_accuracy: 0.9252\n",
      "Epoch 10/30\n",
      "2897/2897 [==============================] - 42s 14ms/step - loss: 0.0158 - accuracy: 0.9945 - val_loss: 0.3386 - val_accuracy: 0.9256\n",
      "Epoch 11/30\n",
      "2897/2897 [==============================] - 42s 15ms/step - loss: 0.0119 - accuracy: 0.9958 - val_loss: 0.4296 - val_accuracy: 0.9233\n",
      "Epoch 12/30\n",
      "2897/2897 [==============================] - 42s 14ms/step - loss: 0.0107 - accuracy: 0.9964 - val_loss: 0.4069 - val_accuracy: 0.9285\n",
      "Epoch 13/30\n",
      "2897/2897 [==============================] - 42s 14ms/step - loss: 0.0095 - accuracy: 0.9966 - val_loss: 0.4264 - val_accuracy: 0.9299\n",
      "Epoch 14/30\n",
      "2897/2897 [==============================] - 42s 14ms/step - loss: 0.0071 - accuracy: 0.9973 - val_loss: 0.4088 - val_accuracy: 0.9258\n",
      "Epoch 15/30\n",
      "2897/2897 [==============================] - 42s 14ms/step - loss: 0.0071 - accuracy: 0.9976 - val_loss: 0.4441 - val_accuracy: 0.9312\n",
      "Epoch 16/30\n",
      "2897/2897 [==============================] - 42s 14ms/step - loss: 0.0060 - accuracy: 0.9979 - val_loss: 0.4754 - val_accuracy: 0.9182\n",
      "Epoch 17/30\n",
      "2897/2897 [==============================] - 42s 14ms/step - loss: 0.0055 - accuracy: 0.9980 - val_loss: 0.4363 - val_accuracy: 0.9278\n",
      "Epoch 18/30\n",
      "2897/2897 [==============================] - 42s 14ms/step - loss: 0.0054 - accuracy: 0.9980 - val_loss: 0.4171 - val_accuracy: 0.9282\n",
      "Epoch 19/30\n",
      "2897/2897 [==============================] - 42s 14ms/step - loss: 0.0051 - accuracy: 0.9981 - val_loss: 0.5188 - val_accuracy: 0.9349\n",
      "Epoch 20/30\n",
      "2897/2897 [==============================] - 42s 14ms/step - loss: 0.0044 - accuracy: 0.9983 - val_loss: 0.5089 - val_accuracy: 0.9259\n",
      "Epoch 21/30\n",
      "2897/2897 [==============================] - 42s 14ms/step - loss: 0.0041 - accuracy: 0.9985 - val_loss: 0.5026 - val_accuracy: 0.9323\n",
      "Epoch 22/30\n",
      "2897/2897 [==============================] - 42s 14ms/step - loss: 0.0038 - accuracy: 0.9986 - val_loss: 0.5327 - val_accuracy: 0.9341\n",
      "Epoch 23/30\n",
      "2897/2897 [==============================] - 42s 14ms/step - loss: 0.0033 - accuracy: 0.9987 - val_loss: 0.5419 - val_accuracy: 0.9324\n",
      "Epoch 24/30\n",
      "2897/2897 [==============================] - 42s 14ms/step - loss: 0.0037 - accuracy: 0.9986 - val_loss: 0.5824 - val_accuracy: 0.9371\n",
      "Epoch 25/30\n",
      "2897/2897 [==============================] - 42s 14ms/step - loss: 0.0027 - accuracy: 0.9988 - val_loss: 0.6378 - val_accuracy: 0.9365\n",
      "Epoch 26/30\n",
      "2897/2897 [==============================] - 42s 14ms/step - loss: 0.0038 - accuracy: 0.9987 - val_loss: 0.5076 - val_accuracy: 0.9301\n",
      "Epoch 27/30\n",
      "2897/2897 [==============================] - 42s 14ms/step - loss: 0.0028 - accuracy: 0.9989 - val_loss: 0.5276 - val_accuracy: 0.9350\n",
      "Epoch 28/30\n",
      "2897/2897 [==============================] - 42s 14ms/step - loss: 0.0029 - accuracy: 0.9988 - val_loss: 0.4275 - val_accuracy: 0.9308\n",
      "Epoch 29/30\n",
      "2897/2897 [==============================] - 42s 14ms/step - loss: 0.0029 - accuracy: 0.9988 - val_loss: 0.5452 - val_accuracy: 0.9331\n",
      "Epoch 30/30\n",
      "2897/2897 [==============================] - 42s 14ms/step - loss: 0.0033 - accuracy: 0.9987 - val_loss: 0.4979 - val_accuracy: 0.9356\n",
      "Epoch 1/30\n",
      "5110/5110 [==============================] - 75s 14ms/step - loss: 0.2297 - accuracy: 0.8998 - val_loss: 0.3466 - val_accuracy: 0.9257\n",
      "Epoch 2/30\n",
      "5110/5110 [==============================] - 73s 14ms/step - loss: 0.0182 - accuracy: 0.9950 - val_loss: 0.3913 - val_accuracy: 0.9309\n",
      "Epoch 3/30\n",
      "5110/5110 [==============================] - 73s 14ms/step - loss: 0.0093 - accuracy: 0.9975 - val_loss: 0.5254 - val_accuracy: 0.9391\n",
      "Epoch 4/30\n",
      "5110/5110 [==============================] - 73s 14ms/step - loss: 0.0081 - accuracy: 0.9979 - val_loss: 0.5183 - val_accuracy: 0.9357\n",
      "Epoch 5/30\n",
      "5110/5110 [==============================] - 73s 14ms/step - loss: 0.0066 - accuracy: 0.9984 - val_loss: 0.4374 - val_accuracy: 0.9363\n",
      "Epoch 6/30\n",
      "5110/5110 [==============================] - 73s 14ms/step - loss: 0.0055 - accuracy: 0.9985 - val_loss: 0.6128 - val_accuracy: 0.9412\n",
      "Epoch 7/30\n",
      "5110/5110 [==============================] - 73s 14ms/step - loss: 0.0055 - accuracy: 0.9986 - val_loss: 0.4000 - val_accuracy: 0.9344\n",
      "Epoch 8/30\n",
      "5110/5110 [==============================] - 73s 14ms/step - loss: 0.0045 - accuracy: 0.9989 - val_loss: 0.6450 - val_accuracy: 0.9366\n",
      "Epoch 9/30\n",
      "5110/5110 [==============================] - 74s 14ms/step - loss: 0.0043 - accuracy: 0.9989 - val_loss: 0.5746 - val_accuracy: 0.9388\n",
      "Epoch 10/30\n",
      "5110/5110 [==============================] - 74s 14ms/step - loss: 0.0041 - accuracy: 0.9989 - val_loss: 0.5949 - val_accuracy: 0.9403\n",
      "Epoch 11/30\n",
      "5110/5110 [==============================] - 73s 14ms/step - loss: 0.0034 - accuracy: 0.9992 - val_loss: 0.6485 - val_accuracy: 0.9393\n",
      "Epoch 12/30\n",
      "5110/5110 [==============================] - 73s 14ms/step - loss: 0.0038 - accuracy: 0.9991 - val_loss: 0.6006 - val_accuracy: 0.9398\n",
      "Epoch 13/30\n",
      "5110/5110 [==============================] - 73s 14ms/step - loss: 0.0039 - accuracy: 0.9991 - val_loss: 0.5906 - val_accuracy: 0.9397\n",
      "Epoch 14/30\n",
      "5110/5110 [==============================] - 73s 14ms/step - loss: 0.0037 - accuracy: 0.9991 - val_loss: 0.6654 - val_accuracy: 0.9403\n",
      "Epoch 15/30\n",
      "5110/5110 [==============================] - 73s 14ms/step - loss: 0.0036 - accuracy: 0.9991 - val_loss: 0.7299 - val_accuracy: 0.9377\n",
      "Epoch 16/30\n",
      "5110/5110 [==============================] - 73s 14ms/step - loss: 0.0032 - accuracy: 0.9992 - val_loss: 0.9232 - val_accuracy: 0.9371\n",
      "Epoch 17/30\n",
      "5110/5110 [==============================] - 73s 14ms/step - loss: 0.0034 - accuracy: 0.9992 - val_loss: 0.9045 - val_accuracy: 0.9379\n",
      "Epoch 18/30\n",
      "5110/5110 [==============================] - 73s 14ms/step - loss: 0.0036 - accuracy: 0.9992 - val_loss: 0.7259 - val_accuracy: 0.9377\n",
      "Epoch 19/30\n",
      "5110/5110 [==============================] - 73s 14ms/step - loss: 0.0034 - accuracy: 0.9991 - val_loss: 1.0294 - val_accuracy: 0.9315\n",
      "Epoch 20/30\n",
      "5110/5110 [==============================] - 73s 14ms/step - loss: 0.0036 - accuracy: 0.9992 - val_loss: 0.5168 - val_accuracy: 0.9380\n",
      "Epoch 21/30\n",
      "5110/5110 [==============================] - 73s 14ms/step - loss: 0.0037 - accuracy: 0.9992 - val_loss: 0.7128 - val_accuracy: 0.9372\n",
      "Epoch 22/30\n",
      "5110/5110 [==============================] - 73s 14ms/step - loss: 0.0031 - accuracy: 0.9993 - val_loss: 0.8082 - val_accuracy: 0.9366\n",
      "Epoch 23/30\n",
      "5110/5110 [==============================] - 73s 14ms/step - loss: 0.0028 - accuracy: 0.9993 - val_loss: 0.8546 - val_accuracy: 0.9367\n",
      "Epoch 24/30\n",
      "5110/5110 [==============================] - 73s 14ms/step - loss: 0.0031 - accuracy: 0.9993 - val_loss: 0.9022 - val_accuracy: 0.9366\n",
      "Epoch 25/30\n",
      "5110/5110 [==============================] - 73s 14ms/step - loss: 0.0031 - accuracy: 0.9993 - val_loss: 0.6547 - val_accuracy: 0.9391\n",
      "Epoch 26/30\n",
      "5110/5110 [==============================] - 73s 14ms/step - loss: 0.0029 - accuracy: 0.9993 - val_loss: 0.8250 - val_accuracy: 0.9393\n",
      "Epoch 27/30\n",
      "5110/5110 [==============================] - 73s 14ms/step - loss: 0.0037 - accuracy: 0.9992 - val_loss: 0.9165 - val_accuracy: 0.9381\n",
      "Epoch 28/30\n",
      "5110/5110 [==============================] - 73s 14ms/step - loss: 0.0031 - accuracy: 0.9993 - val_loss: 0.9656 - val_accuracy: 0.9385\n",
      "Epoch 29/30\n",
      "5110/5110 [==============================] - 73s 14ms/step - loss: 0.0030 - accuracy: 0.9993 - val_loss: 0.7433 - val_accuracy: 0.9366\n",
      "Epoch 30/30\n",
      "5110/5110 [==============================] - 73s 14ms/step - loss: 0.0029 - accuracy: 0.9993 - val_loss: 0.7822 - val_accuracy: 0.9367\n",
      "Epoch 1/30\n",
      "2897/2897 [==============================] - 22s 7ms/step - loss: 0.3361 - accuracy: 0.8870 - val_loss: 0.3613 - val_accuracy: 0.8855\n",
      "Epoch 2/30\n",
      "2897/2897 [==============================] - 20s 7ms/step - loss: 0.3427 - accuracy: 0.8826 - val_loss: 0.3494 - val_accuracy: 0.8869\n",
      "Epoch 3/30\n",
      "2897/2897 [==============================] - 20s 7ms/step - loss: 0.2633 - accuracy: 0.9087 - val_loss: 0.1688 - val_accuracy: 0.9386\n",
      "Epoch 4/30\n",
      "2897/2897 [==============================] - 20s 7ms/step - loss: 0.1756 - accuracy: 0.9368 - val_loss: 0.1635 - val_accuracy: 0.9429\n",
      "Epoch 5/30\n",
      "2897/2897 [==============================] - 20s 7ms/step - loss: 0.1625 - accuracy: 0.9410 - val_loss: 0.1503 - val_accuracy: 0.9461\n",
      "Epoch 6/30\n",
      "2897/2897 [==============================] - 20s 7ms/step - loss: 0.1521 - accuracy: 0.9441 - val_loss: 0.1472 - val_accuracy: 0.9472\n",
      "Epoch 7/30\n",
      "2897/2897 [==============================] - 20s 7ms/step - loss: 0.1434 - accuracy: 0.9476 - val_loss: 0.1455 - val_accuracy: 0.9468\n",
      "Epoch 8/30\n",
      "2897/2897 [==============================] - 20s 7ms/step - loss: 0.1364 - accuracy: 0.9497 - val_loss: 0.1496 - val_accuracy: 0.9445\n",
      "Epoch 9/30\n",
      "2897/2897 [==============================] - 20s 7ms/step - loss: 0.1295 - accuracy: 0.9528 - val_loss: 0.1486 - val_accuracy: 0.9465\n",
      "Epoch 10/30\n",
      "2897/2897 [==============================] - 20s 7ms/step - loss: 0.1245 - accuracy: 0.9538 - val_loss: 0.1487 - val_accuracy: 0.9476\n",
      "Epoch 11/30\n",
      "2897/2897 [==============================] - 20s 7ms/step - loss: 0.1179 - accuracy: 0.9561 - val_loss: 0.1466 - val_accuracy: 0.9459\n",
      "Epoch 12/30\n",
      "2897/2897 [==============================] - 20s 7ms/step - loss: 0.1124 - accuracy: 0.9586 - val_loss: 0.1504 - val_accuracy: 0.9452\n",
      "Epoch 13/30\n",
      "2897/2897 [==============================] - 20s 7ms/step - loss: 0.1074 - accuracy: 0.9601 - val_loss: 0.1681 - val_accuracy: 0.9425\n",
      "Epoch 14/30\n",
      "2897/2897 [==============================] - 20s 7ms/step - loss: 0.1033 - accuracy: 0.9617 - val_loss: 0.1688 - val_accuracy: 0.9454\n",
      "Epoch 15/30\n",
      "2897/2897 [==============================] - 20s 7ms/step - loss: 0.0987 - accuracy: 0.9628 - val_loss: 0.1585 - val_accuracy: 0.9461\n",
      "Epoch 16/30\n",
      "2897/2897 [==============================] - 20s 7ms/step - loss: 0.0948 - accuracy: 0.9635 - val_loss: 0.1689 - val_accuracy: 0.9446\n",
      "Epoch 17/30\n",
      "2897/2897 [==============================] - 20s 7ms/step - loss: 0.0915 - accuracy: 0.9662 - val_loss: 0.1804 - val_accuracy: 0.9429\n",
      "Epoch 18/30\n",
      "2897/2897 [==============================] - 20s 7ms/step - loss: 0.0895 - accuracy: 0.9662 - val_loss: 0.1706 - val_accuracy: 0.9452\n",
      "Epoch 19/30\n",
      "2897/2897 [==============================] - 20s 7ms/step - loss: 0.0867 - accuracy: 0.9673 - val_loss: 0.1762 - val_accuracy: 0.9399\n",
      "Epoch 20/30\n",
      "2897/2897 [==============================] - 20s 7ms/step - loss: 0.0823 - accuracy: 0.9691 - val_loss: 0.1715 - val_accuracy: 0.9448\n",
      "Epoch 21/30\n",
      "2897/2897 [==============================] - 20s 7ms/step - loss: 0.0814 - accuracy: 0.9691 - val_loss: 0.1727 - val_accuracy: 0.9421\n",
      "Epoch 22/30\n",
      "2897/2897 [==============================] - 20s 7ms/step - loss: 0.0781 - accuracy: 0.9708 - val_loss: 0.1862 - val_accuracy: 0.9393\n",
      "Epoch 23/30\n",
      "2897/2897 [==============================] - 20s 7ms/step - loss: 0.0769 - accuracy: 0.9715 - val_loss: 0.1851 - val_accuracy: 0.9410\n",
      "Epoch 24/30\n",
      "2897/2897 [==============================] - 20s 7ms/step - loss: 0.0749 - accuracy: 0.9722 - val_loss: 0.1817 - val_accuracy: 0.9384\n",
      "Epoch 25/30\n",
      "2897/2897 [==============================] - 20s 7ms/step - loss: 0.0725 - accuracy: 0.9728 - val_loss: 0.1891 - val_accuracy: 0.9422\n",
      "Epoch 26/30\n",
      "2897/2897 [==============================] - 20s 7ms/step - loss: 0.0704 - accuracy: 0.9739 - val_loss: 0.1840 - val_accuracy: 0.9429\n",
      "Epoch 27/30\n",
      "2897/2897 [==============================] - 20s 7ms/step - loss: 0.0693 - accuracy: 0.9739 - val_loss: 0.1915 - val_accuracy: 0.9379\n",
      "Epoch 28/30\n",
      "2897/2897 [==============================] - 20s 7ms/step - loss: 0.0684 - accuracy: 0.9746 - val_loss: 0.1935 - val_accuracy: 0.9432\n",
      "Epoch 29/30\n",
      "2897/2897 [==============================] - 20s 7ms/step - loss: 0.0657 - accuracy: 0.9753 - val_loss: 0.2022 - val_accuracy: 0.9414\n",
      "Epoch 30/30\n",
      "2897/2897 [==============================] - 20s 7ms/step - loss: 0.0644 - accuracy: 0.9757 - val_loss: 0.2077 - val_accuracy: 0.9383\n",
      "Epoch 1/30\n",
      "5110/5110 [==============================] - 36s 7ms/step - loss: 0.4892 - accuracy: 0.7717 - val_loss: 0.2909 - val_accuracy: 0.8981\n",
      "Epoch 2/30\n",
      "5110/5110 [==============================] - 34s 7ms/step - loss: 0.3476 - accuracy: 0.8563 - val_loss: 0.2884 - val_accuracy: 0.8771\n",
      "Epoch 3/30\n",
      "5110/5110 [==============================] - 34s 7ms/step - loss: 0.2633 - accuracy: 0.8904 - val_loss: 0.2309 - val_accuracy: 0.8921\n",
      "Epoch 4/30\n",
      "5110/5110 [==============================] - 34s 7ms/step - loss: 0.2079 - accuracy: 0.9143 - val_loss: 0.2130 - val_accuracy: 0.9091\n",
      "Epoch 5/30\n",
      "5110/5110 [==============================] - 34s 7ms/step - loss: 0.1680 - accuracy: 0.9346 - val_loss: 0.2211 - val_accuracy: 0.9093\n",
      "Epoch 6/30\n",
      "5110/5110 [==============================] - 34s 7ms/step - loss: 0.1421 - accuracy: 0.9461 - val_loss: 0.2368 - val_accuracy: 0.9083\n",
      "Epoch 7/30\n",
      "5110/5110 [==============================] - 34s 7ms/step - loss: 0.1249 - accuracy: 0.9542 - val_loss: 0.2359 - val_accuracy: 0.9122\n",
      "Epoch 8/30\n",
      "5110/5110 [==============================] - 34s 7ms/step - loss: 0.1119 - accuracy: 0.9602 - val_loss: 0.2324 - val_accuracy: 0.9233\n",
      "Epoch 9/30\n",
      "5110/5110 [==============================] - 34s 7ms/step - loss: 0.1045 - accuracy: 0.9630 - val_loss: 0.2406 - val_accuracy: 0.9268\n",
      "Epoch 10/30\n",
      "5110/5110 [==============================] - 34s 7ms/step - loss: 0.0951 - accuracy: 0.9669 - val_loss: 0.2323 - val_accuracy: 0.9246\n",
      "Epoch 11/30\n",
      "5110/5110 [==============================] - 34s 7ms/step - loss: 0.0907 - accuracy: 0.9684 - val_loss: 0.2436 - val_accuracy: 0.9301\n",
      "Epoch 12/30\n",
      "5110/5110 [==============================] - 34s 7ms/step - loss: 0.0861 - accuracy: 0.9702 - val_loss: 0.2483 - val_accuracy: 0.9257\n",
      "Epoch 13/30\n",
      "5110/5110 [==============================] - 34s 7ms/step - loss: 0.0822 - accuracy: 0.9715 - val_loss: 0.2567 - val_accuracy: 0.9276\n",
      "Epoch 14/30\n",
      "5110/5110 [==============================] - 34s 7ms/step - loss: 0.0795 - accuracy: 0.9730 - val_loss: 0.2794 - val_accuracy: 0.9235\n",
      "Epoch 15/30\n",
      "5110/5110 [==============================] - 34s 7ms/step - loss: 0.0762 - accuracy: 0.9736 - val_loss: 0.2746 - val_accuracy: 0.9314\n",
      "Epoch 16/30\n",
      "5110/5110 [==============================] - 34s 7ms/step - loss: 0.0769 - accuracy: 0.9736 - val_loss: 0.2472 - val_accuracy: 0.9223\n",
      "Epoch 17/30\n",
      "5110/5110 [==============================] - 34s 7ms/step - loss: 0.0722 - accuracy: 0.9757 - val_loss: 0.2370 - val_accuracy: 0.9345\n",
      "Epoch 18/30\n",
      "5110/5110 [==============================] - 34s 7ms/step - loss: 0.0721 - accuracy: 0.9755 - val_loss: 0.2529 - val_accuracy: 0.9331\n",
      "Epoch 19/30\n",
      "5110/5110 [==============================] - 34s 7ms/step - loss: 0.0700 - accuracy: 0.9762 - val_loss: 0.2724 - val_accuracy: 0.9271\n",
      "Epoch 20/30\n",
      "5110/5110 [==============================] - 34s 7ms/step - loss: 0.0677 - accuracy: 0.9770 - val_loss: 0.2519 - val_accuracy: 0.9299\n",
      "Epoch 21/30\n",
      "5110/5110 [==============================] - 34s 7ms/step - loss: 0.0665 - accuracy: 0.9774 - val_loss: 0.2801 - val_accuracy: 0.9259\n",
      "Epoch 22/30\n",
      "5110/5110 [==============================] - 34s 7ms/step - loss: 0.0657 - accuracy: 0.9777 - val_loss: 0.2598 - val_accuracy: 0.9344\n",
      "Epoch 23/30\n",
      "5110/5110 [==============================] - 34s 7ms/step - loss: 0.0657 - accuracy: 0.9777 - val_loss: 0.2685 - val_accuracy: 0.9275\n",
      "Epoch 24/30\n",
      "5110/5110 [==============================] - 34s 7ms/step - loss: 0.0641 - accuracy: 0.9782 - val_loss: 0.2651 - val_accuracy: 0.9302\n",
      "Epoch 25/30\n",
      "5110/5110 [==============================] - 34s 7ms/step - loss: 0.0627 - accuracy: 0.9789 - val_loss: 0.2781 - val_accuracy: 0.9215\n",
      "Epoch 26/30\n",
      "5110/5110 [==============================] - 34s 7ms/step - loss: 0.0614 - accuracy: 0.9792 - val_loss: 0.2808 - val_accuracy: 0.9279\n",
      "Epoch 27/30\n",
      "5110/5110 [==============================] - 34s 7ms/step - loss: 0.0608 - accuracy: 0.9792 - val_loss: 0.2800 - val_accuracy: 0.9317\n",
      "Epoch 28/30\n",
      "5110/5110 [==============================] - 34s 7ms/step - loss: 0.0609 - accuracy: 0.9791 - val_loss: 0.2638 - val_accuracy: 0.9251\n",
      "Epoch 29/30\n",
      "5110/5110 [==============================] - 34s 7ms/step - loss: 0.0601 - accuracy: 0.9795 - val_loss: 0.2676 - val_accuracy: 0.9341\n",
      "Epoch 30/30\n",
      "5110/5110 [==============================] - 34s 7ms/step - loss: 0.0590 - accuracy: 0.9796 - val_loss: 0.2859 - val_accuracy: 0.9252\n",
      "Epoch 1/30\n",
      "2897/2897 [==============================] - 22s 7ms/step - loss: 0.3446 - accuracy: 0.8861 - val_loss: 0.2866 - val_accuracy: 0.9157\n",
      "Epoch 2/30\n",
      "2897/2897 [==============================] - 20s 7ms/step - loss: 0.3300 - accuracy: 0.8904 - val_loss: 0.3575 - val_accuracy: 0.8858\n",
      "Epoch 3/30\n",
      "2897/2897 [==============================] - 20s 7ms/step - loss: 0.3068 - accuracy: 0.8977 - val_loss: 0.1736 - val_accuracy: 0.9375\n",
      "Epoch 4/30\n",
      "2897/2897 [==============================] - 20s 7ms/step - loss: 0.1705 - accuracy: 0.9387 - val_loss: 0.1548 - val_accuracy: 0.9434\n",
      "Epoch 5/30\n",
      "2897/2897 [==============================] - 20s 7ms/step - loss: 0.1558 - accuracy: 0.9424 - val_loss: 0.1505 - val_accuracy: 0.9441\n",
      "Epoch 6/30\n",
      "2897/2897 [==============================] - 20s 7ms/step - loss: 0.1481 - accuracy: 0.9448 - val_loss: 0.1445 - val_accuracy: 0.9461\n",
      "Epoch 7/30\n",
      "2897/2897 [==============================] - 20s 7ms/step - loss: 0.1410 - accuracy: 0.9471 - val_loss: 0.1431 - val_accuracy: 0.9465\n",
      "Epoch 8/30\n",
      "2897/2897 [==============================] - 20s 7ms/step - loss: 0.1357 - accuracy: 0.9494 - val_loss: 0.1461 - val_accuracy: 0.9473\n",
      "Epoch 9/30\n",
      "2897/2897 [==============================] - 20s 7ms/step - loss: 0.1292 - accuracy: 0.9518 - val_loss: 0.1480 - val_accuracy: 0.9452\n",
      "Epoch 10/30\n",
      "2897/2897 [==============================] - 20s 7ms/step - loss: 0.1240 - accuracy: 0.9531 - val_loss: 0.1419 - val_accuracy: 0.9480\n",
      "Epoch 11/30\n",
      "2897/2897 [==============================] - 20s 7ms/step - loss: 0.1178 - accuracy: 0.9559 - val_loss: 0.1496 - val_accuracy: 0.9472\n",
      "Epoch 12/30\n",
      "2897/2897 [==============================] - 20s 7ms/step - loss: 0.1119 - accuracy: 0.9575 - val_loss: 0.1535 - val_accuracy: 0.9455\n",
      "Epoch 13/30\n",
      "2897/2897 [==============================] - 20s 7ms/step - loss: 0.1065 - accuracy: 0.9592 - val_loss: 0.1621 - val_accuracy: 0.9479\n",
      "Epoch 14/30\n",
      "2897/2897 [==============================] - 20s 7ms/step - loss: 0.0992 - accuracy: 0.9615 - val_loss: 0.1656 - val_accuracy: 0.9457\n",
      "Epoch 15/30\n",
      "2897/2897 [==============================] - 20s 7ms/step - loss: 0.0953 - accuracy: 0.9634 - val_loss: 0.1625 - val_accuracy: 0.9441\n",
      "Epoch 16/30\n",
      "2897/2897 [==============================] - 20s 7ms/step - loss: 0.0891 - accuracy: 0.9658 - val_loss: 0.1813 - val_accuracy: 0.9463\n",
      "Epoch 17/30\n",
      "2897/2897 [==============================] - 20s 7ms/step - loss: 0.0855 - accuracy: 0.9672 - val_loss: 0.1765 - val_accuracy: 0.9431\n",
      "Epoch 18/30\n",
      "2897/2897 [==============================] - 20s 7ms/step - loss: 0.0813 - accuracy: 0.9697 - val_loss: 0.2163 - val_accuracy: 0.9462\n",
      "Epoch 19/30\n",
      "2897/2897 [==============================] - 20s 7ms/step - loss: 0.0778 - accuracy: 0.9704 - val_loss: 0.1916 - val_accuracy: 0.9462\n",
      "Epoch 20/30\n",
      "2897/2897 [==============================] - 20s 7ms/step - loss: 0.0726 - accuracy: 0.9724 - val_loss: 0.1929 - val_accuracy: 0.9412\n",
      "Epoch 21/30\n",
      "2897/2897 [==============================] - 20s 7ms/step - loss: 0.0678 - accuracy: 0.9750 - val_loss: 0.2011 - val_accuracy: 0.9439\n",
      "Epoch 22/30\n",
      "2897/2897 [==============================] - 20s 7ms/step - loss: 0.0653 - accuracy: 0.9756 - val_loss: 0.1966 - val_accuracy: 0.9422\n",
      "Epoch 23/30\n",
      "2897/2897 [==============================] - 20s 7ms/step - loss: 0.0627 - accuracy: 0.9764 - val_loss: 0.2173 - val_accuracy: 0.9419\n",
      "Epoch 24/30\n",
      "2897/2897 [==============================] - 20s 7ms/step - loss: 0.0592 - accuracy: 0.9778 - val_loss: 0.2276 - val_accuracy: 0.9408\n",
      "Epoch 25/30\n",
      "2897/2897 [==============================] - 20s 7ms/step - loss: 0.0560 - accuracy: 0.9795 - val_loss: 0.2467 - val_accuracy: 0.9448\n",
      "Epoch 26/30\n",
      "2897/2897 [==============================] - 20s 7ms/step - loss: 0.0585 - accuracy: 0.9786 - val_loss: 0.2451 - val_accuracy: 0.9411\n",
      "Epoch 27/30\n",
      "2897/2897 [==============================] - 20s 7ms/step - loss: 0.0529 - accuracy: 0.9802 - val_loss: 0.2311 - val_accuracy: 0.9454\n",
      "Epoch 28/30\n",
      "2897/2897 [==============================] - 20s 7ms/step - loss: 0.0500 - accuracy: 0.9819 - val_loss: 0.2348 - val_accuracy: 0.9442\n",
      "Epoch 29/30\n",
      "2897/2897 [==============================] - 20s 7ms/step - loss: 0.0474 - accuracy: 0.9826 - val_loss: 0.2348 - val_accuracy: 0.9448\n",
      "Epoch 30/30\n",
      "2897/2897 [==============================] - 20s 7ms/step - loss: 0.0468 - accuracy: 0.9824 - val_loss: 0.2579 - val_accuracy: 0.9424\n",
      "Epoch 1/30\n",
      "5110/5110 [==============================] - 38s 7ms/step - loss: 0.3575 - accuracy: 0.8420 - val_loss: 0.2137 - val_accuracy: 0.9128\n",
      "Epoch 2/30\n",
      "5110/5110 [==============================] - 35s 7ms/step - loss: 0.2450 - accuracy: 0.9003 - val_loss: 0.2578 - val_accuracy: 0.8858\n",
      "Epoch 3/30\n",
      "5110/5110 [==============================] - 35s 7ms/step - loss: 0.2083 - accuracy: 0.9160 - val_loss: 0.2025 - val_accuracy: 0.9159\n",
      "Epoch 4/30\n",
      "5110/5110 [==============================] - 35s 7ms/step - loss: 0.1815 - accuracy: 0.9289 - val_loss: 0.2095 - val_accuracy: 0.9133\n",
      "Epoch 5/30\n",
      "5110/5110 [==============================] - 35s 7ms/step - loss: 0.1614 - accuracy: 0.9383 - val_loss: 0.2160 - val_accuracy: 0.9164\n",
      "Epoch 6/30\n",
      "5110/5110 [==============================] - 35s 7ms/step - loss: 0.1412 - accuracy: 0.9483 - val_loss: 0.2298 - val_accuracy: 0.9143\n",
      "Epoch 7/30\n",
      "5110/5110 [==============================] - 35s 7ms/step - loss: 0.1289 - accuracy: 0.9534 - val_loss: 0.2086 - val_accuracy: 0.9347\n",
      "Epoch 8/30\n",
      "5110/5110 [==============================] - 35s 7ms/step - loss: 0.1164 - accuracy: 0.9595 - val_loss: 0.2307 - val_accuracy: 0.9245\n",
      "Epoch 9/30\n",
      "5110/5110 [==============================] - 35s 7ms/step - loss: 0.1112 - accuracy: 0.9612 - val_loss: 0.2466 - val_accuracy: 0.9226\n",
      "Epoch 10/30\n",
      "5110/5110 [==============================] - 35s 7ms/step - loss: 0.1012 - accuracy: 0.9654 - val_loss: 0.2366 - val_accuracy: 0.9286\n",
      "Epoch 11/30\n",
      "5110/5110 [==============================] - 35s 7ms/step - loss: 0.0973 - accuracy: 0.9677 - val_loss: 0.2307 - val_accuracy: 0.9367\n",
      "Epoch 12/30\n",
      "5110/5110 [==============================] - 35s 7ms/step - loss: 0.0900 - accuracy: 0.9700 - val_loss: 0.2670 - val_accuracy: 0.9245\n",
      "Epoch 13/30\n",
      "5110/5110 [==============================] - 35s 7ms/step - loss: 0.0845 - accuracy: 0.9724 - val_loss: 0.2460 - val_accuracy: 0.9330\n",
      "Epoch 14/30\n",
      "5110/5110 [==============================] - 35s 7ms/step - loss: 0.0812 - accuracy: 0.9740 - val_loss: 0.2571 - val_accuracy: 0.9281\n",
      "Epoch 15/30\n",
      "5110/5110 [==============================] - 35s 7ms/step - loss: 0.0758 - accuracy: 0.9754 - val_loss: 0.2738 - val_accuracy: 0.9315\n",
      "Epoch 16/30\n",
      "5110/5110 [==============================] - 35s 7ms/step - loss: 0.0736 - accuracy: 0.9761 - val_loss: 0.2786 - val_accuracy: 0.9322\n",
      "Epoch 17/30\n",
      "5110/5110 [==============================] - 35s 7ms/step - loss: 0.0693 - accuracy: 0.9775 - val_loss: 0.2873 - val_accuracy: 0.9324\n",
      "Epoch 18/30\n",
      "5110/5110 [==============================] - 35s 7ms/step - loss: 0.0676 - accuracy: 0.9781 - val_loss: 0.2664 - val_accuracy: 0.9368\n",
      "Epoch 19/30\n",
      "5110/5110 [==============================] - 35s 7ms/step - loss: 0.0633 - accuracy: 0.9790 - val_loss: 0.2661 - val_accuracy: 0.9260\n",
      "Epoch 20/30\n",
      "5110/5110 [==============================] - 35s 7ms/step - loss: 0.0606 - accuracy: 0.9805 - val_loss: 0.3166 - val_accuracy: 0.9341\n",
      "Epoch 21/30\n",
      "5110/5110 [==============================] - 35s 7ms/step - loss: 0.0589 - accuracy: 0.9811 - val_loss: 0.2943 - val_accuracy: 0.9265\n",
      "Epoch 22/30\n",
      "5110/5110 [==============================] - 35s 7ms/step - loss: 0.0565 - accuracy: 0.9817 - val_loss: 0.2899 - val_accuracy: 0.9331\n",
      "Epoch 23/30\n",
      "5110/5110 [==============================] - 35s 7ms/step - loss: 0.0554 - accuracy: 0.9823 - val_loss: 0.2914 - val_accuracy: 0.9358\n",
      "Epoch 24/30\n",
      "5110/5110 [==============================] - 35s 7ms/step - loss: 0.0540 - accuracy: 0.9825 - val_loss: 0.2833 - val_accuracy: 0.9342\n",
      "Epoch 25/30\n",
      "5110/5110 [==============================] - 35s 7ms/step - loss: 0.0529 - accuracy: 0.9829 - val_loss: 0.2712 - val_accuracy: 0.9375\n",
      "Epoch 26/30\n",
      "5110/5110 [==============================] - 35s 7ms/step - loss: 0.0509 - accuracy: 0.9834 - val_loss: 0.3129 - val_accuracy: 0.9285\n",
      "Epoch 27/30\n",
      "5110/5110 [==============================] - 35s 7ms/step - loss: 0.0505 - accuracy: 0.9834 - val_loss: 0.2626 - val_accuracy: 0.9284\n",
      "Epoch 28/30\n",
      "5110/5110 [==============================] - 35s 7ms/step - loss: 0.0516 - accuracy: 0.9834 - val_loss: 0.3133 - val_accuracy: 0.9280\n",
      "Epoch 29/30\n",
      "5110/5110 [==============================] - 35s 7ms/step - loss: 0.0476 - accuracy: 0.9850 - val_loss: 0.2792 - val_accuracy: 0.9328\n",
      "Epoch 30/30\n",
      "5110/5110 [==============================] - 35s 7ms/step - loss: 0.0483 - accuracy: 0.9843 - val_loss: 0.3025 - val_accuracy: 0.9392\n",
      "Epoch 1/30\n",
      "2897/2897 [==============================] - 61s 20ms/step - loss: 0.0505 - accuracy: 0.9826 - val_loss: 0.3125 - val_accuracy: 0.9378\n",
      "Epoch 2/30\n",
      "2897/2897 [==============================] - 58s 20ms/step - loss: 0.0188 - accuracy: 0.9940 - val_loss: 0.3491 - val_accuracy: 0.9372\n",
      "Epoch 3/30\n",
      "2897/2897 [==============================] - 58s 20ms/step - loss: 0.0118 - accuracy: 0.9960 - val_loss: 0.5062 - val_accuracy: 0.9379\n",
      "Epoch 4/30\n",
      "2897/2897 [==============================] - 58s 20ms/step - loss: 0.0092 - accuracy: 0.9970 - val_loss: 0.4185 - val_accuracy: 0.9356\n",
      "Epoch 5/30\n",
      "2897/2897 [==============================] - 58s 20ms/step - loss: 0.0072 - accuracy: 0.9974 - val_loss: 0.4615 - val_accuracy: 0.9383\n",
      "Epoch 6/30\n",
      "2897/2897 [==============================] - 59s 20ms/step - loss: 0.0060 - accuracy: 0.9977 - val_loss: 0.5217 - val_accuracy: 0.9375\n",
      "Epoch 7/30\n",
      "2897/2897 [==============================] - 58s 20ms/step - loss: 0.0059 - accuracy: 0.9979 - val_loss: 0.5437 - val_accuracy: 0.9349\n",
      "Epoch 8/30\n",
      "2897/2897 [==============================] - 58s 20ms/step - loss: 0.0042 - accuracy: 0.9986 - val_loss: 0.5212 - val_accuracy: 0.9350\n",
      "Epoch 9/30\n",
      "2897/2897 [==============================] - 58s 20ms/step - loss: 0.0040 - accuracy: 0.9985 - val_loss: 0.6219 - val_accuracy: 0.9341\n",
      "Epoch 10/30\n",
      "2897/2897 [==============================] - 58s 20ms/step - loss: 0.0037 - accuracy: 0.9986 - val_loss: 0.6170 - val_accuracy: 0.9329\n",
      "Epoch 11/30\n",
      "2897/2897 [==============================] - 58s 20ms/step - loss: 0.0033 - accuracy: 0.9987 - val_loss: 0.5544 - val_accuracy: 0.9331\n",
      "Epoch 12/30\n",
      "2897/2897 [==============================] - 58s 20ms/step - loss: 0.0034 - accuracy: 0.9986 - val_loss: 0.5253 - val_accuracy: 0.9340\n",
      "Epoch 13/30\n",
      "2897/2897 [==============================] - 58s 20ms/step - loss: 0.0027 - accuracy: 0.9988 - val_loss: 0.6740 - val_accuracy: 0.9358\n",
      "Epoch 14/30\n",
      "2897/2897 [==============================] - 58s 20ms/step - loss: 0.0029 - accuracy: 0.9989 - val_loss: 0.6264 - val_accuracy: 0.9328\n",
      "Epoch 15/30\n",
      "2897/2897 [==============================] - 58s 20ms/step - loss: 0.0027 - accuracy: 0.9991 - val_loss: 0.6564 - val_accuracy: 0.9354\n",
      "Epoch 16/30\n",
      "2897/2897 [==============================] - 58s 20ms/step - loss: 0.0026 - accuracy: 0.9989 - val_loss: 0.6605 - val_accuracy: 0.9343\n",
      "Epoch 17/30\n",
      "2897/2897 [==============================] - 58s 20ms/step - loss: 0.0027 - accuracy: 0.9990 - val_loss: 0.6076 - val_accuracy: 0.9348\n",
      "Epoch 18/30\n",
      "2897/2897 [==============================] - 58s 20ms/step - loss: 0.0025 - accuracy: 0.9989 - val_loss: 0.5984 - val_accuracy: 0.9375\n",
      "Epoch 19/30\n",
      "2897/2897 [==============================] - 58s 20ms/step - loss: 0.0023 - accuracy: 0.9990 - val_loss: 0.7174 - val_accuracy: 0.9344\n",
      "Epoch 20/30\n",
      "2897/2897 [==============================] - 58s 20ms/step - loss: 0.0021 - accuracy: 0.9991 - val_loss: 0.6658 - val_accuracy: 0.9353\n",
      "Epoch 21/30\n",
      "2897/2897 [==============================] - 58s 20ms/step - loss: 0.0022 - accuracy: 0.9990 - val_loss: 0.7302 - val_accuracy: 0.9351\n",
      "Epoch 22/30\n",
      "2897/2897 [==============================] - 58s 20ms/step - loss: 0.0021 - accuracy: 0.9991 - val_loss: 0.6915 - val_accuracy: 0.9341\n",
      "Epoch 23/30\n",
      "2897/2897 [==============================] - 58s 20ms/step - loss: 0.0023 - accuracy: 0.9991 - val_loss: 0.7264 - val_accuracy: 0.9338\n",
      "Epoch 24/30\n",
      "2897/2897 [==============================] - 58s 20ms/step - loss: 0.0022 - accuracy: 0.9991 - val_loss: 0.6412 - val_accuracy: 0.9341\n",
      "Epoch 25/30\n",
      "2897/2897 [==============================] - 58s 20ms/step - loss: 0.0019 - accuracy: 0.9991 - val_loss: 0.6935 - val_accuracy: 0.9358\n",
      "Epoch 26/30\n",
      "2897/2897 [==============================] - 58s 20ms/step - loss: 0.0017 - accuracy: 0.9991 - val_loss: 0.6943 - val_accuracy: 0.9337\n",
      "Epoch 27/30\n",
      "2897/2897 [==============================] - 58s 20ms/step - loss: 0.0019 - accuracy: 0.9991 - val_loss: 0.7686 - val_accuracy: 0.9352\n",
      "Epoch 28/30\n",
      "2897/2897 [==============================] - 58s 20ms/step - loss: 0.0020 - accuracy: 0.9991 - val_loss: 0.7900 - val_accuracy: 0.9361\n",
      "Epoch 29/30\n",
      "2897/2897 [==============================] - 58s 20ms/step - loss: 0.0017 - accuracy: 0.9992 - val_loss: 0.7717 - val_accuracy: 0.9334\n",
      "Epoch 30/30\n",
      "2897/2897 [==============================] - 58s 20ms/step - loss: 0.0020 - accuracy: 0.9991 - val_loss: 0.7164 - val_accuracy: 0.9354\n",
      "Epoch 1/30\n",
      "5110/5110 [==============================] - 104s 20ms/step - loss: 0.0285 - accuracy: 0.9906 - val_loss: 0.4324 - val_accuracy: 0.9371\n",
      "Epoch 2/30\n",
      "5110/5110 [==============================] - 101s 20ms/step - loss: 0.0073 - accuracy: 0.9980 - val_loss: 0.4691 - val_accuracy: 0.9356\n",
      "Epoch 3/30\n",
      "5110/5110 [==============================] - 101s 20ms/step - loss: 0.0051 - accuracy: 0.9986 - val_loss: 0.5301 - val_accuracy: 0.9351\n",
      "Epoch 4/30\n",
      "5110/5110 [==============================] - 101s 20ms/step - loss: 0.0041 - accuracy: 0.9989 - val_loss: 0.5677 - val_accuracy: 0.9328\n",
      "Epoch 5/30\n",
      "5110/5110 [==============================] - 101s 20ms/step - loss: 0.0034 - accuracy: 0.9992 - val_loss: 0.5862 - val_accuracy: 0.9348\n",
      "Epoch 6/30\n",
      "5110/5110 [==============================] - 101s 20ms/step - loss: 0.0034 - accuracy: 0.9991 - val_loss: 0.6083 - val_accuracy: 0.9364\n",
      "Epoch 7/30\n",
      "5110/5110 [==============================] - 101s 20ms/step - loss: 0.0028 - accuracy: 0.9993 - val_loss: 0.7154 - val_accuracy: 0.9358\n",
      "Epoch 8/30\n",
      "5110/5110 [==============================] - 101s 20ms/step - loss: 0.0025 - accuracy: 0.9993 - val_loss: 0.6630 - val_accuracy: 0.9352\n",
      "Epoch 9/30\n",
      "5110/5110 [==============================] - 101s 20ms/step - loss: 0.0029 - accuracy: 0.9993 - val_loss: 0.5269 - val_accuracy: 0.9347\n",
      "Epoch 10/30\n",
      "5110/5110 [==============================] - 101s 20ms/step - loss: 0.0025 - accuracy: 0.9994 - val_loss: 0.6307 - val_accuracy: 0.9354\n",
      "Epoch 11/30\n",
      "5110/5110 [==============================] - 101s 20ms/step - loss: 0.0024 - accuracy: 0.9994 - val_loss: 0.6967 - val_accuracy: 0.9352\n",
      "Epoch 12/30\n",
      "5110/5110 [==============================] - 101s 20ms/step - loss: 0.0024 - accuracy: 0.9995 - val_loss: 0.7110 - val_accuracy: 0.9366\n",
      "Epoch 13/30\n",
      "5110/5110 [==============================] - 101s 20ms/step - loss: 0.0022 - accuracy: 0.9994 - val_loss: 0.7712 - val_accuracy: 0.9362\n",
      "Epoch 14/30\n",
      "5110/5110 [==============================] - 101s 20ms/step - loss: 0.0026 - accuracy: 0.9994 - val_loss: 0.6893 - val_accuracy: 0.9366\n",
      "Epoch 15/30\n",
      "5110/5110 [==============================] - 101s 20ms/step - loss: 0.0023 - accuracy: 0.9994 - val_loss: 0.6814 - val_accuracy: 0.9363\n",
      "Epoch 16/30\n",
      "5110/5110 [==============================] - 101s 20ms/step - loss: 0.0026 - accuracy: 0.9993 - val_loss: 0.6978 - val_accuracy: 0.9334\n",
      "Epoch 17/30\n",
      "5110/5110 [==============================] - 101s 20ms/step - loss: 0.0025 - accuracy: 0.9994 - val_loss: 0.6853 - val_accuracy: 0.9367\n",
      "Epoch 18/30\n",
      "5110/5110 [==============================] - 101s 20ms/step - loss: 0.0024 - accuracy: 0.9994 - val_loss: 0.6318 - val_accuracy: 0.9337\n",
      "Epoch 19/30\n",
      "5110/5110 [==============================] - 101s 20ms/step - loss: 0.0025 - accuracy: 0.9994 - val_loss: 0.6413 - val_accuracy: 0.9355\n",
      "Epoch 20/30\n",
      "5110/5110 [==============================] - 101s 20ms/step - loss: 0.0022 - accuracy: 0.9995 - val_loss: 0.7378 - val_accuracy: 0.9340\n",
      "Epoch 21/30\n",
      "5110/5110 [==============================] - 101s 20ms/step - loss: 0.0023 - accuracy: 0.9994 - val_loss: 0.6669 - val_accuracy: 0.9339\n",
      "Epoch 22/30\n",
      "5110/5110 [==============================] - 101s 20ms/step - loss: 0.0026 - accuracy: 0.9994 - val_loss: 0.6578 - val_accuracy: 0.9359\n",
      "Epoch 23/30\n",
      "5110/5110 [==============================] - 101s 20ms/step - loss: 0.0024 - accuracy: 0.9994 - val_loss: 0.6102 - val_accuracy: 0.9352\n",
      "Epoch 24/30\n",
      "5110/5110 [==============================] - 101s 20ms/step - loss: 0.0022 - accuracy: 0.9994 - val_loss: 0.6912 - val_accuracy: 0.9340\n",
      "Epoch 25/30\n",
      "5110/5110 [==============================] - 101s 20ms/step - loss: 0.0025 - accuracy: 0.9993 - val_loss: 0.6746 - val_accuracy: 0.9320\n",
      "Epoch 26/30\n",
      "5110/5110 [==============================] - 101s 20ms/step - loss: 0.0024 - accuracy: 0.9994 - val_loss: 0.6668 - val_accuracy: 0.9340\n",
      "Epoch 27/30\n",
      "5110/5110 [==============================] - 101s 20ms/step - loss: 0.0022 - accuracy: 0.9995 - val_loss: 0.7175 - val_accuracy: 0.9355\n",
      "Epoch 28/30\n",
      "5110/5110 [==============================] - 101s 20ms/step - loss: 0.0023 - accuracy: 0.9994 - val_loss: 0.6654 - val_accuracy: 0.9363\n",
      "Epoch 29/30\n",
      "5110/5110 [==============================] - 101s 20ms/step - loss: 0.0024 - accuracy: 0.9994 - val_loss: 0.7070 - val_accuracy: 0.9353\n",
      "Epoch 30/30\n",
      "5110/5110 [==============================] - 101s 20ms/step - loss: 0.0027 - accuracy: 0.9994 - val_loss: 0.5942 - val_accuracy: 0.9322\n",
      "Epoch 1/30\n",
      "2897/2897 [==============================] - 38s 12ms/step - loss: 0.1881 - accuracy: 0.9319 - val_loss: 0.1527 - val_accuracy: 0.9441\n",
      "Epoch 2/30\n",
      "2897/2897 [==============================] - 34s 12ms/step - loss: 0.1578 - accuracy: 0.9415 - val_loss: 0.1515 - val_accuracy: 0.9453\n",
      "Epoch 3/30\n",
      "2897/2897 [==============================] - 34s 12ms/step - loss: 0.1469 - accuracy: 0.9451 - val_loss: 0.1470 - val_accuracy: 0.9476\n",
      "Epoch 4/30\n",
      "2897/2897 [==============================] - 34s 12ms/step - loss: 0.1375 - accuracy: 0.9487 - val_loss: 0.1415 - val_accuracy: 0.9479\n",
      "Epoch 5/30\n",
      "2897/2897 [==============================] - 34s 12ms/step - loss: 0.1301 - accuracy: 0.9516 - val_loss: 0.1444 - val_accuracy: 0.9473\n",
      "Epoch 6/30\n",
      "2897/2897 [==============================] - 34s 12ms/step - loss: 0.1275 - accuracy: 0.9525 - val_loss: 0.1435 - val_accuracy: 0.9486\n",
      "Epoch 7/30\n",
      "2897/2897 [==============================] - 34s 12ms/step - loss: 0.1179 - accuracy: 0.9554 - val_loss: 0.1448 - val_accuracy: 0.9505\n",
      "Epoch 8/30\n",
      "2897/2897 [==============================] - 34s 12ms/step - loss: 0.1121 - accuracy: 0.9569 - val_loss: 0.1490 - val_accuracy: 0.9459\n",
      "Epoch 9/30\n",
      "2897/2897 [==============================] - 34s 12ms/step - loss: 0.1057 - accuracy: 0.9595 - val_loss: 0.1535 - val_accuracy: 0.9469\n",
      "Epoch 10/30\n",
      "2897/2897 [==============================] - 34s 12ms/step - loss: 0.1013 - accuracy: 0.9611 - val_loss: 0.1606 - val_accuracy: 0.9476\n",
      "Epoch 11/30\n",
      "2897/2897 [==============================] - 34s 12ms/step - loss: 0.0982 - accuracy: 0.9614 - val_loss: 0.1660 - val_accuracy: 0.9454\n",
      "Epoch 12/30\n",
      "2897/2897 [==============================] - 35s 12ms/step - loss: 0.0979 - accuracy: 0.9627 - val_loss: 0.1633 - val_accuracy: 0.9458\n",
      "Epoch 13/30\n",
      "2897/2897 [==============================] - 35s 12ms/step - loss: 0.1010 - accuracy: 0.9614 - val_loss: 0.1659 - val_accuracy: 0.9452\n",
      "Epoch 14/30\n",
      "2897/2897 [==============================] - 35s 12ms/step - loss: 0.0919 - accuracy: 0.9643 - val_loss: 0.1720 - val_accuracy: 0.9453\n",
      "Epoch 15/30\n",
      "2897/2897 [==============================] - 35s 12ms/step - loss: 0.0869 - accuracy: 0.9664 - val_loss: 0.1661 - val_accuracy: 0.9441\n",
      "Epoch 16/30\n",
      "2897/2897 [==============================] - 35s 12ms/step - loss: 0.0855 - accuracy: 0.9675 - val_loss: 0.1651 - val_accuracy: 0.9438\n",
      "Epoch 17/30\n",
      "2897/2897 [==============================] - 35s 12ms/step - loss: 0.0811 - accuracy: 0.9688 - val_loss: 0.1833 - val_accuracy: 0.9441\n",
      "Epoch 18/30\n",
      "2897/2897 [==============================] - 35s 12ms/step - loss: 0.0795 - accuracy: 0.9690 - val_loss: 0.1897 - val_accuracy: 0.9423\n",
      "Epoch 19/30\n",
      "2897/2897 [==============================] - 35s 12ms/step - loss: 0.0787 - accuracy: 0.9694 - val_loss: 0.1900 - val_accuracy: 0.9385\n",
      "Epoch 20/30\n",
      "2897/2897 [==============================] - 35s 12ms/step - loss: 0.0763 - accuracy: 0.9705 - val_loss: 0.1875 - val_accuracy: 0.9464\n",
      "Epoch 21/30\n",
      "2897/2897 [==============================] - 35s 12ms/step - loss: 0.0747 - accuracy: 0.9713 - val_loss: 0.1908 - val_accuracy: 0.9442\n",
      "Epoch 22/30\n",
      "2897/2897 [==============================] - 35s 12ms/step - loss: 0.0723 - accuracy: 0.9719 - val_loss: 0.1902 - val_accuracy: 0.9454\n",
      "Epoch 23/30\n",
      "2897/2897 [==============================] - 35s 12ms/step - loss: 0.0711 - accuracy: 0.9729 - val_loss: 0.1971 - val_accuracy: 0.9452\n",
      "Epoch 24/30\n",
      "2897/2897 [==============================] - 35s 12ms/step - loss: 0.0752 - accuracy: 0.9710 - val_loss: 0.1851 - val_accuracy: 0.9441\n",
      "Epoch 25/30\n",
      "2897/2897 [==============================] - 35s 12ms/step - loss: 0.0729 - accuracy: 0.9721 - val_loss: 0.1981 - val_accuracy: 0.9451\n",
      "Epoch 26/30\n",
      "2897/2897 [==============================] - 35s 12ms/step - loss: 0.0747 - accuracy: 0.9714 - val_loss: 0.1937 - val_accuracy: 0.9446\n",
      "Epoch 27/30\n",
      "2897/2897 [==============================] - 35s 12ms/step - loss: 0.0676 - accuracy: 0.9735 - val_loss: 0.2034 - val_accuracy: 0.9443\n",
      "Epoch 28/30\n",
      "2897/2897 [==============================] - 35s 12ms/step - loss: 0.0672 - accuracy: 0.9741 - val_loss: 0.2023 - val_accuracy: 0.9424\n",
      "Epoch 29/30\n",
      "2897/2897 [==============================] - 35s 12ms/step - loss: 0.0667 - accuracy: 0.9740 - val_loss: 0.2062 - val_accuracy: 0.9414\n",
      "Epoch 30/30\n",
      "2897/2897 [==============================] - 35s 12ms/step - loss: 0.0659 - accuracy: 0.9745 - val_loss: 0.2049 - val_accuracy: 0.9404\n",
      "Epoch 1/30\n",
      "5110/5110 [==============================] - 63s 12ms/step - loss: 0.2779 - accuracy: 0.8821 - val_loss: 0.2696 - val_accuracy: 0.8788\n",
      "Epoch 2/30\n",
      "5110/5110 [==============================] - 59s 12ms/step - loss: 0.2028 - accuracy: 0.9164 - val_loss: 0.2270 - val_accuracy: 0.9099\n",
      "Epoch 3/30\n",
      "5110/5110 [==============================] - 59s 12ms/step - loss: 0.1633 - accuracy: 0.9357 - val_loss: 0.2459 - val_accuracy: 0.8991\n",
      "Epoch 4/30\n",
      "5110/5110 [==============================] - 59s 12ms/step - loss: 0.1402 - accuracy: 0.9467 - val_loss: 0.2378 - val_accuracy: 0.9161\n",
      "Epoch 5/30\n",
      "5110/5110 [==============================] - 59s 12ms/step - loss: 0.1258 - accuracy: 0.9529 - val_loss: 0.2544 - val_accuracy: 0.9117\n",
      "Epoch 6/30\n",
      "5110/5110 [==============================] - 59s 12ms/step - loss: 0.1144 - accuracy: 0.9578 - val_loss: 0.2595 - val_accuracy: 0.9089\n",
      "Epoch 7/30\n",
      "5110/5110 [==============================] - 59s 12ms/step - loss: 0.1064 - accuracy: 0.9611 - val_loss: 0.2751 - val_accuracy: 0.9170\n",
      "Epoch 8/30\n",
      "5110/5110 [==============================] - 59s 12ms/step - loss: 0.1023 - accuracy: 0.9632 - val_loss: 0.2549 - val_accuracy: 0.9198\n",
      "Epoch 9/30\n",
      "5110/5110 [==============================] - 59s 12ms/step - loss: 0.0966 - accuracy: 0.9659 - val_loss: 0.2590 - val_accuracy: 0.9210\n",
      "Epoch 10/30\n",
      "5110/5110 [==============================] - 59s 12ms/step - loss: 0.0921 - accuracy: 0.9671 - val_loss: 0.2549 - val_accuracy: 0.9249\n",
      "Epoch 11/30\n",
      "5110/5110 [==============================] - 59s 12ms/step - loss: 0.0884 - accuracy: 0.9680 - val_loss: 0.2708 - val_accuracy: 0.9234\n",
      "Epoch 12/30\n",
      "5110/5110 [==============================] - 59s 12ms/step - loss: 0.0846 - accuracy: 0.9698 - val_loss: 0.2517 - val_accuracy: 0.9295\n",
      "Epoch 13/30\n",
      "5110/5110 [==============================] - 59s 12ms/step - loss: 0.0823 - accuracy: 0.9712 - val_loss: 0.2644 - val_accuracy: 0.9202\n",
      "Epoch 14/30\n",
      "5110/5110 [==============================] - 59s 12ms/step - loss: 0.0806 - accuracy: 0.9715 - val_loss: 0.2568 - val_accuracy: 0.9276\n",
      "Epoch 15/30\n",
      "5110/5110 [==============================] - 59s 12ms/step - loss: 0.0892 - accuracy: 0.9685 - val_loss: 0.2819 - val_accuracy: 0.9214\n",
      "Epoch 16/30\n",
      "5110/5110 [==============================] - 59s 12ms/step - loss: 0.0792 - accuracy: 0.9720 - val_loss: 0.2551 - val_accuracy: 0.9294\n",
      "Epoch 17/30\n",
      "5110/5110 [==============================] - 59s 12ms/step - loss: 0.0759 - accuracy: 0.9732 - val_loss: 0.2727 - val_accuracy: 0.9265\n",
      "Epoch 18/30\n",
      "5110/5110 [==============================] - 59s 12ms/step - loss: 0.0743 - accuracy: 0.9740 - val_loss: 0.2750 - val_accuracy: 0.9264\n",
      "Epoch 19/30\n",
      "5110/5110 [==============================] - 59s 12ms/step - loss: 0.0732 - accuracy: 0.9744 - val_loss: 0.2768 - val_accuracy: 0.9259\n",
      "Epoch 20/30\n",
      "5110/5110 [==============================] - 59s 12ms/step - loss: 0.0733 - accuracy: 0.9744 - val_loss: 0.2641 - val_accuracy: 0.9341\n",
      "Epoch 21/30\n",
      "5110/5110 [==============================] - 59s 12ms/step - loss: 0.0716 - accuracy: 0.9746 - val_loss: 0.2906 - val_accuracy: 0.9276\n",
      "Epoch 22/30\n",
      "5110/5110 [==============================] - 59s 12ms/step - loss: 0.0702 - accuracy: 0.9752 - val_loss: 0.2800 - val_accuracy: 0.9289\n",
      "Epoch 23/30\n",
      "5110/5110 [==============================] - 59s 12ms/step - loss: 0.0707 - accuracy: 0.9750 - val_loss: 0.2710 - val_accuracy: 0.9258\n",
      "Epoch 24/30\n",
      "5110/5110 [==============================] - 60s 12ms/step - loss: 0.0705 - accuracy: 0.9752 - val_loss: 0.2745 - val_accuracy: 0.9334\n",
      "Epoch 25/30\n",
      "5110/5110 [==============================] - 60s 12ms/step - loss: 0.0687 - accuracy: 0.9757 - val_loss: 0.2712 - val_accuracy: 0.9271\n",
      "Epoch 26/30\n",
      "5110/5110 [==============================] - 60s 12ms/step - loss: 0.0672 - accuracy: 0.9764 - val_loss: 0.2813 - val_accuracy: 0.9333\n",
      "Epoch 27/30\n",
      "5110/5110 [==============================] - 60s 12ms/step - loss: 0.0693 - accuracy: 0.9757 - val_loss: 0.2932 - val_accuracy: 0.9208\n",
      "Epoch 28/30\n",
      "5110/5110 [==============================] - 60s 12ms/step - loss: 0.0685 - accuracy: 0.9760 - val_loss: 0.2781 - val_accuracy: 0.9305\n",
      "Epoch 29/30\n",
      "5110/5110 [==============================] - 60s 12ms/step - loss: 0.0676 - accuracy: 0.9762 - val_loss: 0.2866 - val_accuracy: 0.9313\n",
      "Epoch 30/30\n",
      "5110/5110 [==============================] - 60s 12ms/step - loss: 0.0698 - accuracy: 0.9758 - val_loss: 0.2775 - val_accuracy: 0.9245\n",
      "Epoch 1/30\n",
      "2897/2897 [==============================] - 39s 12ms/step - loss: 0.1745 - accuracy: 0.9365 - val_loss: 0.1533 - val_accuracy: 0.9433\n",
      "Epoch 2/30\n",
      "2897/2897 [==============================] - 35s 12ms/step - loss: 0.1502 - accuracy: 0.9448 - val_loss: 0.1464 - val_accuracy: 0.9476\n",
      "Epoch 3/30\n",
      "2897/2897 [==============================] - 35s 12ms/step - loss: 0.1429 - accuracy: 0.9464 - val_loss: 0.1427 - val_accuracy: 0.9471\n",
      "Epoch 4/30\n",
      "2897/2897 [==============================] - 35s 12ms/step - loss: 0.1358 - accuracy: 0.9487 - val_loss: 0.1417 - val_accuracy: 0.9475\n",
      "Epoch 5/30\n",
      "2897/2897 [==============================] - 35s 12ms/step - loss: 0.1308 - accuracy: 0.9501 - val_loss: 0.1430 - val_accuracy: 0.9494\n",
      "Epoch 6/30\n",
      "2897/2897 [==============================] - 35s 12ms/step - loss: 0.1239 - accuracy: 0.9529 - val_loss: 0.1493 - val_accuracy: 0.9482\n",
      "Epoch 7/30\n",
      "2897/2897 [==============================] - 35s 12ms/step - loss: 0.1183 - accuracy: 0.9542 - val_loss: 0.1414 - val_accuracy: 0.9478\n",
      "Epoch 8/30\n",
      "2897/2897 [==============================] - 35s 12ms/step - loss: 0.1130 - accuracy: 0.9564 - val_loss: 0.1478 - val_accuracy: 0.9475\n",
      "Epoch 9/30\n",
      "2897/2897 [==============================] - 35s 12ms/step - loss: 0.1086 - accuracy: 0.9582 - val_loss: 0.1610 - val_accuracy: 0.9479\n",
      "Epoch 10/30\n",
      "2897/2897 [==============================] - 35s 12ms/step - loss: 0.1019 - accuracy: 0.9604 - val_loss: 0.1599 - val_accuracy: 0.9479\n",
      "Epoch 11/30\n",
      "2897/2897 [==============================] - 35s 12ms/step - loss: 0.0963 - accuracy: 0.9629 - val_loss: 0.1617 - val_accuracy: 0.9461\n",
      "Epoch 12/30\n",
      "2897/2897 [==============================] - 35s 12ms/step - loss: 0.0926 - accuracy: 0.9640 - val_loss: 0.1604 - val_accuracy: 0.9476\n",
      "Epoch 13/30\n",
      "2897/2897 [==============================] - 35s 12ms/step - loss: 0.0868 - accuracy: 0.9661 - val_loss: 0.1710 - val_accuracy: 0.9483\n",
      "Epoch 14/30\n",
      "2897/2897 [==============================] - 35s 12ms/step - loss: 0.0832 - accuracy: 0.9674 - val_loss: 0.1761 - val_accuracy: 0.9479\n",
      "Epoch 15/30\n",
      "2897/2897 [==============================] - 35s 12ms/step - loss: 0.0786 - accuracy: 0.9690 - val_loss: 0.1828 - val_accuracy: 0.9473\n",
      "Epoch 16/30\n",
      "2897/2897 [==============================] - 35s 12ms/step - loss: 0.0740 - accuracy: 0.9707 - val_loss: 0.1816 - val_accuracy: 0.9468\n",
      "Epoch 17/30\n",
      "2897/2897 [==============================] - 35s 12ms/step - loss: 0.0703 - accuracy: 0.9725 - val_loss: 0.1949 - val_accuracy: 0.9446\n",
      "Epoch 18/30\n",
      "2897/2897 [==============================] - 35s 12ms/step - loss: 0.0669 - accuracy: 0.9736 - val_loss: 0.2074 - val_accuracy: 0.9442\n",
      "Epoch 19/30\n",
      "2897/2897 [==============================] - 35s 12ms/step - loss: 0.0643 - accuracy: 0.9747 - val_loss: 0.2136 - val_accuracy: 0.9454\n",
      "Epoch 20/30\n",
      "2897/2897 [==============================] - 36s 12ms/step - loss: 0.0608 - accuracy: 0.9760 - val_loss: 0.2097 - val_accuracy: 0.9444\n",
      "Epoch 21/30\n",
      "2897/2897 [==============================] - 35s 12ms/step - loss: 0.0588 - accuracy: 0.9767 - val_loss: 0.2247 - val_accuracy: 0.9422\n",
      "Epoch 22/30\n",
      "2897/2897 [==============================] - 35s 12ms/step - loss: 0.0564 - accuracy: 0.9780 - val_loss: 0.2218 - val_accuracy: 0.9451\n",
      "Epoch 23/30\n",
      "2897/2897 [==============================] - 35s 12ms/step - loss: 0.0536 - accuracy: 0.9785 - val_loss: 0.2280 - val_accuracy: 0.9446\n",
      "Epoch 24/30\n",
      "2897/2897 [==============================] - 36s 12ms/step - loss: 0.0531 - accuracy: 0.9796 - val_loss: 0.2148 - val_accuracy: 0.9420\n",
      "Epoch 25/30\n",
      "2897/2897 [==============================] - 36s 12ms/step - loss: 0.0513 - accuracy: 0.9797 - val_loss: 0.2335 - val_accuracy: 0.9442\n",
      "Epoch 26/30\n",
      "2897/2897 [==============================] - 36s 13ms/step - loss: 0.0502 - accuracy: 0.9807 - val_loss: 0.2252 - val_accuracy: 0.9444\n",
      "Epoch 27/30\n",
      "2897/2897 [==============================] - 36s 12ms/step - loss: 0.0484 - accuracy: 0.9815 - val_loss: 0.2399 - val_accuracy: 0.9435\n",
      "Epoch 28/30\n",
      "2897/2897 [==============================] - 36s 12ms/step - loss: 0.0473 - accuracy: 0.9817 - val_loss: 0.2626 - val_accuracy: 0.9453\n",
      "Epoch 29/30\n",
      "2897/2897 [==============================] - 36s 12ms/step - loss: 0.0451 - accuracy: 0.9825 - val_loss: 0.2450 - val_accuracy: 0.9435\n",
      "Epoch 30/30\n",
      "2897/2897 [==============================] - 36s 12ms/step - loss: 0.0446 - accuracy: 0.9832 - val_loss: 0.2587 - val_accuracy: 0.9434\n",
      "Epoch 1/30\n",
      "5110/5110 [==============================] - 64s 12ms/step - loss: 0.2663 - accuracy: 0.8893 - val_loss: 0.2214 - val_accuracy: 0.9064\n",
      "Epoch 2/30\n",
      "5110/5110 [==============================] - 61s 12ms/step - loss: 0.2056 - accuracy: 0.9158 - val_loss: 0.1860 - val_accuracy: 0.9301\n",
      "Epoch 3/30\n",
      "5110/5110 [==============================] - 62s 12ms/step - loss: 0.1666 - accuracy: 0.9338 - val_loss: 0.2090 - val_accuracy: 0.9184\n",
      "Epoch 4/30\n",
      "5110/5110 [==============================] - 62s 12ms/step - loss: 0.1379 - accuracy: 0.9473 - val_loss: 0.2048 - val_accuracy: 0.9295\n",
      "Epoch 5/30\n",
      "5110/5110 [==============================] - 61s 12ms/step - loss: 0.1182 - accuracy: 0.9558 - val_loss: 0.2274 - val_accuracy: 0.9278\n",
      "Epoch 6/30\n",
      "5110/5110 [==============================] - 61s 12ms/step - loss: 0.1033 - accuracy: 0.9629 - val_loss: 0.2347 - val_accuracy: 0.9276\n",
      "Epoch 7/30\n",
      "5110/5110 [==============================] - 61s 12ms/step - loss: 0.0913 - accuracy: 0.9678 - val_loss: 0.2407 - val_accuracy: 0.9319\n",
      "Epoch 8/30\n",
      "5110/5110 [==============================] - 61s 12ms/step - loss: 0.0832 - accuracy: 0.9711 - val_loss: 0.2539 - val_accuracy: 0.9292\n",
      "Epoch 9/30\n",
      "5110/5110 [==============================] - 61s 12ms/step - loss: 0.0765 - accuracy: 0.9736 - val_loss: 0.2494 - val_accuracy: 0.9228\n",
      "Epoch 10/30\n",
      "5110/5110 [==============================] - 61s 12ms/step - loss: 0.0710 - accuracy: 0.9754 - val_loss: 0.2434 - val_accuracy: 0.9319\n",
      "Epoch 11/30\n",
      "5110/5110 [==============================] - 61s 12ms/step - loss: 0.0673 - accuracy: 0.9771 - val_loss: 0.2585 - val_accuracy: 0.9333\n",
      "Epoch 12/30\n",
      "5110/5110 [==============================] - 61s 12ms/step - loss: 0.0629 - accuracy: 0.9785 - val_loss: 0.2551 - val_accuracy: 0.9316\n",
      "Epoch 13/30\n",
      "5110/5110 [==============================] - 61s 12ms/step - loss: 0.0602 - accuracy: 0.9793 - val_loss: 0.2734 - val_accuracy: 0.9362\n",
      "Epoch 14/30\n",
      "5110/5110 [==============================] - 61s 12ms/step - loss: 0.0725 - accuracy: 0.9745 - val_loss: 0.2478 - val_accuracy: 0.9384\n",
      "Epoch 15/30\n",
      "5110/5110 [==============================] - 61s 12ms/step - loss: 0.0576 - accuracy: 0.9798 - val_loss: 0.2786 - val_accuracy: 0.9367\n",
      "Epoch 16/30\n",
      "5110/5110 [==============================] - 61s 12ms/step - loss: 0.0533 - accuracy: 0.9815 - val_loss: 0.2714 - val_accuracy: 0.9360\n",
      "Epoch 17/30\n",
      "5110/5110 [==============================] - 61s 12ms/step - loss: 0.0508 - accuracy: 0.9826 - val_loss: 0.3006 - val_accuracy: 0.9335\n",
      "Epoch 18/30\n",
      "5110/5110 [==============================] - 61s 12ms/step - loss: 0.0490 - accuracy: 0.9832 - val_loss: 0.2964 - val_accuracy: 0.9337\n",
      "Epoch 19/30\n",
      "5110/5110 [==============================] - 61s 12ms/step - loss: 0.0477 - accuracy: 0.9837 - val_loss: 0.2931 - val_accuracy: 0.9377\n",
      "Epoch 20/30\n",
      "5110/5110 [==============================] - 61s 12ms/step - loss: 0.0471 - accuracy: 0.9839 - val_loss: 0.3029 - val_accuracy: 0.9356\n",
      "Epoch 21/30\n",
      "5110/5110 [==============================] - 61s 12ms/step - loss: 0.0453 - accuracy: 0.9845 - val_loss: 0.3074 - val_accuracy: 0.9403\n",
      "Epoch 22/30\n",
      "5110/5110 [==============================] - 61s 12ms/step - loss: 0.0446 - accuracy: 0.9845 - val_loss: 0.2834 - val_accuracy: 0.9391\n",
      "Epoch 23/30\n",
      "5110/5110 [==============================] - 61s 12ms/step - loss: 0.0444 - accuracy: 0.9847 - val_loss: 0.2948 - val_accuracy: 0.9351\n",
      "Epoch 24/30\n",
      "5110/5110 [==============================] - 61s 12ms/step - loss: 0.0433 - accuracy: 0.9853 - val_loss: 0.2874 - val_accuracy: 0.9368\n",
      "Epoch 25/30\n",
      "5110/5110 [==============================] - 61s 12ms/step - loss: 0.0426 - accuracy: 0.9857 - val_loss: 0.2964 - val_accuracy: 0.9368\n",
      "Epoch 26/30\n",
      "5110/5110 [==============================] - 61s 12ms/step - loss: 0.0414 - accuracy: 0.9856 - val_loss: 0.2949 - val_accuracy: 0.9349\n",
      "Epoch 27/30\n",
      "5110/5110 [==============================] - 61s 12ms/step - loss: 0.0418 - accuracy: 0.9855 - val_loss: 0.2891 - val_accuracy: 0.9372\n",
      "Epoch 28/30\n",
      "5110/5110 [==============================] - 61s 12ms/step - loss: 0.0401 - accuracy: 0.9858 - val_loss: 0.2945 - val_accuracy: 0.9334\n",
      "Epoch 29/30\n",
      "5110/5110 [==============================] - 61s 12ms/step - loss: 0.0405 - accuracy: 0.9860 - val_loss: 0.3171 - val_accuracy: 0.9307\n",
      "Epoch 30/30\n",
      "5110/5110 [==============================] - 61s 12ms/step - loss: 0.0380 - accuracy: 0.9866 - val_loss: 0.3021 - val_accuracy: 0.9383\n",
      "Epoch 1/30\n",
      "2897/2897 [==============================] - 63s 21ms/step - loss: 0.0437 - accuracy: 0.9856 - val_loss: 0.3058 - val_accuracy: 0.9377\n",
      "Epoch 2/30\n",
      "2897/2897 [==============================] - 59s 20ms/step - loss: 0.0139 - accuracy: 0.9956 - val_loss: 0.3580 - val_accuracy: 0.9347\n",
      "Epoch 3/30\n",
      "2897/2897 [==============================] - 59s 20ms/step - loss: 0.0090 - accuracy: 0.9973 - val_loss: 0.3705 - val_accuracy: 0.9345\n",
      "Epoch 4/30\n",
      "2897/2897 [==============================] - 59s 20ms/step - loss: 0.0071 - accuracy: 0.9978 - val_loss: 0.3993 - val_accuracy: 0.9339\n",
      "Epoch 5/30\n",
      "2897/2897 [==============================] - 59s 20ms/step - loss: 0.0060 - accuracy: 0.9980 - val_loss: 0.4380 - val_accuracy: 0.9331\n",
      "Epoch 6/30\n",
      "2897/2897 [==============================] - 59s 20ms/step - loss: 0.0047 - accuracy: 0.9985 - val_loss: 0.4999 - val_accuracy: 0.9319\n",
      "Epoch 7/30\n",
      "2897/2897 [==============================] - 59s 20ms/step - loss: 0.0044 - accuracy: 0.9985 - val_loss: 0.4456 - val_accuracy: 0.9332\n",
      "Epoch 8/30\n",
      "2897/2897 [==============================] - 59s 20ms/step - loss: 0.0036 - accuracy: 0.9987 - val_loss: 0.5021 - val_accuracy: 0.9347\n",
      "Epoch 9/30\n",
      "2897/2897 [==============================] - 59s 20ms/step - loss: 0.0033 - accuracy: 0.9988 - val_loss: 0.5108 - val_accuracy: 0.9319\n",
      "Epoch 10/30\n",
      "2897/2897 [==============================] - 59s 20ms/step - loss: 0.0024 - accuracy: 0.9989 - val_loss: 0.6142 - val_accuracy: 0.9322\n",
      "Epoch 11/30\n",
      "2897/2897 [==============================] - 59s 20ms/step - loss: 0.0030 - accuracy: 0.9988 - val_loss: 0.4374 - val_accuracy: 0.9320\n",
      "Epoch 12/30\n",
      "2897/2897 [==============================] - 59s 20ms/step - loss: 0.0024 - accuracy: 0.9990 - val_loss: 0.6228 - val_accuracy: 0.9328\n",
      "Epoch 13/30\n",
      "2897/2897 [==============================] - 59s 20ms/step - loss: 0.0028 - accuracy: 0.9989 - val_loss: 0.5223 - val_accuracy: 0.9328\n",
      "Epoch 14/30\n",
      "2897/2897 [==============================] - 59s 20ms/step - loss: 0.0023 - accuracy: 0.9990 - val_loss: 0.6160 - val_accuracy: 0.9340\n",
      "Epoch 15/30\n",
      "2897/2897 [==============================] - 59s 20ms/step - loss: 0.0019 - accuracy: 0.9991 - val_loss: 0.5053 - val_accuracy: 0.9337\n",
      "Epoch 16/30\n",
      "2897/2897 [==============================] - 59s 20ms/step - loss: 0.0022 - accuracy: 0.9991 - val_loss: 0.5646 - val_accuracy: 0.9329\n",
      "Epoch 17/30\n",
      "2897/2897 [==============================] - 59s 20ms/step - loss: 0.0020 - accuracy: 0.9991 - val_loss: 0.5108 - val_accuracy: 0.9334\n",
      "Epoch 18/30\n",
      "2897/2897 [==============================] - 59s 20ms/step - loss: 0.0019 - accuracy: 0.9991 - val_loss: 0.5405 - val_accuracy: 0.9259\n",
      "Epoch 19/30\n",
      "2897/2897 [==============================] - 59s 20ms/step - loss: 0.0022 - accuracy: 0.9991 - val_loss: 0.5987 - val_accuracy: 0.9341\n",
      "Epoch 20/30\n",
      "2897/2897 [==============================] - 59s 20ms/step - loss: 0.0016 - accuracy: 0.9993 - val_loss: 0.5358 - val_accuracy: 0.9325\n",
      "Epoch 21/30\n",
      "2897/2897 [==============================] - 59s 20ms/step - loss: 0.0019 - accuracy: 0.9991 - val_loss: 0.5706 - val_accuracy: 0.9341\n",
      "Epoch 22/30\n",
      "2897/2897 [==============================] - 59s 20ms/step - loss: 0.0017 - accuracy: 0.9992 - val_loss: 0.5937 - val_accuracy: 0.9315\n",
      "Epoch 23/30\n",
      "2897/2897 [==============================] - 59s 20ms/step - loss: 0.0018 - accuracy: 0.9992 - val_loss: 0.6500 - val_accuracy: 0.9336\n",
      "Epoch 24/30\n",
      "2897/2897 [==============================] - 59s 20ms/step - loss: 0.0018 - accuracy: 0.9991 - val_loss: 0.6022 - val_accuracy: 0.9287\n",
      "Epoch 25/30\n",
      "2897/2897 [==============================] - 59s 20ms/step - loss: 0.0018 - accuracy: 0.9992 - val_loss: 0.6434 - val_accuracy: 0.9322\n",
      "Epoch 26/30\n",
      "2897/2897 [==============================] - 59s 20ms/step - loss: 0.0015 - accuracy: 0.9993 - val_loss: 0.6327 - val_accuracy: 0.9309\n",
      "Epoch 27/30\n",
      "2897/2897 [==============================] - 59s 20ms/step - loss: 0.0017 - accuracy: 0.9993 - val_loss: 0.5956 - val_accuracy: 0.9329\n",
      "Epoch 28/30\n",
      "2897/2897 [==============================] - 59s 20ms/step - loss: 0.0013 - accuracy: 0.9994 - val_loss: 0.6572 - val_accuracy: 0.9337\n",
      "Epoch 29/30\n",
      "2897/2897 [==============================] - 59s 20ms/step - loss: 0.0014 - accuracy: 0.9993 - val_loss: 0.6547 - val_accuracy: 0.9306\n",
      "Epoch 30/30\n",
      "2897/2897 [==============================] - 59s 20ms/step - loss: 0.0014 - accuracy: 0.9993 - val_loss: 0.6785 - val_accuracy: 0.9335\n",
      "Epoch 1/30\n",
      "5110/5110 [==============================] - 106s 20ms/step - loss: 0.0266 - accuracy: 0.9913 - val_loss: 0.3989 - val_accuracy: 0.9348\n",
      "Epoch 2/30\n",
      "5110/5110 [==============================] - 103s 20ms/step - loss: 0.0061 - accuracy: 0.9984 - val_loss: 0.4322 - val_accuracy: 0.9366\n",
      "Epoch 3/30\n",
      "5110/5110 [==============================] - 103s 20ms/step - loss: 0.0043 - accuracy: 0.9989 - val_loss: 0.5120 - val_accuracy: 0.9322\n",
      "Epoch 4/30\n",
      "5110/5110 [==============================] - 104s 20ms/step - loss: 0.0034 - accuracy: 0.9991 - val_loss: 0.4909 - val_accuracy: 0.9328\n",
      "Epoch 5/30\n",
      "5110/5110 [==============================] - 103s 20ms/step - loss: 0.0031 - accuracy: 0.9992 - val_loss: 0.6407 - val_accuracy: 0.9297\n",
      "Epoch 6/30\n",
      "5110/5110 [==============================] - 103s 20ms/step - loss: 0.0028 - accuracy: 0.9992 - val_loss: 0.6239 - val_accuracy: 0.9326\n",
      "Epoch 7/30\n",
      "5110/5110 [==============================] - 103s 20ms/step - loss: 0.0026 - accuracy: 0.9993 - val_loss: 0.4825 - val_accuracy: 0.9287\n",
      "Epoch 8/30\n",
      "5110/5110 [==============================] - 103s 20ms/step - loss: 0.0025 - accuracy: 0.9994 - val_loss: 0.5872 - val_accuracy: 0.9336\n",
      "Epoch 9/30\n",
      "5110/5110 [==============================] - 103s 20ms/step - loss: 0.0024 - accuracy: 0.9993 - val_loss: 0.6809 - val_accuracy: 0.9330\n",
      "Epoch 10/30\n",
      "5110/5110 [==============================] - 103s 20ms/step - loss: 0.0023 - accuracy: 0.9994 - val_loss: 0.5971 - val_accuracy: 0.9310\n",
      "Epoch 11/30\n",
      "5110/5110 [==============================] - 103s 20ms/step - loss: 0.0023 - accuracy: 0.9994 - val_loss: 0.6679 - val_accuracy: 0.9345\n",
      "Epoch 12/30\n",
      "5110/5110 [==============================] - 103s 20ms/step - loss: 0.0024 - accuracy: 0.9994 - val_loss: 0.6407 - val_accuracy: 0.9288\n",
      "Epoch 13/30\n",
      "5110/5110 [==============================] - 103s 20ms/step - loss: 0.0021 - accuracy: 0.9995 - val_loss: 0.8102 - val_accuracy: 0.9318\n",
      "Epoch 14/30\n",
      "5110/5110 [==============================] - 103s 20ms/step - loss: 0.0022 - accuracy: 0.9995 - val_loss: 0.8255 - val_accuracy: 0.9309\n",
      "Epoch 15/30\n",
      "5110/5110 [==============================] - 103s 20ms/step - loss: 0.0022 - accuracy: 0.9994 - val_loss: 0.6828 - val_accuracy: 0.9303\n",
      "Epoch 16/30\n",
      "5110/5110 [==============================] - 103s 20ms/step - loss: 0.0022 - accuracy: 0.9994 - val_loss: 0.6174 - val_accuracy: 0.9297\n",
      "Epoch 17/30\n",
      "5110/5110 [==============================] - 103s 20ms/step - loss: 0.0018 - accuracy: 0.9995 - val_loss: 0.8673 - val_accuracy: 0.9307\n",
      "Epoch 18/30\n",
      "5110/5110 [==============================] - 103s 20ms/step - loss: 0.0023 - accuracy: 0.9995 - val_loss: 0.7550 - val_accuracy: 0.9302\n",
      "Epoch 19/30\n",
      "5110/5110 [==============================] - 103s 20ms/step - loss: 0.0021 - accuracy: 0.9995 - val_loss: 0.7437 - val_accuracy: 0.9313\n",
      "Epoch 20/30\n",
      "5110/5110 [==============================] - 103s 20ms/step - loss: 0.0020 - accuracy: 0.9995 - val_loss: 0.7814 - val_accuracy: 0.9297\n",
      "Epoch 21/30\n",
      "5110/5110 [==============================] - 103s 20ms/step - loss: 0.0022 - accuracy: 0.9994 - val_loss: 0.7452 - val_accuracy: 0.9280\n",
      "Epoch 22/30\n",
      "5110/5110 [==============================] - 103s 20ms/step - loss: 0.0021 - accuracy: 0.9995 - val_loss: 0.8813 - val_accuracy: 0.9286\n",
      "Epoch 23/30\n",
      "5110/5110 [==============================] - 103s 20ms/step - loss: 0.0020 - accuracy: 0.9995 - val_loss: 0.7643 - val_accuracy: 0.9289\n",
      "Epoch 24/30\n",
      "5110/5110 [==============================] - 103s 20ms/step - loss: 0.0020 - accuracy: 0.9995 - val_loss: 0.7648 - val_accuracy: 0.9305\n",
      "Epoch 25/30\n",
      "5110/5110 [==============================] - 103s 20ms/step - loss: 0.0018 - accuracy: 0.9995 - val_loss: 0.8609 - val_accuracy: 0.9319\n",
      "Epoch 26/30\n",
      "5110/5110 [==============================] - 103s 20ms/step - loss: 0.0019 - accuracy: 0.9995 - val_loss: 0.8474 - val_accuracy: 0.9309\n",
      "Epoch 27/30\n",
      "5110/5110 [==============================] - 103s 20ms/step - loss: 0.0021 - accuracy: 0.9995 - val_loss: 0.8517 - val_accuracy: 0.9302\n",
      "Epoch 28/30\n",
      "5110/5110 [==============================] - 103s 20ms/step - loss: 0.0023 - accuracy: 0.9994 - val_loss: 0.7995 - val_accuracy: 0.9311\n",
      "Epoch 29/30\n",
      "5110/5110 [==============================] - 103s 20ms/step - loss: 0.0021 - accuracy: 0.9995 - val_loss: 0.8652 - val_accuracy: 0.9313\n",
      "Epoch 30/30\n",
      "5110/5110 [==============================] - 103s 20ms/step - loss: 0.0022 - accuracy: 0.9995 - val_loss: 0.7461 - val_accuracy: 0.9300\n",
      "Epoch 1/30\n",
      "2897/2897 [==============================] - 39s 13ms/step - loss: 0.1922 - accuracy: 0.9293 - val_loss: 0.1621 - val_accuracy: 0.9404\n",
      "Epoch 2/30\n",
      "2897/2897 [==============================] - 36s 12ms/step - loss: 0.1587 - accuracy: 0.9416 - val_loss: 0.1454 - val_accuracy: 0.9455\n",
      "Epoch 3/30\n",
      "2897/2897 [==============================] - 36s 12ms/step - loss: 0.1478 - accuracy: 0.9458 - val_loss: 0.1411 - val_accuracy: 0.9498\n",
      "Epoch 4/30\n",
      "2897/2897 [==============================] - 36s 12ms/step - loss: 0.1392 - accuracy: 0.9487 - val_loss: 0.1404 - val_accuracy: 0.9486\n",
      "Epoch 5/30\n",
      "2897/2897 [==============================] - 36s 12ms/step - loss: 0.1307 - accuracy: 0.9518 - val_loss: 0.1451 - val_accuracy: 0.9455\n",
      "Epoch 6/30\n",
      "2897/2897 [==============================] - 36s 12ms/step - loss: 0.1228 - accuracy: 0.9545 - val_loss: 0.1443 - val_accuracy: 0.9479\n",
      "Epoch 7/30\n",
      "2897/2897 [==============================] - 36s 12ms/step - loss: 0.1159 - accuracy: 0.9568 - val_loss: 0.1453 - val_accuracy: 0.9472\n",
      "Epoch 8/30\n",
      "2897/2897 [==============================] - 36s 12ms/step - loss: 0.1083 - accuracy: 0.9597 - val_loss: 0.1465 - val_accuracy: 0.9473\n",
      "Epoch 9/30\n",
      "2897/2897 [==============================] - 36s 12ms/step - loss: 0.1010 - accuracy: 0.9627 - val_loss: 0.1514 - val_accuracy: 0.9445\n",
      "Epoch 10/30\n",
      "2897/2897 [==============================] - 36s 12ms/step - loss: 0.0956 - accuracy: 0.9647 - val_loss: 0.1599 - val_accuracy: 0.9412\n",
      "Epoch 11/30\n",
      "2897/2897 [==============================] - 36s 12ms/step - loss: 0.0895 - accuracy: 0.9667 - val_loss: 0.1716 - val_accuracy: 0.9392\n",
      "Epoch 12/30\n",
      "2897/2897 [==============================] - 36s 12ms/step - loss: 0.0849 - accuracy: 0.9690 - val_loss: 0.1692 - val_accuracy: 0.9473\n",
      "Epoch 13/30\n",
      "2897/2897 [==============================] - 36s 12ms/step - loss: 0.0797 - accuracy: 0.9706 - val_loss: 0.1725 - val_accuracy: 0.9445\n",
      "Epoch 14/30\n",
      "2897/2897 [==============================] - 36s 12ms/step - loss: 0.0742 - accuracy: 0.9724 - val_loss: 0.1805 - val_accuracy: 0.9427\n",
      "Epoch 15/30\n",
      "2897/2897 [==============================] - 36s 12ms/step - loss: 0.0709 - accuracy: 0.9737 - val_loss: 0.1745 - val_accuracy: 0.9402\n",
      "Epoch 16/30\n",
      "2897/2897 [==============================] - 36s 12ms/step - loss: 0.0654 - accuracy: 0.9755 - val_loss: 0.2060 - val_accuracy: 0.9386\n",
      "Epoch 17/30\n",
      "2897/2897 [==============================] - 36s 12ms/step - loss: 0.0639 - accuracy: 0.9766 - val_loss: 0.1860 - val_accuracy: 0.9439\n",
      "Epoch 18/30\n",
      "2897/2897 [==============================] - 36s 12ms/step - loss: 0.0605 - accuracy: 0.9774 - val_loss: 0.2000 - val_accuracy: 0.9414\n",
      "Epoch 19/30\n",
      "2897/2897 [==============================] - 36s 12ms/step - loss: 0.0580 - accuracy: 0.9785 - val_loss: 0.2086 - val_accuracy: 0.9424\n",
      "Epoch 20/30\n",
      "2897/2897 [==============================] - 36s 12ms/step - loss: 0.0549 - accuracy: 0.9795 - val_loss: 0.2062 - val_accuracy: 0.9393\n",
      "Epoch 21/30\n",
      "2897/2897 [==============================] - 36s 12ms/step - loss: 0.0547 - accuracy: 0.9801 - val_loss: 0.2076 - val_accuracy: 0.9407\n",
      "Epoch 22/30\n",
      "2897/2897 [==============================] - 36s 12ms/step - loss: 0.0518 - accuracy: 0.9807 - val_loss: 0.2113 - val_accuracy: 0.9410\n",
      "Epoch 23/30\n",
      "2897/2897 [==============================] - 36s 12ms/step - loss: 0.0499 - accuracy: 0.9818 - val_loss: 0.2213 - val_accuracy: 0.9375\n",
      "Epoch 24/30\n",
      "2897/2897 [==============================] - 36s 12ms/step - loss: 0.0489 - accuracy: 0.9816 - val_loss: 0.2178 - val_accuracy: 0.9392\n",
      "Epoch 25/30\n",
      "2897/2897 [==============================] - 36s 12ms/step - loss: 0.0475 - accuracy: 0.9826 - val_loss: 0.2112 - val_accuracy: 0.9415\n",
      "Epoch 26/30\n",
      "2897/2897 [==============================] - 36s 12ms/step - loss: 0.0455 - accuracy: 0.9829 - val_loss: 0.2274 - val_accuracy: 0.9379\n",
      "Epoch 27/30\n",
      "2897/2897 [==============================] - 36s 12ms/step - loss: 0.0460 - accuracy: 0.9829 - val_loss: 0.2288 - val_accuracy: 0.9405\n",
      "Epoch 28/30\n",
      "2897/2897 [==============================] - 36s 12ms/step - loss: 0.0444 - accuracy: 0.9836 - val_loss: 0.2449 - val_accuracy: 0.9429\n",
      "Epoch 29/30\n",
      "2897/2897 [==============================] - 36s 12ms/step - loss: 0.0436 - accuracy: 0.9835 - val_loss: 0.2392 - val_accuracy: 0.9406\n",
      "Epoch 30/30\n",
      "2897/2897 [==============================] - 36s 12ms/step - loss: 0.0418 - accuracy: 0.9845 - val_loss: 0.2388 - val_accuracy: 0.9372\n",
      "Epoch 1/30\n",
      "5110/5110 [==============================] - 65s 12ms/step - loss: 0.2885 - accuracy: 0.8775 - val_loss: 0.2468 - val_accuracy: 0.9000\n",
      "Epoch 2/30\n",
      "5110/5110 [==============================] - 61s 12ms/step - loss: 0.2250 - accuracy: 0.9080 - val_loss: 0.1901 - val_accuracy: 0.9232\n",
      "Epoch 3/30\n",
      "5110/5110 [==============================] - 61s 12ms/step - loss: 0.1758 - accuracy: 0.9313 - val_loss: 0.2504 - val_accuracy: 0.9044\n",
      "Epoch 4/30\n",
      "5110/5110 [==============================] - 61s 12ms/step - loss: 0.1397 - accuracy: 0.9468 - val_loss: 0.2095 - val_accuracy: 0.9226\n",
      "Epoch 5/30\n",
      "5110/5110 [==============================] - 62s 12ms/step - loss: 0.1153 - accuracy: 0.9577 - val_loss: 0.2204 - val_accuracy: 0.9226\n",
      "Epoch 6/30\n",
      "5110/5110 [==============================] - 62s 12ms/step - loss: 0.0975 - accuracy: 0.9658 - val_loss: 0.2314 - val_accuracy: 0.9284\n",
      "Epoch 7/30\n",
      "5110/5110 [==============================] - 61s 12ms/step - loss: 0.0855 - accuracy: 0.9699 - val_loss: 0.2510 - val_accuracy: 0.9228\n",
      "Epoch 8/30\n",
      "5110/5110 [==============================] - 61s 12ms/step - loss: 0.0767 - accuracy: 0.9734 - val_loss: 0.2540 - val_accuracy: 0.9290\n",
      "Epoch 9/30\n",
      "5110/5110 [==============================] - 61s 12ms/step - loss: 0.0707 - accuracy: 0.9759 - val_loss: 0.2251 - val_accuracy: 0.9367\n",
      "Epoch 10/30\n",
      "5110/5110 [==============================] - 61s 12ms/step - loss: 0.0652 - accuracy: 0.9777 - val_loss: 0.2606 - val_accuracy: 0.9226\n",
      "Epoch 11/30\n",
      "5110/5110 [==============================] - 61s 12ms/step - loss: 0.0621 - accuracy: 0.9783 - val_loss: 0.2464 - val_accuracy: 0.9314\n",
      "Epoch 12/30\n",
      "5110/5110 [==============================] - 62s 12ms/step - loss: 0.0599 - accuracy: 0.9792 - val_loss: 0.2426 - val_accuracy: 0.9359\n",
      "Epoch 13/30\n",
      "5110/5110 [==============================] - 62s 12ms/step - loss: 0.0552 - accuracy: 0.9811 - val_loss: 0.2433 - val_accuracy: 0.9342\n",
      "Epoch 14/30\n",
      "5110/5110 [==============================] - 62s 12ms/step - loss: 0.0546 - accuracy: 0.9817 - val_loss: 0.2637 - val_accuracy: 0.9322\n",
      "Epoch 15/30\n",
      "5110/5110 [==============================] - 62s 12ms/step - loss: 0.0509 - accuracy: 0.9825 - val_loss: 0.2728 - val_accuracy: 0.9293\n",
      "Epoch 16/30\n",
      "5110/5110 [==============================] - 62s 12ms/step - loss: 0.0489 - accuracy: 0.9831 - val_loss: 0.2999 - val_accuracy: 0.9229\n",
      "Epoch 17/30\n",
      "5110/5110 [==============================] - 62s 12ms/step - loss: 0.0484 - accuracy: 0.9831 - val_loss: 0.2952 - val_accuracy: 0.9260\n",
      "Epoch 18/30\n",
      "5110/5110 [==============================] - 62s 12ms/step - loss: 0.0469 - accuracy: 0.9838 - val_loss: 0.2751 - val_accuracy: 0.9310\n",
      "Epoch 19/30\n",
      "5110/5110 [==============================] - 62s 12ms/step - loss: 0.0475 - accuracy: 0.9835 - val_loss: 0.2942 - val_accuracy: 0.9291\n",
      "Epoch 20/30\n",
      "5110/5110 [==============================] - 62s 12ms/step - loss: 0.0457 - accuracy: 0.9838 - val_loss: 0.2680 - val_accuracy: 0.9370\n",
      "Epoch 21/30\n",
      "5110/5110 [==============================] - 61s 12ms/step - loss: 0.0445 - accuracy: 0.9848 - val_loss: 0.2926 - val_accuracy: 0.9324\n",
      "Epoch 22/30\n",
      "5110/5110 [==============================] - 62s 12ms/step - loss: 0.0429 - accuracy: 0.9848 - val_loss: 0.3017 - val_accuracy: 0.9268\n",
      "Epoch 23/30\n",
      "5110/5110 [==============================] - 62s 12ms/step - loss: 0.0426 - accuracy: 0.9855 - val_loss: 0.2851 - val_accuracy: 0.9307\n",
      "Epoch 24/30\n",
      "5110/5110 [==============================] - 62s 12ms/step - loss: 0.0425 - accuracy: 0.9849 - val_loss: 0.3031 - val_accuracy: 0.9345\n",
      "Epoch 25/30\n",
      "5110/5110 [==============================] - 62s 12ms/step - loss: 0.0430 - accuracy: 0.9854 - val_loss: 0.2990 - val_accuracy: 0.9279\n",
      "Epoch 26/30\n",
      "5110/5110 [==============================] - 61s 12ms/step - loss: 0.0408 - accuracy: 0.9857 - val_loss: 0.2928 - val_accuracy: 0.9382\n",
      "Epoch 27/30\n",
      "5110/5110 [==============================] - 62s 12ms/step - loss: 0.0407 - accuracy: 0.9858 - val_loss: 0.3020 - val_accuracy: 0.9294\n",
      "Epoch 28/30\n",
      "5110/5110 [==============================] - 62s 12ms/step - loss: 0.0422 - accuracy: 0.9849 - val_loss: 0.2915 - val_accuracy: 0.9322\n",
      "Epoch 29/30\n",
      "5110/5110 [==============================] - 62s 12ms/step - loss: 0.0392 - accuracy: 0.9862 - val_loss: 0.3103 - val_accuracy: 0.9329\n",
      "Epoch 30/30\n",
      "5110/5110 [==============================] - 62s 12ms/step - loss: 0.0390 - accuracy: 0.9861 - val_loss: 0.2879 - val_accuracy: 0.9360\n",
      "Epoch 1/30\n",
      "2897/2897 [==============================] - 40s 13ms/step - loss: 0.1745 - accuracy: 0.9369 - val_loss: 0.1447 - val_accuracy: 0.9473\n",
      "Epoch 2/30\n",
      "2897/2897 [==============================] - 37s 13ms/step - loss: 0.1499 - accuracy: 0.9447 - val_loss: 0.1455 - val_accuracy: 0.9455\n",
      "Epoch 3/30\n",
      "2897/2897 [==============================] - 37s 13ms/step - loss: 0.1434 - accuracy: 0.9475 - val_loss: 0.1385 - val_accuracy: 0.9475\n",
      "Epoch 4/30\n",
      "2897/2897 [==============================] - 37s 13ms/step - loss: 0.1366 - accuracy: 0.9493 - val_loss: 0.1390 - val_accuracy: 0.9479\n",
      "Epoch 5/30\n",
      "2897/2897 [==============================] - 37s 13ms/step - loss: 0.1309 - accuracy: 0.9509 - val_loss: 0.1390 - val_accuracy: 0.9477\n",
      "Epoch 6/30\n",
      "2897/2897 [==============================] - 37s 13ms/step - loss: 0.1242 - accuracy: 0.9539 - val_loss: 0.1389 - val_accuracy: 0.9479\n",
      "Epoch 7/30\n",
      "2897/2897 [==============================] - 37s 13ms/step - loss: 0.1190 - accuracy: 0.9555 - val_loss: 0.1407 - val_accuracy: 0.9479\n",
      "Epoch 8/30\n",
      "2897/2897 [==============================] - 37s 13ms/step - loss: 0.1128 - accuracy: 0.9577 - val_loss: 0.1444 - val_accuracy: 0.9480\n",
      "Epoch 9/30\n",
      "2897/2897 [==============================] - 37s 13ms/step - loss: 0.1053 - accuracy: 0.9603 - val_loss: 0.1429 - val_accuracy: 0.9483\n",
      "Epoch 10/30\n",
      "2897/2897 [==============================] - 38s 13ms/step - loss: 0.0988 - accuracy: 0.9629 - val_loss: 0.1463 - val_accuracy: 0.9477\n",
      "Epoch 11/30\n",
      "2897/2897 [==============================] - 37s 13ms/step - loss: 0.0914 - accuracy: 0.9661 - val_loss: 0.1576 - val_accuracy: 0.9456\n",
      "Epoch 12/30\n",
      "2897/2897 [==============================] - 37s 13ms/step - loss: 0.0844 - accuracy: 0.9686 - val_loss: 0.1690 - val_accuracy: 0.9461\n",
      "Epoch 13/30\n",
      "2897/2897 [==============================] - 36s 13ms/step - loss: 0.0775 - accuracy: 0.9707 - val_loss: 0.1686 - val_accuracy: 0.9455\n",
      "Epoch 14/30\n",
      "2897/2897 [==============================] - 37s 13ms/step - loss: 0.0716 - accuracy: 0.9734 - val_loss: 0.1862 - val_accuracy: 0.9438\n",
      "Epoch 15/30\n",
      "2897/2897 [==============================] - 37s 13ms/step - loss: 0.0653 - accuracy: 0.9765 - val_loss: 0.1917 - val_accuracy: 0.9437\n",
      "Epoch 16/30\n",
      "2897/2897 [==============================] - 37s 13ms/step - loss: 0.0607 - accuracy: 0.9778 - val_loss: 0.1957 - val_accuracy: 0.9425\n",
      "Epoch 17/30\n",
      "2897/2897 [==============================] - 36s 13ms/step - loss: 0.0563 - accuracy: 0.9793 - val_loss: 0.2122 - val_accuracy: 0.9424\n",
      "Epoch 18/30\n",
      "2897/2897 [==============================] - 37s 13ms/step - loss: 0.0511 - accuracy: 0.9812 - val_loss: 0.2045 - val_accuracy: 0.9417\n",
      "Epoch 19/30\n",
      "2897/2897 [==============================] - 37s 13ms/step - loss: 0.0491 - accuracy: 0.9820 - val_loss: 0.2091 - val_accuracy: 0.9410\n",
      "Epoch 20/30\n",
      "2897/2897 [==============================] - 37s 13ms/step - loss: 0.0457 - accuracy: 0.9832 - val_loss: 0.2456 - val_accuracy: 0.9409\n",
      "Epoch 21/30\n",
      "2897/2897 [==============================] - 37s 13ms/step - loss: 0.0487 - accuracy: 0.9823 - val_loss: 0.2050 - val_accuracy: 0.9423\n",
      "Epoch 22/30\n",
      "2897/2897 [==============================] - 37s 13ms/step - loss: 0.0458 - accuracy: 0.9835 - val_loss: 0.2295 - val_accuracy: 0.9373\n",
      "Epoch 23/30\n",
      "2897/2897 [==============================] - 37s 13ms/step - loss: 0.0390 - accuracy: 0.9858 - val_loss: 0.2423 - val_accuracy: 0.9416\n",
      "Epoch 24/30\n",
      "2897/2897 [==============================] - 38s 13ms/step - loss: 0.0373 - accuracy: 0.9860 - val_loss: 0.2361 - val_accuracy: 0.9408\n",
      "Epoch 25/30\n",
      "2897/2897 [==============================] - 37s 13ms/step - loss: 0.0368 - accuracy: 0.9864 - val_loss: 0.2462 - val_accuracy: 0.9423\n",
      "Epoch 26/30\n",
      "2897/2897 [==============================] - 37s 13ms/step - loss: 0.0350 - accuracy: 0.9874 - val_loss: 0.2539 - val_accuracy: 0.9390\n",
      "Epoch 27/30\n",
      "2897/2897 [==============================] - 37s 13ms/step - loss: 0.0326 - accuracy: 0.9882 - val_loss: 0.2500 - val_accuracy: 0.9427\n",
      "Epoch 28/30\n",
      "2897/2897 [==============================] - 37s 13ms/step - loss: 0.0319 - accuracy: 0.9886 - val_loss: 0.2579 - val_accuracy: 0.9433\n",
      "Epoch 29/30\n",
      "2897/2897 [==============================] - 37s 13ms/step - loss: 0.0306 - accuracy: 0.9890 - val_loss: 0.2629 - val_accuracy: 0.9406\n",
      "Epoch 30/30\n",
      "2897/2897 [==============================] - 37s 13ms/step - loss: 0.0305 - accuracy: 0.9892 - val_loss: 0.2702 - val_accuracy: 0.9434\n",
      "Epoch 1/30\n",
      "5110/5110 [==============================] - 67s 13ms/step - loss: 0.2864 - accuracy: 0.8800 - val_loss: 0.2335 - val_accuracy: 0.9091\n",
      "Epoch 2/30\n",
      "5110/5110 [==============================] - 64s 13ms/step - loss: 0.2273 - accuracy: 0.9063 - val_loss: 0.2292 - val_accuracy: 0.9091\n",
      "Epoch 3/30\n",
      "5110/5110 [==============================] - 65s 13ms/step - loss: 0.1954 - accuracy: 0.9208 - val_loss: 0.1813 - val_accuracy: 0.9310\n",
      "Epoch 4/30\n",
      "5110/5110 [==============================] - 64s 13ms/step - loss: 0.1641 - accuracy: 0.9367 - val_loss: 0.2136 - val_accuracy: 0.9158\n",
      "Epoch 5/30\n",
      "5110/5110 [==============================] - 64s 13ms/step - loss: 0.1321 - accuracy: 0.9510 - val_loss: 0.2270 - val_accuracy: 0.9181\n",
      "Epoch 6/30\n",
      "5110/5110 [==============================] - 64s 13ms/step - loss: 0.1089 - accuracy: 0.9609 - val_loss: 0.2273 - val_accuracy: 0.9177\n",
      "Epoch 7/30\n",
      "5110/5110 [==============================] - 64s 13ms/step - loss: 0.0912 - accuracy: 0.9680 - val_loss: 0.2154 - val_accuracy: 0.9312\n",
      "Epoch 8/30\n",
      "5110/5110 [==============================] - 64s 13ms/step - loss: 0.0790 - accuracy: 0.9725 - val_loss: 0.2332 - val_accuracy: 0.9316\n",
      "Epoch 9/30\n",
      "5110/5110 [==============================] - 64s 13ms/step - loss: 0.0707 - accuracy: 0.9753 - val_loss: 0.2661 - val_accuracy: 0.9279\n",
      "Epoch 10/30\n",
      "5110/5110 [==============================] - 65s 13ms/step - loss: 0.0634 - accuracy: 0.9785 - val_loss: 0.2530 - val_accuracy: 0.9354\n",
      "Epoch 11/30\n",
      "5110/5110 [==============================] - 64s 13ms/step - loss: 0.0546 - accuracy: 0.9814 - val_loss: 0.2553 - val_accuracy: 0.9348\n",
      "Epoch 12/30\n",
      "5110/5110 [==============================] - 64s 13ms/step - loss: 0.0489 - accuracy: 0.9831 - val_loss: 0.2751 - val_accuracy: 0.9366\n",
      "Epoch 13/30\n",
      "5110/5110 [==============================] - 64s 13ms/step - loss: 0.0445 - accuracy: 0.9847 - val_loss: 0.2868 - val_accuracy: 0.9316\n",
      "Epoch 14/30\n",
      "5110/5110 [==============================] - 65s 13ms/step - loss: 0.0426 - accuracy: 0.9854 - val_loss: 0.2999 - val_accuracy: 0.9335\n",
      "Epoch 15/30\n",
      "5110/5110 [==============================] - 65s 13ms/step - loss: 0.0396 - accuracy: 0.9860 - val_loss: 0.2818 - val_accuracy: 0.9353\n",
      "Epoch 16/30\n",
      "5110/5110 [==============================] - 64s 13ms/step - loss: 0.0367 - accuracy: 0.9875 - val_loss: 0.3036 - val_accuracy: 0.9350\n",
      "Epoch 17/30\n",
      "5110/5110 [==============================] - 65s 13ms/step - loss: 0.0349 - accuracy: 0.9878 - val_loss: 0.2927 - val_accuracy: 0.9379\n",
      "Epoch 18/30\n",
      "5110/5110 [==============================] - 65s 13ms/step - loss: 0.0326 - accuracy: 0.9888 - val_loss: 0.2991 - val_accuracy: 0.9385\n",
      "Epoch 19/30\n",
      "5110/5110 [==============================] - 64s 13ms/step - loss: 0.0312 - accuracy: 0.9893 - val_loss: 0.3234 - val_accuracy: 0.9389\n",
      "Epoch 20/30\n",
      "5110/5110 [==============================] - 64s 12ms/step - loss: 0.0308 - accuracy: 0.9893 - val_loss: 0.3461 - val_accuracy: 0.9297\n",
      "Epoch 21/30\n",
      "5110/5110 [==============================] - 64s 12ms/step - loss: 0.0301 - accuracy: 0.9894 - val_loss: 0.3353 - val_accuracy: 0.9294\n",
      "Epoch 22/30\n",
      "5110/5110 [==============================] - 64s 12ms/step - loss: 0.0279 - accuracy: 0.9901 - val_loss: 0.3302 - val_accuracy: 0.9358\n",
      "Epoch 23/30\n",
      "5110/5110 [==============================] - 63s 12ms/step - loss: 0.0281 - accuracy: 0.9899 - val_loss: 0.3231 - val_accuracy: 0.9370\n",
      "Epoch 24/30\n",
      "5110/5110 [==============================] - 63s 12ms/step - loss: 0.0263 - accuracy: 0.9907 - val_loss: 0.3306 - val_accuracy: 0.9391\n",
      "Epoch 25/30\n",
      "5110/5110 [==============================] - 64s 12ms/step - loss: 0.0264 - accuracy: 0.9906 - val_loss: 0.3450 - val_accuracy: 0.9404\n",
      "Epoch 26/30\n",
      "5110/5110 [==============================] - 63s 12ms/step - loss: 0.0248 - accuracy: 0.9911 - val_loss: 0.3607 - val_accuracy: 0.9348\n",
      "Epoch 27/30\n",
      "5110/5110 [==============================] - 63s 12ms/step - loss: 0.0243 - accuracy: 0.9911 - val_loss: 0.3391 - val_accuracy: 0.9378\n",
      "Epoch 28/30\n",
      "5110/5110 [==============================] - 63s 12ms/step - loss: 0.0234 - accuracy: 0.9915 - val_loss: 0.3273 - val_accuracy: 0.9410\n",
      "Epoch 29/30\n",
      "5110/5110 [==============================] - 64s 12ms/step - loss: 0.0239 - accuracy: 0.9915 - val_loss: 0.3437 - val_accuracy: 0.9334\n",
      "Epoch 30/30\n",
      "5110/5110 [==============================] - 64s 12ms/step - loss: 0.0227 - accuracy: 0.9918 - val_loss: 0.3827 - val_accuracy: 0.9328\n",
      "Epoch 1/30\n",
      "2897/2897 [==============================] - 38s 11ms/step - loss: 0.0698 - accuracy: 0.9768 - val_loss: 0.3450 - val_accuracy: 0.9336\n",
      "Epoch 2/30\n",
      "2897/2897 [==============================] - 31s 11ms/step - loss: 0.0415 - accuracy: 0.9871 - val_loss: 0.4694 - val_accuracy: 0.9340\n",
      "Epoch 3/30\n",
      "2897/2897 [==============================] - 31s 11ms/step - loss: 0.0332 - accuracy: 0.9900 - val_loss: 0.4315 - val_accuracy: 0.9358\n",
      "Epoch 4/30\n",
      "2897/2897 [==============================] - 31s 11ms/step - loss: 0.0291 - accuracy: 0.9914 - val_loss: 0.5838 - val_accuracy: 0.9321\n",
      "Epoch 5/30\n",
      "2897/2897 [==============================] - 31s 11ms/step - loss: 0.0256 - accuracy: 0.9927 - val_loss: 0.6012 - val_accuracy: 0.9343\n",
      "Epoch 6/30\n",
      "2897/2897 [==============================] - 31s 11ms/step - loss: 0.0229 - accuracy: 0.9937 - val_loss: 0.6140 - val_accuracy: 0.9340\n",
      "Epoch 7/30\n",
      "2897/2897 [==============================] - 31s 11ms/step - loss: 0.0216 - accuracy: 0.9946 - val_loss: 0.6824 - val_accuracy: 0.9357\n",
      "Epoch 8/30\n",
      "2897/2897 [==============================] - 31s 11ms/step - loss: 0.0203 - accuracy: 0.9947 - val_loss: 0.6812 - val_accuracy: 0.9360\n",
      "Epoch 9/30\n",
      "2897/2897 [==============================] - 31s 11ms/step - loss: 0.0200 - accuracy: 0.9948 - val_loss: 0.7099 - val_accuracy: 0.9333\n",
      "Epoch 10/30\n",
      "2897/2897 [==============================] - 31s 11ms/step - loss: 0.0172 - accuracy: 0.9954 - val_loss: 0.6861 - val_accuracy: 0.9328\n",
      "Epoch 11/30\n",
      "2897/2897 [==============================] - 31s 11ms/step - loss: 0.0167 - accuracy: 0.9961 - val_loss: 0.8031 - val_accuracy: 0.9318\n",
      "Epoch 12/30\n",
      "2897/2897 [==============================] - 31s 11ms/step - loss: 0.0168 - accuracy: 0.9960 - val_loss: 0.9115 - val_accuracy: 0.9311\n",
      "Epoch 13/30\n",
      "2897/2897 [==============================] - 31s 11ms/step - loss: 0.0155 - accuracy: 0.9964 - val_loss: 1.0280 - val_accuracy: 0.9318\n",
      "Epoch 14/30\n",
      "2897/2897 [==============================] - 31s 11ms/step - loss: 0.0167 - accuracy: 0.9962 - val_loss: 0.8560 - val_accuracy: 0.9326\n",
      "Epoch 15/30\n",
      "2897/2897 [==============================] - 31s 11ms/step - loss: 0.0167 - accuracy: 0.9964 - val_loss: 0.8407 - val_accuracy: 0.9328\n",
      "Epoch 16/30\n",
      "2897/2897 [==============================] - 31s 11ms/step - loss: 0.0155 - accuracy: 0.9964 - val_loss: 0.9285 - val_accuracy: 0.9318\n",
      "Epoch 17/30\n",
      "2897/2897 [==============================] - 31s 11ms/step - loss: 0.0160 - accuracy: 0.9966 - val_loss: 0.9187 - val_accuracy: 0.9326\n",
      "Epoch 18/30\n",
      "2897/2897 [==============================] - 31s 11ms/step - loss: 0.0138 - accuracy: 0.9969 - val_loss: 1.0142 - val_accuracy: 0.9323\n",
      "Epoch 19/30\n",
      "2897/2897 [==============================] - 31s 11ms/step - loss: 0.0158 - accuracy: 0.9966 - val_loss: 0.9865 - val_accuracy: 0.9322\n",
      "Epoch 20/30\n",
      "2897/2897 [==============================] - 31s 11ms/step - loss: 0.0140 - accuracy: 0.9968 - val_loss: 1.2846 - val_accuracy: 0.9301\n",
      "Epoch 21/30\n",
      "2897/2897 [==============================] - 31s 11ms/step - loss: 0.0137 - accuracy: 0.9970 - val_loss: 1.0038 - val_accuracy: 0.9301\n",
      "Epoch 22/30\n",
      "2897/2897 [==============================] - 31s 11ms/step - loss: 0.0148 - accuracy: 0.9971 - val_loss: 0.9232 - val_accuracy: 0.9301\n",
      "Epoch 23/30\n",
      "2897/2897 [==============================] - 31s 11ms/step - loss: 0.0134 - accuracy: 0.9973 - val_loss: 1.0061 - val_accuracy: 0.9322\n",
      "Epoch 24/30\n",
      "2897/2897 [==============================] - 31s 11ms/step - loss: 0.0112 - accuracy: 0.9975 - val_loss: 1.2289 - val_accuracy: 0.9315\n",
      "Epoch 25/30\n",
      "2897/2897 [==============================] - 31s 11ms/step - loss: 0.0127 - accuracy: 0.9974 - val_loss: 1.1653 - val_accuracy: 0.9295\n",
      "Epoch 26/30\n",
      "2897/2897 [==============================] - 31s 11ms/step - loss: 0.0138 - accuracy: 0.9973 - val_loss: 1.1282 - val_accuracy: 0.9308\n",
      "Epoch 27/30\n",
      "2897/2897 [==============================] - 31s 11ms/step - loss: 0.0138 - accuracy: 0.9975 - val_loss: 1.2649 - val_accuracy: 0.9301\n",
      "Epoch 28/30\n",
      "2897/2897 [==============================] - 31s 11ms/step - loss: 0.0136 - accuracy: 0.9973 - val_loss: 1.0985 - val_accuracy: 0.9278\n",
      "Epoch 29/30\n",
      "2897/2897 [==============================] - 31s 11ms/step - loss: 0.0130 - accuracy: 0.9974 - val_loss: 1.2516 - val_accuracy: 0.9338\n",
      "Epoch 30/30\n",
      "2897/2897 [==============================] - 31s 11ms/step - loss: 0.0121 - accuracy: 0.9975 - val_loss: 1.3388 - val_accuracy: 0.9330\n",
      "Epoch 1/30\n",
      "5110/5110 [==============================] - 56s 11ms/step - loss: 0.0332 - accuracy: 0.9900 - val_loss: 0.7460 - val_accuracy: 0.9329\n",
      "Epoch 2/30\n",
      "5110/5110 [==============================] - 55s 11ms/step - loss: 0.0172 - accuracy: 0.9962 - val_loss: 0.7692 - val_accuracy: 0.9259\n",
      "Epoch 3/30\n",
      "5110/5110 [==============================] - 55s 11ms/step - loss: 0.0151 - accuracy: 0.9967 - val_loss: 0.9133 - val_accuracy: 0.9308\n",
      "Epoch 4/30\n",
      "5110/5110 [==============================] - 55s 11ms/step - loss: 0.0141 - accuracy: 0.9970 - val_loss: 0.8874 - val_accuracy: 0.9320\n",
      "Epoch 5/30\n",
      "5110/5110 [==============================] - 55s 11ms/step - loss: 0.0136 - accuracy: 0.9974 - val_loss: 0.9901 - val_accuracy: 0.9312\n",
      "Epoch 6/30\n",
      "5110/5110 [==============================] - 55s 11ms/step - loss: 0.0127 - accuracy: 0.9975 - val_loss: 1.1477 - val_accuracy: 0.9330\n",
      "Epoch 7/30\n",
      "5110/5110 [==============================] - 55s 11ms/step - loss: 0.0117 - accuracy: 0.9976 - val_loss: 1.1842 - val_accuracy: 0.9308\n",
      "Epoch 8/30\n",
      "5110/5110 [==============================] - 55s 11ms/step - loss: 0.0118 - accuracy: 0.9978 - val_loss: 1.0806 - val_accuracy: 0.9310\n",
      "Epoch 9/30\n",
      "5110/5110 [==============================] - 55s 11ms/step - loss: 0.0112 - accuracy: 0.9978 - val_loss: 1.1688 - val_accuracy: 0.9323\n",
      "Epoch 10/30\n",
      "5110/5110 [==============================] - 55s 11ms/step - loss: 0.0110 - accuracy: 0.9979 - val_loss: 1.1907 - val_accuracy: 0.9297\n",
      "Epoch 11/30\n",
      "5110/5110 [==============================] - 55s 11ms/step - loss: 0.0123 - accuracy: 0.9978 - val_loss: 1.1607 - val_accuracy: 0.9288\n",
      "Epoch 12/30\n",
      "5110/5110 [==============================] - 55s 11ms/step - loss: 0.0108 - accuracy: 0.9979 - val_loss: 1.2995 - val_accuracy: 0.9316\n",
      "Epoch 13/30\n",
      "5110/5110 [==============================] - 55s 11ms/step - loss: 0.0114 - accuracy: 0.9980 - val_loss: 1.4008 - val_accuracy: 0.9284\n",
      "Epoch 14/30\n",
      "5110/5110 [==============================] - 55s 11ms/step - loss: 0.0107 - accuracy: 0.9981 - val_loss: 1.3783 - val_accuracy: 0.9293\n",
      "Epoch 15/30\n",
      "5110/5110 [==============================] - 55s 11ms/step - loss: 0.0122 - accuracy: 0.9979 - val_loss: 1.3123 - val_accuracy: 0.9266\n",
      "Epoch 16/30\n",
      "5110/5110 [==============================] - 55s 11ms/step - loss: 0.0104 - accuracy: 0.9980 - val_loss: 1.3467 - val_accuracy: 0.9309\n",
      "Epoch 17/30\n",
      "5110/5110 [==============================] - 55s 11ms/step - loss: 0.0103 - accuracy: 0.9982 - val_loss: 1.7457 - val_accuracy: 0.9316\n",
      "Epoch 18/30\n",
      "5110/5110 [==============================] - 55s 11ms/step - loss: 0.0106 - accuracy: 0.9980 - val_loss: 1.5633 - val_accuracy: 0.9282\n",
      "Epoch 19/30\n",
      "5110/5110 [==============================] - 55s 11ms/step - loss: 0.0109 - accuracy: 0.9981 - val_loss: 1.5702 - val_accuracy: 0.9280\n",
      "Epoch 20/30\n",
      "5110/5110 [==============================] - 55s 11ms/step - loss: 0.0109 - accuracy: 0.9981 - val_loss: 1.6473 - val_accuracy: 0.9327\n",
      "Epoch 21/30\n",
      "5110/5110 [==============================] - 55s 11ms/step - loss: 0.0100 - accuracy: 0.9982 - val_loss: 1.7829 - val_accuracy: 0.9321\n",
      "Epoch 22/30\n",
      "5110/5110 [==============================] - 55s 11ms/step - loss: 0.0114 - accuracy: 0.9983 - val_loss: 1.5899 - val_accuracy: 0.9310\n",
      "Epoch 23/30\n",
      "5110/5110 [==============================] - 55s 11ms/step - loss: 0.0109 - accuracy: 0.9981 - val_loss: 1.4787 - val_accuracy: 0.9305\n",
      "Epoch 24/30\n",
      "5110/5110 [==============================] - 55s 11ms/step - loss: 0.0094 - accuracy: 0.9982 - val_loss: 1.7381 - val_accuracy: 0.9300\n",
      "Epoch 25/30\n",
      "5110/5110 [==============================] - 55s 11ms/step - loss: 0.0097 - accuracy: 0.9982 - val_loss: 1.8656 - val_accuracy: 0.9310\n",
      "Epoch 26/30\n",
      "5110/5110 [==============================] - 55s 11ms/step - loss: 0.0109 - accuracy: 0.9981 - val_loss: 1.9139 - val_accuracy: 0.9294\n",
      "Epoch 27/30\n",
      "5110/5110 [==============================] - 55s 11ms/step - loss: 0.0108 - accuracy: 0.9983 - val_loss: 1.8914 - val_accuracy: 0.9297\n",
      "Epoch 28/30\n",
      "5110/5110 [==============================] - 55s 11ms/step - loss: 0.0099 - accuracy: 0.9982 - val_loss: 2.1704 - val_accuracy: 0.9303\n",
      "Epoch 29/30\n",
      "5110/5110 [==============================] - 55s 11ms/step - loss: 0.0104 - accuracy: 0.9983 - val_loss: 1.9871 - val_accuracy: 0.9315\n",
      "Epoch 30/30\n",
      "5110/5110 [==============================] - 55s 11ms/step - loss: 0.0103 - accuracy: 0.9980 - val_loss: 1.9668 - val_accuracy: 0.9290\n",
      "Epoch 1/30\n",
      "2897/2897 [==============================] - 10s 3ms/step - loss: 0.2135 - accuracy: 0.9245 - val_loss: 0.1683 - val_accuracy: 0.9386\n",
      "Epoch 2/30\n",
      "2897/2897 [==============================] - 9s 3ms/step - loss: 0.1840 - accuracy: 0.9332 - val_loss: 0.1705 - val_accuracy: 0.9375\n",
      "Epoch 3/30\n",
      "2897/2897 [==============================] - 9s 3ms/step - loss: 0.1784 - accuracy: 0.9353 - val_loss: 0.1624 - val_accuracy: 0.9392\n",
      "Epoch 4/30\n",
      "2897/2897 [==============================] - 9s 3ms/step - loss: 0.1735 - accuracy: 0.9372 - val_loss: 0.1634 - val_accuracy: 0.9406\n",
      "Epoch 5/30\n",
      "2897/2897 [==============================] - 9s 3ms/step - loss: 0.1701 - accuracy: 0.9381 - val_loss: 0.1615 - val_accuracy: 0.9407\n",
      "Epoch 6/30\n",
      "2897/2897 [==============================] - 9s 3ms/step - loss: 0.1669 - accuracy: 0.9387 - val_loss: 0.1615 - val_accuracy: 0.9415\n",
      "Epoch 7/30\n",
      "2897/2897 [==============================] - 9s 3ms/step - loss: 0.1651 - accuracy: 0.9402 - val_loss: 0.1614 - val_accuracy: 0.9417\n",
      "Epoch 8/30\n",
      "2897/2897 [==============================] - 9s 3ms/step - loss: 0.1608 - accuracy: 0.9413 - val_loss: 0.1607 - val_accuracy: 0.9410\n",
      "Epoch 9/30\n",
      "2897/2897 [==============================] - 9s 3ms/step - loss: 0.1598 - accuracy: 0.9420 - val_loss: 0.1629 - val_accuracy: 0.9413\n",
      "Epoch 10/30\n",
      "2897/2897 [==============================] - 9s 3ms/step - loss: 0.1585 - accuracy: 0.9429 - val_loss: 0.1623 - val_accuracy: 0.9416\n",
      "Epoch 11/30\n",
      "2897/2897 [==============================] - 9s 3ms/step - loss: 0.1543 - accuracy: 0.9440 - val_loss: 0.1622 - val_accuracy: 0.9406\n",
      "Epoch 12/30\n",
      "2897/2897 [==============================] - 9s 3ms/step - loss: 0.1548 - accuracy: 0.9431 - val_loss: 0.1616 - val_accuracy: 0.9420\n",
      "Epoch 13/30\n",
      "2897/2897 [==============================] - 9s 3ms/step - loss: 0.1534 - accuracy: 0.9440 - val_loss: 0.1632 - val_accuracy: 0.9418\n",
      "Epoch 14/30\n",
      "2897/2897 [==============================] - 9s 3ms/step - loss: 0.1506 - accuracy: 0.9455 - val_loss: 0.1685 - val_accuracy: 0.9413\n",
      "Epoch 15/30\n",
      "2897/2897 [==============================] - 9s 3ms/step - loss: 0.1504 - accuracy: 0.9457 - val_loss: 0.1618 - val_accuracy: 0.9427\n",
      "Epoch 16/30\n",
      "2897/2897 [==============================] - 9s 3ms/step - loss: 0.1475 - accuracy: 0.9465 - val_loss: 0.1630 - val_accuracy: 0.9431\n",
      "Epoch 17/30\n",
      "2897/2897 [==============================] - 9s 3ms/step - loss: 0.1474 - accuracy: 0.9465 - val_loss: 0.1625 - val_accuracy: 0.9426\n",
      "Epoch 18/30\n",
      "2897/2897 [==============================] - 9s 3ms/step - loss: 0.1448 - accuracy: 0.9473 - val_loss: 0.1702 - val_accuracy: 0.9404\n",
      "Epoch 19/30\n",
      "2897/2897 [==============================] - 9s 3ms/step - loss: 0.1452 - accuracy: 0.9474 - val_loss: 0.1674 - val_accuracy: 0.9427\n",
      "Epoch 20/30\n",
      "2897/2897 [==============================] - 9s 3ms/step - loss: 0.1460 - accuracy: 0.9470 - val_loss: 0.1633 - val_accuracy: 0.9428\n",
      "Epoch 21/30\n",
      "2897/2897 [==============================] - 9s 3ms/step - loss: 0.1407 - accuracy: 0.9487 - val_loss: 0.1655 - val_accuracy: 0.9429\n",
      "Epoch 22/30\n",
      "2897/2897 [==============================] - 9s 3ms/step - loss: 0.1412 - accuracy: 0.9489 - val_loss: 0.1739 - val_accuracy: 0.9421\n",
      "Epoch 23/30\n",
      "2897/2897 [==============================] - 9s 3ms/step - loss: 0.1410 - accuracy: 0.9488 - val_loss: 0.1710 - val_accuracy: 0.9413\n",
      "Epoch 24/30\n",
      "2897/2897 [==============================] - 9s 3ms/step - loss: 0.1398 - accuracy: 0.9492 - val_loss: 0.1695 - val_accuracy: 0.9419\n",
      "Epoch 25/30\n",
      "2897/2897 [==============================] - 9s 3ms/step - loss: 0.1396 - accuracy: 0.9493 - val_loss: 0.1704 - val_accuracy: 0.9419\n",
      "Epoch 26/30\n",
      "2897/2897 [==============================] - 9s 3ms/step - loss: 0.1374 - accuracy: 0.9502 - val_loss: 0.1693 - val_accuracy: 0.9417\n",
      "Epoch 27/30\n",
      "2897/2897 [==============================] - 9s 3ms/step - loss: 0.1352 - accuracy: 0.9512 - val_loss: 0.1745 - val_accuracy: 0.9422\n",
      "Epoch 28/30\n",
      "2897/2897 [==============================] - 9s 3ms/step - loss: 0.1365 - accuracy: 0.9504 - val_loss: 0.1682 - val_accuracy: 0.9416\n",
      "Epoch 29/30\n",
      "2897/2897 [==============================] - 9s 3ms/step - loss: 0.1346 - accuracy: 0.9499 - val_loss: 0.1703 - val_accuracy: 0.9432\n",
      "Epoch 30/30\n",
      "2897/2897 [==============================] - 9s 3ms/step - loss: 0.1347 - accuracy: 0.9513 - val_loss: 0.1710 - val_accuracy: 0.9407\n",
      "Epoch 1/30\n",
      "5110/5110 [==============================] - 16s 3ms/step - loss: 0.3242 - accuracy: 0.8614 - val_loss: 0.2785 - val_accuracy: 0.9022\n",
      "Epoch 2/30\n",
      "5110/5110 [==============================] - 16s 3ms/step - loss: 0.2759 - accuracy: 0.8865 - val_loss: 0.2171 - val_accuracy: 0.9265\n",
      "Epoch 3/30\n",
      "5110/5110 [==============================] - 16s 3ms/step - loss: 0.2560 - accuracy: 0.8962 - val_loss: 0.2241 - val_accuracy: 0.9252\n",
      "Epoch 4/30\n",
      "5110/5110 [==============================] - 16s 3ms/step - loss: 0.2429 - accuracy: 0.9032 - val_loss: 0.2359 - val_accuracy: 0.9205\n",
      "Epoch 5/30\n",
      "5110/5110 [==============================] - 16s 3ms/step - loss: 0.2349 - accuracy: 0.9072 - val_loss: 0.2379 - val_accuracy: 0.9217\n",
      "Epoch 6/30\n",
      "5110/5110 [==============================] - 16s 3ms/step - loss: 0.2265 - accuracy: 0.9115 - val_loss: 0.2154 - val_accuracy: 0.9304\n",
      "Epoch 7/30\n",
      "5110/5110 [==============================] - 16s 3ms/step - loss: 0.2209 - accuracy: 0.9137 - val_loss: 0.2319 - val_accuracy: 0.9256\n",
      "Epoch 8/30\n",
      "5110/5110 [==============================] - 16s 3ms/step - loss: 0.2167 - accuracy: 0.9169 - val_loss: 0.2322 - val_accuracy: 0.9237\n",
      "Epoch 9/30\n",
      "5110/5110 [==============================] - 16s 3ms/step - loss: 0.2100 - accuracy: 0.9194 - val_loss: 0.2335 - val_accuracy: 0.9252\n",
      "Epoch 10/30\n",
      "5110/5110 [==============================] - 16s 3ms/step - loss: 0.2070 - accuracy: 0.9210 - val_loss: 0.2167 - val_accuracy: 0.9339\n",
      "Epoch 11/30\n",
      "5110/5110 [==============================] - 16s 3ms/step - loss: 0.2024 - accuracy: 0.9223 - val_loss: 0.2213 - val_accuracy: 0.9312\n",
      "Epoch 12/30\n",
      "5110/5110 [==============================] - 16s 3ms/step - loss: 0.1992 - accuracy: 0.9241 - val_loss: 0.2270 - val_accuracy: 0.9295\n",
      "Epoch 13/30\n",
      "5110/5110 [==============================] - 16s 3ms/step - loss: 0.1992 - accuracy: 0.9247 - val_loss: 0.2328 - val_accuracy: 0.9275\n",
      "Epoch 14/30\n",
      "5110/5110 [==============================] - 16s 3ms/step - loss: 0.1953 - accuracy: 0.9258 - val_loss: 0.2211 - val_accuracy: 0.9332\n",
      "Epoch 15/30\n",
      "5110/5110 [==============================] - 16s 3ms/step - loss: 0.1941 - accuracy: 0.9273 - val_loss: 0.2305 - val_accuracy: 0.9289\n",
      "Epoch 16/30\n",
      "5110/5110 [==============================] - 16s 3ms/step - loss: 0.1915 - accuracy: 0.9274 - val_loss: 0.2118 - val_accuracy: 0.9353\n",
      "Epoch 17/30\n",
      "5110/5110 [==============================] - 16s 3ms/step - loss: 0.1909 - accuracy: 0.9286 - val_loss: 0.2560 - val_accuracy: 0.9183\n",
      "Epoch 18/30\n",
      "5110/5110 [==============================] - 16s 3ms/step - loss: 0.1892 - accuracy: 0.9292 - val_loss: 0.2082 - val_accuracy: 0.9380\n",
      "Epoch 19/30\n",
      "5110/5110 [==============================] - 16s 3ms/step - loss: 0.1863 - accuracy: 0.9302 - val_loss: 0.2188 - val_accuracy: 0.9338\n",
      "Epoch 20/30\n",
      "5110/5110 [==============================] - 16s 3ms/step - loss: 0.1843 - accuracy: 0.9317 - val_loss: 0.2147 - val_accuracy: 0.9351\n",
      "Epoch 21/30\n",
      "5110/5110 [==============================] - 15s 3ms/step - loss: 0.1854 - accuracy: 0.9309 - val_loss: 0.2464 - val_accuracy: 0.9249\n",
      "Epoch 22/30\n",
      "5110/5110 [==============================] - 16s 3ms/step - loss: 0.1826 - accuracy: 0.9317 - val_loss: 0.2428 - val_accuracy: 0.9257\n",
      "Epoch 23/30\n",
      "5110/5110 [==============================] - 16s 3ms/step - loss: 0.1817 - accuracy: 0.9324 - val_loss: 0.2218 - val_accuracy: 0.9325\n",
      "Epoch 24/30\n",
      "5110/5110 [==============================] - 16s 3ms/step - loss: 0.1811 - accuracy: 0.9329 - val_loss: 0.2275 - val_accuracy: 0.9299\n",
      "Epoch 25/30\n",
      "5110/5110 [==============================] - 16s 3ms/step - loss: 0.1784 - accuracy: 0.9338 - val_loss: 0.2157 - val_accuracy: 0.9341\n",
      "Epoch 26/30\n",
      "5110/5110 [==============================] - 16s 3ms/step - loss: 0.1779 - accuracy: 0.9344 - val_loss: 0.2232 - val_accuracy: 0.9317\n",
      "Epoch 27/30\n",
      "5110/5110 [==============================] - 16s 3ms/step - loss: 0.1781 - accuracy: 0.9341 - val_loss: 0.2265 - val_accuracy: 0.9306\n",
      "Epoch 28/30\n",
      "5110/5110 [==============================] - 16s 3ms/step - loss: 0.1752 - accuracy: 0.9356 - val_loss: 0.2589 - val_accuracy: 0.9205\n",
      "Epoch 29/30\n",
      "5110/5110 [==============================] - 16s 3ms/step - loss: 0.1754 - accuracy: 0.9351 - val_loss: 0.2176 - val_accuracy: 0.9367\n",
      "Epoch 30/30\n",
      "5110/5110 [==============================] - 16s 3ms/step - loss: 0.1732 - accuracy: 0.9367 - val_loss: 0.2205 - val_accuracy: 0.9353\n",
      "Epoch 1/30\n",
      "2897/2897 [==============================] - 10s 3ms/step - loss: 0.1834 - accuracy: 0.9344 - val_loss: 0.1586 - val_accuracy: 0.9428\n",
      "Epoch 2/30\n",
      "2897/2897 [==============================] - 10s 3ms/step - loss: 0.1632 - accuracy: 0.9406 - val_loss: 0.1522 - val_accuracy: 0.9434\n",
      "Epoch 3/30\n",
      "2897/2897 [==============================] - 9s 3ms/step - loss: 0.1568 - accuracy: 0.9429 - val_loss: 0.1505 - val_accuracy: 0.9444\n",
      "Epoch 4/30\n",
      "2897/2897 [==============================] - 10s 3ms/step - loss: 0.1501 - accuracy: 0.9453 - val_loss: 0.1508 - val_accuracy: 0.9461\n",
      "Epoch 5/30\n",
      "2897/2897 [==============================] - 10s 3ms/step - loss: 0.1447 - accuracy: 0.9467 - val_loss: 0.1523 - val_accuracy: 0.9448\n",
      "Epoch 6/30\n",
      "2897/2897 [==============================] - 10s 3ms/step - loss: 0.1406 - accuracy: 0.9482 - val_loss: 0.1550 - val_accuracy: 0.9437\n",
      "Epoch 7/30\n",
      "2897/2897 [==============================] - 10s 3ms/step - loss: 0.1358 - accuracy: 0.9498 - val_loss: 0.1548 - val_accuracy: 0.9426\n",
      "Epoch 8/30\n",
      "2897/2897 [==============================] - 10s 3ms/step - loss: 0.1310 - accuracy: 0.9517 - val_loss: 0.1527 - val_accuracy: 0.9466\n",
      "Epoch 9/30\n",
      "2897/2897 [==============================] - 10s 3ms/step - loss: 0.1298 - accuracy: 0.9524 - val_loss: 0.1567 - val_accuracy: 0.9435\n",
      "Epoch 10/30\n",
      "2897/2897 [==============================] - 10s 3ms/step - loss: 0.1283 - accuracy: 0.9525 - val_loss: 0.1535 - val_accuracy: 0.9448\n",
      "Epoch 11/30\n",
      "2897/2897 [==============================] - 10s 3ms/step - loss: 0.1248 - accuracy: 0.9537 - val_loss: 0.1605 - val_accuracy: 0.9441\n",
      "Epoch 12/30\n",
      "2897/2897 [==============================] - 10s 3ms/step - loss: 0.1207 - accuracy: 0.9555 - val_loss: 0.1557 - val_accuracy: 0.9452\n",
      "Epoch 13/30\n",
      "2897/2897 [==============================] - 10s 3ms/step - loss: 0.1175 - accuracy: 0.9563 - val_loss: 0.1568 - val_accuracy: 0.9444\n",
      "Epoch 14/30\n",
      "2897/2897 [==============================] - 10s 3ms/step - loss: 0.1170 - accuracy: 0.9567 - val_loss: 0.1685 - val_accuracy: 0.9432\n",
      "Epoch 15/30\n",
      "2897/2897 [==============================] - 10s 3ms/step - loss: 0.1158 - accuracy: 0.9570 - val_loss: 0.1619 - val_accuracy: 0.9452\n",
      "Epoch 16/30\n",
      "2897/2897 [==============================] - 10s 3ms/step - loss: 0.1123 - accuracy: 0.9587 - val_loss: 0.1588 - val_accuracy: 0.9453\n",
      "Epoch 17/30\n",
      "2897/2897 [==============================] - 10s 3ms/step - loss: 0.1116 - accuracy: 0.9588 - val_loss: 0.1627 - val_accuracy: 0.9433\n",
      "Epoch 18/30\n",
      "2897/2897 [==============================] - 9s 3ms/step - loss: 0.1113 - accuracy: 0.9592 - val_loss: 0.1614 - val_accuracy: 0.9444\n",
      "Epoch 19/30\n",
      "2897/2897 [==============================] - 10s 3ms/step - loss: 0.1072 - accuracy: 0.9600 - val_loss: 0.1653 - val_accuracy: 0.9436\n",
      "Epoch 20/30\n",
      "2897/2897 [==============================] - 10s 3ms/step - loss: 0.1063 - accuracy: 0.9605 - val_loss: 0.1609 - val_accuracy: 0.9440\n",
      "Epoch 21/30\n",
      "2897/2897 [==============================] - 10s 3ms/step - loss: 0.1047 - accuracy: 0.9616 - val_loss: 0.1653 - val_accuracy: 0.9436\n",
      "Epoch 22/30\n",
      "2897/2897 [==============================] - 10s 3ms/step - loss: 0.1050 - accuracy: 0.9615 - val_loss: 0.1668 - val_accuracy: 0.9435\n",
      "Epoch 23/30\n",
      "2897/2897 [==============================] - 10s 3ms/step - loss: 0.1030 - accuracy: 0.9623 - val_loss: 0.1634 - val_accuracy: 0.9443\n",
      "Epoch 24/30\n",
      "2897/2897 [==============================] - 10s 3ms/step - loss: 0.1027 - accuracy: 0.9619 - val_loss: 0.1636 - val_accuracy: 0.9452\n",
      "Epoch 25/30\n",
      "2897/2897 [==============================] - 10s 3ms/step - loss: 0.1002 - accuracy: 0.9629 - val_loss: 0.1705 - val_accuracy: 0.9437\n",
      "Epoch 26/30\n",
      "2897/2897 [==============================] - 10s 3ms/step - loss: 0.0996 - accuracy: 0.9631 - val_loss: 0.1651 - val_accuracy: 0.9436\n",
      "Epoch 27/30\n",
      "2897/2897 [==============================] - 10s 3ms/step - loss: 0.1003 - accuracy: 0.9632 - val_loss: 0.1664 - val_accuracy: 0.9432\n",
      "Epoch 28/30\n",
      "2897/2897 [==============================] - 10s 3ms/step - loss: 0.0997 - accuracy: 0.9638 - val_loss: 0.1747 - val_accuracy: 0.9433\n",
      "Epoch 29/30\n",
      "2897/2897 [==============================] - 10s 3ms/step - loss: 0.0985 - accuracy: 0.9638 - val_loss: 0.1668 - val_accuracy: 0.9445\n",
      "Epoch 30/30\n",
      "2897/2897 [==============================] - 10s 3ms/step - loss: 0.0978 - accuracy: 0.9642 - val_loss: 0.1657 - val_accuracy: 0.9438\n",
      "Epoch 1/30\n",
      "5110/5110 [==============================] - 17s 3ms/step - loss: 0.2725 - accuracy: 0.8862 - val_loss: 0.2461 - val_accuracy: 0.9159\n",
      "Epoch 2/30\n",
      "5110/5110 [==============================] - 17s 3ms/step - loss: 0.2252 - accuracy: 0.9114 - val_loss: 0.2238 - val_accuracy: 0.9226\n",
      "Epoch 3/30\n",
      "5110/5110 [==============================] - 17s 3ms/step - loss: 0.2026 - accuracy: 0.9212 - val_loss: 0.2100 - val_accuracy: 0.9284\n",
      "Epoch 4/30\n",
      "5110/5110 [==============================] - 17s 3ms/step - loss: 0.1876 - accuracy: 0.9286 - val_loss: 0.2162 - val_accuracy: 0.9270\n",
      "Epoch 5/30\n",
      "5110/5110 [==============================] - 17s 3ms/step - loss: 0.1772 - accuracy: 0.9338 - val_loss: 0.1933 - val_accuracy: 0.9353\n",
      "Epoch 6/30\n",
      "5110/5110 [==============================] - 17s 3ms/step - loss: 0.1689 - accuracy: 0.9378 - val_loss: 0.1938 - val_accuracy: 0.9368\n",
      "Epoch 7/30\n",
      "5110/5110 [==============================] - 16s 3ms/step - loss: 0.1642 - accuracy: 0.9398 - val_loss: 0.2212 - val_accuracy: 0.9294\n",
      "Epoch 8/30\n",
      "5110/5110 [==============================] - 16s 3ms/step - loss: 0.1587 - accuracy: 0.9416 - val_loss: 0.2057 - val_accuracy: 0.9334\n",
      "Epoch 9/30\n",
      "5110/5110 [==============================] - 17s 3ms/step - loss: 0.1548 - accuracy: 0.9431 - val_loss: 0.2142 - val_accuracy: 0.9316\n",
      "Epoch 10/30\n",
      "5110/5110 [==============================] - 17s 3ms/step - loss: 0.1491 - accuracy: 0.9446 - val_loss: 0.2070 - val_accuracy: 0.9343\n",
      "Epoch 11/30\n",
      "5110/5110 [==============================] - 17s 3ms/step - loss: 0.1453 - accuracy: 0.9461 - val_loss: 0.2115 - val_accuracy: 0.9305\n",
      "Epoch 12/30\n",
      "5110/5110 [==============================] - 17s 3ms/step - loss: 0.1445 - accuracy: 0.9475 - val_loss: 0.2076 - val_accuracy: 0.9350\n",
      "Epoch 13/30\n",
      "5110/5110 [==============================] - 16s 3ms/step - loss: 0.1405 - accuracy: 0.9488 - val_loss: 0.2043 - val_accuracy: 0.9342\n",
      "Epoch 14/30\n",
      "5110/5110 [==============================] - 16s 3ms/step - loss: 0.1379 - accuracy: 0.9500 - val_loss: 0.2075 - val_accuracy: 0.9343\n",
      "Epoch 15/30\n",
      "5110/5110 [==============================] - 17s 3ms/step - loss: 0.1369 - accuracy: 0.9505 - val_loss: 0.2066 - val_accuracy: 0.9355\n",
      "Epoch 16/30\n",
      "5110/5110 [==============================] - 17s 3ms/step - loss: 0.1369 - accuracy: 0.9515 - val_loss: 0.2321 - val_accuracy: 0.9297\n",
      "Epoch 17/30\n",
      "5110/5110 [==============================] - 16s 3ms/step - loss: 0.1324 - accuracy: 0.9524 - val_loss: 0.2204 - val_accuracy: 0.9341\n",
      "Epoch 18/30\n",
      "5110/5110 [==============================] - 16s 3ms/step - loss: 0.1312 - accuracy: 0.9524 - val_loss: 0.2246 - val_accuracy: 0.9296\n",
      "Epoch 19/30\n",
      "5110/5110 [==============================] - 17s 3ms/step - loss: 0.1284 - accuracy: 0.9537 - val_loss: 0.2034 - val_accuracy: 0.9389\n",
      "Epoch 20/30\n",
      "5110/5110 [==============================] - 16s 3ms/step - loss: 0.1297 - accuracy: 0.9536 - val_loss: 0.2188 - val_accuracy: 0.9339\n",
      "Epoch 21/30\n",
      "5110/5110 [==============================] - 16s 3ms/step - loss: 0.1260 - accuracy: 0.9553 - val_loss: 0.2063 - val_accuracy: 0.9363\n",
      "Epoch 22/30\n",
      "5110/5110 [==============================] - 16s 3ms/step - loss: 0.1259 - accuracy: 0.9548 - val_loss: 0.2004 - val_accuracy: 0.9398\n",
      "Epoch 23/30\n",
      "5110/5110 [==============================] - 16s 3ms/step - loss: 0.1226 - accuracy: 0.9556 - val_loss: 0.2150 - val_accuracy: 0.9342\n",
      "Epoch 24/30\n",
      "5110/5110 [==============================] - 17s 3ms/step - loss: 0.1231 - accuracy: 0.9559 - val_loss: 0.2104 - val_accuracy: 0.9376\n",
      "Epoch 25/30\n",
      "5110/5110 [==============================] - 16s 3ms/step - loss: 0.1229 - accuracy: 0.9559 - val_loss: 0.2175 - val_accuracy: 0.9346\n",
      "Epoch 26/30\n",
      "5110/5110 [==============================] - 16s 3ms/step - loss: 0.1208 - accuracy: 0.9566 - val_loss: 0.2274 - val_accuracy: 0.9315\n",
      "Epoch 27/30\n",
      "5110/5110 [==============================] - 16s 3ms/step - loss: 0.1185 - accuracy: 0.9576 - val_loss: 0.2142 - val_accuracy: 0.9357\n",
      "Epoch 28/30\n",
      "5110/5110 [==============================] - 16s 3ms/step - loss: 0.1197 - accuracy: 0.9576 - val_loss: 0.2095 - val_accuracy: 0.9384\n",
      "Epoch 29/30\n",
      "5110/5110 [==============================] - 16s 3ms/step - loss: 0.1177 - accuracy: 0.9579 - val_loss: 0.2180 - val_accuracy: 0.9341\n",
      "Epoch 30/30\n",
      "5110/5110 [==============================] - 17s 3ms/step - loss: 0.1160 - accuracy: 0.9585 - val_loss: 0.2157 - val_accuracy: 0.9366\n"
     ]
    },
    {
     "output_type": "execute_result",
     "data": {
      "text/plain": [
       "<keras.callbacks.History at 0x7f6575233a10>"
      ]
     },
     "metadata": {},
     "execution_count": 31
    }
   ],
   "source": [
    "lstm_random.fit(X_train, y_train_onehot, epochs=30, validation_data=(X_val, y_val_onehot))\n",
    "lstm_random_over.fit(X_train_over, y_train_over_onehot, epochs=30, validation_data=(X_val, y_val_onehot))\n",
    "lstm_glove.fit(X_train, y_train_onehot, epochs=30, validation_data=(X_val, y_val_onehot))\n",
    "lstm_glove_over.fit(X_train_over, y_train_over_onehot, epochs=30, validation_data=(X_val, y_val_onehot))\n",
    "lstm_word2vec.fit(X_train, y_train_onehot, epochs=30, validation_data=(X_val, y_val_onehot))\n",
    "lstm_word2vec_over.fit(X_train_over, y_train_over_onehot, epochs=30, validation_data=(X_val, y_val_onehot))\n",
    "blstm_random.fit(X_train, y_train_onehot, epochs=30, validation_data=(X_val, y_val_onehot))\n",
    "blstm_random_over.fit(X_train_over, y_train_over_onehot, epochs=30, validation_data=(X_val, y_val_onehot))\n",
    "blstm_glove.fit(X_train, y_train_onehot, epochs=30, validation_data=(X_val, y_val_onehot))\n",
    "blstm_glove_over.fit(X_train_over, y_train_over_onehot, epochs=30, validation_data=(X_val, y_val_onehot))\n",
    "blstm_word2vec.fit(X_train, y_train_onehot, epochs=30, validation_data=(X_val, y_val_onehot))\n",
    "blstm_word2vec_over.fit(X_train_over, y_train_over_onehot, epochs=30, validation_data=(X_val, y_val_onehot))\n",
    "blstm_att_random.fit(X_train, y_train_onehot, epochs=30, validation_data=(X_val, y_val_onehot))\n",
    "blstm_att_random_over.fit(X_train_over, y_train_over_onehot, epochs=30, validation_data=(X_val, y_val_onehot))\n",
    "blstm_att_glove.fit(X_train, y_train_onehot, epochs=30, validation_data=(X_val, y_val_onehot))\n",
    "blstm_att_glove_over.fit(X_train_over, y_train_over_onehot, epochs=30, validation_data=(X_val, y_val_onehot))\n",
    "blstm_att_word2vec.fit(X_train, y_train_onehot, epochs=30, validation_data=(X_val, y_val_onehot))\n",
    "blstm_att_word2vec_over.fit(X_train_over, y_train_over_onehot, epochs=30, validation_data=(X_val, y_val_onehot))\n",
    "cnn_random.fit(X_train, y_train_onehot, epochs=30, validation_data=(X_val, y_val_onehot))\n",
    "cnn_random_over.fit(X_train_over, y_train_over_onehot, epochs=30, validation_data=(X_val, y_val_onehot))\n",
    "cnn_glove.fit(X_train, y_train_onehot, epochs=30, validation_data=(X_val, y_val_onehot))\n",
    "cnn_glove_over.fit(X_train_over, y_train_over_onehot, epochs=30, validation_data=(X_val, y_val_onehot))\n",
    "cnn_word2vec.fit(X_train, y_train_onehot, epochs=30, validation_data=(X_val, y_val_onehot))\n",
    "cnn_word2vec_over.fit(X_train_over, y_train_over_onehot, epochs=30, validation_data=(X_val, y_val_onehot))"
   ],
   "metadata": {
    "pycharm": {
     "name": "#%%\n"
    },
    "id": "95ONmz__msev",
    "colab": {
     "base_uri": "https://localhost:8080/"
    },
    "executionInfo": {
     "status": "ok",
     "timestamp": 1643269403081,
     "user_tz": -60,
     "elapsed": 32314059,
     "user": {
      "displayName": "Benjamin Lee",
      "photoUrl": "https://lh3.googleusercontent.com/a-/AOh14GiH530quYi9k5DQRCxWoJT7cVVCjzMOGgFrkXEr=s64",
      "userId": "05206156339145726048"
     }
    },
    "outputId": "d2ac23ad-c4e7-4702-80ff-f57546712c5f"
   }
  },
  {
   "cell_type": "code",
   "execution_count": null,
   "outputs": [],
   "source": [
    "model_list = [lstm_random,\n",
    "lstm_random_over,\n",
    "lstm_glove,\n",
    "lstm_glove_over,\n",
    "lstm_word2vec,\n",
    "lstm_word2vec_over,\n",
    "blstm_random,\n",
    "blstm_random_over,\n",
    "blstm_glove,\n",
    "blstm_glove_over,\n",
    "blstm_word2vec,\n",
    "blstm_word2vec_over,\n",
    "blstm_att_random,\n",
    "blstm_att_random_over,\n",
    "blstm_att_glove,\n",
    "blstm_att_glove_over,\n",
    "blstm_att_word2vec,\n",
    "blstm_att_word2vec_over,\n",
    "cnn_random,\n",
    "cnn_random_over,\n",
    "cnn_glove,\n",
    "cnn_glove_over,\n",
    "cnn_word2vec,\n",
    "cnn_word2vec_over]"
   ],
   "metadata": {
    "pycharm": {
     "name": "#%%\n"
    },
    "id": "-QZ-y1yZmsev"
   }
  },
  {
   "cell_type": "code",
   "source": [
    "model_name_list = ['lstm_random',\n",
    "'lstm_random_over',\n",
    "'lstm_glove',\n",
    "'lstm_glove_over',\n",
    "'lstm_word2vec',\n",
    "'lstm_word2vec_over',\n",
    "'blstm_random',\n",
    "'blstm_random_over',\n",
    "'blstm_glove',\n",
    "'blstm_glove_over',\n",
    "'blstm_word2vec',\n",
    "'blstm_word2vec_over',\n",
    "'blstm_att_random',\n",
    "'blstm_att_random_over',\n",
    "'blstm_att_glove',\n",
    "'blstm_att_glove_over',\n",
    "'blstm_att_word2vec',\n",
    "'blstm_att_word2vec_over',\n",
    "'cnn_random',\n",
    "'cnn_random_over',\n",
    "'cnn_glove',\n",
    "'cnn_glove_over',\n",
    "'cnn_word2vec',\n",
    "'cnn_word2vec_over']"
   ],
   "metadata": {
    "id": "FB0wJzabsYFD",
    "executionInfo": {
     "status": "ok",
     "timestamp": 1643278873973,
     "user_tz": -60,
     "elapsed": 247,
     "user": {
      "displayName": "Benjamin Lee",
      "photoUrl": "https://lh3.googleusercontent.com/a-/AOh14GiH530quYi9k5DQRCxWoJT7cVVCjzMOGgFrkXEr=s64",
      "userId": "05206156339145726048"
     }
    }
   },
   "execution_count": 24,
   "outputs": []
  },
  {
   "cell_type": "code",
   "source": [
    "# facility to save the fitted model\n",
    "import shutil\n",
    "from google.colab import files\n",
    "\n",
    "for model in model_list:\n",
    "    index = model_list.index(model)\n",
    "    model_name = model_name_list[index]\n",
    "    model.save(model_name)\n",
    "\n",
    "    shutil.make_archive(model_name, 'zip', model_name)\n",
    "    shutil.move(f\"{model_name}.zip\", f\"/content/drive/MyDrive/Uni/Experiment Design/Ass2/Deep Learning/models_wiki/{model_name}.zip\")"
   ],
   "metadata": {
    "id": "pUatc9FVsbri",
    "colab": {
     "base_uri": "https://localhost:8080/"
    },
    "executionInfo": {
     "status": "ok",
     "timestamp": 1643272682151,
     "user_tz": -60,
     "elapsed": 3279072,
     "user": {
      "displayName": "Benjamin Lee",
      "photoUrl": "https://lh3.googleusercontent.com/a-/AOh14GiH530quYi9k5DQRCxWoJT7cVVCjzMOGgFrkXEr=s64",
      "userId": "05206156339145726048"
     }
    },
    "outputId": "6356535c-24b0-4cb5-a5cb-900cdfabef7e"
   },
   "execution_count": null,
   "outputs": [
    {
     "output_type": "stream",
     "name": "stderr",
     "text": [
      "WARNING:absl:Found untraced functions such as lstm_cell_layer_call_fn, lstm_cell_layer_call_and_return_conditional_losses, lstm_cell_layer_call_fn, lstm_cell_layer_call_and_return_conditional_losses, lstm_cell_layer_call_and_return_conditional_losses while saving (showing 5 of 5). These functions will not be directly callable after loading.\n"
     ]
    },
    {
     "output_type": "stream",
     "name": "stdout",
     "text": [
      "INFO:tensorflow:Assets written to: lstm_random/assets\n"
     ]
    },
    {
     "output_type": "stream",
     "name": "stderr",
     "text": [
      "INFO:tensorflow:Assets written to: lstm_random/assets\n",
      "WARNING:absl:<keras.layers.recurrent.LSTMCell object at 0x7f67504b6650> has the same name 'LSTMCell' as a built-in Keras object. Consider renaming <class 'keras.layers.recurrent.LSTMCell'> to avoid naming conflicts when loading with `tf.keras.models.load_model`. If renaming is not possible, pass the object in the `custom_objects` parameter of the load function.\n",
      "WARNING:absl:Found untraced functions such as lstm_cell_1_layer_call_fn, lstm_cell_1_layer_call_and_return_conditional_losses, lstm_cell_1_layer_call_fn, lstm_cell_1_layer_call_and_return_conditional_losses, lstm_cell_1_layer_call_and_return_conditional_losses while saving (showing 5 of 5). These functions will not be directly callable after loading.\n"
     ]
    },
    {
     "output_type": "stream",
     "name": "stdout",
     "text": [
      "INFO:tensorflow:Assets written to: lstm_random_over/assets\n"
     ]
    },
    {
     "output_type": "stream",
     "name": "stderr",
     "text": [
      "INFO:tensorflow:Assets written to: lstm_random_over/assets\n",
      "WARNING:absl:<keras.layers.recurrent.LSTMCell object at 0x7f6750355390> has the same name 'LSTMCell' as a built-in Keras object. Consider renaming <class 'keras.layers.recurrent.LSTMCell'> to avoid naming conflicts when loading with `tf.keras.models.load_model`. If renaming is not possible, pass the object in the `custom_objects` parameter of the load function.\n",
      "WARNING:absl:Found untraced functions such as lstm_cell_2_layer_call_fn, lstm_cell_2_layer_call_and_return_conditional_losses, lstm_cell_2_layer_call_fn, lstm_cell_2_layer_call_and_return_conditional_losses, lstm_cell_2_layer_call_and_return_conditional_losses while saving (showing 5 of 5). These functions will not be directly callable after loading.\n"
     ]
    },
    {
     "output_type": "stream",
     "name": "stdout",
     "text": [
      "INFO:tensorflow:Assets written to: lstm_glove/assets\n"
     ]
    },
    {
     "output_type": "stream",
     "name": "stderr",
     "text": [
      "INFO:tensorflow:Assets written to: lstm_glove/assets\n",
      "WARNING:absl:<keras.layers.recurrent.LSTMCell object at 0x7f67502318d0> has the same name 'LSTMCell' as a built-in Keras object. Consider renaming <class 'keras.layers.recurrent.LSTMCell'> to avoid naming conflicts when loading with `tf.keras.models.load_model`. If renaming is not possible, pass the object in the `custom_objects` parameter of the load function.\n",
      "WARNING:absl:Found untraced functions such as lstm_cell_3_layer_call_fn, lstm_cell_3_layer_call_and_return_conditional_losses, lstm_cell_3_layer_call_fn, lstm_cell_3_layer_call_and_return_conditional_losses, lstm_cell_3_layer_call_and_return_conditional_losses while saving (showing 5 of 5). These functions will not be directly callable after loading.\n"
     ]
    },
    {
     "output_type": "stream",
     "name": "stdout",
     "text": [
      "INFO:tensorflow:Assets written to: lstm_glove_over/assets\n"
     ]
    },
    {
     "output_type": "stream",
     "name": "stderr",
     "text": [
      "INFO:tensorflow:Assets written to: lstm_glove_over/assets\n",
      "WARNING:absl:<keras.layers.recurrent.LSTMCell object at 0x7f6750123550> has the same name 'LSTMCell' as a built-in Keras object. Consider renaming <class 'keras.layers.recurrent.LSTMCell'> to avoid naming conflicts when loading with `tf.keras.models.load_model`. If renaming is not possible, pass the object in the `custom_objects` parameter of the load function.\n",
      "WARNING:absl:Found untraced functions such as lstm_cell_4_layer_call_fn, lstm_cell_4_layer_call_and_return_conditional_losses, lstm_cell_4_layer_call_fn, lstm_cell_4_layer_call_and_return_conditional_losses, lstm_cell_4_layer_call_and_return_conditional_losses while saving (showing 5 of 5). These functions will not be directly callable after loading.\n"
     ]
    },
    {
     "output_type": "stream",
     "name": "stdout",
     "text": [
      "INFO:tensorflow:Assets written to: lstm_word2vec/assets\n"
     ]
    },
    {
     "output_type": "stream",
     "name": "stderr",
     "text": [
      "INFO:tensorflow:Assets written to: lstm_word2vec/assets\n",
      "WARNING:absl:<keras.layers.recurrent.LSTMCell object at 0x7f67500e8090> has the same name 'LSTMCell' as a built-in Keras object. Consider renaming <class 'keras.layers.recurrent.LSTMCell'> to avoid naming conflicts when loading with `tf.keras.models.load_model`. If renaming is not possible, pass the object in the `custom_objects` parameter of the load function.\n",
      "WARNING:absl:Found untraced functions such as lstm_cell_5_layer_call_fn, lstm_cell_5_layer_call_and_return_conditional_losses, lstm_cell_5_layer_call_fn, lstm_cell_5_layer_call_and_return_conditional_losses, lstm_cell_5_layer_call_and_return_conditional_losses while saving (showing 5 of 5). These functions will not be directly callable after loading.\n"
     ]
    },
    {
     "output_type": "stream",
     "name": "stdout",
     "text": [
      "INFO:tensorflow:Assets written to: lstm_word2vec_over/assets\n"
     ]
    },
    {
     "output_type": "stream",
     "name": "stderr",
     "text": [
      "INFO:tensorflow:Assets written to: lstm_word2vec_over/assets\n",
      "WARNING:absl:<keras.layers.recurrent.LSTMCell object at 0x7f675015b790> has the same name 'LSTMCell' as a built-in Keras object. Consider renaming <class 'keras.layers.recurrent.LSTMCell'> to avoid naming conflicts when loading with `tf.keras.models.load_model`. If renaming is not possible, pass the object in the `custom_objects` parameter of the load function.\n",
      "WARNING:absl:Found untraced functions such as lstm_cell_7_layer_call_fn, lstm_cell_7_layer_call_and_return_conditional_losses, lstm_cell_8_layer_call_fn, lstm_cell_8_layer_call_and_return_conditional_losses, lstm_cell_7_layer_call_fn while saving (showing 5 of 10). These functions will not be directly callable after loading.\n"
     ]
    },
    {
     "output_type": "stream",
     "name": "stdout",
     "text": [
      "INFO:tensorflow:Assets written to: blstm_random/assets\n"
     ]
    },
    {
     "output_type": "stream",
     "name": "stderr",
     "text": [
      "INFO:tensorflow:Assets written to: blstm_random/assets\n",
      "WARNING:absl:<keras.layers.recurrent.LSTMCell object at 0x7f66da398c10> has the same name 'LSTMCell' as a built-in Keras object. Consider renaming <class 'keras.layers.recurrent.LSTMCell'> to avoid naming conflicts when loading with `tf.keras.models.load_model`. If renaming is not possible, pass the object in the `custom_objects` parameter of the load function.\n",
      "WARNING:absl:<keras.layers.recurrent.LSTMCell object at 0x7f67501d2dd0> has the same name 'LSTMCell' as a built-in Keras object. Consider renaming <class 'keras.layers.recurrent.LSTMCell'> to avoid naming conflicts when loading with `tf.keras.models.load_model`. If renaming is not possible, pass the object in the `custom_objects` parameter of the load function.\n",
      "WARNING:absl:Found untraced functions such as lstm_cell_10_layer_call_fn, lstm_cell_10_layer_call_and_return_conditional_losses, lstm_cell_11_layer_call_fn, lstm_cell_11_layer_call_and_return_conditional_losses, lstm_cell_10_layer_call_fn while saving (showing 5 of 10). These functions will not be directly callable after loading.\n"
     ]
    },
    {
     "output_type": "stream",
     "name": "stdout",
     "text": [
      "INFO:tensorflow:Assets written to: blstm_random_over/assets\n"
     ]
    },
    {
     "output_type": "stream",
     "name": "stderr",
     "text": [
      "INFO:tensorflow:Assets written to: blstm_random_over/assets\n",
      "WARNING:absl:<keras.layers.recurrent.LSTMCell object at 0x7f66da201310> has the same name 'LSTMCell' as a built-in Keras object. Consider renaming <class 'keras.layers.recurrent.LSTMCell'> to avoid naming conflicts when loading with `tf.keras.models.load_model`. If renaming is not possible, pass the object in the `custom_objects` parameter of the load function.\n",
      "WARNING:absl:<keras.layers.recurrent.LSTMCell object at 0x7f66da2014d0> has the same name 'LSTMCell' as a built-in Keras object. Consider renaming <class 'keras.layers.recurrent.LSTMCell'> to avoid naming conflicts when loading with `tf.keras.models.load_model`. If renaming is not possible, pass the object in the `custom_objects` parameter of the load function.\n",
      "WARNING:absl:Found untraced functions such as lstm_cell_13_layer_call_fn, lstm_cell_13_layer_call_and_return_conditional_losses, lstm_cell_14_layer_call_fn, lstm_cell_14_layer_call_and_return_conditional_losses, lstm_cell_13_layer_call_fn while saving (showing 5 of 10). These functions will not be directly callable after loading.\n"
     ]
    },
    {
     "output_type": "stream",
     "name": "stdout",
     "text": [
      "INFO:tensorflow:Assets written to: blstm_glove/assets\n"
     ]
    },
    {
     "output_type": "stream",
     "name": "stderr",
     "text": [
      "INFO:tensorflow:Assets written to: blstm_glove/assets\n",
      "WARNING:absl:<keras.layers.recurrent.LSTMCell object at 0x7f66c3fd1ad0> has the same name 'LSTMCell' as a built-in Keras object. Consider renaming <class 'keras.layers.recurrent.LSTMCell'> to avoid naming conflicts when loading with `tf.keras.models.load_model`. If renaming is not possible, pass the object in the `custom_objects` parameter of the load function.\n",
      "WARNING:absl:<keras.layers.recurrent.LSTMCell object at 0x7f66c3fdb650> has the same name 'LSTMCell' as a built-in Keras object. Consider renaming <class 'keras.layers.recurrent.LSTMCell'> to avoid naming conflicts when loading with `tf.keras.models.load_model`. If renaming is not possible, pass the object in the `custom_objects` parameter of the load function.\n",
      "WARNING:absl:Found untraced functions such as lstm_cell_16_layer_call_fn, lstm_cell_16_layer_call_and_return_conditional_losses, lstm_cell_17_layer_call_fn, lstm_cell_17_layer_call_and_return_conditional_losses, lstm_cell_16_layer_call_fn while saving (showing 5 of 10). These functions will not be directly callable after loading.\n"
     ]
    },
    {
     "output_type": "stream",
     "name": "stdout",
     "text": [
      "INFO:tensorflow:Assets written to: blstm_glove_over/assets\n"
     ]
    },
    {
     "output_type": "stream",
     "name": "stderr",
     "text": [
      "INFO:tensorflow:Assets written to: blstm_glove_over/assets\n",
      "WARNING:absl:<keras.layers.recurrent.LSTMCell object at 0x7f66c3e29910> has the same name 'LSTMCell' as a built-in Keras object. Consider renaming <class 'keras.layers.recurrent.LSTMCell'> to avoid naming conflicts when loading with `tf.keras.models.load_model`. If renaming is not possible, pass the object in the `custom_objects` parameter of the load function.\n",
      "WARNING:absl:<keras.layers.recurrent.LSTMCell object at 0x7f66c3e27450> has the same name 'LSTMCell' as a built-in Keras object. Consider renaming <class 'keras.layers.recurrent.LSTMCell'> to avoid naming conflicts when loading with `tf.keras.models.load_model`. If renaming is not possible, pass the object in the `custom_objects` parameter of the load function.\n",
      "WARNING:absl:Found untraced functions such as lstm_cell_19_layer_call_fn, lstm_cell_19_layer_call_and_return_conditional_losses, lstm_cell_20_layer_call_fn, lstm_cell_20_layer_call_and_return_conditional_losses, lstm_cell_19_layer_call_fn while saving (showing 5 of 10). These functions will not be directly callable after loading.\n"
     ]
    },
    {
     "output_type": "stream",
     "name": "stdout",
     "text": [
      "INFO:tensorflow:Assets written to: blstm_word2vec/assets\n"
     ]
    },
    {
     "output_type": "stream",
     "name": "stderr",
     "text": [
      "INFO:tensorflow:Assets written to: blstm_word2vec/assets\n",
      "WARNING:absl:<keras.layers.recurrent.LSTMCell object at 0x7f66c3c01450> has the same name 'LSTMCell' as a built-in Keras object. Consider renaming <class 'keras.layers.recurrent.LSTMCell'> to avoid naming conflicts when loading with `tf.keras.models.load_model`. If renaming is not possible, pass the object in the `custom_objects` parameter of the load function.\n",
      "WARNING:absl:<keras.layers.recurrent.LSTMCell object at 0x7f66c3c0b050> has the same name 'LSTMCell' as a built-in Keras object. Consider renaming <class 'keras.layers.recurrent.LSTMCell'> to avoid naming conflicts when loading with `tf.keras.models.load_model`. If renaming is not possible, pass the object in the `custom_objects` parameter of the load function.\n",
      "WARNING:absl:Found untraced functions such as lstm_cell_22_layer_call_fn, lstm_cell_22_layer_call_and_return_conditional_losses, lstm_cell_23_layer_call_fn, lstm_cell_23_layer_call_and_return_conditional_losses, lstm_cell_22_layer_call_fn while saving (showing 5 of 10). These functions will not be directly callable after loading.\n"
     ]
    },
    {
     "output_type": "stream",
     "name": "stdout",
     "text": [
      "INFO:tensorflow:Assets written to: blstm_word2vec_over/assets\n"
     ]
    },
    {
     "output_type": "stream",
     "name": "stderr",
     "text": [
      "INFO:tensorflow:Assets written to: blstm_word2vec_over/assets\n",
      "WARNING:absl:<keras.layers.recurrent.LSTMCell object at 0x7f66c3a54110> has the same name 'LSTMCell' as a built-in Keras object. Consider renaming <class 'keras.layers.recurrent.LSTMCell'> to avoid naming conflicts when loading with `tf.keras.models.load_model`. If renaming is not possible, pass the object in the `custom_objects` parameter of the load function.\n",
      "WARNING:absl:<keras.layers.recurrent.LSTMCell object at 0x7f66c3a4e910> has the same name 'LSTMCell' as a built-in Keras object. Consider renaming <class 'keras.layers.recurrent.LSTMCell'> to avoid naming conflicts when loading with `tf.keras.models.load_model`. If renaming is not possible, pass the object in the `custom_objects` parameter of the load function.\n",
      "WARNING:absl:Found untraced functions such as lstm_cell_25_layer_call_fn, lstm_cell_25_layer_call_and_return_conditional_losses, lstm_cell_26_layer_call_fn, lstm_cell_26_layer_call_and_return_conditional_losses, lstm_cell_25_layer_call_fn while saving (showing 5 of 10). These functions will not be directly callable after loading.\n"
     ]
    },
    {
     "output_type": "stream",
     "name": "stdout",
     "text": [
      "INFO:tensorflow:Assets written to: blstm_att_random/assets\n"
     ]
    },
    {
     "output_type": "stream",
     "name": "stderr",
     "text": [
      "INFO:tensorflow:Assets written to: blstm_att_random/assets\n",
      "WARNING:absl:<keras.layers.recurrent.LSTMCell object at 0x7f66c38b5290> has the same name 'LSTMCell' as a built-in Keras object. Consider renaming <class 'keras.layers.recurrent.LSTMCell'> to avoid naming conflicts when loading with `tf.keras.models.load_model`. If renaming is not possible, pass the object in the `custom_objects` parameter of the load function.\n",
      "WARNING:absl:<keras.layers.recurrent.LSTMCell object at 0x7f66c38b3790> has the same name 'LSTMCell' as a built-in Keras object. Consider renaming <class 'keras.layers.recurrent.LSTMCell'> to avoid naming conflicts when loading with `tf.keras.models.load_model`. If renaming is not possible, pass the object in the `custom_objects` parameter of the load function.\n",
      "WARNING:absl:Found untraced functions such as lstm_cell_28_layer_call_fn, lstm_cell_28_layer_call_and_return_conditional_losses, lstm_cell_29_layer_call_fn, lstm_cell_29_layer_call_and_return_conditional_losses, lstm_cell_28_layer_call_fn while saving (showing 5 of 10). These functions will not be directly callable after loading.\n"
     ]
    },
    {
     "output_type": "stream",
     "name": "stdout",
     "text": [
      "INFO:tensorflow:Assets written to: blstm_att_random_over/assets\n"
     ]
    },
    {
     "output_type": "stream",
     "name": "stderr",
     "text": [
      "INFO:tensorflow:Assets written to: blstm_att_random_over/assets\n",
      "WARNING:absl:<keras.layers.recurrent.LSTMCell object at 0x7f66c3614f50> has the same name 'LSTMCell' as a built-in Keras object. Consider renaming <class 'keras.layers.recurrent.LSTMCell'> to avoid naming conflicts when loading with `tf.keras.models.load_model`. If renaming is not possible, pass the object in the `custom_objects` parameter of the load function.\n",
      "WARNING:absl:<keras.layers.recurrent.LSTMCell object at 0x7f66c3643e50> has the same name 'LSTMCell' as a built-in Keras object. Consider renaming <class 'keras.layers.recurrent.LSTMCell'> to avoid naming conflicts when loading with `tf.keras.models.load_model`. If renaming is not possible, pass the object in the `custom_objects` parameter of the load function.\n",
      "WARNING:absl:Found untraced functions such as lstm_cell_31_layer_call_fn, lstm_cell_31_layer_call_and_return_conditional_losses, lstm_cell_32_layer_call_fn, lstm_cell_32_layer_call_and_return_conditional_losses, lstm_cell_31_layer_call_fn while saving (showing 5 of 10). These functions will not be directly callable after loading.\n"
     ]
    },
    {
     "output_type": "stream",
     "name": "stdout",
     "text": [
      "INFO:tensorflow:Assets written to: blstm_att_glove/assets\n"
     ]
    },
    {
     "output_type": "stream",
     "name": "stderr",
     "text": [
      "INFO:tensorflow:Assets written to: blstm_att_glove/assets\n",
      "WARNING:absl:<keras.layers.recurrent.LSTMCell object at 0x7f66c34a9b10> has the same name 'LSTMCell' as a built-in Keras object. Consider renaming <class 'keras.layers.recurrent.LSTMCell'> to avoid naming conflicts when loading with `tf.keras.models.load_model`. If renaming is not possible, pass the object in the `custom_objects` parameter of the load function.\n",
      "WARNING:absl:<keras.layers.recurrent.LSTMCell object at 0x7f66c34b2450> has the same name 'LSTMCell' as a built-in Keras object. Consider renaming <class 'keras.layers.recurrent.LSTMCell'> to avoid naming conflicts when loading with `tf.keras.models.load_model`. If renaming is not possible, pass the object in the `custom_objects` parameter of the load function.\n",
      "WARNING:absl:Found untraced functions such as lstm_cell_34_layer_call_fn, lstm_cell_34_layer_call_and_return_conditional_losses, lstm_cell_35_layer_call_fn, lstm_cell_35_layer_call_and_return_conditional_losses, lstm_cell_34_layer_call_fn while saving (showing 5 of 10). These functions will not be directly callable after loading.\n"
     ]
    },
    {
     "output_type": "stream",
     "name": "stdout",
     "text": [
      "INFO:tensorflow:Assets written to: blstm_att_glove_over/assets\n"
     ]
    },
    {
     "output_type": "stream",
     "name": "stderr",
     "text": [
      "INFO:tensorflow:Assets written to: blstm_att_glove_over/assets\n",
      "WARNING:absl:<keras.layers.recurrent.LSTMCell object at 0x7f66c32e3c90> has the same name 'LSTMCell' as a built-in Keras object. Consider renaming <class 'keras.layers.recurrent.LSTMCell'> to avoid naming conflicts when loading with `tf.keras.models.load_model`. If renaming is not possible, pass the object in the `custom_objects` parameter of the load function.\n",
      "WARNING:absl:<keras.layers.recurrent.LSTMCell object at 0x7f66c32f7210> has the same name 'LSTMCell' as a built-in Keras object. Consider renaming <class 'keras.layers.recurrent.LSTMCell'> to avoid naming conflicts when loading with `tf.keras.models.load_model`. If renaming is not possible, pass the object in the `custom_objects` parameter of the load function.\n",
      "WARNING:absl:Found untraced functions such as lstm_cell_37_layer_call_fn, lstm_cell_37_layer_call_and_return_conditional_losses, lstm_cell_38_layer_call_fn, lstm_cell_38_layer_call_and_return_conditional_losses, lstm_cell_37_layer_call_fn while saving (showing 5 of 10). These functions will not be directly callable after loading.\n"
     ]
    },
    {
     "output_type": "stream",
     "name": "stdout",
     "text": [
      "INFO:tensorflow:Assets written to: blstm_att_word2vec/assets\n"
     ]
    },
    {
     "output_type": "stream",
     "name": "stderr",
     "text": [
      "INFO:tensorflow:Assets written to: blstm_att_word2vec/assets\n",
      "WARNING:absl:<keras.layers.recurrent.LSTMCell object at 0x7f66c30c0a90> has the same name 'LSTMCell' as a built-in Keras object. Consider renaming <class 'keras.layers.recurrent.LSTMCell'> to avoid naming conflicts when loading with `tf.keras.models.load_model`. If renaming is not possible, pass the object in the `custom_objects` parameter of the load function.\n",
      "WARNING:absl:<keras.layers.recurrent.LSTMCell object at 0x7f66c30d23d0> has the same name 'LSTMCell' as a built-in Keras object. Consider renaming <class 'keras.layers.recurrent.LSTMCell'> to avoid naming conflicts when loading with `tf.keras.models.load_model`. If renaming is not possible, pass the object in the `custom_objects` parameter of the load function.\n",
      "WARNING:absl:Found untraced functions such as lstm_cell_40_layer_call_fn, lstm_cell_40_layer_call_and_return_conditional_losses, lstm_cell_41_layer_call_fn, lstm_cell_41_layer_call_and_return_conditional_losses, lstm_cell_40_layer_call_fn while saving (showing 5 of 10). These functions will not be directly callable after loading.\n"
     ]
    },
    {
     "output_type": "stream",
     "name": "stdout",
     "text": [
      "INFO:tensorflow:Assets written to: blstm_att_word2vec_over/assets\n"
     ]
    },
    {
     "output_type": "stream",
     "name": "stderr",
     "text": [
      "INFO:tensorflow:Assets written to: blstm_att_word2vec_over/assets\n",
      "WARNING:absl:<keras.layers.recurrent.LSTMCell object at 0x7f66c2f1fa50> has the same name 'LSTMCell' as a built-in Keras object. Consider renaming <class 'keras.layers.recurrent.LSTMCell'> to avoid naming conflicts when loading with `tf.keras.models.load_model`. If renaming is not possible, pass the object in the `custom_objects` parameter of the load function.\n",
      "WARNING:absl:<keras.layers.recurrent.LSTMCell object at 0x7f66c2f15450> has the same name 'LSTMCell' as a built-in Keras object. Consider renaming <class 'keras.layers.recurrent.LSTMCell'> to avoid naming conflicts when loading with `tf.keras.models.load_model`. If renaming is not possible, pass the object in the `custom_objects` parameter of the load function.\n"
     ]
    },
    {
     "output_type": "stream",
     "name": "stdout",
     "text": [
      "INFO:tensorflow:Assets written to: cnn_random/assets\n"
     ]
    },
    {
     "output_type": "stream",
     "name": "stderr",
     "text": [
      "INFO:tensorflow:Assets written to: cnn_random/assets\n"
     ]
    },
    {
     "output_type": "stream",
     "name": "stdout",
     "text": [
      "INFO:tensorflow:Assets written to: cnn_random_over/assets\n"
     ]
    },
    {
     "output_type": "stream",
     "name": "stderr",
     "text": [
      "INFO:tensorflow:Assets written to: cnn_random_over/assets\n"
     ]
    },
    {
     "output_type": "stream",
     "name": "stdout",
     "text": [
      "INFO:tensorflow:Assets written to: cnn_glove/assets\n"
     ]
    },
    {
     "output_type": "stream",
     "name": "stderr",
     "text": [
      "INFO:tensorflow:Assets written to: cnn_glove/assets\n"
     ]
    },
    {
     "output_type": "stream",
     "name": "stdout",
     "text": [
      "INFO:tensorflow:Assets written to: cnn_glove_over/assets\n"
     ]
    },
    {
     "output_type": "stream",
     "name": "stderr",
     "text": [
      "INFO:tensorflow:Assets written to: cnn_glove_over/assets\n"
     ]
    },
    {
     "output_type": "stream",
     "name": "stdout",
     "text": [
      "INFO:tensorflow:Assets written to: cnn_word2vec/assets\n"
     ]
    },
    {
     "output_type": "stream",
     "name": "stderr",
     "text": [
      "INFO:tensorflow:Assets written to: cnn_word2vec/assets\n"
     ]
    },
    {
     "output_type": "stream",
     "name": "stdout",
     "text": [
      "INFO:tensorflow:Assets written to: cnn_word2vec_over/assets\n"
     ]
    },
    {
     "output_type": "stream",
     "name": "stderr",
     "text": [
      "INFO:tensorflow:Assets written to: cnn_word2vec_over/assets\n"
     ]
    }
   ]
  },
  {
   "cell_type": "markdown",
   "source": [
    "### Machine Learning Shenanigans"
   ],
   "metadata": {
    "id": "3KJ8FjnU4oYw"
   }
  },
  {
   "cell_type": "code",
   "source": [
    "# do auto-ml!\n",
    "import autosklearn.classification\n",
    "import autosklearn.metrics\n",
    "\n",
    "def auto_ml(train_x, train_y, time_limit=20*60): \n",
    "  automl = autosklearn.classification.AutoSklearnClassifier(\n",
    "      time_left_for_this_task = time_limit,\n",
    "      per_run_time_limit = time_limit//4,\n",
    "      memory_limit = 6000,\n",
    "      metric=autosklearn.metrics.f1_macro,\n",
    "      exclude = {'classifier':[\"mlp\"]},\n",
    "      ensemble_size = 1,\n",
    "      n_jobs = -1      \n",
    "  )\n",
    "  automl.fit(train_x, train_y)\n",
    "  return automl"
   ],
   "metadata": {
    "id": "MlnMKHyxQveH",
    "executionInfo": {
     "status": "ok",
     "timestamp": 1643281502894,
     "user_tz": -60,
     "elapsed": 315,
     "user": {
      "displayName": "Benjamin Lee",
      "photoUrl": "https://lh3.googleusercontent.com/a-/AOh14GiH530quYi9k5DQRCxWoJT7cVVCjzMOGgFrkXEr=s64",
      "userId": "05206156339145726048"
     }
    }
   },
   "execution_count": 21,
   "outputs": []
  },
  {
   "cell_type": "code",
   "source": [
    "automl_model = auto_ml(X_train, y_train)"
   ],
   "metadata": {
    "id": "Gbj2FTSN4wcA",
    "executionInfo": {
     "status": "ok",
     "timestamp": 1643282716807,
     "user_tz": -60,
     "elapsed": 1212078,
     "user": {
      "displayName": "Benjamin Lee",
      "photoUrl": "https://lh3.googleusercontent.com/a-/AOh14GiH530quYi9k5DQRCxWoJT7cVVCjzMOGgFrkXEr=s64",
      "userId": "05206156339145726048"
     }
    }
   },
   "execution_count": 22,
   "outputs": []
  },
  {
   "cell_type": "code",
   "source": [
    "model_list.append(automl_model)\n",
    "model_name_list.append('automl')"
   ],
   "metadata": {
    "id": "BeH-BJlz6O9r",
    "executionInfo": {
     "status": "ok",
     "timestamp": 1643282716808,
     "user_tz": -60,
     "elapsed": 43,
     "user": {
      "displayName": "Benjamin Lee",
      "photoUrl": "https://lh3.googleusercontent.com/a-/AOh14GiH530quYi9k5DQRCxWoJT7cVVCjzMOGgFrkXEr=s64",
      "userId": "05206156339145726048"
     }
    }
   },
   "execution_count": 23,
   "outputs": []
  },
  {
   "cell_type": "code",
   "source": [
    "model_list"
   ],
   "metadata": {
    "colab": {
     "base_uri": "https://localhost:8080/"
    },
    "id": "-ATCHgo5G8Ls",
    "executionInfo": {
     "status": "ok",
     "timestamp": 1643282716809,
     "user_tz": -60,
     "elapsed": 36,
     "user": {
      "displayName": "Benjamin Lee",
      "photoUrl": "https://lh3.googleusercontent.com/a-/AOh14GiH530quYi9k5DQRCxWoJT7cVVCjzMOGgFrkXEr=s64",
      "userId": "05206156339145726048"
     }
    },
    "outputId": "79c0b827-a989-4361-f518-311dbb8484ce"
   },
   "execution_count": 24,
   "outputs": [
    {
     "output_type": "execute_result",
     "data": {
      "text/plain": [
       "[<keras.engine.sequential.Sequential at 0x7f4594cfed10>,\n",
       " <keras.engine.sequential.Sequential at 0x7f45801cfa10>,\n",
       " <keras.engine.sequential.Sequential at 0x7f45949c6190>,\n",
       " <keras.engine.sequential.Sequential at 0x7f4610a3e250>,\n",
       " <keras.engine.sequential.Sequential at 0x7f45949d6f90>,\n",
       " <keras.engine.sequential.Sequential at 0x7f45949d6fd0>,\n",
       " <keras.engine.sequential.Sequential at 0x7f4583c43850>,\n",
       " <keras.engine.sequential.Sequential at 0x7f4583c43d10>,\n",
       " <keras.engine.sequential.Sequential at 0x7f4583c433d0>,\n",
       " <keras.engine.sequential.Sequential at 0x7f4583c395d0>,\n",
       " <keras.engine.sequential.Sequential at 0x7f4583c39a90>,\n",
       " <keras.engine.sequential.Sequential at 0x7f4583c39f90>,\n",
       " <keras.engine.sequential.Sequential at 0x7f4583c39fd0>,\n",
       " <keras.engine.sequential.Sequential at 0x7f4583c51a10>,\n",
       " <keras.engine.sequential.Sequential at 0x7f4583c51f50>,\n",
       " <keras.engine.sequential.Sequential at 0x7f4583c51f90>,\n",
       " <keras.engine.sequential.Sequential at 0x7f4583c56a10>,\n",
       " <keras.engine.sequential.Sequential at 0x7f4583c56f90>,\n",
       " <keras.engine.sequential.Sequential at 0x7f4583c56f10>,\n",
       " <keras.engine.sequential.Sequential at 0x7f4583c5d990>,\n",
       " <keras.engine.sequential.Sequential at 0x7f4583c5df10>,\n",
       " <keras.engine.sequential.Sequential at 0x7f4583c5df50>,\n",
       " <keras.engine.sequential.Sequential at 0x7f4583c659d0>,\n",
       " <keras.engine.sequential.Sequential at 0x7f4583c65f10>,\n",
       " AutoSklearnClassifier(ensemble_size=1, exclude={'classifier': ['mlp']},\n",
       "                       memory_limit=6000, metric=f1_macro, n_jobs=-1,\n",
       "                       per_run_time_limit=300, time_left_for_this_task=1200)]"
      ]
     },
     "metadata": {},
     "execution_count": 24
    }
   ]
  },
  {
   "cell_type": "code",
   "source": [
    "model_name_list"
   ],
   "metadata": {
    "colab": {
     "base_uri": "https://localhost:8080/"
    },
    "id": "Lum2axbgG9la",
    "executionInfo": {
     "status": "ok",
     "timestamp": 1643282716809,
     "user_tz": -60,
     "elapsed": 22,
     "user": {
      "displayName": "Benjamin Lee",
      "photoUrl": "https://lh3.googleusercontent.com/a-/AOh14GiH530quYi9k5DQRCxWoJT7cVVCjzMOGgFrkXEr=s64",
      "userId": "05206156339145726048"
     }
    },
    "outputId": "792d349f-8418-4167-dda8-590c609c7671"
   },
   "execution_count": 25,
   "outputs": [
    {
     "output_type": "execute_result",
     "data": {
      "text/plain": [
       "['lstm_random',\n",
       " 'lstm_random_over',\n",
       " 'lstm_glove',\n",
       " 'lstm_glove_over',\n",
       " 'lstm_word2vec',\n",
       " 'lstm_word2vec_over',\n",
       " 'blstm_random',\n",
       " 'blstm_random_over',\n",
       " 'blstm_glove',\n",
       " 'blstm_glove_over',\n",
       " 'blstm_word2vec',\n",
       " 'blstm_word2vec_over',\n",
       " 'blstm_att_random',\n",
       " 'blstm_att_random_over',\n",
       " 'blstm_att_glove',\n",
       " 'blstm_att_glove_over',\n",
       " 'blstm_att_word2vec',\n",
       " 'blstm_att_word2vec_over',\n",
       " 'cnn_random',\n",
       " 'cnn_random_over',\n",
       " 'cnn_glove',\n",
       " 'cnn_glove_over',\n",
       " 'cnn_word2vec',\n",
       " 'cnn_word2vec_over',\n",
       " 'automl']"
      ]
     },
     "metadata": {},
     "execution_count": 25
    }
   ]
  },
  {
   "cell_type": "markdown",
   "source": [
    "### Evaluation"
   ],
   "metadata": {
    "id": "ABq744t3EiEk"
   }
  },
  {
   "cell_type": "code",
   "source": [
    "predictions = []\n",
    "\n",
    "for model in model_list:\n",
    "    index = model_list.index(model)\n",
    "    print(model_name_list[index])\n",
    "    model_prediction = indiv_eval(model, X_test, y_test)\n",
    "    predictions.append(model_prediction)"
   ],
   "metadata": {
    "colab": {
     "base_uri": "https://localhost:8080/",
     "height": 1000
    },
    "id": "rT7DN41yniKc",
    "outputId": "3892a91a-ea54-4e57-84ab-36eb6d689cf4",
    "executionInfo": {
     "status": "ok",
     "timestamp": 1643272725012,
     "user_tz": -60,
     "elapsed": 42863,
     "user": {
      "displayName": "Benjamin Lee",
      "photoUrl": "https://lh3.googleusercontent.com/a-/AOh14GiH530quYi9k5DQRCxWoJT7cVVCjzMOGgFrkXEr=s64",
      "userId": "05206156339145726048"
     }
    }
   },
   "execution_count": null,
   "outputs": [
    {
     "output_type": "stream",
     "name": "stdout",
     "text": [
      "lstm_random\n",
      "              precision    recall  f1-score   support\n",
      "\n",
      "           0       0.88      0.96      0.92     10241\n",
      "           1       0.13      0.04      0.06      1343\n",
      "\n",
      "    accuracy                           0.86     11584\n",
      "   macro avg       0.51      0.50      0.49     11584\n",
      "weighted avg       0.80      0.86      0.82     11584\n",
      "\n"
     ]
    },
    {
     "output_type": "display_data",
     "data": {
      "image/png": "[encoded data removed]",
      "text/plain": [
       "<Figure size 432x288 with 2 Axes>"
      ]
     },
     "metadata": {
      "needs_background": "light"
     }
    },
    {
     "output_type": "stream",
     "name": "stdout",
     "text": [
      "lstm_random_over\n",
      "              precision    recall  f1-score   support\n",
      "\n",
      "           0       0.92      0.85      0.89     10241\n",
      "           1       0.29      0.45      0.35      1343\n",
      "\n",
      "    accuracy                           0.81     11584\n",
      "   macro avg       0.61      0.65      0.62     11584\n",
      "weighted avg       0.85      0.81      0.82     11584\n",
      "\n"
     ]
    },
    {
     "output_type": "display_data",
     "data": {
      "image/png": "[encoded data removed]",
      "text/plain": [
       "<Figure size 432x288 with 2 Axes>"
      ]
     },
     "metadata": {
      "needs_background": "light"
     }
    },
    {
     "output_type": "stream",
     "name": "stdout",
     "text": [
      "lstm_glove\n",
      "              precision    recall  f1-score   support\n",
      "\n",
      "           0       0.96      0.96      0.96     10241\n",
      "           1       0.72      0.73      0.73      1343\n",
      "\n",
      "    accuracy                           0.94     11584\n",
      "   macro avg       0.84      0.85      0.85     11584\n",
      "weighted avg       0.94      0.94      0.94     11584\n",
      "\n"
     ]
    },
    {
     "output_type": "display_data",
     "data": {
      "image/png": "[encoded data removed]",
      "text/plain": [
       "<Figure size 432x288 with 2 Axes>"
      ]
     },
     "metadata": {
      "needs_background": "light"
     }
    },
    {
     "output_type": "stream",
     "name": "stdout",
     "text": [
      "lstm_glove_over\n",
      "              precision    recall  f1-score   support\n",
      "\n",
      "           0       0.97      0.94      0.96     10241\n",
      "           1       0.63      0.79      0.70      1343\n",
      "\n",
      "    accuracy                           0.92     11584\n",
      "   macro avg       0.80      0.87      0.83     11584\n",
      "weighted avg       0.93      0.92      0.93     11584\n",
      "\n"
     ]
    },
    {
     "output_type": "display_data",
     "data": {
      "image/png": "[encoded data removed]",
      "text/plain": [
       "<Figure size 432x288 with 2 Axes>"
      ]
     },
     "metadata": {
      "needs_background": "light"
     }
    },
    {
     "output_type": "stream",
     "name": "stdout",
     "text": [
      "lstm_word2vec\n",
      "              precision    recall  f1-score   support\n",
      "\n",
      "           0       0.96      0.97      0.96     10241\n",
      "           1       0.76      0.68      0.72      1343\n",
      "\n",
      "    accuracy                           0.94     11584\n",
      "   macro avg       0.86      0.83      0.84     11584\n",
      "weighted avg       0.94      0.94      0.94     11584\n",
      "\n"
     ]
    },
    {
     "output_type": "display_data",
     "data": {
      "image/png": "[encoded data removed]",
      "text/plain": [
       "<Figure size 432x288 with 2 Axes>"
      ]
     },
     "metadata": {
      "needs_background": "light"
     }
    },
    {
     "output_type": "stream",
     "name": "stdout",
     "text": [
      "lstm_word2vec_over\n",
      "              precision    recall  f1-score   support\n",
      "\n",
      "           0       0.97      0.96      0.96     10241\n",
      "           1       0.72      0.75      0.73      1343\n",
      "\n",
      "    accuracy                           0.94     11584\n",
      "   macro avg       0.84      0.85      0.85     11584\n",
      "weighted avg       0.94      0.94      0.94     11584\n",
      "\n"
     ]
    },
    {
     "output_type": "display_data",
     "data": {
      "image/png": "[encoded data removed]",
      "text/plain": [
       "<Figure size 432x288 with 2 Axes>"
      ]
     },
     "metadata": {
      "needs_background": "light"
     }
    },
    {
     "output_type": "stream",
     "name": "stdout",
     "text": [
      "blstm_random\n",
      "              precision    recall  f1-score   support\n",
      "\n",
      "           0       0.97      0.54      0.70     10241\n",
      "           1       0.20      0.88      0.33      1343\n",
      "\n",
      "    accuracy                           0.58     11584\n",
      "   macro avg       0.59      0.71      0.51     11584\n",
      "weighted avg       0.88      0.58      0.65     11584\n",
      "\n"
     ]
    },
    {
     "output_type": "display_data",
     "data": {
      "image/png": "[encoded data removed]",
      "text/plain": [
       "<Figure size 432x288 with 2 Axes>"
      ]
     },
     "metadata": {
      "needs_background": "light"
     }
    },
    {
     "output_type": "stream",
     "name": "stdout",
     "text": [
      "blstm_random_over\n",
      "              precision    recall  f1-score   support\n",
      "\n",
      "           0       0.93      0.95      0.94     10241\n",
      "           1       0.55      0.46      0.50      1343\n",
      "\n",
      "    accuracy                           0.89     11584\n",
      "   macro avg       0.74      0.71      0.72     11584\n",
      "weighted avg       0.89      0.89      0.89     11584\n",
      "\n"
     ]
    },
    {
     "output_type": "display_data",
     "data": {
      "image/png": "[encoded data removed]",
      "text/plain": [
       "<Figure size 432x288 with 2 Axes>"
      ]
     },
     "metadata": {
      "needs_background": "light"
     }
    },
    {
     "output_type": "stream",
     "name": "stdout",
     "text": [
      "blstm_glove\n",
      "              precision    recall  f1-score   support\n",
      "\n",
      "           0       0.97      0.96      0.96     10241\n",
      "           1       0.73      0.74      0.73      1343\n",
      "\n",
      "    accuracy                           0.94     11584\n",
      "   macro avg       0.85      0.85      0.85     11584\n",
      "weighted avg       0.94      0.94      0.94     11584\n",
      "\n"
     ]
    },
    {
     "output_type": "display_data",
     "data": {
      "image/png": "[encoded data removed]",
      "text/plain": [
       "<Figure size 432x288 with 2 Axes>"
      ]
     },
     "metadata": {
      "needs_background": "light"
     }
    },
    {
     "output_type": "stream",
     "name": "stdout",
     "text": [
      "blstm_glove_over\n",
      "              precision    recall  f1-score   support\n",
      "\n",
      "           0       0.97      0.94      0.96     10241\n",
      "           1       0.63      0.79      0.70      1343\n",
      "\n",
      "    accuracy                           0.92     11584\n",
      "   macro avg       0.80      0.87      0.83     11584\n",
      "weighted avg       0.93      0.92      0.93     11584\n",
      "\n"
     ]
    },
    {
     "output_type": "display_data",
     "data": {
      "image/png": "[encoded data removed]",
      "text/plain": [
       "<Figure size 432x288 with 2 Axes>"
      ]
     },
     "metadata": {
      "needs_background": "light"
     }
    },
    {
     "output_type": "stream",
     "name": "stdout",
     "text": [
      "blstm_word2vec\n",
      "              precision    recall  f1-score   support\n",
      "\n",
      "           0       0.96      0.97      0.96     10241\n",
      "           1       0.74      0.71      0.72      1343\n",
      "\n",
      "    accuracy                           0.94     11584\n",
      "   macro avg       0.85      0.84      0.84     11584\n",
      "weighted avg       0.94      0.94      0.94     11584\n",
      "\n"
     ]
    },
    {
     "output_type": "display_data",
     "data": {
      "image/png": "[encoded data removed]",
      "text/plain": [
       "<Figure size 432x288 with 2 Axes>"
      ]
     },
     "metadata": {
      "needs_background": "light"
     }
    },
    {
     "output_type": "stream",
     "name": "stdout",
     "text": [
      "blstm_word2vec_over\n",
      "              precision    recall  f1-score   support\n",
      "\n",
      "           0       0.96      0.96      0.96     10241\n",
      "           1       0.71      0.73      0.72      1343\n",
      "\n",
      "    accuracy                           0.93     11584\n",
      "   macro avg       0.84      0.85      0.84     11584\n",
      "weighted avg       0.94      0.93      0.93     11584\n",
      "\n"
     ]
    },
    {
     "output_type": "display_data",
     "data": {
      "image/png": "[encoded data removed]",
      "text/plain": [
       "<Figure size 432x288 with 2 Axes>"
      ]
     },
     "metadata": {
      "needs_background": "light"
     }
    },
    {
     "output_type": "stream",
     "name": "stdout",
     "text": [
      "blstm_att_random\n",
      "              precision    recall  f1-score   support\n",
      "\n",
      "           0       0.99      0.40      0.57     10241\n",
      "           1       0.17      0.96      0.29      1343\n",
      "\n",
      "    accuracy                           0.46     11584\n",
      "   macro avg       0.58      0.68      0.43     11584\n",
      "weighted avg       0.89      0.46      0.54     11584\n",
      "\n"
     ]
    },
    {
     "output_type": "display_data",
     "data": {
      "image/png": "[encoded data removed]",
      "text/plain": [
       "<Figure size 432x288 with 2 Axes>"
      ]
     },
     "metadata": {
      "needs_background": "light"
     }
    },
    {
     "output_type": "stream",
     "name": "stdout",
     "text": [
      "blstm_att_random_over\n",
      "              precision    recall  f1-score   support\n",
      "\n",
      "           0       0.89      1.00      0.94     10241\n",
      "           1       0.92      0.08      0.14      1343\n",
      "\n",
      "    accuracy                           0.89     11584\n",
      "   macro avg       0.91      0.54      0.54     11584\n",
      "weighted avg       0.90      0.89      0.85     11584\n",
      "\n"
     ]
    },
    {
     "output_type": "display_data",
     "data": {
      "image/png": "[encoded data removed]",
      "text/plain": [
       "<Figure size 432x288 with 2 Axes>"
      ]
     },
     "metadata": {
      "needs_background": "light"
     }
    },
    {
     "output_type": "stream",
     "name": "stdout",
     "text": [
      "blstm_att_glove\n",
      "              precision    recall  f1-score   support\n",
      "\n",
      "           0       0.96      0.96      0.96     10241\n",
      "           1       0.72      0.71      0.72      1343\n",
      "\n",
      "    accuracy                           0.94     11584\n",
      "   macro avg       0.84      0.84      0.84     11584\n",
      "weighted avg       0.93      0.94      0.94     11584\n",
      "\n"
     ]
    },
    {
     "output_type": "display_data",
     "data": {
      "image/png": "[encoded data removed]",
      "text/plain": [
       "<Figure size 432x288 with 2 Axes>"
      ]
     },
     "metadata": {
      "needs_background": "light"
     }
    },
    {
     "output_type": "stream",
     "name": "stdout",
     "text": [
      "blstm_att_glove_over\n",
      "              precision    recall  f1-score   support\n",
      "\n",
      "           0       0.97      0.96      0.96     10241\n",
      "           1       0.69      0.75      0.72      1343\n",
      "\n",
      "    accuracy                           0.93     11584\n",
      "   macro avg       0.83      0.85      0.84     11584\n",
      "weighted avg       0.93      0.93      0.93     11584\n",
      "\n"
     ]
    },
    {
     "output_type": "display_data",
     "data": {
      "image/png": "[encoded data removed]",
      "text/plain": [
       "<Figure size 432x288 with 2 Axes>"
      ]
     },
     "metadata": {
      "needs_background": "light"
     }
    },
    {
     "output_type": "stream",
     "name": "stdout",
     "text": [
      "blstm_att_word2vec\n",
      "              precision    recall  f1-score   support\n",
      "\n",
      "           0       0.96      0.97      0.97     10241\n",
      "           1       0.77      0.69      0.73      1343\n",
      "\n",
      "    accuracy                           0.94     11584\n",
      "   macro avg       0.86      0.83      0.85     11584\n",
      "weighted avg       0.94      0.94      0.94     11584\n",
      "\n"
     ]
    },
    {
     "output_type": "display_data",
     "data": {
      "image/png": "[encoded data removed]",
      "text/plain": [
       "<Figure size 432x288 with 2 Axes>"
      ]
     },
     "metadata": {
      "needs_background": "light"
     }
    },
    {
     "output_type": "stream",
     "name": "stdout",
     "text": [
      "blstm_att_word2vec_over\n",
      "              precision    recall  f1-score   support\n",
      "\n",
      "           0       0.97      0.95      0.96     10241\n",
      "           1       0.67      0.76      0.71      1343\n",
      "\n",
      "    accuracy                           0.93     11584\n",
      "   macro avg       0.82      0.86      0.84     11584\n",
      "weighted avg       0.93      0.93      0.93     11584\n",
      "\n"
     ]
    },
    {
     "output_type": "display_data",
     "data": {
      "image/png": "[encoded data removed]",
      "text/plain": [
       "<Figure size 432x288 with 2 Axes>"
      ]
     },
     "metadata": {
      "needs_background": "light"
     }
    },
    {
     "output_type": "stream",
     "name": "stdout",
     "text": [
      "cnn_random\n",
      "              precision    recall  f1-score   support\n",
      "\n",
      "           0       0.96      0.91      0.94     10241\n",
      "           1       0.52      0.72      0.60      1343\n",
      "\n",
      "    accuracy                           0.89     11584\n",
      "   macro avg       0.74      0.82      0.77     11584\n",
      "weighted avg       0.91      0.89      0.90     11584\n",
      "\n"
     ]
    },
    {
     "output_type": "display_data",
     "data": {
      "image/png": "[encoded data removed]",
      "text/plain": [
       "<Figure size 432x288 with 2 Axes>"
      ]
     },
     "metadata": {
      "needs_background": "light"
     }
    },
    {
     "output_type": "stream",
     "name": "stdout",
     "text": [
      "cnn_random_over\n",
      "              precision    recall  f1-score   support\n",
      "\n",
      "           0       0.95      0.96      0.96     10241\n",
      "           1       0.68      0.62      0.65      1343\n",
      "\n",
      "    accuracy                           0.92     11584\n",
      "   macro avg       0.81      0.79      0.80     11584\n",
      "weighted avg       0.92      0.92      0.92     11584\n",
      "\n"
     ]
    },
    {
     "output_type": "display_data",
     "data": {
      "image/png": "[encoded data removed]",
      "text/plain": [
       "<Figure size 432x288 with 2 Axes>"
      ]
     },
     "metadata": {
      "needs_background": "light"
     }
    },
    {
     "output_type": "stream",
     "name": "stdout",
     "text": [
      "cnn_glove\n",
      "              precision    recall  f1-score   support\n",
      "\n",
      "           0       0.96      0.98      0.97     10241\n",
      "           1       0.78      0.66      0.71      1343\n",
      "\n",
      "    accuracy                           0.94     11584\n",
      "   macro avg       0.87      0.82      0.84     11584\n",
      "weighted avg       0.94      0.94      0.94     11584\n",
      "\n"
     ]
    },
    {
     "output_type": "display_data",
     "data": {
      "image/png": "[encoded data removed]",
      "text/plain": [
       "<Figure size 432x288 with 2 Axes>"
      ]
     },
     "metadata": {
      "needs_background": "light"
     }
    },
    {
     "output_type": "stream",
     "name": "stdout",
     "text": [
      "cnn_glove_over\n",
      "              precision    recall  f1-score   support\n",
      "\n",
      "           0       0.97      0.95      0.96     10241\n",
      "           1       0.67      0.75      0.71      1343\n",
      "\n",
      "    accuracy                           0.93     11584\n",
      "   macro avg       0.82      0.85      0.83     11584\n",
      "weighted avg       0.93      0.93      0.93     11584\n",
      "\n"
     ]
    },
    {
     "output_type": "display_data",
     "data": {
      "image/png": "[encoded data removed]",
      "text/plain": [
       "<Figure size 432x288 with 2 Axes>"
      ]
     },
     "metadata": {
      "needs_background": "light"
     }
    },
    {
     "output_type": "stream",
     "name": "stdout",
     "text": [
      "cnn_word2vec\n",
      "              precision    recall  f1-score   support\n",
      "\n",
      "           0       0.96      0.98      0.97     10241\n",
      "           1       0.79      0.68      0.73      1343\n",
      "\n",
      "    accuracy                           0.94     11584\n",
      "   macro avg       0.87      0.83      0.85     11584\n",
      "weighted avg       0.94      0.94      0.94     11584\n",
      "\n"
     ]
    },
    {
     "output_type": "display_data",
     "data": {
      "image/png": "[encoded data removed]",
      "text/plain": [
       "<Figure size 432x288 with 2 Axes>"
      ]
     },
     "metadata": {
      "needs_background": "light"
     }
    },
    {
     "output_type": "stream",
     "name": "stdout",
     "text": [
      "cnn_word2vec_over\n",
      "              precision    recall  f1-score   support\n",
      "\n",
      "           0       0.97      0.96      0.96     10241\n",
      "           1       0.71      0.79      0.75      1343\n",
      "\n",
      "    accuracy                           0.94     11584\n",
      "   macro avg       0.84      0.87      0.86     11584\n",
      "weighted avg       0.94      0.94      0.94     11584\n",
      "\n"
     ]
    },
    {
     "output_type": "display_data",
     "data": {
      "image/png": "[encoded data removed]",
      "text/plain": [
       "<Figure size 432x288 with 2 Axes>"
      ]
     },
     "metadata": {
      "needs_background": "light"
     }
    }
   ]
  },
  {
   "cell_type": "code",
   "source": [
    "model_prediction_autochar = indiv_eval(automl_model, X_test, y_test)"
   ],
   "metadata": {
    "colab": {
     "base_uri": "https://localhost:8080/",
     "height": 595
    },
    "id": "A5nibznaHBrg",
    "executionInfo": {
     "status": "ok",
     "timestamp": 1643283167573,
     "user_tz": -60,
     "elapsed": 1944,
     "user": {
      "displayName": "Benjamin Lee",
      "photoUrl": "https://lh3.googleusercontent.com/a-/AOh14GiH530quYi9k5DQRCxWoJT7cVVCjzMOGgFrkXEr=s64",
      "userId": "05206156339145726048"
     }
    },
    "outputId": "3221714c-e8a9-4bb0-c986-7dd04240554b"
   },
   "execution_count": 27,
   "outputs": [
    {
     "output_type": "stream",
     "name": "stderr",
     "text": [
      "/usr/local/lib/python3.7/dist-packages/sklearn/metrics/_classification.py:1248: UndefinedMetricWarning: Precision and F-score are ill-defined and being set to 0.0 in labels with no predicted samples. Use `zero_division` parameter to control this behavior.\n",
      "  _warn_prf(average, modifier, msg_start, len(result))\n",
      "/usr/local/lib/python3.7/dist-packages/sklearn/metrics/_classification.py:1248: UndefinedMetricWarning: Precision and F-score are ill-defined and being set to 0.0 in labels with no predicted samples. Use `zero_division` parameter to control this behavior.\n",
      "  _warn_prf(average, modifier, msg_start, len(result))\n",
      "/usr/local/lib/python3.7/dist-packages/sklearn/metrics/_classification.py:1248: UndefinedMetricWarning: Precision and F-score are ill-defined and being set to 0.0 in labels with no predicted samples. Use `zero_division` parameter to control this behavior.\n",
      "  _warn_prf(average, modifier, msg_start, len(result))\n"
     ]
    },
    {
     "output_type": "stream",
     "name": "stdout",
     "text": [
      "              precision    recall  f1-score   support\n",
      "\n",
      "           0       0.88      1.00      0.94     10241\n",
      "           1       0.00      0.00      0.00      1343\n",
      "\n",
      "    accuracy                           0.88     11584\n",
      "   macro avg       0.44      0.50      0.47     11584\n",
      "weighted avg       0.78      0.88      0.83     11584\n",
      "\n"
     ]
    },
    {
     "output_type": "display_data",
     "data": {
      "image/png": "[encoded data removed]",
      "text/plain": [
       "<Figure size 432x288 with 2 Axes>"
      ]
     },
     "metadata": {
      "needs_background": "light"
     }
    }
   ]
  },
  {
   "cell_type": "code",
   "source": [
    "import joblib\n",
    "joblib.dump(predictions, '/content/drive/MyDrive/Uni/Experiment Design/Ass2/Deep Learning/wiki_dl_preds.df')"
   ],
   "metadata": {
    "colab": {
     "base_uri": "https://localhost:8080/"
    },
    "id": "WfHOyDehO9xQ",
    "outputId": "c1431036-bab1-4507-88b2-4a5592186f34",
    "executionInfo": {
     "status": "ok",
     "timestamp": 1643272730212,
     "user_tz": -60,
     "elapsed": 5209,
     "user": {
      "displayName": "Benjamin Lee",
      "photoUrl": "https://lh3.googleusercontent.com/a-/AOh14GiH530quYi9k5DQRCxWoJT7cVVCjzMOGgFrkXEr=s64",
      "userId": "05206156339145726048"
     }
    }
   },
   "execution_count": null,
   "outputs": [
    {
     "output_type": "execute_result",
     "data": {
      "text/plain": [
       "['/content/drive/MyDrive/Uni/Experiment Design/Ass2/Deep Learning/wiki_dl_preds.df']"
      ]
     },
     "metadata": {},
     "execution_count": 36
    }
   ]
  },
  {
   "cell_type": "code",
   "source": [
    "import joblib\n",
    "predictions = joblib.load('/content/drive/MyDrive/Uni/Experiment Design/Ass2/Deep Learning/wiki_dl_preds.df')"
   ],
   "metadata": {
    "id": "-R_kYPuZHMB_"
   },
   "execution_count": null,
   "outputs": []
  },
  {
   "cell_type": "code",
   "source": [
    "predictions.append(model_prediction_autochar)\n",
    "predictions.append(model_prediction_autoword)"
   ],
   "metadata": {
    "id": "6EmpbvbWHR1a"
   },
   "execution_count": null,
   "outputs": []
  },
  {
   "cell_type": "code",
   "source": [
    "multiple_mcnemar(model_name_list, predictions, y_test, 0.01)"
   ],
   "metadata": {
    "id": "i6r0LL-34eeh",
    "colab": {
     "base_uri": "https://localhost:8080/"
    },
    "outputId": "fcdc4ce9-46a4-485b-af3c-cb3dde63c70d",
    "executionInfo": {
     "status": "ok",
     "timestamp": 1643272731320,
     "user_tz": -60,
     "elapsed": 1115,
     "user": {
      "displayName": "Benjamin Lee",
      "photoUrl": "https://lh3.googleusercontent.com/a-/AOh14GiH530quYi9k5DQRCxWoJT7cVVCjzMOGgFrkXEr=s64",
      "userId": "05206156339145726048"
     }
    }
   },
   "execution_count": null,
   "outputs": [
    {
     "output_type": "stream",
     "name": "stdout",
     "text": [
      "+-------------------------+-------------------------+-----------+------------+---------+\n",
      "|         Model 1         |         Model 2         |    Chi²   |  p-Value   | Reject? |\n",
      "+-------------------------+-------------------------+-----------+------------+---------+\n",
      "|       lstm_random       |     lstm_random_over    | 1.28E+02f | 1.36E-29f  |   True  |\n",
      "|       lstm_random       |        lstm_glove       | 5.21E+02f | 2.71E-115f |   True  |\n",
      "|       lstm_random       |     lstm_glove_over     | 2.98E+02f | 1.01E-66f  |   True  |\n",
      "|       lstm_random       |      lstm_word2vec      | 5.84E+02f | 5.68E-129f |   True  |\n",
      "|       lstm_random       |    lstm_word2vec_over   | 5.16E+02f | 3.39E-114f |   True  |\n",
      "|       lstm_random       |       blstm_random      | 1.65E+03f | 0.00E+00f  |   True  |\n",
      "|       lstm_random       |    blstm_random_over    | 1.29E+02f | 6.90E-30f  |   True  |\n",
      "|       lstm_random       |       blstm_glove       | 5.31E+02f | 1.48E-117f |   True  |\n",
      "|       lstm_random       |     blstm_glove_over    | 2.97E+02f | 1.19E-66f  |   True  |\n",
      "|       lstm_random       |      blstm_word2vec     | 5.61E+02f | 4.59E-124f |   True  |\n",
      "|       lstm_random       |   blstm_word2vec_over   | 4.80E+02f | 1.84E-106f |   True  |\n",
      "|       lstm_random       |     blstm_att_random    | 2.73E+03f | 0.00E+00f  |   True  |\n",
      "|       lstm_random       |  blstm_att_random_over  | 3.40E+02f | 5.67E-76f  |   True  |\n",
      "|       lstm_random       |     blstm_att_glove     | 5.12E+02f | 2.20E-113f |   True  |\n",
      "|       lstm_random       |   blstm_att_glove_over  | 4.50E+02f | 6.87E-100f |   True  |\n",
      "|       lstm_random       |    blstm_att_word2vec   | 6.13E+02f | 2.71E-135f |   True  |\n",
      "|       lstm_random       | blstm_att_word2vec_over | 3.91E+02f | 4.58E-87f  |   True  |\n",
      "|       lstm_random       |        cnn_random       | 7.18E+01f | 2.34E-17f  |   True  |\n",
      "|       lstm_random       |     cnn_random_over     | 3.71E+02f | 8.85E-83f  |   True  |\n",
      "|       lstm_random       |        cnn_glove        | 6.32E+02f | 2.25E-139f |   True  |\n",
      "|       lstm_random       |      cnn_glove_over     | 3.99E+02f | 9.57E-89f  |   True  |\n",
      "|       lstm_random       |       cnn_word2vec      | 6.71E+02f | 7.04E-148f |   True  |\n",
      "|       lstm_random       |    cnn_word2vec_over    | 5.03E+02f | 2.46E-111f |   True  |\n",
      "|     lstm_random_over    |        lstm_glove       | 9.99E+02f | 3.49E-219f |   True  |\n",
      "|     lstm_random_over    |     lstm_glove_over     | 7.72E+02f | 7.53E-170f |   True  |\n",
      "|     lstm_random_over    |      lstm_word2vec      | 1.05E+03f | 1.44E-229f |   True  |\n",
      "|     lstm_random_over    |    lstm_word2vec_over   | 1.03E+03f | 9.24E-227f |   True  |\n",
      "|     lstm_random_over    |       blstm_random      | 1.57E+03f | 0.00E+00f  |   True  |\n",
      "|     lstm_random_over    |    blstm_random_over    | 5.17E+02f | 1.72E-114f |   True  |\n",
      "|     lstm_random_over    |       blstm_glove       | 1.05E+03f | 1.48E-229f |   True  |\n",
      "|     lstm_random_over    |     blstm_glove_over    | 7.72E+02f | 8.13E-170f |   True  |\n",
      "|     lstm_random_over    |      blstm_word2vec     | 1.06E+03f | 6.02E-233f |   True  |\n",
      "|     lstm_random_over    |   blstm_word2vec_over   | 1.02E+03f | 6.01E-223f |   True  |\n",
      "|     lstm_random_over    |     blstm_att_random    | 2.89E+03f | 0.00E+00f  |   True  |\n",
      "|     lstm_random_over    |  blstm_att_random_over  | 4.64E+02f | 7.02E-103f |   True  |\n",
      "|     lstm_random_over    |     blstm_att_glove     | 1.00E+03f | 5.21E-220f |   True  |\n",
      "|     lstm_random_over    |   blstm_att_glove_over  | 9.48E+02f | 3.02E-208f |   True  |\n",
      "|     lstm_random_over    |    blstm_att_word2vec   | 1.09E+03f | 4.42E-239f |   True  |\n",
      "|     lstm_random_over    | blstm_att_word2vec_over | 8.81E+02f | 1.08E-193f |   True  |\n",
      "|     lstm_random_over    |        cnn_random       | 4.15E+02f | 3.07E-92f  |   True  |\n",
      "|     lstm_random_over    |     cnn_random_over     | 8.30E+02f | 1.28E-182f |   True  |\n",
      "|     lstm_random_over    |        cnn_glove        | 1.07E+03f | 4.21E-234f |   True  |\n",
      "|     lstm_random_over    |      cnn_glove_over     | 8.85E+02f | 2.15E-194f |   True  |\n",
      "|     lstm_random_over    |       cnn_word2vec      | 1.17E+03f | 5.64E-256f |   True  |\n",
      "|     lstm_random_over    |    cnn_word2vec_over    | 1.04E+03f | 6.22E-229f |   True  |\n",
      "|        lstm_glove       |     lstm_glove_over     | 3.71E+01f | 1.10E-09f  |   True  |\n",
      "|        lstm_glove       |      lstm_word2vec      | 3.28E-01f | 5.67E-01f  |  False  |\n",
      "|        lstm_glove       |    lstm_word2vec_over   | 4.08E-02f | 8.40E-01f  |  False  |\n",
      "|        lstm_glove       |       blstm_random      | 3.53E+03f | 0.00E+00f  |   True  |\n",
      "|        lstm_glove       |    blstm_random_over    | 1.97E+02f | 8.13E-45f  |   True  |\n",
      "|        lstm_glove       |       blstm_glove       | 4.11E-01f | 5.22E-01f  |  False  |\n",
      "|        lstm_glove       |     blstm_glove_over    | 3.64E+01f | 1.61E-09f  |   True  |\n",
      "|        lstm_glove       |      blstm_word2vec     | 3.91E-01f | 5.32E-01f  |  False  |\n",
      "|        lstm_glove       |   blstm_word2vec_over   | 9.01E-01f | 3.42E-01f  |  False  |\n",
      "|        lstm_glove       |     blstm_att_random    | 4.86E+03f | 0.00E+00f  |   True  |\n",
      "|        lstm_glove       |  blstm_att_random_over  | 2.07E+02f | 5.50E-47f  |   True  |\n",
      "|        lstm_glove       |     blstm_att_glove     | 2.99E-01f | 5.85E-01f  |  False  |\n",
      "|        lstm_glove       |   blstm_att_glove_over  | 3.18E+00f | 7.47E-02f  |  False  |\n",
      "|        lstm_glove       |    blstm_att_word2vec   | 2.30E+00f | 1.29E-01f  |  False  |\n",
      "|        lstm_glove       | blstm_att_word2vec_over | 1.08E+01f | 1.02E-03f  |   True  |\n",
      "|        lstm_glove       |        cnn_random       | 2.37E+02f | 1.66E-53f  |   True  |\n",
      "|        lstm_glove       |     cnn_random_over     | 3.36E+01f | 6.91E-09f  |   True  |\n",
      "|        lstm_glove       |        cnn_glove        | 9.09E-01f | 3.40E-01f  |  False  |\n",
      "|        lstm_glove       |      cnn_glove_over     | 1.09E+01f | 9.72E-04f  |   True  |\n",
      "|        lstm_glove       |       cnn_word2vec      | 7.71E+00f | 5.48E-03f  |   True  |\n",
      "|        lstm_glove       |    cnn_word2vec_over    | 3.53E-01f | 5.53E-01f  |  False  |\n",
      "|     lstm_glove_over     |      lstm_word2vec      | 4.10E+01f | 1.50E-10f  |   True  |\n",
      "|     lstm_glove_over     |    lstm_word2vec_over   | 3.79E+01f | 7.47E-10f  |   True  |\n",
      "|     lstm_glove_over     |       blstm_random      | 3.40E+03f | 0.00E+00f  |   True  |\n",
      "|     lstm_glove_over     |    blstm_random_over    | 7.68E+01f | 1.88E-18f  |   True  |\n",
      "|     lstm_glove_over     |       blstm_glove       | 4.28E+01f | 6.07E-11f  |   True  |\n",
      "|     lstm_glove_over     |     blstm_glove_over    | 0.00E+00f | 1.00E+00f  |  False  |\n",
      "|     lstm_glove_over     |      blstm_word2vec     | 4.14E+01f | 1.22E-10f  |   True  |\n",
      "|     lstm_glove_over     |   blstm_word2vec_over   | 2.56E+01f | 4.24E-07f  |   True  |\n",
      "|     lstm_glove_over     |     blstm_att_random    | 4.80E+03f | 0.00E+00f  |   True  |\n",
      "|     lstm_glove_over     |  blstm_att_random_over  | 7.69E+01f | 1.80E-18f  |   True  |\n",
      "|     lstm_glove_over     |     blstm_att_glove     | 3.00E+01f | 4.29E-08f  |   True  |\n",
      "|     lstm_glove_over     |   blstm_att_glove_over  | 1.97E+01f | 9.21E-06f  |   True  |\n",
      "|     lstm_glove_over     |    blstm_att_word2vec   | 5.32E+01f | 3.02E-13f  |   True  |\n",
      "|     lstm_glove_over     | blstm_att_word2vec_over | 7.20E+00f | 7.31E-03f  |   True  |\n",
      "|     lstm_glove_over     |        cnn_random       | 1.06E+02f | 7.84E-25f  |   True  |\n",
      "|     lstm_glove_over     |     cnn_random_over     | 3.43E-02f | 8.53E-01f  |  False  |\n",
      "|     lstm_glove_over     |        cnn_glove        | 4.19E+01f | 9.40E-11f  |   True  |\n",
      "|     lstm_glove_over     |      cnn_glove_over     | 7.40E+00f | 6.52E-03f  |   True  |\n",
      "|     lstm_glove_over     |       cnn_word2vec      | 6.71E+01f | 2.63E-16f  |   True  |\n",
      "|     lstm_glove_over     |    cnn_word2vec_over    | 4.22E+01f | 8.15E-11f  |   True  |\n",
      "|      lstm_word2vec      |    lstm_word2vec_over   | 1.21E-01f | 7.28E-01f  |  False  |\n",
      "|      lstm_word2vec      |       blstm_random      | 3.49E+03f | 0.00E+00f  |   True  |\n",
      "|      lstm_word2vec      |    blstm_random_over    | 2.24E+02f | 1.34E-50f  |   True  |\n",
      "|      lstm_word2vec      |       blstm_glove       | 0.00E+00f | 1.00E+00f  |  False  |\n",
      "|      lstm_word2vec      |     blstm_glove_over    | 4.16E+01f | 1.15E-10f  |   True  |\n",
      "|      lstm_word2vec      |      blstm_word2vec     | 0.00E+00f | 1.00E+00f  |  False  |\n",
      "|      lstm_word2vec      |   blstm_word2vec_over   | 2.63E+00f | 1.05E-01f  |  False  |\n",
      "|      lstm_word2vec      |     blstm_att_random    | 4.81E+03f | 0.00E+00f  |   True  |\n",
      "|      lstm_word2vec      |  blstm_att_random_over  | 2.49E+02f | 3.37E-56f  |   True  |\n",
      "|      lstm_word2vec      |     blstm_att_glove     | 1.40E+00f | 2.36E-01f  |  False  |\n",
      "|      lstm_word2vec      |   blstm_att_glove_over  | 5.25E+00f | 2.20E-02f  |  False  |\n",
      "|      lstm_word2vec      |    blstm_att_word2vec   | 9.42E-01f | 3.32E-01f  |  False  |\n",
      "|      lstm_word2vec      | blstm_att_word2vec_over | 1.67E+01f | 4.33E-05f  |   True  |\n",
      "|      lstm_word2vec      |        cnn_random       | 2.51E+02f | 1.67E-56f  |   True  |\n",
      "|      lstm_word2vec      |     cnn_random_over     | 4.30E+01f | 5.35E-11f  |   True  |\n",
      "|      lstm_word2vec      |        cnn_glove        | 1.18E-01f | 7.31E-01f  |  False  |\n",
      "|      lstm_word2vec      |      cnn_glove_over     | 1.49E+01f | 1.11E-04f  |   True  |\n",
      "|      lstm_word2vec      |       cnn_word2vec      | 5.55E+00f | 1.85E-02f  |  False  |\n",
      "|      lstm_word2vec      |    cnn_word2vec_over    | 0.00E+00f | 1.00E+00f  |  False  |\n",
      "|    lstm_word2vec_over   |       blstm_random      | 3.54E+03f | 0.00E+00f  |   True  |\n",
      "|    lstm_word2vec_over   |    blstm_random_over    | 2.01E+02f | 1.62E-45f  |   True  |\n",
      "|    lstm_word2vec_over   |       blstm_glove       | 1.34E-01f | 7.14E-01f  |  False  |\n",
      "|    lstm_word2vec_over   |     blstm_glove_over    | 3.80E+01f | 7.12E-10f  |   True  |\n",
      "|    lstm_word2vec_over   |      blstm_word2vec     | 1.59E-01f | 6.90E-01f  |  False  |\n",
      "|    lstm_word2vec_over   |   blstm_word2vec_over   | 1.74E+00f | 1.87E-01f  |  False  |\n",
      "|    lstm_word2vec_over   |     blstm_att_random    | 4.90E+03f | 0.00E+00f  |   True  |\n",
      "|    lstm_word2vec_over   |  blstm_att_random_over  | 2.07E+02f | 5.61E-47f  |   True  |\n",
      "|    lstm_word2vec_over   |     blstm_att_glove     | 6.08E-01f | 4.36E-01f  |  False  |\n",
      "|    lstm_word2vec_over   |   blstm_att_glove_over  | 3.94E+00f | 4.73E-02f  |  False  |\n",
      "|    lstm_word2vec_over   |    blstm_att_word2vec   | 1.70E+00f | 1.92E-01f  |  False  |\n",
      "|    lstm_word2vec_over   | blstm_att_word2vec_over | 1.48E+01f | 1.21E-04f  |   True  |\n",
      "|    lstm_word2vec_over   |        cnn_random       | 2.47E+02f | 9.28E-56f  |   True  |\n",
      "|    lstm_word2vec_over   |     cnn_random_over     | 3.63E+01f | 1.73E-09f  |   True  |\n",
      "|    lstm_word2vec_over   |        cnn_glove        | 4.77E-01f | 4.90E-01f  |  False  |\n",
      "|    lstm_word2vec_over   |      cnn_glove_over     | 1.29E+01f | 3.29E-04f  |   True  |\n",
      "|    lstm_word2vec_over   |       cnn_word2vec      | 7.62E+00f | 5.76E-03f  |   True  |\n",
      "|    lstm_word2vec_over   |    cnn_word2vec_over    | 1.50E-01f | 6.99E-01f  |  False  |\n",
      "|       blstm_random      |    blstm_random_over    | 2.75E+03f | 0.00E+00f  |   True  |\n",
      "|       blstm_random      |       blstm_glove       | 3.56E+03f | 0.00E+00f  |   True  |\n",
      "|       blstm_random      |     blstm_glove_over    | 3.38E+03f | 0.00E+00f  |   True  |\n",
      "|       blstm_random      |      blstm_word2vec     | 3.50E+03f | 0.00E+00f  |   True  |\n",
      "|       blstm_random      |   blstm_word2vec_over   | 3.50E+03f | 0.00E+00f  |   True  |\n",
      "|       blstm_random      |     blstm_att_random    | 7.03E+02f | 5.52E-155f |   True  |\n",
      "|       blstm_random      |  blstm_att_random_over  | 2.24E+03f | 0.00E+00f  |   True  |\n",
      "|       blstm_random      |     blstm_att_glove     | 3.48E+03f | 0.00E+00f  |   True  |\n",
      "|       blstm_random      |   blstm_att_glove_over  | 3.48E+03f | 0.00E+00f  |   True  |\n",
      "|       blstm_random      |    blstm_att_word2vec   | 3.52E+03f | 0.00E+00f  |   True  |\n",
      "|       blstm_random      | blstm_att_word2vec_over | 3.44E+03f | 0.00E+00f  |   True  |\n",
      "|       blstm_random      |        cnn_random       | 3.02E+03f | 0.00E+00f  |   True  |\n",
      "|       blstm_random      |     cnn_random_over     | 3.23E+03f | 0.00E+00f  |   True  |\n",
      "|       blstm_random      |        cnn_glove        | 3.41E+03f | 0.00E+00f  |   True  |\n",
      "|       blstm_random      |      cnn_glove_over     | 3.42E+03f | 0.00E+00f  |   True  |\n",
      "|       blstm_random      |       cnn_word2vec      | 3.53E+03f | 0.00E+00f  |   True  |\n",
      "|       blstm_random      |    cnn_word2vec_over    | 3.58E+03f | 0.00E+00f  |   True  |\n",
      "|    blstm_random_over    |       blstm_glove       | 2.20E+02f | 9.76E-50f  |   True  |\n",
      "|    blstm_random_over    |     blstm_glove_over    | 7.77E+01f | 1.17E-18f  |   True  |\n",
      "|    blstm_random_over    |      blstm_word2vec     | 2.21E+02f | 5.49E-50f  |   True  |\n",
      "|    blstm_random_over    |   blstm_word2vec_over   | 1.82E+02f | 1.53E-41f  |   True  |\n",
      "|    blstm_random_over    |     blstm_att_random    | 3.93E+03f | 0.00E+00f  |   True  |\n",
      "|    blstm_random_over    |  blstm_att_random_over  | 4.24E-01f | 5.15E-01f  |  False  |\n",
      "|    blstm_random_over    |     blstm_att_glove     | 1.89E+02f | 6.27E-43f  |   True  |\n",
      "|    blstm_random_over    |   blstm_att_glove_over  | 1.62E+02f | 5.26E-37f  |   True  |\n",
      "|    blstm_random_over    |    blstm_att_word2vec   | 2.50E+02f | 2.14E-56f  |   True  |\n",
      "|    blstm_random_over    | blstm_att_word2vec_over | 1.26E+02f | 2.84E-29f  |   True  |\n",
      "|    blstm_random_over    |        cnn_random       | 1.45E+00f | 2.29E-01f  |  False  |\n",
      "|    blstm_random_over    |     cnn_random_over     | 9.95E+01f | 1.95E-23f  |   True  |\n",
      "|    blstm_random_over    |        cnn_glove        | 2.27E+02f | 2.36E-51f  |   True  |\n",
      "|    blstm_random_over    |      cnn_glove_over     | 1.26E+02f | 2.41E-29f  |   True  |\n",
      "|    blstm_random_over    |       cnn_word2vec      | 2.75E+02f | 1.15E-61f  |   True  |\n",
      "|    blstm_random_over    |    cnn_word2vec_over    | 2.04E+02f | 3.26E-46f  |   True  |\n",
      "|       blstm_glove       |     blstm_glove_over    | 5.24E+01f | 4.60E-13f  |   True  |\n",
      "|       blstm_glove       |      blstm_word2vec     | 1.94E-03f | 9.65E-01f  |  False  |\n",
      "|       blstm_glove       |   blstm_word2vec_over   | 2.69E+00f | 1.01E-01f  |  False  |\n",
      "|       blstm_glove       |     blstm_att_random    | 4.91E+03f | 0.00E+00f  |   True  |\n",
      "|       blstm_glove       |  blstm_att_random_over  | 2.20E+02f | 7.32E-50f  |   True  |\n",
      "|       blstm_glove       |     blstm_att_glove     | 1.60E+00f | 2.05E-01f  |  False  |\n",
      "|       blstm_glove       |   blstm_att_glove_over  | 6.54E+00f | 1.05E-02f  |  False  |\n",
      "|       blstm_glove       |    blstm_att_word2vec   | 7.23E-01f | 3.95E-01f  |  False  |\n",
      "|       blstm_glove       | blstm_att_word2vec_over | 1.51E+01f | 1.02E-04f  |   True  |\n",
      "|       blstm_glove       |        cnn_random       | 2.63E+02f | 4.79E-59f  |   True  |\n",
      "|       blstm_glove       |     cnn_random_over     | 4.30E+01f | 5.42E-11f  |   True  |\n",
      "|       blstm_glove       |        cnn_glove        | 8.54E-02f | 7.70E-01f  |  False  |\n",
      "|       blstm_glove       |      cnn_glove_over     | 1.67E+01f | 4.33E-05f  |   True  |\n",
      "|       blstm_glove       |       cnn_word2vec      | 4.89E+00f | 2.70E-02f  |  False  |\n",
      "|       blstm_glove       |    cnn_word2vec_over    | 1.69E-03f | 9.67E-01f  |  False  |\n",
      "|     blstm_glove_over    |      blstm_word2vec     | 4.52E+01f | 1.78E-11f  |   True  |\n",
      "|     blstm_glove_over    |   blstm_word2vec_over   | 2.85E+01f | 9.25E-08f  |   True  |\n",
      "|     blstm_glove_over    |     blstm_att_random    | 4.80E+03f | 0.00E+00f  |   True  |\n",
      "|     blstm_glove_over    |  blstm_att_random_over  | 7.63E+01f | 2.42E-18f  |   True  |\n",
      "|     blstm_glove_over    |     blstm_att_glove     | 3.10E+01f | 2.60E-08f  |   True  |\n",
      "|     blstm_glove_over    |   blstm_att_glove_over  | 1.99E+01f | 8.32E-06f  |   True  |\n",
      "|     blstm_glove_over    |    blstm_att_word2vec   | 5.27E+01f | 3.96E-13f  |   True  |\n",
      "|     blstm_glove_over    | blstm_att_word2vec_over | 7.40E+00f | 6.52E-03f  |   True  |\n",
      "|     blstm_glove_over    |        cnn_random       | 1.09E+02f | 1.85E-25f  |   True  |\n",
      "|     blstm_glove_over    |     cnn_random_over     | 2.48E-02f | 8.75E-01f  |  False  |\n",
      "|     blstm_glove_over    |        cnn_glove        | 4.37E+01f | 3.76E-11f  |   True  |\n",
      "|     blstm_glove_over    |      cnn_glove_over     | 8.29E+00f | 3.99E-03f  |   True  |\n",
      "|     blstm_glove_over    |       cnn_word2vec      | 7.34E+01f | 1.07E-17f  |   True  |\n",
      "|     blstm_glove_over    |    cnn_word2vec_over    | 4.63E+01f | 1.04E-11f  |   True  |\n",
      "|      blstm_word2vec     |   blstm_word2vec_over   | 3.38E+00f | 6.59E-02f  |  False  |\n",
      "|      blstm_word2vec     |     blstm_att_random    | 4.83E+03f | 0.00E+00f  |   True  |\n",
      "|      blstm_word2vec     |  blstm_att_random_over  | 2.37E+02f | 2.20E-53f  |   True  |\n",
      "|      blstm_word2vec     |     blstm_att_glove     | 1.47E+00f | 2.26E-01f  |  False  |\n",
      "|      blstm_word2vec     |   blstm_att_glove_over  | 5.88E+00f | 1.53E-02f  |  False  |\n",
      "|      blstm_word2vec     |    blstm_att_word2vec   | 8.42E-01f | 3.59E-01f  |  False  |\n",
      "|      blstm_word2vec     | blstm_att_word2vec_over | 1.66E+01f | 4.63E-05f  |   True  |\n",
      "|      blstm_word2vec     |        cnn_random       | 2.58E+02f | 4.57E-58f  |   True  |\n",
      "|      blstm_word2vec     |     cnn_random_over     | 4.30E+01f | 5.42E-11f  |   True  |\n",
      "|      blstm_word2vec     |        cnn_glove        | 9.11E-02f | 7.63E-01f  |  False  |\n",
      "|      blstm_word2vec     |      cnn_glove_over     | 1.70E+01f | 3.73E-05f  |   True  |\n",
      "|      blstm_word2vec     |       cnn_word2vec      | 6.08E+00f | 1.37E-02f  |  False  |\n",
      "|      blstm_word2vec     |    cnn_word2vec_over    | 1.96E-03f | 9.65E-01f  |  False  |\n",
      "|   blstm_word2vec_over   |     blstm_att_random    | 4.84E+03f | 0.00E+00f  |   True  |\n",
      "|   blstm_word2vec_over   |  blstm_att_random_over  | 1.83E+02f | 1.10E-41f  |   True  |\n",
      "|   blstm_word2vec_over   |     blstm_att_glove     | 1.59E-01f | 6.90E-01f  |  False  |\n",
      "|   blstm_word2vec_over   |   blstm_att_glove_over  | 5.27E-01f | 4.68E-01f  |  False  |\n",
      "|   blstm_word2vec_over   |    blstm_att_word2vec   | 6.89E+00f | 8.66E-03f  |   True  |\n",
      "|   blstm_word2vec_over   | blstm_att_word2vec_over | 6.94E+00f | 8.42E-03f  |   True  |\n",
      "|   blstm_word2vec_over   |        cnn_random       | 2.19E+02f | 1.58E-49f  |   True  |\n",
      "|   blstm_word2vec_over   |     cnn_random_over     | 2.46E+01f | 7.14E-07f  |   True  |\n",
      "|   blstm_word2vec_over   |        cnn_glove        | 3.71E+00f | 5.41E-02f  |  False  |\n",
      "|   blstm_word2vec_over   |      cnn_glove_over     | 5.58E+00f | 1.82E-02f  |  False  |\n",
      "|   blstm_word2vec_over   |       cnn_word2vec      | 1.70E+01f | 3.81E-05f  |   True  |\n",
      "|   blstm_word2vec_over   |    cnn_word2vec_over    | 2.87E+00f | 9.01E-02f  |  False  |\n",
      "|     blstm_att_random    |  blstm_att_random_over  | 3.37E+03f | 0.00E+00f  |   True  |\n",
      "|     blstm_att_random    |     blstm_att_glove     | 4.82E+03f | 0.00E+00f  |   True  |\n",
      "|     blstm_att_random    |   blstm_att_glove_over  | 4.85E+03f | 0.00E+00f  |   True  |\n",
      "|     blstm_att_random    |    blstm_att_word2vec   | 4.83E+03f | 0.00E+00f  |   True  |\n",
      "|     blstm_att_random    | blstm_att_word2vec_over | 4.80E+03f | 0.00E+00f  |   True  |\n",
      "|     blstm_att_random    |        cnn_random       | 4.35E+03f | 0.00E+00f  |   True  |\n",
      "|     blstm_att_random    |     cnn_random_over     | 4.52E+03f | 0.00E+00f  |   True  |\n",
      "|     blstm_att_random    |        cnn_glove        | 4.75E+03f | 0.00E+00f  |   True  |\n",
      "|     blstm_att_random    |      cnn_glove_over     | 4.81E+03f | 0.00E+00f  |   True  |\n",
      "|     blstm_att_random    |       cnn_word2vec      | 4.87E+03f | 0.00E+00f  |   True  |\n",
      "|     blstm_att_random    |    cnn_word2vec_over    | 4.99E+03f | 0.00E+00f  |   True  |\n",
      "|  blstm_att_random_over  |     blstm_att_glove     | 2.01E+02f | 1.38E-45f  |   True  |\n",
      "|  blstm_att_random_over  |   blstm_att_glove_over  | 1.63E+02f | 2.83E-37f  |   True  |\n",
      "|  blstm_att_random_over  |    blstm_att_word2vec   | 2.70E+02f | 9.76E-61f  |   True  |\n",
      "|  blstm_att_random_over  | blstm_att_word2vec_over | 1.27E+02f | 1.98E-29f  |   True  |\n",
      "|  blstm_att_random_over  |        cnn_random       | 2.51E-01f | 6.17E-01f  |  False  |\n",
      "|  blstm_att_random_over  |     cnn_random_over     | 1.05E+02f | 1.41E-24f  |   True  |\n",
      "|  blstm_att_random_over  |        cnn_glove        | 2.74E+02f | 1.41E-61f  |   True  |\n",
      "|  blstm_att_random_over  |      cnn_glove_over     | 1.29E+02f | 5.58E-30f  |   True  |\n",
      "|  blstm_att_random_over  |       cnn_word2vec      | 3.12E+02f | 7.46E-70f  |   True  |\n",
      "|  blstm_att_random_over  |    cnn_word2vec_over    | 2.00E+02f | 2.30E-45f  |   True  |\n",
      "|     blstm_att_glove     |   blstm_att_glove_over  | 1.56E+00f | 2.11E-01f  |  False  |\n",
      "|     blstm_att_glove     |    blstm_att_word2vec   | 4.73E+00f | 2.97E-02f  |  False  |\n",
      "|     blstm_att_glove     | blstm_att_word2vec_over | 7.91E+00f | 4.90E-03f  |   True  |\n",
      "|     blstm_att_glove     |        cnn_random       | 2.31E+02f | 4.37E-52f  |   True  |\n",
      "|     blstm_att_glove     |     cnn_random_over     | 2.96E+01f | 5.29E-08f  |   True  |\n",
      "|     blstm_att_glove     |        cnn_glove        | 2.48E+00f | 1.15E-01f  |  False  |\n",
      "|     blstm_att_glove     |      cnn_glove_over     | 7.90E+00f | 4.94E-03f  |   True  |\n",
      "|     blstm_att_glove     |       cnn_word2vec      | 1.25E+01f | 4.02E-04f  |   True  |\n",
      "|     blstm_att_glove     |    cnn_word2vec_over    | 1.36E+00f | 2.43E-01f  |  False  |\n",
      "|   blstm_att_glove_over  |    blstm_att_word2vec   | 1.11E+01f | 8.67E-04f  |   True  |\n",
      "|   blstm_att_glove_over  | blstm_att_word2vec_over | 2.72E+00f | 9.92E-02f  |  False  |\n",
      "|   blstm_att_glove_over  |        cnn_random       | 2.08E+02f | 4.66E-47f  |   True  |\n",
      "|   blstm_att_glove_over  |     cnn_random_over     | 1.84E+01f | 1.82E-05f  |   True  |\n",
      "|   blstm_att_glove_over  |        cnn_glove        | 7.13E+00f | 7.60E-03f  |   True  |\n",
      "|   blstm_att_glove_over  |      cnn_glove_over     | 2.60E+00f | 1.07E-01f  |  False  |\n",
      "|   blstm_att_glove_over  |       cnn_word2vec      | 2.09E+01f | 4.88E-06f  |   True  |\n",
      "|   blstm_att_glove_over  |    cnn_word2vec_over    | 5.69E+00f | 1.71E-02f  |  False  |\n",
      "|    blstm_att_word2vec   | blstm_att_word2vec_over | 2.62E+01f | 3.12E-07f  |   True  |\n",
      "|    blstm_att_word2vec   |        cnn_random       | 2.75E+02f | 1.11E-61f  |   True  |\n",
      "|    blstm_att_word2vec   |     cnn_random_over     | 5.43E+01f | 1.72E-13f  |   True  |\n",
      "|    blstm_att_word2vec   |        cnn_glove        | 2.49E-01f | 6.18E-01f  |  False  |\n",
      "|    blstm_att_word2vec   |      cnn_glove_over     | 2.19E+01f | 2.84E-06f  |   True  |\n",
      "|    blstm_att_word2vec   |       cnn_word2vec      | 1.86E+00f | 1.73E-01f  |  False  |\n",
      "|    blstm_att_word2vec   |    cnn_word2vec_over    | 6.93E-01f | 4.05E-01f  |  False  |\n",
      "| blstm_att_word2vec_over |        cnn_random       | 1.64E+02f | 1.33E-37f  |   True  |\n",
      "| blstm_att_word2vec_over |     cnn_random_over     | 7.09E+00f | 7.77E-03f  |   True  |\n",
      "| blstm_att_word2vec_over |        cnn_glove        | 1.71E+01f | 3.52E-05f  |   True  |\n",
      "| blstm_att_word2vec_over |      cnn_glove_over     | 0.00E+00f | 1.00E+00f  |  False  |\n",
      "| blstm_att_word2vec_over |       cnn_word2vec      | 3.83E+01f | 6.02E-10f  |   True  |\n",
      "| blstm_att_word2vec_over |    cnn_word2vec_over    | 1.66E+01f | 4.50E-05f  |   True  |\n",
      "|        cnn_random       |     cnn_random_over     | 1.70E+02f | 8.83E-39f  |   True  |\n",
      "|        cnn_random       |        cnn_glove        | 2.45E+02f | 3.10E-55f  |   True  |\n",
      "|        cnn_random       |      cnn_glove_over     | 1.70E+02f | 5.80E-39f  |   True  |\n",
      "|        cnn_random       |       cnn_word2vec      | 3.08E+02f | 5.41E-69f  |   True  |\n",
      "|        cnn_random       |    cnn_word2vec_over    | 2.61E+02f | 9.49E-59f  |   True  |\n",
      "|     cnn_random_over     |        cnn_glove        | 4.57E+01f | 1.39E-11f  |   True  |\n",
      "|     cnn_random_over     |      cnn_glove_over     | 7.61E+00f | 5.79E-03f  |   True  |\n",
      "|     cnn_random_over     |       cnn_word2vec      | 7.83E+01f | 8.70E-19f  |   True  |\n",
      "|     cnn_random_over     |    cnn_word2vec_over    | 4.02E+01f | 2.34E-10f  |   True  |\n",
      "|        cnn_glove        |      cnn_glove_over     | 2.39E+01f | 1.04E-06f  |   True  |\n",
      "|        cnn_glove        |       cnn_word2vec      | 4.89E+00f | 2.70E-02f  |  False  |\n",
      "|        cnn_glove        |    cnn_word2vec_over    | 8.91E-02f | 7.65E-01f  |  False  |\n",
      "|      cnn_glove_over     |       cnn_word2vec      | 4.38E+01f | 3.57E-11f  |   True  |\n",
      "|      cnn_glove_over     |    cnn_word2vec_over    | 1.85E+01f | 1.72E-05f  |   True  |\n",
      "|       cnn_word2vec      |    cnn_word2vec_over    | 6.25E+00f | 1.24E-02f  |  False  |\n",
      "+-------------------------+-------------------------+-----------+------------+---------+\n"
     ]
    }
   ]
  }
 ],
 "metadata": {
  "kernelspec": {
   "display_name": "Python 3",
   "language": "python",
   "name": "python3"
  },
  "language_info": {
   "codemirror_mode": {
    "name": "ipython",
    "version": 2
   },
   "file_extension": ".py",
   "mimetype": "text/x-python",
   "name": "python",
   "nbconvert_exporter": "python",
   "pygments_lexer": "ipython2",
   "version": "2.7.6"
  },
  "colab": {
   "name": "wiki_deeplearning.ipynb",
   "provenance": [
    {
     "file_id": "11KEj0Ni7QAhKtI1cs9aMorJ3-kqNnLKO",
     "timestamp": 1643234038252
    }
   ],
   "collapsed_sections": [],
   "machine_shape": "hm"
  },
  "accelerator": "GPU"
 },
 "nbformat": 4,
 "nbformat_minor": 0
}