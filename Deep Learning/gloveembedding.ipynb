{
 "cells": [
  {
   "cell_type": "code",
   "execution_count": 34,
   "metadata": {
    "collapsed": true,
    "pycharm": {
     "name": "#%%\n"
    }
   },
   "outputs": [],
   "source": [
    "import numpy as np\n",
    "from sklearn.model_selection import train_test_split\n",
    "from tensorflow.keras import preprocessing as tfkp\n",
    "import pickle\n",
    "import preprocessing as p"
   ]
  },
  {
   "cell_type": "code",
   "execution_count": 35,
   "outputs": [],
   "source": [
    "# embedding stuff\n",
    "\n",
    "def get_embeddings(dim, dataset):\n",
    "    sep = \" \"\n",
    "    if dataset == \"wiki\":\n",
    "        vector_file = f\"glove_embeddings/glove.6B.{dim}d.txt\"\n",
    "    else:\n",
    "        vector_file = f\"glove_embeddings/glove.twitter.27B.{dim}d.txt\"\n",
    "\n",
    "    embed_dict = {}\n",
    "    with open(vector_file, \"r\", encoding=\"utf8\") as file:\n",
    "        for line in file.readlines():\n",
    "            row = line.strip().split(sep)\n",
    "            embed_dict[row[0]] = row[1:]    # word : weights\n",
    "\n",
    "    return embed_dict\n",
    "\n",
    "def map_weights(embed_dict, vocab, embed_size): # embed size is embedding dim\n",
    "    vocab_size = len(vocab)\n",
    "    weights = np.zeros((vocab_size, embed_size))\n",
    "\n",
    "    n_missed = 0\n",
    "    words_missed = []\n",
    "    for k,v in vocab.items():\n",
    "        try:\n",
    "            weights[v] = embed_dict[k]  # weights[v] is an index, embed_dict[k] is the list of weights\n",
    "        except:\n",
    "            n_missed += 1\n",
    "            words_missed.append(k)\n",
    "    print(f\"{n_missed} embeddings missed of {vocab_size}\")\n",
    "    return weights, words_missed"
   ],
   "metadata": {
    "collapsed": false,
    "pycharm": {
     "name": "#%%\n"
    }
   }
  },
  {
   "cell_type": "code",
   "execution_count": 36,
   "outputs": [],
   "source": [
    "# data stuff\n",
    "\n",
    "def load_data(filename):\n",
    "    data = pickle.load(open(filename, 'rb'))\n",
    "    x_text = []\n",
    "    labels = []\n",
    "    for i in range(len(data)):\n",
    "        if(HASH_REMOVE):\n",
    "            x_text.append(p.tokenize((data[i]['text']).encode('utf-8')))\n",
    "        else:\n",
    "            x_text.append(data[i]['text'])\n",
    "        labels.append(data[i]['label'])\n",
    "    return x_text,labels\n",
    "\n",
    "def get_filename(dataset):\n",
    "    global N_CLASS, HASH_REMOVE\n",
    "    if(dataset==\"twitter\"):\n",
    "        filename = \"../data/twitter_data.pkl\"\n",
    "        N_CLASS = 3\n",
    "        HASH_REMOVE = False\n",
    "    elif(dataset==\"formspring\"):\n",
    "        N_CLASS = 2\n",
    "        filename = \"../data/formspring_data.pkl\"\n",
    "        HASH_REMOVE = False\n",
    "    elif(dataset==\"wiki\"):\n",
    "        N_CLASS = 2\n",
    "        filename = \"../data/wiki_data.pkl\"\n",
    "        HASH_REMOVE = False\n",
    "    return filename\n",
    "\n",
    "def get_data_train_test(dataset, dim):\n",
    "    x_text, labels = load_data(get_filename(dataset))\n",
    "    trainx, testx, trainy, testy = train_test_split(x_text, labels, random_state = 42, test_size=0.1)\n",
    "\n",
    "    post_length = np.array([len(x.split(\" \")) for x in trainx])\n",
    "\n",
    "    # tfkp = tensorflow.keras.preprocessing\n",
    "    tokenizer = tfkp.text.Tokenizer(oov_token=\"<UNK>\")\n",
    "    tokenizer.fit_on_texts(trainx)\n",
    "\n",
    "    convert = lambda x: tfkp.sequence.pad_sequences(tokenizer.texts_to_sequences(x),\n",
    "                                                    maxlen=dim,\n",
    "                                                    padding='post', truncating='post')\n",
    "    trainx = convert(trainx)\n",
    "    trainy = np.array(trainy)\n",
    "    testx = convert(testx)\n",
    "    testy = np.array(testy)\n",
    "\n",
    "    return dataset, trainx, trainy, testx, testy, tokenizer"
   ],
   "metadata": {
    "collapsed": false,
    "pycharm": {
     "name": "#%%\n"
    }
   }
  },
  {
   "cell_type": "code",
   "execution_count": 37,
   "outputs": [],
   "source": [
    "# put it all together\n",
    "\n",
    "def get_weights_and_data(dataset, dim=50):\n",
    "    dataset, trainx, trainy, testx, testy, tokenizer = get_data_train_test(dataset, dim)\n",
    "    embed_dict = get_embeddings(50, dataset)\n",
    "\n",
    "    weights, words_missed = map_weights(embed_dict, tokenizer.word_index, dim)\n",
    "    return trainx, trainy, testx, testy, weights   # ready for use"
   ],
   "metadata": {
    "collapsed": false,
    "pycharm": {
     "name": "#%%\n"
    }
   }
  },
  {
   "cell_type": "code",
   "execution_count": 38,
   "outputs": [
    {
     "name": "stdout",
     "output_type": "stream",
     "text": [
      "80076 embeddings missed of 160395\n"
     ]
    }
   ],
   "source": [
    "trainx, trainy, testx, testy, weights = get_weights_and_data(\"wiki\")"
   ],
   "metadata": {
    "collapsed": false,
    "pycharm": {
     "name": "#%%\n"
    }
   }
  },
  {
   "cell_type": "code",
   "execution_count": 40,
   "outputs": [
    {
     "name": "stdout",
     "output_type": "stream",
     "text": [
      "(104277, 50)\n",
      "(104277,)\n",
      "(11587, 50)\n",
      "(11587,)\n",
      "(160395, 50)\n"
     ]
    }
   ],
   "source": [
    "print(np.shape(trainx))\n",
    "print(np.shape(trainy))\n",
    "print(np.shape(testx))\n",
    "print(np.shape(testy))\n",
    "print(np.shape(weights))"
   ],
   "metadata": {
    "collapsed": false,
    "pycharm": {
     "name": "#%%\n"
    }
   }
  }
 ],
 "metadata": {
  "kernelspec": {
   "display_name": "Python 3",
   "language": "python",
   "name": "python3"
  },
  "language_info": {
   "codemirror_mode": {
    "name": "ipython",
    "version": 2
   },
   "file_extension": ".py",
   "mimetype": "text/x-python",
   "name": "python",
   "nbconvert_exporter": "python",
   "pygments_lexer": "ipython2",
   "version": "2.7.6"
  }
 },
 "nbformat": 4,
 "nbformat_minor": 0
}