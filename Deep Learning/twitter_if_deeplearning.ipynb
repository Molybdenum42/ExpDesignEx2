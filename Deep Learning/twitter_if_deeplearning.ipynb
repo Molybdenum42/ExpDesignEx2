{
 "cells": [
  {
   "cell_type": "code",
   "execution_count": 1,
   "metadata": {
    "colab": {
     "base_uri": "https://localhost:8080/"
    },
    "id": "xW6U8Bqkmseh",
    "outputId": "e635980f-bc8b-443f-cd5c-af8289968f02"
   },
   "outputs": [
    {
     "name": "stderr",
     "output_type": "stream",
     "text": [
      "[nltk_data] Downloading package stopwords to\n",
      "[nltk_data]     C:\\Users\\Ilija\\AppData\\Roaming\\nltk_data...\n",
      "[nltk_data]   Package stopwords is already up-to-date!\n"
     ]
    }
   ],
   "source": [
    "import numpy as np\n",
    "import pandas as pd\n",
    "import pickle\n",
    "from matplotlib import pyplot as plt\n",
    "import seaborn as sns\n",
    "\n",
    "import string\n",
    "from urllib.parse import urlparse\n",
    "from nltk.corpus import stopwords\n",
    "import nltk\n",
    "nltk.download('stopwords')\n",
    "\n",
    "from sklearn.metrics import confusion_matrix, classification_report\n",
    "from sklearn.model_selection import train_test_split\n",
    "from tensorflow.keras import preprocessing as tfkp\n",
    "from tensorflow.keras.utils import to_categorical\n",
    "\n",
    "import gensim.downloader as api\n",
    "from imblearn.over_sampling import RandomOverSampler\n",
    "\n",
    "#if on Google Colab, put the DL_model files in root\n",
    "from DL_models import lstm_keras, cnn_keras, blstm, blstm_att"
   ]
  },
  {
   "cell_type": "code",
   "execution_count": 2,
   "metadata": {
    "colab": {
     "base_uri": "https://localhost:8080/"
    },
    "id": "x0Up6ytCmwaS",
    "outputId": "bb0a66fd-4ea7-4f55-a9ea-5eb9c273fec6"
   },
   "outputs": [
    {
     "ename": "ModuleNotFoundError",
     "evalue": "No module named 'google.colab'",
     "output_type": "error",
     "traceback": [
      "\u001b[1;31m---------------------------------------------------------------------------\u001b[0m",
      "\u001b[1;31mModuleNotFoundError\u001b[0m                       Traceback (most recent call last)",
      "\u001b[1;32m~\\AppData\\Local\\Temp/ipykernel_8528/1408506528.py\u001b[0m in \u001b[0;36m<module>\u001b[1;34m\u001b[0m\n\u001b[1;32m----> 1\u001b[1;33m \u001b[1;32mfrom\u001b[0m \u001b[0mgoogle\u001b[0m\u001b[1;33m.\u001b[0m\u001b[0mcolab\u001b[0m \u001b[1;32mimport\u001b[0m \u001b[0mdrive\u001b[0m\u001b[1;33m\u001b[0m\u001b[1;33m\u001b[0m\u001b[0m\n\u001b[0m\u001b[0;32m      2\u001b[0m \u001b[0mdrive\u001b[0m\u001b[1;33m.\u001b[0m\u001b[0mmount\u001b[0m\u001b[1;33m(\u001b[0m\u001b[1;34m'/content/drive'\u001b[0m\u001b[1;33m)\u001b[0m\u001b[1;33m\u001b[0m\u001b[1;33m\u001b[0m\u001b[0m\n",
      "\u001b[1;31mModuleNotFoundError\u001b[0m: No module named 'google.colab'"
     ]
    }
   ],
   "source": [
    "from google.colab import drive\n",
    "drive.mount('/content/drive')"
   ]
  },
  {
   "cell_type": "code",
   "execution_count": 37,
   "metadata": {},
   "outputs": [],
   "source": [
    "# replacement strings\n",
    "WINDOWS_LINE_ENDING = b'\\r\\n'\n",
    "UNIX_LINE_ENDING = b'\\n'\n",
    "\n",
    "# relative or absolute file path, e.g.:\n",
    "file_path = r\"../data/twitter_data_fixed.pkl\"\n",
    "dest_path = r\"../data/twitter_data_fixed_if.pkl\"\n",
    "with open(file_path, 'rb') as open_file:\n",
    "    content = open_file.read()\n",
    "    \n",
    "content = content.replace(WINDOWS_LINE_ENDING, UNIX_LINE_ENDING)\n",
    "\n",
    "with open(dest_path, 'wb') as open_file:\n",
    "    open_file.write(content)"
   ]
  },
  {
   "cell_type": "code",
   "execution_count": 38,
   "metadata": {
    "id": "E6kH9AXBmsel",
    "pycharm": {
     "name": "#%%\n"
    }
   },
   "outputs": [],
   "source": [
    "def load_data():\n",
    "    filename = '../data/twitter_data_fixed_if.pkl'#\"../data/twitter_data_fixed.pkl\"\n",
    "    print(\"Loading data from file: \" + filename)\n",
    "    data = pickle.load(open(filename, 'rb'))\n",
    "    x_text = []\n",
    "    labels = []\n",
    "    ids = []\n",
    "    for i in range(len(data)):\n",
    "        text = \"\".join(l for l in data[i]['text'] if l not in string.punctuation)\n",
    "        x_text.append((data[i]['text']).encode('utf-8'))\n",
    "        labels.append(data[i]['label'])\n",
    "    return x_text,labels"
   ]
  },
  {
   "cell_type": "code",
   "execution_count": 39,
   "metadata": {
    "id": "uEBiRX4Rmsem",
    "pycharm": {
     "name": "#%%\n"
    }
   },
   "outputs": [],
   "source": [
    "def is_url(url):\n",
    "  try:\n",
    "    result = urlparse(url)\n",
    "    return all([result.scheme, result.netloc])\n",
    "  except ValueError:\n",
    "    return False"
   ]
  },
  {
   "cell_type": "code",
   "execution_count": 40,
   "metadata": {
    "id": "gVlUfZVNmsew",
    "pycharm": {
     "name": "#%%\n"
    }
   },
   "outputs": [],
   "source": [
    "def indiv_eval(model, X_test, y_test, target_names=['Normal', 'Cyberbullying']):\n",
    "    preds_probs = model.predict(X_test)\n",
    "    preds = [np.argmax(p) for p in preds_probs]\n",
    "\n",
    "    print(classification_report(y_test, preds))\n",
    "\n",
    "    plt.figure()\n",
    "    sns.heatmap(confusion_matrix(y_test, preds, normalize='true'), fmt='.2%', annot=True ,linewidths=.5,cmap='YlOrRd', annot_kws={\"fontsize\":10}, yticklabels=target_names, xticklabels=target_names)\n",
    "    plt.xticks(rotation=45, ha='right')\n",
    "\n",
    "    plt.show()\n",
    "\n",
    "    return preds"
   ]
  },
  {
   "cell_type": "code",
   "execution_count": 41,
   "metadata": {
    "id": "F4e6WLR337HU"
   },
   "outputs": [],
   "source": [
    "from mlxtend.evaluate import cochrans_q\n",
    "from mlxtend.evaluate import mcnemar\n",
    "from mlxtend.evaluate import mcnemar_tables\n",
    "from prettytable import PrettyTable\n",
    "\n",
    "def model_compare(key, model_list):\n",
    "\n",
    "    two_models = key.split(' vs ')\n",
    "    first_model = int(two_models[0].split('_')[-1])\n",
    "    second_model = int(two_models[1].split('_')[-1])\n",
    "\n",
    "    return model_list[first_model], model_list[second_model]\n",
    "\n",
    "def multiple_mcnemar(model_name_list, preds_array, y, sig_level):\n",
    "\n",
    "    # creates the 'correct' value for use in the McNemar table\n",
    "    y_true = np.array([1] * len(y))\n",
    "\n",
    "    converted_pred_array = []\n",
    "\n",
    "    for i in range(len(preds_array)):\n",
    "        converted_pred_array.append((preds_array[i]==y).astype(int))\n",
    "\n",
    "    '''q, p_value = cochrans_q(y_true,*converted_pred_array)\n",
    "\n",
    "    significance = p_value < sig_level\n",
    "\n",
    "    scientific_notation=\"{:.2e}\".format(p_value)\n",
    "\n",
    "    print(f\"-----Cochran's Q Test-----\")\n",
    "    print(f'============================')\n",
    "    print(f'Q-Score         {q:.4f}')\n",
    "    print(f'p-value         {scientific_notation}')\n",
    "    print(f'Reject? ({1-sig_level:.0%})      {significance}')\n",
    "    print('\\n')'''\n",
    "\n",
    "    mctable = mcnemar_tables(y_true, *converted_pred_array)\n",
    "\n",
    "    pairwise_table = PrettyTable()\n",
    "    pairwise_table.field_names = ['Model 1', 'Model 2', 'Chi²', 'p-Value', 'Reject?']\n",
    "\n",
    "    for key, value in mctable.items():\n",
    "        chi2, p = mcnemar(ary=value, corrected=True)\n",
    "        first_model, second_model = model_compare(key, model_name_list)\n",
    "        reject_null = p < sig_level\n",
    "\n",
    "        pairwise_table.add_row([first_model, second_model, chi2, p, reject_null])\n",
    "        pairwise_table.float_format[\"Chi²\"] = '.2E'\n",
    "        pairwise_table.float_format[\"p-Value\"] = '.2E'\n",
    "\n",
    "    print(pairwise_table)"
   ]
  },
  {
   "cell_type": "code",
   "execution_count": 42,
   "metadata": {
    "id": "v4XrbujPmsem",
    "pycharm": {
     "name": "#%%\n"
    }
   },
   "outputs": [],
   "source": [
    "# embedding stuff\n",
    "def map_weights(embed_dict, vocab, embed_size): # embed size is embedding dim\n",
    "    vocab_size = len(vocab) + 1\n",
    "    weights = np.zeros((vocab_size, embed_size))\n",
    "\n",
    "    n_missed = 0\n",
    "    words_missed = []\n",
    "    for k,v in vocab.items():\n",
    "        try:\n",
    "            weights[v] = embed_dict[k]  # weights[v] is an index, embed_dict[k] is the list of weights\n",
    "        except:\n",
    "            n_missed += 1\n",
    "            words_missed.append(k)\n",
    "    print(f\"{n_missed} embeddings missed of {vocab_size}\")\n",
    "    return weights, words_missed"
   ]
  },
  {
   "cell_type": "markdown",
   "metadata": {
    "id": "auaqnEnxmsen",
    "pycharm": {
     "name": "#%% md\n"
    }
   },
   "source": [
    "### Loading Data"
   ]
  },
  {
   "cell_type": "code",
   "execution_count": 43,
   "metadata": {
    "colab": {
     "base_uri": "https://localhost:8080/"
    },
    "id": "nZtSuQQnmseo",
    "outputId": "88dc7539-5110-4423-a42f-e9e899269bf8",
    "pycharm": {
     "name": "#%%\n"
    }
   },
   "outputs": [
    {
     "name": "stdout",
     "output_type": "stream",
     "text": [
      "Loading data from file: ../data/twitter_data_fixed_if.pkl\n"
     ]
    }
   ],
   "source": [
    "x_text, labels_og = load_data()\n",
    "labels, uniques = pd.factorize(labels_og)"
   ]
  },
  {
   "cell_type": "markdown",
   "metadata": {
    "id": "zsveYtexmseo",
    "pycharm": {
     "name": "#%% md\n"
    }
   },
   "source": [
    "### Intitial Twitter-Specific Pre-processing"
   ]
  },
  {
   "cell_type": "code",
   "execution_count": 44,
   "metadata": {
    "id": "ACapB15_msep",
    "pycharm": {
     "name": "#%%\n"
    }
   },
   "outputs": [],
   "source": [
    "comments = pd.DataFrame({'comment': x_text, 'attack': labels})\n",
    "\n",
    "# decode to UTF-8\n",
    "comments['comment'] = comments['comment'].str.decode(\"utf-8\")\n",
    "\n",
    "# remove missing rows\n",
    "comments['comment'].dropna(inplace=True)\n",
    "\n",
    "# remove usernames\n",
    "comments['comment'] = comments['comment'].str.replace('(\\@\\w+.*?)',\"\", regex=True)\n",
    "\n",
    "# lower case everything\n",
    "comments['comment'] = comments['comment'].str.lower()\n",
    "\n",
    "# remove URLs\n",
    "comments['comment'] = [' '.join(y for y in x.split() if not is_url(y)) for x in comments['comment']]\n",
    "\n",
    "# remove stop words\n",
    "comments['comment'] = comments['comment'].apply(lambda x: ' '.join([word for word in x.split() if word not in stopwords.words('english')]))\n",
    "\n",
    "# traditionally, would also lemmatize but this was not done in the main data"
   ]
  },
  {
   "cell_type": "code",
   "execution_count": 47,
   "metadata": {
    "colab": {
     "base_uri": "https://localhost:8080/",
     "height": 206
    },
    "id": "0MVxd5Spmseq",
    "outputId": "c77c356f-8dd3-4bac-daef-2dd73419629d",
    "pycharm": {
     "name": "#%%\n"
    }
   },
   "outputs": [
    {
     "data": {
      "text/html": [
       "<div>\n",
       "<style scoped>\n",
       "    .dataframe tbody tr th:only-of-type {\n",
       "        vertical-align: middle;\n",
       "    }\n",
       "\n",
       "    .dataframe tbody tr th {\n",
       "        vertical-align: top;\n",
       "    }\n",
       "\n",
       "    .dataframe thead th {\n",
       "        text-align: right;\n",
       "    }\n",
       "</style>\n",
       "<table border=\"1\" class=\"dataframe\">\n",
       "  <thead>\n",
       "    <tr style=\"text-align: right;\">\n",
       "      <th></th>\n",
       "      <th>comment</th>\n",
       "      <th>attack</th>\n",
       "    </tr>\n",
       "  </thead>\n",
       "  <tbody>\n",
       "    <tr>\n",
       "      <th>0</th>\n",
       "      <td>rt : another bloody instant restaurant week ? ...</td>\n",
       "      <td>0</td>\n",
       "    </tr>\n",
       "    <tr>\n",
       "      <th>1</th>\n",
       "      <td>video peshmerga decimating isis far interesting.</td>\n",
       "      <td>0</td>\n",
       "    </tr>\n",
       "    <tr>\n",
       "      <th>2</th>\n",
       "      <td>oh really ? instant restaurants ? that's shock...</td>\n",
       "      <td>0</td>\n",
       "    </tr>\n",
       "    <tr>\n",
       "      <th>3</th>\n",
       "      <td>rt : good weeks #isis. new front opened #sinja...</td>\n",
       "      <td>0</td>\n",
       "    </tr>\n",
       "    <tr>\n",
       "      <th>4</th>\n",
       "      <td>rt : don’t need femisnsn men carry heavy thing...</td>\n",
       "      <td>0</td>\n",
       "    </tr>\n",
       "  </tbody>\n",
       "</table>\n",
       "</div>"
      ],
      "text/plain": [
       "                                             comment  attack\n",
       "0  rt : another bloody instant restaurant week ? ...       0\n",
       "1   video peshmerga decimating isis far interesting.       0\n",
       "2  oh really ? instant restaurants ? that's shock...       0\n",
       "3  rt : good weeks #isis. new front opened #sinja...       0\n",
       "4  rt : don’t need femisnsn men carry heavy thing...       0"
      ]
     },
     "execution_count": 47,
     "metadata": {},
     "output_type": "execute_result"
    }
   ],
   "source": [
    "comments.head()"
   ]
  },
  {
   "cell_type": "markdown",
   "metadata": {
    "id": "rDo3WQOlmseq",
    "pycharm": {
     "name": "#%% md\n"
    }
   },
   "source": [
    "### Train-Test Split and Tokenization"
   ]
  },
  {
   "cell_type": "code",
   "execution_count": 48,
   "metadata": {
    "id": "G2KkWpTOmser",
    "pycharm": {
     "name": "#%%\n"
    }
   },
   "outputs": [],
   "source": [
    "X_train_pretoken, X_midway_pretoken, y_train, y_midway = train_test_split(comments['comment'], comments['attack'], random_state = 42, test_size=0.2)"
   ]
  },
  {
   "cell_type": "code",
   "execution_count": 49,
   "metadata": {
    "id": "4X3puStVmser",
    "pycharm": {
     "name": "#%%\n"
    }
   },
   "outputs": [],
   "source": [
    "dim = 25\n",
    "n_classes = len(np.unique(y_train.values))\n",
    "\n",
    "tokenizer = tfkp.text.Tokenizer(oov_token=\"<UNK>\", filters='!\"$%&()*+,-./:;<=>?@[\\\\]^_`{|}~\\t\\n',)\n",
    "tokenizer.fit_on_texts(X_train_pretoken)\n",
    "\n",
    "convert = lambda x: tfkp.sequence.pad_sequences(tokenizer.texts_to_sequences(x),\n",
    "                                                    maxlen=dim,\n",
    "                                                    padding='post', truncating='post')\n",
    "\n",
    "X_train = convert(X_train_pretoken)\n",
    "X_midway = convert(X_midway_pretoken)"
   ]
  },
  {
   "cell_type": "code",
   "execution_count": 50,
   "metadata": {
    "id": "QQjUCtiemser",
    "pycharm": {
     "name": "#%%\n"
    }
   },
   "outputs": [],
   "source": [
    "X_test, X_val, y_test, y_val = train_test_split(X_midway, y_midway, random_state = 42, test_size=0.5)"
   ]
  },
  {
   "cell_type": "markdown",
   "metadata": {
    "id": "zLDikbecmser",
    "pycharm": {
     "name": "#%% md\n"
    }
   },
   "source": [
    "### Oversampling"
   ]
  },
  {
   "cell_type": "code",
   "execution_count": 51,
   "metadata": {
    "id": "mFihkQ_Tmses",
    "pycharm": {
     "name": "#%%\n"
    }
   },
   "outputs": [],
   "source": [
    "oversample = RandomOverSampler(random_state=42)\n",
    "X_train_over, y_train_over = oversample.fit_resample(X_train, y_train)"
   ]
  },
  {
   "cell_type": "markdown",
   "metadata": {
    "id": "S-K6zr5omses",
    "pycharm": {
     "name": "#%% md\n"
    }
   },
   "source": [
    "### Reshaping for input"
   ]
  },
  {
   "cell_type": "code",
   "execution_count": 52,
   "metadata": {
    "id": "nFbtTSW1mses",
    "pycharm": {
     "name": "#%%\n"
    }
   },
   "outputs": [],
   "source": [
    "y_train_onehot = to_categorical(y_train, n_classes)\n",
    "y_val_onehot = to_categorical(y_val, n_classes)\n",
    "y_test_onehot = to_categorical(y_test, n_classes)\n",
    "y_train_over_onehot = to_categorical(y_train_over, n_classes)"
   ]
  },
  {
   "cell_type": "markdown",
   "metadata": {
    "id": "QDKmxA6Imses",
    "pycharm": {
     "name": "#%% md\n"
    }
   },
   "source": [
    "### Glove Embedding Weights"
   ]
  },
  {
   "cell_type": "code",
   "execution_count": 53,
   "metadata": {
    "colab": {
     "base_uri": "https://localhost:8080/"
    },
    "id": "d9p88KFemset",
    "outputId": "7f113a69-7514-46fb-c4e1-1464ada8a129",
    "pycharm": {
     "name": "#%%\n"
    }
   },
   "outputs": [
    {
     "name": "stdout",
     "output_type": "stream",
     "text": [
      "3093 embeddings missed of 15155\n"
     ]
    }
   ],
   "source": [
    "glove_dict = api.load(\"glove-twitter-200\")\n",
    "glove_weights, glove_words_missed = map_weights(glove_dict, tokenizer.word_index, 200)"
   ]
  },
  {
   "cell_type": "markdown",
   "metadata": {
    "id": "1L8gwyzimset",
    "pycharm": {
     "name": "#%% md\n"
    }
   },
   "source": [
    "### Word2vec Weights"
   ]
  },
  {
   "cell_type": "code",
   "execution_count": 54,
   "metadata": {
    "colab": {
     "base_uri": "https://localhost:8080/"
    },
    "id": "l7UD2362mset",
    "outputId": "0398d624-8d2b-40e3-b4aa-08e0c8a01062",
    "pycharm": {
     "name": "#%%\n"
    }
   },
   "outputs": [
    {
     "name": "stdout",
     "output_type": "stream",
     "text": [
      "3546 embeddings missed of 15155\n"
     ]
    }
   ],
   "source": [
    "word_dict = api.load(\"word2vec-google-news-300\")\n",
    "word2vec_weights, word2vec_words_missed = map_weights(word_dict, tokenizer.word_index, 300)"
   ]
  },
  {
   "cell_type": "markdown",
   "metadata": {
    "id": "UVQTBfaTmset",
    "pycharm": {
     "name": "#%% md\n"
    }
   },
   "source": [
    "#### Checks"
   ]
  },
  {
   "cell_type": "code",
   "execution_count": 21,
   "metadata": {
    "colab": {
     "base_uri": "https://localhost:8080/"
    },
    "id": "_sFKYpyzmset",
    "outputId": "a8944b60-a915-48f9-81d2-534f216f05d1",
    "pycharm": {
     "name": "#%%\n"
    }
   },
   "outputs": [
    {
     "name": "stdout",
     "output_type": "stream",
     "text": [
      "Counter({0: 8836, 2: 2503, 1: 1533})\n",
      "Counter({2: 8836, 0: 8836, 1: 8836})\n"
     ]
    }
   ],
   "source": [
    "# check number of oversampling\n",
    "from collections import Counter\n",
    "print(Counter(y_train))\n",
    "print(Counter(y_train_over))"
   ]
  },
  {
   "cell_type": "markdown",
   "metadata": {
    "id": "nKSTOAKImseu",
    "pycharm": {
     "name": "#%% md\n"
    }
   },
   "source": [
    "### Write Embedders"
   ]
  },
  {
   "cell_type": "code",
   "execution_count": 64,
   "metadata": {},
   "outputs": [],
   "source": [
    "tokenizer?"
   ]
  },
  {
   "cell_type": "code",
   "execution_count": 68,
   "metadata": {},
   "outputs": [
    {
     "data": {
      "text/plain": [
       "{1: '<UNK>',\n",
       " 2: '#mkr',\n",
       " 3: 'rt',\n",
       " 4: \"i'm\",\n",
       " 5: 'sexist',\n",
       " 6: 'kat',\n",
       " 7: 'like',\n",
       " 8: 'women',\n",
       " 9: 'islam',\n",
       " 10: 'would',\n",
       " 11: 'people',\n",
       " 12: 'amp',\n",
       " 13: 'one',\n",
       " 14: 'get',\n",
       " 15: 'think',\n",
       " 16: 'andre',\n",
       " 17: 'know',\n",
       " 18: 'muslims',\n",
       " 19: 'girls',\n",
       " 20: 'ca',\n",
       " 21: 'go',\n",
       " 22: 'really',\n",
       " 23: 'want',\n",
       " 24: 'time',\n",
       " 25: 'men',\n",
       " 26: 'it',\n",
       " 27: 'good',\n",
       " 28: 'make',\n",
       " 29: 'isis',\n",
       " 30: 'see',\n",
       " 31: 'going',\n",
       " 32: 'even',\n",
       " 33: 'muslim',\n",
       " 34: 'never',\n",
       " 35: 'still',\n",
       " 36: 'oh',\n",
       " 37: 'call',\n",
       " 38: 'need',\n",
       " 39: 'right',\n",
       " 40: '…',\n",
       " 41: 'mohammed',\n",
       " 42: 'way',\n",
       " 43: 'woman',\n",
       " 44: '#mkr2015',\n",
       " 45: 'say',\n",
       " 46: 'female',\n",
       " 47: 'back',\n",
       " 48: 'well',\n",
       " 49: 'fuck',\n",
       " 50: 'much',\n",
       " 51: 'hate',\n",
       " 52: 'got',\n",
       " 53: '#notsexist',\n",
       " 54: 'someone',\n",
       " 55: 'shit',\n",
       " 56: 'love',\n",
       " 57: 'stop',\n",
       " 58: 'us',\n",
       " 59: 'show',\n",
       " 60: 'ever',\n",
       " 61: 'could',\n",
       " 62: 'many',\n",
       " 63: 'every',\n",
       " 64: 'thing',\n",
       " 65: 'pretty',\n",
       " 66: 'look',\n",
       " 67: 'quran',\n",
       " 68: 'lol',\n",
       " 69: 'yes',\n",
       " 70: 'twitter',\n",
       " 71: 'cook',\n",
       " 72: 'another',\n",
       " 73: 'you',\n",
       " 74: 'man',\n",
       " 75: 'better',\n",
       " 76: 'religion',\n",
       " 77: 'daesh',\n",
       " 78: 'read',\n",
       " 79: 'sure',\n",
       " 80: 'let',\n",
       " 81: '3',\n",
       " 82: 'nothing',\n",
       " 83: 'colin',\n",
       " 84: '#islam',\n",
       " 85: 'world',\n",
       " 86: 'fucking',\n",
       " 87: 'things',\n",
       " 88: 'jews',\n",
       " 89: 'bad',\n",
       " 90: 'years',\n",
       " 91: '2',\n",
       " 92: 'take',\n",
       " 93: 'actually',\n",
       " 94: 'give',\n",
       " 95: 'talk',\n",
       " 96: 'tell',\n",
       " 97: 'day',\n",
       " 98: 'them',\n",
       " 99: 'looks',\n",
       " 100: 'hope',\n",
       " 101: 'yeah',\n",
       " 102: 'that',\n",
       " 103: 'real',\n",
       " 104: 'p',\n",
       " 105: 'stupid',\n",
       " 106: 'god',\n",
       " 107: 'sorry',\n",
       " 108: 'made',\n",
       " 109: 'annie',\n",
       " 110: 'round',\n",
       " 111: 'work',\n",
       " 112: 'prophet',\n",
       " 113: 'anything',\n",
       " 114: 'please',\n",
       " 115: 'find',\n",
       " 116: 'two',\n",
       " 117: 'this',\n",
       " 118: 'last',\n",
       " 119: 'today',\n",
       " 120: 'nikki',\n",
       " 121: 'cooking',\n",
       " 122: 'use',\n",
       " 123: 'anyone',\n",
       " 124: 'also',\n",
       " 125: 'war',\n",
       " 126: 'something',\n",
       " 127: 'try',\n",
       " 128: 'idea',\n",
       " 129: 'next',\n",
       " 130: 'new',\n",
       " 131: 'me',\n",
       " 132: 'believe',\n",
       " 133: 'face',\n",
       " 134: 'come',\n",
       " 135: '1',\n",
       " 136: 'said',\n",
       " 137: 'home',\n",
       " 138: 'tonight',\n",
       " 139: 'watching',\n",
       " 140: 'instant',\n",
       " 141: 'old',\n",
       " 142: 'says',\n",
       " 143: 'girl',\n",
       " 144: 'death',\n",
       " 145: 'year',\n",
       " 146: 'food',\n",
       " 147: 'wrong',\n",
       " 148: 'not',\n",
       " 149: 'must',\n",
       " 150: 'trying',\n",
       " 151: 'little',\n",
       " 152: 'u',\n",
       " 153: 'getting',\n",
       " 154: 'funny',\n",
       " 155: 'mean',\n",
       " 156: 'everyone',\n",
       " 157: 'seriously',\n",
       " 158: 'great',\n",
       " 159: 'katie',\n",
       " 160: 'talking',\n",
       " 161: 'watch',\n",
       " 162: 'guys',\n",
       " 163: 'mosul',\n",
       " 164: 'first',\n",
       " 165: 'making',\n",
       " 166: 'im',\n",
       " 167: 'feel',\n",
       " 168: 'life',\n",
       " 169: 'care',\n",
       " 170: 'murder',\n",
       " 171: 'thought',\n",
       " 172: 'around',\n",
       " 173: 'keep',\n",
       " 174: 'done',\n",
       " 175: '#isis',\n",
       " 176: 'seen',\n",
       " 177: 'thanks',\n",
       " 178: 'hard',\n",
       " 179: 'killed',\n",
       " 180: 'enough',\n",
       " 181: 'point',\n",
       " 182: 'male',\n",
       " 183: 'wo',\n",
       " 184: 'saying',\n",
       " 185: 'cannot',\n",
       " 186: 'rape',\n",
       " 187: 'understand',\n",
       " 188: 'football',\n",
       " 189: 'makes',\n",
       " 190: 'already',\n",
       " 191: 'teams',\n",
       " 192: 'lot',\n",
       " 193: 'christians',\n",
       " 194: 'always',\n",
       " 195: 'gamergate',\n",
       " 196: 'lt',\n",
       " 197: 'bitch',\n",
       " 198: 'might',\n",
       " 199: 'tweet',\n",
       " 200: 'tweets',\n",
       " 201: 'stay',\n",
       " 202: 'name',\n",
       " 203: 'sports',\n",
       " 204: 'fact',\n",
       " 205: 'abuse',\n",
       " 206: 'person',\n",
       " 207: 'free',\n",
       " 208: 'is',\n",
       " 209: 'since',\n",
       " 210: 'stuff',\n",
       " 211: 'else',\n",
       " 212: 'wait',\n",
       " 213: 'put',\n",
       " 214: 'islamic',\n",
       " 215: 'no',\n",
       " 216: 'everything',\n",
       " 217: 'without',\n",
       " 218: 'i',\n",
       " 219: 'help',\n",
       " 220: 'maybe',\n",
       " 221: 'children',\n",
       " 222: 'guy',\n",
       " 223: 'harassment',\n",
       " 224: 'feminists',\n",
       " 225: 'w',\n",
       " 226: 'problem',\n",
       " 227: 'best',\n",
       " 228: 'yet',\n",
       " 229: 'microbrain',\n",
       " 230: 'big',\n",
       " 231: 'pete',\n",
       " 232: 'lloyd',\n",
       " 233: 'wow',\n",
       " 234: 'sexism',\n",
       " 235: 'happy',\n",
       " 236: 'hot',\n",
       " 237: 'used',\n",
       " 238: 'now',\n",
       " 239: 'breakfast',\n",
       " 240: '7',\n",
       " 241: 'kind',\n",
       " 242: 'ok',\n",
       " 243: 'long',\n",
       " 244: 'terrorist',\n",
       " 245: 'fight',\n",
       " 246: 'nice',\n",
       " 247: 'left',\n",
       " 248: 'idiot',\n",
       " 249: 'support',\n",
       " 250: 'non',\n",
       " 251: 'game',\n",
       " 252: 'gt',\n",
       " 253: 'times',\n",
       " 254: 'humanity',\n",
       " 255: 'looking',\n",
       " 256: 'kitchen',\n",
       " 257: 'slavery',\n",
       " 258: 'white',\n",
       " 259: 'night',\n",
       " 260: 'anti',\n",
       " 261: 'rights',\n",
       " 262: 'true',\n",
       " 263: 'kill',\n",
       " 264: 'restaurant',\n",
       " 265: 'least',\n",
       " 266: 'follow',\n",
       " 267: 'lie',\n",
       " 268: 'up',\n",
       " 269: 'tart',\n",
       " 270: 'exactly',\n",
       " 271: 'drasko',\n",
       " 272: 'hey',\n",
       " 273: 'means',\n",
       " 274: 'feminism',\n",
       " 275: 'deconstructed',\n",
       " 276: 'lemon',\n",
       " 277: 'http',\n",
       " 278: 'called',\n",
       " 279: 'omg',\n",
       " 280: '4',\n",
       " 281: 'stand',\n",
       " 282: 'drive',\n",
       " 283: 'tv',\n",
       " 284: '5',\n",
       " 285: 'hadiths',\n",
       " 286: 'play',\n",
       " 287: 'job',\n",
       " 288: 'lying',\n",
       " 289: 'guess',\n",
       " 290: '“',\n",
       " 291: 'dumb',\n",
       " 292: 'end',\n",
       " 293: 'tech',\n",
       " 294: 'told',\n",
       " 295: 'word',\n",
       " 296: 'strategic',\n",
       " 297: 'though',\n",
       " 298: 'score',\n",
       " 299: 'bit',\n",
       " 300: 'head',\n",
       " 301: 'place',\n",
       " 302: 'team',\n",
       " 303: 'far',\n",
       " 304: 'less',\n",
       " 305: 'terrorists',\n",
       " 306: 'propaganda',\n",
       " 307: 'live',\n",
       " 308: 'may',\n",
       " 309: 'full',\n",
       " 310: 'putin',\n",
       " 311: 'murdered',\n",
       " 312: 'state',\n",
       " 313: 'blocked',\n",
       " 314: 'probably',\n",
       " 315: 'competition',\n",
       " 316: 'part',\n",
       " 317: 'him',\n",
       " 318: 'able',\n",
       " 319: 'half',\n",
       " 320: 'start',\n",
       " 321: 'hear',\n",
       " 322: 'manu',\n",
       " 323: 'needs',\n",
       " 324: 'win',\n",
       " 325: 'history',\n",
       " 326: 'dude',\n",
       " 327: 'blondes',\n",
       " 328: '1400',\n",
       " 329: 'different',\n",
       " 330: '#killerblondes',\n",
       " 331: 'restaurants',\n",
       " 332: 'leave',\n",
       " 333: 'weird',\n",
       " 334: 'single',\n",
       " 335: 'dessert',\n",
       " 336: 'hair',\n",
       " 337: 'feminist',\n",
       " 338: 'civilians',\n",
       " 339: 'do',\n",
       " 340: 'gonna',\n",
       " 341: 'video',\n",
       " 342: 'ass',\n",
       " 343: '100',\n",
       " 344: 'others',\n",
       " 345: 'rather',\n",
       " 346: 'but',\n",
       " 347: 'ago',\n",
       " 348: 'attack',\n",
       " 349: 'book',\n",
       " 350: 'eat',\n",
       " 351: 'human',\n",
       " 352: '33',\n",
       " 353: 'kobane',\n",
       " 354: 'truth',\n",
       " 355: 'working',\n",
       " 356: 'pay',\n",
       " 357: 'hatred',\n",
       " 358: 'example',\n",
       " 359: 'past',\n",
       " 360: 'away',\n",
       " 361: 'out',\n",
       " 362: '#katandandre',\n",
       " 363: 'ash',\n",
       " 364: 'israel',\n",
       " 365: 'group',\n",
       " 366: 'article',\n",
       " 367: 'scoring',\n",
       " 368: 'news',\n",
       " 369: 'police',\n",
       " 370: 'saw',\n",
       " 371: 'instead',\n",
       " 372: 'liar',\n",
       " 373: 'females',\n",
       " 374: 'awful',\n",
       " 375: 'hell',\n",
       " 376: 'list',\n",
       " 377: 'calling',\n",
       " 378: 'choice',\n",
       " 379: 'sick',\n",
       " 380: 'joke',\n",
       " 381: 'too',\n",
       " 382: 'wants',\n",
       " 383: 'soon',\n",
       " 384: 'week',\n",
       " 385: 'claim',\n",
       " 386: 'there',\n",
       " 387: 'sassy',\n",
       " 388: 'shut',\n",
       " 389: 'agree',\n",
       " 390: 'reason',\n",
       " 391: 'hit',\n",
       " 392: 'slave',\n",
       " 393: 'literally',\n",
       " 394: 'dead',\n",
       " 395: 'evidence',\n",
       " 396: 'run',\n",
       " 397: 'vote',\n",
       " 398: 'via',\n",
       " 399: 'media',\n",
       " 400: 'either',\n",
       " 401: 'crazy',\n",
       " 402: 'worst',\n",
       " 403: '10',\n",
       " 404: 'violence',\n",
       " 405: 'using',\n",
       " 406: 'racist',\n",
       " 407: 'bigotry',\n",
       " 408: 'her',\n",
       " 409: 'gone',\n",
       " 410: 'money',\n",
       " 411: 'whatever',\n",
       " 412: 'bullshit',\n",
       " 413: 'self',\n",
       " 414: 'seems',\n",
       " 415: 'honestly',\n",
       " 416: 'whole',\n",
       " 417: 'lost',\n",
       " 418: 'awesome',\n",
       " 419: 'sudden',\n",
       " 420: 'comes',\n",
       " 421: 'saudi',\n",
       " 422: 'murdering',\n",
       " 423: 'again',\n",
       " 424: 'baghdadi',\n",
       " 425: 'seeing',\n",
       " 426: 'cut',\n",
       " 427: 'killing',\n",
       " 428: 'thank',\n",
       " 429: 'clearly',\n",
       " 430: 'mind',\n",
       " 431: 'uh',\n",
       " 432: 'wish',\n",
       " 433: 'speech',\n",
       " 434: 'freedom',\n",
       " 435: 'rest',\n",
       " 436: 'open',\n",
       " 437: 'change',\n",
       " 438: 'ask',\n",
       " 439: 'started',\n",
       " 440: 'declared',\n",
       " 441: 'goes',\n",
       " 442: 'story',\n",
       " 443: 'top',\n",
       " 444: 'christian',\n",
       " 445: 'vs',\n",
       " 446: 'promo',\n",
       " 447: 'difference',\n",
       " 448: 'pedophile',\n",
       " 449: 'words',\n",
       " 450: 'annoying',\n",
       " 451: 'sass',\n",
       " 452: 'gg',\n",
       " 453: 'account',\n",
       " 454: 'friends',\n",
       " 455: 'deserve',\n",
       " 456: 'fighting',\n",
       " 457: 'main',\n",
       " 458: 'excuse',\n",
       " 459: 'celine',\n",
       " 460: 'driving',\n",
       " 461: 'suck',\n",
       " 462: 'went',\n",
       " 463: 'dish',\n",
       " 464: 'sometimes',\n",
       " 465: 'ones',\n",
       " 466: 'lies',\n",
       " 467: 'country',\n",
       " 468: 'thinking',\n",
       " 469: 'low',\n",
       " 470: '#gamergate',\n",
       " 471: 'attacked',\n",
       " 472: 'remember',\n",
       " 473: 'child',\n",
       " 474: 'raped',\n",
       " 475: 'question',\n",
       " 476: 'million',\n",
       " 477: 'block',\n",
       " 478: 'rules',\n",
       " 479: 'bacon',\n",
       " 480: 'given',\n",
       " 481: 'behind',\n",
       " 482: 'fair',\n",
       " 483: 'so',\n",
       " 484: 'haha',\n",
       " 485: '#kobane',\n",
       " 486: 'all',\n",
       " 487: 'cares',\n",
       " 488: 'emilie',\n",
       " 489: 'following',\n",
       " 490: 'email',\n",
       " 491: 'social',\n",
       " 492: 'opinion',\n",
       " 493: 'land',\n",
       " 494: 'cooked',\n",
       " 495: 'culture',\n",
       " 496: 'okay',\n",
       " 497: 'course',\n",
       " 498: '#stopwadhwa2015',\n",
       " 499: 'gender',\n",
       " 500: 'karma',\n",
       " 501: 'groups',\n",
       " 502: 'blonde',\n",
       " 503: 'entire',\n",
       " 504: 'bloody',\n",
       " 505: 'horrible',\n",
       " 506: 'power',\n",
       " 507: 'happened',\n",
       " 508: 'poor',\n",
       " 509: 'gave',\n",
       " 510: 'nope',\n",
       " 511: 'eyes',\n",
       " 512: 'sense',\n",
       " 513: 'kurds',\n",
       " 514: 'reality',\n",
       " 515: 'asshole',\n",
       " 516: 'camilla',\n",
       " 517: 'sheri',\n",
       " 518: 'black',\n",
       " 519: 'barbarity',\n",
       " 520: 'majority',\n",
       " 521: 'public',\n",
       " 522: 'dog',\n",
       " 523: 'equal',\n",
       " 524: 'sounds',\n",
       " 525: 'telling',\n",
       " 526: 'quite',\n",
       " 527: 'later',\n",
       " 528: 'hadith',\n",
       " 529: 'worse',\n",
       " 530: 'wadhwa',\n",
       " 531: 'a',\n",
       " 532: 'strategically',\n",
       " 533: 'heard',\n",
       " 534: 'damn',\n",
       " 535: 'unless',\n",
       " 536: 'allowed',\n",
       " 537: 'living',\n",
       " 538: 'obviously',\n",
       " 539: 'definitely',\n",
       " 540: 'listen',\n",
       " 541: 'are',\n",
       " 542: 'piece',\n",
       " 543: 'race',\n",
       " 544: 'feeling',\n",
       " 545: 'thinks',\n",
       " 546: 'line',\n",
       " 547: 'learn',\n",
       " 548: 'almost',\n",
       " 549: 'slaves',\n",
       " 550: 'report',\n",
       " 551: 'turn',\n",
       " 552: 'scum',\n",
       " 553: 'ladies',\n",
       " 554: 'surprise',\n",
       " 555: 'answer',\n",
       " 556: 'wtf',\n",
       " 557: 'idiots',\n",
       " 558: 'season',\n",
       " 559: 'eliminated',\n",
       " 560: 'b',\n",
       " 561: 'amazing',\n",
       " 562: 'allah',\n",
       " 563: 'paid',\n",
       " 564: 'pancakes',\n",
       " 565: 'the',\n",
       " 566: 'wanted',\n",
       " 567: 'fan',\n",
       " 568: 'playing',\n",
       " 569: 'proof',\n",
       " 570: 'jewish',\n",
       " 571: 'plate',\n",
       " 572: 'opinions',\n",
       " 573: 'set',\n",
       " 574: 'comedians',\n",
       " 575: 'attacks',\n",
       " 576: 'religious',\n",
       " 577: 'etc',\n",
       " 578: 'alone',\n",
       " 579: 'kids',\n",
       " 580: 'city',\n",
       " 581: 'yup',\n",
       " 582: 'obama',\n",
       " 583: 'finally',\n",
       " 584: 'sexual',\n",
       " 585: 'shia',\n",
       " 586: 'drivers',\n",
       " 587: 'tells',\n",
       " 588: '6',\n",
       " 589: 'none',\n",
       " 590: 'hamas',\n",
       " 591: 'r',\n",
       " 592: 'absolutely',\n",
       " 593: 'rofl',\n",
       " 594: 'crap',\n",
       " 595: 'completely',\n",
       " 596: 'response',\n",
       " 597: 'bring',\n",
       " 598: 'based',\n",
       " 599: 'together',\n",
       " 600: 'sharia',\n",
       " 601: '#yesallwomen',\n",
       " 602: 'contestants',\n",
       " 603: 'knew',\n",
       " 604: 'on',\n",
       " 605: 'thor',\n",
       " 606: 'respect',\n",
       " 607: 'iraq',\n",
       " 608: 'we',\n",
       " 609: 'taking',\n",
       " 610: 'house',\n",
       " 611: 'jesus',\n",
       " 612: 'walk',\n",
       " 613: 'shows',\n",
       " 614: 'personal',\n",
       " 615: 'three',\n",
       " 616: 'in',\n",
       " 617: 'bye',\n",
       " 618: 'steve',\n",
       " 619: 'knows',\n",
       " 620: 'followers',\n",
       " 621: 'jihad',\n",
       " 622: 'matter',\n",
       " 623: 'off',\n",
       " 624: 'games',\n",
       " 625: 'sex',\n",
       " 626: 'here',\n",
       " 627: 'air',\n",
       " 628: 'mostly',\n",
       " 629: 'deal',\n",
       " 630: 'cause',\n",
       " 631: 'total',\n",
       " 632: 'minutes',\n",
       " 633: 'model',\n",
       " 634: 'states',\n",
       " 635: 'elimination',\n",
       " 636: 'glad',\n",
       " 637: 'couple',\n",
       " 638: 'speak',\n",
       " 639: 'blame',\n",
       " 640: 'zero',\n",
       " 641: 'al',\n",
       " 642: 'days',\n",
       " 643: 'code',\n",
       " 644: 'western',\n",
       " 645: 'hands',\n",
       " 646: 'came',\n",
       " 647: 'palestinians',\n",
       " 648: 'comment',\n",
       " 649: 'totally',\n",
       " 650: '8',\n",
       " 651: 'car',\n",
       " 652: 'mentions',\n",
       " 653: 'voting',\n",
       " 654: 'fun',\n",
       " 655: 'to',\n",
       " 656: 'blumenthal',\n",
       " 657: 'fail',\n",
       " 658: 'law',\n",
       " 659: 'rid',\n",
       " 660: 'laugh',\n",
       " 661: '9',\n",
       " 662: 'fear',\n",
       " 663: '20',\n",
       " 664: 'anymore',\n",
       " 665: 'episode',\n",
       " 666: 'gets',\n",
       " 667: 'clear',\n",
       " 668: 'wonder',\n",
       " 669: 'hashtag',\n",
       " 670: 'table',\n",
       " 671: 'dont',\n",
       " 672: 'happen',\n",
       " 673: 'tony',\n",
       " 674: 'giving',\n",
       " 675: 'side',\n",
       " 676: 'perfect',\n",
       " 677: 'ignorant',\n",
       " 678: 'fire',\n",
       " 679: 'peshmerga',\n",
       " 680: 'online',\n",
       " 681: 'boys',\n",
       " 682: 'forces',\n",
       " 683: '#mosul',\n",
       " 684: 'front',\n",
       " 685: 'paleo',\n",
       " 686: 'problems',\n",
       " 687: 'books',\n",
       " 688: 'cunt',\n",
       " 689: 'mad',\n",
       " 690: 'happens',\n",
       " 691: 'ugh',\n",
       " 692: 'lives',\n",
       " 693: 'genocide',\n",
       " 694: 'easy',\n",
       " 695: '#hungrycampers',\n",
       " 696: 'evil',\n",
       " 697: 'yay',\n",
       " 698: 'explain',\n",
       " 699: 'mkr',\n",
       " 700: 'legal',\n",
       " 701: 'ready',\n",
       " 702: 'coming',\n",
       " 703: 'troll',\n",
       " 704: 'seem',\n",
       " 705: 'sent',\n",
       " 706: 'announcement',\n",
       " 707: 'handle',\n",
       " 708: 'hand',\n",
       " 709: 'become',\n",
       " 710: 'favorite',\n",
       " 711: 'miss',\n",
       " 712: 'number',\n",
       " 713: 'case',\n",
       " 714: 'more',\n",
       " 715: 'kick',\n",
       " 716: 'nobody',\n",
       " 717: 'found',\n",
       " 718: 'swear',\n",
       " 719: 'ypg',\n",
       " 720: 'prefer',\n",
       " 721: 'equality',\n",
       " 722: 'party',\n",
       " 723: 'young',\n",
       " 724: 'o',\n",
       " 725: 'scores',\n",
       " 726: 'huge',\n",
       " 727: '#mykitchenrules',\n",
       " 728: 'friend',\n",
       " 729: 'google',\n",
       " 730: 'serious',\n",
       " 731: 'forced',\n",
       " 732: 'post',\n",
       " 733: 'except',\n",
       " 734: 'russian',\n",
       " 735: 'beat',\n",
       " 736: 'figure',\n",
       " 737: 'freebsd',\n",
       " 738: 'serving',\n",
       " 739: 'school',\n",
       " 740: 'safe',\n",
       " 741: '#mkr”',\n",
       " 742: 'minorities',\n",
       " 743: 'false',\n",
       " 744: 'hours',\n",
       " 745: 'beheaded',\n",
       " 746: 'reading',\n",
       " 747: 'gdc',\n",
       " 748: 'works',\n",
       " 749: 'beyond',\n",
       " 750: '12',\n",
       " 751: 'chicken',\n",
       " 752: 'source',\n",
       " 753: 'tomorrow',\n",
       " 754: 'brain',\n",
       " 755: 'putting',\n",
       " 756: 'realize',\n",
       " 757: 'd',\n",
       " 758: 'especially',\n",
       " 759: 'drunk',\n",
       " 760: 'genocidal',\n",
       " 761: '#questionsformen',\n",
       " 762: 'cool',\n",
       " 763: 'starting',\n",
       " 764: 'fake',\n",
       " 765: 'super',\n",
       " 766: 'hindus',\n",
       " 767: 'attacking',\n",
       " 768: 'level',\n",
       " 769: 'vile',\n",
       " 770: 'running',\n",
       " 771: 'disappointed',\n",
       " 772: 'experience',\n",
       " 773: 'rigged',\n",
       " 774: 'write',\n",
       " 775: 'internet',\n",
       " 776: 'info',\n",
       " 777: 'served',\n",
       " 778: 'act',\n",
       " 779: 'rob',\n",
       " 780: 'waiting',\n",
       " 781: '#cuntandandre',\n",
       " 782: '#womenagainstfeminism',\n",
       " 783: 'interesting',\n",
       " 784: 'meatballs',\n",
       " 785: 'bunch',\n",
       " 786: 'models',\n",
       " 787: 'double',\n",
       " 788: 'down',\n",
       " 789: 'hide',\n",
       " 790: 'wear',\n",
       " 791: 'near',\n",
       " 792: 'terrible',\n",
       " 793: 'logic',\n",
       " 794: 'nasty',\n",
       " 795: 'system',\n",
       " 796: 'room',\n",
       " 797: 'strong',\n",
       " 798: 'high',\n",
       " 799: 'robert',\n",
       " 800: 'forward',\n",
       " 801: 'fat',\n",
       " 802: 'what',\n",
       " 803: 'tried',\n",
       " 804: 'turkey',\n",
       " 805: 'major',\n",
       " 806: 'military',\n",
       " 807: 'n',\n",
       " 808: 'missed',\n",
       " 809: 'facts',\n",
       " 810: 'usually',\n",
       " 811: 'close',\n",
       " 812: 'yo',\n",
       " 813: 'move',\n",
       " 814: 'attention',\n",
       " 815: 'ppl',\n",
       " 816: 'issue',\n",
       " 817: '#iraq',\n",
       " 818: 'morning',\n",
       " 819: 'lack',\n",
       " 820: 'needed',\n",
       " 821: 'radical',\n",
       " 822: 'exterminated',\n",
       " 823: 'cant',\n",
       " 824: 'http…',\n",
       " 825: 'sound',\n",
       " 826: 'evans',\n",
       " 827: 'ridiculous',\n",
       " 828: 'baby',\n",
       " 829: 'jokes',\n",
       " 830: 'class',\n",
       " 831: 'about',\n",
       " 832: 'press',\n",
       " 833: 'bitches',\n",
       " 834: 'phone',\n",
       " 835: '#twitterkurds',\n",
       " 836: 'lots',\n",
       " 837: 'certain',\n",
       " 838: 'christianity',\n",
       " 839: 'prove',\n",
       " 840: 'mention',\n",
       " 841: 'nazis',\n",
       " 842: '50',\n",
       " 843: 'create',\n",
       " 844: 'mouth',\n",
       " 845: 'picture',\n",
       " 846: '17',\n",
       " 847: 'data',\n",
       " 848: 'throw',\n",
       " 849: 'months',\n",
       " 850: 'rounds',\n",
       " 851: 'turned',\n",
       " 852: 'likely',\n",
       " 853: 'countries',\n",
       " 854: 'europe',\n",
       " 855: 'fought',\n",
       " 856: 'taken',\n",
       " 857: 'wa',\n",
       " 858: 'specific',\n",
       " 859: 'luck',\n",
       " 860: 'puppy',\n",
       " 861: 'outside',\n",
       " 862: 'red',\n",
       " 863: 'victims',\n",
       " 864: 'lynn',\n",
       " 865: 'punch',\n",
       " 866: 'small',\n",
       " 867: 'facebook',\n",
       " 868: 'bigot',\n",
       " 869: 'control',\n",
       " 870: 'buy',\n",
       " 871: 'crime',\n",
       " 872: 'menu',\n",
       " 873: 'hilarious',\n",
       " 874: 'shaz',\n",
       " 875: 'victim',\n",
       " 876: 'lived',\n",
       " 877: 'cooks',\n",
       " 878: 'for',\n",
       " 879: 'earth',\n",
       " 880: 'original',\n",
       " 881: 'eating',\n",
       " 882: 'raqqa',\n",
       " 883: 'speaking',\n",
       " 884: 'laughing',\n",
       " 885: 'short',\n",
       " 886: 'played',\n",
       " 887: 'terrorism',\n",
       " 888: 'kid',\n",
       " 889: 'multiple',\n",
       " 890: 'age',\n",
       " 891: 'worth',\n",
       " 892: 'complete',\n",
       " 893: 'die',\n",
       " 894: 'threats',\n",
       " 895: 'gosh',\n",
       " 896: 'target',\n",
       " 897: 'oapi',\n",
       " 898: 'babies',\n",
       " 899: '000',\n",
       " 900: 'comments',\n",
       " 901: 'expect',\n",
       " 902: 'crying',\n",
       " 903: 'hoping',\n",
       " 904: 'voice',\n",
       " 905: 'disgusting',\n",
       " 906: 'verses',\n",
       " 907: 'moment',\n",
       " 908: 'comp',\n",
       " 909: 'wife',\n",
       " 910: 'scored',\n",
       " 911: 'mother',\n",
       " 912: 'mom',\n",
       " 913: 'biggest',\n",
       " 914: 'fine',\n",
       " 915: 'bs',\n",
       " 916: 'gross',\n",
       " 917: 'stick',\n",
       " 918: 'ignore',\n",
       " 919: 'coffee',\n",
       " 920: 'pc',\n",
       " 921: 'eggs',\n",
       " 922: 'pork',\n",
       " 923: 'writing',\n",
       " 924: 'second',\n",
       " 925: 'hi',\n",
       " 926: 'possible',\n",
       " 927: 'sell',\n",
       " 928: 'result',\n",
       " 929: '#syria',\n",
       " 930: 'militia',\n",
       " 931: 'force',\n",
       " 932: 'dislike',\n",
       " 933: 'hating',\n",
       " 934: 'conspiracy',\n",
       " 935: 'chance',\n",
       " 936: 'laws',\n",
       " 937: 'boy',\n",
       " 938: 'holy',\n",
       " 939: 'with',\n",
       " 940: 'alive',\n",
       " 941: 'directly',\n",
       " 942: 'gotta',\n",
       " 943: 'step',\n",
       " 944: 'cat',\n",
       " 945: 'notice',\n",
       " 946: 'army',\n",
       " 947: 'breaking',\n",
       " 948: 'american',\n",
       " 949: 'site',\n",
       " 950: 'mankind',\n",
       " 951: 'lady',\n",
       " 952: 'break',\n",
       " 953: 'often',\n",
       " 954: 'meant',\n",
       " 955: 'silence',\n",
       " 956: 'population',\n",
       " 957: '30',\n",
       " 958: 'shame',\n",
       " 959: 'have',\n",
       " 960: 'insane',\n",
       " 961: 'dinner',\n",
       " 962: 'bother',\n",
       " 963: 'posted',\n",
       " 964: 'stuck',\n",
       " 965: 'add',\n",
       " 966: 'companies',\n",
       " 967: 'sorbet',\n",
       " 968: 'htt…',\n",
       " 969: 'peace',\n",
       " 970: 'definition',\n",
       " 971: 'mine',\n",
       " 972: 'straight',\n",
       " 973: 'feelings',\n",
       " 974: 'lose',\n",
       " 975: 'provide',\n",
       " 976: 'racism',\n",
       " 977: 'bet',\n",
       " 978: 'claims',\n",
       " 979: 'created',\n",
       " 980: 'met',\n",
       " 981: 'forever',\n",
       " 982: 'ur',\n",
       " 983: 'accounts',\n",
       " 984: 'third',\n",
       " 985: 'america',\n",
       " 986: 'pictures',\n",
       " 987: 'gays',\n",
       " 988: 'asked',\n",
       " 989: 'sad',\n",
       " 990: 'science',\n",
       " 991: 'producers',\n",
       " 992: 'issues',\n",
       " 993: 'leo',\n",
       " 994: 'unfair',\n",
       " 995: '15',\n",
       " 996: 'assholes',\n",
       " 997: 'family',\n",
       " 998: 'wearing',\n",
       " 999: 'serve',\n",
       " 1000: 'cult',\n",
       " ...}"
      ]
     },
     "execution_count": 68,
     "metadata": {},
     "output_type": "execute_result"
    }
   ],
   "source": [
    "tokenizer.index_word"
   ]
  },
  {
   "cell_type": "code",
   "execution_count": 58,
   "metadata": {},
   "outputs": [],
   "source": [
    "import json\n",
    "with open('formspring_blstm_attention_sswe_50_dict.json', 'w') as fp:\n",
    "    json.dump(tokenizer.word_index, fp)"
   ]
  },
  {
   "cell_type": "code",
   "execution_count": 69,
   "metadata": {},
   "outputs": [],
   "source": [
    "import json\n",
    "with open('formspring_blstm_attention_sswe_50_reversedict.json', 'w') as fp:\n",
    "    json.dump(tokenizer.index_word, fp)\n",
    "    \n"
   ]
  },
  {
   "cell_type": "code",
   "execution_count": 71,
   "metadata": {},
   "outputs": [
    {
     "ename": "TypeError",
     "evalue": "unsupported operand type(s) for -: 'dict' and 'int'",
     "output_type": "error",
     "traceback": [
      "\u001b[1;31m---------------------------------------------------------------------------\u001b[0m",
      "\u001b[1;31mTypeError\u001b[0m                                 Traceback (most recent call last)",
      "\u001b[1;32m~\\AppData\\Local\\Temp/ipykernel_8528/2420330937.py\u001b[0m in \u001b[0;36m<module>\u001b[1;34m\u001b[0m\n\u001b[1;32m----> 1\u001b[1;33m \u001b[0mtokenizer\u001b[0m\u001b[1;33m.\u001b[0m\u001b[0mindex_word\u001b[0m\u001b[1;33m-\u001b[0m\u001b[1;36m1\u001b[0m\u001b[1;33m\u001b[0m\u001b[1;33m\u001b[0m\u001b[0m\n\u001b[0m",
      "\u001b[1;31mTypeError\u001b[0m: unsupported operand type(s) for -: 'dict' and 'int'"
     ]
    }
   ],
   "source": []
  },
  {
   "cell_type": "code",
   "execution_count": 22,
   "metadata": {
    "id": "LRDBB4KSmseu",
    "pycharm": {
     "name": "#%%\n"
    }
   },
   "outputs": [],
   "source": [
    "from keras.layers import Embedding\n",
    "from tensorflow.keras import initializers\n",
    "\n",
    "vocab_size = len(tokenizer.word_index)+1\n",
    "\n",
    "random_embedder = Embedding(vocab_size, 200, input_length=dim, trainable=True)\n",
    "glove_embedding = Embedding(vocab_size, 200, input_length=dim, embeddings_initializer=initializers.Constant(glove_weights),\n",
    "                            trainable=False)\n",
    "word2vec_embedding = Embedding(vocab_size, 300, input_length=dim, embeddings_initializer=initializers.Constant(word2vec_weights),\n",
    "                              trainable=False)"
   ]
  },
  {
   "cell_type": "markdown",
   "metadata": {
    "id": "cdCOlM6Emseu",
    "pycharm": {
     "name": "#%% md\n"
    }
   },
   "source": [
    "### Load DL Models and Run Them"
   ]
  },
  {
   "cell_type": "code",
   "execution_count": 23,
   "metadata": {
    "id": "0cjwVFK-mseu",
    "pycharm": {
     "name": "#%%\n"
    }
   },
   "outputs": [],
   "source": [
    "lstm_random = lstm_keras(dim,n_classes,random_embedder)\n",
    "lstm_random_over = lstm_keras(dim,n_classes,random_embedder)\n",
    "lstm_glove = lstm_keras(dim,n_classes,glove_embedding)\n",
    "lstm_glove_over = lstm_keras(dim,n_classes,glove_embedding)\n",
    "lstm_word2vec = lstm_keras(dim,n_classes,word2vec_embedding)\n",
    "lstm_word2vec_over = lstm_keras(dim,n_classes,word2vec_embedding)"
   ]
  },
  {
   "cell_type": "code",
   "execution_count": 24,
   "metadata": {
    "id": "YfAp2aqpmseu",
    "pycharm": {
     "name": "#%%\n"
    }
   },
   "outputs": [],
   "source": [
    "blstm_random = blstm(dim,n_classes,random_embedder)\n",
    "blstm_random_over = blstm(dim,n_classes,random_embedder)\n",
    "blstm_glove = blstm(dim,n_classes,glove_embedding)\n",
    "blstm_glove_over = blstm(dim,n_classes,glove_embedding)\n",
    "blstm_word2vec = blstm(dim,n_classes,word2vec_embedding)\n",
    "blstm_word2vec_over = blstm(dim,n_classes,word2vec_embedding)"
   ]
  },
  {
   "cell_type": "code",
   "execution_count": 25,
   "metadata": {
    "id": "pe0_vauOmsev",
    "pycharm": {
     "name": "#%%\n"
    }
   },
   "outputs": [],
   "source": [
    "blstm_att_random = blstm_att(dim,n_classes,random_embedder)\n",
    "blstm_att_random_over = blstm_att(dim,n_classes,random_embedder)\n",
    "blstm_att_glove = blstm_att(dim,n_classes,glove_embedding)\n",
    "blstm_att_glove_over = blstm_att(dim,n_classes,glove_embedding)\n",
    "blstm_att_word2vec = blstm_att(dim,n_classes,word2vec_embedding)\n",
    "blstm_att_word2vec_over = blstm_att(dim,n_classes,word2vec_embedding)"
   ]
  },
  {
   "cell_type": "code",
   "execution_count": 26,
   "metadata": {
    "id": "uk7T0YSkmsev",
    "pycharm": {
     "name": "#%%\n"
    }
   },
   "outputs": [],
   "source": [
    "cnn_random = cnn_keras(dim,n_classes,random_embedder)\n",
    "cnn_random_over = cnn_keras(dim,n_classes,random_embedder)\n",
    "cnn_glove = cnn_keras(dim,n_classes,glove_embedding)\n",
    "cnn_glove_over = cnn_keras(dim,n_classes,glove_embedding)\n",
    "cnn_word2vec = cnn_keras(dim,n_classes,word2vec_embedding)\n",
    "cnn_word2vec_over = cnn_keras(dim,n_classes,word2vec_embedding)"
   ]
  },
  {
   "cell_type": "markdown",
   "metadata": {
    "id": "V7HlUJilmsev",
    "pycharm": {
     "name": "#%% md\n"
    }
   },
   "source": [
    "### Big Blob of Fits"
   ]
  },
  {
   "cell_type": "code",
   "execution_count": null,
   "metadata": {
    "id": "95ONmz__msev",
    "pycharm": {
     "name": "#%%\n"
    }
   },
   "outputs": [],
   "source": [
    "lstm_random.fit(X_train, y_train_onehot, epochs=30, validation_data=(X_val, y_val_onehot))\n",
    "lstm_random_over.fit(X_train_over, y_train_over_onehot, epochs=30, validation_data=(X_val, y_val_onehot))\n",
    "lstm_glove.fit(X_train, y_train_onehot, epochs=30, validation_data=(X_val, y_val_onehot))\n",
    "lstm_glove_over.fit(X_train_over, y_train_over_onehot, epochs=30, validation_data=(X_val, y_val_onehot))\n",
    "lstm_word2vec.fit(X_train, y_train_onehot, epochs=30, validation_data=(X_val, y_val_onehot))\n",
    "lstm_word2vec_over.fit(X_train_over, y_train_over_onehot, epochs=30, validation_data=(X_val, y_val_onehot))\n",
    "blstm_random.fit(X_train, y_train_onehot, epochs=30, validation_data=(X_val, y_val_onehot))\n",
    "blstm_random_over.fit(X_train_over, y_train_over_onehot, epochs=30, validation_data=(X_val, y_val_onehot))\n",
    "blstm_glove.fit(X_train, y_train_onehot, epochs=30, validation_data=(X_val, y_val_onehot))\n",
    "blstm_glove_over.fit(X_train_over, y_train_over_onehot, epochs=30, validation_data=(X_val, y_val_onehot))\n",
    "blstm_word2vec.fit(X_train, y_train_onehot, epochs=30, validation_data=(X_val, y_val_onehot))\n",
    "blstm_word2vec_over.fit(X_train_over, y_train_over_onehot, epochs=30, validation_data=(X_val, y_val_onehot))\n",
    "blstm_att_random.fit(X_train, y_train_onehot, epochs=30, validation_data=(X_val, y_val_onehot))\n",
    "blstm_att_random_over.fit(X_train_over, y_train_over_onehot, epochs=30, validation_data=(X_val, y_val_onehot))\n",
    "blstm_att_glove.fit(X_train, y_train_onehot, epochs=30, validation_data=(X_val, y_val_onehot))\n",
    "blstm_att_glove_over.fit(X_train_over, y_train_over_onehot, epochs=30, validation_data=(X_val, y_val_onehot))\n",
    "blstm_att_word2vec.fit(X_train, y_train_onehot, epochs=30, validation_data=(X_val, y_val_onehot))\n",
    "blstm_att_word2vec_over.fit(X_train_over, y_train_over_onehot, epochs=30, validation_data=(X_val, y_val_onehot))\n",
    "cnn_random.fit(X_train, y_train_onehot, epochs=30, validation_data=(X_val, y_val_onehot))\n",
    "cnn_random_over.fit(X_train_over, y_train_over_onehot, epochs=30, validation_data=(X_val, y_val_onehot))\n",
    "cnn_glove.fit(X_train, y_train_onehot, epochs=30, validation_data=(X_val, y_val_onehot))\n",
    "cnn_glove_over.fit(X_train_over, y_train_over_onehot, epochs=30, validation_data=(X_val, y_val_onehot))\n",
    "cnn_word2vec.fit(X_train, y_train_onehot, epochs=30, validation_data=(X_val, y_val_onehot))\n",
    "cnn_word2vec_over.fit(X_train_over, y_train_over_onehot, epochs=30, validation_data=(X_val, y_val_onehot))"
   ]
  },
  {
   "cell_type": "code",
   "execution_count": 18,
   "metadata": {
    "id": "-QZ-y1yZmsev",
    "pycharm": {
     "name": "#%%\n"
    }
   },
   "outputs": [],
   "source": [
    "model_list = [lstm_random,\n",
    "lstm_random_over,\n",
    "lstm_glove,\n",
    "lstm_glove_over,\n",
    "lstm_word2vec,\n",
    "lstm_word2vec_over,\n",
    "blstm_random,\n",
    "blstm_random_over,\n",
    "blstm_glove,\n",
    "blstm_glove_over,\n",
    "blstm_word2vec,\n",
    "blstm_word2vec_over,\n",
    "blstm_att_random,\n",
    "blstm_att_random_over,\n",
    "blstm_att_glove,\n",
    "blstm_att_glove_over,\n",
    "blstm_att_word2vec,\n",
    "blstm_att_word2vec_over,\n",
    "cnn_random,\n",
    "cnn_random_over,\n",
    "cnn_glove,\n",
    "cnn_glove_over,\n",
    "cnn_word2vec,\n",
    "cnn_word2vec_over]"
   ]
  },
  {
   "cell_type": "code",
   "execution_count": 20,
   "metadata": {
    "id": "FB0wJzabsYFD"
   },
   "outputs": [],
   "source": [
    "model_name_list = ['lstm_random',\n",
    "'lstm_random_over',\n",
    "'lstm_glove',\n",
    "'lstm_glove_over',\n",
    "'lstm_word2vec',\n",
    "'lstm_word2vec_over',\n",
    "'blstm_random',\n",
    "'blstm_random_over',\n",
    "'blstm_glove',\n",
    "'blstm_glove_over',\n",
    "'blstm_word2vec',\n",
    "'blstm_word2vec_over',\n",
    "'blstm_att_random',\n",
    "'blstm_att_random_over',\n",
    "'blstm_att_glove',\n",
    "'blstm_att_glove_over',\n",
    "'blstm_att_word2vec',\n",
    "'blstm_att_word2vec_over',\n",
    "'cnn_random',\n",
    "'cnn_random_over',\n",
    "'cnn_glove',\n",
    "'cnn_glove_over',\n",
    "'cnn_word2vec',\n",
    "'cnn_word2vec_over']"
   ]
  },
  {
   "cell_type": "code",
   "execution_count": null,
   "metadata": {
    "id": "pUatc9FVsbri"
   },
   "outputs": [],
   "source": [
    "# facility to save the fitted model\n",
    "import shutil\n",
    "from google.colab import files\n",
    "\n",
    "for model in model_list:\n",
    "    index = model_list.index(model)\n",
    "    model_name = model_name_list[index]\n",
    "    model.save(model_name)\n",
    "\n",
    "    shutil.make_archive(model_name, 'zip', model_name)\n",
    "    shutil.move(f\"{model_name}.zip\", f\"/content/drive/MyDrive/Uni/Experiment Design/Ass2/Deep Learning/models_twitter/{model_name}.zip\")"
   ]
  },
  {
   "cell_type": "code",
   "execution_count": 23,
   "metadata": {
    "colab": {
     "base_uri": "https://localhost:8080/",
     "height": 1000
    },
    "id": "rT7DN41yniKc",
    "outputId": "74efdbe5-3eff-4361-d296-5286f7c77d23"
   },
   "outputs": [
    {
     "name": "stdout",
     "output_type": "stream",
     "text": [
      "lstm_random\n",
      "              precision    recall  f1-score   support\n",
      "\n",
      "           0       0.80      0.83      0.82      1087\n",
      "           1       0.33      0.70      0.45       195\n",
      "           2       0.86      0.15      0.25       327\n",
      "\n",
      "    accuracy                           0.68      1609\n",
      "   macro avg       0.66      0.56      0.50      1609\n",
      "weighted avg       0.75      0.68      0.66      1609\n",
      "\n"
     ]
    },
    {
     "data": {
      "image/png": "[encoded data removed]",
      "text/plain": [
       "<Figure size 432x288 with 2 Axes>"
      ]
     },
     "metadata": {
      "needs_background": "light"
     },
     "output_type": "display_data"
    },
    {
     "name": "stdout",
     "output_type": "stream",
     "text": [
      "lstm_random_over\n",
      "              precision    recall  f1-score   support\n",
      "\n",
      "           0       0.73      0.96      0.83      1087\n",
      "           1       0.76      0.31      0.44       195\n",
      "           2       0.75      0.21      0.33       327\n",
      "\n",
      "    accuracy                           0.73      1609\n",
      "   macro avg       0.75      0.50      0.54      1609\n",
      "weighted avg       0.74      0.73      0.68      1609\n",
      "\n"
     ]
    },
    {
     "data": {
      "image/png": "[encoded data removed]",
      "text/plain": [
       "<Figure size 432x288 with 2 Axes>"
      ]
     },
     "metadata": {
      "needs_background": "light"
     },
     "output_type": "display_data"
    },
    {
     "name": "stdout",
     "output_type": "stream",
     "text": [
      "lstm_glove\n",
      "              precision    recall  f1-score   support\n",
      "\n",
      "           0       0.84      0.92      0.88      1087\n",
      "           1       0.75      0.70      0.72       195\n",
      "           2       0.81      0.60      0.69       327\n",
      "\n",
      "    accuracy                           0.83      1609\n",
      "   macro avg       0.80      0.74      0.76      1609\n",
      "weighted avg       0.83      0.83      0.82      1609\n",
      "\n"
     ]
    },
    {
     "data": {
      "image/png": "[encoded data removed]",
      "text/plain": [
       "<Figure size 432x288 with 2 Axes>"
      ]
     },
     "metadata": {
      "needs_background": "light"
     },
     "output_type": "display_data"
    },
    {
     "name": "stdout",
     "output_type": "stream",
     "text": [
      "lstm_glove_over\n",
      "              precision    recall  f1-score   support\n",
      "\n",
      "           0       0.89      0.78      0.83      1087\n",
      "           1       0.68      0.85      0.75       195\n",
      "           2       0.59      0.74      0.66       327\n",
      "\n",
      "    accuracy                           0.78      1609\n",
      "   macro avg       0.72      0.79      0.75      1609\n",
      "weighted avg       0.80      0.78      0.79      1609\n",
      "\n"
     ]
    },
    {
     "data": {
      "image/png": "[encoded data removed]",
      "text/plain": [
       "<Figure size 432x288 with 2 Axes>"
      ]
     },
     "metadata": {
      "needs_background": "light"
     },
     "output_type": "display_data"
    },
    {
     "name": "stdout",
     "output_type": "stream",
     "text": [
      "lstm_word2vec\n",
      "              precision    recall  f1-score   support\n",
      "\n",
      "           0       0.84      0.92      0.88      1087\n",
      "           1       0.77      0.75      0.76       195\n",
      "           2       0.80      0.57      0.66       327\n",
      "\n",
      "    accuracy                           0.83      1609\n",
      "   macro avg       0.81      0.75      0.77      1609\n",
      "weighted avg       0.82      0.83      0.82      1609\n",
      "\n"
     ]
    },
    {
     "data": {
      "image/png": "[encoded data removed]",
      "text/plain": [
       "<Figure size 432x288 with 2 Axes>"
      ]
     },
     "metadata": {
      "needs_background": "light"
     },
     "output_type": "display_data"
    },
    {
     "name": "stdout",
     "output_type": "stream",
     "text": [
      "lstm_word2vec_over\n",
      "              precision    recall  f1-score   support\n",
      "\n",
      "           0       0.87      0.77      0.82      1087\n",
      "           1       0.65      0.78      0.71       195\n",
      "           2       0.59      0.76      0.66       327\n",
      "\n",
      "    accuracy                           0.77      1609\n",
      "   macro avg       0.71      0.77      0.73      1609\n",
      "weighted avg       0.79      0.77      0.77      1609\n",
      "\n"
     ]
    },
    {
     "data": {
      "image/png": "[encoded data removed]",
      "text/plain": [
       "<Figure size 432x288 with 2 Axes>"
      ]
     },
     "metadata": {
      "needs_background": "light"
     },
     "output_type": "display_data"
    },
    {
     "name": "stdout",
     "output_type": "stream",
     "text": [
      "blstm_random\n",
      "              precision    recall  f1-score   support\n",
      "\n",
      "           0       0.82      0.82      0.82      1087\n",
      "           1       0.54      0.72      0.62       195\n",
      "           2       0.65      0.52      0.57       327\n",
      "\n",
      "    accuracy                           0.75      1609\n",
      "   macro avg       0.67      0.69      0.67      1609\n",
      "weighted avg       0.75      0.75      0.75      1609\n",
      "\n"
     ]
    },
    {
     "data": {
      "image/png": "[encoded data removed]",
      "text/plain": [
       "<Figure size 432x288 with 2 Axes>"
      ]
     },
     "metadata": {
      "needs_background": "light"
     },
     "output_type": "display_data"
    },
    {
     "name": "stdout",
     "output_type": "stream",
     "text": [
      "blstm_random_over\n",
      "              precision    recall  f1-score   support\n",
      "\n",
      "           0       0.78      0.90      0.84      1087\n",
      "           1       0.69      0.51      0.59       195\n",
      "           2       0.66      0.42      0.51       327\n",
      "\n",
      "    accuracy                           0.76      1609\n",
      "   macro avg       0.71      0.61      0.65      1609\n",
      "weighted avg       0.74      0.76      0.74      1609\n",
      "\n"
     ]
    },
    {
     "data": {
      "image/png": "[encoded data removed]",
      "text/plain": [
       "<Figure size 432x288 with 2 Axes>"
      ]
     },
     "metadata": {
      "needs_background": "light"
     },
     "output_type": "display_data"
    },
    {
     "name": "stdout",
     "output_type": "stream",
     "text": [
      "blstm_glove\n",
      "              precision    recall  f1-score   support\n",
      "\n",
      "           0       0.85      0.90      0.87      1087\n",
      "           1       0.72      0.72      0.72       195\n",
      "           2       0.77      0.61      0.68       327\n",
      "\n",
      "    accuracy                           0.82      1609\n",
      "   macro avg       0.78      0.74      0.76      1609\n",
      "weighted avg       0.82      0.82      0.81      1609\n",
      "\n"
     ]
    },
    {
     "data": {
      "image/png": "[encoded data removed]",
      "text/plain": [
       "<Figure size 432x288 with 2 Axes>"
      ]
     },
     "metadata": {
      "needs_background": "light"
     },
     "output_type": "display_data"
    },
    {
     "name": "stdout",
     "output_type": "stream",
     "text": [
      "blstm_glove_over\n",
      "              precision    recall  f1-score   support\n",
      "\n",
      "           0       0.88      0.82      0.85      1087\n",
      "           1       0.72      0.78      0.75       195\n",
      "           2       0.63      0.74      0.68       327\n",
      "\n",
      "    accuracy                           0.80      1609\n",
      "   macro avg       0.74      0.78      0.76      1609\n",
      "weighted avg       0.81      0.80      0.80      1609\n",
      "\n"
     ]
    },
    {
     "data": {
      "image/png": "[encoded data removed]",
      "text/plain": [
       "<Figure size 432x288 with 2 Axes>"
      ]
     },
     "metadata": {
      "needs_background": "light"
     },
     "output_type": "display_data"
    },
    {
     "name": "stdout",
     "output_type": "stream",
     "text": [
      "blstm_word2vec\n",
      "              precision    recall  f1-score   support\n",
      "\n",
      "           0       0.83      0.93      0.88      1087\n",
      "           1       0.76      0.66      0.71       195\n",
      "           2       0.82      0.59      0.69       327\n",
      "\n",
      "    accuracy                           0.83      1609\n",
      "   macro avg       0.81      0.73      0.76      1609\n",
      "weighted avg       0.82      0.83      0.82      1609\n",
      "\n"
     ]
    },
    {
     "data": {
      "image/png": "[encoded data removed]",
      "text/plain": [
       "<Figure size 432x288 with 2 Axes>"
      ]
     },
     "metadata": {
      "needs_background": "light"
     },
     "output_type": "display_data"
    },
    {
     "name": "stdout",
     "output_type": "stream",
     "text": [
      "blstm_word2vec_over\n",
      "              precision    recall  f1-score   support\n",
      "\n",
      "           0       0.85      0.84      0.84      1087\n",
      "           1       0.69      0.75      0.72       195\n",
      "           2       0.66      0.65      0.65       327\n",
      "\n",
      "    accuracy                           0.79      1609\n",
      "   macro avg       0.73      0.75      0.74      1609\n",
      "weighted avg       0.79      0.79      0.79      1609\n",
      "\n"
     ]
    },
    {
     "data": {
      "image/png": "[encoded data removed]",
      "text/plain": [
       "<Figure size 432x288 with 2 Axes>"
      ]
     },
     "metadata": {
      "needs_background": "light"
     },
     "output_type": "display_data"
    },
    {
     "name": "stdout",
     "output_type": "stream",
     "text": [
      "blstm_att_random\n",
      "              precision    recall  f1-score   support\n",
      "\n",
      "           0       0.78      0.89      0.83      1087\n",
      "           1       0.63      0.63      0.63       195\n",
      "           2       0.71      0.37      0.49       327\n",
      "\n",
      "    accuracy                           0.76      1609\n",
      "   macro avg       0.71      0.63      0.65      1609\n",
      "weighted avg       0.75      0.76      0.74      1609\n",
      "\n"
     ]
    },
    {
     "data": {
      "image/png": "[encoded data removed]",
      "text/plain": [
       "<Figure size 432x288 with 2 Axes>"
      ]
     },
     "metadata": {
      "needs_background": "light"
     },
     "output_type": "display_data"
    },
    {
     "name": "stdout",
     "output_type": "stream",
     "text": [
      "blstm_att_random_over\n",
      "              precision    recall  f1-score   support\n",
      "\n",
      "           0       0.84      0.17      0.28      1087\n",
      "           1       0.67      0.21      0.32       195\n",
      "           2       0.23      0.94      0.37       327\n",
      "\n",
      "    accuracy                           0.33      1609\n",
      "   macro avg       0.58      0.44      0.32      1609\n",
      "weighted avg       0.69      0.33      0.30      1609\n",
      "\n"
     ]
    },
    {
     "data": {
      "image/png": "[encoded data removed]",
      "text/plain": [
       "<Figure size 432x288 with 2 Axes>"
      ]
     },
     "metadata": {
      "needs_background": "light"
     },
     "output_type": "display_data"
    },
    {
     "name": "stdout",
     "output_type": "stream",
     "text": [
      "blstm_att_glove\n",
      "              precision    recall  f1-score   support\n",
      "\n",
      "           0       0.86      0.88      0.87      1087\n",
      "           1       0.78      0.66      0.71       195\n",
      "           2       0.71      0.70      0.71       327\n",
      "\n",
      "    accuracy                           0.82      1609\n",
      "   macro avg       0.78      0.75      0.76      1609\n",
      "weighted avg       0.82      0.82      0.82      1609\n",
      "\n"
     ]
    },
    {
     "data": {
      "image/png": "[encoded data removed]",
      "text/plain": [
       "<Figure size 432x288 with 2 Axes>"
      ]
     },
     "metadata": {
      "needs_background": "light"
     },
     "output_type": "display_data"
    },
    {
     "name": "stdout",
     "output_type": "stream",
     "text": [
      "blstm_att_glove_over\n",
      "              precision    recall  f1-score   support\n",
      "\n",
      "           0       0.88      0.79      0.83      1087\n",
      "           1       0.72      0.79      0.75       195\n",
      "           2       0.60      0.75      0.66       327\n",
      "\n",
      "    accuracy                           0.78      1609\n",
      "   macro avg       0.73      0.78      0.75      1609\n",
      "weighted avg       0.80      0.78      0.79      1609\n",
      "\n"
     ]
    },
    {
     "data": {
      "image/png": "[encoded data removed]",
      "text/plain": [
       "<Figure size 432x288 with 2 Axes>"
      ]
     },
     "metadata": {
      "needs_background": "light"
     },
     "output_type": "display_data"
    },
    {
     "name": "stdout",
     "output_type": "stream",
     "text": [
      "blstm_att_word2vec\n",
      "              precision    recall  f1-score   support\n",
      "\n",
      "           0       0.85      0.85      0.85      1087\n",
      "           1       0.71      0.69      0.70       195\n",
      "           2       0.67      0.69      0.68       327\n",
      "\n",
      "    accuracy                           0.80      1609\n",
      "   macro avg       0.74      0.74      0.74      1609\n",
      "weighted avg       0.80      0.80      0.80      1609\n",
      "\n"
     ]
    },
    {
     "data": {
      "image/png": "[encoded data removed]",
      "text/plain": [
       "<Figure size 432x288 with 2 Axes>"
      ]
     },
     "metadata": {
      "needs_background": "light"
     },
     "output_type": "display_data"
    },
    {
     "name": "stdout",
     "output_type": "stream",
     "text": [
      "blstm_att_word2vec_over\n",
      "              precision    recall  f1-score   support\n",
      "\n",
      "           0       0.86      0.84      0.85      1087\n",
      "           1       0.69      0.73      0.71       195\n",
      "           2       0.65      0.68      0.67       327\n",
      "\n",
      "    accuracy                           0.79      1609\n",
      "   macro avg       0.73      0.75      0.74      1609\n",
      "weighted avg       0.79      0.79      0.79      1609\n",
      "\n"
     ]
    },
    {
     "data": {
      "image/png": "[encoded data removed]",
      "text/plain": [
       "<Figure size 432x288 with 2 Axes>"
      ]
     },
     "metadata": {
      "needs_background": "light"
     },
     "output_type": "display_data"
    },
    {
     "name": "stdout",
     "output_type": "stream",
     "text": [
      "cnn_random\n",
      "              precision    recall  f1-score   support\n",
      "\n",
      "           0       0.83      0.83      0.83      1087\n",
      "           1       0.60      0.68      0.64       195\n",
      "           2       0.64      0.60      0.62       327\n",
      "\n",
      "    accuracy                           0.76      1609\n",
      "   macro avg       0.69      0.70      0.69      1609\n",
      "weighted avg       0.76      0.76      0.76      1609\n",
      "\n"
     ]
    },
    {
     "data": {
      "image/png": "[encoded data removed]",
      "text/plain": [
       "<Figure size 432x288 with 2 Axes>"
      ]
     },
     "metadata": {
      "needs_background": "light"
     },
     "output_type": "display_data"
    },
    {
     "name": "stdout",
     "output_type": "stream",
     "text": [
      "cnn_random_over\n",
      "              precision    recall  f1-score   support\n",
      "\n",
      "           0       0.83      0.83      0.83      1087\n",
      "           1       0.63      0.64      0.63       195\n",
      "           2       0.61      0.60      0.60       327\n",
      "\n",
      "    accuracy                           0.76      1609\n",
      "   macro avg       0.69      0.69      0.69      1609\n",
      "weighted avg       0.76      0.76      0.76      1609\n",
      "\n"
     ]
    },
    {
     "data": {
      "image/png": "[encoded data removed]",
      "text/plain": [
       "<Figure size 432x288 with 2 Axes>"
      ]
     },
     "metadata": {
      "needs_background": "light"
     },
     "output_type": "display_data"
    },
    {
     "name": "stdout",
     "output_type": "stream",
     "text": [
      "cnn_glove\n",
      "              precision    recall  f1-score   support\n",
      "\n",
      "           0       0.82      0.93      0.87      1087\n",
      "           1       0.78      0.64      0.70       195\n",
      "           2       0.79      0.55      0.65       327\n",
      "\n",
      "    accuracy                           0.82      1609\n",
      "   macro avg       0.80      0.71      0.74      1609\n",
      "weighted avg       0.81      0.82      0.81      1609\n",
      "\n"
     ]
    },
    {
     "data": {
      "image/png": "[encoded data removed]",
      "text/plain": [
       "<Figure size 432x288 with 2 Axes>"
      ]
     },
     "metadata": {
      "needs_background": "light"
     },
     "output_type": "display_data"
    },
    {
     "name": "stdout",
     "output_type": "stream",
     "text": [
      "cnn_glove_over\n",
      "              precision    recall  f1-score   support\n",
      "\n",
      "           0       0.85      0.89      0.87      1087\n",
      "           1       0.72      0.77      0.74       195\n",
      "           2       0.75      0.61      0.67       327\n",
      "\n",
      "    accuracy                           0.82      1609\n",
      "   macro avg       0.77      0.76      0.76      1609\n",
      "weighted avg       0.81      0.82      0.81      1609\n",
      "\n"
     ]
    },
    {
     "data": {
      "image/png": "[encoded data removed]",
      "text/plain": [
       "<Figure size 432x288 with 2 Axes>"
      ]
     },
     "metadata": {
      "needs_background": "light"
     },
     "output_type": "display_data"
    },
    {
     "name": "stdout",
     "output_type": "stream",
     "text": [
      "cnn_word2vec\n",
      "              precision    recall  f1-score   support\n",
      "\n",
      "           0       0.81      0.92      0.86      1087\n",
      "           1       0.76      0.61      0.67       195\n",
      "           2       0.79      0.53      0.63       327\n",
      "\n",
      "    accuracy                           0.80      1609\n",
      "   macro avg       0.79      0.69      0.72      1609\n",
      "weighted avg       0.80      0.80      0.79      1609\n",
      "\n"
     ]
    },
    {
     "data": {
      "image/png": "[encoded data removed]",
      "text/plain": [
       "<Figure size 432x288 with 2 Axes>"
      ]
     },
     "metadata": {
      "needs_background": "light"
     },
     "output_type": "display_data"
    },
    {
     "name": "stdout",
     "output_type": "stream",
     "text": [
      "cnn_word2vec_over\n",
      "              precision    recall  f1-score   support\n",
      "\n",
      "           0       0.84      0.88      0.86      1087\n",
      "           1       0.72      0.71      0.72       195\n",
      "           2       0.71      0.62      0.66       327\n",
      "\n",
      "    accuracy                           0.80      1609\n",
      "   macro avg       0.76      0.74      0.75      1609\n",
      "weighted avg       0.80      0.80      0.80      1609\n",
      "\n"
     ]
    },
    {
     "data": {
      "image/png": "[encoded data removed]",
      "text/plain": [
       "<Figure size 432x288 with 2 Axes>"
      ]
     },
     "metadata": {
      "needs_background": "light"
     },
     "output_type": "display_data"
    }
   ],
   "source": [
    "predictions = []\n",
    "\n",
    "for model in model_list:\n",
    "    index = model_list.index(model)\n",
    "    print(model_name_list[index])\n",
    "    model_prediction = indiv_eval(model, X_test, y_test, target_names = ['Normal' , 'Sexism', 'Racism'])\n",
    "    predictions.append(model_prediction)"
   ]
  },
  {
   "cell_type": "code",
   "execution_count": 52,
   "metadata": {
    "colab": {
     "base_uri": "https://localhost:8080/"
    },
    "id": "WfHOyDehO9xQ",
    "outputId": "129d01cc-3375-43e2-f841-ff1e401fe034"
   },
   "outputs": [
    {
     "data": {
      "text/plain": [
       "['twitter_dl_preds.df']"
      ]
     },
     "execution_count": 52,
     "metadata": {},
     "output_type": "execute_result"
    }
   ],
   "source": [
    "import joblib\n",
    "joblib.dump(predictions, 'twitter_dl_preds.df')"
   ]
  },
  {
   "cell_type": "code",
   "execution_count": 49,
   "metadata": {
    "colab": {
     "base_uri": "https://localhost:8080/"
    },
    "id": "i6r0LL-34eeh",
    "outputId": "395f03a5-7c15-4428-96a6-d99bc34521af"
   },
   "outputs": [
    {
     "name": "stdout",
     "output_type": "stream",
     "text": [
      "+-------------------------+-------------------------+-----------+------------+---------+\n",
      "|         Model 1         |         Model 2         |    Chi²   |  p-Value   | Reject? |\n",
      "+-------------------------+-------------------------+-----------+------------+---------+\n",
      "|       lstm_random       |     lstm_random_over    | 2.87E+01f | 8.58E-08f  |   True  |\n",
      "|       lstm_random       |        lstm_glove       | 1.42E+02f | 8.70E-33f  |   True  |\n",
      "|       lstm_random       |     lstm_glove_over     | 5.67E+01f | 5.03E-14f  |   True  |\n",
      "|       lstm_random       |      lstm_word2vec      | 1.40E+02f | 2.66E-32f  |   True  |\n",
      "|       lstm_random       |    lstm_word2vec_over   | 3.98E+01f | 2.81E-10f  |   True  |\n",
      "|       lstm_random       |       blstm_random      | 4.53E+01f | 1.65E-11f  |   True  |\n",
      "|       lstm_random       |    blstm_random_over    | 5.46E+01f | 1.45E-13f  |   True  |\n",
      "|       lstm_random       |       blstm_glove       | 1.21E+02f | 3.25E-28f  |   True  |\n",
      "|       lstm_random       |     blstm_glove_over    | 8.10E+01f | 2.28E-19f  |   True  |\n",
      "|       lstm_random       |      blstm_word2vec     | 1.39E+02f | 4.65E-32f  |   True  |\n",
      "|       lstm_random       |   blstm_word2vec_over   | 6.81E+01f | 1.55E-16f  |   True  |\n",
      "|       lstm_random       |     blstm_att_random    | 6.94E+01f | 8.04E-17f  |   True  |\n",
      "|       lstm_random       |  blstm_att_random_over  | 2.86E+02f | 4.45E-64f  |   True  |\n",
      "|       lstm_random       |     blstm_att_glove     | 1.17E+02f | 3.05E-27f  |   True  |\n",
      "|       lstm_random       |   blstm_att_glove_over  | 6.12E+01f | 5.23E-15f  |   True  |\n",
      "|       lstm_random       |    blstm_att_word2vec   | 7.44E+01f | 6.32E-18f  |   True  |\n",
      "|       lstm_random       | blstm_att_word2vec_over | 7.09E+01f | 3.70E-17f  |   True  |\n",
      "|       lstm_random       |        cnn_random       | 6.73E+01f | 2.38E-16f  |   True  |\n",
      "|       lstm_random       |     cnn_random_over     | 5.97E+01f | 1.10E-14f  |   True  |\n",
      "|       lstm_random       |        cnn_glove        | 1.26E+02f | 3.27E-29f  |   True  |\n",
      "|       lstm_random       |      cnn_glove_over     | 1.20E+02f | 6.61E-28f  |   True  |\n",
      "|       lstm_random       |       cnn_word2vec      | 1.09E+02f | 1.79E-25f  |   True  |\n",
      "|       lstm_random       |    cnn_word2vec_over    | 1.01E+02f | 1.04E-23f  |   True  |\n",
      "|     lstm_random_over    |        lstm_glove       | 6.95E+01f | 7.46E-17f  |   True  |\n",
      "|     lstm_random_over    |     lstm_glove_over     | 1.20E+01f | 5.18E-04f  |   True  |\n",
      "|     lstm_random_over    |      lstm_word2vec      | 6.77E+01f | 1.95E-16f  |   True  |\n",
      "|     lstm_random_over    |    lstm_word2vec_over   | 6.41E+00f | 1.14E-02f  |  False  |\n",
      "|     lstm_random_over    |       blstm_random      | 1.51E+00f | 2.19E-01f  |  False  |\n",
      "|     lstm_random_over    |    blstm_random_over    | 6.50E+00f | 1.08E-02f  |  False  |\n",
      "|     lstm_random_over    |       blstm_glove       | 5.28E+01f | 3.64E-13f  |   True  |\n",
      "|     lstm_random_over    |     blstm_glove_over    | 2.43E+01f | 8.43E-07f  |   True  |\n",
      "|     lstm_random_over    |      blstm_word2vec     | 6.97E+01f | 7.05E-17f  |   True  |\n",
      "|     lstm_random_over    |   blstm_word2vec_over   | 1.89E+01f | 1.37E-05f  |   True  |\n",
      "|     lstm_random_over    |     blstm_att_random    | 6.34E+00f | 1.18E-02f  |  False  |\n",
      "|     lstm_random_over    |  blstm_att_random_over  | 3.65E+02f | 2.37E-81f  |   True  |\n",
      "|     lstm_random_over    |     blstm_att_glove     | 5.12E+01f | 8.45E-13f  |   True  |\n",
      "|     lstm_random_over    |   blstm_att_glove_over  | 1.48E+01f | 1.19E-04f  |   True  |\n",
      "|     lstm_random_over    |    blstm_att_word2vec   | 2.41E+01f | 9.09E-07f  |   True  |\n",
      "|     lstm_random_over    | blstm_att_word2vec_over | 2.09E+01f | 4.84E-06f  |   True  |\n",
      "|     lstm_random_over    |        cnn_random       | 6.81E+00f | 9.05E-03f  |   True  |\n",
      "|     lstm_random_over    |     cnn_random_over     | 5.42E+00f | 1.99E-02f  |  False  |\n",
      "|     lstm_random_over    |        cnn_glove        | 5.92E+01f | 1.44E-14f  |   True  |\n",
      "|     lstm_random_over    |      cnn_glove_over     | 4.71E+01f | 6.87E-12f  |   True  |\n",
      "|     lstm_random_over    |       cnn_word2vec      | 4.41E+01f | 3.09E-11f  |   True  |\n",
      "|     lstm_random_over    |    cnn_word2vec_over    | 3.55E+01f | 2.55E-09f  |   True  |\n",
      "|        lstm_glove       |     lstm_glove_over     | 2.02E+01f | 6.95E-06f  |   True  |\n",
      "|        lstm_glove       |      lstm_word2vec      | 0.00E+00f | 1.00E+00f  |  False  |\n",
      "|        lstm_glove       |    lstm_word2vec_over   | 3.13E+01f | 2.17E-08f  |   True  |\n",
      "|        lstm_glove       |       blstm_random      | 4.99E+01f | 1.66E-12f  |   True  |\n",
      "|        lstm_glove       |    blstm_random_over    | 4.00E+01f | 2.56E-10f  |   True  |\n",
      "|        lstm_glove       |       blstm_glove       | 1.01E+00f | 3.16E-01f  |  False  |\n",
      "|        lstm_glove       |     blstm_glove_over    | 9.24E+00f | 2.37E-03f  |   True  |\n",
      "|        lstm_glove       |      blstm_word2vec     | 5.84E-02f | 8.09E-01f  |  False  |\n",
      "|        lstm_glove       |   blstm_word2vec_over   | 1.65E+01f | 4.87E-05f  |   True  |\n",
      "|        lstm_glove       |     blstm_att_random    | 4.33E+01f | 4.78E-11f  |   True  |\n",
      "|        lstm_glove       |  blstm_att_random_over  | 5.96E+02f | 9.87E-132f |   True  |\n",
      "|        lstm_glove       |     blstm_att_glove     | 8.80E-01f | 3.48E-01f  |  False  |\n",
      "|        lstm_glove       |   blstm_att_glove_over  | 1.77E+01f | 2.56E-05f  |   True  |\n",
      "|        lstm_glove       |    blstm_att_word2vec   | 1.16E+01f | 6.50E-04f  |   True  |\n",
      "|        lstm_glove       | blstm_att_word2vec_over | 1.48E+01f | 1.22E-04f  |   True  |\n",
      "|        lstm_glove       |        cnn_random       | 3.18E+01f | 1.74E-08f  |   True  |\n",
      "|        lstm_glove       |     cnn_random_over     | 3.52E+01f | 3.05E-09f  |   True  |\n",
      "|        lstm_glove       |        cnn_glove        | 2.27E+00f | 1.32E-01f  |  False  |\n",
      "|        lstm_glove       |      cnn_glove_over     | 1.47E+00f | 2.25E-01f  |  False  |\n",
      "|        lstm_glove       |       cnn_word2vec      | 7.61E+00f | 5.82E-03f  |   True  |\n",
      "|        lstm_glove       |    cnn_word2vec_over    | 6.52E+00f | 1.07E-02f  |  False  |\n",
      "|     lstm_glove_over     |      lstm_word2vec      | 1.84E+01f | 1.81E-05f  |   True  |\n",
      "|     lstm_glove_over     |    lstm_word2vec_over   | 1.58E+00f | 2.09E-01f  |  False  |\n",
      "|     lstm_glove_over     |       blstm_random      | 7.88E+00f | 5.01E-03f  |   True  |\n",
      "|     lstm_glove_over     |    blstm_random_over    | 3.47E+00f | 6.24E-02f  |  False  |\n",
      "|     lstm_glove_over     |       blstm_glove       | 1.37E+01f | 2.16E-04f  |   True  |\n",
      "|     lstm_glove_over     |     blstm_glove_over    | 3.41E+00f | 6.49E-02f  |  False  |\n",
      "|     lstm_glove_over     |      blstm_word2vec     | 1.66E+01f | 4.59E-05f  |   True  |\n",
      "|     lstm_glove_over     |   blstm_word2vec_over   | 4.45E-01f | 5.05E-01f  |  False  |\n",
      "|     lstm_glove_over     |     blstm_att_random    | 4.04E+00f | 4.44E-02f  |  False  |\n",
      "|     lstm_glove_over     |  blstm_att_random_over  | 5.63E+02f | 2.10E-124f |   True  |\n",
      "|     lstm_glove_over     |     blstm_att_glove     | 1.38E+01f | 2.04E-04f  |   True  |\n",
      "|     lstm_glove_over     |   blstm_att_glove_over  | 1.11E-01f | 7.39E-01f  |  False  |\n",
      "|     lstm_glove_over     |    blstm_att_word2vec   | 1.97E+00f | 1.60E-01f  |  False  |\n",
      "|     lstm_glove_over     | blstm_att_word2vec_over | 9.81E-01f | 3.22E-01f  |  False  |\n",
      "|     lstm_glove_over     |        cnn_random       | 2.09E+00f | 1.48E-01f  |  False  |\n",
      "|     lstm_glove_over     |     cnn_random_over     | 3.10E+00f | 7.83E-02f  |  False  |\n",
      "|     lstm_glove_over     |        cnn_glove        | 1.04E+01f | 1.29E-03f  |   True  |\n",
      "|     lstm_glove_over     |      cnn_glove_over     | 1.12E+01f | 8.36E-04f  |   True  |\n",
      "|     lstm_glove_over     |       cnn_word2vec      | 4.17E+00f | 4.12E-02f  |  False  |\n",
      "|     lstm_glove_over     |    cnn_word2vec_over    | 4.75E+00f | 2.93E-02f  |  False  |\n",
      "|      lstm_word2vec      |    lstm_word2vec_over   | 3.21E+01f | 1.44E-08f  |   True  |\n",
      "|      lstm_word2vec      |       blstm_random      | 4.92E+01f | 2.27E-12f  |   True  |\n",
      "|      lstm_word2vec      |    blstm_random_over    | 3.99E+01f | 2.67E-10f  |   True  |\n",
      "|      lstm_word2vec      |       blstm_glove       | 7.96E-01f | 3.72E-01f  |  False  |\n",
      "|      lstm_word2vec      |     blstm_glove_over    | 8.17E+00f | 4.27E-03f  |   True  |\n",
      "|      lstm_word2vec      |      blstm_word2vec     | 2.96E-02f | 8.63E-01f  |  False  |\n",
      "|      lstm_word2vec      |   blstm_word2vec_over   | 1.82E+01f | 1.95E-05f  |   True  |\n",
      "|      lstm_word2vec      |     blstm_att_random    | 4.29E+01f | 5.65E-11f  |   True  |\n",
      "|      lstm_word2vec      |  blstm_att_random_over  | 5.90E+02f | 2.48E-130f |   True  |\n",
      "|      lstm_word2vec      |     blstm_att_glove     | 6.89E-01f | 4.07E-01f  |  False  |\n",
      "|      lstm_word2vec      |   blstm_att_glove_over  | 1.53E+01f | 9.32E-05f  |   True  |\n",
      "|      lstm_word2vec      |    blstm_att_word2vec   | 1.28E+01f | 3.52E-04f  |   True  |\n",
      "|      lstm_word2vec      | blstm_att_word2vec_over | 1.54E+01f | 8.48E-05f  |   True  |\n",
      "|      lstm_word2vec      |        cnn_random       | 3.12E+01f | 2.28E-08f  |   True  |\n",
      "|      lstm_word2vec      |     cnn_random_over     | 3.46E+01f | 4.03E-09f  |   True  |\n",
      "|      lstm_word2vec      |        cnn_glove        | 1.68E+00f | 1.95E-01f  |  False  |\n",
      "|      lstm_word2vec      |      cnn_glove_over     | 1.19E+00f | 2.75E-01f  |  False  |\n",
      "|      lstm_word2vec      |       cnn_word2vec      | 7.49E+00f | 6.20E-03f  |   True  |\n",
      "|      lstm_word2vec      |    cnn_word2vec_over    | 6.65E+00f | 9.94E-03f  |   True  |\n",
      "|    lstm_word2vec_over   |       blstm_random      | 2.83E+00f | 9.27E-02f  |  False  |\n",
      "|    lstm_word2vec_over   |    blstm_random_over    | 7.12E-01f | 3.99E-01f  |  False  |\n",
      "|    lstm_word2vec_over   |       blstm_glove       | 2.41E+01f | 9.05E-07f  |   True  |\n",
      "|    lstm_word2vec_over   |     blstm_glove_over    | 9.25E+00f | 2.35E-03f  |   True  |\n",
      "|    lstm_word2vec_over   |      blstm_word2vec     | 2.82E+01f | 1.11E-07f  |   True  |\n",
      "|    lstm_word2vec_over   |   blstm_word2vec_over   | 4.36E+00f | 3.68E-02f  |  False  |\n",
      "|    lstm_word2vec_over   |     blstm_att_random    | 9.11E-01f | 3.40E-01f  |  False  |\n",
      "|    lstm_word2vec_over   |  blstm_att_random_over  | 5.51E+02f | 6.57E-122f |   True  |\n",
      "|    lstm_word2vec_over   |     blstm_att_glove     | 2.41E+01f | 9.05E-07f  |   True  |\n",
      "|    lstm_word2vec_over   |   blstm_att_glove_over  | 2.69E+00f | 1.01E-01f  |  False  |\n",
      "|    lstm_word2vec_over   |    blstm_att_word2vec   | 8.53E+00f | 3.50E-03f  |   True  |\n",
      "|    lstm_word2vec_over   | blstm_att_word2vec_over | 6.28E+00f | 1.22E-02f  |  False  |\n",
      "|    lstm_word2vec_over   |        cnn_random       | 1.27E-01f | 7.22E-01f  |  False  |\n",
      "|    lstm_word2vec_over   |     cnn_random_over     | 4.38E-01f | 5.08E-01f  |  False  |\n",
      "|    lstm_word2vec_over   |        cnn_glove        | 1.82E+01f | 1.97E-05f  |   True  |\n",
      "|    lstm_word2vec_over   |      cnn_glove_over     | 2.04E+01f | 6.14E-06f  |   True  |\n",
      "|    lstm_word2vec_over   |       cnn_word2vec      | 1.03E+01f | 1.30E-03f  |   True  |\n",
      "|    lstm_word2vec_over   |    cnn_word2vec_over    | 1.26E+01f | 3.87E-04f  |   True  |\n",
      "|       blstm_random      |    blstm_random_over    | 1.26E+00f | 2.61E-01f  |  False  |\n",
      "|       blstm_random      |       blstm_glove       | 3.73E+01f | 1.03E-09f  |   True  |\n",
      "|       blstm_random      |     blstm_glove_over    | 1.89E+01f | 1.36E-05f  |   True  |\n",
      "|       blstm_random      |      blstm_word2vec     | 4.71E+01f | 6.71E-12f  |   True  |\n",
      "|       blstm_random      |   blstm_word2vec_over   | 1.20E+01f | 5.31E-04f  |   True  |\n",
      "|       blstm_random      |     blstm_att_random    | 9.60E-01f | 3.27E-01f  |  False  |\n",
      "|       blstm_random      |  blstm_att_random_over  | 4.66E+02f | 2.14E-103f |   True  |\n",
      "|       blstm_random      |     blstm_att_glove     | 3.88E+01f | 4.75E-10f  |   True  |\n",
      "|       blstm_random      |   blstm_att_glove_over  | 9.95E+00f | 1.61E-03f  |   True  |\n",
      "|       blstm_random      |    blstm_att_word2vec   | 1.63E+01f | 5.54E-05f  |   True  |\n",
      "|       blstm_random      | blstm_att_word2vec_over | 1.39E+01f | 1.93E-04f  |   True  |\n",
      "|       blstm_random      |        cnn_random       | 4.79E+00f | 2.86E-02f  |  False  |\n",
      "|       blstm_random      |     cnn_random_over     | 2.34E+00f | 1.26E-01f  |  False  |\n",
      "|       blstm_random      |        cnn_glove        | 3.50E+01f | 3.29E-09f  |   True  |\n",
      "|       blstm_random      |      cnn_glove_over     | 3.49E+01f | 3.40E-09f  |   True  |\n",
      "|       blstm_random      |       cnn_word2vec      | 2.47E+01f | 6.78E-07f  |   True  |\n",
      "|       blstm_random      |    cnn_word2vec_over    | 2.50E+01f | 5.83E-07f  |   True  |\n",
      "|    blstm_random_over    |       blstm_glove       | 2.80E+01f | 1.21E-07f  |   True  |\n",
      "|    blstm_random_over    |     blstm_glove_over    | 1.13E+01f | 7.84E-04f  |   True  |\n",
      "|    blstm_random_over    |      blstm_word2vec     | 3.72E+01f | 1.05E-09f  |   True  |\n",
      "|    blstm_random_over    |   blstm_word2vec_over   | 6.70E+00f | 9.62E-03f  |   True  |\n",
      "|    blstm_random_over    |     blstm_att_random    | 6.58E-03f | 9.35E-01f  |  False  |\n",
      "|    blstm_random_over    |  blstm_att_random_over  | 4.52E+02f | 2.59E-100f |   True  |\n",
      "|    blstm_random_over    |     blstm_att_glove     | 2.95E+01f | 5.60E-08f  |   True  |\n",
      "|    blstm_random_over    |   blstm_att_glove_over  | 4.71E+00f | 3.00E-02f  |  False  |\n",
      "|    blstm_random_over    |    blstm_att_word2vec   | 1.01E+01f | 1.50E-03f  |   True  |\n",
      "|    blstm_random_over    | blstm_att_word2vec_over | 7.98E+00f | 4.73E-03f  |   True  |\n",
      "|    blstm_random_over    |        cnn_random       | 4.44E-01f | 5.05E-01f  |  False  |\n",
      "|    blstm_random_over    |     cnn_random_over     | 7.11E-02f | 7.90E-01f  |  False  |\n",
      "|    blstm_random_over    |        cnn_glove        | 2.82E+01f | 1.09E-07f  |   True  |\n",
      "|    blstm_random_over    |      cnn_glove_over     | 2.50E+01f | 5.81E-07f  |   True  |\n",
      "|    blstm_random_over    |       cnn_word2vec      | 1.85E+01f | 1.74E-05f  |   True  |\n",
      "|    blstm_random_over    |    cnn_word2vec_over    | 1.65E+01f | 4.98E-05f  |   True  |\n",
      "|       blstm_glove       |     blstm_glove_over    | 4.68E+00f | 3.06E-02f  |  False  |\n",
      "|       blstm_glove       |      blstm_word2vec     | 4.76E-01f | 4.90E-01f  |  False  |\n",
      "|       blstm_glove       |   blstm_word2vec_over   | 1.03E+01f | 1.31E-03f  |   True  |\n",
      "|       blstm_glove       |     blstm_att_random    | 3.20E+01f | 1.53E-08f  |   True  |\n",
      "|       blstm_glove       |  blstm_att_random_over  | 5.84E+02f | 3.98E-129f |   True  |\n",
      "|       blstm_glove       |     blstm_att_glove     | 5.00E-03f | 9.44E-01f  |  False  |\n",
      "|       blstm_glove       |   blstm_att_glove_over  | 1.19E+01f | 5.61E-04f  |   True  |\n",
      "|       blstm_glove       |    blstm_att_word2vec   | 6.45E+00f | 1.11E-02f  |  False  |\n",
      "|       blstm_glove       | blstm_att_word2vec_over | 8.11E+00f | 4.40E-03f  |   True  |\n",
      "|       blstm_glove       |        cnn_random       | 2.33E+01f | 1.39E-06f  |   True  |\n",
      "|       blstm_glove       |     cnn_random_over     | 2.64E+01f | 2.79E-07f  |   True  |\n",
      "|       blstm_glove       |        cnn_glove        | 9.70E-02f | 7.55E-01f  |  False  |\n",
      "|       blstm_glove       |      cnn_glove_over     | 4.41E-02f | 8.34E-01f  |  False  |\n",
      "|       blstm_glove       |       cnn_word2vec      | 2.67E+00f | 1.02E-01f  |  False  |\n",
      "|       blstm_glove       |    cnn_word2vec_over    | 2.65E+00f | 1.04E-01f  |  False  |\n",
      "|     blstm_glove_over    |      blstm_word2vec     | 7.03E+00f | 8.02E-03f  |   True  |\n",
      "|     blstm_glove_over    |   blstm_word2vec_over   | 9.78E-01f | 3.23E-01f  |  False  |\n",
      "|     blstm_glove_over    |     blstm_att_random    | 1.25E+01f | 4.01E-04f  |   True  |\n",
      "|     blstm_glove_over    |  blstm_att_random_over  | 6.01E+02f | 1.21E-132f |   True  |\n",
      "|     blstm_glove_over    |     blstm_att_glove     | 4.81E+00f | 2.83E-02f  |  False  |\n",
      "|     blstm_glove_over    |   blstm_att_glove_over  | 2.06E+00f | 1.51E-01f  |  False  |\n",
      "|     blstm_glove_over    |    blstm_att_word2vec   | 4.09E-02f | 8.40E-01f  |  False  |\n",
      "|     blstm_glove_over    | blstm_att_word2vec_over | 4.48E-01f | 5.03E-01f  |  False  |\n",
      "|     blstm_glove_over    |        cnn_random       | 9.09E+00f | 2.57E-03f  |   True  |\n",
      "|     blstm_glove_over    |     cnn_random_over     | 1.12E+01f | 8.15E-04f  |   True  |\n",
      "|     blstm_glove_over    |        cnn_glove        | 2.94E+00f | 8.64E-02f  |  False  |\n",
      "|     blstm_glove_over    |      cnn_glove_over     | 3.65E+00f | 5.62E-02f  |  False  |\n",
      "|     blstm_glove_over    |       cnn_word2vec      | 2.33E-01f | 6.30E-01f  |  False  |\n",
      "|     blstm_glove_over    |    cnn_word2vec_over    | 2.92E-01f | 5.89E-01f  |  False  |\n",
      "|      blstm_word2vec     |   blstm_word2vec_over   | 1.55E+01f | 8.24E-05f  |   True  |\n",
      "|      blstm_word2vec     |     blstm_att_random    | 4.11E+01f | 1.43E-10f  |   True  |\n",
      "|      blstm_word2vec     |  blstm_att_random_over  | 5.93E+02f | 6.42E-131f |   True  |\n",
      "|      blstm_word2vec     |     blstm_att_glove     | 3.79E-01f | 5.38E-01f  |  False  |\n",
      "|      blstm_word2vec     |   blstm_att_glove_over  | 1.52E+01f | 9.53E-05f  |   True  |\n",
      "|      blstm_word2vec     |    blstm_att_word2vec   | 1.13E+01f | 7.69E-04f  |   True  |\n",
      "|      blstm_word2vec     | blstm_att_word2vec_over | 1.40E+01f | 1.78E-04f  |   True  |\n",
      "|      blstm_word2vec     |        cnn_random       | 2.99E+01f | 4.59E-08f  |   True  |\n",
      "|      blstm_word2vec     |     cnn_random_over     | 3.32E+01f | 8.28E-09f  |   True  |\n",
      "|      blstm_word2vec     |        cnn_glove        | 1.33E+00f | 2.48E-01f  |  False  |\n",
      "|      blstm_word2vec     |      cnn_glove_over     | 8.99E-01f | 3.43E-01f  |  False  |\n",
      "|      blstm_word2vec     |       cnn_word2vec      | 7.07E+00f | 7.83E-03f  |   True  |\n",
      "|      blstm_word2vec     |    cnn_word2vec_over    | 6.41E+00f | 1.14E-02f  |  False  |\n",
      "|   blstm_word2vec_over   |     blstm_att_random    | 7.55E+00f | 6.00E-03f  |   True  |\n",
      "|   blstm_word2vec_over   |  blstm_att_random_over  | 5.50E+02f | 1.42E-121f |   True  |\n",
      "|   blstm_word2vec_over   |     blstm_att_glove     | 1.06E+01f | 1.12E-03f  |   True  |\n",
      "|   blstm_word2vec_over   |   blstm_att_glove_over  | 1.04E-01f | 7.47E-01f  |  False  |\n",
      "|   blstm_word2vec_over   |    blstm_att_word2vec   | 6.17E-01f | 4.32E-01f  |  False  |\n",
      "|   blstm_word2vec_over   | blstm_att_word2vec_over | 8.47E-02f | 7.71E-01f  |  False  |\n",
      "|   blstm_word2vec_over   |        cnn_random       | 4.43E+00f | 3.53E-02f  |  False  |\n",
      "|   blstm_word2vec_over   |     cnn_random_over     | 5.89E+00f | 1.52E-02f  |  False  |\n",
      "|   blstm_word2vec_over   |        cnn_glove        | 7.64E+00f | 5.71E-03f  |   True  |\n",
      "|   blstm_word2vec_over   |      cnn_glove_over     | 8.60E+00f | 3.35E-03f  |   True  |\n",
      "|   blstm_word2vec_over   |       cnn_word2vec      | 2.47E+00f | 1.16E-01f  |  False  |\n",
      "|   blstm_word2vec_over   |    cnn_word2vec_over    | 2.70E+00f | 1.00E-01f  |  False  |\n",
      "|     blstm_att_random    |  blstm_att_random_over  | 4.40E+02f | 1.04E-97f  |   True  |\n",
      "|     blstm_att_random    |     blstm_att_glove     | 3.07E+01f | 3.03E-08f  |   True  |\n",
      "|     blstm_att_random    |   blstm_att_glove_over  | 5.41E+00f | 2.00E-02f  |  False  |\n",
      "|     blstm_att_random    |    blstm_att_word2vec   | 1.09E+01f | 9.38E-04f  |   True  |\n",
      "|     blstm_att_random    | blstm_att_word2vec_over | 8.83E+00f | 2.96E-03f  |   True  |\n",
      "|     blstm_att_random    |        cnn_random       | 7.09E-01f | 4.00E-01f  |  False  |\n",
      "|     blstm_att_random    |     cnn_random_over     | 1.77E-01f | 6.74E-01f  |  False  |\n",
      "|     blstm_att_random    |        cnn_glove        | 3.07E+01f | 2.94E-08f  |   True  |\n",
      "|     blstm_att_random    |      cnn_glove_over     | 2.80E+01f | 1.21E-07f  |   True  |\n",
      "|     blstm_att_random    |       cnn_word2vec      | 2.03E+01f | 6.46E-06f  |   True  |\n",
      "|     blstm_att_random    |    cnn_word2vec_over    | 1.88E+01f | 1.42E-05f  |   True  |\n",
      "|  blstm_att_random_over  |     blstm_att_glove     | 6.25E+02f | 7.22E-138f |   True  |\n",
      "|  blstm_att_random_over  |   blstm_att_glove_over  | 5.72E+02f | 1.94E-126f |   True  |\n",
      "|  blstm_att_random_over  |    blstm_att_word2vec   | 5.74E+02f | 9.16E-127f |   True  |\n",
      "|  blstm_att_random_over  | blstm_att_word2vec_over | 5.62E+02f | 2.56E-124f |   True  |\n",
      "|  blstm_att_random_over  |        cnn_random       | 5.21E+02f | 2.06E-115f |   True  |\n",
      "|  blstm_att_random_over  |     cnn_random_over     | 5.14E+02f | 1.05E-113f |   True  |\n",
      "|  blstm_att_random_over  |        cnn_glove        | 5.63E+02f | 2.18E-124f |   True  |\n",
      "|  blstm_att_random_over  |      cnn_glove_over     | 5.82E+02f | 1.49E-128f |   True  |\n",
      "|  blstm_att_random_over  |       cnn_word2vec      | 5.39E+02f | 2.91E-119f |   True  |\n",
      "|  blstm_att_random_over  |    cnn_word2vec_over    | 5.73E+02f | 1.13E-126f |   True  |\n",
      "|     blstm_att_glove     |   blstm_att_glove_over  | 1.26E+01f | 3.81E-04f  |   True  |\n",
      "|     blstm_att_glove     |    blstm_att_word2vec   | 5.76E+00f | 1.64E-02f  |  False  |\n",
      "|     blstm_att_glove     | blstm_att_word2vec_over | 8.11E+00f | 4.40E-03f  |   True  |\n",
      "|     blstm_att_glove     |        cnn_random       | 2.41E+01f | 8.91E-07f  |   True  |\n",
      "|     blstm_att_glove     |     cnn_random_over     | 2.82E+01f | 1.09E-07f  |   True  |\n",
      "|     blstm_att_glove     |        cnn_glove        | 8.21E-02f | 7.75E-01f  |  False  |\n",
      "|     blstm_att_glove     |      cnn_glove_over     | 4.09E-02f | 8.40E-01f  |  False  |\n",
      "|     blstm_att_glove     |       cnn_word2vec      | 2.22E+00f | 1.36E-01f  |  False  |\n",
      "|     blstm_att_glove     |    cnn_word2vec_over    | 2.40E+00f | 1.21E-01f  |  False  |\n",
      "|   blstm_att_glove_over  |    blstm_att_word2vec   | 1.17E+00f | 2.80E-01f  |  False  |\n",
      "|   blstm_att_glove_over  | blstm_att_word2vec_over | 4.18E-01f | 5.18E-01f  |  False  |\n",
      "|   blstm_att_glove_over  |        cnn_random       | 3.31E+00f | 6.88E-02f  |  False  |\n",
      "|   blstm_att_glove_over  |     cnn_random_over     | 4.58E+00f | 3.23E-02f  |  False  |\n",
      "|   blstm_att_glove_over  |        cnn_glove        | 8.64E+00f | 3.29E-03f  |   True  |\n",
      "|   blstm_att_glove_over  |      cnn_glove_over     | 1.01E+01f | 1.47E-03f  |   True  |\n",
      "|   blstm_att_glove_over  |       cnn_word2vec      | 2.93E+00f | 8.69E-02f  |  False  |\n",
      "|   blstm_att_glove_over  |    cnn_word2vec_over    | 3.83E+00f | 5.03E-02f  |  False  |\n",
      "|    blstm_att_word2vec   | blstm_att_word2vec_over | 2.11E-01f | 6.46E-01f  |  False  |\n",
      "|    blstm_att_word2vec   |        cnn_random       | 7.66E+00f | 5.65E-03f  |   True  |\n",
      "|    blstm_att_word2vec   |     cnn_random_over     | 9.42E+00f | 2.14E-03f  |   True  |\n",
      "|    blstm_att_word2vec   |        cnn_glove        | 4.33E+00f | 3.75E-02f  |  False  |\n",
      "|    blstm_att_word2vec   |      cnn_glove_over     | 4.51E+00f | 3.37E-02f  |  False  |\n",
      "|    blstm_att_word2vec   |       cnn_word2vec      | 6.29E-01f | 4.28E-01f  |  False  |\n",
      "|    blstm_att_word2vec   |    cnn_word2vec_over    | 6.82E-01f | 4.09E-01f  |  False  |\n",
      "| blstm_att_word2vec_over |        cnn_random       | 5.66E+00f | 1.74E-02f  |  False  |\n",
      "| blstm_att_word2vec_over |     cnn_random_over     | 7.15E+00f | 7.51E-03f  |   True  |\n",
      "| blstm_att_word2vec_over |        cnn_glove        | 5.89E+00f | 1.52E-02f  |  False  |\n",
      "| blstm_att_word2vec_over |      cnn_glove_over     | 6.50E+00f | 1.08E-02f  |  False  |\n",
      "| blstm_att_word2vec_over |       cnn_word2vec      | 1.56E+00f | 2.12E-01f  |  False  |\n",
      "| blstm_att_word2vec_over |    cnn_word2vec_over    | 1.69E+00f | 1.94E-01f  |  False  |\n",
      "|        cnn_random       |     cnn_random_over     | 4.31E-01f | 5.11E-01f  |  False  |\n",
      "|        cnn_random       |        cnn_glove        | 2.12E+01f | 4.16E-06f  |   True  |\n",
      "|        cnn_random       |      cnn_glove_over     | 2.11E+01f | 4.30E-06f  |   True  |\n",
      "|        cnn_random       |       cnn_word2vec      | 1.30E+01f | 3.05E-04f  |   True  |\n",
      "|        cnn_random       |    cnn_word2vec_over    | 1.34E+01f | 2.56E-04f  |   True  |\n",
      "|     cnn_random_over     |        cnn_glove        | 2.48E+01f | 6.46E-07f  |   True  |\n",
      "|     cnn_random_over     |      cnn_glove_over     | 2.42E+01f | 8.62E-07f  |   True  |\n",
      "|     cnn_random_over     |       cnn_word2vec      | 1.51E+01f | 1.02E-04f  |   True  |\n",
      "|     cnn_random_over     |    cnn_word2vec_over    | 1.58E+01f | 7.22E-05f  |   True  |\n",
      "|        cnn_glove        |      cnn_glove_over     | 0.00E+00f | 1.00E+00f  |  False  |\n",
      "|        cnn_glove        |       cnn_word2vec      | 2.36E+00f | 1.24E-01f  |  False  |\n",
      "|        cnn_glove        |    cnn_word2vec_over    | 1.94E+00f | 1.64E-01f  |  False  |\n",
      "|      cnn_glove_over     |       cnn_word2vec      | 1.92E+00f | 1.66E-01f  |  False  |\n",
      "|      cnn_glove_over     |    cnn_word2vec_over    | 2.31E+00f | 1.28E-01f  |  False  |\n",
      "|       cnn_word2vec      |    cnn_word2vec_over    | 6.33E-03f | 9.37E-01f  |  False  |\n",
      "+-------------------------+-------------------------+-----------+------------+---------+\n"
     ]
    }
   ],
   "source": [
    "multiple_mcnemar(model_name_list, predictions, y_test, 0.01)"
   ]
  }
 ],
 "metadata": {
  "accelerator": "GPU",
  "colab": {
   "collapsed_sections": [],
   "machine_shape": "hm",
   "name": "twitter_deeplearning.ipynb",
   "provenance": []
  },
  "kernelspec": {
   "display_name": "Python 3 (ipykernel)",
   "language": "python",
   "name": "python3"
  },
  "language_info": {
   "codemirror_mode": {
    "name": "ipython",
    "version": 3
   },
   "file_extension": ".py",
   "mimetype": "text/x-python",
   "name": "python",
   "nbconvert_exporter": "python",
   "pygments_lexer": "ipython3",
   "version": "3.9.7"
  }
 },
 "nbformat": 4,
 "nbformat_minor": 1
}
