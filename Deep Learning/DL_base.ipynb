{
 "cells": [
  {
   "cell_type": "code",
   "execution_count": 16,
   "outputs": [],
   "source": [
    "import numpy as np\n",
    "import pandas as pd\n",
    "\n",
    "from sklearn.model_selection import train_test_split\n",
    "\n",
    "#from keras.preprocessing.text import Tokenizer\n",
    "#from keras.preprocessing.sequence import pad_sequences"
   ],
   "metadata": {
    "collapsed": false,
    "pycharm": {
     "name": "#%%\n"
    }
   }
  },
  {
   "cell_type": "code",
   "execution_count": 24,
   "outputs": [],
   "source": [
    "# load the relevant preprocessed files\n",
    "df = pd.read_csv('../data/twitter_data_DLpreprocessed.csv', encoding='utf-8')\n",
    "df_oversample = pd.read_csv('../data/twitter_data_DLpreprocessed_oversampled.csv', encoding='utf-8')"
   ],
   "metadata": {
    "collapsed": false,
    "pycharm": {
     "name": "#%%\n"
    }
   }
  },
  {
   "cell_type": "code",
   "execution_count": 25,
   "outputs": [
    {
     "data": {
      "text/plain": "                                                 comment  attack\n0      ['rt', 'happens', 'men', 'time', 'men', 'repro...       2\n1      ['rt', \"i'm\", 'sexist', 'damn', 'let', 'female...       2\n2      ['rt', 'hate', 'u', 'open', 'door', 'hot', 'ch...       2\n3      ['tl', 'wanted', 'say', 'ty', 'great', 'work',...       2\n4                                   ['also', 'existing']       2\n...                                                  ...     ...\n33103  ['great', 'see', 'colin', 'got', 'bed', 'get',...       0\n33104                    ['live', 'know', 'ca', 'drive']       0\n33105  ['epic', 'always', 'kept', 'plugged', 'in', 'p...       0\n33106  ['think', 'daesh', 'planning', 'second', 'batt...       0\n33107  ['rt', 'skin', 'green', 'colors', 'suit', 'wea...       0\n\n[33108 rows x 2 columns]",
      "text/html": "<div>\n<style scoped>\n    .dataframe tbody tr th:only-of-type {\n        vertical-align: middle;\n    }\n\n    .dataframe tbody tr th {\n        vertical-align: top;\n    }\n\n    .dataframe thead th {\n        text-align: right;\n    }\n</style>\n<table border=\"1\" class=\"dataframe\">\n  <thead>\n    <tr style=\"text-align: right;\">\n      <th></th>\n      <th>comment</th>\n      <th>attack</th>\n    </tr>\n  </thead>\n  <tbody>\n    <tr>\n      <th>0</th>\n      <td>['rt', 'happens', 'men', 'time', 'men', 'repro...</td>\n      <td>2</td>\n    </tr>\n    <tr>\n      <th>1</th>\n      <td>['rt', \"i'm\", 'sexist', 'damn', 'let', 'female...</td>\n      <td>2</td>\n    </tr>\n    <tr>\n      <th>2</th>\n      <td>['rt', 'hate', 'u', 'open', 'door', 'hot', 'ch...</td>\n      <td>2</td>\n    </tr>\n    <tr>\n      <th>3</th>\n      <td>['tl', 'wanted', 'say', 'ty', 'great', 'work',...</td>\n      <td>2</td>\n    </tr>\n    <tr>\n      <th>4</th>\n      <td>['also', 'existing']</td>\n      <td>2</td>\n    </tr>\n    <tr>\n      <th>...</th>\n      <td>...</td>\n      <td>...</td>\n    </tr>\n    <tr>\n      <th>33103</th>\n      <td>['great', 'see', 'colin', 'got', 'bed', 'get',...</td>\n      <td>0</td>\n    </tr>\n    <tr>\n      <th>33104</th>\n      <td>['live', 'know', 'ca', 'drive']</td>\n      <td>0</td>\n    </tr>\n    <tr>\n      <th>33105</th>\n      <td>['epic', 'always', 'kept', 'plugged', 'in', 'p...</td>\n      <td>0</td>\n    </tr>\n    <tr>\n      <th>33106</th>\n      <td>['think', 'daesh', 'planning', 'second', 'batt...</td>\n      <td>0</td>\n    </tr>\n    <tr>\n      <th>33107</th>\n      <td>['rt', 'skin', 'green', 'colors', 'suit', 'wea...</td>\n      <td>0</td>\n    </tr>\n  </tbody>\n</table>\n<p>33108 rows × 2 columns</p>\n</div>"
     },
     "execution_count": 25,
     "metadata": {},
     "output_type": "execute_result"
    }
   ],
   "source": [
    "df_oversample"
   ],
   "metadata": {
    "collapsed": false,
    "pycharm": {
     "name": "#%%\n"
    }
   }
  },
  {
   "cell_type": "code",
   "execution_count": 7,
   "outputs": [],
   "source": [
    "# obtain max document length\n",
    "measurer = np.vectorize(len)\n",
    "length_list = measurer(df.select_dtypes(include=[object]).values)\n",
    "max_document_length = int(np.percentile(length_list,95))"
   ],
   "metadata": {
    "collapsed": false,
    "pycharm": {
     "name": "#%%\n"
    }
   }
  },
  {
   "cell_type": "code",
   "execution_count": 17,
   "outputs": [],
   "source": [
    "# train-test split?\n",
    "\n",
    "X_train, X_test, y_train, y_test = train_test_split(df.comment, df.attack, test_size=0.01, random_state=123)\n",
    "X_plus_train, X_plus_test, y_plus_train, y_plus_test = train_test_split(df_oversample.comment, df_oversample.attack, test_size=0.01, random_state=123)"
   ],
   "metadata": {
    "collapsed": false,
    "pycharm": {
     "name": "#%%\n"
    }
   }
  },
  {
   "cell_type": "code",
   "execution_count": null,
   "outputs": [],
   "source": [
    "tokenizer = Tokenizer(lower=False)\n",
    "tokenizer.fit_on_texts()"
   ],
   "metadata": {
    "collapsed": false,
    "pycharm": {
     "name": "#%%\n"
    }
   }
  },
  {
   "cell_type": "code",
   "execution_count": null,
   "outputs": [],
   "source": [],
   "metadata": {
    "collapsed": false,
    "pycharm": {
     "name": "#%%\n"
    }
   }
  }
 ],
 "metadata": {
  "kernelspec": {
   "display_name": "Python 3",
   "language": "python",
   "name": "python3"
  },
  "language_info": {
   "codemirror_mode": {
    "name": "ipython",
    "version": 2
   },
   "file_extension": ".py",
   "mimetype": "text/x-python",
   "name": "python",
   "nbconvert_exporter": "python",
   "pygments_lexer": "ipython2",
   "version": "2.7.6"
  }
 },
 "nbformat": 4,
 "nbformat_minor": 0
}