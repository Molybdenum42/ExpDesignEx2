{
 "cells": [
  {
   "cell_type": "code",
   "execution_count": 27,
   "outputs": [],
   "source": [
    "import numpy as np\n",
    "import pandas as pd\n",
    "import ast\n",
    "\n",
    "from sklearn.model_selection import train_test_split\n",
    "\n",
    "from keras.preprocessing.text import Tokenizer\n",
    "from keras.preprocessing.sequence import pad_sequences"
   ],
   "metadata": {
    "collapsed": false,
    "pycharm": {
     "name": "#%%\n"
    }
   }
  },
  {
   "cell_type": "code",
   "execution_count": 28,
   "outputs": [],
   "source": [
    "# load the relevant preprocessed files\n",
    "df = pd.read_csv('../data/twitter_data_DLpreprocessed.csv', encoding='utf-8')\n",
    "df_oversample = pd.read_csv('../data/twitter_data_DLpreprocessed_oversampled.csv', encoding='utf-8')"
   ],
   "metadata": {
    "collapsed": false,
    "pycharm": {
     "name": "#%%\n"
    }
   }
  },
  {
   "cell_type": "code",
   "execution_count": 29,
   "outputs": [],
   "source": [
    "# convert original lists in csv back to lists from strings\n",
    "df['comment'] = df.comment.apply(lambda x: ast.literal_eval(x))\n",
    "df_oversample['comment'] = df_oversample.comment.apply(lambda x: ast.literal_eval(x))"
   ],
   "metadata": {
    "collapsed": false,
    "pycharm": {
     "name": "#%%\n"
    }
   }
  },
  {
   "cell_type": "code",
   "execution_count": 30,
   "outputs": [],
   "source": [
    "# obtain max document length\n",
    "measurer = np.vectorize(len)\n",
    "length_list = measurer(df.select_dtypes(include=[object]).values)\n",
    "max_document_length = int(np.percentile(length_list,95))"
   ],
   "metadata": {
    "collapsed": false,
    "pycharm": {
     "name": "#%%\n"
    }
   }
  },
  {
   "cell_type": "code",
   "execution_count": 31,
   "outputs": [],
   "source": [
    "# train-test split?\n",
    "\n",
    "X_train, X_test, y_train, y_test = train_test_split(df.comment, df.attack, test_size=0.01, random_state=123)\n",
    "X_plus_train, X_plus_test, y_plus_train, y_plus_test = train_test_split(df_oversample.comment, df_oversample.attack, test_size=0.01, random_state=123)"
   ],
   "metadata": {
    "collapsed": false,
    "pycharm": {
     "name": "#%%\n"
    }
   }
  },
  {
   "cell_type": "code",
   "execution_count": 32,
   "outputs": [],
   "source": [
    "tokenizer = Tokenizer(lower=False)\n",
    "tokenizer.fit_on_texts(X_train)\n",
    "\n",
    "tokenizer_plus = Tokenizer(lower=False)\n",
    "tokenizer_plus.fit_on_texts(X_plus_train)"
   ],
   "metadata": {
    "collapsed": false,
    "pycharm": {
     "name": "#%%\n"
    }
   }
  },
  {
   "cell_type": "code",
   "execution_count": 33,
   "outputs": [],
   "source": [
    "X_train = tokenizer.texts_to_sequences(X_train)\n",
    "X_test = tokenizer.texts_to_sequences(X_test)\n",
    "\n",
    "X_plus_train = tokenizer_plus.texts_to_sequences(X_plus_train)\n",
    "X_plus_test = tokenizer_plus.texts_to_sequences(X_plus_test)"
   ],
   "metadata": {
    "collapsed": false,
    "pycharm": {
     "name": "#%%\n"
    }
   }
  },
  {
   "cell_type": "code",
   "execution_count": 34,
   "outputs": [],
   "source": [
    "X_train = pad_sequences(X_train, maxlen=max_document_length)\n",
    "X_test = pad_sequences(X_test, maxlen=max_document_length)\n",
    "X_plus_train = pad_sequences(X_plus_train, maxlen=max_document_length)\n",
    "X_plus_test = pad_sequences(X_plus_test, maxlen=max_document_length)"
   ],
   "metadata": {
    "collapsed": false,
    "pycharm": {
     "name": "#%%\n"
    }
   }
  },
  {
   "cell_type": "code",
   "execution_count": 37,
   "outputs": [
    {
     "data": {
      "text/plain": "array([[    0,     0,     0, ...,     0,   356,  3930],\n       [    2,    74,    92, ...,   148,    83,     7],\n       [    3,     5,    20, ...,   206,   834,     7],\n       ...,\n       [    0,     0,     0, ...,  1698,   706,     1],\n       [    0,   572, 16690, ...,   217,  5748,     1],\n       [    0,     0,     0, ...,  5743,  3253,   822]])"
     },
     "execution_count": 37,
     "metadata": {},
     "output_type": "execute_result"
    }
   ],
   "source": [
    "X_train"
   ],
   "metadata": {
    "collapsed": false,
    "pycharm": {
     "name": "#%%\n"
    }
   }
  }
 ],
 "metadata": {
  "kernelspec": {
   "display_name": "Python 3",
   "language": "python",
   "name": "python3"
  },
  "language_info": {
   "codemirror_mode": {
    "name": "ipython",
    "version": 2
   },
   "file_extension": ".py",
   "mimetype": "text/x-python",
   "name": "python",
   "nbconvert_exporter": "python",
   "pygments_lexer": "ipython2",
   "version": "2.7.6"
  }
 },
 "nbformat": 4,
 "nbformat_minor": 0
}