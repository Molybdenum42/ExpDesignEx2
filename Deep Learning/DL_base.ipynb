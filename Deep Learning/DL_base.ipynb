{
 "cells": [
  {
   "cell_type": "code",
   "execution_count": 16,
   "outputs": [],
   "source": [
    "import numpy as np\n",
    "import pandas as pd\n",
    "\n",
    "from sklearn.model_selection import train_test_split\n",
    "\n",
    "#from keras.preprocessing.text import Tokenizer\n",
    "#from keras.preprocessing.sequence import pad_sequences"
   ],
   "metadata": {
    "collapsed": false,
    "pycharm": {
     "name": "#%%\n"
    }
   }
  },
  {
   "cell_type": "code",
   "execution_count": 10,
   "outputs": [],
   "source": [
    "# load the relevant preprocessed files\n",
    "df = pd.read_csv('../data/twitter_data_DLpreprocessed.csv', encoding='utf-8')\n",
    "df_oversample = pd.read_csv('../data/twitter_data_DLpreprocessed.csv', encoding='utf-8')"
   ],
   "metadata": {
    "collapsed": false,
    "pycharm": {
     "name": "#%%\n"
    }
   }
  },
  {
   "cell_type": "code",
   "execution_count": 13,
   "outputs": [
    {
     "data": {
      "text/plain": "                                                 comment  attack\n0      ['rt', 'another', 'bloody', 'instant', 'restau...       0\n1      ['video', 'peshmerga', 'decimating', 'isis', '...       0\n2      ['oh', 'really', 'instant', 'restaurants', \"th...       0\n3      ['rt', 'good', 'weeks', '#isis', 'new', 'front...       0\n4      ['rt', 'don', '’', 't', 'need', 'femisnsn', 'm...       0\n...                                                  ...     ...\n16085  ['rt', 'i', 'want', 'equal', 'rights', 'still'...       2\n16086  ['rt', 'go', 'ahead', 'call', 'sexist', 'scand...       2\n16087  ['epic', 'always', 'kept', 'plugged', 'in', 'p...       0\n16088  ['think', 'daesh', 'planning', 'second', 'batt...       0\n16089  ['rt', 'skin', 'green', 'colors', 'suit', 'wea...       0\n\n[16090 rows x 2 columns]",
      "text/html": "<div>\n<style scoped>\n    .dataframe tbody tr th:only-of-type {\n        vertical-align: middle;\n    }\n\n    .dataframe tbody tr th {\n        vertical-align: top;\n    }\n\n    .dataframe thead th {\n        text-align: right;\n    }\n</style>\n<table border=\"1\" class=\"dataframe\">\n  <thead>\n    <tr style=\"text-align: right;\">\n      <th></th>\n      <th>comment</th>\n      <th>attack</th>\n    </tr>\n  </thead>\n  <tbody>\n    <tr>\n      <th>0</th>\n      <td>['rt', 'another', 'bloody', 'instant', 'restau...</td>\n      <td>0</td>\n    </tr>\n    <tr>\n      <th>1</th>\n      <td>['video', 'peshmerga', 'decimating', 'isis', '...</td>\n      <td>0</td>\n    </tr>\n    <tr>\n      <th>2</th>\n      <td>['oh', 'really', 'instant', 'restaurants', \"th...</td>\n      <td>0</td>\n    </tr>\n    <tr>\n      <th>3</th>\n      <td>['rt', 'good', 'weeks', '#isis', 'new', 'front...</td>\n      <td>0</td>\n    </tr>\n    <tr>\n      <th>4</th>\n      <td>['rt', 'don', '’', 't', 'need', 'femisnsn', 'm...</td>\n      <td>0</td>\n    </tr>\n    <tr>\n      <th>...</th>\n      <td>...</td>\n      <td>...</td>\n    </tr>\n    <tr>\n      <th>16085</th>\n      <td>['rt', 'i', 'want', 'equal', 'rights', 'still'...</td>\n      <td>2</td>\n    </tr>\n    <tr>\n      <th>16086</th>\n      <td>['rt', 'go', 'ahead', 'call', 'sexist', 'scand...</td>\n      <td>2</td>\n    </tr>\n    <tr>\n      <th>16087</th>\n      <td>['epic', 'always', 'kept', 'plugged', 'in', 'p...</td>\n      <td>0</td>\n    </tr>\n    <tr>\n      <th>16088</th>\n      <td>['think', 'daesh', 'planning', 'second', 'batt...</td>\n      <td>0</td>\n    </tr>\n    <tr>\n      <th>16089</th>\n      <td>['rt', 'skin', 'green', 'colors', 'suit', 'wea...</td>\n      <td>0</td>\n    </tr>\n  </tbody>\n</table>\n<p>16090 rows × 2 columns</p>\n</div>"
     },
     "execution_count": 13,
     "metadata": {},
     "output_type": "execute_result"
    }
   ],
   "source": [
    "df"
   ],
   "metadata": {
    "collapsed": false,
    "pycharm": {
     "name": "#%%\n"
    }
   }
  },
  {
   "cell_type": "code",
   "execution_count": 7,
   "outputs": [],
   "source": [
    "# obtain max document length\n",
    "measurer = np.vectorize(len)\n",
    "length_list = measurer(df.select_dtypes(include=[object]).values)\n",
    "max_document_length = int(np.percentile(length_list,95))"
   ],
   "metadata": {
    "collapsed": false,
    "pycharm": {
     "name": "#%%\n"
    }
   }
  },
  {
   "cell_type": "code",
   "execution_count": 17,
   "outputs": [],
   "source": [
    "# train-test split?\n",
    "\n",
    "X_train, X_test, y_train, y_test = train_test_split(df.comment, df.attack, test_size=0.01, random_state=123)\n",
    "X_plus_train, X_plus_test, y_plus_train, y_plus_test = train_test_split(df_oversample.comment, df_oversample.attack, test_size=0.01, random_state=123)"
   ],
   "metadata": {
    "collapsed": false,
    "pycharm": {
     "name": "#%%\n"
    }
   }
  },
  {
   "cell_type": "code",
   "execution_count": null,
   "outputs": [],
   "source": [
    "tokenizer = Tokenizer(lower=False)\n",
    "tokenizer.fit_on_texts()"
   ],
   "metadata": {
    "collapsed": false,
    "pycharm": {
     "name": "#%%\n"
    }
   }
  },
  {
   "cell_type": "code",
   "execution_count": null,
   "outputs": [],
   "source": [],
   "metadata": {
    "collapsed": false,
    "pycharm": {
     "name": "#%%\n"
    }
   }
  }
 ],
 "metadata": {
  "kernelspec": {
   "display_name": "Python 3",
   "language": "python",
   "name": "python3"
  },
  "language_info": {
   "codemirror_mode": {
    "name": "ipython",
    "version": 2
   },
   "file_extension": ".py",
   "mimetype": "text/x-python",
   "name": "python",
   "nbconvert_exporter": "python",
   "pygments_lexer": "ipython2",
   "version": "2.7.6"
  }
 },
 "nbformat": 4,
 "nbformat_minor": 0
}