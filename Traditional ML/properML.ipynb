{
  "nbformat": 4,
  "nbformat_minor": 0,
  "metadata": {
    "colab": {
      "name": "properML.ipynb",
      "provenance": [],
      "collapsed_sections": []
    },
    "kernelspec": {
      "name": "python3",
      "display_name": "Python 3"
    },
    "language_info": {
      "name": "python"
    }
  },
  "cells": [
    {
      "cell_type": "code",
      "execution_count": 1,
      "metadata": {
        "id": "cQ2NSsOiCyaZ"
      },
      "outputs": [],
      "source": [
        "%%script false --no-raise-error\n",
        "# run this to install things that aren't on colab by default! (comment out the %% line above)\n",
        "!pip install preprocessor\n",
        "!pip install auto-sklearn==0.14.3"
      ]
    },
    {
      "cell_type": "code",
      "source": [
        "import autosklearn.classification\n",
        "import autosklearn.metrics\n",
        "import pandas as pd\n",
        "import numpy as np\n",
        "import pickle\n",
        "\n",
        "from sklearn.feature_extraction.text import CountVectorizer, TfidfTransformer\n",
        "from sklearn.metrics import f1_score, recall_score, precision_score, accuracy_score, confusion_matrix, classification_report\n",
        "from sklearn.utils import shuffle\n",
        "from sklearn.model_selection import train_test_split\n",
        "import preprocessor as p\n",
        "\n",
        "from sklearn.naive_bayes import MultinomialNB\n",
        "from sklearn.svm import LinearSVC\n",
        "from sklearn.model_selection import KFold\n",
        "from sklearn.linear_model import LogisticRegression\n",
        "\n",
        "import seaborn as sns\n",
        "import matplotlib.pyplot as plt"
      ],
      "metadata": {
        "id": "4QafznjrFoJP"
      },
      "execution_count": 44,
      "outputs": []
    },
    {
      "cell_type": "markdown",
      "source": [
        "data loading functions"
      ],
      "metadata": {
        "id": "YWpAxgkJG4cz"
      }
    },
    {
      "cell_type": "code",
      "source": [
        "basepath = \"/content/drive/MyDrive/DataScienceMaster/Experiment Design/\"\n",
        "\n",
        "# set this true if you want to actually run the AutoML section!\n",
        "run = False"
      ],
      "metadata": {
        "id": "Sjw6EmlIHaLn"
      },
      "execution_count": 5,
      "outputs": []
    },
    {
      "cell_type": "code",
      "source": [
        "twitter_dict = {'racism':1,'sexism':2,'none':0}\n",
        "def load_data(filename):\n",
        "    data = pickle.load(open(filename, 'rb'))\n",
        "    x_text = []\n",
        "    labels = []\n",
        "    for i in range(len(data)):\n",
        "        if(HASH_REMOVE):\n",
        "            x_text.append(p.tokenize((data[i]['text']).encode('utf-8')))\n",
        "        else:\n",
        "            x_text.append(data[i]['text'])\n",
        "        label = data[i]['label']\n",
        "        if N_CLASS == 3:\n",
        "          label = twitter_dict[label]\n",
        "        labels.append(label)\n",
        "    return x_text,labels\n",
        "\n",
        "def get_filename(dataset):\n",
        "    global N_CLASS, HASH_REMOVE\n",
        "    if(dataset==\"twitter\"):\n",
        "        filename = basepath+\"twitter_data.pkl\"\n",
        "        N_CLASS = 3\n",
        "        HASH_REMOVE = False\n",
        "    elif(dataset==\"formspring\"):\n",
        "        N_CLASS = 2\n",
        "        filename = basepath+\"formspring_data.pkl\"\n",
        "        HASH_REMOVE = False\n",
        "    elif(dataset==\"wiki\"):\n",
        "        N_CLASS = 2\n",
        "        filename = basepath+\"wiki_data.pkl\"\n",
        "        HASH_REMOVE = False\n",
        "    return filename\n"
      ],
      "metadata": {
        "id": "5fH4cp7KHtpw"
      },
      "execution_count": 17,
      "outputs": []
    },
    {
      "cell_type": "code",
      "source": [
        "def get_train_test_data(data, labels, datarep=\"char\", split=True):\n",
        "  if datarep == \"char\":\n",
        "    print(\"Using char n-grams based features\")\n",
        "    bow_transformer = CountVectorizer(max_features = 10000, ngram_range = (1,2)).fit(data)\n",
        "    comments_bow = bow_transformer.transform(data)\n",
        "    tfidf_transformer = TfidfTransformer(norm = 'l2').fit(comments_bow)\n",
        "    comments_tfidf = tfidf_transformer.transform(comments_bow)\n",
        "    features = comments_tfidf\n",
        "  elif datarep == \"word\":\n",
        "    print(\"Using word based features\")\n",
        "    bow_transformer = CountVectorizer(analyzer=\"word\",max_features = 10000,stop_words='english').fit(data)\n",
        "    comments_bow = bow_transformer.transform(data)\n",
        "    tfidf_transformer = TfidfTransformer(norm = 'l2').fit(comments_bow)\n",
        "    comments_tfidf = tfidf_transformer.transform(comments_bow)\n",
        "    features = comments_tfidf\n",
        "  else:\n",
        "    print(\"invalid data represenation! Must be either 'char' or 'word'.\")\n",
        "    raise ValueError\n",
        "\n",
        "  if split:\n",
        "    split = min(split, 1-split)\n",
        "    assert split < 1\n",
        "    assert split > 0\n",
        "    train_x, test_x, train_y, test_y = train_test_split(features, labels, test_size=split, random_state=31415, shuffle=True)\n",
        "    return train_x, train_y, test_x, test_y\n",
        "  else:\n",
        "    return features, labels\n",
        "\n",
        "def eval_model(model, x_test, y_test):\n",
        "  y_pred = model.predict(x_test)\n",
        "  y_test = np.array([int(x) for x in y_test])\n",
        "  y_pred = np.array([int(x) for x in y_pred])\n",
        "  return np.array([f1_score(y_test, y_pred, average=None)[1:]])\n"
      ],
      "metadata": {
        "id": "KXOKTJOALMxO"
      },
      "execution_count": 15,
      "outputs": []
    },
    {
      "cell_type": "code",
      "source": [
        "# do auto-ml!\n",
        "\n",
        "def get_model(train_x, train_y, time_limit=20*60): \n",
        "  automl = autosklearn.classification.AutoSklearnClassifier(\n",
        "      time_left_for_this_task = time_limit,\n",
        "      per_run_time_limit = time_limit//4,\n",
        "      memory_limit = 6000,\n",
        "      metric=autosklearn.metrics.f1_macro,\n",
        "      exclude = {'classifier':[\"mlp\"]},\n",
        "      ensemble_size = 1,\n",
        "      n_jobs = -1      \n",
        "  )\n",
        "  automl.fit(train_x, train_y)\n",
        "  return automl"
      ],
      "metadata": {
        "id": "MlnMKHyxQveH"
      },
      "execution_count": null,
      "outputs": []
    },
    {
      "cell_type": "code",
      "source": [
        "results_char = {}"
      ],
      "metadata": {
        "id": "1bAaJDHaSMbu"
      },
      "execution_count": null,
      "outputs": []
    },
    {
      "cell_type": "code",
      "source": [
        "\n",
        "data, labels = load_data(get_filename(\"wiki\"))\n",
        "x_train, y_train, x_test, y_test = get_train_test_data(data, labels, datarep=\"char\")\n",
        "print(np.shape(x_train), np.shape(y_train))"
      ],
      "metadata": {
        "colab": {
          "base_uri": "https://localhost:8080/"
        },
        "id": "e_7u3xOZL5-c",
        "outputId": "5405ad20-58ad-4448-bc68-79af05544f40"
      },
      "execution_count": null,
      "outputs": [
        {
          "output_type": "stream",
          "name": "stdout",
          "text": [
            "Using char n-grams based features\n",
            "(92691, 10000) (92691,)\n"
          ]
        }
      ]
    },
    {
      "cell_type": "code",
      "source": [
        "data, labels = load_data(get_filename(\"twitter\"))\n",
        "x_train, y_train, x_test, y_test = get_train_test_data(data, labels, datarep=\"char\")\n",
        "print(np.shape(x_train), np.shape(y_train))"
      ],
      "metadata": {
        "colab": {
          "base_uri": "https://localhost:8080/"
        },
        "id": "trK52RIyMNXc",
        "outputId": "23d78c2e-f372-41d9-8a22-8d00012795fb"
      },
      "execution_count": null,
      "outputs": [
        {
          "output_type": "stream",
          "name": "stdout",
          "text": [
            "Using char n-grams based features\n",
            "(12872, 10000) (12872,)\n"
          ]
        }
      ]
    },
    {
      "cell_type": "code",
      "source": [
        "data, labels = load_data(get_filename(\"formspring\"))\n",
        "x_train, y_train, x_test, y_test = get_train_test_data(data, labels, datarep=\"char\")\n",
        "print(np.shape(x_train), np.shape(y_train))"
      ],
      "metadata": {
        "colab": {
          "base_uri": "https://localhost:8080/"
        },
        "id": "WBeuw1ohMNhv",
        "outputId": "b7be3f6e-304a-4eb0-c5fe-862cf7cd7a40"
      },
      "execution_count": null,
      "outputs": [
        {
          "output_type": "stream",
          "name": "stdout",
          "text": [
            "Using char n-grams based features\n",
            "(10218, 10000) (10218,)\n"
          ]
        }
      ]
    },
    {
      "cell_type": "code",
      "source": [
        "if run:\n",
        "  for dataset in [\"formspring\", \"twitter\", \"wiki\"]:\n",
        "    data, labels = load_data(get_filename(dataset))\n",
        "    print(\"got {} data\".format(dataset))\n",
        "    x_train, y_train, x_test, y_test = get_train_test_data(data, labels, datarep=\"char\")\n",
        "    model = get_model(x_train, y_train)\n",
        "    results = eval_model(model, x_test, y_test)\n",
        "    results_char[dataset] = {\"scores\":results, \"model\":model}\n"
      ],
      "metadata": {
        "id": "hcL_fqDusplq"
      },
      "execution_count": null,
      "outputs": []
    },
    {
      "cell_type": "code",
      "source": [
        "if run:\n",
        "  with open(basepath+\"results_tradml_charrepr.pkl\", \"wb\") as f:\n",
        "    pickle.dump(results_char, f, pickle.HIGHEST_PROTOCOL)\n",
        "else:\n",
        "  results_char = pickle.load(open(basepath+\"results_tradml_charrepr.pkl\", \"rb\"))"
      ],
      "metadata": {
        "id": "21zz1xM_RRlB"
      },
      "execution_count": 6,
      "outputs": []
    },
    {
      "cell_type": "code",
      "source": [
        "results_word = {}"
      ],
      "metadata": {
        "id": "AI5FNcxOSLcU"
      },
      "execution_count": 7,
      "outputs": []
    },
    {
      "cell_type": "code",
      "source": [
        "if run:\n",
        "  for dataset in [\"formspring\", \"twitter\", \"wiki\"]:\n",
        "    data, labels = load_data(get_filename(dataset))\n",
        "    print(\"got {} data\".format(dataset))\n",
        "    x_train, y_train, x_test, y_test = get_train_test_data(data, labels, datarep=\"word\")\n",
        "    model = get_model(x_train, y_train)\n",
        "    results = eval_model(model, x_test, y_test)\n",
        "    results_word[dataset] = {\"scores\":results, \"model\":model}"
      ],
      "metadata": {
        "id": "A9g3pZCqxmkj"
      },
      "execution_count": 8,
      "outputs": []
    },
    {
      "cell_type": "code",
      "source": [
        "if run:\n",
        "  with open(basepath+\"results_tradml_wordrepr.pkl\",\"wb\") as f:\n",
        "    pickle.dump(results_word, f, pickle.HIGHEST_PROTOCOL)\n",
        "else:\n",
        "  results_word = pickle.load(open(basepath+\"results_tradml_wordrepr.pkl\", \"rb\"))"
      ],
      "metadata": {
        "id": "FwGHXZ7QPAb0"
      },
      "execution_count": 11,
      "outputs": []
    },
    {
      "cell_type": "code",
      "source": [
        "results_char"
      ],
      "metadata": {
        "colab": {
          "base_uri": "https://localhost:8080/"
        },
        "id": "m2zNY6kWTIJZ",
        "outputId": "55895b7b-ab0f-4a38-b5cc-9fdd9b4f951f"
      },
      "execution_count": 9,
      "outputs": [
        {
          "output_type": "execute_result",
          "data": {
            "text/plain": [
              "{'formspring': {'model': AutoSklearnClassifier(ensemble_size=1, exclude={'classifier': ['mlp']},\n",
              "                        memory_limit=6000, metric=f1_macro, n_jobs=-1,\n",
              "                        per_run_time_limit=300, time_left_for_this_task=1200),\n",
              "  'scores': array([[0.48201439],\n",
              "         [0.41104294],\n",
              "         [0.44370861]])},\n",
              " 'twitter': {'model': AutoSklearnClassifier(ensemble_size=1, exclude={'classifier': ['mlp']},\n",
              "                        memory_limit=6000, metric=f1_macro, n_jobs=-1,\n",
              "                        per_run_time_limit=300, time_left_for_this_task=1200),\n",
              "  'scores': array([[0.68287037, 0.7210084 ],\n",
              "         [0.78042328, 0.69529984],\n",
              "         [0.72839506, 0.70792079]])},\n",
              " 'wiki': {'model': AutoSklearnClassifier(ensemble_size=1, exclude={'classifier': ['mlp']},\n",
              "                        memory_limit=6000, metric=f1_macro, n_jobs=-1,\n",
              "                        per_run_time_limit=300, time_left_for_this_task=1200),\n",
              "  'scores': array([[0.5620438 ],\n",
              "         [0.80297952],\n",
              "         [0.66124827]])}}"
            ]
          },
          "metadata": {},
          "execution_count": 9
        }
      ]
    },
    {
      "cell_type": "code",
      "source": [
        "results_word"
      ],
      "metadata": {
        "colab": {
          "base_uri": "https://localhost:8080/"
        },
        "id": "bacbBT_y0BrM",
        "outputId": "9ec1ce32-c31f-4f20-fbb9-5a817cda815e"
      },
      "execution_count": 12,
      "outputs": [
        {
          "output_type": "execute_result",
          "data": {
            "text/plain": [
              "{'formspring': {'model': AutoSklearnClassifier(ensemble_size=1, exclude={'classifier': ['mlp']},\n",
              "                        memory_limit=6000, metric=f1_macro, n_jobs=-1,\n",
              "                        per_run_time_limit=300, time_left_for_this_task=1200),\n",
              "  'scores': array([[0.35950413],\n",
              "         [0.53374233],\n",
              "         [0.42962963]])},\n",
              " 'twitter': {'model': AutoSklearnClassifier(ensemble_size=1, exclude={'classifier': ['mlp']},\n",
              "                        memory_limit=6000, metric=f1_macro, n_jobs=-1,\n",
              "                        per_run_time_limit=300, time_left_for_this_task=1200),\n",
              "  'scores': array([[0.72922252, 0.81150794],\n",
              "         [0.71957672, 0.66288493],\n",
              "         [0.72436751, 0.72970562]])},\n",
              " 'wiki': {'model': AutoSklearnClassifier(ensemble_size=1, exclude={'classifier': ['mlp']},\n",
              "                        memory_limit=6000, metric=f1_macro, n_jobs=-1,\n",
              "                        per_run_time_limit=300, time_left_for_this_task=1200),\n",
              "  'scores': array([[0.54405941],\n",
              "         [0.81862197],\n",
              "         [0.6536803 ]])}}"
            ]
          },
          "metadata": {},
          "execution_count": 12
        }
      ]
    },
    {
      "cell_type": "code",
      "source": [
        "for ds in results_char:\n",
        "  print(\"char representation\")\n",
        "  f1 = results_char[ds][\"scores\"][-1]\n",
        "  print(ds, f1)\n",
        "print()\n",
        "for ds in results_word:\n",
        "  print(\"word representation\")\n",
        "  f1 = results_word[ds][\"scores\"][-1]\n",
        "  print(ds, f1)"
      ],
      "metadata": {
        "colab": {
          "base_uri": "https://localhost:8080/"
        },
        "id": "wIApNB13TovX",
        "outputId": "94d8ec75-f24a-4124-cc7c-8c72592cdbc6"
      },
      "execution_count": null,
      "outputs": [
        {
          "output_type": "stream",
          "name": "stdout",
          "text": [
            "char representation\n",
            "formspring [0.44370861]\n",
            "char representation\n",
            "twitter [0.72839506 0.70792079]\n",
            "char representation\n",
            "wiki [0.66124827]\n",
            "\n",
            "word representation\n",
            "formspring [0.42962963]\n",
            "word representation\n",
            "twitter [0.72436751 0.72970562]\n",
            "word representation\n",
            "wiki [0.6536803]\n"
          ]
        }
      ]
    },
    {
      "cell_type": "code",
      "source": [
        "def cv_model(X, y, model):\n",
        "  X,y = shuffle(X, y, random_state=42)\n",
        "  kf = KFold(n_splits=10)\n",
        "  scores = []\n",
        "  for train_index, test_index in kf.split(X):\n",
        "    y = np.asarray(y)\n",
        "    X_train, X_test = X[train_index], X[test_index]\n",
        "    y_train, y_test = y[train_index], y[test_index]\n",
        "    model.refit(X_train,y_train)\n",
        "    y_pred = model.predict(X_test)\n",
        "    curr_scores = eval_model(model, X_test, y_test)\n",
        "    scores.append(np.hstack(curr_scores))\n",
        "  return scores"
      ],
      "metadata": {
        "id": "yrkvyXisYjX-"
      },
      "execution_count": null,
      "outputs": []
    },
    {
      "cell_type": "code",
      "source": [
        "scoredict = {}\n",
        "\n",
        "for n,resultsdict in enumerate([results_char, results_word]):\n",
        "  repr = \"none\"\n",
        "  if n == 0:\n",
        "    repr = \"char\"\n",
        "  else:\n",
        "    repr = \"word\"\n",
        "  scoredict[repr] = {}\n",
        "  for ds in resultsdict:\n",
        "    orig_f1 = resultsdict[ds][\"scores\"][-1]\n",
        "    model = resultsdict[ds][\"model\"]\n",
        "    modeltype = model.leaderboard()[\"type\"].values[0]\n",
        "    print(\"training {} model on {} data, original test set score: {}\".format(modeltype, ds, [round(x, 3) for x in orig_f1]))\n",
        "\n",
        "    data, labels = load_data(get_filename(ds))\n",
        "    features, labels = get_train_test_data(data, labels, datarep=repr, split=False)\n",
        "    scores = cv_model(features, labels, model)\n",
        "    avgscore = np.mean(scores, axis=0)\n",
        "    print(\"Average CV score: \",np.round(avgscore,3))\n",
        "    if ds != \"twitter\":\n",
        "      scoredict[repr][ds] = {\"model\":modeltype, \"cv_f1score\":avgscore}\n",
        "    else:\n",
        "      scoredict[repr][ds] = {\"model\":modeltype, \"cv_f1score_class1\":avgscore[0], \"cv_f1score_class2\":avgscore[1]}\n",
        "  print()"
      ],
      "metadata": {
        "colab": {
          "base_uri": "https://localhost:8080/"
        },
        "id": "vpfCJEbbVuXf",
        "outputId": "66833ffe-bc9f-49e3-ea68-6e834944a1da"
      },
      "execution_count": null,
      "outputs": [
        {
          "output_type": "stream",
          "name": "stdout",
          "text": [
            "training extra_trees model on formspring data, original test set score: [0.444]\n",
            "Using char n-grams based features\n",
            "Average CV score:  [0.488]\n",
            "training sgd model on twitter data, original test set score: [0.728, 0.708]\n",
            "Using char n-grams based features\n",
            "Average CV score:  [0.731 0.724]\n",
            "training sgd model on wiki data, original test set score: [0.661]\n",
            "Using char n-grams based features\n",
            "Average CV score:  [0.662]\n",
            "\n",
            "training extra_trees model on formspring data, original test set score: [0.43]\n",
            "Using word based features\n",
            "Average CV score:  [0.454]\n",
            "training random_forest model on twitter data, original test set score: [0.724, 0.73]\n",
            "Using word based features\n",
            "Average CV score:  [0.756 0.739]\n",
            "training sgd model on wiki data, original test set score: [0.654]\n",
            "Using word based features\n",
            "Average CV score:  [0.654]\n",
            "\n"
          ]
        }
      ]
    },
    {
      "cell_type": "code",
      "source": [
        "pickle.dump(scoredict, open(basepath+\"cv_results.pkl\", \"wb\"))"
      ],
      "metadata": {
        "id": "mL_BQ4z-9Tfz"
      },
      "execution_count": null,
      "outputs": []
    },
    {
      "cell_type": "code",
      "source": [
        "def indiv_eval(model, X_test, y_test, target_names=['Normal', 'Cyberbullying']):\n",
        "    preds = model.predict(X_test)\n",
        "    preds = list(preds)\n",
        "    print(classification_report(y_test, preds))\n",
        "\n",
        "    plt.figure()\n",
        "    sns.heatmap(confusion_matrix(y_test, preds, normalize='true'), fmt='.2%', annot=True ,linewidths=.5,cmap='YlOrRd', annot_kws={\"fontsize\":10}, yticklabels=target_names, xticklabels=target_names)\n",
        "    plt.xticks(rotation=45, ha='right')\n",
        "\n",
        "    plt.show()\n",
        "\n",
        "    return preds"
      ],
      "metadata": {
        "id": "hBcLLj3-375h"
      },
      "execution_count": 42,
      "outputs": []
    },
    {
      "cell_type": "code",
      "source": [
        "resultdict = {}\n",
        "for repr in [\"char\", \"word\"]:\n",
        "  for ds in [\"formspring\", \"twitter\", \"wiki\"]:\n",
        "    print(\"\\n{} for {} dataset\\n\".format(repr, ds))\n",
        "    data, labels = load_data(get_filename(ds))\n",
        "    x_train, y_train, x_test, y_test = get_train_test_data(data, labels, datarep=repr, split=0.2)\n",
        "    if repr == \"char\":\n",
        "      model = results_char[ds][\"model\"]\n",
        "    else:\n",
        "      model = results_word[ds][\"model\"]\n",
        "    if ds == \"twitter\":\n",
        "      labels = [\"Normal\", \"Sexism\", \"Racism\"]\n",
        "    else:\n",
        "      labels = [\"Normal\", \"Cyberbullying\"]\n",
        "    results = indiv_eval(model, x_test, y_test, labels)\n",
        "    resultdict[(ds, repr)] = results"
      ],
      "metadata": {
        "colab": {
          "base_uri": "https://localhost:8080/",
          "height": 1000
        },
        "id": "BTanOrNa4GxJ",
        "outputId": "c6dcf2f0-7799-4765-c8b1-15e9f2bf6ae5"
      },
      "execution_count": 49,
      "outputs": [
        {
          "output_type": "stream",
          "name": "stdout",
          "text": [
            "\n",
            "char for formspring dataset\n",
            "\n",
            "Using char n-grams based features\n",
            "              precision    recall  f1-score   support\n",
            "\n",
            "           0       0.96      0.97      0.97      2392\n",
            "           1       0.48      0.41      0.44       163\n",
            "\n",
            "    accuracy                           0.93      2555\n",
            "   macro avg       0.72      0.69      0.70      2555\n",
            "weighted avg       0.93      0.93      0.93      2555\n",
            "\n"
          ]
        },
        {
          "output_type": "display_data",
          "data": {
            "image/png": "[encoded data removed]",
            "text/plain": [
              "<Figure size 432x288 with 2 Axes>"
            ]
          },
          "metadata": {
            "needs_background": "light"
          }
        },
        {
          "output_type": "stream",
          "name": "stdout",
          "text": [
            "\n",
            "char for twitter dataset\n",
            "\n",
            "Using char n-grams based features\n",
            "              precision    recall  f1-score   support\n",
            "\n",
            "           0       0.88      0.87      0.88      2223\n",
            "           1       0.68      0.78      0.73       378\n",
            "           2       0.72      0.70      0.71       617\n",
            "\n",
            "    accuracy                           0.83      3218\n",
            "   macro avg       0.76      0.78      0.77      3218\n",
            "weighted avg       0.83      0.83      0.83      3218\n",
            "\n"
          ]
        },
        {
          "output_type": "display_data",
          "data": {
            "image/png": "[encoded data removed]",
            "text/plain": [
              "<Figure size 432x288 with 2 Axes>"
            ]
          },
          "metadata": {
            "needs_background": "light"
          }
        },
        {
          "output_type": "stream",
          "name": "stdout",
          "text": [
            "\n",
            "char for wiki dataset\n",
            "\n",
            "Using char n-grams based features\n",
            "              precision    recall  f1-score   support\n",
            "\n",
            "           0       0.97      0.92      0.94     20488\n",
            "           1       0.56      0.80      0.66      2685\n",
            "\n",
            "    accuracy                           0.90     23173\n",
            "   macro avg       0.77      0.86      0.80     23173\n",
            "weighted avg       0.93      0.90      0.91     23173\n",
            "\n"
          ]
        },
        {
          "output_type": "display_data",
          "data": {
            "image/png": "[encoded data removed]",
            "text/plain": [
              "<Figure size 432x288 with 2 Axes>"
            ]
          },
          "metadata": {
            "needs_background": "light"
          }
        },
        {
          "output_type": "stream",
          "name": "stdout",
          "text": [
            "\n",
            "word for formspring dataset\n",
            "\n",
            "Using word based features\n",
            "              precision    recall  f1-score   support\n",
            "\n",
            "           0       0.97      0.94      0.95      2392\n",
            "           1       0.36      0.53      0.43       163\n",
            "\n",
            "    accuracy                           0.91      2555\n",
            "   macro avg       0.66      0.73      0.69      2555\n",
            "weighted avg       0.93      0.91      0.92      2555\n",
            "\n"
          ]
        },
        {
          "output_type": "display_data",
          "data": {
            "image/png": "[encoded data removed]",
            "text/plain": [
              "<Figure size 432x288 with 2 Axes>"
            ]
          },
          "metadata": {
            "needs_background": "light"
          }
        },
        {
          "output_type": "stream",
          "name": "stdout",
          "text": [
            "\n",
            "word for twitter dataset\n",
            "\n",
            "Using word based features\n",
            "              precision    recall  f1-score   support\n",
            "\n",
            "           0       0.87      0.91      0.89      2223\n",
            "           1       0.73      0.72      0.72       378\n",
            "           2       0.81      0.66      0.73       617\n",
            "\n",
            "    accuracy                           0.84      3218\n",
            "   macro avg       0.80      0.77      0.78      3218\n",
            "weighted avg       0.84      0.84      0.84      3218\n",
            "\n"
          ]
        },
        {
          "output_type": "display_data",
          "data": {
            "image/png": "[encoded data removed]",
            "text/plain": [
              "<Figure size 432x288 with 2 Axes>"
            ]
          },
          "metadata": {
            "needs_background": "light"
          }
        },
        {
          "output_type": "stream",
          "name": "stdout",
          "text": [
            "\n",
            "word for wiki dataset\n",
            "\n",
            "Using word based features\n",
            "              precision    recall  f1-score   support\n",
            "\n",
            "           0       0.97      0.91      0.94     20488\n",
            "           1       0.54      0.82      0.65      2685\n",
            "\n",
            "    accuracy                           0.90     23173\n",
            "   macro avg       0.76      0.86      0.80     23173\n",
            "weighted avg       0.92      0.90      0.91     23173\n",
            "\n"
          ]
        },
        {
          "output_type": "display_data",
          "data": {
            "image/png": "[encoded data removed]",
            "text/plain": [
              "<Figure size 432x288 with 2 Axes>"
            ]
          },
          "metadata": {
            "needs_background": "light"
          }
        }
      ]
    },
    {
      "cell_type": "code",
      "source": [
        "pickle.dump(resultdict, open(basepath+\"predictions_per_model.pkl\", \"wb\"))"
      ],
      "metadata": {
        "id": "8h-DmeCw-7MH"
      },
      "execution_count": 51,
      "outputs": []
    }
  ]
}