{
 "cells": [
  {
   "cell_type": "code",
   "execution_count": 7,
   "id": "e4ca1fea-86d9-4e99-8f8d-3c4f87ec5a92",
   "metadata": {},
   "outputs": [],
   "source": [
    "import numpy as np\n",
    "import pandas as pd\n",
    "from sklearn.naive_bayes import MultinomialNB\n",
    "from sklearn.svm import LinearSVC\n",
    "from sklearn.linear_model import LogisticRegression\n",
    "from sklearn.ensemble import RandomForestClassifier\n",
    "from sklearn.feature_extraction.text import CountVectorizer, TfidfTransformer\n",
    "from sklearn.model_selection import KFold\n",
    "from sklearn.metrics import f1_score"
   ]
  },
  {
   "cell_type": "code",
   "execution_count": 8,
   "id": "6c4c0b04-9707-4fbb-93a4-6b57eb328eb6",
   "metadata": {},
   "outputs": [],
   "source": [
    "def get_data(path, id_col):\n",
    "    \n",
    "    data = pd.read_csv(path, index_col = id_col)\n",
    "    x_text = data['comment'].fillna(\"\").values\n",
    "    labels = data['attack'].values\n",
    "    return x_text, labels"
   ]
  },
  {
   "cell_type": "code",
   "execution_count": 10,
   "id": "4ac93f5d-2d6d-4365-8cff-3f1570ba358e",
   "metadata": {},
   "outputs": [],
   "source": [
    "path = '../data/formspring_data_preprocessed.csv'\n",
    "id_col = 'userid'\n",
    "x_text, labels = get_data(path, id_col)"
   ]
  },
  {
   "cell_type": "code",
   "execution_count": 26,
   "id": "632bc325-32f5-41a9-a2e6-98d4253c0923",
   "metadata": {},
   "outputs": [],
   "source": [
    "representations = [\"character n-grams\", \"word unigrams\"]\n",
    "models = [\"lr\", \"svm\", \"rf\", \"nb\"]\n",
    "n_folds = 10"
   ]
  },
  {
   "cell_type": "code",
   "execution_count": 27,
   "id": "8c3cc8a5-6ef8-4a2a-8c09-51e020349238",
   "metadata": {},
   "outputs": [],
   "source": [
    "def get_model(name):\n",
    "    if name == \"lr\":\n",
    "        model = LogisticRegression()\n",
    "    elif name == \"svm\":\n",
    "        model = LinearSVC()\n",
    "    elif name == \"rf\":\n",
    "        model = RandomForestClassifier(n_jobs=-1)\n",
    "    elif name == \"nb\":\n",
    "        model = MultinomialNB()\n",
    "    else:\n",
    "        return None\n",
    "    return model"
   ]
  },
  {
   "cell_type": "code",
   "execution_count": 28,
   "id": "0e90adb2-2424-41b0-9fce-fce9e70dbffd",
   "metadata": {},
   "outputs": [],
   "source": [
    "def train_eval(modelname, features, labels):\n",
    "    model = get_model(modelname)\n",
    "    kfoldcv = KFold(n_splits = n_folds)\n",
    "    scores = []\n",
    "    n = 0\n",
    "    for train_index, test_index in kfoldcv.split(features):\n",
    "        n += 1\n",
    "        print(n)\n",
    "        X_train, X_test = features[train_index], features[test_index]\n",
    "        y_train, y_test = labels[train_index], labels[test_index]\n",
    "        model.fit(X=X_train, y=y_train)\n",
    "        y_pred = model.predict(X_test)\n",
    "        f1 = f1_score(y_test, y_pred)\n",
    "        scores.append(f1)\n",
    "    return np.mean(scores)"
   ]
  },
  {
   "cell_type": "code",
   "execution_count": 30,
   "id": "6e016160-3f78-47aa-9e6f-f62f76881a70",
   "metadata": {},
   "outputs": [
    {
     "name": "stdout",
     "output_type": "stream",
     "text": [
      "character n-grams lr\n",
      "1\n",
      "2\n",
      "3\n",
      "4\n",
      "5\n",
      "6\n",
      "7\n",
      "8\n",
      "9\n",
      "10\n",
      "character n-grams svm\n",
      "1\n",
      "2\n",
      "3\n",
      "4\n",
      "5\n",
      "6\n",
      "7\n",
      "8\n",
      "9\n",
      "10\n",
      "character n-grams rf\n",
      "1\n",
      "2\n",
      "3\n",
      "4\n",
      "5\n",
      "6\n",
      "7\n",
      "8\n",
      "9\n",
      "10\n",
      "character n-grams nb\n",
      "1\n",
      "2\n",
      "3\n",
      "4\n",
      "5\n",
      "6\n",
      "7\n",
      "8\n",
      "9\n",
      "10\n",
      "word unigrams lr\n",
      "1\n",
      "2\n",
      "3\n",
      "4\n",
      "5\n",
      "6\n",
      "7\n",
      "8\n",
      "9\n",
      "10\n",
      "word unigrams svm\n",
      "1\n",
      "2\n",
      "3\n",
      "4\n",
      "5\n",
      "6\n",
      "7\n",
      "8\n",
      "9\n",
      "10\n",
      "word unigrams rf\n",
      "1\n",
      "2\n",
      "3\n",
      "4\n",
      "5\n",
      "6\n",
      "7\n",
      "8\n",
      "9\n",
      "10\n",
      "word unigrams nb\n",
      "1\n",
      "2\n",
      "3\n",
      "4\n",
      "5\n",
      "6\n",
      "7\n",
      "8\n",
      "9\n",
      "10\n"
     ]
    }
   ],
   "source": [
    "results = []\n",
    "\n",
    "for rep in representations:\n",
    "    if rep == \"word unigrams\":\n",
    "        transformer = CountVectorizer(analyzer=\"word\", stop_words=\"english\")\n",
    "    else:\n",
    "        transformer = CountVectorizer(analyzer = \"char\", ngram_range=(1,2))\n",
    "        \n",
    "    count_textdata = transformer.fit_transform(x_text)\n",
    "    freq_transfomer = TfidfTransformer()\n",
    "    freq_textdata = freq_transfomer.fit_transform(count_textdata)\n",
    "    features = freq_textdata\n",
    "\n",
    "    scores = []\n",
    "    for modelname in models:\n",
    "        print(rep, modelname)\n",
    "        meanf1 = train_eval(modelname, features, labels)\n",
    "        scores.append(meanf1)\n",
    "\n",
    "    results.append(pd.Series(scores, index=models))\n",
    "\n",
    "df = pd.concat(results, axis=0, keys=representations)"
   ]
  },
  {
   "cell_type": "code",
   "execution_count": 31,
   "id": "7cc34a24-0203-4754-bd12-384375aa681b",
   "metadata": {},
   "outputs": [
    {
     "data": {
      "text/plain": [
       "character n-grams  lr     0.061991\n",
       "                   svm    0.145293\n",
       "                   rf     0.006040\n",
       "                   nb     0.009103\n",
       "word unigrams      lr     0.124307\n",
       "                   svm    0.293884\n",
       "                   rf     0.076190\n",
       "                   nb     0.001183\n",
       "dtype: float64"
      ]
     },
     "execution_count": 31,
     "metadata": {},
     "output_type": "execute_result"
    }
   ],
   "source": [
    "df"
   ]
  },
  {
   "cell_type": "code",
   "execution_count": null,
   "id": "bfbf3bc1-77fa-48ea-a0b8-63de6a2929d1",
   "metadata": {},
   "outputs": [],
   "source": [
    "df.name = \"F1_Formspring\"\n",
    "df.to_frame().to_csv(\"results_wiki.csv\", index_label=[\"processing\", \"model\"])"
   ]
  }
 ],
 "metadata": {
  "kernelspec": {
   "display_name": "Python 3 (ipykernel)",
   "language": "python",
   "name": "python3"
  },
  "language_info": {
   "codemirror_mode": {
    "name": "ipython",
    "version": 3
   },
   "file_extension": ".py",
   "mimetype": "text/x-python",
   "name": "python",
   "nbconvert_exporter": "python",
   "pygments_lexer": "ipython3",
   "version": "3.9.7"
  }
 },
 "nbformat": 4,
 "nbformat_minor": 5
}
